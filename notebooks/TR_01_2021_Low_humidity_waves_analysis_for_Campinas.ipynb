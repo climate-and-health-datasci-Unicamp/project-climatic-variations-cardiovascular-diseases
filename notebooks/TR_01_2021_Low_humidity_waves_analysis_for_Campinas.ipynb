{
  "nbformat": 4,
  "nbformat_minor": 0,
  "metadata": {
    "colab": {
      "name": "TR 01/2021 Low humidity waves analysis for Campinas.ipynb",
      "provenance": [],
      "collapsed_sections": [
        "P8sOJhpSoVNA",
        "c0GAFZDptVFc",
        "ZCSJG1_TtruN",
        "a2QDtGqiwhWj",
        "H6yRfTI0wtR6",
        "LqX34vEVwuE7",
        "oYQfl1qQzUlz",
        "nadAHiD3zqhL",
        "KLdSFXmi0wU3",
        "gd_KFY1_3H0I",
        "lGWKPjG_4gSN",
        "21ROTxNp5gf9",
        "nq5olezf6cQq",
        "W1jY1zh68ZnV",
        "e04T3dsb8o5U",
        "p7VMY6dc82UR",
        "uRFePSYDYV0i",
        "x8kxOLvuh8Qy",
        "e4N6h5WqiJek",
        "djVwxdtNiJez",
        "NuVF2HqciJe7",
        "D29BePpCiJe_",
        "4NXfAAT7Yuad",
        "n8z33oRulVTz",
        "TE1u0t9kl3jO"
      ]
    },
    "kernelspec": {
      "name": "python3",
      "display_name": "Python 3"
    }
  },
  "cells": [
    {
      "cell_type": "markdown",
      "metadata": {
        "id": "xLM_amNfbvbG"
      },
      "source": [
        "# **TR_2021/01 - Technical report: Low humidity waves analysis for Campinas**\n",
        "\n",
        "\n",
        "|Technical Report ID  |2021/01|\n",
        "|--|--|\n",
        "| Title |Low humidity waves: analysis for Campinas|\n",
        "| Authors | Júlia De Lázari, Paula Dornhofer|\n",
        "| Creation Date| 2021-01|\n",
        "\n",
        "This report presents an analysis of the occurence of the extreme climatic event of Low humidity waves (LHW). This event is defined by three or more consecutive days with both minimum and maximum humidity below the 10th percentile.\n",
        "\n",
        "## Database Description\n",
        "\n",
        "The database used is from Viracopos (Campinas, SP), that has daily measures of minimum and maximum humidity, used to compute the LHW event. The database has data from 1983 until 2018.\n",
        "\n",
        "An csv with the data already preprocessed was used in this analysis (**viracopos_humidity.csv**).\n",
        "\n",
        "## Summary of analysis\n",
        "\n",
        "The [climatex library](https://github.com/climate-and-health-datasci-Unicamp/py-climate-health-toolbox), developed to compute extreme climate events, was used to compute the waves and its yearly and seasonal metrics.\n",
        "\n",
        "Trend analysis using Cox Stuart, Mann-Kendall and modified Mann-Kendall test were performed for yearly and seasonal metrics.\n",
        "\n",
        "## Results\n",
        "\n",
        "Low humidity waves are increasing in frequency, intensity and duration.\n"
      ]
    },
    {
      "cell_type": "markdown",
      "metadata": {
        "id": "n3NKgM5QTGu7"
      },
      "source": [
        "##**Import libraries**##"
      ]
    },
    {
      "cell_type": "code",
      "metadata": {
        "id": "XW1akefGS4Wu"
      },
      "source": [
        "#loading R magic\n",
        "%load_ext rpy2.ipython"
      ],
      "execution_count": null,
      "outputs": []
    },
    {
      "cell_type": "code",
      "metadata": {
        "id": "l4fZqonzTrgc"
      },
      "source": [
        "#installing R packages\n",
        "%%capture\n",
        "%%R\n",
        "install.packages('trend', repos='http://cran.rstudio.com/')\n",
        "install.packages('modifiedmk',repos='http://cran.rstudio.com/')\n",
        "install.packages('dplyr')\n",
        "install.packages('randtests', repos = 'http://cran.rstudio.com/')"
      ],
      "execution_count": null,
      "outputs": []
    },
    {
      "cell_type": "code",
      "metadata": {
        "id": "c3N5hcluUZS_",
        "colab": {
          "base_uri": "https://localhost:8080/"
        },
        "outputId": "13d1b37d-62c3-436e-d0a0-4aade9f0c8ed"
      },
      "source": [
        "#importing R libraries\n",
        "%%R\n",
        "library(readr)\n",
        "library(modifiedmk)\n",
        "library(trend)\n",
        "library(dplyr)\n",
        "library(randtests)"
      ],
      "execution_count": null,
      "outputs": [
        {
          "output_type": "stream",
          "text": [
            "R[write to console]: \n",
            "Attaching package: ‘dplyr’\n",
            "\n",
            "\n",
            "R[write to console]: The following objects are masked from ‘package:stats’:\n",
            "\n",
            "    filter, lag\n",
            "\n",
            "\n",
            "R[write to console]: The following objects are masked from ‘package:base’:\n",
            "\n",
            "    intersect, setdiff, setequal, union\n",
            "\n",
            "\n"
          ],
          "name": "stderr"
        }
      ]
    },
    {
      "cell_type": "code",
      "metadata": {
        "colab": {
          "base_uri": "https://localhost:8080/"
        },
        "id": "Xxj6CWO3lZ4T",
        "outputId": "a489298d-0da1-49b2-eab6-8c85fe3fd731"
      },
      "source": [
        "! git clone https://github.com/climate-and-health-datasci-Unicamp/py-climate-health-toolbox"
      ],
      "execution_count": 1,
      "outputs": [
        {
          "output_type": "stream",
          "text": [
            "Cloning into 'py-climate-health-toolbox'...\n",
            "remote: Enumerating objects: 138, done.\u001b[K\n",
            "remote: Counting objects: 100% (138/138), done.\u001b[K\n",
            "remote: Compressing objects: 100% (134/134), done.\u001b[K\n",
            "Receiving objects: 100% (138/138), 7.88 MiB | 10.52 MiB/s, done.\n",
            "remote: Total 138 (delta 68), reused 4 (delta 0), pack-reused 0\u001b[K\n",
            "Resolving deltas: 100% (68/68), done.\n"
          ],
          "name": "stdout"
        }
      ]
    },
    {
      "cell_type": "code",
      "metadata": {
        "colab": {
          "base_uri": "https://localhost:8080/"
        },
        "id": "GUJ2z_2TS96X",
        "outputId": "e4430f1a-04f8-48d5-afff-ad70e4a5f59d"
      },
      "source": [
        "#import python libraries\n",
        "import numpy as np\n",
        "import pandas as pd\n",
        "from datetime import datetime, timedelta\n",
        "\n",
        "#plots\n",
        "import matplotlib.pyplot as plt\n",
        "from matplotlib.pyplot import rcParams\n",
        "import seaborn as sns\n",
        "\n",
        "#statsmodel\n",
        "from statsmodels.tsa.stattools import adfuller\n",
        "from statsmodels.tsa.seasonal import seasonal_decompose\n",
        "from statsmodels.graphics.tsaplots import plot_acf\n",
        "from statsmodels.tsa.stattools import acf\n",
        "from scipy.optimize import minimize\n",
        "import statsmodels.tsa.api as smt\n",
        "import statsmodels.api as sm\n",
        "\n",
        "#climatex\n",
        "import sys\n",
        "sys.path.append('/content/py-climate-health-toolbox/climahe')\n",
        "import climatex as tex\n",
        "\n",
        "#files\n",
        "from google.colab import drive\n",
        "from google.colab import files\n",
        "\n",
        "drive.mount('/content/drive')"
      ],
      "execution_count": null,
      "outputs": [
        {
          "output_type": "stream",
          "text": [
            "/usr/local/lib/python3.7/dist-packages/statsmodels/tools/_testing.py:19: FutureWarning: pandas.util.testing is deprecated. Use the functions in the public API at pandas.testing instead.\n",
            "  import pandas.util.testing as tm\n"
          ],
          "name": "stderr"
        },
        {
          "output_type": "stream",
          "text": [
            "Mounted at /content/drive\n"
          ],
          "name": "stdout"
        }
      ]
    },
    {
      "cell_type": "markdown",
      "metadata": {
        "id": "P8sOJhpSoVNA"
      },
      "source": [
        "##**Load data**"
      ]
    },
    {
      "cell_type": "code",
      "metadata": {
        "id": "c4vekKVcoXHJ"
      },
      "source": [
        "#-------------------------------------------------------------------#\n",
        "#                          Load Viracopos data                      #\n",
        "#-------------------------------------------------------------------#\n",
        "\n",
        "#Load humidity dataframe\n",
        "df_vir = pd.read_csv('viracopos_humidity.csv')\n",
        "df_vir = df_vir.drop(columns = {'Unnamed: 0'})\n",
        "df_vir['DATE'] = pd.to_datetime(df_vir['DATE']) #to datetime\n",
        "df_vir['YEAR'] = df_vir['DATE'].dt.strftime('%Y') #create column for year\n",
        "df_vir = df_vir[(df_vir['DATE']<='2016-12-31') | (df_vir['DATE']>='2017-06-01')] #discard inconsistent data"
      ],
      "execution_count": null,
      "outputs": []
    },
    {
      "cell_type": "code",
      "metadata": {
        "colab": {
          "base_uri": "https://localhost:8080/"
        },
        "id": "osam93K1o1gD",
        "outputId": "5a93da15-92ee-4f90-bd50-3e28f37edafc"
      },
      "source": [
        "df_vir.dtypes"
      ],
      "execution_count": null,
      "outputs": [
        {
          "output_type": "execute_result",
          "data": {
            "text/plain": [
              "DATE    datetime64[ns]\n",
              "HMIN             int64\n",
              "HMAX             int64\n",
              "YEAR            object\n",
              "dtype: object"
            ]
          },
          "metadata": {
            "tags": []
          },
          "execution_count": 7
        }
      ]
    },
    {
      "cell_type": "code",
      "metadata": {
        "colab": {
          "base_uri": "https://localhost:8080/"
        },
        "id": "r5ST3LWwo4aC",
        "outputId": "f51e6b79-c38a-4ce8-9531-bf162147ccc0"
      },
      "source": [
        "#complete missing dates\n",
        "df_vir = tex.complete_df(df_vir)\n",
        "#pct of missing data\n",
        "print(f\"Percentage of missing data for minimum humidity: {round(100*len(df_vir[df_vir.HMIN.isnull()])/len(df_vir.HMIN),2)} %\")\n",
        "print(f\"Percentage of missing data for maximum humidity: {round(100*len(df_vir[df_vir.HMAX.isnull()])/len(df_vir.HMAX),2)} %\")"
      ],
      "execution_count": null,
      "outputs": [
        {
          "output_type": "stream",
          "text": [
            "Percentage of missing data for minimum humidity: 3.33 %\n",
            "Percentage of missing data for maximum humidity: 3.33 %\n"
          ],
          "name": "stdout"
        }
      ]
    },
    {
      "cell_type": "markdown",
      "metadata": {
        "id": "GnZZSNmSpwJs"
      },
      "source": [
        "##**Computing waves**\n",
        "\n",
        "Use climatex library to compute low humidity waves and yearly and seasonal metrics.\n",
        "\n",
        "The period from 1983 to 2018 was used as climatic normal (compute percentiles) and database (compute waves and metrics)."
      ]
    },
    {
      "cell_type": "code",
      "metadata": {
        "colab": {
          "base_uri": "https://localhost:8080/"
        },
        "id": "6Zvb9EaxrF3S",
        "outputId": "669270a9-5dbb-460a-beff-5feb0df33022"
      },
      "source": [
        "help(tex.check_LowHumidityWave)"
      ],
      "execution_count": null,
      "outputs": [
        {
          "output_type": "stream",
          "text": [
            "Help on function check_LowHumidityWave in module climatex:\n",
            "\n",
            "check_LowHumidityWave(database, db_columnMAX, db_columnMIN, climatic_normal, pct_columnMAX, pct_columnMIN, db_columnDay365=False, db_complete=False, cn_columnDay365=False, df_pct=None, percentile_value=0.1, window_size=15)\n",
            "    #-------------------------------------------------------------------------------\n",
            "    ## Checks for Low Humidity Waves on the database according to the Climatic Normal\n",
            "    ##\n",
            "    ## ## This function is inspired in Geirinhas et al. 2018 method for thermal waves and adapted\n",
            "    ## for humidity waves. It obtains first a dataframe with the percentiles \n",
            "    ## computed from the Climatic Normal according to the defined window size (df_pct).\n",
            "    ## Then compares it with the database, to check if the maximum and minimum values\n",
            "    ## of humidity are below the corresponding percentile. If they are below the threshold,\n",
            "    ## the column 'below_pct' receives 1. This column is then used to identify if there\n",
            "    ## are 3 or more consecutive  days with extremely low humidity (Low Humidity Wave). \n",
            "    ## The column 'LHW' then receives 1 for the days that are inside of a Low Humidity Wave.\n",
            "    ##\n",
            "    ## Climatic Normal dataframe needs to have at least 'DATE' and 'pct_column'\n",
            "    ## Database dataframe needs to have at least 'DATE' and 'db_column' IF either or\n",
            "    ## one of those dataframes don't have the 'DAY365' column (day of the year\n",
            "    ## column), cn_columnDay365 and/or db_columnDay365 parameters must be False,\n",
            "    ## otherwise True.\n",
            "    ## \n",
            "    ## ATTENTION The column DATE of both dataframes needs to be converted to\n",
            "    ## pandas.datetime and needs to be called DATE\n",
            "    ##\n",
            "    ## If there are missing dates on the database, db_complete parameter must be\n",
            "    ## False, otherwise True\n",
            "    ##\n",
            "    ## In case the df_pct was previously obtained, set df_pct = Dataframe obtained\n",
            "    ## and set climatic_normal and pct_columns to None or any value/dataframe.\n",
            "    ##\n",
            "    ## :param      database:          The database\n",
            "    ## :type       database:          pandas.DataFrame\n",
            "    ## :param      db_columnMAX:      The column of the database with maximum\n",
            "    ##                                values of humidty to be compared with CMX_pct\n",
            "    ## :type       db_columnMAX:      String\n",
            "    ## :param      db_columnMIN:      The column of the database with minimum\n",
            "    ##                                values of humidity to be compared with CMN_pct\n",
            "    ## :type       db_columnMIN:      String\n",
            "    ## :param      climatic_normal:   The climatic normal\n",
            "    ## :type       climatic_normal:   pandas.DataFrame\n",
            "    ## :param      pct_columnMAX:     Name of the column from the climatic normal\n",
            "    ##                                used to calculate the percentile for maximum\n",
            "    ##                                values of humidity\n",
            "    ## :type       pct_columnMAX:     String\n",
            "    ## :param      pct_columnMIN:     Name of the column from the climatic normal\n",
            "    ##                                used to calculate the percentile for minimum\n",
            "    ##                                tvalues of humidity\n",
            "    ## :type       pct_columnMIN:     String\n",
            "    ## :param      db_columnDay365:   Indicates if the database has the Day365/day\n",
            "    ##                                of the year column (db_columnDay365 = True) or\n",
            "    ##                                not (db_columnDay365 = False)\n",
            "    ## :type       db_columnDay365:   Boolean (True or False)\n",
            "    ## :param      db_complete:       Indicates if the database has missing dates\n",
            "    ##                                (db_complete = False) or not (db_complete =\n",
            "    ##                                True)\n",
            "    ## :type       db_complete:       Boolean (True or False)\n",
            "    ## :param      cn_columnDay365:   Indicates if the climatic normal has the\n",
            "    ##                                Day365/day of the year column (cn_columnDay365\n",
            "    ##                                = True) or not (cn_columnDay365 = False)\n",
            "    ## :type       cn_columnDay365:   Boolean (True or False)\n",
            "    ## :param      df_pct:            The df pct - in case the dataframe with\n",
            "    ##                                percentiles was already obtained and is going\n",
            "    ##                                to reused, otherwise set df_pct = None\n",
            "    ##                                (default)\n",
            "    ## :type       df_pct:            pandas.DataFrame\n",
            "    ## :param      percentile_value:  The percentile value (0 to 1.0) - default 0.9\n",
            "    ## :type       percentile_value:  Float\n",
            "    ## :param      window_size:       The size of the window used to calculate the\n",
            "    ##                                percentile - default 15 days\n",
            "    ## :type       window_size:       Integer\n",
            "    ##\n",
            "    ## :returns:   df_checkLHW -> database dataframe including columns 'below_pct'\n",
            "    ##             and 'LHW' df_pct -> dataframe with percentiles for each day of the\n",
            "    ##             year (1 to 365)\n",
            "    ## :rtype:     pandas.DataFrame\n",
            "    ##\n",
            "\n"
          ],
          "name": "stdout"
        }
      ]
    },
    {
      "cell_type": "code",
      "metadata": {
        "id": "L8k55gs2pyGU"
      },
      "source": [
        "df_humidity,df_pct = tex.check_LowHumidityWave(df_vir,'HMAX','HMIN',df_vir,'HMAX','HMIN')"
      ],
      "execution_count": null,
      "outputs": []
    },
    {
      "cell_type": "markdown",
      "metadata": {
        "id": "A1CRQlu0raMi"
      },
      "source": [
        "## **Yearly metrics**"
      ]
    },
    {
      "cell_type": "code",
      "metadata": {
        "colab": {
          "base_uri": "https://localhost:8080/"
        },
        "id": "aMHjVcWIrcZS",
        "outputId": "c286dae0-32f5-4bca-b3bd-f6a382b72456"
      },
      "source": [
        "help(tex.wave_metrics)"
      ],
      "execution_count": null,
      "outputs": [
        {
          "output_type": "stream",
          "text": [
            "Help on function wave_metrics in module climatex:\n",
            "\n",
            "wave_metrics(df_checkW, wave_column, plot=False)\n",
            "    #-------------------------------------------------------------------------------\n",
            "    ## Function to obtain the yearly metrics of a Wave given the database\n",
            "    ## dataframe containing the 'HW'/'CW'/'LPW'/'HPW'/'LHW'/'HHW' column that\n",
            "    ## indicates if a day is inside of a Wave or not (check get_wave function).\n",
            "    ## This function obtains the number of events (HWN/CWN/LPWN/HPWN/LHWN/HHWN),\n",
            "    ## the event with maximum duration (HWD/CWD/LPWD/HPWD/LHWD/HHWD) and the \n",
            "    ## cumulative sum of wave durations (HWF/CWF/LPWF/HPWF/LHWF/HHWF) for each \n",
            "    ## year of the dataframe. These metrics are stored in a dataframe which includes the\n",
            "    ## Wave metrics for each year of the database.\n",
            "    ##\n",
            "    ## It is possible to plot the metrics (plot=True). For a better adjustment of\n",
            "    ## the plots, check function plot_oneMetric.\n",
            "    ##\n",
            "    ## :param      df_checkW:    Database dataframe with the column 'HW' or 'CW' or 'LPW' or \n",
            "    ##                           'HPW' or 'LHW' or 'HHW'\n",
            "    ## :type       df_checkW:    pandas.DataFrame\n",
            "    ## :param      wave_column:  Name of the column containing information about\n",
            "    ##                           Waves (choose 'HW' or 'CW' or 'LPW' or \n",
            "    ##                           'HPW' or 'LHW' or 'HHW')\n",
            "    ## :type       wave_column:  String\n",
            "    ## :param      plot:         If True, function plot_oneMetric is used to plot\n",
            "    ##                           all generated metrics\n",
            "    ## :type       plot:         Boolean (True or False)\n",
            "    ##\n",
            "    ## :returns:   df_waveMetrics - dataframe containing wave metrics for each year of\n",
            "    ##             the database\n",
            "    ## :rtype:     pandas.DataFrame\n",
            "    ##\n",
            "\n"
          ],
          "name": "stdout"
        }
      ]
    },
    {
      "cell_type": "code",
      "metadata": {
        "id": "GLtY0WalqQMB",
        "colab": {
          "base_uri": "https://localhost:8080/",
          "height": 1000
        },
        "outputId": "249501cd-d2c5-4016-ed47-35e0e60f21f4"
      },
      "source": [
        "#get yearly metrics\n",
        "lhw_yearly = tex.wave_metrics(df_humidity,'LHW',True)"
      ],
      "execution_count": null,
      "outputs": [
        {
          "output_type": "display_data",
          "data": {
            "image/png": "[encoded data removed]",
            "text/plain": [
              "<Figure size 800x400 with 1 Axes>"
            ]
          },
          "metadata": {
            "tags": [],
            "needs_background": "light"
          }
        },
        {
          "output_type": "display_data",
          "data": {
            "image/png": "[encoded data removed]",
            "text/plain": [
              "<Figure size 800x400 with 1 Axes>"
            ]
          },
          "metadata": {
            "tags": [],
            "needs_background": "light"
          }
        },
        {
          "output_type": "display_data",
          "data": {
            "image/png": "[encoded data removed]",
            "text/plain": [
              "<Figure size 800x400 with 1 Axes>"
            ]
          },
          "metadata": {
            "tags": [],
            "needs_background": "light"
          }
        }
      ]
    },
    {
      "cell_type": "code",
      "metadata": {
        "id": "fPFMBpY-UH9z",
        "colab": {
          "base_uri": "https://localhost:8080/",
          "height": 1000
        },
        "outputId": "e9557b37-1062-474c-b065-06ffc3d782c3"
      },
      "source": [
        "lhw_yearly"
      ],
      "execution_count": null,
      "outputs": [
        {
          "output_type": "execute_result",
          "data": {
            "text/html": [
              "<div>\n",
              "<style scoped>\n",
              "    .dataframe tbody tr th:only-of-type {\n",
              "        vertical-align: middle;\n",
              "    }\n",
              "\n",
              "    .dataframe tbody tr th {\n",
              "        vertical-align: top;\n",
              "    }\n",
              "\n",
              "    .dataframe thead th {\n",
              "        text-align: right;\n",
              "    }\n",
              "</style>\n",
              "<table border=\"1\" class=\"dataframe\">\n",
              "  <thead>\n",
              "    <tr style=\"text-align: right;\">\n",
              "      <th></th>\n",
              "      <th>LHWN</th>\n",
              "      <th>LHWD</th>\n",
              "      <th>LHWF</th>\n",
              "    </tr>\n",
              "    <tr>\n",
              "      <th>YEAR</th>\n",
              "      <th></th>\n",
              "      <th></th>\n",
              "      <th></th>\n",
              "    </tr>\n",
              "  </thead>\n",
              "  <tbody>\n",
              "    <tr>\n",
              "      <th>1983</th>\n",
              "      <td>0.0</td>\n",
              "      <td>0.0</td>\n",
              "      <td>0.0</td>\n",
              "    </tr>\n",
              "    <tr>\n",
              "      <th>1984</th>\n",
              "      <td>0.0</td>\n",
              "      <td>0.0</td>\n",
              "      <td>0.0</td>\n",
              "    </tr>\n",
              "    <tr>\n",
              "      <th>1985</th>\n",
              "      <td>2.0</td>\n",
              "      <td>5.0</td>\n",
              "      <td>8.0</td>\n",
              "    </tr>\n",
              "    <tr>\n",
              "      <th>1986</th>\n",
              "      <td>0.0</td>\n",
              "      <td>0.0</td>\n",
              "      <td>0.0</td>\n",
              "    </tr>\n",
              "    <tr>\n",
              "      <th>1987</th>\n",
              "      <td>0.0</td>\n",
              "      <td>0.0</td>\n",
              "      <td>0.0</td>\n",
              "    </tr>\n",
              "    <tr>\n",
              "      <th>1988</th>\n",
              "      <td>0.0</td>\n",
              "      <td>0.0</td>\n",
              "      <td>0.0</td>\n",
              "    </tr>\n",
              "    <tr>\n",
              "      <th>1989</th>\n",
              "      <td>0.0</td>\n",
              "      <td>0.0</td>\n",
              "      <td>0.0</td>\n",
              "    </tr>\n",
              "    <tr>\n",
              "      <th>1990</th>\n",
              "      <td>0.0</td>\n",
              "      <td>0.0</td>\n",
              "      <td>0.0</td>\n",
              "    </tr>\n",
              "    <tr>\n",
              "      <th>1991</th>\n",
              "      <td>0.0</td>\n",
              "      <td>0.0</td>\n",
              "      <td>0.0</td>\n",
              "    </tr>\n",
              "    <tr>\n",
              "      <th>1992</th>\n",
              "      <td>0.0</td>\n",
              "      <td>0.0</td>\n",
              "      <td>0.0</td>\n",
              "    </tr>\n",
              "    <tr>\n",
              "      <th>1993</th>\n",
              "      <td>0.0</td>\n",
              "      <td>0.0</td>\n",
              "      <td>0.0</td>\n",
              "    </tr>\n",
              "    <tr>\n",
              "      <th>1994</th>\n",
              "      <td>1.0</td>\n",
              "      <td>3.0</td>\n",
              "      <td>3.0</td>\n",
              "    </tr>\n",
              "    <tr>\n",
              "      <th>1995</th>\n",
              "      <td>3.0</td>\n",
              "      <td>4.0</td>\n",
              "      <td>11.0</td>\n",
              "    </tr>\n",
              "    <tr>\n",
              "      <th>1996</th>\n",
              "      <td>1.0</td>\n",
              "      <td>5.0</td>\n",
              "      <td>5.0</td>\n",
              "    </tr>\n",
              "    <tr>\n",
              "      <th>1997</th>\n",
              "      <td>2.0</td>\n",
              "      <td>3.0</td>\n",
              "      <td>6.0</td>\n",
              "    </tr>\n",
              "    <tr>\n",
              "      <th>1998</th>\n",
              "      <td>0.0</td>\n",
              "      <td>0.0</td>\n",
              "      <td>0.0</td>\n",
              "    </tr>\n",
              "    <tr>\n",
              "      <th>1999</th>\n",
              "      <td>2.0</td>\n",
              "      <td>5.0</td>\n",
              "      <td>8.0</td>\n",
              "    </tr>\n",
              "    <tr>\n",
              "      <th>2000</th>\n",
              "      <td>4.0</td>\n",
              "      <td>4.0</td>\n",
              "      <td>14.0</td>\n",
              "    </tr>\n",
              "    <tr>\n",
              "      <th>2001</th>\n",
              "      <td>0.0</td>\n",
              "      <td>0.0</td>\n",
              "      <td>0.0</td>\n",
              "    </tr>\n",
              "    <tr>\n",
              "      <th>2002</th>\n",
              "      <td>1.0</td>\n",
              "      <td>4.0</td>\n",
              "      <td>4.0</td>\n",
              "    </tr>\n",
              "    <tr>\n",
              "      <th>2003</th>\n",
              "      <td>2.0</td>\n",
              "      <td>4.0</td>\n",
              "      <td>7.0</td>\n",
              "    </tr>\n",
              "    <tr>\n",
              "      <th>2004</th>\n",
              "      <td>0.0</td>\n",
              "      <td>0.0</td>\n",
              "      <td>0.0</td>\n",
              "    </tr>\n",
              "    <tr>\n",
              "      <th>2005</th>\n",
              "      <td>1.0</td>\n",
              "      <td>3.0</td>\n",
              "      <td>3.0</td>\n",
              "    </tr>\n",
              "    <tr>\n",
              "      <th>2006</th>\n",
              "      <td>1.0</td>\n",
              "      <td>7.0</td>\n",
              "      <td>7.0</td>\n",
              "    </tr>\n",
              "    <tr>\n",
              "      <th>2007</th>\n",
              "      <td>1.0</td>\n",
              "      <td>3.0</td>\n",
              "      <td>3.0</td>\n",
              "    </tr>\n",
              "    <tr>\n",
              "      <th>2008</th>\n",
              "      <td>0.0</td>\n",
              "      <td>0.0</td>\n",
              "      <td>0.0</td>\n",
              "    </tr>\n",
              "    <tr>\n",
              "      <th>2009</th>\n",
              "      <td>0.0</td>\n",
              "      <td>0.0</td>\n",
              "      <td>0.0</td>\n",
              "    </tr>\n",
              "    <tr>\n",
              "      <th>2010</th>\n",
              "      <td>1.0</td>\n",
              "      <td>4.0</td>\n",
              "      <td>4.0</td>\n",
              "    </tr>\n",
              "    <tr>\n",
              "      <th>2011</th>\n",
              "      <td>0.0</td>\n",
              "      <td>0.0</td>\n",
              "      <td>0.0</td>\n",
              "    </tr>\n",
              "    <tr>\n",
              "      <th>2012</th>\n",
              "      <td>1.0</td>\n",
              "      <td>5.0</td>\n",
              "      <td>5.0</td>\n",
              "    </tr>\n",
              "    <tr>\n",
              "      <th>2013</th>\n",
              "      <td>0.0</td>\n",
              "      <td>0.0</td>\n",
              "      <td>0.0</td>\n",
              "    </tr>\n",
              "    <tr>\n",
              "      <th>2014</th>\n",
              "      <td>8.0</td>\n",
              "      <td>16.0</td>\n",
              "      <td>45.0</td>\n",
              "    </tr>\n",
              "    <tr>\n",
              "      <th>2015</th>\n",
              "      <td>4.0</td>\n",
              "      <td>11.0</td>\n",
              "      <td>20.0</td>\n",
              "    </tr>\n",
              "    <tr>\n",
              "      <th>2016</th>\n",
              "      <td>5.0</td>\n",
              "      <td>6.0</td>\n",
              "      <td>19.0</td>\n",
              "    </tr>\n",
              "    <tr>\n",
              "      <th>2017</th>\n",
              "      <td>1.0</td>\n",
              "      <td>3.0</td>\n",
              "      <td>3.0</td>\n",
              "    </tr>\n",
              "    <tr>\n",
              "      <th>2018</th>\n",
              "      <td>9.0</td>\n",
              "      <td>7.0</td>\n",
              "      <td>40.0</td>\n",
              "    </tr>\n",
              "  </tbody>\n",
              "</table>\n",
              "</div>"
            ],
            "text/plain": [
              "      LHWN  LHWD  LHWF\n",
              "YEAR                  \n",
              "1983   0.0   0.0   0.0\n",
              "1984   0.0   0.0   0.0\n",
              "1985   2.0   5.0   8.0\n",
              "1986   0.0   0.0   0.0\n",
              "1987   0.0   0.0   0.0\n",
              "1988   0.0   0.0   0.0\n",
              "1989   0.0   0.0   0.0\n",
              "1990   0.0   0.0   0.0\n",
              "1991   0.0   0.0   0.0\n",
              "1992   0.0   0.0   0.0\n",
              "1993   0.0   0.0   0.0\n",
              "1994   1.0   3.0   3.0\n",
              "1995   3.0   4.0  11.0\n",
              "1996   1.0   5.0   5.0\n",
              "1997   2.0   3.0   6.0\n",
              "1998   0.0   0.0   0.0\n",
              "1999   2.0   5.0   8.0\n",
              "2000   4.0   4.0  14.0\n",
              "2001   0.0   0.0   0.0\n",
              "2002   1.0   4.0   4.0\n",
              "2003   2.0   4.0   7.0\n",
              "2004   0.0   0.0   0.0\n",
              "2005   1.0   3.0   3.0\n",
              "2006   1.0   7.0   7.0\n",
              "2007   1.0   3.0   3.0\n",
              "2008   0.0   0.0   0.0\n",
              "2009   0.0   0.0   0.0\n",
              "2010   1.0   4.0   4.0\n",
              "2011   0.0   0.0   0.0\n",
              "2012   1.0   5.0   5.0\n",
              "2013   0.0   0.0   0.0\n",
              "2014   8.0  16.0  45.0\n",
              "2015   4.0  11.0  20.0\n",
              "2016   5.0   6.0  19.0\n",
              "2017   1.0   3.0   3.0\n",
              "2018   9.0   7.0  40.0"
            ]
          },
          "metadata": {
            "tags": []
          },
          "execution_count": 16
        }
      ]
    },
    {
      "cell_type": "markdown",
      "metadata": {
        "id": "ZDrdH_AwPYWB"
      },
      "source": [
        "Descriptive of total time period"
      ]
    },
    {
      "cell_type": "code",
      "metadata": {
        "colab": {
          "base_uri": "https://localhost:8080/",
          "height": 328
        },
        "id": "gcEf59-Gsh96",
        "outputId": "79e79345-878b-4e08-a5de-e3c6a9469fe8"
      },
      "source": [
        "df = lhw_yearly.describe()\n",
        "df.loc['sum'] = lhw_yearly.sum()\n",
        "df"
      ],
      "execution_count": null,
      "outputs": [
        {
          "output_type": "execute_result",
          "data": {
            "text/html": [
              "<div>\n",
              "<style scoped>\n",
              "    .dataframe tbody tr th:only-of-type {\n",
              "        vertical-align: middle;\n",
              "    }\n",
              "\n",
              "    .dataframe tbody tr th {\n",
              "        vertical-align: top;\n",
              "    }\n",
              "\n",
              "    .dataframe thead th {\n",
              "        text-align: right;\n",
              "    }\n",
              "</style>\n",
              "<table border=\"1\" class=\"dataframe\">\n",
              "  <thead>\n",
              "    <tr style=\"text-align: right;\">\n",
              "      <th></th>\n",
              "      <th>LHWN</th>\n",
              "      <th>LHWD</th>\n",
              "      <th>LHWF</th>\n",
              "    </tr>\n",
              "  </thead>\n",
              "  <tbody>\n",
              "    <tr>\n",
              "      <th>count</th>\n",
              "      <td>36.000000</td>\n",
              "      <td>36.000000</td>\n",
              "      <td>36.000000</td>\n",
              "    </tr>\n",
              "    <tr>\n",
              "      <th>mean</th>\n",
              "      <td>1.388889</td>\n",
              "      <td>2.833333</td>\n",
              "      <td>5.972222</td>\n",
              "    </tr>\n",
              "    <tr>\n",
              "      <th>std</th>\n",
              "      <td>2.181451</td>\n",
              "      <td>3.573714</td>\n",
              "      <td>10.418352</td>\n",
              "    </tr>\n",
              "    <tr>\n",
              "      <th>min</th>\n",
              "      <td>0.000000</td>\n",
              "      <td>0.000000</td>\n",
              "      <td>0.000000</td>\n",
              "    </tr>\n",
              "    <tr>\n",
              "      <th>25%</th>\n",
              "      <td>0.000000</td>\n",
              "      <td>0.000000</td>\n",
              "      <td>0.000000</td>\n",
              "    </tr>\n",
              "    <tr>\n",
              "      <th>50%</th>\n",
              "      <td>1.000000</td>\n",
              "      <td>3.000000</td>\n",
              "      <td>3.000000</td>\n",
              "    </tr>\n",
              "    <tr>\n",
              "      <th>75%</th>\n",
              "      <td>2.000000</td>\n",
              "      <td>4.250000</td>\n",
              "      <td>7.000000</td>\n",
              "    </tr>\n",
              "    <tr>\n",
              "      <th>max</th>\n",
              "      <td>9.000000</td>\n",
              "      <td>16.000000</td>\n",
              "      <td>45.000000</td>\n",
              "    </tr>\n",
              "    <tr>\n",
              "      <th>sum</th>\n",
              "      <td>50.000000</td>\n",
              "      <td>102.000000</td>\n",
              "      <td>215.000000</td>\n",
              "    </tr>\n",
              "  </tbody>\n",
              "</table>\n",
              "</div>"
            ],
            "text/plain": [
              "            LHWN        LHWD        LHWF\n",
              "count  36.000000   36.000000   36.000000\n",
              "mean    1.388889    2.833333    5.972222\n",
              "std     2.181451    3.573714   10.418352\n",
              "min     0.000000    0.000000    0.000000\n",
              "25%     0.000000    0.000000    0.000000\n",
              "50%     1.000000    3.000000    3.000000\n",
              "75%     2.000000    4.250000    7.000000\n",
              "max     9.000000   16.000000   45.000000\n",
              "sum    50.000000  102.000000  215.000000"
            ]
          },
          "metadata": {
            "tags": []
          },
          "execution_count": 17
        }
      ]
    },
    {
      "cell_type": "markdown",
      "metadata": {
        "id": "qHkOptpCsPVq"
      },
      "source": [
        "Metrics in the three sub-periods of 12 years"
      ]
    },
    {
      "cell_type": "markdown",
      "metadata": {
        "id": "ONYGxGQ5smmd"
      },
      "source": [
        "**1983-1994**"
      ]
    },
    {
      "cell_type": "code",
      "metadata": {
        "colab": {
          "base_uri": "https://localhost:8080/",
          "height": 328
        },
        "id": "x_vyFMyhsSY7",
        "outputId": "d068869c-fa96-485a-cc66-16b69710a12b"
      },
      "source": [
        "df = lhw_yearly[lhw_yearly.index <= 1994].describe()\n",
        "df.loc['sum'] = lhw_yearly[lhw_yearly.index <= 1994].sum()\n",
        "df"
      ],
      "execution_count": null,
      "outputs": [
        {
          "output_type": "execute_result",
          "data": {
            "text/html": [
              "<div>\n",
              "<style scoped>\n",
              "    .dataframe tbody tr th:only-of-type {\n",
              "        vertical-align: middle;\n",
              "    }\n",
              "\n",
              "    .dataframe tbody tr th {\n",
              "        vertical-align: top;\n",
              "    }\n",
              "\n",
              "    .dataframe thead th {\n",
              "        text-align: right;\n",
              "    }\n",
              "</style>\n",
              "<table border=\"1\" class=\"dataframe\">\n",
              "  <thead>\n",
              "    <tr style=\"text-align: right;\">\n",
              "      <th></th>\n",
              "      <th>LHWN</th>\n",
              "      <th>LHWD</th>\n",
              "      <th>LHWF</th>\n",
              "    </tr>\n",
              "  </thead>\n",
              "  <tbody>\n",
              "    <tr>\n",
              "      <th>count</th>\n",
              "      <td>12.000000</td>\n",
              "      <td>12.000000</td>\n",
              "      <td>12.000000</td>\n",
              "    </tr>\n",
              "    <tr>\n",
              "      <th>mean</th>\n",
              "      <td>0.250000</td>\n",
              "      <td>0.666667</td>\n",
              "      <td>0.916667</td>\n",
              "    </tr>\n",
              "    <tr>\n",
              "      <th>std</th>\n",
              "      <td>0.621582</td>\n",
              "      <td>1.614330</td>\n",
              "      <td>2.391589</td>\n",
              "    </tr>\n",
              "    <tr>\n",
              "      <th>min</th>\n",
              "      <td>0.000000</td>\n",
              "      <td>0.000000</td>\n",
              "      <td>0.000000</td>\n",
              "    </tr>\n",
              "    <tr>\n",
              "      <th>25%</th>\n",
              "      <td>0.000000</td>\n",
              "      <td>0.000000</td>\n",
              "      <td>0.000000</td>\n",
              "    </tr>\n",
              "    <tr>\n",
              "      <th>50%</th>\n",
              "      <td>0.000000</td>\n",
              "      <td>0.000000</td>\n",
              "      <td>0.000000</td>\n",
              "    </tr>\n",
              "    <tr>\n",
              "      <th>75%</th>\n",
              "      <td>0.000000</td>\n",
              "      <td>0.000000</td>\n",
              "      <td>0.000000</td>\n",
              "    </tr>\n",
              "    <tr>\n",
              "      <th>max</th>\n",
              "      <td>2.000000</td>\n",
              "      <td>5.000000</td>\n",
              "      <td>8.000000</td>\n",
              "    </tr>\n",
              "    <tr>\n",
              "      <th>sum</th>\n",
              "      <td>3.000000</td>\n",
              "      <td>8.000000</td>\n",
              "      <td>11.000000</td>\n",
              "    </tr>\n",
              "  </tbody>\n",
              "</table>\n",
              "</div>"
            ],
            "text/plain": [
              "            LHWN       LHWD       LHWF\n",
              "count  12.000000  12.000000  12.000000\n",
              "mean    0.250000   0.666667   0.916667\n",
              "std     0.621582   1.614330   2.391589\n",
              "min     0.000000   0.000000   0.000000\n",
              "25%     0.000000   0.000000   0.000000\n",
              "50%     0.000000   0.000000   0.000000\n",
              "75%     0.000000   0.000000   0.000000\n",
              "max     2.000000   5.000000   8.000000\n",
              "sum     3.000000   8.000000  11.000000"
            ]
          },
          "metadata": {
            "tags": []
          },
          "execution_count": 18
        }
      ]
    },
    {
      "cell_type": "markdown",
      "metadata": {
        "id": "bTeq3RT2spIp"
      },
      "source": [
        "**1995-2006**"
      ]
    },
    {
      "cell_type": "code",
      "metadata": {
        "colab": {
          "base_uri": "https://localhost:8080/",
          "height": 328
        },
        "id": "9lO7qIbLsttl",
        "outputId": "2a9eda8b-ef70-41e9-e9fa-dad7912ac4cd"
      },
      "source": [
        "df = lhw_yearly[(lhw_yearly.index >= 1995) & (lhw_yearly.index <= 2006)].describe()\n",
        "df.loc['sum'] = lhw_yearly[(lhw_yearly.index >= 1995) & (lhw_yearly.index <= 2006)].sum()\n",
        "df"
      ],
      "execution_count": null,
      "outputs": [
        {
          "output_type": "execute_result",
          "data": {
            "text/html": [
              "<div>\n",
              "<style scoped>\n",
              "    .dataframe tbody tr th:only-of-type {\n",
              "        vertical-align: middle;\n",
              "    }\n",
              "\n",
              "    .dataframe tbody tr th {\n",
              "        vertical-align: top;\n",
              "    }\n",
              "\n",
              "    .dataframe thead th {\n",
              "        text-align: right;\n",
              "    }\n",
              "</style>\n",
              "<table border=\"1\" class=\"dataframe\">\n",
              "  <thead>\n",
              "    <tr style=\"text-align: right;\">\n",
              "      <th></th>\n",
              "      <th>LHWN</th>\n",
              "      <th>LHWD</th>\n",
              "      <th>LHWF</th>\n",
              "    </tr>\n",
              "  </thead>\n",
              "  <tbody>\n",
              "    <tr>\n",
              "      <th>count</th>\n",
              "      <td>12.000000</td>\n",
              "      <td>12.00000</td>\n",
              "      <td>12.000000</td>\n",
              "    </tr>\n",
              "    <tr>\n",
              "      <th>mean</th>\n",
              "      <td>1.416667</td>\n",
              "      <td>3.25000</td>\n",
              "      <td>5.416667</td>\n",
              "    </tr>\n",
              "    <tr>\n",
              "      <th>std</th>\n",
              "      <td>1.240112</td>\n",
              "      <td>2.22077</td>\n",
              "      <td>4.399552</td>\n",
              "    </tr>\n",
              "    <tr>\n",
              "      <th>min</th>\n",
              "      <td>0.000000</td>\n",
              "      <td>0.00000</td>\n",
              "      <td>0.000000</td>\n",
              "    </tr>\n",
              "    <tr>\n",
              "      <th>25%</th>\n",
              "      <td>0.750000</td>\n",
              "      <td>2.25000</td>\n",
              "      <td>2.250000</td>\n",
              "    </tr>\n",
              "    <tr>\n",
              "      <th>50%</th>\n",
              "      <td>1.000000</td>\n",
              "      <td>4.00000</td>\n",
              "      <td>5.500000</td>\n",
              "    </tr>\n",
              "    <tr>\n",
              "      <th>75%</th>\n",
              "      <td>2.000000</td>\n",
              "      <td>4.25000</td>\n",
              "      <td>7.250000</td>\n",
              "    </tr>\n",
              "    <tr>\n",
              "      <th>max</th>\n",
              "      <td>4.000000</td>\n",
              "      <td>7.00000</td>\n",
              "      <td>14.000000</td>\n",
              "    </tr>\n",
              "    <tr>\n",
              "      <th>sum</th>\n",
              "      <td>17.000000</td>\n",
              "      <td>39.00000</td>\n",
              "      <td>65.000000</td>\n",
              "    </tr>\n",
              "  </tbody>\n",
              "</table>\n",
              "</div>"
            ],
            "text/plain": [
              "            LHWN      LHWD       LHWF\n",
              "count  12.000000  12.00000  12.000000\n",
              "mean    1.416667   3.25000   5.416667\n",
              "std     1.240112   2.22077   4.399552\n",
              "min     0.000000   0.00000   0.000000\n",
              "25%     0.750000   2.25000   2.250000\n",
              "50%     1.000000   4.00000   5.500000\n",
              "75%     2.000000   4.25000   7.250000\n",
              "max     4.000000   7.00000  14.000000\n",
              "sum    17.000000  39.00000  65.000000"
            ]
          },
          "metadata": {
            "tags": []
          },
          "execution_count": 19
        }
      ]
    },
    {
      "cell_type": "markdown",
      "metadata": {
        "id": "XhLnKobxTtuS"
      },
      "source": [
        "**2007-2018**"
      ]
    },
    {
      "cell_type": "code",
      "metadata": {
        "colab": {
          "base_uri": "https://localhost:8080/",
          "height": 328
        },
        "id": "UVbYVIrPTtDF",
        "outputId": "263f08d9-9b61-4c86-9f79-c8b350a39057"
      },
      "source": [
        "df = lhw_yearly[lhw_yearly.index >= 2007].describe()\n",
        "df.loc['sum'] = lhw_yearly[lhw_yearly.index >= 2007].sum()\n",
        "df"
      ],
      "execution_count": null,
      "outputs": [
        {
          "output_type": "execute_result",
          "data": {
            "text/html": [
              "<div>\n",
              "<style scoped>\n",
              "    .dataframe tbody tr th:only-of-type {\n",
              "        vertical-align: middle;\n",
              "    }\n",
              "\n",
              "    .dataframe tbody tr th {\n",
              "        vertical-align: top;\n",
              "    }\n",
              "\n",
              "    .dataframe thead th {\n",
              "        text-align: right;\n",
              "    }\n",
              "</style>\n",
              "<table border=\"1\" class=\"dataframe\">\n",
              "  <thead>\n",
              "    <tr style=\"text-align: right;\">\n",
              "      <th></th>\n",
              "      <th>LHWN</th>\n",
              "      <th>LHWD</th>\n",
              "      <th>LHWF</th>\n",
              "    </tr>\n",
              "  </thead>\n",
              "  <tbody>\n",
              "    <tr>\n",
              "      <th>count</th>\n",
              "      <td>12.000000</td>\n",
              "      <td>12.000000</td>\n",
              "      <td>12.000000</td>\n",
              "    </tr>\n",
              "    <tr>\n",
              "      <th>mean</th>\n",
              "      <td>2.500000</td>\n",
              "      <td>4.583333</td>\n",
              "      <td>11.583333</td>\n",
              "    </tr>\n",
              "    <tr>\n",
              "      <th>std</th>\n",
              "      <td>3.233349</td>\n",
              "      <td>4.944388</td>\n",
              "      <td>16.053651</td>\n",
              "    </tr>\n",
              "    <tr>\n",
              "      <th>min</th>\n",
              "      <td>0.000000</td>\n",
              "      <td>0.000000</td>\n",
              "      <td>0.000000</td>\n",
              "    </tr>\n",
              "    <tr>\n",
              "      <th>25%</th>\n",
              "      <td>0.000000</td>\n",
              "      <td>0.000000</td>\n",
              "      <td>0.000000</td>\n",
              "    </tr>\n",
              "    <tr>\n",
              "      <th>50%</th>\n",
              "      <td>1.000000</td>\n",
              "      <td>3.500000</td>\n",
              "      <td>3.500000</td>\n",
              "    </tr>\n",
              "    <tr>\n",
              "      <th>75%</th>\n",
              "      <td>4.250000</td>\n",
              "      <td>6.250000</td>\n",
              "      <td>19.250000</td>\n",
              "    </tr>\n",
              "    <tr>\n",
              "      <th>max</th>\n",
              "      <td>9.000000</td>\n",
              "      <td>16.000000</td>\n",
              "      <td>45.000000</td>\n",
              "    </tr>\n",
              "    <tr>\n",
              "      <th>sum</th>\n",
              "      <td>30.000000</td>\n",
              "      <td>55.000000</td>\n",
              "      <td>139.000000</td>\n",
              "    </tr>\n",
              "  </tbody>\n",
              "</table>\n",
              "</div>"
            ],
            "text/plain": [
              "            LHWN       LHWD        LHWF\n",
              "count  12.000000  12.000000   12.000000\n",
              "mean    2.500000   4.583333   11.583333\n",
              "std     3.233349   4.944388   16.053651\n",
              "min     0.000000   0.000000    0.000000\n",
              "25%     0.000000   0.000000    0.000000\n",
              "50%     1.000000   3.500000    3.500000\n",
              "75%     4.250000   6.250000   19.250000\n",
              "max     9.000000  16.000000   45.000000\n",
              "sum    30.000000  55.000000  139.000000"
            ]
          },
          "metadata": {
            "tags": []
          },
          "execution_count": 20
        }
      ]
    },
    {
      "cell_type": "markdown",
      "metadata": {
        "id": "c0GAFZDptVFc"
      },
      "source": [
        "##**Seasonal Metrics**"
      ]
    },
    {
      "cell_type": "code",
      "metadata": {
        "colab": {
          "base_uri": "https://localhost:8080/"
        },
        "id": "1XPn3IX5rfiI",
        "outputId": "04b307b1-0a13-474b-99d3-c176954981cc"
      },
      "source": [
        "help(tex.wave_seasonMetrics)"
      ],
      "execution_count": null,
      "outputs": [
        {
          "output_type": "stream",
          "text": [
            "Help on function wave_seasonMetrics in module climatex:\n",
            "\n",
            "wave_seasonMetrics(df_checkW, wave_column, plot=False)\n",
            "    #-------------------------------------------------------------------------------\n",
            "    ## Function to obtain the seasonal metrics of a Wave given the\n",
            "    ## database dataframe containing the 'HW'/'CW'/'LPW'/'HPW'/'LHW'/'HHW' column\n",
            "    ## that indicates if a day is part of a Wave or not (check get_wave function).\n",
            "    ## This function obtains the number of events (HWN/CWN/LPWN/HPWN/LHWN/HHWN),\n",
            "    ## the event with maximum duration (HWD/CWD/LPWD/HPWD/LHWD/HHWD) and the\n",
            "    ## cumulative sum of wave durations (HWF/CWF/LPWF/HPWF/LHWF/HHWF) for all seasons\n",
            "    ## (summer, autumn, winter and spring) of each year of the dataframe. These\n",
            "    ## metrics are stored in a dataframe which includes the Wave metrics\n",
            "    ## for each year of the database, separated by seasons.\n",
            "    ##\n",
            "    ## The calendar year adopted is from december of previous year until november of\n",
            "    ## actual year.\n",
            "    ##\n",
            "    ## It is possible to plot the seasonal metrics, for a better adjustment of the\n",
            "    ## plots, go to function plot_oneSeasonMetric\n",
            "    ##\n",
            "    ## :param      df_checkW:    Database dataframe with the column 'HW' or 'CW'\n",
            "    ##                           or 'LPW' or 'HPW' or 'LHW' or 'HHW'\n",
            "    ## :type       df_checkW:    pandas.DataFrame\n",
            "    ## :param      wave_column:  Name of the column containing information about\n",
            "    ##                           Heat/Cold Waves (choose 'HW' or 'CW' or 'LPW'\n",
            "    ##                           or 'HPW' or 'LHW' or 'HHW')\n",
            "    ## :type       wave_column:  String\n",
            "    ## :param      plot:         If True, function plot_SeasonMetric is used to plot\n",
            "    ##                           all generated metrics\n",
            "    ## :type       plot:         Boolean (True or False)\n",
            "    ##\n",
            "    ## :returns:   dfwave_seasonMetrics - dataframe containing seasonal wave metrics\n",
            "    ##             for each year of the database\n",
            "    ## :rtype:     pandas.DataFrame\n",
            "    ##\n",
            "\n"
          ],
          "name": "stdout"
        }
      ]
    },
    {
      "cell_type": "code",
      "metadata": {
        "id": "GVlit61squoT",
        "colab": {
          "base_uri": "https://localhost:8080/",
          "height": 1000
        },
        "outputId": "79d38c71-b957-4928-f81d-b1a5e3fdf563"
      },
      "source": [
        "lhw_season = tex.wave_seasonMetrics(df_humidity,'LHW',True)"
      ],
      "execution_count": null,
      "outputs": [
        {
          "output_type": "display_data",
          "data": {
            "image/png": "[encoded data removed]",
            "text/plain": [
              "<Figure size 4500x2700 with 4 Axes>"
            ]
          },
          "metadata": {
            "tags": [],
            "needs_background": "light"
          }
        },
        {
          "output_type": "display_data",
          "data": {
            "image/png": "[encoded data removed]",
            "text/plain": [
              "<Figure size 4500x2700 with 4 Axes>"
            ]
          },
          "metadata": {
            "tags": [],
            "needs_background": "light"
          }
        },
        {
          "output_type": "display_data",
          "data": {
            "image/png": "[encoded data removed]",
            "text/plain": [
              "<Figure size 4500x2700 with 4 Axes>"
            ]
          },
          "metadata": {
            "tags": [],
            "needs_background": "light"
          }
        }
      ]
    },
    {
      "cell_type": "markdown",
      "metadata": {
        "id": "ZCSJG1_TtruN"
      },
      "source": [
        "###**Summer**"
      ]
    },
    {
      "cell_type": "code",
      "metadata": {
        "colab": {
          "base_uri": "https://localhost:8080/",
          "height": 328
        },
        "id": "0Ugob9agtx63",
        "outputId": "225c044b-8acc-4467-f8a0-ccebf63b0a62"
      },
      "source": [
        "df = lhw_season.xs('1', level=1).describe()\n",
        "df.loc['sum'] = lhw_season.xs('1', level=1).sum()\n",
        "df"
      ],
      "execution_count": null,
      "outputs": [
        {
          "output_type": "execute_result",
          "data": {
            "text/html": [
              "<div>\n",
              "<style scoped>\n",
              "    .dataframe tbody tr th:only-of-type {\n",
              "        vertical-align: middle;\n",
              "    }\n",
              "\n",
              "    .dataframe tbody tr th {\n",
              "        vertical-align: top;\n",
              "    }\n",
              "\n",
              "    .dataframe thead th {\n",
              "        text-align: right;\n",
              "    }\n",
              "</style>\n",
              "<table border=\"1\" class=\"dataframe\">\n",
              "  <thead>\n",
              "    <tr style=\"text-align: right;\">\n",
              "      <th></th>\n",
              "      <th>LHWN</th>\n",
              "      <th>LHWD</th>\n",
              "      <th>LHWF</th>\n",
              "    </tr>\n",
              "  </thead>\n",
              "  <tbody>\n",
              "    <tr>\n",
              "      <th>count</th>\n",
              "      <td>36.000000</td>\n",
              "      <td>36.000000</td>\n",
              "      <td>36.000000</td>\n",
              "    </tr>\n",
              "    <tr>\n",
              "      <th>mean</th>\n",
              "      <td>0.250000</td>\n",
              "      <td>1.222222</td>\n",
              "      <td>1.388889</td>\n",
              "    </tr>\n",
              "    <tr>\n",
              "      <th>std</th>\n",
              "      <td>0.554205</td>\n",
              "      <td>3.313273</td>\n",
              "      <td>3.958916</td>\n",
              "    </tr>\n",
              "    <tr>\n",
              "      <th>min</th>\n",
              "      <td>0.000000</td>\n",
              "      <td>0.000000</td>\n",
              "      <td>0.000000</td>\n",
              "    </tr>\n",
              "    <tr>\n",
              "      <th>25%</th>\n",
              "      <td>0.000000</td>\n",
              "      <td>0.000000</td>\n",
              "      <td>0.000000</td>\n",
              "    </tr>\n",
              "    <tr>\n",
              "      <th>50%</th>\n",
              "      <td>0.000000</td>\n",
              "      <td>0.000000</td>\n",
              "      <td>0.000000</td>\n",
              "    </tr>\n",
              "    <tr>\n",
              "      <th>75%</th>\n",
              "      <td>0.000000</td>\n",
              "      <td>0.000000</td>\n",
              "      <td>0.000000</td>\n",
              "    </tr>\n",
              "    <tr>\n",
              "      <th>max</th>\n",
              "      <td>2.000000</td>\n",
              "      <td>16.000000</td>\n",
              "      <td>19.000000</td>\n",
              "    </tr>\n",
              "    <tr>\n",
              "      <th>sum</th>\n",
              "      <td>9.000000</td>\n",
              "      <td>44.000000</td>\n",
              "      <td>50.000000</td>\n",
              "    </tr>\n",
              "  </tbody>\n",
              "</table>\n",
              "</div>"
            ],
            "text/plain": [
              "            LHWN       LHWD       LHWF\n",
              "count  36.000000  36.000000  36.000000\n",
              "mean    0.250000   1.222222   1.388889\n",
              "std     0.554205   3.313273   3.958916\n",
              "min     0.000000   0.000000   0.000000\n",
              "25%     0.000000   0.000000   0.000000\n",
              "50%     0.000000   0.000000   0.000000\n",
              "75%     0.000000   0.000000   0.000000\n",
              "max     2.000000  16.000000  19.000000\n",
              "sum     9.000000  44.000000  50.000000"
            ]
          },
          "metadata": {
            "tags": []
          },
          "execution_count": 23
        }
      ]
    },
    {
      "cell_type": "markdown",
      "metadata": {
        "id": "uYC4FPmgtv1w"
      },
      "source": [
        "**1983-1994**"
      ]
    },
    {
      "cell_type": "code",
      "metadata": {
        "colab": {
          "base_uri": "https://localhost:8080/",
          "height": 328
        },
        "id": "ICEBP7X9uZcn",
        "outputId": "a111759e-ed35-4983-f401-08abdea40e12"
      },
      "source": [
        "df = lhw_season.xs('1', level=1)[(lhw_season.xs('1', level=1).index<=1994)].describe()\n",
        "df.loc['sum'] = lhw_season.xs('1', level=1)[lhw_season.xs('1', level=1).index <=1994].sum()\n",
        "df"
      ],
      "execution_count": null,
      "outputs": [
        {
          "output_type": "execute_result",
          "data": {
            "text/html": [
              "<div>\n",
              "<style scoped>\n",
              "    .dataframe tbody tr th:only-of-type {\n",
              "        vertical-align: middle;\n",
              "    }\n",
              "\n",
              "    .dataframe tbody tr th {\n",
              "        vertical-align: top;\n",
              "    }\n",
              "\n",
              "    .dataframe thead th {\n",
              "        text-align: right;\n",
              "    }\n",
              "</style>\n",
              "<table border=\"1\" class=\"dataframe\">\n",
              "  <thead>\n",
              "    <tr style=\"text-align: right;\">\n",
              "      <th></th>\n",
              "      <th>LHWN</th>\n",
              "      <th>LHWD</th>\n",
              "      <th>LHWF</th>\n",
              "    </tr>\n",
              "  </thead>\n",
              "  <tbody>\n",
              "    <tr>\n",
              "      <th>count</th>\n",
              "      <td>12.000000</td>\n",
              "      <td>12.000000</td>\n",
              "      <td>12.000000</td>\n",
              "    </tr>\n",
              "    <tr>\n",
              "      <th>mean</th>\n",
              "      <td>0.083333</td>\n",
              "      <td>0.250000</td>\n",
              "      <td>0.250000</td>\n",
              "    </tr>\n",
              "    <tr>\n",
              "      <th>std</th>\n",
              "      <td>0.288675</td>\n",
              "      <td>0.866025</td>\n",
              "      <td>0.866025</td>\n",
              "    </tr>\n",
              "    <tr>\n",
              "      <th>min</th>\n",
              "      <td>0.000000</td>\n",
              "      <td>0.000000</td>\n",
              "      <td>0.000000</td>\n",
              "    </tr>\n",
              "    <tr>\n",
              "      <th>25%</th>\n",
              "      <td>0.000000</td>\n",
              "      <td>0.000000</td>\n",
              "      <td>0.000000</td>\n",
              "    </tr>\n",
              "    <tr>\n",
              "      <th>50%</th>\n",
              "      <td>0.000000</td>\n",
              "      <td>0.000000</td>\n",
              "      <td>0.000000</td>\n",
              "    </tr>\n",
              "    <tr>\n",
              "      <th>75%</th>\n",
              "      <td>0.000000</td>\n",
              "      <td>0.000000</td>\n",
              "      <td>0.000000</td>\n",
              "    </tr>\n",
              "    <tr>\n",
              "      <th>max</th>\n",
              "      <td>1.000000</td>\n",
              "      <td>3.000000</td>\n",
              "      <td>3.000000</td>\n",
              "    </tr>\n",
              "    <tr>\n",
              "      <th>sum</th>\n",
              "      <td>1.000000</td>\n",
              "      <td>3.000000</td>\n",
              "      <td>3.000000</td>\n",
              "    </tr>\n",
              "  </tbody>\n",
              "</table>\n",
              "</div>"
            ],
            "text/plain": [
              "            LHWN       LHWD       LHWF\n",
              "count  12.000000  12.000000  12.000000\n",
              "mean    0.083333   0.250000   0.250000\n",
              "std     0.288675   0.866025   0.866025\n",
              "min     0.000000   0.000000   0.000000\n",
              "25%     0.000000   0.000000   0.000000\n",
              "50%     0.000000   0.000000   0.000000\n",
              "75%     0.000000   0.000000   0.000000\n",
              "max     1.000000   3.000000   3.000000\n",
              "sum     1.000000   3.000000   3.000000"
            ]
          },
          "metadata": {
            "tags": []
          },
          "execution_count": 24
        }
      ]
    },
    {
      "cell_type": "markdown",
      "metadata": {
        "id": "5HgiJkRPwMQ3"
      },
      "source": [
        "**1995-2006**"
      ]
    },
    {
      "cell_type": "code",
      "metadata": {
        "colab": {
          "base_uri": "https://localhost:8080/",
          "height": 328
        },
        "id": "jKyPwtywwOSw",
        "outputId": "76b957a3-5214-4bd8-95aa-cf4b8b09ba61"
      },
      "source": [
        "df = lhw_season.xs('1', level=1)[(lhw_season.xs('1', level=1).index >= 1995) & (lhw_season.xs('1', level=1).index <= 2006)].describe()\n",
        "df.loc['sum'] = lhw_season.xs('1', level=1)[(lhw_season.xs('1', level=1).index >= 1995) & (lhw_season.xs('1', level=1).index <= 2006)].sum()\n",
        "df"
      ],
      "execution_count": null,
      "outputs": [
        {
          "output_type": "execute_result",
          "data": {
            "text/html": [
              "<div>\n",
              "<style scoped>\n",
              "    .dataframe tbody tr th:only-of-type {\n",
              "        vertical-align: middle;\n",
              "    }\n",
              "\n",
              "    .dataframe tbody tr th {\n",
              "        vertical-align: top;\n",
              "    }\n",
              "\n",
              "    .dataframe thead th {\n",
              "        text-align: right;\n",
              "    }\n",
              "</style>\n",
              "<table border=\"1\" class=\"dataframe\">\n",
              "  <thead>\n",
              "    <tr style=\"text-align: right;\">\n",
              "      <th></th>\n",
              "      <th>LHWN</th>\n",
              "      <th>LHWD</th>\n",
              "      <th>LHWF</th>\n",
              "    </tr>\n",
              "  </thead>\n",
              "  <tbody>\n",
              "    <tr>\n",
              "      <th>count</th>\n",
              "      <td>12.000000</td>\n",
              "      <td>12.000000</td>\n",
              "      <td>12.000000</td>\n",
              "    </tr>\n",
              "    <tr>\n",
              "      <th>mean</th>\n",
              "      <td>0.166667</td>\n",
              "      <td>0.500000</td>\n",
              "      <td>0.500000</td>\n",
              "    </tr>\n",
              "    <tr>\n",
              "      <th>std</th>\n",
              "      <td>0.389249</td>\n",
              "      <td>1.167748</td>\n",
              "      <td>1.167748</td>\n",
              "    </tr>\n",
              "    <tr>\n",
              "      <th>min</th>\n",
              "      <td>0.000000</td>\n",
              "      <td>0.000000</td>\n",
              "      <td>0.000000</td>\n",
              "    </tr>\n",
              "    <tr>\n",
              "      <th>25%</th>\n",
              "      <td>0.000000</td>\n",
              "      <td>0.000000</td>\n",
              "      <td>0.000000</td>\n",
              "    </tr>\n",
              "    <tr>\n",
              "      <th>50%</th>\n",
              "      <td>0.000000</td>\n",
              "      <td>0.000000</td>\n",
              "      <td>0.000000</td>\n",
              "    </tr>\n",
              "    <tr>\n",
              "      <th>75%</th>\n",
              "      <td>0.000000</td>\n",
              "      <td>0.000000</td>\n",
              "      <td>0.000000</td>\n",
              "    </tr>\n",
              "    <tr>\n",
              "      <th>max</th>\n",
              "      <td>1.000000</td>\n",
              "      <td>3.000000</td>\n",
              "      <td>3.000000</td>\n",
              "    </tr>\n",
              "    <tr>\n",
              "      <th>sum</th>\n",
              "      <td>2.000000</td>\n",
              "      <td>6.000000</td>\n",
              "      <td>6.000000</td>\n",
              "    </tr>\n",
              "  </tbody>\n",
              "</table>\n",
              "</div>"
            ],
            "text/plain": [
              "            LHWN       LHWD       LHWF\n",
              "count  12.000000  12.000000  12.000000\n",
              "mean    0.166667   0.500000   0.500000\n",
              "std     0.389249   1.167748   1.167748\n",
              "min     0.000000   0.000000   0.000000\n",
              "25%     0.000000   0.000000   0.000000\n",
              "50%     0.000000   0.000000   0.000000\n",
              "75%     0.000000   0.000000   0.000000\n",
              "max     1.000000   3.000000   3.000000\n",
              "sum     2.000000   6.000000   6.000000"
            ]
          },
          "metadata": {
            "tags": []
          },
          "execution_count": 25
        }
      ]
    },
    {
      "cell_type": "markdown",
      "metadata": {
        "id": "Cphf8zfoCmPB"
      },
      "source": [
        "**2007-2018**"
      ]
    },
    {
      "cell_type": "code",
      "metadata": {
        "colab": {
          "base_uri": "https://localhost:8080/",
          "height": 328
        },
        "id": "tPXa1KhQCqbA",
        "outputId": "88639b04-e0bc-4418-9b91-4d9cd58e9e76"
      },
      "source": [
        "df = lhw_season.xs('1', level=1)[(lhw_season.xs('1', level=1).index >= 2007)].describe()\n",
        "df.loc['sum'] = lhw_season.xs('1', level=1)[lhw_season.xs('1', level=1).index >= 2007].sum()\n",
        "df"
      ],
      "execution_count": null,
      "outputs": [
        {
          "output_type": "execute_result",
          "data": {
            "text/html": [
              "<div>\n",
              "<style scoped>\n",
              "    .dataframe tbody tr th:only-of-type {\n",
              "        vertical-align: middle;\n",
              "    }\n",
              "\n",
              "    .dataframe tbody tr th {\n",
              "        vertical-align: top;\n",
              "    }\n",
              "\n",
              "    .dataframe thead th {\n",
              "        text-align: right;\n",
              "    }\n",
              "</style>\n",
              "<table border=\"1\" class=\"dataframe\">\n",
              "  <thead>\n",
              "    <tr style=\"text-align: right;\">\n",
              "      <th></th>\n",
              "      <th>LHWN</th>\n",
              "      <th>LHWD</th>\n",
              "      <th>LHWF</th>\n",
              "    </tr>\n",
              "  </thead>\n",
              "  <tbody>\n",
              "    <tr>\n",
              "      <th>count</th>\n",
              "      <td>12.000000</td>\n",
              "      <td>12.000000</td>\n",
              "      <td>12.000000</td>\n",
              "    </tr>\n",
              "    <tr>\n",
              "      <th>mean</th>\n",
              "      <td>0.500000</td>\n",
              "      <td>2.916667</td>\n",
              "      <td>3.416667</td>\n",
              "    </tr>\n",
              "    <tr>\n",
              "      <th>std</th>\n",
              "      <td>0.797724</td>\n",
              "      <td>5.299371</td>\n",
              "      <td>6.402533</td>\n",
              "    </tr>\n",
              "    <tr>\n",
              "      <th>min</th>\n",
              "      <td>0.000000</td>\n",
              "      <td>0.000000</td>\n",
              "      <td>0.000000</td>\n",
              "    </tr>\n",
              "    <tr>\n",
              "      <th>25%</th>\n",
              "      <td>0.000000</td>\n",
              "      <td>0.000000</td>\n",
              "      <td>0.000000</td>\n",
              "    </tr>\n",
              "    <tr>\n",
              "      <th>50%</th>\n",
              "      <td>0.000000</td>\n",
              "      <td>0.000000</td>\n",
              "      <td>0.000000</td>\n",
              "    </tr>\n",
              "    <tr>\n",
              "      <th>75%</th>\n",
              "      <td>1.000000</td>\n",
              "      <td>3.500000</td>\n",
              "      <td>3.500000</td>\n",
              "    </tr>\n",
              "    <tr>\n",
              "      <th>max</th>\n",
              "      <td>2.000000</td>\n",
              "      <td>16.000000</td>\n",
              "      <td>19.000000</td>\n",
              "    </tr>\n",
              "    <tr>\n",
              "      <th>sum</th>\n",
              "      <td>6.000000</td>\n",
              "      <td>35.000000</td>\n",
              "      <td>41.000000</td>\n",
              "    </tr>\n",
              "  </tbody>\n",
              "</table>\n",
              "</div>"
            ],
            "text/plain": [
              "            LHWN       LHWD       LHWF\n",
              "count  12.000000  12.000000  12.000000\n",
              "mean    0.500000   2.916667   3.416667\n",
              "std     0.797724   5.299371   6.402533\n",
              "min     0.000000   0.000000   0.000000\n",
              "25%     0.000000   0.000000   0.000000\n",
              "50%     0.000000   0.000000   0.000000\n",
              "75%     1.000000   3.500000   3.500000\n",
              "max     2.000000  16.000000  19.000000\n",
              "sum     6.000000  35.000000  41.000000"
            ]
          },
          "metadata": {
            "tags": []
          },
          "execution_count": 26
        }
      ]
    },
    {
      "cell_type": "markdown",
      "metadata": {
        "id": "a2QDtGqiwhWj"
      },
      "source": [
        "###**Autumn**"
      ]
    },
    {
      "cell_type": "code",
      "metadata": {
        "colab": {
          "base_uri": "https://localhost:8080/"
        },
        "id": "rtM93TaawhWl",
        "outputId": "70b7ec91-e0f5-4b4e-f8ec-b2ce313ee1f9"
      },
      "source": [
        "df = lhw_season.xs('2', level=1).describe()\n",
        "df.loc['sum'] = lhw_season.xs('2', level=1).sum()\n",
        "df"
      ],
      "execution_count": null,
      "outputs": [
        {
          "output_type": "execute_result",
          "data": {
            "text/html": [
              "<div>\n",
              "<style scoped>\n",
              "    .dataframe tbody tr th:only-of-type {\n",
              "        vertical-align: middle;\n",
              "    }\n",
              "\n",
              "    .dataframe tbody tr th {\n",
              "        vertical-align: top;\n",
              "    }\n",
              "\n",
              "    .dataframe thead th {\n",
              "        text-align: right;\n",
              "    }\n",
              "</style>\n",
              "<table border=\"1\" class=\"dataframe\">\n",
              "  <thead>\n",
              "    <tr style=\"text-align: right;\">\n",
              "      <th></th>\n",
              "      <th>LHWN</th>\n",
              "      <th>LHWD</th>\n",
              "      <th>LHWF</th>\n",
              "    </tr>\n",
              "  </thead>\n",
              "  <tbody>\n",
              "    <tr>\n",
              "      <th>count</th>\n",
              "      <td>36.000000</td>\n",
              "      <td>36.000000</td>\n",
              "      <td>36.000000</td>\n",
              "    </tr>\n",
              "    <tr>\n",
              "      <th>mean</th>\n",
              "      <td>0.305556</td>\n",
              "      <td>0.666667</td>\n",
              "      <td>1.111111</td>\n",
              "    </tr>\n",
              "    <tr>\n",
              "      <th>std</th>\n",
              "      <td>0.821825</td>\n",
              "      <td>1.621287</td>\n",
              "      <td>3.222934</td>\n",
              "    </tr>\n",
              "    <tr>\n",
              "      <th>min</th>\n",
              "      <td>0.000000</td>\n",
              "      <td>0.000000</td>\n",
              "      <td>0.000000</td>\n",
              "    </tr>\n",
              "    <tr>\n",
              "      <th>25%</th>\n",
              "      <td>0.000000</td>\n",
              "      <td>0.000000</td>\n",
              "      <td>0.000000</td>\n",
              "    </tr>\n",
              "    <tr>\n",
              "      <th>50%</th>\n",
              "      <td>0.000000</td>\n",
              "      <td>0.000000</td>\n",
              "      <td>0.000000</td>\n",
              "    </tr>\n",
              "    <tr>\n",
              "      <th>75%</th>\n",
              "      <td>0.000000</td>\n",
              "      <td>0.000000</td>\n",
              "      <td>0.000000</td>\n",
              "    </tr>\n",
              "    <tr>\n",
              "      <th>max</th>\n",
              "      <td>4.000000</td>\n",
              "      <td>7.000000</td>\n",
              "      <td>17.000000</td>\n",
              "    </tr>\n",
              "    <tr>\n",
              "      <th>sum</th>\n",
              "      <td>11.000000</td>\n",
              "      <td>24.000000</td>\n",
              "      <td>40.000000</td>\n",
              "    </tr>\n",
              "  </tbody>\n",
              "</table>\n",
              "</div>"
            ],
            "text/plain": [
              "            LHWN       LHWD       LHWF\n",
              "count  36.000000  36.000000  36.000000\n",
              "mean    0.305556   0.666667   1.111111\n",
              "std     0.821825   1.621287   3.222934\n",
              "min     0.000000   0.000000   0.000000\n",
              "25%     0.000000   0.000000   0.000000\n",
              "50%     0.000000   0.000000   0.000000\n",
              "75%     0.000000   0.000000   0.000000\n",
              "max     4.000000   7.000000  17.000000\n",
              "sum    11.000000  24.000000  40.000000"
            ]
          },
          "metadata": {
            "tags": []
          },
          "execution_count": 27
        }
      ]
    },
    {
      "cell_type": "markdown",
      "metadata": {
        "id": "KdUCsX0EwhWn"
      },
      "source": [
        "**1983-2000**"
      ]
    },
    {
      "cell_type": "code",
      "metadata": {
        "colab": {
          "base_uri": "https://localhost:8080/"
        },
        "id": "2brfe2dEwhWp",
        "outputId": "e1d76aaa-ef13-4c0e-e023-e5d9e9c510f7"
      },
      "source": [
        "df = lhw_season.xs('2', level=1)[(lhw_season.xs('2', level=1).index<=1994)].describe()\n",
        "df.loc['sum'] = lhw_season.xs('2', level=1)[lhw_season.xs('2', level=1).index <= 1994].sum()\n",
        "df"
      ],
      "execution_count": null,
      "outputs": [
        {
          "output_type": "execute_result",
          "data": {
            "text/html": [
              "<div>\n",
              "<style scoped>\n",
              "    .dataframe tbody tr th:only-of-type {\n",
              "        vertical-align: middle;\n",
              "    }\n",
              "\n",
              "    .dataframe tbody tr th {\n",
              "        vertical-align: top;\n",
              "    }\n",
              "\n",
              "    .dataframe thead th {\n",
              "        text-align: right;\n",
              "    }\n",
              "</style>\n",
              "<table border=\"1\" class=\"dataframe\">\n",
              "  <thead>\n",
              "    <tr style=\"text-align: right;\">\n",
              "      <th></th>\n",
              "      <th>LHWN</th>\n",
              "      <th>LHWD</th>\n",
              "      <th>LHWF</th>\n",
              "    </tr>\n",
              "  </thead>\n",
              "  <tbody>\n",
              "    <tr>\n",
              "      <th>count</th>\n",
              "      <td>12.0</td>\n",
              "      <td>12.0</td>\n",
              "      <td>12.0</td>\n",
              "    </tr>\n",
              "    <tr>\n",
              "      <th>mean</th>\n",
              "      <td>0.0</td>\n",
              "      <td>0.0</td>\n",
              "      <td>0.0</td>\n",
              "    </tr>\n",
              "    <tr>\n",
              "      <th>std</th>\n",
              "      <td>0.0</td>\n",
              "      <td>0.0</td>\n",
              "      <td>0.0</td>\n",
              "    </tr>\n",
              "    <tr>\n",
              "      <th>min</th>\n",
              "      <td>0.0</td>\n",
              "      <td>0.0</td>\n",
              "      <td>0.0</td>\n",
              "    </tr>\n",
              "    <tr>\n",
              "      <th>25%</th>\n",
              "      <td>0.0</td>\n",
              "      <td>0.0</td>\n",
              "      <td>0.0</td>\n",
              "    </tr>\n",
              "    <tr>\n",
              "      <th>50%</th>\n",
              "      <td>0.0</td>\n",
              "      <td>0.0</td>\n",
              "      <td>0.0</td>\n",
              "    </tr>\n",
              "    <tr>\n",
              "      <th>75%</th>\n",
              "      <td>0.0</td>\n",
              "      <td>0.0</td>\n",
              "      <td>0.0</td>\n",
              "    </tr>\n",
              "    <tr>\n",
              "      <th>max</th>\n",
              "      <td>0.0</td>\n",
              "      <td>0.0</td>\n",
              "      <td>0.0</td>\n",
              "    </tr>\n",
              "    <tr>\n",
              "      <th>sum</th>\n",
              "      <td>0.0</td>\n",
              "      <td>0.0</td>\n",
              "      <td>0.0</td>\n",
              "    </tr>\n",
              "  </tbody>\n",
              "</table>\n",
              "</div>"
            ],
            "text/plain": [
              "       LHWN  LHWD  LHWF\n",
              "count  12.0  12.0  12.0\n",
              "mean    0.0   0.0   0.0\n",
              "std     0.0   0.0   0.0\n",
              "min     0.0   0.0   0.0\n",
              "25%     0.0   0.0   0.0\n",
              "50%     0.0   0.0   0.0\n",
              "75%     0.0   0.0   0.0\n",
              "max     0.0   0.0   0.0\n",
              "sum     0.0   0.0   0.0"
            ]
          },
          "metadata": {
            "tags": []
          },
          "execution_count": 28
        }
      ]
    },
    {
      "cell_type": "markdown",
      "metadata": {
        "id": "y7GdO_JDwhWq"
      },
      "source": [
        "**1995-2006**"
      ]
    },
    {
      "cell_type": "code",
      "metadata": {
        "colab": {
          "base_uri": "https://localhost:8080/"
        },
        "id": "nLCYNnAZwhWr",
        "outputId": "2e510449-2a5f-42ce-fef0-d64e7edcd004"
      },
      "source": [
        "df = lhw_season.xs('2', level=1)[(lhw_season.xs('2', level=1).index >= 1995) & (lhw_season.xs('2', level=1).index <= 2006)].describe()\n",
        "df.loc['sum'] = lhw_season.xs('2', level=1)[(lhw_season.xs('2', level=1).index >= 1995) & (lhw_season.xs('2', level=1).index <= 2006)].sum()\n",
        "df"
      ],
      "execution_count": null,
      "outputs": [
        {
          "output_type": "execute_result",
          "data": {
            "text/html": [
              "<div>\n",
              "<style scoped>\n",
              "    .dataframe tbody tr th:only-of-type {\n",
              "        vertical-align: middle;\n",
              "    }\n",
              "\n",
              "    .dataframe tbody tr th {\n",
              "        vertical-align: top;\n",
              "    }\n",
              "\n",
              "    .dataframe thead th {\n",
              "        text-align: right;\n",
              "    }\n",
              "</style>\n",
              "<table border=\"1\" class=\"dataframe\">\n",
              "  <thead>\n",
              "    <tr style=\"text-align: right;\">\n",
              "      <th></th>\n",
              "      <th>LHWN</th>\n",
              "      <th>LHWD</th>\n",
              "      <th>LHWF</th>\n",
              "    </tr>\n",
              "  </thead>\n",
              "  <tbody>\n",
              "    <tr>\n",
              "      <th>count</th>\n",
              "      <td>12.000000</td>\n",
              "      <td>12.000000</td>\n",
              "      <td>12.000000</td>\n",
              "    </tr>\n",
              "    <tr>\n",
              "      <th>mean</th>\n",
              "      <td>0.166667</td>\n",
              "      <td>0.500000</td>\n",
              "      <td>0.500000</td>\n",
              "    </tr>\n",
              "    <tr>\n",
              "      <th>std</th>\n",
              "      <td>0.389249</td>\n",
              "      <td>1.167748</td>\n",
              "      <td>1.167748</td>\n",
              "    </tr>\n",
              "    <tr>\n",
              "      <th>min</th>\n",
              "      <td>0.000000</td>\n",
              "      <td>0.000000</td>\n",
              "      <td>0.000000</td>\n",
              "    </tr>\n",
              "    <tr>\n",
              "      <th>25%</th>\n",
              "      <td>0.000000</td>\n",
              "      <td>0.000000</td>\n",
              "      <td>0.000000</td>\n",
              "    </tr>\n",
              "    <tr>\n",
              "      <th>50%</th>\n",
              "      <td>0.000000</td>\n",
              "      <td>0.000000</td>\n",
              "      <td>0.000000</td>\n",
              "    </tr>\n",
              "    <tr>\n",
              "      <th>75%</th>\n",
              "      <td>0.000000</td>\n",
              "      <td>0.000000</td>\n",
              "      <td>0.000000</td>\n",
              "    </tr>\n",
              "    <tr>\n",
              "      <th>max</th>\n",
              "      <td>1.000000</td>\n",
              "      <td>3.000000</td>\n",
              "      <td>3.000000</td>\n",
              "    </tr>\n",
              "    <tr>\n",
              "      <th>sum</th>\n",
              "      <td>2.000000</td>\n",
              "      <td>6.000000</td>\n",
              "      <td>6.000000</td>\n",
              "    </tr>\n",
              "  </tbody>\n",
              "</table>\n",
              "</div>"
            ],
            "text/plain": [
              "            LHWN       LHWD       LHWF\n",
              "count  12.000000  12.000000  12.000000\n",
              "mean    0.166667   0.500000   0.500000\n",
              "std     0.389249   1.167748   1.167748\n",
              "min     0.000000   0.000000   0.000000\n",
              "25%     0.000000   0.000000   0.000000\n",
              "50%     0.000000   0.000000   0.000000\n",
              "75%     0.000000   0.000000   0.000000\n",
              "max     1.000000   3.000000   3.000000\n",
              "sum     2.000000   6.000000   6.000000"
            ]
          },
          "metadata": {
            "tags": []
          },
          "execution_count": 29
        }
      ]
    },
    {
      "cell_type": "markdown",
      "metadata": {
        "id": "Wfi5Xxq7Cwq1"
      },
      "source": [
        "**2007-2018**"
      ]
    },
    {
      "cell_type": "code",
      "metadata": {
        "colab": {
          "base_uri": "https://localhost:8080/"
        },
        "id": "6kJ06AaaCx11",
        "outputId": "e88353e1-4fcb-4794-d494-842e61d783eb"
      },
      "source": [
        "df = lhw_season.xs('2', level=1)[(lhw_season.xs('2', level=1).index >= 2007)].describe()\n",
        "df.loc['sum'] = lhw_season.xs('2', level=1)[lhw_season.xs('2', level=1).index >= 2007].sum()\n",
        "df"
      ],
      "execution_count": null,
      "outputs": [
        {
          "output_type": "execute_result",
          "data": {
            "text/html": [
              "<div>\n",
              "<style scoped>\n",
              "    .dataframe tbody tr th:only-of-type {\n",
              "        vertical-align: middle;\n",
              "    }\n",
              "\n",
              "    .dataframe tbody tr th {\n",
              "        vertical-align: top;\n",
              "    }\n",
              "\n",
              "    .dataframe thead th {\n",
              "        text-align: right;\n",
              "    }\n",
              "</style>\n",
              "<table border=\"1\" class=\"dataframe\">\n",
              "  <thead>\n",
              "    <tr style=\"text-align: right;\">\n",
              "      <th></th>\n",
              "      <th>LHWN</th>\n",
              "      <th>LHWD</th>\n",
              "      <th>LHWF</th>\n",
              "    </tr>\n",
              "  </thead>\n",
              "  <tbody>\n",
              "    <tr>\n",
              "      <th>count</th>\n",
              "      <td>12.000000</td>\n",
              "      <td>12.000000</td>\n",
              "      <td>12.000000</td>\n",
              "    </tr>\n",
              "    <tr>\n",
              "      <th>mean</th>\n",
              "      <td>0.750000</td>\n",
              "      <td>1.500000</td>\n",
              "      <td>2.833333</td>\n",
              "    </tr>\n",
              "    <tr>\n",
              "      <th>std</th>\n",
              "      <td>1.288057</td>\n",
              "      <td>2.393172</td>\n",
              "      <td>5.166911</td>\n",
              "    </tr>\n",
              "    <tr>\n",
              "      <th>min</th>\n",
              "      <td>0.000000</td>\n",
              "      <td>0.000000</td>\n",
              "      <td>0.000000</td>\n",
              "    </tr>\n",
              "    <tr>\n",
              "      <th>25%</th>\n",
              "      <td>0.000000</td>\n",
              "      <td>0.000000</td>\n",
              "      <td>0.000000</td>\n",
              "    </tr>\n",
              "    <tr>\n",
              "      <th>50%</th>\n",
              "      <td>0.000000</td>\n",
              "      <td>0.000000</td>\n",
              "      <td>0.000000</td>\n",
              "    </tr>\n",
              "    <tr>\n",
              "      <th>75%</th>\n",
              "      <td>1.250000</td>\n",
              "      <td>3.250000</td>\n",
              "      <td>4.500000</td>\n",
              "    </tr>\n",
              "    <tr>\n",
              "      <th>max</th>\n",
              "      <td>4.000000</td>\n",
              "      <td>7.000000</td>\n",
              "      <td>17.000000</td>\n",
              "    </tr>\n",
              "    <tr>\n",
              "      <th>sum</th>\n",
              "      <td>9.000000</td>\n",
              "      <td>18.000000</td>\n",
              "      <td>34.000000</td>\n",
              "    </tr>\n",
              "  </tbody>\n",
              "</table>\n",
              "</div>"
            ],
            "text/plain": [
              "            LHWN       LHWD       LHWF\n",
              "count  12.000000  12.000000  12.000000\n",
              "mean    0.750000   1.500000   2.833333\n",
              "std     1.288057   2.393172   5.166911\n",
              "min     0.000000   0.000000   0.000000\n",
              "25%     0.000000   0.000000   0.000000\n",
              "50%     0.000000   0.000000   0.000000\n",
              "75%     1.250000   3.250000   4.500000\n",
              "max     4.000000   7.000000  17.000000\n",
              "sum     9.000000  18.000000  34.000000"
            ]
          },
          "metadata": {
            "tags": []
          },
          "execution_count": 30
        }
      ]
    },
    {
      "cell_type": "markdown",
      "metadata": {
        "id": "H6yRfTI0wtR6"
      },
      "source": [
        "###**Winter**"
      ]
    },
    {
      "cell_type": "code",
      "metadata": {
        "colab": {
          "base_uri": "https://localhost:8080/"
        },
        "id": "iQKNYoELwtR8",
        "outputId": "84ea2cea-a345-49ef-e3e4-35454be82fd9"
      },
      "source": [
        "df = lhw_season.xs('3', level=1).describe()\n",
        "df.loc['sum'] = lhw_season.xs('3', level=1).sum()\n",
        "df"
      ],
      "execution_count": null,
      "outputs": [
        {
          "output_type": "execute_result",
          "data": {
            "text/html": [
              "<div>\n",
              "<style scoped>\n",
              "    .dataframe tbody tr th:only-of-type {\n",
              "        vertical-align: middle;\n",
              "    }\n",
              "\n",
              "    .dataframe tbody tr th {\n",
              "        vertical-align: top;\n",
              "    }\n",
              "\n",
              "    .dataframe thead th {\n",
              "        text-align: right;\n",
              "    }\n",
              "</style>\n",
              "<table border=\"1\" class=\"dataframe\">\n",
              "  <thead>\n",
              "    <tr style=\"text-align: right;\">\n",
              "      <th></th>\n",
              "      <th>LHWN</th>\n",
              "      <th>LHWD</th>\n",
              "      <th>LHWF</th>\n",
              "    </tr>\n",
              "  </thead>\n",
              "  <tbody>\n",
              "    <tr>\n",
              "      <th>count</th>\n",
              "      <td>36.000000</td>\n",
              "      <td>36.000000</td>\n",
              "      <td>36.000000</td>\n",
              "    </tr>\n",
              "    <tr>\n",
              "      <th>mean</th>\n",
              "      <td>0.500000</td>\n",
              "      <td>1.333333</td>\n",
              "      <td>2.111111</td>\n",
              "    </tr>\n",
              "    <tr>\n",
              "      <th>std</th>\n",
              "      <td>0.971008</td>\n",
              "      <td>2.255153</td>\n",
              "      <td>4.026894</td>\n",
              "    </tr>\n",
              "    <tr>\n",
              "      <th>min</th>\n",
              "      <td>0.000000</td>\n",
              "      <td>0.000000</td>\n",
              "      <td>0.000000</td>\n",
              "    </tr>\n",
              "    <tr>\n",
              "      <th>25%</th>\n",
              "      <td>0.000000</td>\n",
              "      <td>0.000000</td>\n",
              "      <td>0.000000</td>\n",
              "    </tr>\n",
              "    <tr>\n",
              "      <th>50%</th>\n",
              "      <td>0.000000</td>\n",
              "      <td>0.000000</td>\n",
              "      <td>0.000000</td>\n",
              "    </tr>\n",
              "    <tr>\n",
              "      <th>75%</th>\n",
              "      <td>1.000000</td>\n",
              "      <td>3.250000</td>\n",
              "      <td>3.250000</td>\n",
              "    </tr>\n",
              "    <tr>\n",
              "      <th>max</th>\n",
              "      <td>4.000000</td>\n",
              "      <td>7.000000</td>\n",
              "      <td>17.000000</td>\n",
              "    </tr>\n",
              "    <tr>\n",
              "      <th>sum</th>\n",
              "      <td>18.000000</td>\n",
              "      <td>48.000000</td>\n",
              "      <td>76.000000</td>\n",
              "    </tr>\n",
              "  </tbody>\n",
              "</table>\n",
              "</div>"
            ],
            "text/plain": [
              "            LHWN       LHWD       LHWF\n",
              "count  36.000000  36.000000  36.000000\n",
              "mean    0.500000   1.333333   2.111111\n",
              "std     0.971008   2.255153   4.026894\n",
              "min     0.000000   0.000000   0.000000\n",
              "25%     0.000000   0.000000   0.000000\n",
              "50%     0.000000   0.000000   0.000000\n",
              "75%     1.000000   3.250000   3.250000\n",
              "max     4.000000   7.000000  17.000000\n",
              "sum    18.000000  48.000000  76.000000"
            ]
          },
          "metadata": {
            "tags": []
          },
          "execution_count": 31
        }
      ]
    },
    {
      "cell_type": "markdown",
      "metadata": {
        "id": "RFc-OO4IwtR-"
      },
      "source": [
        "**1983-1994**"
      ]
    },
    {
      "cell_type": "code",
      "metadata": {
        "colab": {
          "base_uri": "https://localhost:8080/"
        },
        "id": "IfWAIFr4wtR-",
        "outputId": "af7b77a7-3dfd-4468-8d29-f1b6e3811ead"
      },
      "source": [
        "df = lhw_season.xs('3', level=1)[(lhw_season.xs('3', level=1).index<=1994)].describe()\n",
        "df.loc['sum'] = lhw_season.xs('3', level=1)[lhw_season.xs('3', level=1).index <= 1994].sum()\n",
        "df"
      ],
      "execution_count": null,
      "outputs": [
        {
          "output_type": "execute_result",
          "data": {
            "text/html": [
              "<div>\n",
              "<style scoped>\n",
              "    .dataframe tbody tr th:only-of-type {\n",
              "        vertical-align: middle;\n",
              "    }\n",
              "\n",
              "    .dataframe tbody tr th {\n",
              "        vertical-align: top;\n",
              "    }\n",
              "\n",
              "    .dataframe thead th {\n",
              "        text-align: right;\n",
              "    }\n",
              "</style>\n",
              "<table border=\"1\" class=\"dataframe\">\n",
              "  <thead>\n",
              "    <tr style=\"text-align: right;\">\n",
              "      <th></th>\n",
              "      <th>LHWN</th>\n",
              "      <th>LHWD</th>\n",
              "      <th>LHWF</th>\n",
              "    </tr>\n",
              "  </thead>\n",
              "  <tbody>\n",
              "    <tr>\n",
              "      <th>count</th>\n",
              "      <td>12.0</td>\n",
              "      <td>12.0</td>\n",
              "      <td>12.0</td>\n",
              "    </tr>\n",
              "    <tr>\n",
              "      <th>mean</th>\n",
              "      <td>0.0</td>\n",
              "      <td>0.0</td>\n",
              "      <td>0.0</td>\n",
              "    </tr>\n",
              "    <tr>\n",
              "      <th>std</th>\n",
              "      <td>0.0</td>\n",
              "      <td>0.0</td>\n",
              "      <td>0.0</td>\n",
              "    </tr>\n",
              "    <tr>\n",
              "      <th>min</th>\n",
              "      <td>0.0</td>\n",
              "      <td>0.0</td>\n",
              "      <td>0.0</td>\n",
              "    </tr>\n",
              "    <tr>\n",
              "      <th>25%</th>\n",
              "      <td>0.0</td>\n",
              "      <td>0.0</td>\n",
              "      <td>0.0</td>\n",
              "    </tr>\n",
              "    <tr>\n",
              "      <th>50%</th>\n",
              "      <td>0.0</td>\n",
              "      <td>0.0</td>\n",
              "      <td>0.0</td>\n",
              "    </tr>\n",
              "    <tr>\n",
              "      <th>75%</th>\n",
              "      <td>0.0</td>\n",
              "      <td>0.0</td>\n",
              "      <td>0.0</td>\n",
              "    </tr>\n",
              "    <tr>\n",
              "      <th>max</th>\n",
              "      <td>0.0</td>\n",
              "      <td>0.0</td>\n",
              "      <td>0.0</td>\n",
              "    </tr>\n",
              "    <tr>\n",
              "      <th>sum</th>\n",
              "      <td>0.0</td>\n",
              "      <td>0.0</td>\n",
              "      <td>0.0</td>\n",
              "    </tr>\n",
              "  </tbody>\n",
              "</table>\n",
              "</div>"
            ],
            "text/plain": [
              "       LHWN  LHWD  LHWF\n",
              "count  12.0  12.0  12.0\n",
              "mean    0.0   0.0   0.0\n",
              "std     0.0   0.0   0.0\n",
              "min     0.0   0.0   0.0\n",
              "25%     0.0   0.0   0.0\n",
              "50%     0.0   0.0   0.0\n",
              "75%     0.0   0.0   0.0\n",
              "max     0.0   0.0   0.0\n",
              "sum     0.0   0.0   0.0"
            ]
          },
          "metadata": {
            "tags": []
          },
          "execution_count": 32
        }
      ]
    },
    {
      "cell_type": "markdown",
      "metadata": {
        "id": "djnHg4WwwtR_"
      },
      "source": [
        "**1995-2006**"
      ]
    },
    {
      "cell_type": "code",
      "metadata": {
        "colab": {
          "base_uri": "https://localhost:8080/"
        },
        "id": "YR_vbwy-wtSA",
        "outputId": "3a7f8fcc-1b5b-4260-f241-a22e795d131e"
      },
      "source": [
        "df = lhw_season.xs('3', level=1)[(lhw_season.xs('3', level=1).index >= 1995) & (lhw_season.xs('3', level=1).index <= 2006)].describe()\n",
        "df.loc['sum'] = lhw_season.xs('3', level=1)[(lhw_season.xs('3', level=1).index >= 1995) & (lhw_season.xs('3', level=1).index <= 2006)].sum()\n",
        "df"
      ],
      "execution_count": null,
      "outputs": [
        {
          "output_type": "execute_result",
          "data": {
            "text/html": [
              "<div>\n",
              "<style scoped>\n",
              "    .dataframe tbody tr th:only-of-type {\n",
              "        vertical-align: middle;\n",
              "    }\n",
              "\n",
              "    .dataframe tbody tr th {\n",
              "        vertical-align: top;\n",
              "    }\n",
              "\n",
              "    .dataframe thead th {\n",
              "        text-align: right;\n",
              "    }\n",
              "</style>\n",
              "<table border=\"1\" class=\"dataframe\">\n",
              "  <thead>\n",
              "    <tr style=\"text-align: right;\">\n",
              "      <th></th>\n",
              "      <th>LHWN</th>\n",
              "      <th>LHWD</th>\n",
              "      <th>LHWF</th>\n",
              "    </tr>\n",
              "  </thead>\n",
              "  <tbody>\n",
              "    <tr>\n",
              "      <th>count</th>\n",
              "      <td>12.000000</td>\n",
              "      <td>12.000000</td>\n",
              "      <td>12.000000</td>\n",
              "    </tr>\n",
              "    <tr>\n",
              "      <th>mean</th>\n",
              "      <td>0.750000</td>\n",
              "      <td>2.416667</td>\n",
              "      <td>3.250000</td>\n",
              "    </tr>\n",
              "    <tr>\n",
              "      <th>std</th>\n",
              "      <td>0.965307</td>\n",
              "      <td>2.644319</td>\n",
              "      <td>3.792936</td>\n",
              "    </tr>\n",
              "    <tr>\n",
              "      <th>min</th>\n",
              "      <td>0.000000</td>\n",
              "      <td>0.000000</td>\n",
              "      <td>0.000000</td>\n",
              "    </tr>\n",
              "    <tr>\n",
              "      <th>25%</th>\n",
              "      <td>0.000000</td>\n",
              "      <td>0.000000</td>\n",
              "      <td>0.000000</td>\n",
              "    </tr>\n",
              "    <tr>\n",
              "      <th>50%</th>\n",
              "      <td>0.500000</td>\n",
              "      <td>2.000000</td>\n",
              "      <td>2.000000</td>\n",
              "    </tr>\n",
              "    <tr>\n",
              "      <th>75%</th>\n",
              "      <td>1.000000</td>\n",
              "      <td>4.250000</td>\n",
              "      <td>5.500000</td>\n",
              "    </tr>\n",
              "    <tr>\n",
              "      <th>max</th>\n",
              "      <td>3.000000</td>\n",
              "      <td>7.000000</td>\n",
              "      <td>11.000000</td>\n",
              "    </tr>\n",
              "    <tr>\n",
              "      <th>sum</th>\n",
              "      <td>9.000000</td>\n",
              "      <td>29.000000</td>\n",
              "      <td>39.000000</td>\n",
              "    </tr>\n",
              "  </tbody>\n",
              "</table>\n",
              "</div>"
            ],
            "text/plain": [
              "            LHWN       LHWD       LHWF\n",
              "count  12.000000  12.000000  12.000000\n",
              "mean    0.750000   2.416667   3.250000\n",
              "std     0.965307   2.644319   3.792936\n",
              "min     0.000000   0.000000   0.000000\n",
              "25%     0.000000   0.000000   0.000000\n",
              "50%     0.500000   2.000000   2.000000\n",
              "75%     1.000000   4.250000   5.500000\n",
              "max     3.000000   7.000000  11.000000\n",
              "sum     9.000000  29.000000  39.000000"
            ]
          },
          "metadata": {
            "tags": []
          },
          "execution_count": 33
        }
      ]
    },
    {
      "cell_type": "markdown",
      "metadata": {
        "id": "Mqzu_A5OC2Co"
      },
      "source": [
        "**2007-2018**"
      ]
    },
    {
      "cell_type": "code",
      "metadata": {
        "colab": {
          "base_uri": "https://localhost:8080/"
        },
        "id": "9yKrlvy7C3Wm",
        "outputId": "f979a67f-fbf3-4414-8012-2717df3f8980"
      },
      "source": [
        "df = lhw_season.xs('3', level=1)[(lhw_season.xs('3', level=1).index >= 2007)].describe()\n",
        "df.loc['sum'] = lhw_season.xs('3', level=1)[lhw_season.xs('3', level=1).index >= 2007].sum()\n",
        "df"
      ],
      "execution_count": null,
      "outputs": [
        {
          "output_type": "execute_result",
          "data": {
            "text/html": [
              "<div>\n",
              "<style scoped>\n",
              "    .dataframe tbody tr th:only-of-type {\n",
              "        vertical-align: middle;\n",
              "    }\n",
              "\n",
              "    .dataframe tbody tr th {\n",
              "        vertical-align: top;\n",
              "    }\n",
              "\n",
              "    .dataframe thead th {\n",
              "        text-align: right;\n",
              "    }\n",
              "</style>\n",
              "<table border=\"1\" class=\"dataframe\">\n",
              "  <thead>\n",
              "    <tr style=\"text-align: right;\">\n",
              "      <th></th>\n",
              "      <th>LHWN</th>\n",
              "      <th>LHWD</th>\n",
              "      <th>LHWF</th>\n",
              "    </tr>\n",
              "  </thead>\n",
              "  <tbody>\n",
              "    <tr>\n",
              "      <th>count</th>\n",
              "      <td>12.000000</td>\n",
              "      <td>12.000000</td>\n",
              "      <td>12.000000</td>\n",
              "    </tr>\n",
              "    <tr>\n",
              "      <th>mean</th>\n",
              "      <td>0.750000</td>\n",
              "      <td>1.583333</td>\n",
              "      <td>3.083333</td>\n",
              "    </tr>\n",
              "    <tr>\n",
              "      <th>std</th>\n",
              "      <td>1.288057</td>\n",
              "      <td>2.429303</td>\n",
              "      <td>5.468228</td>\n",
              "    </tr>\n",
              "    <tr>\n",
              "      <th>min</th>\n",
              "      <td>0.000000</td>\n",
              "      <td>0.000000</td>\n",
              "      <td>0.000000</td>\n",
              "    </tr>\n",
              "    <tr>\n",
              "      <th>25%</th>\n",
              "      <td>0.000000</td>\n",
              "      <td>0.000000</td>\n",
              "      <td>0.000000</td>\n",
              "    </tr>\n",
              "    <tr>\n",
              "      <th>50%</th>\n",
              "      <td>0.000000</td>\n",
              "      <td>0.000000</td>\n",
              "      <td>0.000000</td>\n",
              "    </tr>\n",
              "    <tr>\n",
              "      <th>75%</th>\n",
              "      <td>1.250000</td>\n",
              "      <td>3.500000</td>\n",
              "      <td>4.250000</td>\n",
              "    </tr>\n",
              "    <tr>\n",
              "      <th>max</th>\n",
              "      <td>4.000000</td>\n",
              "      <td>6.000000</td>\n",
              "      <td>17.000000</td>\n",
              "    </tr>\n",
              "    <tr>\n",
              "      <th>sum</th>\n",
              "      <td>9.000000</td>\n",
              "      <td>19.000000</td>\n",
              "      <td>37.000000</td>\n",
              "    </tr>\n",
              "  </tbody>\n",
              "</table>\n",
              "</div>"
            ],
            "text/plain": [
              "            LHWN       LHWD       LHWF\n",
              "count  12.000000  12.000000  12.000000\n",
              "mean    0.750000   1.583333   3.083333\n",
              "std     1.288057   2.429303   5.468228\n",
              "min     0.000000   0.000000   0.000000\n",
              "25%     0.000000   0.000000   0.000000\n",
              "50%     0.000000   0.000000   0.000000\n",
              "75%     1.250000   3.500000   4.250000\n",
              "max     4.000000   6.000000  17.000000\n",
              "sum     9.000000  19.000000  37.000000"
            ]
          },
          "metadata": {
            "tags": []
          },
          "execution_count": 34
        }
      ]
    },
    {
      "cell_type": "markdown",
      "metadata": {
        "id": "LqX34vEVwuE7"
      },
      "source": [
        "###**Spring**"
      ]
    },
    {
      "cell_type": "code",
      "metadata": {
        "colab": {
          "base_uri": "https://localhost:8080/"
        },
        "id": "KxFpBm2twuE9",
        "outputId": "2059cc24-51c5-487d-cf70-8335bf0a8904"
      },
      "source": [
        "df = lhw_season.xs('4', level=1).describe()\n",
        "df.loc['sum'] = lhw_season.xs('4', level=1).sum()\n",
        "df"
      ],
      "execution_count": null,
      "outputs": [
        {
          "output_type": "execute_result",
          "data": {
            "text/html": [
              "<div>\n",
              "<style scoped>\n",
              "    .dataframe tbody tr th:only-of-type {\n",
              "        vertical-align: middle;\n",
              "    }\n",
              "\n",
              "    .dataframe tbody tr th {\n",
              "        vertical-align: top;\n",
              "    }\n",
              "\n",
              "    .dataframe thead th {\n",
              "        text-align: right;\n",
              "    }\n",
              "</style>\n",
              "<table border=\"1\" class=\"dataframe\">\n",
              "  <thead>\n",
              "    <tr style=\"text-align: right;\">\n",
              "      <th></th>\n",
              "      <th>LHWN</th>\n",
              "      <th>LHWD</th>\n",
              "      <th>LHWF</th>\n",
              "    </tr>\n",
              "  </thead>\n",
              "  <tbody>\n",
              "    <tr>\n",
              "      <th>count</th>\n",
              "      <td>36.000000</td>\n",
              "      <td>36.000000</td>\n",
              "      <td>36.000000</td>\n",
              "    </tr>\n",
              "    <tr>\n",
              "      <th>mean</th>\n",
              "      <td>0.305556</td>\n",
              "      <td>1.027778</td>\n",
              "      <td>1.194444</td>\n",
              "    </tr>\n",
              "    <tr>\n",
              "      <th>std</th>\n",
              "      <td>0.576663</td>\n",
              "      <td>2.035206</td>\n",
              "      <td>2.550288</td>\n",
              "    </tr>\n",
              "    <tr>\n",
              "      <th>min</th>\n",
              "      <td>0.000000</td>\n",
              "      <td>0.000000</td>\n",
              "      <td>0.000000</td>\n",
              "    </tr>\n",
              "    <tr>\n",
              "      <th>25%</th>\n",
              "      <td>0.000000</td>\n",
              "      <td>0.000000</td>\n",
              "      <td>0.000000</td>\n",
              "    </tr>\n",
              "    <tr>\n",
              "      <th>50%</th>\n",
              "      <td>0.000000</td>\n",
              "      <td>0.000000</td>\n",
              "      <td>0.000000</td>\n",
              "    </tr>\n",
              "    <tr>\n",
              "      <th>75%</th>\n",
              "      <td>0.250000</td>\n",
              "      <td>0.750000</td>\n",
              "      <td>0.750000</td>\n",
              "    </tr>\n",
              "    <tr>\n",
              "      <th>max</th>\n",
              "      <td>2.000000</td>\n",
              "      <td>9.000000</td>\n",
              "      <td>12.000000</td>\n",
              "    </tr>\n",
              "    <tr>\n",
              "      <th>sum</th>\n",
              "      <td>11.000000</td>\n",
              "      <td>37.000000</td>\n",
              "      <td>43.000000</td>\n",
              "    </tr>\n",
              "  </tbody>\n",
              "</table>\n",
              "</div>"
            ],
            "text/plain": [
              "            LHWN       LHWD       LHWF\n",
              "count  36.000000  36.000000  36.000000\n",
              "mean    0.305556   1.027778   1.194444\n",
              "std     0.576663   2.035206   2.550288\n",
              "min     0.000000   0.000000   0.000000\n",
              "25%     0.000000   0.000000   0.000000\n",
              "50%     0.000000   0.000000   0.000000\n",
              "75%     0.250000   0.750000   0.750000\n",
              "max     2.000000   9.000000  12.000000\n",
              "sum    11.000000  37.000000  43.000000"
            ]
          },
          "metadata": {
            "tags": []
          },
          "execution_count": 35
        }
      ]
    },
    {
      "cell_type": "markdown",
      "metadata": {
        "id": "yt2HIpjiwuE-"
      },
      "source": [
        "**1983-1994**"
      ]
    },
    {
      "cell_type": "code",
      "metadata": {
        "colab": {
          "base_uri": "https://localhost:8080/"
        },
        "id": "esOicLZUwuE_",
        "outputId": "6c5f1b8f-2ec5-433e-ef39-e55ce5eef530"
      },
      "source": [
        "df = lhw_season.xs('4', level=1)[(lhw_season.xs('4', level=1).index<=1994)].describe()\n",
        "df.loc['sum'] = lhw_season.xs('4', level=1)[lhw_season.xs('4', level=1).index <= 1994].sum()\n",
        "df"
      ],
      "execution_count": null,
      "outputs": [
        {
          "output_type": "execute_result",
          "data": {
            "text/html": [
              "<div>\n",
              "<style scoped>\n",
              "    .dataframe tbody tr th:only-of-type {\n",
              "        vertical-align: middle;\n",
              "    }\n",
              "\n",
              "    .dataframe tbody tr th {\n",
              "        vertical-align: top;\n",
              "    }\n",
              "\n",
              "    .dataframe thead th {\n",
              "        text-align: right;\n",
              "    }\n",
              "</style>\n",
              "<table border=\"1\" class=\"dataframe\">\n",
              "  <thead>\n",
              "    <tr style=\"text-align: right;\">\n",
              "      <th></th>\n",
              "      <th>LHWN</th>\n",
              "      <th>LHWD</th>\n",
              "      <th>LHWF</th>\n",
              "    </tr>\n",
              "  </thead>\n",
              "  <tbody>\n",
              "    <tr>\n",
              "      <th>count</th>\n",
              "      <td>12.000000</td>\n",
              "      <td>12.000000</td>\n",
              "      <td>12.000000</td>\n",
              "    </tr>\n",
              "    <tr>\n",
              "      <th>mean</th>\n",
              "      <td>0.166667</td>\n",
              "      <td>0.666667</td>\n",
              "      <td>0.666667</td>\n",
              "    </tr>\n",
              "    <tr>\n",
              "      <th>std</th>\n",
              "      <td>0.389249</td>\n",
              "      <td>1.614330</td>\n",
              "      <td>1.614330</td>\n",
              "    </tr>\n",
              "    <tr>\n",
              "      <th>min</th>\n",
              "      <td>0.000000</td>\n",
              "      <td>0.000000</td>\n",
              "      <td>0.000000</td>\n",
              "    </tr>\n",
              "    <tr>\n",
              "      <th>25%</th>\n",
              "      <td>0.000000</td>\n",
              "      <td>0.000000</td>\n",
              "      <td>0.000000</td>\n",
              "    </tr>\n",
              "    <tr>\n",
              "      <th>50%</th>\n",
              "      <td>0.000000</td>\n",
              "      <td>0.000000</td>\n",
              "      <td>0.000000</td>\n",
              "    </tr>\n",
              "    <tr>\n",
              "      <th>75%</th>\n",
              "      <td>0.000000</td>\n",
              "      <td>0.000000</td>\n",
              "      <td>0.000000</td>\n",
              "    </tr>\n",
              "    <tr>\n",
              "      <th>max</th>\n",
              "      <td>1.000000</td>\n",
              "      <td>5.000000</td>\n",
              "      <td>5.000000</td>\n",
              "    </tr>\n",
              "    <tr>\n",
              "      <th>sum</th>\n",
              "      <td>2.000000</td>\n",
              "      <td>8.000000</td>\n",
              "      <td>8.000000</td>\n",
              "    </tr>\n",
              "  </tbody>\n",
              "</table>\n",
              "</div>"
            ],
            "text/plain": [
              "            LHWN       LHWD       LHWF\n",
              "count  12.000000  12.000000  12.000000\n",
              "mean    0.166667   0.666667   0.666667\n",
              "std     0.389249   1.614330   1.614330\n",
              "min     0.000000   0.000000   0.000000\n",
              "25%     0.000000   0.000000   0.000000\n",
              "50%     0.000000   0.000000   0.000000\n",
              "75%     0.000000   0.000000   0.000000\n",
              "max     1.000000   5.000000   5.000000\n",
              "sum     2.000000   8.000000   8.000000"
            ]
          },
          "metadata": {
            "tags": []
          },
          "execution_count": 36
        }
      ]
    },
    {
      "cell_type": "markdown",
      "metadata": {
        "id": "aNJrSBEUwuFA"
      },
      "source": [
        "**1995-2006**"
      ]
    },
    {
      "cell_type": "code",
      "metadata": {
        "colab": {
          "base_uri": "https://localhost:8080/"
        },
        "id": "d01rWhZ_wuFB",
        "outputId": "171a8584-4860-463c-c985-8f5f103aaa55"
      },
      "source": [
        "df = lhw_season.xs('4', level=1)[(lhw_season.xs('4', level=1).index >= 1995) & (lhw_season.xs('4', level=1).index <= 2006)].describe()\n",
        "df.loc['sum'] = lhw_season.xs('4', level=1)[(lhw_season.xs('4', level=1).index >= 1995) & (lhw_season.xs('4', level=1).index <= 2006)].sum()\n",
        "df"
      ],
      "execution_count": null,
      "outputs": [
        {
          "output_type": "execute_result",
          "data": {
            "text/html": [
              "<div>\n",
              "<style scoped>\n",
              "    .dataframe tbody tr th:only-of-type {\n",
              "        vertical-align: middle;\n",
              "    }\n",
              "\n",
              "    .dataframe tbody tr th {\n",
              "        vertical-align: top;\n",
              "    }\n",
              "\n",
              "    .dataframe thead th {\n",
              "        text-align: right;\n",
              "    }\n",
              "</style>\n",
              "<table border=\"1\" class=\"dataframe\">\n",
              "  <thead>\n",
              "    <tr style=\"text-align: right;\">\n",
              "      <th></th>\n",
              "      <th>LHWN</th>\n",
              "      <th>LHWD</th>\n",
              "      <th>LHWF</th>\n",
              "    </tr>\n",
              "  </thead>\n",
              "  <tbody>\n",
              "    <tr>\n",
              "      <th>count</th>\n",
              "      <td>12.000000</td>\n",
              "      <td>12.000000</td>\n",
              "      <td>12.000000</td>\n",
              "    </tr>\n",
              "    <tr>\n",
              "      <th>mean</th>\n",
              "      <td>0.333333</td>\n",
              "      <td>0.916667</td>\n",
              "      <td>1.166667</td>\n",
              "    </tr>\n",
              "    <tr>\n",
              "      <th>std</th>\n",
              "      <td>0.651339</td>\n",
              "      <td>1.676486</td>\n",
              "      <td>2.289634</td>\n",
              "    </tr>\n",
              "    <tr>\n",
              "      <th>min</th>\n",
              "      <td>0.000000</td>\n",
              "      <td>0.000000</td>\n",
              "      <td>0.000000</td>\n",
              "    </tr>\n",
              "    <tr>\n",
              "      <th>25%</th>\n",
              "      <td>0.000000</td>\n",
              "      <td>0.000000</td>\n",
              "      <td>0.000000</td>\n",
              "    </tr>\n",
              "    <tr>\n",
              "      <th>50%</th>\n",
              "      <td>0.000000</td>\n",
              "      <td>0.000000</td>\n",
              "      <td>0.000000</td>\n",
              "    </tr>\n",
              "    <tr>\n",
              "      <th>75%</th>\n",
              "      <td>0.250000</td>\n",
              "      <td>0.750000</td>\n",
              "      <td>0.750000</td>\n",
              "    </tr>\n",
              "    <tr>\n",
              "      <th>max</th>\n",
              "      <td>2.000000</td>\n",
              "      <td>4.000000</td>\n",
              "      <td>7.000000</td>\n",
              "    </tr>\n",
              "    <tr>\n",
              "      <th>sum</th>\n",
              "      <td>4.000000</td>\n",
              "      <td>11.000000</td>\n",
              "      <td>14.000000</td>\n",
              "    </tr>\n",
              "  </tbody>\n",
              "</table>\n",
              "</div>"
            ],
            "text/plain": [
              "            LHWN       LHWD       LHWF\n",
              "count  12.000000  12.000000  12.000000\n",
              "mean    0.333333   0.916667   1.166667\n",
              "std     0.651339   1.676486   2.289634\n",
              "min     0.000000   0.000000   0.000000\n",
              "25%     0.000000   0.000000   0.000000\n",
              "50%     0.000000   0.000000   0.000000\n",
              "75%     0.250000   0.750000   0.750000\n",
              "max     2.000000   4.000000   7.000000\n",
              "sum     4.000000  11.000000  14.000000"
            ]
          },
          "metadata": {
            "tags": []
          },
          "execution_count": 37
        }
      ]
    },
    {
      "cell_type": "markdown",
      "metadata": {
        "id": "E4YA6biUC7Nr"
      },
      "source": [
        "**2007-2018**"
      ]
    },
    {
      "cell_type": "code",
      "metadata": {
        "colab": {
          "base_uri": "https://localhost:8080/"
        },
        "id": "RA0WP1AsC81g",
        "outputId": "067db792-c0df-4705-c1fc-fc515380e1e1"
      },
      "source": [
        "df = lhw_season.xs('4', level=1)[(lhw_season.xs('4', level=1).index >= 2007)].describe()\n",
        "df.loc['sum'] = lhw_season.xs('4', level=1)[lhw_season.xs('4', level=1).index >= 2007].sum()\n",
        "df"
      ],
      "execution_count": null,
      "outputs": [
        {
          "output_type": "execute_result",
          "data": {
            "text/html": [
              "<div>\n",
              "<style scoped>\n",
              "    .dataframe tbody tr th:only-of-type {\n",
              "        vertical-align: middle;\n",
              "    }\n",
              "\n",
              "    .dataframe tbody tr th {\n",
              "        vertical-align: top;\n",
              "    }\n",
              "\n",
              "    .dataframe thead th {\n",
              "        text-align: right;\n",
              "    }\n",
              "</style>\n",
              "<table border=\"1\" class=\"dataframe\">\n",
              "  <thead>\n",
              "    <tr style=\"text-align: right;\">\n",
              "      <th></th>\n",
              "      <th>LHWN</th>\n",
              "      <th>LHWD</th>\n",
              "      <th>LHWF</th>\n",
              "    </tr>\n",
              "  </thead>\n",
              "  <tbody>\n",
              "    <tr>\n",
              "      <th>count</th>\n",
              "      <td>12.000000</td>\n",
              "      <td>12.000000</td>\n",
              "      <td>12.0000</td>\n",
              "    </tr>\n",
              "    <tr>\n",
              "      <th>mean</th>\n",
              "      <td>0.416667</td>\n",
              "      <td>1.500000</td>\n",
              "      <td>1.7500</td>\n",
              "    </tr>\n",
              "    <tr>\n",
              "      <th>std</th>\n",
              "      <td>0.668558</td>\n",
              "      <td>2.713602</td>\n",
              "      <td>3.4935</td>\n",
              "    </tr>\n",
              "    <tr>\n",
              "      <th>min</th>\n",
              "      <td>0.000000</td>\n",
              "      <td>0.000000</td>\n",
              "      <td>0.0000</td>\n",
              "    </tr>\n",
              "    <tr>\n",
              "      <th>25%</th>\n",
              "      <td>0.000000</td>\n",
              "      <td>0.000000</td>\n",
              "      <td>0.0000</td>\n",
              "    </tr>\n",
              "    <tr>\n",
              "      <th>50%</th>\n",
              "      <td>0.000000</td>\n",
              "      <td>0.000000</td>\n",
              "      <td>0.0000</td>\n",
              "    </tr>\n",
              "    <tr>\n",
              "      <th>75%</th>\n",
              "      <td>1.000000</td>\n",
              "      <td>3.000000</td>\n",
              "      <td>3.0000</td>\n",
              "    </tr>\n",
              "    <tr>\n",
              "      <th>max</th>\n",
              "      <td>2.000000</td>\n",
              "      <td>9.000000</td>\n",
              "      <td>12.0000</td>\n",
              "    </tr>\n",
              "    <tr>\n",
              "      <th>sum</th>\n",
              "      <td>5.000000</td>\n",
              "      <td>18.000000</td>\n",
              "      <td>21.0000</td>\n",
              "    </tr>\n",
              "  </tbody>\n",
              "</table>\n",
              "</div>"
            ],
            "text/plain": [
              "            LHWN       LHWD     LHWF\n",
              "count  12.000000  12.000000  12.0000\n",
              "mean    0.416667   1.500000   1.7500\n",
              "std     0.668558   2.713602   3.4935\n",
              "min     0.000000   0.000000   0.0000\n",
              "25%     0.000000   0.000000   0.0000\n",
              "50%     0.000000   0.000000   0.0000\n",
              "75%     1.000000   3.000000   3.0000\n",
              "max     2.000000   9.000000  12.0000\n",
              "sum     5.000000  18.000000  21.0000"
            ]
          },
          "metadata": {
            "tags": []
          },
          "execution_count": 38
        }
      ]
    },
    {
      "cell_type": "markdown",
      "metadata": {
        "id": "oYQfl1qQzUlz"
      },
      "source": [
        "##**Trend analysis: yearly metrics**"
      ]
    },
    {
      "cell_type": "markdown",
      "metadata": {
        "id": "nadAHiD3zqhL"
      },
      "source": [
        "###**Autocorrelation plots**\n",
        "\n",
        "An autocorrelation plot shows whether the elements of a time series are positively correlated, negatively correlated, or independent of each other. The vertical axis shows the value of the autocorrelation function (acf), that can range from -1 to 1. The horizontal axis of an autocorrelation plot shows the size of the lag between the elements of the time series.  Each spike that rises above or falls below the shaded are is considered to be statistically significant.\n",
        "\n",
        "We obtained the autocorrelation plot for each metric. We can observe that almost all lags (lag 0 is 1 per definition) are under the shaded area. This indicates that the data is not significantly correlated."
      ]
    },
    {
      "cell_type": "code",
      "metadata": {
        "colab": {
          "base_uri": "https://localhost:8080/",
          "height": 281
        },
        "id": "ngR7ckz1zxSE",
        "outputId": "0860c92d-a53c-42dd-f11b-adc1be302f48"
      },
      "source": [
        "#number of waves\n",
        "plot_acf(lhw_yearly.LHWN.dropna())\n",
        "plt.show()"
      ],
      "execution_count": null,
      "outputs": [
        {
          "output_type": "display_data",
          "data": {
            "image/png": "[encoded data removed]",
            "text/plain": [
              "<Figure size 432x288 with 1 Axes>"
            ]
          },
          "metadata": {
            "tags": [],
            "needs_background": "light"
          }
        }
      ]
    },
    {
      "cell_type": "code",
      "metadata": {
        "colab": {
          "base_uri": "https://localhost:8080/",
          "height": 281
        },
        "id": "dl1XOC_hz5sr",
        "outputId": "2779ce50-89b6-49ab-e040-a87d06d8b74e"
      },
      "source": [
        "#longest wave\n",
        "plot_acf(lhw_yearly.LHWD.dropna())\n",
        "plt.show()"
      ],
      "execution_count": null,
      "outputs": [
        {
          "output_type": "display_data",
          "data": {
            "image/png": "[encoded data removed]",
            "text/plain": [
              "<Figure size 432x288 with 1 Axes>"
            ]
          },
          "metadata": {
            "tags": [],
            "needs_background": "light"
          }
        }
      ]
    },
    {
      "cell_type": "code",
      "metadata": {
        "colab": {
          "base_uri": "https://localhost:8080/",
          "height": 281
        },
        "id": "YUpQyV8Lz_R-",
        "outputId": "04c8e646-20cd-4abd-dd7b-7f3314238270"
      },
      "source": [
        "#total number of days under wave\n",
        "plot_acf(lhw_yearly.LHWF.dropna())\n",
        "plt.show()"
      ],
      "execution_count": null,
      "outputs": [
        {
          "output_type": "display_data",
          "data": {
            "image/png": "[encoded data removed]",
            "text/plain": [
              "<Figure size 432x288 with 1 Axes>"
            ]
          },
          "metadata": {
            "tags": [],
            "needs_background": "light"
          }
        }
      ]
    },
    {
      "cell_type": "code",
      "metadata": {
        "colab": {
          "base_uri": "https://localhost:8080/"
        },
        "id": "X3yy3WJZ0qYk",
        "outputId": "85ca995f-77f9-427e-956a-47814c80425c"
      },
      "source": [
        "#loading metrics data in R\n",
        "%%R\n",
        "R_humidity <- read.csv('/content/drive/Shared drives/Clima&Saúde/Pesquisadores/DeLázari_Júlia/data/Climáticos_Viracopos/LHW/LHW_yearly_metrics.csv', header = TRUE)\n",
        "R_humidity <- R_humidity[ -c(0:1)]\n",
        "\n",
        "head(R_humidity)"
      ],
      "execution_count": null,
      "outputs": [
        {
          "output_type": "stream",
          "text": [
            "  LHWN LHWD LHWF\n",
            "1    0    0    0\n",
            "2    0    0    0\n",
            "3    2    5    8\n",
            "4    0    0    0\n",
            "5    0    0    0\n",
            "6    0    0    0\n"
          ],
          "name": "stdout"
        }
      ]
    },
    {
      "cell_type": "markdown",
      "metadata": {
        "id": "KLdSFXmi0wU3"
      },
      "source": [
        "###**Cox - Stuart test**\n",
        "\n",
        "The Cox-Stuart test is defined as a little powerful test, but very robust for the trend analysis [Cox e Stuart, 1955].\n",
        "\n",
        "Data is grouped in pairs with the ith observation of the first half paired with the ith observation of the second half of the time-ordered data. If the length of vector X is odd the middle observation is eliminated. The cox stuart test is then simply a sign test applied to these paired data.\n",
        "\n",
        "Based on the plots of yearly metrics, we tested for increasing trend (\"right.sided\") of the low humidity waves metrics (LHWN, LHWD, LHWF) and obtained a stastically significant result for all of them.\n"
      ]
    },
    {
      "cell_type": "markdown",
      "metadata": {
        "id": "Ec3vaIZ50zmZ"
      },
      "source": [
        "**LHWN**"
      ]
    },
    {
      "cell_type": "code",
      "metadata": {
        "colab": {
          "base_uri": "https://localhost:8080/"
        },
        "id": "i0-pcknL0ybG",
        "outputId": "94e3e785-2e50-4598-d7ac-56ec3f6c5a48"
      },
      "source": [
        "%%R\n",
        "cox.stuart.test(R_humidity$LHWN,'right.sided')"
      ],
      "execution_count": null,
      "outputs": [
        {
          "output_type": "stream",
          "text": [
            "\n",
            "\tCox Stuart test\n",
            "\n",
            "data:  R_humidity$LHWN\n",
            "statistic = 9, n = 11, p-value = 0.03271\n",
            "alternative hypothesis: increasing trend\n",
            "\n"
          ],
          "name": "stdout"
        }
      ]
    },
    {
      "cell_type": "markdown",
      "metadata": {
        "id": "LoAM2vG803XD"
      },
      "source": [
        "**LHWD**"
      ]
    },
    {
      "cell_type": "code",
      "metadata": {
        "colab": {
          "base_uri": "https://localhost:8080/"
        },
        "id": "LhqYTlmC05RA",
        "outputId": "a97d5383-15ae-4ec1-ee0d-5833e0df2ebb"
      },
      "source": [
        "%%R\n",
        "cox.stuart.test(R_humidity$LHWD,'right.sided')"
      ],
      "execution_count": null,
      "outputs": [
        {
          "output_type": "stream",
          "text": [
            "\n",
            "\tCox Stuart test\n",
            "\n",
            "data:  R_humidity$LHWD\n",
            "statistic = 10, n = 13, p-value = 0.04614\n",
            "alternative hypothesis: increasing trend\n",
            "\n"
          ],
          "name": "stdout"
        }
      ]
    },
    {
      "cell_type": "markdown",
      "metadata": {
        "id": "CAOZS0lK06k3"
      },
      "source": [
        "**LHWF**"
      ]
    },
    {
      "cell_type": "code",
      "metadata": {
        "colab": {
          "base_uri": "https://localhost:8080/"
        },
        "id": "pIbcnsop076R",
        "outputId": "21984dd3-b600-478e-8008-249858f1f54c"
      },
      "source": [
        "%%R\n",
        "cox.stuart.test(R_humidity$LHWF,'right.sided')"
      ],
      "execution_count": null,
      "outputs": [
        {
          "output_type": "stream",
          "text": [
            "\n",
            "\tCox Stuart test\n",
            "\n",
            "data:  R_humidity$LHWF\n",
            "statistic = 10, n = 13, p-value = 0.04614\n",
            "alternative hypothesis: increasing trend\n",
            "\n"
          ],
          "name": "stdout"
        }
      ]
    },
    {
      "cell_type": "markdown",
      "metadata": {
        "id": "gd_KFY1_3H0I"
      },
      "source": [
        "###**Mann Kendall**\n",
        "\n",
        "Non parametric test used to evaluate trends in time series [Mann 1945].\n",
        "\n",
        "- Null hypothesis (H0): data is independent and identically distributed (no trend)\n",
        "- Alternative hypothesis (H1): data is **not** independent and identically distributed (possible trend)\n",
        "\n",
        "The Mann-Kendall tests are based on the calculation of Kendall's tau measure of association between two samples, which is itself based on the ranks with the samples. The computations assume that the observations are independent.\n",
        "\n",
        "As some correlation was found between data, we also applied Trend Free\n",
        "Pre-Whitening method - TFPW to account for this correlation [Yue, Pilon e Cavadias 2002, Blain 2014]."
      ]
    },
    {
      "cell_type": "markdown",
      "metadata": {
        "id": "lnLDOAxR2Pf_"
      },
      "source": [
        "**LHWN**"
      ]
    },
    {
      "cell_type": "code",
      "metadata": {
        "colab": {
          "base_uri": "https://localhost:8080/"
        },
        "id": "y1BjD-Mf2MDT",
        "outputId": "c9454f34-e4f4-484c-9a8e-febdd6fd5efd"
      },
      "source": [
        "#applying original Mann-Kendall test\n",
        "%%R\n",
        "mkttest(R_humidity$LHWN)"
      ],
      "execution_count": null,
      "outputs": [
        {
          "output_type": "stream",
          "text": [
            "     Z-Value  Sen's slope            S       Var(S)      P-value          Tau \n",
            "2.684201e+00 3.279570e-02 1.850000e+02 4.699000e+03 7.270329e-03 2.936508e-01 \n"
          ],
          "name": "stdout"
        }
      ]
    },
    {
      "cell_type": "code",
      "metadata": {
        "colab": {
          "base_uri": "https://localhost:8080/"
        },
        "id": "lU8ub0Ix2MDW",
        "outputId": "675a0251-00c9-47e3-9dcb-98eb37582bec"
      },
      "source": [
        "#applying trend-free pre-whitening modified Mann-Kendall test\n",
        "%%R\n",
        "tfpwmk(R_humidity$LHWN)"
      ],
      "execution_count": null,
      "outputs": [
        {
          "output_type": "stream",
          "text": [
            "        Z-Value     Sen's Slope Old Sen's Slope         P-value               S \n",
            "   2.613063e+00    3.814899e-02    3.279570e-02    8.973463e-03    1.850000e+02 \n",
            "         Var(S)             Tau \n",
            "   4.958333e+03    3.109244e-01 \n"
          ],
          "name": "stdout"
        }
      ]
    },
    {
      "cell_type": "markdown",
      "metadata": {
        "id": "2GMxXSez2hDd"
      },
      "source": [
        "**LHWD**"
      ]
    },
    {
      "cell_type": "code",
      "metadata": {
        "colab": {
          "base_uri": "https://localhost:8080/"
        },
        "id": "okvyOfoM2hDe",
        "outputId": "ac0292c8-b3d8-4847-cb72-95fa2b090512"
      },
      "source": [
        "#applying original Mann-Kendall test\n",
        "%%R\n",
        "mkttest(R_humidity$LHWD)"
      ],
      "execution_count": null,
      "outputs": [
        {
          "output_type": "stream",
          "text": [
            "     Z-Value  Sen's slope            S       Var(S)      P-value          Tau \n",
            "2.899566e+00 1.091270e-01 2.010000e+02 4.757667e+03 3.736797e-03 3.190476e-01 \n"
          ],
          "name": "stdout"
        }
      ]
    },
    {
      "cell_type": "code",
      "metadata": {
        "colab": {
          "base_uri": "https://localhost:8080/"
        },
        "id": "mZ1je74m2hDe",
        "outputId": "f502b9fc-425a-461d-e36d-b3a67f898359"
      },
      "source": [
        "#applying trend-free pre-whitening modified Mann-Kendall test\n",
        "%%R\n",
        "tfpwmk(R_humidity$LHWD)"
      ],
      "execution_count": null,
      "outputs": [
        {
          "output_type": "stream",
          "text": [
            "        Z-Value     Sen's Slope Old Sen's Slope         P-value               S \n",
            "   2.669869e+00    1.090199e-01    1.091270e-01    7.588079e-03    1.890000e+02 \n",
            "         Var(S)             Tau \n",
            "   4.958333e+03    3.176471e-01 \n"
          ],
          "name": "stdout"
        }
      ]
    },
    {
      "cell_type": "markdown",
      "metadata": {
        "id": "dDgewcf62uYK"
      },
      "source": [
        "**LHWF**"
      ]
    },
    {
      "cell_type": "code",
      "metadata": {
        "colab": {
          "base_uri": "https://localhost:8080/"
        },
        "id": "TD4bYI6k2uYK",
        "outputId": "c100dae0-e241-45d7-a526-742a0811b440"
      },
      "source": [
        "#applying original Mann-Kendall test\n",
        "%%R\n",
        "mkttest(R_humidity$LHWF)"
      ],
      "execution_count": null,
      "outputs": [
        {
          "output_type": "stream",
          "text": [
            "     Z-Value  Sen's slope            S       Var(S)      P-value          Tau \n",
            "2.644685e+00 1.428571e-01 1.840000e+02 4.788000e+03 8.176690e-03 2.920635e-01 \n"
          ],
          "name": "stdout"
        }
      ]
    },
    {
      "cell_type": "code",
      "metadata": {
        "colab": {
          "base_uri": "https://localhost:8080/"
        },
        "id": "f43V8zSb2uYL",
        "outputId": "8fed95b3-40fc-4474-e9ec-b7e988063aa1"
      },
      "source": [
        "#applying trend-free pre-whitening modified Mann-Kendall test\n",
        "%%R\n",
        "tfpwmk(R_humidity$LHWF)"
      ],
      "execution_count": null,
      "outputs": [
        {
          "output_type": "stream",
          "text": [
            "        Z-Value     Sen's Slope Old Sen's Slope         P-value               S \n",
            "   2.542313e+00    1.675793e-01    1.428571e-01    1.101216e-02    1.800000e+02 \n",
            "         Var(S)             Tau \n",
            "   4.957333e+03    3.025210e-01 \n"
          ],
          "name": "stdout"
        }
      ]
    },
    {
      "cell_type": "markdown",
      "metadata": {
        "id": "21ROTxNp5gf9"
      },
      "source": [
        "##**Trend analysis: seasonal metrics**"
      ]
    },
    {
      "cell_type": "code",
      "metadata": {
        "colab": {
          "base_uri": "https://localhost:8080/"
        },
        "id": "XhSOLJ9u5jZt",
        "outputId": "934d5051-71a9-440e-fc6b-30125e702ab0"
      },
      "source": [
        "#loading metrics data in R\n",
        "%%R\n",
        "R_humidity_season <- read.csv('/content/drive/Shared drives/Clima&Saúde/Pesquisadores/DeLázari_Júlia/data/Climáticos_Viracopos/LHW/LHW_season_metrics.csv', header = TRUE)\n",
        "R_humidity_season <- R_humidity_season[ -c(0:1)]\n",
        "\n",
        "head(R_humidity_season)"
      ],
      "execution_count": null,
      "outputs": [
        {
          "output_type": "stream",
          "text": [
            "  SEASON LHWN LHWD LHWF\n",
            "1      1    0    0    0\n",
            "2      2    0    0    0\n",
            "3      3    0    0    0\n",
            "4      4    0    0    0\n",
            "5      1    0    0    0\n",
            "6      2    0    0    0\n"
          ],
          "name": "stdout"
        }
      ]
    },
    {
      "cell_type": "markdown",
      "metadata": {
        "id": "nq5olezf6cQq"
      },
      "source": [
        "###**Summer**\n",
        "No statistically significant trend was found"
      ]
    },
    {
      "cell_type": "markdown",
      "metadata": {
        "id": "mWNCUZMX8F6K"
      },
      "source": [
        "**Cox stuart**"
      ]
    },
    {
      "cell_type": "code",
      "metadata": {
        "colab": {
          "base_uri": "https://localhost:8080/"
        },
        "id": "DPnd1Ud68IVa",
        "outputId": "05ae2ef3-b626-4ef5-a1f7-dd77bd10f96c"
      },
      "source": [
        "%%R\n",
        "print('mktest LHWN:')\n",
        "print(cox.stuart.test(R_humidity_season[R_humidity_season$SEASON == \"1\",]$LHWN, 'right.sided'))\n",
        "\n",
        "writeLines('')\n",
        "\n",
        "print('mktest LHWD:')\n",
        "print(cox.stuart.test(R_humidity_season[R_humidity_season$SEASON == \"1\",]$LHWD, 'right.sided'))\n",
        "\n",
        "writeLines('')\n",
        "\n",
        "print('mktest LWNF:')\n",
        "print(cox.stuart.test(R_humidity_season[R_humidity_season$SEASON == \"1\",]$LHWF, 'right.sided'))"
      ],
      "execution_count": null,
      "outputs": [
        {
          "output_type": "stream",
          "text": [
            "[1] \"mktest LHWN:\"\n",
            "\n",
            "\tCox Stuart test\n",
            "\n",
            "data:  R_humidity_season[R_humidity_season$SEASON == \"1\", ]$LHWN\n",
            "statistic = 5, n = 7, p-value = 0.2266\n",
            "alternative hypothesis: increasing trend\n",
            "\n",
            "\n",
            "[1] \"mktest LHWD:\"\n",
            "\n",
            "\tCox Stuart test\n",
            "\n",
            "data:  R_humidity_season[R_humidity_season$SEASON == \"1\", ]$LHWD\n",
            "statistic = 5, n = 7, p-value = 0.2266\n",
            "alternative hypothesis: increasing trend\n",
            "\n",
            "\n",
            "[1] \"mktest LWNF:\"\n",
            "\n",
            "\tCox Stuart test\n",
            "\n",
            "data:  R_humidity_season[R_humidity_season$SEASON == \"1\", ]$LHWF\n",
            "statistic = 5, n = 7, p-value = 0.2266\n",
            "alternative hypothesis: increasing trend\n",
            "\n"
          ],
          "name": "stdout"
        }
      ]
    },
    {
      "cell_type": "markdown",
      "metadata": {
        "id": "611kEt2y8EKr"
      },
      "source": [
        "**Mann Kendall**"
      ]
    },
    {
      "cell_type": "code",
      "metadata": {
        "colab": {
          "base_uri": "https://localhost:8080/"
        },
        "id": "ctarbid-6eVE",
        "outputId": "623fcd0a-7eba-48e9-a643-20ba63507256"
      },
      "source": [
        "#original mann kendall test\n",
        "%%R\n",
        "print('mktest LHWN:')\n",
        "print(mkttest(R_humidity_season[R_humidity_season$SEASON == \"1\",]$LHWN))\n",
        "\n",
        "writeLines('')\n",
        "\n",
        "print('mktest LHWD:')\n",
        "print(mkttest(R_humidity_season[R_humidity_season$SEASON == \"1\",]$LHWD))\n",
        "\n",
        "writeLines('')\n",
        "\n",
        "print('mktest LWNF:')\n",
        "print(mkttest(R_humidity_season[R_humidity_season$SEASON == \"1\",]$LHWF))"
      ],
      "execution_count": null,
      "outputs": [
        {
          "output_type": "stream",
          "text": [
            "[1] \"mktest LHWN:\"\n",
            "     Z-Value  Sen's slope            S       Var(S)      P-value          Tau \n",
            "   1.5903808    0.0000000   81.0000000 2530.3333333    0.1117490    0.1285714 \n",
            "\n",
            "[1] \"mktest LHWD:\"\n",
            "     Z-Value  Sen's slope            S       Var(S)      P-value          Tau \n",
            "1.647093e+00 0.000000e+00 8.400000e+01 2.539333e+03 9.953884e-02 1.333333e-01 \n",
            "\n",
            "[1] \"mktest LWNF:\"\n",
            "     Z-Value  Sen's slope            S       Var(S)      P-value          Tau \n",
            "1.647093e+00 0.000000e+00 8.400000e+01 2.539333e+03 9.953884e-02 1.333333e-01 \n"
          ],
          "name": "stdout"
        }
      ]
    },
    {
      "cell_type": "markdown",
      "metadata": {
        "id": "wlEsnIPWQL9I"
      },
      "source": [
        "**Modified Mann Kendall**"
      ]
    },
    {
      "cell_type": "code",
      "metadata": {
        "colab": {
          "base_uri": "https://localhost:8080/"
        },
        "id": "bP4138Mc681C",
        "outputId": "7bb127c0-1dc7-47b8-cfb5-44de6c3c3d77"
      },
      "source": [
        "%%R\n",
        "print('tfpwmk LHWN:')\n",
        "print(tfpwmk(R_humidity_season[R_humidity_season$SEASON == \"1\",]$LHWN))\n",
        "\n",
        "writeLines('')\n",
        "\n",
        "print('tfpwmk LHWD:')\n",
        "print(tfpwmk(R_humidity_season[R_humidity_season$SEASON == \"1\",]$LHWD))\n",
        "\n",
        "writeLines('')\n",
        "\n",
        "print('tfpwmk LWNF:')\n",
        "print(tfpwmk(R_humidity_season[R_humidity_season$SEASON == \"1\",]$LHWF))"
      ],
      "execution_count": null,
      "outputs": [
        {
          "output_type": "stream",
          "text": [
            "[1] \"tfpwmk LHWN:\"\n",
            "        Z-Value     Sen's Slope Old Sen's Slope         P-value               S \n",
            "   3.137462e-01    0.000000e+00    0.000000e+00    7.537138e-01    2.000000e+01 \n",
            "         Var(S)             Tau \n",
            "   3.667333e+03    3.361345e-02 \n",
            "\n",
            "[1] \"tfpwmk LHWD:\"\n",
            "        Z-Value     Sen's Slope Old Sen's Slope         P-value               S \n",
            "   3.130640e-01    0.000000e+00    0.000000e+00    7.542321e-01    2.000000e+01 \n",
            "         Var(S)             Tau \n",
            "   3.683333e+03    3.361345e-02 \n",
            "\n",
            "[1] \"tfpwmk LWNF:\"\n",
            "        Z-Value     Sen's Slope Old Sen's Slope         P-value               S \n",
            "   3.130640e-01    0.000000e+00    0.000000e+00    7.542321e-01    2.000000e+01 \n",
            "         Var(S)             Tau \n",
            "   3.683333e+03    3.361345e-02 \n"
          ],
          "name": "stdout"
        }
      ]
    },
    {
      "cell_type": "markdown",
      "metadata": {
        "id": "W1jY1zh68ZnV"
      },
      "source": [
        "###**Autumn**\n",
        "No statistically significant trend was found"
      ]
    },
    {
      "cell_type": "markdown",
      "metadata": {
        "id": "sV9yMx0R8Zni"
      },
      "source": [
        "**Cox stuart**"
      ]
    },
    {
      "cell_type": "code",
      "metadata": {
        "colab": {
          "base_uri": "https://localhost:8080/"
        },
        "id": "14JfrPJI8Znk",
        "outputId": "5331ffd0-97f4-4040-e0fe-b10ebe3043d1"
      },
      "source": [
        "%%R\n",
        "print('mktest LHWN:')\n",
        "print(cox.stuart.test(R_humidity_season[R_humidity_season$SEASON == \"2\",]$LHWN, 'right.sided'))\n",
        "\n",
        "writeLines('')\n",
        "\n",
        "print('mktest LHWD:')\n",
        "print(cox.stuart.test(R_humidity_season[R_humidity_season$SEASON == \"2\",]$LHWD, 'right.sided'))\n",
        "\n",
        "writeLines('')\n",
        "\n",
        "print('mktest LWNF:')\n",
        "print(cox.stuart.test(R_humidity_season[R_humidity_season$SEASON == \"2\",]$LHWF, 'right.sided'))"
      ],
      "execution_count": null,
      "outputs": [
        {
          "output_type": "stream",
          "text": [
            "[1] \"mktest LHWN:\"\n",
            "\n",
            "\tCox Stuart test\n",
            "\n",
            "data:  R_humidity_season[R_humidity_season$SEASON == \"2\", ]$LHWN\n",
            "statistic = 4, n = 5, p-value = 0.1875\n",
            "alternative hypothesis: increasing trend\n",
            "\n",
            "\n",
            "[1] \"mktest LHWD:\"\n",
            "\n",
            "\tCox Stuart test\n",
            "\n",
            "data:  R_humidity_season[R_humidity_season$SEASON == \"2\", ]$LHWD\n",
            "statistic = 4, n = 5, p-value = 0.1875\n",
            "alternative hypothesis: increasing trend\n",
            "\n",
            "\n",
            "[1] \"mktest LWNF:\"\n",
            "\n",
            "\tCox Stuart test\n",
            "\n",
            "data:  R_humidity_season[R_humidity_season$SEASON == \"2\", ]$LHWF\n",
            "statistic = 4, n = 5, p-value = 0.1875\n",
            "alternative hypothesis: increasing trend\n",
            "\n"
          ],
          "name": "stdout"
        }
      ]
    },
    {
      "cell_type": "markdown",
      "metadata": {
        "id": "UOonJ6Q-8Zno"
      },
      "source": [
        "**Mann Kendall**"
      ]
    },
    {
      "cell_type": "code",
      "metadata": {
        "colab": {
          "base_uri": "https://localhost:8080/"
        },
        "id": "qlxVh5h38Znp",
        "outputId": "ec5451ee-65ac-46e3-ed40-0a8a71740496"
      },
      "source": [
        "#original mann kendall test\n",
        "%%R\n",
        "print('mktest LHWN:')\n",
        "print(mkttest(R_humidity_season[R_humidity_season$SEASON == \"2\",]$LHWN))\n",
        "\n",
        "writeLines('')\n",
        "\n",
        "print('mktest LHWD:')\n",
        "print(mkttest(R_humidity_season[R_humidity_season$SEASON == \"2\",]$LHWD))\n",
        "\n",
        "writeLines('')\n",
        "\n",
        "print('mktest LWNF:')\n",
        "print(mkttest(R_humidity_season[R_humidity_season$SEASON == \"2\",]$LHWF))"
      ],
      "execution_count": null,
      "outputs": [
        {
          "output_type": "stream",
          "text": [
            "[1] \"mktest LHWN:\"\n",
            "     Z-Value  Sen's slope            S       Var(S)      P-value          Tau \n",
            "2.406721e+00 0.000000e+00 1.150000e+02 2.243667e+03 1.609648e-02 1.825397e-01 \n",
            "\n",
            "[1] \"mktest LHWD:\"\n",
            "     Z-Value  Sen's slope            S       Var(S)      P-value          Tau \n",
            "2.364497e+00 0.000000e+00 1.130000e+02 2.243667e+03 1.805455e-02 1.793651e-01 \n",
            "\n",
            "[1] \"mktest LWNF:\"\n",
            "     Z-Value  Sen's slope            S       Var(S)      P-value          Tau \n",
            "2.468040e+00 0.000000e+00 1.180000e+02 2.247333e+03 1.358553e-02 1.873016e-01 \n"
          ],
          "name": "stdout"
        }
      ]
    },
    {
      "cell_type": "code",
      "metadata": {
        "colab": {
          "base_uri": "https://localhost:8080/"
        },
        "id": "6DCK8ya18Znq",
        "outputId": "57629180-65c5-4ef4-bfaf-369dffc3ac6a"
      },
      "source": [
        "%%R\n",
        "print('tfpwmk LHWN:')\n",
        "print(tfpwmk(R_humidity_season[R_humidity_season$SEASON == \"2\",]$LHWN))\n",
        "\n",
        "writeLines('')\n",
        "\n",
        "print('tfpwmk LHWD:')\n",
        "print(tfpwmk(R_humidity_season[R_humidity_season$SEASON == \"2\",]$LHWD))\n",
        "\n",
        "writeLines('')\n",
        "\n",
        "print('tfpwmk LWNF:')\n",
        "print(tfpwmk(R_humidity_season[R_humidity_season$SEASON == \"2\",]$LHWF))"
      ],
      "execution_count": null,
      "outputs": [
        {
          "output_type": "stream",
          "text": [
            "[1] \"tfpwmk LHWN:\"\n",
            "        Z-Value     Sen's Slope Old Sen's Slope         P-value               S \n",
            "   3.260987e+00    0.000000e+00    0.000000e+00    1.110250e-03    1.890000e+02 \n",
            "         Var(S)             Tau \n",
            "   3.323667e+03    3.176471e-01 \n",
            "\n",
            "[1] \"tfpwmk LHWD:\"\n",
            "        Z-Value     Sen's Slope Old Sen's Slope         P-value               S \n",
            "   3.191605e+00    0.000000e+00    0.000000e+00    1.414848e-03    1.850000e+02 \n",
            "         Var(S)             Tau \n",
            "   3.323667e+03    3.109244e-01 \n",
            "\n",
            "[1] \"tfpwmk LWNF:\"\n",
            "        Z-Value     Sen's Slope Old Sen's Slope         P-value               S \n",
            "   3.361355e+00    0.000000e+00    0.000000e+00    7.756100e-04    1.950000e+02 \n",
            "         Var(S)             Tau \n",
            "   3.331000e+03    3.277311e-01 \n"
          ],
          "name": "stdout"
        }
      ]
    },
    {
      "cell_type": "markdown",
      "metadata": {
        "id": "e04T3dsb8o5U"
      },
      "source": [
        "###**Winter**\n",
        "No statistically significant trend was found"
      ]
    },
    {
      "cell_type": "markdown",
      "metadata": {
        "id": "g6YDWXVS8o5W"
      },
      "source": [
        "**Cox stuart**"
      ]
    },
    {
      "cell_type": "code",
      "metadata": {
        "colab": {
          "base_uri": "https://localhost:8080/"
        },
        "id": "bSGVMj_x8o5X",
        "outputId": "b9135757-0a83-4c0e-ef4b-dba49b53436a"
      },
      "source": [
        "%%R\n",
        "print('mktest LHWN:')\n",
        "print(cox.stuart.test(R_humidity_season[R_humidity_season$SEASON == \"3\",]$LHWN, 'right.sided'))\n",
        "\n",
        "writeLines('')\n",
        "\n",
        "print('mktest LHWD:')\n",
        "print(cox.stuart.test(R_humidity_season[R_humidity_season$SEASON == \"3\",]$LHWD, 'right.sided'))\n",
        "\n",
        "writeLines('')\n",
        "\n",
        "print('mktest LWNF:')\n",
        "print(cox.stuart.test(R_humidity_season[R_humidity_season$SEASON == \"3\",]$LHWF, 'right.sided'))"
      ],
      "execution_count": null,
      "outputs": [
        {
          "output_type": "stream",
          "text": [
            "[1] \"mktest LHWN:\"\n",
            "\n",
            "\tCox Stuart test\n",
            "\n",
            "data:  R_humidity_season[R_humidity_season$SEASON == \"3\", ]$LHWN\n",
            "statistic = 6, n = 8, p-value = 0.1445\n",
            "alternative hypothesis: increasing trend\n",
            "\n",
            "\n",
            "[1] \"mktest LHWD:\"\n",
            "\n",
            "\tCox Stuart test\n",
            "\n",
            "data:  R_humidity_season[R_humidity_season$SEASON == \"3\", ]$LHWD\n",
            "statistic = 5, n = 7, p-value = 0.2266\n",
            "alternative hypothesis: increasing trend\n",
            "\n",
            "\n",
            "[1] \"mktest LWNF:\"\n",
            "\n",
            "\tCox Stuart test\n",
            "\n",
            "data:  R_humidity_season[R_humidity_season$SEASON == \"3\", ]$LHWF\n",
            "statistic = 6, n = 8, p-value = 0.1445\n",
            "alternative hypothesis: increasing trend\n",
            "\n"
          ],
          "name": "stdout"
        }
      ]
    },
    {
      "cell_type": "markdown",
      "metadata": {
        "id": "3JbR83VH8o5Y"
      },
      "source": [
        "**Mann Kendall**"
      ]
    },
    {
      "cell_type": "code",
      "metadata": {
        "colab": {
          "base_uri": "https://localhost:8080/"
        },
        "id": "u47gZCJ78o5Z",
        "outputId": "643bb68e-759a-45f4-d26a-a92d18255b17"
      },
      "source": [
        "#original mann kendall test\n",
        "%%R\n",
        "print('mktest LHWN:')\n",
        "print(mkttest(R_humidity_season[R_humidity_season$SEASON == \"3\",]$LHWN))\n",
        "\n",
        "writeLines('')\n",
        "\n",
        "print('mktest LHWD:')\n",
        "print(mkttest(R_humidity_season[R_humidity_season$SEASON == \"3\",]$LHWD))\n",
        "\n",
        "writeLines('')\n",
        "\n",
        "print('mktest LWNF:')\n",
        "print(mkttest(R_humidity_season[R_humidity_season$SEASON == \"3\",]$LHWF))"
      ],
      "execution_count": null,
      "outputs": [
        {
          "output_type": "stream",
          "text": [
            "[1] \"mktest LHWN:\"\n",
            "     Z-Value  Sen's slope            S       Var(S)      P-value          Tau \n",
            "2.241756e+00 0.000000e+00 1.300000e+02 3.311333e+03 2.497717e-02 2.063492e-01 \n",
            "\n",
            "[1] \"mktest LHWD:\"\n",
            "     Z-Value  Sen's slope            S       Var(S)      P-value          Tau \n",
            "2.065483e+00 0.000000e+00 1.200000e+02 3.319333e+03 3.887737e-02 1.904762e-01 \n",
            "\n",
            "[1] \"mktest LWNF:\"\n",
            "     Z-Value  Sen's slope            S       Var(S)      P-value          Tau \n",
            "2.322226e+00 0.000000e+00 1.350000e+02 3.329667e+03 2.022079e-02 2.142857e-01 \n"
          ],
          "name": "stdout"
        }
      ]
    },
    {
      "cell_type": "code",
      "metadata": {
        "colab": {
          "base_uri": "https://localhost:8080/"
        },
        "id": "waQ-B1KH8o5b",
        "outputId": "03e4c8aa-f236-4137-87e9-f2f62efb68bc"
      },
      "source": [
        "%%R\n",
        "print('tfpwmk LHWN:')\n",
        "print(tfpwmk(R_humidity_season[R_humidity_season$SEASON == \"3\",]$LHWN))\n",
        "\n",
        "writeLines('')\n",
        "\n",
        "print('tfpwmk LHWD:')\n",
        "print(tfpwmk(R_humidity_season[R_humidity_season$SEASON == \"3\",]$LHWD))\n",
        "\n",
        "writeLines('')\n",
        "\n",
        "print('tfpwmk LWNF:')\n",
        "print(tfpwmk(R_humidity_season[R_humidity_season$SEASON == \"3\",]$LHWF))"
      ],
      "execution_count": null,
      "outputs": [
        {
          "output_type": "stream",
          "text": [
            "[1] \"tfpwmk LHWN:\"\n",
            "        Z-Value     Sen's Slope Old Sen's Slope         P-value               S \n",
            "      1.1697991       0.0000000       0.0000000       0.2420818      75.0000000 \n",
            "         Var(S)             Tau \n",
            "   4001.6666667       0.1260504 \n",
            "\n",
            "[1] \"tfpwmk LHWD:\"\n",
            "        Z-Value     Sen's Slope Old Sen's Slope         P-value               S \n",
            "      1.0906223       0.0000000       0.0000000       0.2754391      70.0000000 \n",
            "         Var(S)             Tau \n",
            "   4002.6666667       0.1176471 \n",
            "\n",
            "[1] \"tfpwmk LWNF:\"\n",
            "        Z-Value     Sen's Slope Old Sen's Slope         P-value               S \n",
            "   2.622615e+00    0.000000e+00    0.000000e+00    8.725780e-03    1.670000e+02 \n",
            "         Var(S)             Tau \n",
            "   4.006333e+03    2.806723e-01 \n"
          ],
          "name": "stdout"
        }
      ]
    },
    {
      "cell_type": "markdown",
      "metadata": {
        "id": "p7VMY6dc82UR"
      },
      "source": [
        "###**Spring**\n",
        "No statistically significant trend was found"
      ]
    },
    {
      "cell_type": "markdown",
      "metadata": {
        "id": "GFCI6WYS82US"
      },
      "source": [
        "**Cox stuart**"
      ]
    },
    {
      "cell_type": "code",
      "metadata": {
        "colab": {
          "base_uri": "https://localhost:8080/"
        },
        "id": "PgCC9IPs82UY",
        "outputId": "b997d44b-3d73-4c73-a87b-b6d8efccae75"
      },
      "source": [
        "%%R\n",
        "print('mktest LHWN:')\n",
        "print(cox.stuart.test(R_humidity_season[R_humidity_season$SEASON == \"4\",]$LHWN, 'right.sided'))\n",
        "\n",
        "writeLines('')\n",
        "\n",
        "print('mktest LHWD:')\n",
        "print(cox.stuart.test(R_humidity_season[R_humidity_season$SEASON == \"4\",]$LHWD, 'right.sided'))\n",
        "\n",
        "writeLines('')\n",
        "\n",
        "print('mktest LWNF:')\n",
        "print(cox.stuart.test(R_humidity_season[R_humidity_season$SEASON == \"4\",]$LHWF, 'right.sided'))"
      ],
      "execution_count": null,
      "outputs": [
        {
          "output_type": "stream",
          "text": [
            "[1] \"mktest LHWN:\"\n",
            "\n",
            "\tCox Stuart test\n",
            "\n",
            "data:  R_humidity_season[R_humidity_season$SEASON == \"4\", ]$LHWN\n",
            "statistic = 4, n = 7, p-value = 0.5\n",
            "alternative hypothesis: increasing trend\n",
            "\n",
            "\n",
            "[1] \"mktest LHWD:\"\n",
            "\n",
            "\tCox Stuart test\n",
            "\n",
            "data:  R_humidity_season[R_humidity_season$SEASON == \"4\", ]$LHWD\n",
            "statistic = 4, n = 7, p-value = 0.5\n",
            "alternative hypothesis: increasing trend\n",
            "\n",
            "\n",
            "[1] \"mktest LWNF:\"\n",
            "\n",
            "\tCox Stuart test\n",
            "\n",
            "data:  R_humidity_season[R_humidity_season$SEASON == \"4\", ]$LHWF\n",
            "statistic = 4, n = 7, p-value = 0.5\n",
            "alternative hypothesis: increasing trend\n",
            "\n"
          ],
          "name": "stdout"
        }
      ]
    },
    {
      "cell_type": "markdown",
      "metadata": {
        "id": "Bf7Iib5V82UZ"
      },
      "source": [
        "**Mann Kendall**"
      ]
    },
    {
      "cell_type": "code",
      "metadata": {
        "colab": {
          "base_uri": "https://localhost:8080/"
        },
        "id": "7MEPl4bi82Ua",
        "outputId": "cbc6e0e7-be2d-4237-b9b2-291767679a74"
      },
      "source": [
        "#original mann kendall test\n",
        "%%R\n",
        "print('mktest LHWN:')\n",
        "print(mkttest(R_humidity_season[R_humidity_season$SEASON == \"4\",]$LHWN))\n",
        "\n",
        "writeLines('')\n",
        "\n",
        "print('mktest LHWD:')\n",
        "print(mkttest(R_humidity_season[R_humidity_season$SEASON == \"4\",]$LHWD))\n",
        "\n",
        "writeLines('')\n",
        "\n",
        "print('mktest LWNF:')\n",
        "print(mkttest(R_humidity_season[R_humidity_season$SEASON == \"4\",]$LHWF))"
      ],
      "execution_count": null,
      "outputs": [
        {
          "output_type": "stream",
          "text": [
            "[1] \"mktest LHWN:\"\n",
            "     Z-Value  Sen's slope            S       Var(S)      P-value          Tau \n",
            "1.051307e+00 0.000000e+00 5.900000e+01 3.043667e+03 2.931177e-01 9.365079e-02 \n",
            "\n",
            "[1] \"mktest LHWD:\"\n",
            "     Z-Value  Sen's slope            S       Var(S)      P-value          Tau \n",
            "9.202519e-01 0.000000e+00 5.200000e+01 3.071333e+03 3.574412e-01 8.253968e-02 \n",
            "\n",
            "[1] \"mktest LWNF:\"\n",
            "     Z-Value  Sen's slope            S       Var(S)      P-value          Tau \n",
            "9.381433e-01 0.000000e+00 5.300000e+01 3.072333e+03 3.481708e-01 8.412698e-02 \n"
          ],
          "name": "stdout"
        }
      ]
    },
    {
      "cell_type": "code",
      "metadata": {
        "colab": {
          "base_uri": "https://localhost:8080/"
        },
        "id": "Ovi7NpYi82Uc",
        "outputId": "307e053d-2569-406f-da70-bcde1d232012"
      },
      "source": [
        "%%R\n",
        "print('tfpwmk LHWN:')\n",
        "print(tfpwmk(R_humidity_season[R_humidity_season$SEASON == \"4\",]$LHWN))\n",
        "\n",
        "writeLines('')\n",
        "\n",
        "print('tfpwmk LHWD:')\n",
        "print(tfpwmk(R_humidity_season[R_humidity_season$SEASON == \"4\",]$LHWD))\n",
        "\n",
        "writeLines('')\n",
        "\n",
        "print('tfpwmk LWNF:')\n",
        "print(tfpwmk(R_humidity_season[R_humidity_season$SEASON == \"4\",]$LHWF))"
      ],
      "execution_count": null,
      "outputs": [
        {
          "output_type": "stream",
          "text": [
            "[1] \"tfpwmk LHWN:\"\n",
            "        Z-Value     Sen's Slope Old Sen's Slope         P-value               S \n",
            "   7.903911e-01    0.000000e+00    0.000000e+00    4.292994e-01    5.000000e+01 \n",
            "         Var(S)             Tau \n",
            "   3.843333e+03    8.403361e-02 \n",
            "\n",
            "[1] \"tfpwmk LHWD:\"\n",
            "        Z-Value     Sen's Slope Old Sen's Slope         P-value               S \n",
            "   8.372227e-01    0.000000e+00    0.000000e+00    4.024674e-01    5.300000e+01 \n",
            "         Var(S)             Tau \n",
            "   3.857667e+03    8.907563e-02 \n",
            "\n",
            "[1] \"tfpwmk LWNF:\"\n",
            "        Z-Value     Sen's Slope Old Sen's Slope         P-value               S \n",
            "   8.210159e-01    0.000000e+00    0.000000e+00    4.116372e-01    5.200000e+01 \n",
            "         Var(S)             Tau \n",
            "   3.858667e+03    8.739496e-02 \n"
          ],
          "name": "stdout"
        }
      ]
    },
    {
      "cell_type": "markdown",
      "metadata": {
        "id": "6fsRONIKlxqf"
      },
      "source": [
        "## **References**\n",
        "\n",
        "BLAIN, G. C. Removing the influence of the serial correlation on the mann-kendall test. Revista Brasileira de Meteorologia, SciELO Brasil, v. 29, n. 2, p. 161–170, 2014.\n",
        "\n",
        "COX, D. R.; STUART, A. Some quick sign tests for trend in location and dispersion. Biometrika, JSTOR, v. 42, n. 1/2, p. 80–95, 1955.\n",
        "\n",
        "MANN, H. B. Nonparametric tests against trend.Econometrica: Journal of the econometric society, JSTOR, p. 245–259, 1945.\n",
        "\n",
        "YUE, S.; PILON, P.; CAVADIAS, G. Power of the mann–kendall and spearman’s rho testsfor detecting monotonic trends in hydrological series. Journal of hydrology, Elsevier, v. 259,n. 1-4, p. 254–271, 2002\n"
      ]
    }
  ]
}
