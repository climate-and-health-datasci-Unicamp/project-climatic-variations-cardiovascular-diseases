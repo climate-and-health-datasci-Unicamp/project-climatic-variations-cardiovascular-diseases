{
  "nbformat": 4,
  "nbformat_minor": 0,
  "metadata": {
    "colab": {
      "name": "TR_2021/06 - Mann Whitney U test for cardiovascular hospitalizations and extreme climatic events.ipynb",
      "provenance": [],
      "collapsed_sections": [
        "_cZJPEYBMKfI"
      ],
      "mount_file_id": "11X5JIRenmLGH9dMsG1WgEuIBmc1R2yta",
      "authorship_tag": "ABX9TyPQg3bF4id2r1dObkxe9mrH"
    },
    "kernelspec": {
      "name": "python3",
      "display_name": "Python 3"
    }
  },
  "cells": [
    {
      "cell_type": "markdown",
      "metadata": {
        "id": "_7WxcqgBRQB-"
      },
      "source": [
        "# **TR_2021/06 - Technical report: Mann Whitney U test for cardiovascular hospitalizations and extreme climatic events**\n",
        "\n",
        "\n",
        "|Technical Report ID  |2021/06|\n",
        "|--|--|\n",
        "| Title |Mann Whitney U test for cardiovascular hospitalizations and extreme climatic events|\n",
        "| Authors | Júlia De Lázari, Paula Dornhofer|\n",
        "| Creation Date| 2021-03|\n",
        "\n",
        "## Databases description\n",
        "\n",
        "**inputs:** \n",
        "\n",
        "- hospitalizações_circulatório.csv: Dataframe of hospitalizations due to cardiovascular ICDs from 2014 to 2018.\n",
        "\n",
        "- EV_temperature.csv, EV_pressure.csv, EV_humidity.csv: Dataframes with the extreme events computed. Viracopos data was used for this.\n",
        "\n",
        "## Analysis \n",
        "\n",
        "This report presents an analysis of the the Mann Whitney U test for the [extreme climate events](https://github.com/climate-and-health-datasci-Unicamp/project-climatic-variations-cardiovascular-diseases/blob/main/notebooks/TR_03_2020_Extreme_climatic_events_for_Campinas.ipynb) and hospitalizations due to cardiovascular ICDs.\n"
      ]
    },
    {
      "cell_type": "markdown",
      "metadata": {
        "id": "PzzODgGc2NXM"
      },
      "source": [
        "##**Mann Whitney U**\n",
        "\n",
        "Mann Whitney U is a non-parametric test that compares two distributions. Its null hypothesis is that there is no difference between the analysed distributions [MacFarland e Yates 2016].\n",
        "\n",
        "A two-sided test was used and a level of 5% of significance was chosen.\n",
        "\n",
        "The test was applied to test the distributions of hospitalizations in days under influence of an extreme event and control days (without the event). Distributions were compared on the day of the event and for lags up to 10.  If the event occured at 01/01/2018, 02/01/2018 is considered lag1, 03/01/2018 lag2 and so on. The test was applied for the total data and also for stratitifications (sex, age, age and sex).\n",
        "\n"
      ]
    },
    {
      "cell_type": "markdown",
      "metadata": {
        "id": "_cZJPEYBMKfI"
      },
      "source": [
        "##**Import libraries**"
      ]
    },
    {
      "cell_type": "code",
      "metadata": {
        "colab": {
          "base_uri": "https://localhost:8080/"
        },
        "id": "Kl_o0DIMRQCE",
        "outputId": "4434bb27-2bc7-4183-d518-a8f93dab6419"
      },
      "source": [
        "#-------------------------------------------------------------------#\n",
        "#                       Import libraries                            #\n",
        "#-------------------------------------------------------------------#\n",
        "import pandas as pd\n",
        "import numpy as np\n",
        "import datetime\n",
        "import more_itertools as mit\n",
        "import datetime\n",
        "import statistics as stat\n",
        "import matplotlib.pyplot as plt\n",
        "from matplotlib.ticker import PercentFormatter\n",
        "import scipy\n",
        "import math\n",
        "import seaborn as sns\n",
        "import pylab\n",
        "from datetime import timedelta\n",
        "from calendar import isleap\n",
        "from google.colab import drive\n",
        "from google.colab import files\n",
        "\n",
        "drive.mount('/content/drive')\n",
        "\n",
        "from IPython.core.interactiveshell import InteractiveShell \n",
        "InteractiveShell.ast_node_interactivity = \"all\"\n",
        "\n",
        "pd.options.mode.chained_assignment = None"
      ],
      "execution_count": null,
      "outputs": [
        {
          "output_type": "stream",
          "text": [
            "Mounted at /content/drive\n"
          ],
          "name": "stdout"
        }
      ]
    },
    {
      "cell_type": "code",
      "metadata": {
        "id": "70-hcfigMM0C"
      },
      "source": [
        "#import py file with funtions from drive\n",
        "import sys\n",
        "import os\n",
        "\n",
        "py_file_location = '/content/drive/Shareddrives/Clima&Saúde/Pesquisadores/DeLázari_Júlia/notebooks/Climatex/'\n",
        "sys.path.append(os.path.abspath(py_file_location))\n",
        "import climatex as tex"
      ],
      "execution_count": null,
      "outputs": []
    },
    {
      "cell_type": "markdown",
      "metadata": {
        "id": "Bj7aFMkmRQCG"
      },
      "source": [
        "## **Load and merge dataframes**"
      ]
    },
    {
      "cell_type": "code",
      "metadata": {
        "id": "7vYzFqgKRQCG"
      },
      "source": [
        "#-------------------------------------------------------------------#\n",
        "#                      cardiovascular hospitalizations              #\n",
        "#-------------------------------------------------------------------#\n",
        "\n",
        "df_hosp = pd.read_csv('/content/drive/Shared drives/Clima&Saúde/Dados/Dados_Saude/Hospitalizacoes_SSC/data/processed/hospitalizações_circulatório.csv')\n",
        "df_hosp = df_hosp.drop(columns = {'Unnamed: 0','Hora','Número Paciente','Descrição CID'}) #drop unneeded columns\n",
        "df_hosp = df_hosp.rename(columns = {'Data':'DATE','Idade': 'IDADE','Sexo': 'SEXO'}) #rename Data to DATE to merge dataframes\n",
        "df_hosp = df_hosp[(df_hosp.DATE !='2012-02-29')&(df_hosp.DATE !='2016-02-29')] #remove leap year dates (02-29)\n",
        "df_hosp = df_hosp.sort_values('DATE')"
      ],
      "execution_count": null,
      "outputs": []
    },
    {
      "cell_type": "code",
      "metadata": {
        "id": "U50cC2w0RQCH"
      },
      "source": [
        "#-------------------------------------------------------------------#\n",
        "#                  Extreme climatic variations                      #\n",
        "#-------------------------------------------------------------------#\n",
        "df_temp =  pd.read_csv('/content/drive/Shared drives/Clima&Saúde/Pesquisadores/DeLázari_Júlia/data/Climáticos_Viracopos/EV_temperature.csv')\n",
        "df_temp = df_temp.drop(columns = {'Unnamed: 0','DAY365'})\n",
        "df_temp = df_temp[df_temp['DATE']>'2014-01-01']\n",
        "\n",
        "df_humidity =  pd.read_csv('/content/drive/Shared drives/Clima&Saúde/Pesquisadores/DeLázari_Júlia/data/Climáticos_Viracopos/EV_humidity.csv')\n",
        "df_humidity = df_humidity.drop(columns = {'Unnamed: 0','DAY365'})\n",
        "df_humidity = df_humidity[df_humidity['DATE']>'2014-01-01']\n",
        "\n",
        "df_pressure =  pd.read_csv('/content/drive/Shared drives/Clima&Saúde/Pesquisadores/DeLázari_Júlia/data/Climáticos_Viracopos/EV_pressure.csv')\n",
        "df_pressure = df_pressure.drop(columns = {'Unnamed: 0','DAY365'})\n",
        "df_pressure = df_pressure[df_pressure['DATE']>'2014-01-01']"
      ],
      "execution_count": null,
      "outputs": []
    },
    {
      "cell_type": "code",
      "metadata": {
        "id": "wykqMU8BRQCH"
      },
      "source": [
        "#-------------------------------------------------------------------#\n",
        "#              Merge health and climate dataframes                  #\n",
        "#-------------------------------------------------------------------#\n",
        "\n",
        "df_temp = pd.merge(df_temp,df_hosp, on='DATE', how='outer')\n",
        "\n",
        "df_humidity = pd.merge(df_humidity,df_hosp, on='DATE', how='outer')\n",
        "\n",
        "df_pressure = pd.merge(df_pressure,df_hosp, on='DATE', how='outer')"
      ],
      "execution_count": null,
      "outputs": []
    },
    {
      "cell_type": "markdown",
      "metadata": {
        "id": "DMgTKZqQz89_"
      },
      "source": [
        "##**Test normality of data**\n",
        "\n",
        "QQ-plots and the Shapiro-Wilk test were used to check normality of data. The Shapiro test null hypothesis is a normal distribution. Based on the result of the test, this hyposthis was rejected.\n"
      ]
    },
    {
      "cell_type": "code",
      "metadata": {
        "id": "EU-XsAaIRQCI"
      },
      "source": [
        "# Function to compute Shapiro Wilk test\n",
        "def get_shapiro(database):\n",
        "  #column for number of hospitalizations\n",
        "  database['N_hosp'] = np.where(database['CID'].isnull(),0,database.groupby(['DATE']).DATE.transform('count'))\n",
        "  database = database.drop_duplicates('DATE',keep='first')\n",
        "  \n",
        "  #qqplot\n",
        "  scipy.stats.probplot(database['N_hosp'], dist=\"norm\", plot=pylab)\n",
        "  pylab.title('Daily number of hospitalizations due to cardiovascular diseases \\n Normal distribution: theoretical vs observed',fontsize = 15)\n",
        "  pylab.show()\n",
        "\n",
        "  #Shapiro Wilk test\n",
        "  from scipy.stats import shapiro\n",
        "  print('Shapiro Wilk test')\n",
        "  alpha = 0.01\n",
        "  tes,p2 = shapiro(database['N_obitos'])\n",
        "  print(\"W statistic:\",tes)\n",
        "  print(\"p value:\",p2)\n",
        "  if p2 > alpha:\n",
        "\t  print('Sample looks Gaussian (fail to reject H0)\\n')\n",
        "  else:\n",
        "\t  print('Sample does not look Gaussian (reject H0)\\n')"
      ],
      "execution_count": null,
      "outputs": []
    },
    {
      "cell_type": "code",
      "metadata": {
        "colab": {
          "base_uri": "https://localhost:8080/",
          "height": 400
        },
        "id": "ef-s-7Ch0fkQ",
        "outputId": "4fb79424-1078-4b5e-a5ce-412f6bcb348f"
      },
      "source": [
        "get_shapiro(df_hosp)"
      ],
      "execution_count": null,
      "outputs": [
        {
          "output_type": "display_data",
          "data": {
            "image/png": "[encoded data removed]",
            "text/plain": [
              "<Figure size 432x288 with 1 Axes>"
            ]
          },
          "metadata": {
            "tags": [],
            "needs_background": "light"
          }
        },
        {
          "output_type": "stream",
          "text": [
            "Shapiro Wilk test\n",
            "W statistic: 0.9738879203796387\n",
            "p value: 1.1073735693946461e-17\n",
            "Sample does not look Gaussian (reject H0)\n",
            "\n"
          ],
          "name": "stdout"
        }
      ]
    },
    {
      "cell_type": "markdown",
      "metadata": {
        "id": "MZtAQw07RQCI"
      },
      "source": [
        "## **Functions**\n",
        "\n",
        "Automatize some repeated operations along the notebook\n",
        "- stratify functions: different stratifications of the dataframe\n",
        "- get_mann_whitney_lag: get the result of the Mann Whitney U test (event vs control) for lags from 0 to 10\n"
      ]
    },
    {
      "cell_type": "markdown",
      "metadata": {
        "id": "VbeozYITLm1D"
      },
      "source": [
        "###**Stratify functions**"
      ]
    },
    {
      "cell_type": "code",
      "metadata": {
        "id": "MmEHzGUVD5fd",
        "cellView": "form"
      },
      "source": [
        "#@title Stratify age sex\n",
        "def stratify_age_sex(database): \n",
        "    between_20_65_F = database[(database['IDADE'] >= 20) & (database['IDADE'] < 65)  & (database['SEXO']==\"F\")]\n",
        "    between_20_65_M = database[(database['IDADE'] >= 20) & (database['IDADE'] < 65) & (database['SEXO']==\"M\")]   \n",
        "    over_65_F = database[(database['IDADE'] > 64) & (database['SEXO']==\"F\")]   \n",
        "    over_65_M = database[(database['IDADE'] > 64) & (database['SEXO']==\"M\")]     \n",
        "\n",
        "    dataframes = [database, between_20_65_F, between_20_65_M,over_65_F,over_65_M]\n",
        "    df_names = [\"Todas idades\",\"Mulheres entre 20 e 65 anos\",\"Homens entre 20 e 65 anos\",\"Mulheres acima de 65 anos\",\"Homens acima de 65 anos\"]\n",
        "\n",
        "    return dataframes, df_names"
      ],
      "execution_count": null,
      "outputs": []
    },
    {
      "cell_type": "code",
      "metadata": {
        "id": "YN_lpaJ_F8E9",
        "cellView": "form"
      },
      "source": [
        "#@title Stratify age\n",
        "def stratify_age(database):\n",
        "  #less_20 = database[(database['IDADE'] < 20)]  \n",
        "  between_20_40 = database[(database['IDADE'] >= 20) & (database['IDADE'] < 40)]\n",
        "  between_40_65 = database[(database['IDADE'] >= 40) & (database['IDADE'] < 65)]   \n",
        "  over_65 = database[(database['IDADE'] > 64)]   \n",
        "  over_75 = database[(database['IDADE'] > 75)]\n",
        "\n",
        "  dataframes  = [database, between_20_40, between_40_65, over_65, over_75] \n",
        "  df_names = [\"Todas idades\", \"Entre 20 e 40 anos\",\"Entre 40 e 65 anos\",\"Acima de 65 anos\",\"Acima de 75 anos\"]\n",
        "\n",
        "  return dataframes, df_names"
      ],
      "execution_count": null,
      "outputs": []
    },
    {
      "cell_type": "code",
      "metadata": {
        "id": "fwVt-p6cHmth",
        "cellView": "form"
      },
      "source": [
        "#@title Stratify sex\n",
        "def stratify_sex(database):\n",
        "  women = database[database['SEXO']=='F']\n",
        "  men = database[database['SEXO']=='M']\n",
        "\n",
        "  dataframes = [database, women, men]\n",
        "  df_names = [\"Todos\", \"Mulheres\", \"Homens\"]\n",
        "\n",
        "  return dataframes, df_names"
      ],
      "execution_count": null,
      "outputs": []
    },
    {
      "cell_type": "markdown",
      "metadata": {
        "id": "-EfcDiAoS9Jl"
      },
      "source": [
        "###**Plot functions**"
      ]
    },
    {
      "cell_type": "code",
      "metadata": {
        "id": "WTC7AYPoKL2V",
        "cellView": "form"
      },
      "source": [
        "#@title Boxplot\n",
        "def get_boxplot(df_control,df_event,title,outcome):\n",
        "\n",
        "  plt.figure(figsize=(6,4))\n",
        "  plt.grid()\n",
        "  plt.title(f'Control and Event Vectors Boxplot \\n {title}')\n",
        "  plt.ylabel('Number of Deaths')\n",
        "  data = [df_control[f'N_{outcome}'], df_event[f'N_{outcome}']]\n",
        "  labels = ['Control', 'Event']\n",
        "  plt.boxplot(data, labels=labels)\n",
        "  plt.show()"
      ],
      "execution_count": null,
      "outputs": []
    },
    {
      "cell_type": "code",
      "metadata": {
        "id": "6yTKWM-VRLg4",
        "cellView": "form"
      },
      "source": [
        "#@title Distribution\n",
        "def get_dist(database,control,event,title, outcome):  \n",
        "  df_control = control\n",
        "  df_event = event\n",
        "\n",
        "  n_event = pd.DataFrame(df_event[f'N_{outcome}'].value_counts())\n",
        "  n_event = n_event.reset_index()\n",
        "  n_event['Percent_event'] = n_event[f'N_{outcome}']/n_event[f'N_{outcome}'].sum()*100\n",
        "  n_event['Percent_event'] = round(n_event['Percent_event'],2)\n",
        "  n_event = n_event.rename(columns={'index':f'N_{outcome}',f'N_{outcome}':'Count_event'})\n",
        "  n_event = n_event.sort_values('Percent_event', ascending = False)\n",
        "\n",
        "  n_control = pd.DataFrame(df_control[f'N_{outcome}'].value_counts())\n",
        "  n_control = n_control.reset_index()\n",
        "  n_control['Percent_control'] = n_control[f'N_{outcome}']/n_control[f'N_{outcome}'].sum()*100\n",
        "  n_control['Percent_control'] = round(n_control['Percent_control'],2)\n",
        "  n_control = n_control.rename(columns={'index':f'N_{outcome}',f'N_{outcome}':'Count_control'})\n",
        "  n_control = n_control.sort_values('Percent_control', ascending = False)\n",
        "    \n",
        "    #merge into one dataframe\n",
        "  from functools import reduce\n",
        "  n_outcome = reduce(lambda x,y: pd.merge(x,y, on=f'N_{outcome}', how='outer'), [n_total,n_event,n_control])\n",
        "  n_outcome = n_outcome.sort_values(f'N_{outcome}')\n",
        "\n",
        "  #plot\n",
        "  plt.figure(figsize=(8,4))\n",
        "\n",
        "  plt.plot(n_outcome[f'N_{outcome}'], n_outcome['Percent_event'], label = 'event')\n",
        "  plt.plot(n_outcome[f'N_{outcome}'], n_outcome['Percent_control'], label = 'control')\n",
        "  plt.xlabel(f'Number of {outcome}')\n",
        "  plt.ylabel('Frequency (%)',fontsize = 15)\n",
        "  plt.ylim(0,max(n_outcome['Percent_event'].max(),n_outcome['Percent_control'].max())+5)\n",
        "  plt.title(f'Frequency of number of {outcome} \\n {title}',fontsize = 20)\n",
        "  plt.legend()\n",
        "  plt.show()"
      ],
      "execution_count": null,
      "outputs": []
    },
    {
      "cell_type": "markdown",
      "metadata": {
        "id": "7Pr9KZGBTKN6"
      },
      "source": [
        "###**Mann Whitney function**"
      ]
    },
    {
      "cell_type": "code",
      "metadata": {
        "id": "5mwU6oFTRQCN"
      },
      "source": [
        "def get_mann_whitney_lag(database,event,stratify,test='two-sided',plot=None):\n",
        "  from scipy.stats import mannwhitneyu\n",
        "\n",
        "  #aux lists\n",
        "  u_stat = []\n",
        "  p = [] \n",
        "  sig = []\n",
        "  mean_event = []\n",
        "  median_event = []\n",
        "  mean_control = []\n",
        "  median_control = []\n",
        "  lag_list = []\n",
        "  subsets_list = []\n",
        "\n",
        "  #subsets depending on the stratification\n",
        "  if (stratify == 'age and sex'): \n",
        "    dataframes, df_names = stratify_age_sex(database)\n",
        "  elif (stratify == 'sex'): \n",
        "    dataframes, df_names = stratify_sex(database)\n",
        "  elif (stratify == 'age'): \n",
        "    dataframes, df_names = stratify_age(database)\n",
        "  elif (stratify == 'race'):\n",
        "    dataframes, df_names = stratify_race(database)\n",
        "\n",
        "  #aux variable \n",
        "  j = 0\n",
        "  for df in dataframes: #mann whitney for each subset\n",
        "    #column for number of deaths\n",
        "    df['N_hosp'] = np.where(df['CID'].isnull(),0,df.groupby(['DATE']).DATE.transform('count'))\n",
        "    df = df.drop_duplicates('DATE',keep='first')\n",
        "    df['DATE'] = pd.to_datetime(df['DATE'])\n",
        "    df['YEAR'] = df['DATE'].dt.year\n",
        "    df = tex.complete_df(df)\n",
        "    df['N_hosp'].fillna(0,inplace=True)\n",
        "\n",
        "    for lag in range(0,11):\n",
        "      \n",
        "      #subset for extreme event\n",
        "      df[f'{event}_lag_{lag}'] = df[f'{event}'].shift(lag)\n",
        "      df_event = df[df[f'{event}_lag_{lag}']==1]\n",
        "      \n",
        "      #subset for control\n",
        "      df_control = df[df[f'{event}_lag_{lag}']==0]\n",
        "    \n",
        "      #get mean and median for event and control\n",
        "      mean_event.append(round(stat.mean(df_event['N_hosp']),2))\n",
        "      mean_control.append(round(stat.mean(df_control['N_hosp']),2))\n",
        "\n",
        "      # mann whitney u test\n",
        "      u_statistic, p_value = mannwhitneyu(df_event['N_hosp'], df_control['N_hosp'], alternative = test)\n",
        "      p_sig = np.where(p_value<0.05,'*','-') #mark if p is significant\n",
        "      u_stat.append(u_statistic)\n",
        "      p.append(round(p_value,3))\n",
        "      sig.append(p_sig)\n",
        "      lag_list.append(lag)\n",
        "      subsets_list.append(df_names[j])\n",
        "\n",
        "      if p_value < 0.05:\n",
        "        if (plot=='boxplot'):\n",
        "          get_boxplot(df_control,df_event,df_names[j]+'lag'+str(lag), outcome)\n",
        "        if (plot=='dist'):\n",
        "          get_dist(database,df_control,df_event,df_names[j]+'lag'+str(lag), outcome)\n",
        "      \n",
        "    j += 1 #increment variable\n",
        "\n",
        "  table = pd.DataFrame() #create a table\n",
        "  table['Group'] = subsets_list\n",
        "  table['Lag'] = lag_list\n",
        "  table['U Statistic'] = u_stat\n",
        "  table['P'] = p\n",
        "  table['Significance'] = sig\n",
        "  table['Mean event'] = mean_event\n",
        "  table['Mean control'] = mean_control\n",
        "  table = table[table['Significance']=='*']\n",
        "  del table['Significance']\n",
        "\n",
        "  return table"
      ],
      "execution_count": null,
      "outputs": []
    },
    {
      "cell_type": "markdown",
      "metadata": {
        "id": "9bhBikpoP-6w"
      },
      "source": [
        "## **Temperature**"
      ]
    },
    {
      "cell_type": "markdown",
      "metadata": {
        "id": "qlwdYYCdQl5g"
      },
      "source": [
        "###**Extreme thermal range**"
      ]
    },
    {
      "cell_type": "markdown",
      "metadata": {
        "id": "NziRUiATQl5h"
      },
      "source": [
        "####**Sex**"
      ]
    },
    {
      "cell_type": "code",
      "metadata": {
        "id": "wiGgb3KNQl5i",
        "colab": {
          "base_uri": "https://localhost:8080/",
          "height": 111
        },
        "outputId": "1283a470-00ab-43e5-fb64-526f16e064ef"
      },
      "source": [
        "get_mann_whitney_lag(df_temp,'above_pct_range','sex')"
      ],
      "execution_count": null,
      "outputs": [
        {
          "output_type": "execute_result",
          "data": {
            "text/html": [
              "<div>\n",
              "<style scoped>\n",
              "    .dataframe tbody tr th:only-of-type {\n",
              "        vertical-align: middle;\n",
              "    }\n",
              "\n",
              "    .dataframe tbody tr th {\n",
              "        vertical-align: top;\n",
              "    }\n",
              "\n",
              "    .dataframe thead th {\n",
              "        text-align: right;\n",
              "    }\n",
              "</style>\n",
              "<table border=\"1\" class=\"dataframe\">\n",
              "  <thead>\n",
              "    <tr style=\"text-align: right;\">\n",
              "      <th></th>\n",
              "      <th>Group</th>\n",
              "      <th>Lag</th>\n",
              "      <th>U Statistic</th>\n",
              "      <th>P</th>\n",
              "      <th>Mean event</th>\n",
              "      <th>Mean control</th>\n",
              "    </tr>\n",
              "  </thead>\n",
              "  <tbody>\n",
              "    <tr>\n",
              "      <th>4</th>\n",
              "      <td>Todos</td>\n",
              "      <td>4</td>\n",
              "      <td>82586.0</td>\n",
              "      <td>0.044</td>\n",
              "      <td>6.49</td>\n",
              "      <td>7.11</td>\n",
              "    </tr>\n",
              "    <tr>\n",
              "      <th>26</th>\n",
              "      <td>Homens</td>\n",
              "      <td>4</td>\n",
              "      <td>73704.0</td>\n",
              "      <td>0.011</td>\n",
              "      <td>3.48</td>\n",
              "      <td>3.94</td>\n",
              "    </tr>\n",
              "  </tbody>\n",
              "</table>\n",
              "</div>"
            ],
            "text/plain": [
              "     Group  Lag  U Statistic      P  Mean event  Mean control\n",
              "4    Todos    4      82586.0  0.044        6.49          7.11\n",
              "26  Homens    4      73704.0  0.011        3.48          3.94"
            ]
          },
          "metadata": {
            "tags": []
          },
          "execution_count": 22
        }
      ]
    },
    {
      "cell_type": "markdown",
      "metadata": {
        "id": "4F_JAshNQl5j"
      },
      "source": [
        "####**Age**"
      ]
    },
    {
      "cell_type": "code",
      "metadata": {
        "id": "P9Lv0KQAQl5j",
        "colab": {
          "base_uri": "https://localhost:8080/",
          "height": 111
        },
        "outputId": "a794ddd0-071f-403d-8817-76bb6209caca"
      },
      "source": [
        "get_mann_whitney_lag(df_temp,'above_pct_range','age')"
      ],
      "execution_count": null,
      "outputs": [
        {
          "output_type": "execute_result",
          "data": {
            "text/html": [
              "<div>\n",
              "<style scoped>\n",
              "    .dataframe tbody tr th:only-of-type {\n",
              "        vertical-align: middle;\n",
              "    }\n",
              "\n",
              "    .dataframe tbody tr th {\n",
              "        vertical-align: top;\n",
              "    }\n",
              "\n",
              "    .dataframe thead th {\n",
              "        text-align: right;\n",
              "    }\n",
              "</style>\n",
              "<table border=\"1\" class=\"dataframe\">\n",
              "  <thead>\n",
              "    <tr style=\"text-align: right;\">\n",
              "      <th></th>\n",
              "      <th>Group</th>\n",
              "      <th>Lag</th>\n",
              "      <th>U Statistic</th>\n",
              "      <th>P</th>\n",
              "      <th>Mean event</th>\n",
              "      <th>Mean control</th>\n",
              "    </tr>\n",
              "  </thead>\n",
              "  <tbody>\n",
              "    <tr>\n",
              "      <th>4</th>\n",
              "      <td>Todas idades</td>\n",
              "      <td>4</td>\n",
              "      <td>82586.0</td>\n",
              "      <td>0.044</td>\n",
              "      <td>6.49</td>\n",
              "      <td>7.11</td>\n",
              "    </tr>\n",
              "    <tr>\n",
              "      <th>36</th>\n",
              "      <td>Acima de 65 anos</td>\n",
              "      <td>3</td>\n",
              "      <td>78480.0</td>\n",
              "      <td>0.043</td>\n",
              "      <td>3.24</td>\n",
              "      <td>3.64</td>\n",
              "    </tr>\n",
              "  </tbody>\n",
              "</table>\n",
              "</div>"
            ],
            "text/plain": [
              "               Group  Lag  U Statistic      P  Mean event  Mean control\n",
              "4       Todas idades    4      82586.0  0.044        6.49          7.11\n",
              "36  Acima de 65 anos    3      78480.0  0.043        3.24          3.64"
            ]
          },
          "metadata": {
            "tags": []
          },
          "execution_count": 27
        }
      ]
    },
    {
      "cell_type": "markdown",
      "metadata": {
        "id": "g7Ivoa0xQl5k"
      },
      "source": [
        "####**Age and sex**"
      ]
    },
    {
      "cell_type": "code",
      "metadata": {
        "id": "i64e2vUwQl5l",
        "colab": {
          "base_uri": "https://localhost:8080/",
          "height": 173
        },
        "outputId": "a6e80c3c-b2bd-475b-bd98-6998db6dbbac"
      },
      "source": [
        "get_mann_whitney_lag(df_temp,'above_pct_range','age and sex')"
      ],
      "execution_count": null,
      "outputs": [
        {
          "output_type": "execute_result",
          "data": {
            "text/html": [
              "<div>\n",
              "<style scoped>\n",
              "    .dataframe tbody tr th:only-of-type {\n",
              "        vertical-align: middle;\n",
              "    }\n",
              "\n",
              "    .dataframe tbody tr th {\n",
              "        vertical-align: top;\n",
              "    }\n",
              "\n",
              "    .dataframe thead th {\n",
              "        text-align: right;\n",
              "    }\n",
              "</style>\n",
              "<table border=\"1\" class=\"dataframe\">\n",
              "  <thead>\n",
              "    <tr style=\"text-align: right;\">\n",
              "      <th></th>\n",
              "      <th>Group</th>\n",
              "      <th>Lag</th>\n",
              "      <th>U Statistic</th>\n",
              "      <th>P</th>\n",
              "      <th>Mean event</th>\n",
              "      <th>Mean control</th>\n",
              "    </tr>\n",
              "  </thead>\n",
              "  <tbody>\n",
              "    <tr>\n",
              "      <th>4</th>\n",
              "      <td>Todas idades</td>\n",
              "      <td>4</td>\n",
              "      <td>82586.0</td>\n",
              "      <td>0.044</td>\n",
              "      <td>6.49</td>\n",
              "      <td>7.11</td>\n",
              "    </tr>\n",
              "    <tr>\n",
              "      <th>17</th>\n",
              "      <td>Mulheres entre 20 e 65 anos</td>\n",
              "      <td>6</td>\n",
              "      <td>41653.5</td>\n",
              "      <td>0.007</td>\n",
              "      <td>1.05</td>\n",
              "      <td>1.42</td>\n",
              "    </tr>\n",
              "    <tr>\n",
              "      <th>36</th>\n",
              "      <td>Mulheres acima de 65 anos</td>\n",
              "      <td>3</td>\n",
              "      <td>53501.5</td>\n",
              "      <td>0.010</td>\n",
              "      <td>1.44</td>\n",
              "      <td>1.80</td>\n",
              "    </tr>\n",
              "    <tr>\n",
              "      <th>48</th>\n",
              "      <td>Homens acima de 65 anos</td>\n",
              "      <td>4</td>\n",
              "      <td>55444.5</td>\n",
              "      <td>0.032</td>\n",
              "      <td>1.54</td>\n",
              "      <td>1.87</td>\n",
              "    </tr>\n",
              "  </tbody>\n",
              "</table>\n",
              "</div>"
            ],
            "text/plain": [
              "                          Group  Lag  ...  Mean event  Mean control\n",
              "4                  Todas idades    4  ...        6.49          7.11\n",
              "17  Mulheres entre 20 e 65 anos    6  ...        1.05          1.42\n",
              "36    Mulheres acima de 65 anos    3  ...        1.44          1.80\n",
              "48      Homens acima de 65 anos    4  ...        1.54          1.87\n",
              "\n",
              "[4 rows x 6 columns]"
            ]
          },
          "metadata": {
            "tags": []
          },
          "execution_count": 24
        }
      ]
    },
    {
      "cell_type": "markdown",
      "metadata": {
        "id": "G6tDX_3YQ5KN"
      },
      "source": [
        "###**Extreme temperature difference between days**"
      ]
    },
    {
      "cell_type": "markdown",
      "metadata": {
        "id": "-tZtV8otQ5KN"
      },
      "source": [
        "####**Sex**"
      ]
    },
    {
      "cell_type": "code",
      "metadata": {
        "id": "YMxqYjbdQ5KO",
        "colab": {
          "base_uri": "https://localhost:8080/",
          "height": 80
        },
        "outputId": "f34ce148-18dd-4c63-9a37-2a03eac4c8a0"
      },
      "source": [
        "get_mann_whitney_lag(df_temp,'above_pct_dif','sex')"
      ],
      "execution_count": null,
      "outputs": [
        {
          "output_type": "execute_result",
          "data": {
            "text/html": [
              "<div>\n",
              "<style scoped>\n",
              "    .dataframe tbody tr th:only-of-type {\n",
              "        vertical-align: middle;\n",
              "    }\n",
              "\n",
              "    .dataframe tbody tr th {\n",
              "        vertical-align: top;\n",
              "    }\n",
              "\n",
              "    .dataframe thead th {\n",
              "        text-align: right;\n",
              "    }\n",
              "</style>\n",
              "<table border=\"1\" class=\"dataframe\">\n",
              "  <thead>\n",
              "    <tr style=\"text-align: right;\">\n",
              "      <th></th>\n",
              "      <th>Group</th>\n",
              "      <th>Lag</th>\n",
              "      <th>U Statistic</th>\n",
              "      <th>P</th>\n",
              "      <th>Mean event</th>\n",
              "      <th>Mean control</th>\n",
              "    </tr>\n",
              "  </thead>\n",
              "  <tbody>\n",
              "    <tr>\n",
              "      <th>18</th>\n",
              "      <td>Mulheres</td>\n",
              "      <td>7</td>\n",
              "      <td>23016.5</td>\n",
              "      <td>0.016</td>\n",
              "      <td>4.24</td>\n",
              "      <td>3.15</td>\n",
              "    </tr>\n",
              "  </tbody>\n",
              "</table>\n",
              "</div>"
            ],
            "text/plain": [
              "       Group  Lag  U Statistic      P  Mean event  Mean control\n",
              "18  Mulheres    7      23016.5  0.016        4.24          3.15"
            ]
          },
          "metadata": {
            "tags": []
          },
          "execution_count": 26
        }
      ]
    },
    {
      "cell_type": "markdown",
      "metadata": {
        "id": "r810w1F4Q5KO"
      },
      "source": [
        "####**Age**"
      ]
    },
    {
      "cell_type": "code",
      "metadata": {
        "id": "5wzYzYRIQ5KO",
        "colab": {
          "base_uri": "https://localhost:8080/",
          "height": 80
        },
        "outputId": "5ffbe01f-e8b6-4a62-d266-45d8c384ca10"
      },
      "source": [
        "get_mann_whitney_lag(df_temp,'above_pct_dif','age')"
      ],
      "execution_count": null,
      "outputs": [
        {
          "output_type": "execute_result",
          "data": {
            "text/html": [
              "<div>\n",
              "<style scoped>\n",
              "    .dataframe tbody tr th:only-of-type {\n",
              "        vertical-align: middle;\n",
              "    }\n",
              "\n",
              "    .dataframe tbody tr th {\n",
              "        vertical-align: top;\n",
              "    }\n",
              "\n",
              "    .dataframe thead th {\n",
              "        text-align: right;\n",
              "    }\n",
              "</style>\n",
              "<table border=\"1\" class=\"dataframe\">\n",
              "  <thead>\n",
              "    <tr style=\"text-align: right;\">\n",
              "      <th></th>\n",
              "      <th>Group</th>\n",
              "      <th>Lag</th>\n",
              "      <th>U Statistic</th>\n",
              "      <th>P</th>\n",
              "      <th>Mean event</th>\n",
              "      <th>Mean control</th>\n",
              "    </tr>\n",
              "  </thead>\n",
              "  <tbody>\n",
              "    <tr>\n",
              "      <th>54</th>\n",
              "      <td>Acima de 75 anos</td>\n",
              "      <td>10</td>\n",
              "      <td>8934.5</td>\n",
              "      <td>0.024</td>\n",
              "      <td>1.0</td>\n",
              "      <td>1.62</td>\n",
              "    </tr>\n",
              "  </tbody>\n",
              "</table>\n",
              "</div>"
            ],
            "text/plain": [
              "               Group  Lag  U Statistic      P  Mean event  Mean control\n",
              "54  Acima de 75 anos   10       8934.5  0.024         1.0          1.62"
            ]
          },
          "metadata": {
            "tags": []
          },
          "execution_count": 29
        }
      ]
    },
    {
      "cell_type": "markdown",
      "metadata": {
        "id": "aRnWbIAHQ5KP"
      },
      "source": [
        "####**Age and sex**"
      ]
    },
    {
      "cell_type": "code",
      "metadata": {
        "id": "lA6IcFG_Q5KP",
        "colab": {
          "base_uri": "https://localhost:8080/",
          "height": 142
        },
        "outputId": "d10c4cd8-c3f8-4d94-c4d4-59cd67284fd3"
      },
      "source": [
        "get_mann_whitney_lag(df_temp,'above_pct_dif','age and sex')"
      ],
      "execution_count": null,
      "outputs": [
        {
          "output_type": "execute_result",
          "data": {
            "text/html": [
              "<div>\n",
              "<style scoped>\n",
              "    .dataframe tbody tr th:only-of-type {\n",
              "        vertical-align: middle;\n",
              "    }\n",
              "\n",
              "    .dataframe tbody tr th {\n",
              "        vertical-align: top;\n",
              "    }\n",
              "\n",
              "    .dataframe thead th {\n",
              "        text-align: right;\n",
              "    }\n",
              "</style>\n",
              "<table border=\"1\" class=\"dataframe\">\n",
              "  <thead>\n",
              "    <tr style=\"text-align: right;\">\n",
              "      <th></th>\n",
              "      <th>Group</th>\n",
              "      <th>Lag</th>\n",
              "      <th>U Statistic</th>\n",
              "      <th>P</th>\n",
              "      <th>Mean event</th>\n",
              "      <th>Mean control</th>\n",
              "    </tr>\n",
              "  </thead>\n",
              "  <tbody>\n",
              "    <tr>\n",
              "      <th>18</th>\n",
              "      <td>Mulheres entre 20 e 65 anos</td>\n",
              "      <td>7</td>\n",
              "      <td>15252.5</td>\n",
              "      <td>0.032</td>\n",
              "      <td>2.11</td>\n",
              "      <td>1.39</td>\n",
              "    </tr>\n",
              "    <tr>\n",
              "      <th>36</th>\n",
              "      <td>Mulheres acima de 65 anos</td>\n",
              "      <td>3</td>\n",
              "      <td>10913.5</td>\n",
              "      <td>0.043</td>\n",
              "      <td>1.20</td>\n",
              "      <td>1.79</td>\n",
              "    </tr>\n",
              "    <tr>\n",
              "      <th>49</th>\n",
              "      <td>Homens acima de 65 anos</td>\n",
              "      <td>5</td>\n",
              "      <td>9768.0</td>\n",
              "      <td>0.042</td>\n",
              "      <td>1.17</td>\n",
              "      <td>1.87</td>\n",
              "    </tr>\n",
              "  </tbody>\n",
              "</table>\n",
              "</div>"
            ],
            "text/plain": [
              "                          Group  Lag  ...  Mean event  Mean control\n",
              "18  Mulheres entre 20 e 65 anos    7  ...        2.11          1.39\n",
              "36    Mulheres acima de 65 anos    3  ...        1.20          1.79\n",
              "49      Homens acima de 65 anos    5  ...        1.17          1.87\n",
              "\n",
              "[3 rows x 6 columns]"
            ]
          },
          "metadata": {
            "tags": []
          },
          "execution_count": 30
        }
      ]
    },
    {
      "cell_type": "markdown",
      "metadata": {
        "id": "VQeB8FKlOB5N"
      },
      "source": [
        "##**Pressure**"
      ]
    },
    {
      "cell_type": "markdown",
      "metadata": {
        "id": "q5FVaA68OB5O"
      },
      "source": [
        "###**Low pressure waves**"
      ]
    },
    {
      "cell_type": "markdown",
      "metadata": {
        "id": "Xk6z1yoxOB5O"
      },
      "source": [
        "####**Sex**"
      ]
    },
    {
      "cell_type": "code",
      "metadata": {
        "id": "GPSlg04sOB5P",
        "colab": {
          "base_uri": "https://localhost:8080/",
          "height": 173
        },
        "outputId": "1d78e229-77fc-4e08-b96b-b21697344380"
      },
      "source": [
        "get_mann_whitney_lag(df_pressure,'LPW','sex')"
      ],
      "execution_count": null,
      "outputs": [
        {
          "output_type": "execute_result",
          "data": {
            "text/html": [
              "<div>\n",
              "<style scoped>\n",
              "    .dataframe tbody tr th:only-of-type {\n",
              "        vertical-align: middle;\n",
              "    }\n",
              "\n",
              "    .dataframe tbody tr th {\n",
              "        vertical-align: top;\n",
              "    }\n",
              "\n",
              "    .dataframe thead th {\n",
              "        text-align: right;\n",
              "    }\n",
              "</style>\n",
              "<table border=\"1\" class=\"dataframe\">\n",
              "  <thead>\n",
              "    <tr style=\"text-align: right;\">\n",
              "      <th></th>\n",
              "      <th>Group</th>\n",
              "      <th>Lag</th>\n",
              "      <th>U Statistic</th>\n",
              "      <th>P</th>\n",
              "      <th>Mean event</th>\n",
              "      <th>Mean control</th>\n",
              "    </tr>\n",
              "  </thead>\n",
              "  <tbody>\n",
              "    <tr>\n",
              "      <th>9</th>\n",
              "      <td>Todos</td>\n",
              "      <td>9</td>\n",
              "      <td>30265.0</td>\n",
              "      <td>0.037</td>\n",
              "      <td>6.12</td>\n",
              "      <td>7.09</td>\n",
              "    </tr>\n",
              "    <tr>\n",
              "      <th>14</th>\n",
              "      <td>Mulheres</td>\n",
              "      <td>3</td>\n",
              "      <td>41520.0</td>\n",
              "      <td>0.037</td>\n",
              "      <td>3.60</td>\n",
              "      <td>3.14</td>\n",
              "    </tr>\n",
              "    <tr>\n",
              "      <th>22</th>\n",
              "      <td>Homens</td>\n",
              "      <td>0</td>\n",
              "      <td>40394.0</td>\n",
              "      <td>0.033</td>\n",
              "      <td>4.72</td>\n",
              "      <td>4.02</td>\n",
              "    </tr>\n",
              "    <tr>\n",
              "      <th>31</th>\n",
              "      <td>Homens</td>\n",
              "      <td>9</td>\n",
              "      <td>26281.5</td>\n",
              "      <td>0.019</td>\n",
              "      <td>3.18</td>\n",
              "      <td>3.94</td>\n",
              "    </tr>\n",
              "  </tbody>\n",
              "</table>\n",
              "</div>"
            ],
            "text/plain": [
              "       Group  Lag  U Statistic      P  Mean event  Mean control\n",
              "9      Todos    9      30265.0  0.037        6.12          7.09\n",
              "14  Mulheres    3      41520.0  0.037        3.60          3.14\n",
              "22    Homens    0      40394.0  0.033        4.72          4.02\n",
              "31    Homens    9      26281.5  0.019        3.18          3.94"
            ]
          },
          "metadata": {
            "tags": []
          },
          "execution_count": 31
        }
      ]
    },
    {
      "cell_type": "markdown",
      "metadata": {
        "id": "1hXRbAKFOB5Q"
      },
      "source": [
        "####**Age**"
      ]
    },
    {
      "cell_type": "code",
      "metadata": {
        "id": "Ih9L7uGkOB5Q",
        "colab": {
          "base_uri": "https://localhost:8080/",
          "height": 235
        },
        "outputId": "4d5e898b-ecf0-4e48-dcf5-6d3ad9cb7958"
      },
      "source": [
        "get_mann_whitney_lag(df_pressure,'LPW','age')"
      ],
      "execution_count": null,
      "outputs": [
        {
          "output_type": "execute_result",
          "data": {
            "text/html": [
              "<div>\n",
              "<style scoped>\n",
              "    .dataframe tbody tr th:only-of-type {\n",
              "        vertical-align: middle;\n",
              "    }\n",
              "\n",
              "    .dataframe tbody tr th {\n",
              "        vertical-align: top;\n",
              "    }\n",
              "\n",
              "    .dataframe thead th {\n",
              "        text-align: right;\n",
              "    }\n",
              "</style>\n",
              "<table border=\"1\" class=\"dataframe\">\n",
              "  <thead>\n",
              "    <tr style=\"text-align: right;\">\n",
              "      <th></th>\n",
              "      <th>Group</th>\n",
              "      <th>Lag</th>\n",
              "      <th>U Statistic</th>\n",
              "      <th>P</th>\n",
              "      <th>Mean event</th>\n",
              "      <th>Mean control</th>\n",
              "    </tr>\n",
              "  </thead>\n",
              "  <tbody>\n",
              "    <tr>\n",
              "      <th>9</th>\n",
              "      <td>Todas idades</td>\n",
              "      <td>9</td>\n",
              "      <td>30265.0</td>\n",
              "      <td>0.037</td>\n",
              "      <td>6.12</td>\n",
              "      <td>7.09</td>\n",
              "    </tr>\n",
              "    <tr>\n",
              "      <th>31</th>\n",
              "      <td>Entre 40 e 65 anos</td>\n",
              "      <td>9</td>\n",
              "      <td>25518.5</td>\n",
              "      <td>0.005</td>\n",
              "      <td>2.27</td>\n",
              "      <td>3.09</td>\n",
              "    </tr>\n",
              "    <tr>\n",
              "      <th>33</th>\n",
              "      <td>Acima de 65 anos</td>\n",
              "      <td>0</td>\n",
              "      <td>40499.5</td>\n",
              "      <td>0.045</td>\n",
              "      <td>4.38</td>\n",
              "      <td>3.73</td>\n",
              "    </tr>\n",
              "    <tr>\n",
              "      <th>44</th>\n",
              "      <td>Acima de 75 anos</td>\n",
              "      <td>0</td>\n",
              "      <td>30904.0</td>\n",
              "      <td>0.016</td>\n",
              "      <td>2.39</td>\n",
              "      <td>2.01</td>\n",
              "    </tr>\n",
              "    <tr>\n",
              "      <th>46</th>\n",
              "      <td>Acima de 75 anos</td>\n",
              "      <td>2</td>\n",
              "      <td>30967.5</td>\n",
              "      <td>0.017</td>\n",
              "      <td>2.08</td>\n",
              "      <td>1.59</td>\n",
              "    </tr>\n",
              "    <tr>\n",
              "      <th>47</th>\n",
              "      <td>Acima de 75 anos</td>\n",
              "      <td>3</td>\n",
              "      <td>30935.5</td>\n",
              "      <td>0.018</td>\n",
              "      <td>2.08</td>\n",
              "      <td>1.59</td>\n",
              "    </tr>\n",
              "  </tbody>\n",
              "</table>\n",
              "</div>"
            ],
            "text/plain": [
              "                 Group  Lag  U Statistic      P  Mean event  Mean control\n",
              "9         Todas idades    9      30265.0  0.037        6.12          7.09\n",
              "31  Entre 40 e 65 anos    9      25518.5  0.005        2.27          3.09\n",
              "33    Acima de 65 anos    0      40499.5  0.045        4.38          3.73\n",
              "44    Acima de 75 anos    0      30904.0  0.016        2.39          2.01\n",
              "46    Acima de 75 anos    2      30967.5  0.017        2.08          1.59\n",
              "47    Acima de 75 anos    3      30935.5  0.018        2.08          1.59"
            ]
          },
          "metadata": {
            "tags": []
          },
          "execution_count": 33
        }
      ]
    },
    {
      "cell_type": "markdown",
      "metadata": {
        "id": "527hVya4OB5R"
      },
      "source": [
        "####**Age and sex**"
      ]
    },
    {
      "cell_type": "code",
      "metadata": {
        "id": "G9gx7N2mOB5S",
        "colab": {
          "base_uri": "https://localhost:8080/",
          "height": 235
        },
        "outputId": "b37e3fa9-1f0e-4641-9615-6476ef6e45ea"
      },
      "source": [
        "get_mann_whitney_lag(df_pressure,'LPW','age and sex')"
      ],
      "execution_count": null,
      "outputs": [
        {
          "output_type": "execute_result",
          "data": {
            "text/html": [
              "<div>\n",
              "<style scoped>\n",
              "    .dataframe tbody tr th:only-of-type {\n",
              "        vertical-align: middle;\n",
              "    }\n",
              "\n",
              "    .dataframe tbody tr th {\n",
              "        vertical-align: top;\n",
              "    }\n",
              "\n",
              "    .dataframe thead th {\n",
              "        text-align: right;\n",
              "    }\n",
              "</style>\n",
              "<table border=\"1\" class=\"dataframe\">\n",
              "  <thead>\n",
              "    <tr style=\"text-align: right;\">\n",
              "      <th></th>\n",
              "      <th>Group</th>\n",
              "      <th>Lag</th>\n",
              "      <th>U Statistic</th>\n",
              "      <th>P</th>\n",
              "      <th>Mean event</th>\n",
              "      <th>Mean control</th>\n",
              "    </tr>\n",
              "  </thead>\n",
              "  <tbody>\n",
              "    <tr>\n",
              "      <th>9</th>\n",
              "      <td>Todas idades</td>\n",
              "      <td>9</td>\n",
              "      <td>30265.0</td>\n",
              "      <td>0.037</td>\n",
              "      <td>6.12</td>\n",
              "      <td>7.09</td>\n",
              "    </tr>\n",
              "    <tr>\n",
              "      <th>11</th>\n",
              "      <td>Mulheres entre 20 e 65 anos</td>\n",
              "      <td>0</td>\n",
              "      <td>15203.0</td>\n",
              "      <td>0.010</td>\n",
              "      <td>1.42</td>\n",
              "      <td>1.88</td>\n",
              "    </tr>\n",
              "    <tr>\n",
              "      <th>18</th>\n",
              "      <td>Mulheres entre 20 e 65 anos</td>\n",
              "      <td>7</td>\n",
              "      <td>16094.0</td>\n",
              "      <td>0.042</td>\n",
              "      <td>0.94</td>\n",
              "      <td>1.41</td>\n",
              "    </tr>\n",
              "    <tr>\n",
              "      <th>31</th>\n",
              "      <td>Homens entre 20 e 65 anos</td>\n",
              "      <td>9</td>\n",
              "      <td>22624.0</td>\n",
              "      <td>0.023</td>\n",
              "      <td>1.55</td>\n",
              "      <td>2.09</td>\n",
              "    </tr>\n",
              "    <tr>\n",
              "      <th>33</th>\n",
              "      <td>Mulheres acima de 65 anos</td>\n",
              "      <td>0</td>\n",
              "      <td>31266.0</td>\n",
              "      <td>0.015</td>\n",
              "      <td>2.69</td>\n",
              "      <td>2.14</td>\n",
              "    </tr>\n",
              "    <tr>\n",
              "      <th>51</th>\n",
              "      <td>Homens acima de 65 anos</td>\n",
              "      <td>7</td>\n",
              "      <td>21416.5</td>\n",
              "      <td>0.045</td>\n",
              "      <td>1.42</td>\n",
              "      <td>1.88</td>\n",
              "    </tr>\n",
              "  </tbody>\n",
              "</table>\n",
              "</div>"
            ],
            "text/plain": [
              "                          Group  Lag  ...  Mean event  Mean control\n",
              "9                  Todas idades    9  ...        6.12          7.09\n",
              "11  Mulheres entre 20 e 65 anos    0  ...        1.42          1.88\n",
              "18  Mulheres entre 20 e 65 anos    7  ...        0.94          1.41\n",
              "31    Homens entre 20 e 65 anos    9  ...        1.55          2.09\n",
              "33    Mulheres acima de 65 anos    0  ...        2.69          2.14\n",
              "51      Homens acima de 65 anos    7  ...        1.42          1.88\n",
              "\n",
              "[6 rows x 6 columns]"
            ]
          },
          "metadata": {
            "tags": []
          },
          "execution_count": 34
        }
      ]
    },
    {
      "cell_type": "markdown",
      "metadata": {
        "id": "wEqEOkPM3F66"
      },
      "source": [
        "###**High pressure waves**"
      ]
    },
    {
      "cell_type": "markdown",
      "metadata": {
        "id": "UUR3u77L3F7O"
      },
      "source": [
        "####**Sex**"
      ]
    },
    {
      "cell_type": "code",
      "metadata": {
        "colab": {
          "base_uri": "https://localhost:8080/",
          "height": 49
        },
        "id": "edbwEL1h3F7P",
        "outputId": "14a59f96-d459-4dc1-dcd4-c35f293b4b55"
      },
      "source": [
        "get_mann_whitney_lag(df_pressure,'HPW','sex')"
      ],
      "execution_count": null,
      "outputs": [
        {
          "output_type": "execute_result",
          "data": {
            "text/html": [
              "<div>\n",
              "<style scoped>\n",
              "    .dataframe tbody tr th:only-of-type {\n",
              "        vertical-align: middle;\n",
              "    }\n",
              "\n",
              "    .dataframe tbody tr th {\n",
              "        vertical-align: top;\n",
              "    }\n",
              "\n",
              "    .dataframe thead th {\n",
              "        text-align: right;\n",
              "    }\n",
              "</style>\n",
              "<table border=\"1\" class=\"dataframe\">\n",
              "  <thead>\n",
              "    <tr style=\"text-align: right;\">\n",
              "      <th></th>\n",
              "      <th>Group</th>\n",
              "      <th>Lag</th>\n",
              "      <th>U Statistic</th>\n",
              "      <th>P</th>\n",
              "      <th>Mean event</th>\n",
              "      <th>Mean control</th>\n",
              "    </tr>\n",
              "  </thead>\n",
              "  <tbody>\n",
              "  </tbody>\n",
              "</table>\n",
              "</div>"
            ],
            "text/plain": [
              "Empty DataFrame\n",
              "Columns: [Group, Lag, U Statistic, P, Mean event, Mean control]\n",
              "Index: []"
            ]
          },
          "metadata": {
            "tags": []
          },
          "execution_count": 35
        }
      ]
    },
    {
      "cell_type": "markdown",
      "metadata": {
        "id": "uAuPq2uB3F7Q"
      },
      "source": [
        "####**Age**"
      ]
    },
    {
      "cell_type": "code",
      "metadata": {
        "colab": {
          "base_uri": "https://localhost:8080/",
          "height": 49
        },
        "id": "_Ykz5EPP3F7Q",
        "outputId": "c96ff4dc-7e5a-47df-9725-c130f3dafb5e"
      },
      "source": [
        "get_mann_whitney_lag(df_pressure,'HPW','age')"
      ],
      "execution_count": null,
      "outputs": [
        {
          "output_type": "execute_result",
          "data": {
            "text/html": [
              "<div>\n",
              "<style scoped>\n",
              "    .dataframe tbody tr th:only-of-type {\n",
              "        vertical-align: middle;\n",
              "    }\n",
              "\n",
              "    .dataframe tbody tr th {\n",
              "        vertical-align: top;\n",
              "    }\n",
              "\n",
              "    .dataframe thead th {\n",
              "        text-align: right;\n",
              "    }\n",
              "</style>\n",
              "<table border=\"1\" class=\"dataframe\">\n",
              "  <thead>\n",
              "    <tr style=\"text-align: right;\">\n",
              "      <th></th>\n",
              "      <th>Group</th>\n",
              "      <th>Lag</th>\n",
              "      <th>U Statistic</th>\n",
              "      <th>P</th>\n",
              "      <th>Mean event</th>\n",
              "      <th>Mean control</th>\n",
              "    </tr>\n",
              "  </thead>\n",
              "  <tbody>\n",
              "  </tbody>\n",
              "</table>\n",
              "</div>"
            ],
            "text/plain": [
              "Empty DataFrame\n",
              "Columns: [Group, Lag, U Statistic, P, Mean event, Mean control]\n",
              "Index: []"
            ]
          },
          "metadata": {
            "tags": []
          },
          "execution_count": 36
        }
      ]
    },
    {
      "cell_type": "markdown",
      "metadata": {
        "id": "3zrR9U3j3F7Q"
      },
      "source": [
        "####**Age and sex**"
      ]
    },
    {
      "cell_type": "code",
      "metadata": {
        "colab": {
          "base_uri": "https://localhost:8080/",
          "height": 49
        },
        "id": "99a0EhST3F7R",
        "outputId": "ec6f3375-9a96-423e-f0b9-565c9404c5f7"
      },
      "source": [
        "get_mann_whitney_lag(df_pressure,'HPW','age and sex')"
      ],
      "execution_count": null,
      "outputs": [
        {
          "output_type": "execute_result",
          "data": {
            "text/html": [
              "<div>\n",
              "<style scoped>\n",
              "    .dataframe tbody tr th:only-of-type {\n",
              "        vertical-align: middle;\n",
              "    }\n",
              "\n",
              "    .dataframe tbody tr th {\n",
              "        vertical-align: top;\n",
              "    }\n",
              "\n",
              "    .dataframe thead th {\n",
              "        text-align: right;\n",
              "    }\n",
              "</style>\n",
              "<table border=\"1\" class=\"dataframe\">\n",
              "  <thead>\n",
              "    <tr style=\"text-align: right;\">\n",
              "      <th></th>\n",
              "      <th>Group</th>\n",
              "      <th>Lag</th>\n",
              "      <th>U Statistic</th>\n",
              "      <th>P</th>\n",
              "      <th>Mean event</th>\n",
              "      <th>Mean control</th>\n",
              "    </tr>\n",
              "  </thead>\n",
              "  <tbody>\n",
              "  </tbody>\n",
              "</table>\n",
              "</div>"
            ],
            "text/plain": [
              "Empty DataFrame\n",
              "Columns: [Group, Lag, U Statistic, P, Mean event, Mean control]\n",
              "Index: []"
            ]
          },
          "metadata": {
            "tags": []
          },
          "execution_count": 37
        }
      ]
    },
    {
      "cell_type": "markdown",
      "metadata": {
        "id": "cMH4SSe_Pyd4"
      },
      "source": [
        "###**Extreme pressure difference between days**"
      ]
    },
    {
      "cell_type": "markdown",
      "metadata": {
        "id": "Mi4-VnZ9PyeE"
      },
      "source": [
        "####**Sex**"
      ]
    },
    {
      "cell_type": "code",
      "metadata": {
        "id": "hWRDXQx1PyeF",
        "colab": {
          "base_uri": "https://localhost:8080/",
          "height": 49
        },
        "outputId": "b0020a22-966b-4316-8f1c-91c9cd6e979b"
      },
      "source": [
        "get_mann_whitney_lag(df_pressure,'above_pct_dif', 'sex')"
      ],
      "execution_count": null,
      "outputs": [
        {
          "output_type": "execute_result",
          "data": {
            "text/html": [
              "<div>\n",
              "<style scoped>\n",
              "    .dataframe tbody tr th:only-of-type {\n",
              "        vertical-align: middle;\n",
              "    }\n",
              "\n",
              "    .dataframe tbody tr th {\n",
              "        vertical-align: top;\n",
              "    }\n",
              "\n",
              "    .dataframe thead th {\n",
              "        text-align: right;\n",
              "    }\n",
              "</style>\n",
              "<table border=\"1\" class=\"dataframe\">\n",
              "  <thead>\n",
              "    <tr style=\"text-align: right;\">\n",
              "      <th></th>\n",
              "      <th>Group</th>\n",
              "      <th>Lag</th>\n",
              "      <th>U Statistic</th>\n",
              "      <th>P</th>\n",
              "      <th>Mean event</th>\n",
              "      <th>Mean control</th>\n",
              "    </tr>\n",
              "  </thead>\n",
              "  <tbody>\n",
              "  </tbody>\n",
              "</table>\n",
              "</div>"
            ],
            "text/plain": [
              "Empty DataFrame\n",
              "Columns: [Group, Lag, U Statistic, P, Mean event, Mean control]\n",
              "Index: []"
            ]
          },
          "metadata": {
            "tags": []
          },
          "execution_count": 38
        }
      ]
    },
    {
      "cell_type": "markdown",
      "metadata": {
        "id": "OonPr487PyeG"
      },
      "source": [
        "####**Age**"
      ]
    },
    {
      "cell_type": "code",
      "metadata": {
        "id": "4iQmLHzgPyeG",
        "colab": {
          "base_uri": "https://localhost:8080/",
          "height": 80
        },
        "outputId": "3d82de3c-9512-45d5-c8a4-feeb990b1b2f"
      },
      "source": [
        "get_mann_whitney_lag(df_pressure,'above_pct_dif','age')"
      ],
      "execution_count": null,
      "outputs": [
        {
          "output_type": "execute_result",
          "data": {
            "text/html": [
              "<div>\n",
              "<style scoped>\n",
              "    .dataframe tbody tr th:only-of-type {\n",
              "        vertical-align: middle;\n",
              "    }\n",
              "\n",
              "    .dataframe tbody tr th {\n",
              "        vertical-align: top;\n",
              "    }\n",
              "\n",
              "    .dataframe thead th {\n",
              "        text-align: right;\n",
              "    }\n",
              "</style>\n",
              "<table border=\"1\" class=\"dataframe\">\n",
              "  <thead>\n",
              "    <tr style=\"text-align: right;\">\n",
              "      <th></th>\n",
              "      <th>Group</th>\n",
              "      <th>Lag</th>\n",
              "      <th>U Statistic</th>\n",
              "      <th>P</th>\n",
              "      <th>Mean event</th>\n",
              "      <th>Mean control</th>\n",
              "    </tr>\n",
              "  </thead>\n",
              "  <tbody>\n",
              "    <tr>\n",
              "      <th>54</th>\n",
              "      <td>Acima de 75 anos</td>\n",
              "      <td>10</td>\n",
              "      <td>82079.5</td>\n",
              "      <td>0.042</td>\n",
              "      <td>1.43</td>\n",
              "      <td>1.63</td>\n",
              "    </tr>\n",
              "  </tbody>\n",
              "</table>\n",
              "</div>"
            ],
            "text/plain": [
              "               Group  Lag  U Statistic      P  Mean event  Mean control\n",
              "54  Acima de 75 anos   10      82079.5  0.042        1.43          1.63"
            ]
          },
          "metadata": {
            "tags": []
          },
          "execution_count": 39
        }
      ]
    },
    {
      "cell_type": "markdown",
      "metadata": {
        "id": "KDMZz5JpPyeG"
      },
      "source": [
        "####**Age and sex**"
      ]
    },
    {
      "cell_type": "code",
      "metadata": {
        "id": "hMOGyZ8DPyeH",
        "colab": {
          "base_uri": "https://localhost:8080/",
          "height": 80
        },
        "outputId": "ada12f1b-9c41-4481-fa24-3103e2182bb9"
      },
      "source": [
        "get_mann_whitney_lag(df_pressure,'above_pct_dif', 'age and sex')"
      ],
      "execution_count": null,
      "outputs": [
        {
          "output_type": "execute_result",
          "data": {
            "text/html": [
              "<div>\n",
              "<style scoped>\n",
              "    .dataframe tbody tr th:only-of-type {\n",
              "        vertical-align: middle;\n",
              "    }\n",
              "\n",
              "    .dataframe tbody tr th {\n",
              "        vertical-align: top;\n",
              "    }\n",
              "\n",
              "    .dataframe thead th {\n",
              "        text-align: right;\n",
              "    }\n",
              "</style>\n",
              "<table border=\"1\" class=\"dataframe\">\n",
              "  <thead>\n",
              "    <tr style=\"text-align: right;\">\n",
              "      <th></th>\n",
              "      <th>Group</th>\n",
              "      <th>Lag</th>\n",
              "      <th>U Statistic</th>\n",
              "      <th>P</th>\n",
              "      <th>Mean event</th>\n",
              "      <th>Mean control</th>\n",
              "    </tr>\n",
              "  </thead>\n",
              "  <tbody>\n",
              "    <tr>\n",
              "      <th>13</th>\n",
              "      <td>Mulheres entre 20 e 65 anos</td>\n",
              "      <td>2</td>\n",
              "      <td>70557.0</td>\n",
              "      <td>0.005</td>\n",
              "      <td>1.13</td>\n",
              "      <td>1.38</td>\n",
              "    </tr>\n",
              "  </tbody>\n",
              "</table>\n",
              "</div>"
            ],
            "text/plain": [
              "                          Group  Lag  ...  Mean event  Mean control\n",
              "13  Mulheres entre 20 e 65 anos    2  ...        1.13          1.38\n",
              "\n",
              "[1 rows x 6 columns]"
            ]
          },
          "metadata": {
            "tags": []
          },
          "execution_count": 40
        }
      ]
    },
    {
      "cell_type": "markdown",
      "metadata": {
        "id": "73Q4b6UiLLFH"
      },
      "source": [
        "##**Humidity**"
      ]
    },
    {
      "cell_type": "markdown",
      "metadata": {
        "id": "xffUzma_LdbC"
      },
      "source": [
        "###**Low humidity waves**"
      ]
    },
    {
      "cell_type": "markdown",
      "metadata": {
        "id": "qb4fMwIoLxJS"
      },
      "source": [
        "####**Sex**"
      ]
    },
    {
      "cell_type": "code",
      "metadata": {
        "colab": {
          "base_uri": "https://localhost:8080/",
          "height": 576
        },
        "id": "1Hwh22rBKOo2",
        "outputId": "6e863d04-b0bf-42ad-f089-570f294eea97"
      },
      "source": [
        "get_mann_whitney_lag(df_humidity,'LHW', 'sex')"
      ],
      "execution_count": null,
      "outputs": [
        {
          "output_type": "execute_result",
          "data": {
            "text/html": [
              "<div>\n",
              "<style scoped>\n",
              "    .dataframe tbody tr th:only-of-type {\n",
              "        vertical-align: middle;\n",
              "    }\n",
              "\n",
              "    .dataframe tbody tr th {\n",
              "        vertical-align: top;\n",
              "    }\n",
              "\n",
              "    .dataframe thead th {\n",
              "        text-align: right;\n",
              "    }\n",
              "</style>\n",
              "<table border=\"1\" class=\"dataframe\">\n",
              "  <thead>\n",
              "    <tr style=\"text-align: right;\">\n",
              "      <th></th>\n",
              "      <th>Group</th>\n",
              "      <th>Lag</th>\n",
              "      <th>U Statistic</th>\n",
              "      <th>P</th>\n",
              "      <th>Mean event</th>\n",
              "      <th>Mean control</th>\n",
              "    </tr>\n",
              "  </thead>\n",
              "  <tbody>\n",
              "    <tr>\n",
              "      <th>0</th>\n",
              "      <td>Todos</td>\n",
              "      <td>0</td>\n",
              "      <td>92891.5</td>\n",
              "      <td>0.009</td>\n",
              "      <td>6.41</td>\n",
              "      <td>7.12</td>\n",
              "    </tr>\n",
              "    <tr>\n",
              "      <th>1</th>\n",
              "      <td>Todos</td>\n",
              "      <td>1</td>\n",
              "      <td>90898.0</td>\n",
              "      <td>0.003</td>\n",
              "      <td>6.39</td>\n",
              "      <td>7.12</td>\n",
              "    </tr>\n",
              "    <tr>\n",
              "      <th>3</th>\n",
              "      <td>Todos</td>\n",
              "      <td>3</td>\n",
              "      <td>93395.5</td>\n",
              "      <td>0.013</td>\n",
              "      <td>6.39</td>\n",
              "      <td>7.12</td>\n",
              "    </tr>\n",
              "    <tr>\n",
              "      <th>4</th>\n",
              "      <td>Todos</td>\n",
              "      <td>4</td>\n",
              "      <td>94405.0</td>\n",
              "      <td>0.021</td>\n",
              "      <td>6.48</td>\n",
              "      <td>7.11</td>\n",
              "    </tr>\n",
              "    <tr>\n",
              "      <th>5</th>\n",
              "      <td>Todos</td>\n",
              "      <td>5</td>\n",
              "      <td>94327.5</td>\n",
              "      <td>0.021</td>\n",
              "      <td>6.50</td>\n",
              "      <td>7.11</td>\n",
              "    </tr>\n",
              "    <tr>\n",
              "      <th>6</th>\n",
              "      <td>Todos</td>\n",
              "      <td>6</td>\n",
              "      <td>94060.0</td>\n",
              "      <td>0.019</td>\n",
              "      <td>6.49</td>\n",
              "      <td>7.12</td>\n",
              "    </tr>\n",
              "    <tr>\n",
              "      <th>7</th>\n",
              "      <td>Todos</td>\n",
              "      <td>7</td>\n",
              "      <td>93930.0</td>\n",
              "      <td>0.018</td>\n",
              "      <td>6.41</td>\n",
              "      <td>7.13</td>\n",
              "    </tr>\n",
              "    <tr>\n",
              "      <th>22</th>\n",
              "      <td>Homens</td>\n",
              "      <td>0</td>\n",
              "      <td>88587.5</td>\n",
              "      <td>0.038</td>\n",
              "      <td>3.64</td>\n",
              "      <td>4.07</td>\n",
              "    </tr>\n",
              "    <tr>\n",
              "      <th>23</th>\n",
              "      <td>Homens</td>\n",
              "      <td>1</td>\n",
              "      <td>86798.5</td>\n",
              "      <td>0.017</td>\n",
              "      <td>3.50</td>\n",
              "      <td>3.96</td>\n",
              "    </tr>\n",
              "    <tr>\n",
              "      <th>24</th>\n",
              "      <td>Homens</td>\n",
              "      <td>2</td>\n",
              "      <td>88580.0</td>\n",
              "      <td>0.040</td>\n",
              "      <td>3.52</td>\n",
              "      <td>3.93</td>\n",
              "    </tr>\n",
              "    <tr>\n",
              "      <th>25</th>\n",
              "      <td>Homens</td>\n",
              "      <td>3</td>\n",
              "      <td>84384.5</td>\n",
              "      <td>0.005</td>\n",
              "      <td>3.44</td>\n",
              "      <td>3.98</td>\n",
              "    </tr>\n",
              "    <tr>\n",
              "      <th>26</th>\n",
              "      <td>Homens</td>\n",
              "      <td>4</td>\n",
              "      <td>82626.0</td>\n",
              "      <td>0.002</td>\n",
              "      <td>3.35</td>\n",
              "      <td>3.95</td>\n",
              "    </tr>\n",
              "    <tr>\n",
              "      <th>27</th>\n",
              "      <td>Homens</td>\n",
              "      <td>5</td>\n",
              "      <td>78779.5</td>\n",
              "      <td>0.000</td>\n",
              "      <td>3.19</td>\n",
              "      <td>3.96</td>\n",
              "    </tr>\n",
              "    <tr>\n",
              "      <th>28</th>\n",
              "      <td>Homens</td>\n",
              "      <td>6</td>\n",
              "      <td>83316.5</td>\n",
              "      <td>0.003</td>\n",
              "      <td>3.44</td>\n",
              "      <td>3.99</td>\n",
              "    </tr>\n",
              "    <tr>\n",
              "      <th>29</th>\n",
              "      <td>Homens</td>\n",
              "      <td>7</td>\n",
              "      <td>88377.0</td>\n",
              "      <td>0.042</td>\n",
              "      <td>3.58</td>\n",
              "      <td>3.98</td>\n",
              "    </tr>\n",
              "    <tr>\n",
              "      <th>31</th>\n",
              "      <td>Homens</td>\n",
              "      <td>9</td>\n",
              "      <td>87399.0</td>\n",
              "      <td>0.027</td>\n",
              "      <td>3.50</td>\n",
              "      <td>3.96</td>\n",
              "    </tr>\n",
              "    <tr>\n",
              "      <th>32</th>\n",
              "      <td>Homens</td>\n",
              "      <td>10</td>\n",
              "      <td>83670.5</td>\n",
              "      <td>0.004</td>\n",
              "      <td>3.36</td>\n",
              "      <td>3.97</td>\n",
              "    </tr>\n",
              "  </tbody>\n",
              "</table>\n",
              "</div>"
            ],
            "text/plain": [
              "     Group  Lag  U Statistic      P  Mean event  Mean control\n",
              "0    Todos    0      92891.5  0.009        6.41          7.12\n",
              "1    Todos    1      90898.0  0.003        6.39          7.12\n",
              "3    Todos    3      93395.5  0.013        6.39          7.12\n",
              "4    Todos    4      94405.0  0.021        6.48          7.11\n",
              "5    Todos    5      94327.5  0.021        6.50          7.11\n",
              "6    Todos    6      94060.0  0.019        6.49          7.12\n",
              "7    Todos    7      93930.0  0.018        6.41          7.13\n",
              "22  Homens    0      88587.5  0.038        3.64          4.07\n",
              "23  Homens    1      86798.5  0.017        3.50          3.96\n",
              "24  Homens    2      88580.0  0.040        3.52          3.93\n",
              "25  Homens    3      84384.5  0.005        3.44          3.98\n",
              "26  Homens    4      82626.0  0.002        3.35          3.95\n",
              "27  Homens    5      78779.5  0.000        3.19          3.96\n",
              "28  Homens    6      83316.5  0.003        3.44          3.99\n",
              "29  Homens    7      88377.0  0.042        3.58          3.98\n",
              "31  Homens    9      87399.0  0.027        3.50          3.96\n",
              "32  Homens   10      83670.5  0.004        3.36          3.97"
            ]
          },
          "metadata": {
            "tags": []
          },
          "execution_count": 41
        }
      ]
    },
    {
      "cell_type": "markdown",
      "metadata": {
        "id": "7_FHNPGsMCLA"
      },
      "source": [
        "####**Age**"
      ]
    },
    {
      "cell_type": "code",
      "metadata": {
        "id": "3CUBxAxLMDjV",
        "colab": {
          "base_uri": "https://localhost:8080/",
          "height": 483
        },
        "outputId": "4afb4920-7f4c-4677-b924-056067c18fce"
      },
      "source": [
        "get_mann_whitney_lag(df_humidity,'LHW','age')"
      ],
      "execution_count": null,
      "outputs": [
        {
          "output_type": "execute_result",
          "data": {
            "text/html": [
              "<div>\n",
              "<style scoped>\n",
              "    .dataframe tbody tr th:only-of-type {\n",
              "        vertical-align: middle;\n",
              "    }\n",
              "\n",
              "    .dataframe tbody tr th {\n",
              "        vertical-align: top;\n",
              "    }\n",
              "\n",
              "    .dataframe thead th {\n",
              "        text-align: right;\n",
              "    }\n",
              "</style>\n",
              "<table border=\"1\" class=\"dataframe\">\n",
              "  <thead>\n",
              "    <tr style=\"text-align: right;\">\n",
              "      <th></th>\n",
              "      <th>Group</th>\n",
              "      <th>Lag</th>\n",
              "      <th>U Statistic</th>\n",
              "      <th>P</th>\n",
              "      <th>Mean event</th>\n",
              "      <th>Mean control</th>\n",
              "    </tr>\n",
              "  </thead>\n",
              "  <tbody>\n",
              "    <tr>\n",
              "      <th>0</th>\n",
              "      <td>Todas idades</td>\n",
              "      <td>0</td>\n",
              "      <td>92891.5</td>\n",
              "      <td>0.009</td>\n",
              "      <td>6.41</td>\n",
              "      <td>7.12</td>\n",
              "    </tr>\n",
              "    <tr>\n",
              "      <th>1</th>\n",
              "      <td>Todas idades</td>\n",
              "      <td>1</td>\n",
              "      <td>90898.0</td>\n",
              "      <td>0.003</td>\n",
              "      <td>6.39</td>\n",
              "      <td>7.12</td>\n",
              "    </tr>\n",
              "    <tr>\n",
              "      <th>3</th>\n",
              "      <td>Todas idades</td>\n",
              "      <td>3</td>\n",
              "      <td>93395.5</td>\n",
              "      <td>0.013</td>\n",
              "      <td>6.39</td>\n",
              "      <td>7.12</td>\n",
              "    </tr>\n",
              "    <tr>\n",
              "      <th>4</th>\n",
              "      <td>Todas idades</td>\n",
              "      <td>4</td>\n",
              "      <td>94405.0</td>\n",
              "      <td>0.021</td>\n",
              "      <td>6.48</td>\n",
              "      <td>7.11</td>\n",
              "    </tr>\n",
              "    <tr>\n",
              "      <th>5</th>\n",
              "      <td>Todas idades</td>\n",
              "      <td>5</td>\n",
              "      <td>94327.5</td>\n",
              "      <td>0.021</td>\n",
              "      <td>6.50</td>\n",
              "      <td>7.11</td>\n",
              "    </tr>\n",
              "    <tr>\n",
              "      <th>6</th>\n",
              "      <td>Todas idades</td>\n",
              "      <td>6</td>\n",
              "      <td>94060.0</td>\n",
              "      <td>0.019</td>\n",
              "      <td>6.49</td>\n",
              "      <td>7.12</td>\n",
              "    </tr>\n",
              "    <tr>\n",
              "      <th>7</th>\n",
              "      <td>Todas idades</td>\n",
              "      <td>7</td>\n",
              "      <td>93930.0</td>\n",
              "      <td>0.018</td>\n",
              "      <td>6.41</td>\n",
              "      <td>7.13</td>\n",
              "    </tr>\n",
              "    <tr>\n",
              "      <th>23</th>\n",
              "      <td>Entre 40 e 65 anos</td>\n",
              "      <td>1</td>\n",
              "      <td>78254.5</td>\n",
              "      <td>0.009</td>\n",
              "      <td>2.68</td>\n",
              "      <td>3.15</td>\n",
              "    </tr>\n",
              "    <tr>\n",
              "      <th>25</th>\n",
              "      <td>Entre 40 e 65 anos</td>\n",
              "      <td>3</td>\n",
              "      <td>76843.0</td>\n",
              "      <td>0.004</td>\n",
              "      <td>2.61</td>\n",
              "      <td>3.15</td>\n",
              "    </tr>\n",
              "    <tr>\n",
              "      <th>26</th>\n",
              "      <td>Entre 40 e 65 anos</td>\n",
              "      <td>4</td>\n",
              "      <td>80990.5</td>\n",
              "      <td>0.040</td>\n",
              "      <td>2.75</td>\n",
              "      <td>3.12</td>\n",
              "    </tr>\n",
              "    <tr>\n",
              "      <th>38</th>\n",
              "      <td>Acima de 65 anos</td>\n",
              "      <td>5</td>\n",
              "      <td>87968.5</td>\n",
              "      <td>0.035</td>\n",
              "      <td>3.20</td>\n",
              "      <td>3.63</td>\n",
              "    </tr>\n",
              "    <tr>\n",
              "      <th>39</th>\n",
              "      <td>Acima de 65 anos</td>\n",
              "      <td>6</td>\n",
              "      <td>86684.0</td>\n",
              "      <td>0.019</td>\n",
              "      <td>3.18</td>\n",
              "      <td>3.65</td>\n",
              "    </tr>\n",
              "    <tr>\n",
              "      <th>40</th>\n",
              "      <td>Acima de 65 anos</td>\n",
              "      <td>7</td>\n",
              "      <td>87723.5</td>\n",
              "      <td>0.033</td>\n",
              "      <td>3.23</td>\n",
              "      <td>3.66</td>\n",
              "    </tr>\n",
              "    <tr>\n",
              "      <th>43</th>\n",
              "      <td>Acima de 65 anos</td>\n",
              "      <td>10</td>\n",
              "      <td>86582.0</td>\n",
              "      <td>0.020</td>\n",
              "      <td>3.25</td>\n",
              "      <td>3.65</td>\n",
              "    </tr>\n",
              "  </tbody>\n",
              "</table>\n",
              "</div>"
            ],
            "text/plain": [
              "                 Group  Lag  U Statistic      P  Mean event  Mean control\n",
              "0         Todas idades    0      92891.5  0.009        6.41          7.12\n",
              "1         Todas idades    1      90898.0  0.003        6.39          7.12\n",
              "3         Todas idades    3      93395.5  0.013        6.39          7.12\n",
              "4         Todas idades    4      94405.0  0.021        6.48          7.11\n",
              "5         Todas idades    5      94327.5  0.021        6.50          7.11\n",
              "6         Todas idades    6      94060.0  0.019        6.49          7.12\n",
              "7         Todas idades    7      93930.0  0.018        6.41          7.13\n",
              "23  Entre 40 e 65 anos    1      78254.5  0.009        2.68          3.15\n",
              "25  Entre 40 e 65 anos    3      76843.0  0.004        2.61          3.15\n",
              "26  Entre 40 e 65 anos    4      80990.5  0.040        2.75          3.12\n",
              "38    Acima de 65 anos    5      87968.5  0.035        3.20          3.63\n",
              "39    Acima de 65 anos    6      86684.0  0.019        3.18          3.65\n",
              "40    Acima de 65 anos    7      87723.5  0.033        3.23          3.66\n",
              "43    Acima de 65 anos   10      86582.0  0.020        3.25          3.65"
            ]
          },
          "metadata": {
            "tags": []
          },
          "execution_count": 43
        }
      ]
    },
    {
      "cell_type": "markdown",
      "metadata": {
        "id": "yInx-4C0MGjJ"
      },
      "source": [
        "####**Age and sex**"
      ]
    },
    {
      "cell_type": "code",
      "metadata": {
        "id": "wzxb0Z5RMI56",
        "colab": {
          "base_uri": "https://localhost:8080/",
          "height": 576
        },
        "outputId": "3e2de90e-1d1d-43c4-b9d0-a0afcad3fe96"
      },
      "source": [
        "get_mann_whitney_lag(df_humidity,'LHW', 'age and sex')"
      ],
      "execution_count": null,
      "outputs": [
        {
          "output_type": "execute_result",
          "data": {
            "text/html": [
              "<div>\n",
              "<style scoped>\n",
              "    .dataframe tbody tr th:only-of-type {\n",
              "        vertical-align: middle;\n",
              "    }\n",
              "\n",
              "    .dataframe tbody tr th {\n",
              "        vertical-align: top;\n",
              "    }\n",
              "\n",
              "    .dataframe thead th {\n",
              "        text-align: right;\n",
              "    }\n",
              "</style>\n",
              "<table border=\"1\" class=\"dataframe\">\n",
              "  <thead>\n",
              "    <tr style=\"text-align: right;\">\n",
              "      <th></th>\n",
              "      <th>Group</th>\n",
              "      <th>Lag</th>\n",
              "      <th>U Statistic</th>\n",
              "      <th>P</th>\n",
              "      <th>Mean event</th>\n",
              "      <th>Mean control</th>\n",
              "    </tr>\n",
              "  </thead>\n",
              "  <tbody>\n",
              "    <tr>\n",
              "      <th>0</th>\n",
              "      <td>Todas idades</td>\n",
              "      <td>0</td>\n",
              "      <td>92891.5</td>\n",
              "      <td>0.009</td>\n",
              "      <td>6.41</td>\n",
              "      <td>7.12</td>\n",
              "    </tr>\n",
              "    <tr>\n",
              "      <th>1</th>\n",
              "      <td>Todas idades</td>\n",
              "      <td>1</td>\n",
              "      <td>90898.0</td>\n",
              "      <td>0.003</td>\n",
              "      <td>6.39</td>\n",
              "      <td>7.12</td>\n",
              "    </tr>\n",
              "    <tr>\n",
              "      <th>3</th>\n",
              "      <td>Todas idades</td>\n",
              "      <td>3</td>\n",
              "      <td>93395.5</td>\n",
              "      <td>0.013</td>\n",
              "      <td>6.39</td>\n",
              "      <td>7.12</td>\n",
              "    </tr>\n",
              "    <tr>\n",
              "      <th>4</th>\n",
              "      <td>Todas idades</td>\n",
              "      <td>4</td>\n",
              "      <td>94405.0</td>\n",
              "      <td>0.021</td>\n",
              "      <td>6.48</td>\n",
              "      <td>7.11</td>\n",
              "    </tr>\n",
              "    <tr>\n",
              "      <th>5</th>\n",
              "      <td>Todas idades</td>\n",
              "      <td>5</td>\n",
              "      <td>94327.5</td>\n",
              "      <td>0.021</td>\n",
              "      <td>6.50</td>\n",
              "      <td>7.11</td>\n",
              "    </tr>\n",
              "    <tr>\n",
              "      <th>6</th>\n",
              "      <td>Todas idades</td>\n",
              "      <td>6</td>\n",
              "      <td>94060.0</td>\n",
              "      <td>0.019</td>\n",
              "      <td>6.49</td>\n",
              "      <td>7.12</td>\n",
              "    </tr>\n",
              "    <tr>\n",
              "      <th>7</th>\n",
              "      <td>Todas idades</td>\n",
              "      <td>7</td>\n",
              "      <td>93930.0</td>\n",
              "      <td>0.018</td>\n",
              "      <td>6.41</td>\n",
              "      <td>7.13</td>\n",
              "    </tr>\n",
              "    <tr>\n",
              "      <th>11</th>\n",
              "      <td>Mulheres entre 20 e 65 anos</td>\n",
              "      <td>0</td>\n",
              "      <td>50493.0</td>\n",
              "      <td>0.035</td>\n",
              "      <td>1.70</td>\n",
              "      <td>1.88</td>\n",
              "    </tr>\n",
              "    <tr>\n",
              "      <th>12</th>\n",
              "      <td>Mulheres entre 20 e 65 anos</td>\n",
              "      <td>1</td>\n",
              "      <td>50016.0</td>\n",
              "      <td>0.030</td>\n",
              "      <td>1.13</td>\n",
              "      <td>1.43</td>\n",
              "    </tr>\n",
              "    <tr>\n",
              "      <th>47</th>\n",
              "      <td>Homens acima de 65 anos</td>\n",
              "      <td>3</td>\n",
              "      <td>62504.0</td>\n",
              "      <td>0.037</td>\n",
              "      <td>1.54</td>\n",
              "      <td>1.88</td>\n",
              "    </tr>\n",
              "    <tr>\n",
              "      <th>48</th>\n",
              "      <td>Homens acima de 65 anos</td>\n",
              "      <td>4</td>\n",
              "      <td>60822.0</td>\n",
              "      <td>0.013</td>\n",
              "      <td>1.48</td>\n",
              "      <td>1.88</td>\n",
              "    </tr>\n",
              "    <tr>\n",
              "      <th>49</th>\n",
              "      <td>Homens acima de 65 anos</td>\n",
              "      <td>5</td>\n",
              "      <td>56729.0</td>\n",
              "      <td>0.001</td>\n",
              "      <td>1.37</td>\n",
              "      <td>1.90</td>\n",
              "    </tr>\n",
              "    <tr>\n",
              "      <th>50</th>\n",
              "      <td>Homens acima de 65 anos</td>\n",
              "      <td>6</td>\n",
              "      <td>55769.0</td>\n",
              "      <td>0.000</td>\n",
              "      <td>1.39</td>\n",
              "      <td>1.93</td>\n",
              "    </tr>\n",
              "    <tr>\n",
              "      <th>51</th>\n",
              "      <td>Homens acima de 65 anos</td>\n",
              "      <td>7</td>\n",
              "      <td>62356.0</td>\n",
              "      <td>0.038</td>\n",
              "      <td>1.54</td>\n",
              "      <td>1.89</td>\n",
              "    </tr>\n",
              "    <tr>\n",
              "      <th>52</th>\n",
              "      <td>Homens acima de 65 anos</td>\n",
              "      <td>8</td>\n",
              "      <td>61189.0</td>\n",
              "      <td>0.019</td>\n",
              "      <td>1.53</td>\n",
              "      <td>1.88</td>\n",
              "    </tr>\n",
              "    <tr>\n",
              "      <th>53</th>\n",
              "      <td>Homens acima de 65 anos</td>\n",
              "      <td>9</td>\n",
              "      <td>60824.5</td>\n",
              "      <td>0.015</td>\n",
              "      <td>1.54</td>\n",
              "      <td>1.85</td>\n",
              "    </tr>\n",
              "    <tr>\n",
              "      <th>54</th>\n",
              "      <td>Homens acima de 65 anos</td>\n",
              "      <td>10</td>\n",
              "      <td>59365.0</td>\n",
              "      <td>0.005</td>\n",
              "      <td>1.49</td>\n",
              "      <td>1.89</td>\n",
              "    </tr>\n",
              "  </tbody>\n",
              "</table>\n",
              "</div>"
            ],
            "text/plain": [
              "                          Group  Lag  ...  Mean event  Mean control\n",
              "0                  Todas idades    0  ...        6.41          7.12\n",
              "1                  Todas idades    1  ...        6.39          7.12\n",
              "3                  Todas idades    3  ...        6.39          7.12\n",
              "4                  Todas idades    4  ...        6.48          7.11\n",
              "5                  Todas idades    5  ...        6.50          7.11\n",
              "6                  Todas idades    6  ...        6.49          7.12\n",
              "7                  Todas idades    7  ...        6.41          7.13\n",
              "11  Mulheres entre 20 e 65 anos    0  ...        1.70          1.88\n",
              "12  Mulheres entre 20 e 65 anos    1  ...        1.13          1.43\n",
              "47      Homens acima de 65 anos    3  ...        1.54          1.88\n",
              "48      Homens acima de 65 anos    4  ...        1.48          1.88\n",
              "49      Homens acima de 65 anos    5  ...        1.37          1.90\n",
              "50      Homens acima de 65 anos    6  ...        1.39          1.93\n",
              "51      Homens acima de 65 anos    7  ...        1.54          1.89\n",
              "52      Homens acima de 65 anos    8  ...        1.53          1.88\n",
              "53      Homens acima de 65 anos    9  ...        1.54          1.85\n",
              "54      Homens acima de 65 anos   10  ...        1.49          1.89\n",
              "\n",
              "[17 rows x 6 columns]"
            ]
          },
          "metadata": {
            "tags": []
          },
          "execution_count": 44
        }
      ]
    },
    {
      "cell_type": "markdown",
      "metadata": {
        "id": "BVbI7yFC3owy"
      },
      "source": [
        "###**High humidity waves**"
      ]
    },
    {
      "cell_type": "markdown",
      "metadata": {
        "id": "M2CeL3Lp3owz"
      },
      "source": [
        "####**Sex**"
      ]
    },
    {
      "cell_type": "code",
      "metadata": {
        "colab": {
          "base_uri": "https://localhost:8080/",
          "height": 49
        },
        "id": "UEWeons93owz",
        "outputId": "3a38ae36-caf8-4ec3-e4b7-7936e2c59f2f"
      },
      "source": [
        "get_mann_whitney_lag(df_humidity,'HHW', 'sex')"
      ],
      "execution_count": null,
      "outputs": [
        {
          "output_type": "execute_result",
          "data": {
            "text/html": [
              "<div>\n",
              "<style scoped>\n",
              "    .dataframe tbody tr th:only-of-type {\n",
              "        vertical-align: middle;\n",
              "    }\n",
              "\n",
              "    .dataframe tbody tr th {\n",
              "        vertical-align: top;\n",
              "    }\n",
              "\n",
              "    .dataframe thead th {\n",
              "        text-align: right;\n",
              "    }\n",
              "</style>\n",
              "<table border=\"1\" class=\"dataframe\">\n",
              "  <thead>\n",
              "    <tr style=\"text-align: right;\">\n",
              "      <th></th>\n",
              "      <th>Group</th>\n",
              "      <th>Lag</th>\n",
              "      <th>U Statistic</th>\n",
              "      <th>P</th>\n",
              "      <th>Mean event</th>\n",
              "      <th>Mean control</th>\n",
              "    </tr>\n",
              "  </thead>\n",
              "  <tbody>\n",
              "  </tbody>\n",
              "</table>\n",
              "</div>"
            ],
            "text/plain": [
              "Empty DataFrame\n",
              "Columns: [Group, Lag, U Statistic, P, Mean event, Mean control]\n",
              "Index: []"
            ]
          },
          "metadata": {
            "tags": []
          },
          "execution_count": 45
        }
      ]
    },
    {
      "cell_type": "markdown",
      "metadata": {
        "id": "S0FDzC4j3ow0"
      },
      "source": [
        "####**Age**"
      ]
    },
    {
      "cell_type": "code",
      "metadata": {
        "colab": {
          "base_uri": "https://localhost:8080/",
          "height": 204
        },
        "id": "5ExmY4bF3ow0",
        "outputId": "38ac66b5-6da2-4ad4-ea53-3736c85f4aff"
      },
      "source": [
        "get_mann_whitney_lag(df_humidity,'HHW','age')"
      ],
      "execution_count": null,
      "outputs": [
        {
          "output_type": "execute_result",
          "data": {
            "text/html": [
              "<div>\n",
              "<style scoped>\n",
              "    .dataframe tbody tr th:only-of-type {\n",
              "        vertical-align: middle;\n",
              "    }\n",
              "\n",
              "    .dataframe tbody tr th {\n",
              "        vertical-align: top;\n",
              "    }\n",
              "\n",
              "    .dataframe thead th {\n",
              "        text-align: right;\n",
              "    }\n",
              "</style>\n",
              "<table border=\"1\" class=\"dataframe\">\n",
              "  <thead>\n",
              "    <tr style=\"text-align: right;\">\n",
              "      <th></th>\n",
              "      <th>Group</th>\n",
              "      <th>Lag</th>\n",
              "      <th>U Statistic</th>\n",
              "      <th>P</th>\n",
              "      <th>Mean event</th>\n",
              "      <th>Mean control</th>\n",
              "    </tr>\n",
              "  </thead>\n",
              "  <tbody>\n",
              "    <tr>\n",
              "      <th>22</th>\n",
              "      <td>Entre 40 e 65 anos</td>\n",
              "      <td>0</td>\n",
              "      <td>2081.5</td>\n",
              "      <td>0.043</td>\n",
              "      <td>1.8</td>\n",
              "      <td>3.28</td>\n",
              "    </tr>\n",
              "    <tr>\n",
              "      <th>34</th>\n",
              "      <td>Acima de 65 anos</td>\n",
              "      <td>1</td>\n",
              "      <td>7170.0</td>\n",
              "      <td>0.012</td>\n",
              "      <td>5.8</td>\n",
              "      <td>3.63</td>\n",
              "    </tr>\n",
              "    <tr>\n",
              "      <th>40</th>\n",
              "      <td>Acima de 65 anos</td>\n",
              "      <td>7</td>\n",
              "      <td>7089.5</td>\n",
              "      <td>0.014</td>\n",
              "      <td>6.4</td>\n",
              "      <td>3.62</td>\n",
              "    </tr>\n",
              "    <tr>\n",
              "      <th>45</th>\n",
              "      <td>Acima de 75 anos</td>\n",
              "      <td>1</td>\n",
              "      <td>5869.0</td>\n",
              "      <td>0.011</td>\n",
              "      <td>3.2</td>\n",
              "      <td>1.61</td>\n",
              "    </tr>\n",
              "    <tr>\n",
              "      <th>46</th>\n",
              "      <td>Acima de 75 anos</td>\n",
              "      <td>2</td>\n",
              "      <td>5468.5</td>\n",
              "      <td>0.037</td>\n",
              "      <td>3.0</td>\n",
              "      <td>1.60</td>\n",
              "    </tr>\n",
              "  </tbody>\n",
              "</table>\n",
              "</div>"
            ],
            "text/plain": [
              "                 Group  Lag  U Statistic      P  Mean event  Mean control\n",
              "22  Entre 40 e 65 anos    0       2081.5  0.043         1.8          3.28\n",
              "34    Acima de 65 anos    1       7170.0  0.012         5.8          3.63\n",
              "40    Acima de 65 anos    7       7089.5  0.014         6.4          3.62\n",
              "45    Acima de 75 anos    1       5869.0  0.011         3.2          1.61\n",
              "46    Acima de 75 anos    2       5468.5  0.037         3.0          1.60"
            ]
          },
          "metadata": {
            "tags": []
          },
          "execution_count": 46
        }
      ]
    },
    {
      "cell_type": "markdown",
      "metadata": {
        "id": "MkHY2ULX3ow1"
      },
      "source": [
        "####**Age and sex**"
      ]
    },
    {
      "cell_type": "code",
      "metadata": {
        "colab": {
          "base_uri": "https://localhost:8080/",
          "height": 142
        },
        "id": "2T7dkamj3ow1",
        "outputId": "c98fce73-f581-41bd-ae72-46395c856600"
      },
      "source": [
        "get_mann_whitney_lag(df_humidity,'HHW', 'age and sex')"
      ],
      "execution_count": null,
      "outputs": [
        {
          "output_type": "execute_result",
          "data": {
            "text/html": [
              "<div>\n",
              "<style scoped>\n",
              "    .dataframe tbody tr th:only-of-type {\n",
              "        vertical-align: middle;\n",
              "    }\n",
              "\n",
              "    .dataframe tbody tr th {\n",
              "        vertical-align: top;\n",
              "    }\n",
              "\n",
              "    .dataframe thead th {\n",
              "        text-align: right;\n",
              "    }\n",
              "</style>\n",
              "<table border=\"1\" class=\"dataframe\">\n",
              "  <thead>\n",
              "    <tr style=\"text-align: right;\">\n",
              "      <th></th>\n",
              "      <th>Group</th>\n",
              "      <th>Lag</th>\n",
              "      <th>U Statistic</th>\n",
              "      <th>P</th>\n",
              "      <th>Mean event</th>\n",
              "      <th>Mean control</th>\n",
              "    </tr>\n",
              "  </thead>\n",
              "  <tbody>\n",
              "    <tr>\n",
              "      <th>33</th>\n",
              "      <td>Mulheres acima de 65 anos</td>\n",
              "      <td>0</td>\n",
              "      <td>4836.5</td>\n",
              "      <td>0.023</td>\n",
              "      <td>3.5</td>\n",
              "      <td>2.15</td>\n",
              "    </tr>\n",
              "    <tr>\n",
              "      <th>42</th>\n",
              "      <td>Mulheres acima de 65 anos</td>\n",
              "      <td>9</td>\n",
              "      <td>4942.5</td>\n",
              "      <td>0.017</td>\n",
              "      <td>4.0</td>\n",
              "      <td>1.78</td>\n",
              "    </tr>\n",
              "    <tr>\n",
              "      <th>51</th>\n",
              "      <td>Homens acima de 65 anos</td>\n",
              "      <td>7</td>\n",
              "      <td>5614.0</td>\n",
              "      <td>0.049</td>\n",
              "      <td>3.2</td>\n",
              "      <td>1.86</td>\n",
              "    </tr>\n",
              "  </tbody>\n",
              "</table>\n",
              "</div>"
            ],
            "text/plain": [
              "                        Group  Lag  ...  Mean event  Mean control\n",
              "33  Mulheres acima de 65 anos    0  ...         3.5          2.15\n",
              "42  Mulheres acima de 65 anos    9  ...         4.0          1.78\n",
              "51    Homens acima de 65 anos    7  ...         3.2          1.86\n",
              "\n",
              "[3 rows x 6 columns]"
            ]
          },
          "metadata": {
            "tags": []
          },
          "execution_count": 47
        }
      ]
    },
    {
      "cell_type": "markdown",
      "metadata": {
        "id": "I6VCgRY7NBdL"
      },
      "source": [
        "###**Extreme humidity variation**"
      ]
    },
    {
      "cell_type": "markdown",
      "metadata": {
        "id": "hNWAKyuBNBdL"
      },
      "source": [
        "####**Sex**"
      ]
    },
    {
      "cell_type": "code",
      "metadata": {
        "id": "wRN_a_IJNBdM",
        "colab": {
          "base_uri": "https://localhost:8080/",
          "height": 235
        },
        "outputId": "84879224-f742-404a-830f-f6784a53b6e5"
      },
      "source": [
        "get_mann_whitney_lag(df_humidity,'above_pct_range','sex')"
      ],
      "execution_count": null,
      "outputs": [
        {
          "output_type": "execute_result",
          "data": {
            "text/html": [
              "<div>\n",
              "<style scoped>\n",
              "    .dataframe tbody tr th:only-of-type {\n",
              "        vertical-align: middle;\n",
              "    }\n",
              "\n",
              "    .dataframe tbody tr th {\n",
              "        vertical-align: top;\n",
              "    }\n",
              "\n",
              "    .dataframe thead th {\n",
              "        text-align: right;\n",
              "    }\n",
              "</style>\n",
              "<table border=\"1\" class=\"dataframe\">\n",
              "  <thead>\n",
              "    <tr style=\"text-align: right;\">\n",
              "      <th></th>\n",
              "      <th>Group</th>\n",
              "      <th>Lag</th>\n",
              "      <th>U Statistic</th>\n",
              "      <th>P</th>\n",
              "      <th>Mean event</th>\n",
              "      <th>Mean control</th>\n",
              "    </tr>\n",
              "  </thead>\n",
              "  <tbody>\n",
              "    <tr>\n",
              "      <th>4</th>\n",
              "      <td>Todos</td>\n",
              "      <td>4</td>\n",
              "      <td>152641.0</td>\n",
              "      <td>0.035</td>\n",
              "      <td>6.66</td>\n",
              "      <td>7.12</td>\n",
              "    </tr>\n",
              "    <tr>\n",
              "      <th>10</th>\n",
              "      <td>Todos</td>\n",
              "      <td>10</td>\n",
              "      <td>150953.0</td>\n",
              "      <td>0.023</td>\n",
              "      <td>6.66</td>\n",
              "      <td>7.13</td>\n",
              "    </tr>\n",
              "    <tr>\n",
              "      <th>20</th>\n",
              "      <td>Mulheres</td>\n",
              "      <td>9</td>\n",
              "      <td>130488.5</td>\n",
              "      <td>0.016</td>\n",
              "      <td>2.83</td>\n",
              "      <td>3.20</td>\n",
              "    </tr>\n",
              "    <tr>\n",
              "      <th>26</th>\n",
              "      <td>Homens</td>\n",
              "      <td>4</td>\n",
              "      <td>141657.0</td>\n",
              "      <td>0.016</td>\n",
              "      <td>3.55</td>\n",
              "      <td>3.96</td>\n",
              "    </tr>\n",
              "    <tr>\n",
              "      <th>28</th>\n",
              "      <td>Homens</td>\n",
              "      <td>6</td>\n",
              "      <td>142916.0</td>\n",
              "      <td>0.029</td>\n",
              "      <td>3.61</td>\n",
              "      <td>3.99</td>\n",
              "    </tr>\n",
              "    <tr>\n",
              "      <th>32</th>\n",
              "      <td>Homens</td>\n",
              "      <td>10</td>\n",
              "      <td>142755.0</td>\n",
              "      <td>0.030</td>\n",
              "      <td>3.61</td>\n",
              "      <td>3.96</td>\n",
              "    </tr>\n",
              "  </tbody>\n",
              "</table>\n",
              "</div>"
            ],
            "text/plain": [
              "       Group  Lag  U Statistic      P  Mean event  Mean control\n",
              "4      Todos    4     152641.0  0.035        6.66          7.12\n",
              "10     Todos   10     150953.0  0.023        6.66          7.13\n",
              "20  Mulheres    9     130488.5  0.016        2.83          3.20\n",
              "26    Homens    4     141657.0  0.016        3.55          3.96\n",
              "28    Homens    6     142916.0  0.029        3.61          3.99\n",
              "32    Homens   10     142755.0  0.030        3.61          3.96"
            ]
          },
          "metadata": {
            "tags": []
          },
          "execution_count": 48
        }
      ]
    },
    {
      "cell_type": "markdown",
      "metadata": {
        "id": "hwIktSzdNBdM"
      },
      "source": [
        "####**Age**"
      ]
    },
    {
      "cell_type": "code",
      "metadata": {
        "id": "5GGxtm_cNBdM",
        "colab": {
          "base_uri": "https://localhost:8080/",
          "height": 235
        },
        "outputId": "817ab643-dd81-412d-cdbe-2cf5a9d3d675"
      },
      "source": [
        "get_mann_whitney_lag(df_humidity, 'above_pct_range','age')"
      ],
      "execution_count": null,
      "outputs": [
        {
          "output_type": "execute_result",
          "data": {
            "text/html": [
              "<div>\n",
              "<style scoped>\n",
              "    .dataframe tbody tr th:only-of-type {\n",
              "        vertical-align: middle;\n",
              "    }\n",
              "\n",
              "    .dataframe tbody tr th {\n",
              "        vertical-align: top;\n",
              "    }\n",
              "\n",
              "    .dataframe thead th {\n",
              "        text-align: right;\n",
              "    }\n",
              "</style>\n",
              "<table border=\"1\" class=\"dataframe\">\n",
              "  <thead>\n",
              "    <tr style=\"text-align: right;\">\n",
              "      <th></th>\n",
              "      <th>Group</th>\n",
              "      <th>Lag</th>\n",
              "      <th>U Statistic</th>\n",
              "      <th>P</th>\n",
              "      <th>Mean event</th>\n",
              "      <th>Mean control</th>\n",
              "    </tr>\n",
              "  </thead>\n",
              "  <tbody>\n",
              "    <tr>\n",
              "      <th>4</th>\n",
              "      <td>Todas idades</td>\n",
              "      <td>4</td>\n",
              "      <td>152641.0</td>\n",
              "      <td>0.035</td>\n",
              "      <td>6.66</td>\n",
              "      <td>7.12</td>\n",
              "    </tr>\n",
              "    <tr>\n",
              "      <th>10</th>\n",
              "      <td>Todas idades</td>\n",
              "      <td>10</td>\n",
              "      <td>150953.0</td>\n",
              "      <td>0.023</td>\n",
              "      <td>6.66</td>\n",
              "      <td>7.13</td>\n",
              "    </tr>\n",
              "    <tr>\n",
              "      <th>28</th>\n",
              "      <td>Entre 40 e 65 anos</td>\n",
              "      <td>6</td>\n",
              "      <td>132566.0</td>\n",
              "      <td>0.019</td>\n",
              "      <td>2.81</td>\n",
              "      <td>3.14</td>\n",
              "    </tr>\n",
              "    <tr>\n",
              "      <th>41</th>\n",
              "      <td>Acima de 65 anos</td>\n",
              "      <td>8</td>\n",
              "      <td>138824.5</td>\n",
              "      <td>0.018</td>\n",
              "      <td>3.33</td>\n",
              "      <td>3.64</td>\n",
              "    </tr>\n",
              "    <tr>\n",
              "      <th>43</th>\n",
              "      <td>Acima de 65 anos</td>\n",
              "      <td>10</td>\n",
              "      <td>135713.0</td>\n",
              "      <td>0.005</td>\n",
              "      <td>3.27</td>\n",
              "      <td>3.67</td>\n",
              "    </tr>\n",
              "    <tr>\n",
              "      <th>52</th>\n",
              "      <td>Acima de 75 anos</td>\n",
              "      <td>8</td>\n",
              "      <td>91425.0</td>\n",
              "      <td>0.024</td>\n",
              "      <td>1.41</td>\n",
              "      <td>1.62</td>\n",
              "    </tr>\n",
              "  </tbody>\n",
              "</table>\n",
              "</div>"
            ],
            "text/plain": [
              "                 Group  Lag  U Statistic      P  Mean event  Mean control\n",
              "4         Todas idades    4     152641.0  0.035        6.66          7.12\n",
              "10        Todas idades   10     150953.0  0.023        6.66          7.13\n",
              "28  Entre 40 e 65 anos    6     132566.0  0.019        2.81          3.14\n",
              "41    Acima de 65 anos    8     138824.5  0.018        3.33          3.64\n",
              "43    Acima de 65 anos   10     135713.0  0.005        3.27          3.67\n",
              "52    Acima de 75 anos    8      91425.0  0.024        1.41          1.62"
            ]
          },
          "metadata": {
            "tags": []
          },
          "execution_count": 49
        }
      ]
    },
    {
      "cell_type": "markdown",
      "metadata": {
        "id": "gEu82R1CNBdN"
      },
      "source": [
        "####**Age and sex**"
      ]
    },
    {
      "cell_type": "code",
      "metadata": {
        "id": "JJ0bh2vvNBdN",
        "colab": {
          "base_uri": "https://localhost:8080/",
          "height": 235
        },
        "outputId": "9442166d-069f-40a8-b4ef-8c5350d65225"
      },
      "source": [
        "get_mann_whitney_lag(df_humidity,'above_pct_range', 'age and sex')"
      ],
      "execution_count": null,
      "outputs": [
        {
          "output_type": "execute_result",
          "data": {
            "text/html": [
              "<div>\n",
              "<style scoped>\n",
              "    .dataframe tbody tr th:only-of-type {\n",
              "        vertical-align: middle;\n",
              "    }\n",
              "\n",
              "    .dataframe tbody tr th {\n",
              "        vertical-align: top;\n",
              "    }\n",
              "\n",
              "    .dataframe thead th {\n",
              "        text-align: right;\n",
              "    }\n",
              "</style>\n",
              "<table border=\"1\" class=\"dataframe\">\n",
              "  <thead>\n",
              "    <tr style=\"text-align: right;\">\n",
              "      <th></th>\n",
              "      <th>Group</th>\n",
              "      <th>Lag</th>\n",
              "      <th>U Statistic</th>\n",
              "      <th>P</th>\n",
              "      <th>Mean event</th>\n",
              "      <th>Mean control</th>\n",
              "    </tr>\n",
              "  </thead>\n",
              "  <tbody>\n",
              "    <tr>\n",
              "      <th>4</th>\n",
              "      <td>Todas idades</td>\n",
              "      <td>4</td>\n",
              "      <td>152641.0</td>\n",
              "      <td>0.035</td>\n",
              "      <td>6.66</td>\n",
              "      <td>7.12</td>\n",
              "    </tr>\n",
              "    <tr>\n",
              "      <th>10</th>\n",
              "      <td>Todas idades</td>\n",
              "      <td>10</td>\n",
              "      <td>150953.0</td>\n",
              "      <td>0.023</td>\n",
              "      <td>6.66</td>\n",
              "      <td>7.13</td>\n",
              "    </tr>\n",
              "    <tr>\n",
              "      <th>20</th>\n",
              "      <td>Mulheres entre 20 e 65 anos</td>\n",
              "      <td>9</td>\n",
              "      <td>77891.0</td>\n",
              "      <td>0.033</td>\n",
              "      <td>1.20</td>\n",
              "      <td>1.42</td>\n",
              "    </tr>\n",
              "    <tr>\n",
              "      <th>27</th>\n",
              "      <td>Homens entre 20 e 65 anos</td>\n",
              "      <td>5</td>\n",
              "      <td>109532.0</td>\n",
              "      <td>0.007</td>\n",
              "      <td>1.79</td>\n",
              "      <td>2.10</td>\n",
              "    </tr>\n",
              "    <tr>\n",
              "      <th>52</th>\n",
              "      <td>Homens acima de 65 anos</td>\n",
              "      <td>8</td>\n",
              "      <td>104564.0</td>\n",
              "      <td>0.026</td>\n",
              "      <td>1.64</td>\n",
              "      <td>1.88</td>\n",
              "    </tr>\n",
              "    <tr>\n",
              "      <th>54</th>\n",
              "      <td>Homens acima de 65 anos</td>\n",
              "      <td>10</td>\n",
              "      <td>100827.5</td>\n",
              "      <td>0.003</td>\n",
              "      <td>1.55</td>\n",
              "      <td>1.90</td>\n",
              "    </tr>\n",
              "  </tbody>\n",
              "</table>\n",
              "</div>"
            ],
            "text/plain": [
              "                          Group  Lag  ...  Mean event  Mean control\n",
              "4                  Todas idades    4  ...        6.66          7.12\n",
              "10                 Todas idades   10  ...        6.66          7.13\n",
              "20  Mulheres entre 20 e 65 anos    9  ...        1.20          1.42\n",
              "27    Homens entre 20 e 65 anos    5  ...        1.79          2.10\n",
              "52      Homens acima de 65 anos    8  ...        1.64          1.88\n",
              "54      Homens acima de 65 anos   10  ...        1.55          1.90\n",
              "\n",
              "[6 rows x 6 columns]"
            ]
          },
          "metadata": {
            "tags": []
          },
          "execution_count": 50
        }
      ]
    },
    {
      "cell_type": "markdown",
      "metadata": {
        "id": "-2rerOBZNdZb"
      },
      "source": [
        "###**Extreme humidity difference between days**"
      ]
    },
    {
      "cell_type": "markdown",
      "metadata": {
        "id": "W322lkrqNdZc"
      },
      "source": [
        "####**Sex**"
      ]
    },
    {
      "cell_type": "code",
      "metadata": {
        "id": "pEdpH8CkNdZc",
        "colab": {
          "base_uri": "https://localhost:8080/",
          "height": 80
        },
        "outputId": "49d29213-21dc-49aa-e3e8-ec4228122126"
      },
      "source": [
        "get_mann_whitney_lag(df_humidity,'above_pct_dif','sex')"
      ],
      "execution_count": null,
      "outputs": [
        {
          "output_type": "execute_result",
          "data": {
            "text/html": [
              "<div>\n",
              "<style scoped>\n",
              "    .dataframe tbody tr th:only-of-type {\n",
              "        vertical-align: middle;\n",
              "    }\n",
              "\n",
              "    .dataframe tbody tr th {\n",
              "        vertical-align: top;\n",
              "    }\n",
              "\n",
              "    .dataframe thead th {\n",
              "        text-align: right;\n",
              "    }\n",
              "</style>\n",
              "<table border=\"1\" class=\"dataframe\">\n",
              "  <thead>\n",
              "    <tr style=\"text-align: right;\">\n",
              "      <th></th>\n",
              "      <th>Group</th>\n",
              "      <th>Lag</th>\n",
              "      <th>U Statistic</th>\n",
              "      <th>P</th>\n",
              "      <th>Mean event</th>\n",
              "      <th>Mean control</th>\n",
              "    </tr>\n",
              "  </thead>\n",
              "  <tbody>\n",
              "    <tr>\n",
              "      <th>27</th>\n",
              "      <td>Homens</td>\n",
              "      <td>5</td>\n",
              "      <td>10729.5</td>\n",
              "      <td>0.047</td>\n",
              "      <td>2.82</td>\n",
              "      <td>3.92</td>\n",
              "    </tr>\n",
              "  </tbody>\n",
              "</table>\n",
              "</div>"
            ],
            "text/plain": [
              "     Group  Lag  U Statistic      P  Mean event  Mean control\n",
              "27  Homens    5      10729.5  0.047        2.82          3.92"
            ]
          },
          "metadata": {
            "tags": []
          },
          "execution_count": 51
        }
      ]
    },
    {
      "cell_type": "markdown",
      "metadata": {
        "id": "mX2g2xdvNdZd"
      },
      "source": [
        "####**Age**"
      ]
    },
    {
      "cell_type": "code",
      "metadata": {
        "id": "aoQxbt_XNdZd",
        "colab": {
          "base_uri": "https://localhost:8080/",
          "height": 80
        },
        "outputId": "749f4e7a-7b3b-464a-9ca9-e07cf72c04b8"
      },
      "source": [
        "get_mann_whitney_lag(df_humidity,'above_pct_dif','age')"
      ],
      "execution_count": null,
      "outputs": [
        {
          "output_type": "execute_result",
          "data": {
            "text/html": [
              "<div>\n",
              "<style scoped>\n",
              "    .dataframe tbody tr th:only-of-type {\n",
              "        vertical-align: middle;\n",
              "    }\n",
              "\n",
              "    .dataframe tbody tr th {\n",
              "        vertical-align: top;\n",
              "    }\n",
              "\n",
              "    .dataframe thead th {\n",
              "        text-align: right;\n",
              "    }\n",
              "</style>\n",
              "<table border=\"1\" class=\"dataframe\">\n",
              "  <thead>\n",
              "    <tr style=\"text-align: right;\">\n",
              "      <th></th>\n",
              "      <th>Group</th>\n",
              "      <th>Lag</th>\n",
              "      <th>U Statistic</th>\n",
              "      <th>P</th>\n",
              "      <th>Mean event</th>\n",
              "      <th>Mean control</th>\n",
              "    </tr>\n",
              "  </thead>\n",
              "  <tbody>\n",
              "    <tr>\n",
              "      <th>47</th>\n",
              "      <td>Acima de 75 anos</td>\n",
              "      <td>3</td>\n",
              "      <td>9585.0</td>\n",
              "      <td>0.025</td>\n",
              "      <td>0.95</td>\n",
              "      <td>1.61</td>\n",
              "    </tr>\n",
              "  </tbody>\n",
              "</table>\n",
              "</div>"
            ],
            "text/plain": [
              "               Group  Lag  U Statistic      P  Mean event  Mean control\n",
              "47  Acima de 75 anos    3       9585.0  0.025        0.95          1.61"
            ]
          },
          "metadata": {
            "tags": []
          },
          "execution_count": 52
        }
      ]
    },
    {
      "cell_type": "markdown",
      "metadata": {
        "id": "63ExFu2GNdZd"
      },
      "source": [
        "####**Age and sex**"
      ]
    },
    {
      "cell_type": "code",
      "metadata": {
        "id": "S0LFql5ZNdZd",
        "colab": {
          "base_uri": "https://localhost:8080/",
          "height": 142
        },
        "outputId": "75da9e12-f82c-44de-f700-6f71241bdcf7"
      },
      "source": [
        "get_mann_whitney_lag(df_humidity,'above_pct_dif', 'age and sex')"
      ],
      "execution_count": null,
      "outputs": [
        {
          "output_type": "execute_result",
          "data": {
            "text/html": [
              "<div>\n",
              "<style scoped>\n",
              "    .dataframe tbody tr th:only-of-type {\n",
              "        vertical-align: middle;\n",
              "    }\n",
              "\n",
              "    .dataframe tbody tr th {\n",
              "        vertical-align: top;\n",
              "    }\n",
              "\n",
              "    .dataframe thead th {\n",
              "        text-align: right;\n",
              "    }\n",
              "</style>\n",
              "<table border=\"1\" class=\"dataframe\">\n",
              "  <thead>\n",
              "    <tr style=\"text-align: right;\">\n",
              "      <th></th>\n",
              "      <th>Group</th>\n",
              "      <th>Lag</th>\n",
              "      <th>U Statistic</th>\n",
              "      <th>P</th>\n",
              "      <th>Mean event</th>\n",
              "      <th>Mean control</th>\n",
              "    </tr>\n",
              "  </thead>\n",
              "  <tbody>\n",
              "    <tr>\n",
              "      <th>14</th>\n",
              "      <td>Mulheres entre 20 e 65 anos</td>\n",
              "      <td>3</td>\n",
              "      <td>12870.5</td>\n",
              "      <td>0.010</td>\n",
              "      <td>2.07</td>\n",
              "      <td>1.36</td>\n",
              "    </tr>\n",
              "    <tr>\n",
              "      <th>18</th>\n",
              "      <td>Mulheres entre 20 e 65 anos</td>\n",
              "      <td>7</td>\n",
              "      <td>12176.5</td>\n",
              "      <td>0.036</td>\n",
              "      <td>2.07</td>\n",
              "      <td>1.39</td>\n",
              "    </tr>\n",
              "    <tr>\n",
              "      <th>33</th>\n",
              "      <td>Mulheres acima de 65 anos</td>\n",
              "      <td>0</td>\n",
              "      <td>15832.0</td>\n",
              "      <td>0.013</td>\n",
              "      <td>2.75</td>\n",
              "      <td>2.15</td>\n",
              "    </tr>\n",
              "  </tbody>\n",
              "</table>\n",
              "</div>"
            ],
            "text/plain": [
              "                          Group  Lag  ...  Mean event  Mean control\n",
              "14  Mulheres entre 20 e 65 anos    3  ...        2.07          1.36\n",
              "18  Mulheres entre 20 e 65 anos    7  ...        2.07          1.39\n",
              "33    Mulheres acima de 65 anos    0  ...        2.75          2.15\n",
              "\n",
              "[3 rows x 6 columns]"
            ]
          },
          "metadata": {
            "tags": []
          },
          "execution_count": 53
        }
      ]
    },
    {
      "cell_type": "markdown",
      "metadata": {
        "id": "ADYLnOGc_hcS"
      },
      "source": [
        "##**References**\n",
        "\n",
        "MACFARLAND, T. W.; YATES, J. M. Mann–whitney u test. In:Introduction tononparametric statistics for the biological sciences using R. [S.l.]: Springer, 2016. p. 103–132."
      ]
    }
  ]
}