{
  "nbformat": 4,
  "nbformat_minor": 0,
  "metadata": {
    "colab": {
      "name": "TR_2021/06 - Mann Whitney U test for cardiovascular hospitalizations and extreme climatic events.ipynb",
      "provenance": [],
      "collapsed_sections": [],
      "mount_file_id": "11X5JIRenmLGH9dMsG1WgEuIBmc1R2yta",
      "authorship_tag": "ABX9TyPdnKzos7xavZxUEVqPi7Wz"
    },
    "kernelspec": {
      "name": "python3",
      "display_name": "Python 3"
    }
  },
  "cells": [
    {
      "cell_type": "markdown",
      "metadata": {
        "id": "_7WxcqgBRQB-"
      },
      "source": [
        "# **TR_2021/06 - Technical report: Mann Whitney U test for cardiovascular hospitalizations and extreme climatic events**\n",
        "\n",
        "\n",
        "|Technical Report ID  |2021/06|\n",
        "|--|--|\n",
        "| Title |Mann Whitney U test for cardiovascular hospitalizations and extreme climatic events|\n",
        "| Authors | Júlia De Lázari, Paula Dornhofer|\n",
        "| Creation Date| 2021-03|\n",
        "\n",
        "## Databases description\n",
        "\n",
        "**inputs:** \n",
        "\n",
        "- hospitalizações_circulatório.csv: Dataframe of hospitalizations due to cardiovascular ICDs from 2014 to 2018.\n",
        "\n",
        "- EV_VCP.csv: Dataframe with the extreme events computed. Viracopos data was used for this.\n",
        "\n",
        "## Analysis \n",
        "\n",
        "This report presents an analysis of the the Mann Whitney U test for the [extreme climate events](https://github.com/climate-and-health-datasci-Unicamp/project-climatic-variations-cardiovascular-diseases/blob/main/notebooks/TR_2020_05_Extreme_climatic_events_for_Campinas.ipynb) and hospitalizations due to cardiovascular ICDs.\n"
      ]
    },
    {
      "cell_type": "markdown",
      "metadata": {
        "id": "PzzODgGc2NXM"
      },
      "source": [
        "##**Mann Whitney U**\n",
        "\n",
        "Mann Whitney U is a non-parametric test that compares two distributions. Its null hypothesis is that there is no difference between the analysed distributions [MacFarland e Yates 2016].\n",
        "\n",
        "A two-sided test was used and a level of 5% of significance was chosen.\n",
        "\n",
        "The test was applied to test the distributions of hospitalizations in days under influence of an extreme event and control days (without the event). Distributions were compared on the day of the event and for lags up to 10.  If the event occured at 01/01/2018, 02/01/2018 is considered lag1, 03/01/2018 lag2 and so on. The test was applied for the total data and also for stratitifications (sex, age, age and sex).\n",
        "\n"
      ]
    },
    {
      "cell_type": "markdown",
      "metadata": {
        "id": "_cZJPEYBMKfI"
      },
      "source": [
        "##**Import libraries**"
      ]
    },
    {
      "cell_type": "code",
      "metadata": {
        "id": "70-hcfigMM0C",
        "colab": {
          "base_uri": "https://localhost:8080/"
        },
        "outputId": "b3586b6e-8d60-4b20-cdcb-135901542814"
      },
      "source": [
        "!git clone https://github.com/climate-and-health-datasci-Unicamp/py-climate-health-toolbox"
      ],
      "execution_count": null,
      "outputs": [
        {
          "output_type": "stream",
          "name": "stdout",
          "text": [
            "fatal: destination path 'py-climate-health-toolbox' already exists and is not an empty directory.\n"
          ]
        }
      ]
    },
    {
      "cell_type": "code",
      "metadata": {
        "colab": {
          "base_uri": "https://localhost:8080/"
        },
        "id": "Kl_o0DIMRQCE",
        "outputId": "873a03c9-3ca1-4874-cf7b-589f8f119eb0"
      },
      "source": [
        "#-------------------------------------------------------------------#\n",
        "#                       Import libraries                            #\n",
        "#-------------------------------------------------------------------#\n",
        "import pandas as pd\n",
        "import numpy as np\n",
        "import datetime\n",
        "import more_itertools as mit\n",
        "import datetime\n",
        "import statistics as stat\n",
        "import matplotlib.pyplot as plt\n",
        "from matplotlib.ticker import PercentFormatter\n",
        "import scipy\n",
        "import math\n",
        "import seaborn as sns\n",
        "import pylab\n",
        "from datetime import timedelta\n",
        "from calendar import isleap\n",
        "from google.colab import drive\n",
        "from google.colab import files\n",
        "\n",
        "drive.mount('/content/drive')\n",
        "\n",
        "import sys\n",
        "sys.path.append('/content/py-climate-health-toolbox/climahe')\n",
        "import climatex as tex\n",
        "\n",
        "from IPython.core.interactiveshell import InteractiveShell \n",
        "InteractiveShell.ast_node_interactivity = \"all\"\n",
        "\n",
        "pd.options.mode.chained_assignment = None"
      ],
      "execution_count": null,
      "outputs": [
        {
          "output_type": "stream",
          "name": "stdout",
          "text": [
            "Drive already mounted at /content/drive; to attempt to forcibly remount, call drive.mount(\"/content/drive\", force_remount=True).\n"
          ]
        }
      ]
    },
    {
      "cell_type": "markdown",
      "metadata": {
        "id": "Bj7aFMkmRQCG"
      },
      "source": [
        "## **Load and merge dataframes**"
      ]
    },
    {
      "cell_type": "code",
      "metadata": {
        "id": "7vYzFqgKRQCG"
      },
      "source": [
        "#-------------------------------------------------------------------#\n",
        "#                      cardiovascular hospitalizations              #\n",
        "#-------------------------------------------------------------------#\n",
        "\n",
        "df_hosp = pd.read_csv('hospitalizações_circulatório.csv')\n",
        "df_hosp = df_hosp.drop(columns = {'Unnamed: 0','Hora','Número Paciente','Descrição CID'}) #drop unneeded columns\n",
        "df_hosp = df_hosp.rename(columns = {'Data':'DATE','Idade': 'IDADE','Sexo': 'SEXO'}) #rename Data to DATE to merge dataframes\n",
        "df_hosp = df_hosp[(df_hosp.DATE !='2012-02-29')&(df_hosp.DATE !='2016-02-29')] #remove leap year dates (02-29)\n",
        "df_hosp = df_hosp.sort_values('DATE')"
      ],
      "execution_count": null,
      "outputs": []
    },
    {
      "cell_type": "code",
      "metadata": {
        "id": "U50cC2w0RQCH"
      },
      "source": [
        "#-------------------------------------------------------------------#\n",
        "#                  Extreme climatic variations                      #\n",
        "#-------------------------------------------------------------------#\n",
        "df_vir =  pd.read_csv('EV_VCP.csv')\n",
        "df_vir = df_vir.drop(columns = {'Unnamed: 0'})\n",
        "df_vir = df_vir[df_vir['DATE']>='2014-01-01']"
      ],
      "execution_count": null,
      "outputs": []
    },
    {
      "cell_type": "code",
      "metadata": {
        "id": "wykqMU8BRQCH"
      },
      "source": [
        "#-------------------------------------------------------------------#\n",
        "#              Merge health and climate dataframes                  #\n",
        "#-------------------------------------------------------------------#\n",
        "df = pd.merge(df_vir,df_hosp, on='DATE', how='outer')"
      ],
      "execution_count": null,
      "outputs": []
    },
    {
      "cell_type": "markdown",
      "metadata": {
        "id": "DMgTKZqQz89_"
      },
      "source": [
        "##**Test normality of data**\n",
        "\n",
        "QQ-plots and the Shapiro-Wilk test were used to check normality of data. The Shapiro test null hypothesis is a normal distribution. Based on the result of the test, this hyposthis was rejected.\n"
      ]
    },
    {
      "cell_type": "code",
      "metadata": {
        "id": "EU-XsAaIRQCI"
      },
      "source": [
        "# Function to compute Shapiro Wilk test\n",
        "def get_shapiro(database):\n",
        "  #column for number of hospitalizations\n",
        "  database['N_hosp'] = np.where(database['CID'].isnull(),0,database.groupby(['DATE']).DATE.transform('count'))\n",
        "  database = database.drop_duplicates('DATE',keep='first')\n",
        "  \n",
        "  #qqplot\n",
        "  scipy.stats.probplot(database['N_hosp'], dist=\"norm\", plot=pylab)\n",
        "  pylab.title('Daily number of hospitalizations due to cardiovascular diseases \\n Normal distribution: theoretical vs observed',fontsize = 15)\n",
        "  pylab.show()\n",
        "\n",
        "  #Shapiro Wilk test\n",
        "  from scipy.stats import shapiro\n",
        "  print('Shapiro Wilk test')\n",
        "  alpha = 0.01\n",
        "  tes,p2 = shapiro(database['N_hosp'])\n",
        "  print(\"W statistic:\",tes)\n",
        "  print(\"p value:\",p2)\n",
        "  if p2 > alpha:\n",
        "\t  print('Sample looks Gaussian (fail to reject H0)\\n')\n",
        "  else:\n",
        "\t  print('Sample does not look Gaussian (reject H0)\\n')"
      ],
      "execution_count": null,
      "outputs": []
    },
    {
      "cell_type": "code",
      "metadata": {
        "colab": {
          "base_uri": "https://localhost:8080/",
          "height": 400
        },
        "id": "ef-s-7Ch0fkQ",
        "outputId": "9bcc96fc-8bfe-4d4c-a8fd-b59cfc644d52"
      },
      "source": [
        "get_shapiro(df_hosp)"
      ],
      "execution_count": null,
      "outputs": [
        {
          "output_type": "display_data",
          "data": {
            "image/png": "[encoded data removed]",
            "text/plain": [
              "<Figure size 432x288 with 1 Axes>"
            ]
          },
          "metadata": {
            "needs_background": "light"
          }
        },
        {
          "output_type": "stream",
          "name": "stdout",
          "text": [
            "Shapiro Wilk test\n",
            "W statistic: 0.9737470149993896\n",
            "p value: 9.847533080065204e-18\n",
            "Sample does not look Gaussian (reject H0)\n",
            "\n"
          ]
        }
      ]
    },
    {
      "cell_type": "markdown",
      "metadata": {
        "id": "MZtAQw07RQCI"
      },
      "source": [
        "## **Functions**\n",
        "\n",
        "Automatize some repeated operations along the notebook\n",
        "- stratify functions: different stratifications of the dataframe\n",
        "- get_mann_whitney_lag: get the result of the Mann Whitney U test (event vs control) for lags from 0 to 10\n"
      ]
    },
    {
      "cell_type": "markdown",
      "metadata": {
        "id": "VbeozYITLm1D"
      },
      "source": [
        "###**Stratify functions**"
      ]
    },
    {
      "cell_type": "code",
      "metadata": {
        "id": "MmEHzGUVD5fd",
        "cellView": "form"
      },
      "source": [
        "#@title Stratify age sex\n",
        "def stratify_age_sex(database): \n",
        "    between_20_65_F = database[(database['IDADE'] >= 20) & (database['IDADE'] < 65)  & (database['SEXO']==\"F\")]\n",
        "    between_20_65_M = database[(database['IDADE'] >= 20) & (database['IDADE'] < 65) & (database['SEXO']==\"M\")]   \n",
        "    over_65_F = database[(database['IDADE'] > 64) & (database['SEXO']==\"F\")]   \n",
        "    over_65_M = database[(database['IDADE'] > 64) & (database['SEXO']==\"M\")]     \n",
        "\n",
        "    dataframes = [database, between_20_65_F, between_20_65_M,over_65_F,over_65_M]\n",
        "    df_names = [\"Todas idades\",\"Mulheres entre 20 e 65 anos\",\"Homens entre 20 e 65 anos\",\"Mulheres acima de 65 anos\",\"Homens acima de 65 anos\"]\n",
        "\n",
        "    return dataframes, df_names"
      ],
      "execution_count": null,
      "outputs": []
    },
    {
      "cell_type": "code",
      "metadata": {
        "id": "YN_lpaJ_F8E9",
        "cellView": "form"
      },
      "source": [
        "#@title Stratify age\n",
        "def stratify_age(database):\n",
        "  #less_20 = database[(database['IDADE'] < 20)]  \n",
        "  between_20_40 = database[(database['IDADE'] >= 20) & (database['IDADE'] < 40)]\n",
        "  between_40_65 = database[(database['IDADE'] >= 40) & (database['IDADE'] < 65)]   \n",
        "  over_65 = database[(database['IDADE'] > 64)]   \n",
        "  over_75 = database[(database['IDADE'] > 75)]\n",
        "\n",
        "  dataframes  = [database, between_20_40, between_40_65, over_65, over_75] \n",
        "  df_names = [\"Todas idades\", \"Entre 20 e 40 anos\",\"Entre 40 e 65 anos\",\"Acima de 65 anos\",\"Acima de 75 anos\"]\n",
        "\n",
        "  return dataframes, df_names"
      ],
      "execution_count": null,
      "outputs": []
    },
    {
      "cell_type": "code",
      "metadata": {
        "id": "fwVt-p6cHmth",
        "cellView": "form"
      },
      "source": [
        "#@title Stratify sex\n",
        "def stratify_sex(database):\n",
        "  women = database[database['SEXO']=='F']\n",
        "  men = database[database['SEXO']=='M']\n",
        "\n",
        "  dataframes = [database, women, men]\n",
        "  df_names = [\"Todos\", \"Mulheres\", \"Homens\"]\n",
        "\n",
        "  return dataframes, df_names"
      ],
      "execution_count": null,
      "outputs": []
    },
    {
      "cell_type": "markdown",
      "metadata": {
        "id": "-EfcDiAoS9Jl"
      },
      "source": [
        "###**Plot functions**"
      ]
    },
    {
      "cell_type": "code",
      "metadata": {
        "id": "WTC7AYPoKL2V",
        "cellView": "form"
      },
      "source": [
        "#@title Boxplot\n",
        "def get_boxplot(df_control,df_event,title,outcome):\n",
        "\n",
        "  plt.figure(figsize=(6,4))\n",
        "  plt.grid()\n",
        "  plt.title(f'Control and Event Vectors Boxplot \\n {title}')\n",
        "  plt.ylabel('Number of Deaths')\n",
        "  data = [df_control[f'N_{outcome}'], df_event[f'N_{outcome}']]\n",
        "  labels = ['Control', 'Event']\n",
        "  plt.boxplot(data, labels=labels)\n",
        "  plt.show()"
      ],
      "execution_count": null,
      "outputs": []
    },
    {
      "cell_type": "code",
      "metadata": {
        "id": "6yTKWM-VRLg4",
        "cellView": "form"
      },
      "source": [
        "#@title Distribution\n",
        "def get_dist(database,control,event,title, outcome):  \n",
        "  df_control = control\n",
        "  df_event = event\n",
        "\n",
        "  n_event = pd.DataFrame(df_event[f'N_{outcome}'].value_counts())\n",
        "  n_event = n_event.reset_index()\n",
        "  n_event['Percent_event'] = n_event[f'N_{outcome}']/n_event[f'N_{outcome}'].sum()*100\n",
        "  n_event['Percent_event'] = round(n_event['Percent_event'],2)\n",
        "  n_event = n_event.rename(columns={'index':f'N_{outcome}',f'N_{outcome}':'Count_event'})\n",
        "  n_event = n_event.sort_values('Percent_event', ascending = False)\n",
        "\n",
        "  n_control = pd.DataFrame(df_control[f'N_{outcome}'].value_counts())\n",
        "  n_control = n_control.reset_index()\n",
        "  n_control['Percent_control'] = n_control[f'N_{outcome}']/n_control[f'N_{outcome}'].sum()*100\n",
        "  n_control['Percent_control'] = round(n_control['Percent_control'],2)\n",
        "  n_control = n_control.rename(columns={'index':f'N_{outcome}',f'N_{outcome}':'Count_control'})\n",
        "  n_control = n_control.sort_values('Percent_control', ascending = False)\n",
        "    \n",
        "    #merge into one dataframe\n",
        "  from functools import reduce\n",
        "  n_outcome = reduce(lambda x,y: pd.merge(x,y, on=f'N_{outcome}', how='outer'), [n_total,n_event,n_control])\n",
        "  n_outcome = n_outcome.sort_values(f'N_{outcome}')\n",
        "\n",
        "  #plot\n",
        "  plt.figure(figsize=(8,4))\n",
        "\n",
        "  plt.plot(n_outcome[f'N_{outcome}'], n_outcome['Percent_event'], label = 'event')\n",
        "  plt.plot(n_outcome[f'N_{outcome}'], n_outcome['Percent_control'], label = 'control')\n",
        "  plt.xlabel(f'Number of {outcome}')\n",
        "  plt.ylabel('Frequency (%)',fontsize = 15)\n",
        "  plt.ylim(0,max(n_outcome['Percent_event'].max(),n_outcome['Percent_control'].max())+5)\n",
        "  plt.title(f'Frequency of number of {outcome} \\n {title}',fontsize = 20)\n",
        "  plt.legend()\n",
        "  plt.show()"
      ],
      "execution_count": null,
      "outputs": []
    },
    {
      "cell_type": "markdown",
      "metadata": {
        "id": "7Pr9KZGBTKN6"
      },
      "source": [
        "###**Mann Whitney function**"
      ]
    },
    {
      "cell_type": "code",
      "metadata": {
        "id": "5mwU6oFTRQCN"
      },
      "source": [
        "def get_mann_whitney_lag(database,event,stratify,test='two-sided',plot=None):\n",
        "  from scipy.stats import mannwhitneyu\n",
        "\n",
        "  #aux lists\n",
        "  u_stat = []\n",
        "  p = [] \n",
        "  sig = []\n",
        "  mean_event = []\n",
        "  median_event = []\n",
        "  mean_control = []\n",
        "  median_control = []\n",
        "  lag_list = []\n",
        "  subsets_list = []\n",
        "\n",
        "  #subsets depending on the stratification\n",
        "  if (stratify == 'age and sex'): \n",
        "    dataframes, df_names = stratify_age_sex(database)\n",
        "  elif (stratify == 'sex'): \n",
        "    dataframes, df_names = stratify_sex(database)\n",
        "  elif (stratify == 'age'): \n",
        "    dataframes, df_names = stratify_age(database)\n",
        "  elif (stratify == 'race'):\n",
        "    dataframes, df_names = stratify_race(database)\n",
        "\n",
        "  #aux variable \n",
        "  j = 0\n",
        "  for df in dataframes: #mann whitney for each subset\n",
        "    #column for number of deaths\n",
        "    df['N_hosp'] = np.where(df['CID'].isnull(),0,df.groupby(['DATE']).DATE.transform('count'))\n",
        "    df = df.drop_duplicates('DATE',keep='first')\n",
        "    df['DATE'] = pd.to_datetime(df['DATE'])\n",
        "    df['YEAR'] = df['DATE'].dt.year\n",
        "    df = tex.complete_df(df)\n",
        "    df['N_hosp'].fillna(0,inplace=True)\n",
        "\n",
        "    for lag in range(0,11):\n",
        "      \n",
        "      #subset for extreme event\n",
        "      df[f'{event}_lag_{lag}'] = df[f'{event}'].shift(lag)\n",
        "      df_event = df[df[f'{event}_lag_{lag}']==1]\n",
        "      \n",
        "      #subset for control\n",
        "      df_control = df[df[f'{event}_lag_{lag}']==0]\n",
        "    \n",
        "      #get mean and median for event and control\n",
        "      mean_event.append(round(stat.mean(df_event['N_hosp']),2))\n",
        "      mean_control.append(round(stat.mean(df_control['N_hosp']),2))\n",
        "\n",
        "      # mann whitney u test\n",
        "      u_statistic, p_value = mannwhitneyu(df_event['N_hosp'], df_control['N_hosp'], alternative = test)\n",
        "      p_sig = np.where(p_value<0.05,'*','-') #mark if p is significant\n",
        "      u_stat.append(u_statistic)\n",
        "      p.append(round(p_value,3))\n",
        "      sig.append(p_sig)\n",
        "      lag_list.append(lag)\n",
        "      subsets_list.append(df_names[j])\n",
        "\n",
        "      if p_value < 0.05:\n",
        "        if (plot=='boxplot'):\n",
        "          get_boxplot(df_control,df_event,df_names[j]+'lag'+str(lag), outcome)\n",
        "        if (plot=='dist'):\n",
        "          get_dist(database,df_control,df_event,df_names[j]+'lag'+str(lag), outcome)\n",
        "      \n",
        "    j += 1 #increment variable\n",
        "\n",
        "  table = pd.DataFrame() #create a table\n",
        "  table['Group'] = subsets_list\n",
        "  table['Lag'] = lag_list\n",
        "  table['U Statistic'] = u_stat\n",
        "  table['P'] = p\n",
        "  table['Significance'] = sig\n",
        "  table['Mean event'] = mean_event\n",
        "  table['Mean control'] = mean_control\n",
        "  table = table[table['Significance']=='*']\n",
        "  del table['Significance']\n",
        "\n",
        "  return table"
      ],
      "execution_count": null,
      "outputs": []
    },
    {
      "cell_type": "markdown",
      "metadata": {
        "id": "9bhBikpoP-6w"
      },
      "source": [
        "## **Temperature**"
      ]
    },
    {
      "cell_type": "markdown",
      "metadata": {
        "id": "qlwdYYCdQl5g"
      },
      "source": [
        "###**Extreme thermal range**"
      ]
    },
    {
      "cell_type": "markdown",
      "metadata": {
        "id": "NziRUiATQl5h"
      },
      "source": [
        "####**Sex**"
      ]
    },
    {
      "cell_type": "code",
      "metadata": {
        "id": "wiGgb3KNQl5i",
        "colab": {
          "base_uri": "https://localhost:8080/",
          "height": 111
        },
        "outputId": "1900c532-8b47-48c7-e4b5-fca654b42f72"
      },
      "source": [
        "get_mann_whitney_lag(df,'above_temp_range','sex')"
      ],
      "execution_count": null,
      "outputs": [
        {
          "output_type": "execute_result",
          "data": {
            "text/html": [
              "<div>\n",
              "<style scoped>\n",
              "    .dataframe tbody tr th:only-of-type {\n",
              "        vertical-align: middle;\n",
              "    }\n",
              "\n",
              "    .dataframe tbody tr th {\n",
              "        vertical-align: top;\n",
              "    }\n",
              "\n",
              "    .dataframe thead th {\n",
              "        text-align: right;\n",
              "    }\n",
              "</style>\n",
              "<table border=\"1\" class=\"dataframe\">\n",
              "  <thead>\n",
              "    <tr style=\"text-align: right;\">\n",
              "      <th></th>\n",
              "      <th>Group</th>\n",
              "      <th>Lag</th>\n",
              "      <th>U Statistic</th>\n",
              "      <th>P</th>\n",
              "      <th>Mean event</th>\n",
              "      <th>Mean control</th>\n",
              "    </tr>\n",
              "  </thead>\n",
              "  <tbody>\n",
              "    <tr>\n",
              "      <th>4</th>\n",
              "      <td>Todos</td>\n",
              "      <td>4</td>\n",
              "      <td>82294.0</td>\n",
              "      <td>0.038</td>\n",
              "      <td>6.46</td>\n",
              "      <td>7.09</td>\n",
              "    </tr>\n",
              "    <tr>\n",
              "      <th>26</th>\n",
              "      <td>Homens</td>\n",
              "      <td>4</td>\n",
              "      <td>73704.0</td>\n",
              "      <td>0.011</td>\n",
              "      <td>3.47</td>\n",
              "      <td>3.93</td>\n",
              "    </tr>\n",
              "  </tbody>\n",
              "</table>\n",
              "</div>"
            ],
            "text/plain": [
              "     Group  Lag  U Statistic      P  Mean event  Mean control\n",
              "4    Todos    4      82294.0  0.038        6.46          7.09\n",
              "26  Homens    4      73704.0  0.011        3.47          3.93"
            ]
          },
          "metadata": {},
          "execution_count": 21
        }
      ]
    },
    {
      "cell_type": "markdown",
      "metadata": {
        "id": "4F_JAshNQl5j"
      },
      "source": [
        "####**Age**"
      ]
    },
    {
      "cell_type": "code",
      "metadata": {
        "id": "P9Lv0KQAQl5j",
        "colab": {
          "base_uri": "https://localhost:8080/",
          "height": 111
        },
        "outputId": "8902ef6e-c556-4829-f789-a4e1945049f6"
      },
      "source": [
        "get_mann_whitney_lag(df,'above_temp_range','age')"
      ],
      "execution_count": null,
      "outputs": [
        {
          "output_type": "execute_result",
          "data": {
            "text/html": [
              "<div>\n",
              "<style scoped>\n",
              "    .dataframe tbody tr th:only-of-type {\n",
              "        vertical-align: middle;\n",
              "    }\n",
              "\n",
              "    .dataframe tbody tr th {\n",
              "        vertical-align: top;\n",
              "    }\n",
              "\n",
              "    .dataframe thead th {\n",
              "        text-align: right;\n",
              "    }\n",
              "</style>\n",
              "<table border=\"1\" class=\"dataframe\">\n",
              "  <thead>\n",
              "    <tr style=\"text-align: right;\">\n",
              "      <th></th>\n",
              "      <th>Group</th>\n",
              "      <th>Lag</th>\n",
              "      <th>U Statistic</th>\n",
              "      <th>P</th>\n",
              "      <th>Mean event</th>\n",
              "      <th>Mean control</th>\n",
              "    </tr>\n",
              "  </thead>\n",
              "  <tbody>\n",
              "    <tr>\n",
              "      <th>4</th>\n",
              "      <td>Todas idades</td>\n",
              "      <td>4</td>\n",
              "      <td>82294.0</td>\n",
              "      <td>0.038</td>\n",
              "      <td>6.46</td>\n",
              "      <td>7.09</td>\n",
              "    </tr>\n",
              "    <tr>\n",
              "      <th>36</th>\n",
              "      <td>Acima de 65 anos</td>\n",
              "      <td>3</td>\n",
              "      <td>78585.5</td>\n",
              "      <td>0.044</td>\n",
              "      <td>3.24</td>\n",
              "      <td>3.64</td>\n",
              "    </tr>\n",
              "  </tbody>\n",
              "</table>\n",
              "</div>"
            ],
            "text/plain": [
              "               Group  Lag  U Statistic      P  Mean event  Mean control\n",
              "4       Todas idades    4      82294.0  0.038        6.46          7.09\n",
              "36  Acima de 65 anos    3      78585.5  0.044        3.24          3.64"
            ]
          },
          "metadata": {},
          "execution_count": 22
        }
      ]
    },
    {
      "cell_type": "markdown",
      "metadata": {
        "id": "g7Ivoa0xQl5k"
      },
      "source": [
        "####**Age and sex**"
      ]
    },
    {
      "cell_type": "code",
      "metadata": {
        "id": "i64e2vUwQl5l",
        "colab": {
          "base_uri": "https://localhost:8080/",
          "height": 173
        },
        "outputId": "89d90779-e936-49aa-efbb-b2831af76174"
      },
      "source": [
        "get_mann_whitney_lag(df,'above_temp_range','age and sex')"
      ],
      "execution_count": null,
      "outputs": [
        {
          "output_type": "execute_result",
          "data": {
            "text/html": [
              "<div>\n",
              "<style scoped>\n",
              "    .dataframe tbody tr th:only-of-type {\n",
              "        vertical-align: middle;\n",
              "    }\n",
              "\n",
              "    .dataframe tbody tr th {\n",
              "        vertical-align: top;\n",
              "    }\n",
              "\n",
              "    .dataframe thead th {\n",
              "        text-align: right;\n",
              "    }\n",
              "</style>\n",
              "<table border=\"1\" class=\"dataframe\">\n",
              "  <thead>\n",
              "    <tr style=\"text-align: right;\">\n",
              "      <th></th>\n",
              "      <th>Group</th>\n",
              "      <th>Lag</th>\n",
              "      <th>U Statistic</th>\n",
              "      <th>P</th>\n",
              "      <th>Mean event</th>\n",
              "      <th>Mean control</th>\n",
              "    </tr>\n",
              "  </thead>\n",
              "  <tbody>\n",
              "    <tr>\n",
              "      <th>4</th>\n",
              "      <td>Todas idades</td>\n",
              "      <td>4</td>\n",
              "      <td>82294.0</td>\n",
              "      <td>0.038</td>\n",
              "      <td>6.46</td>\n",
              "      <td>7.09</td>\n",
              "    </tr>\n",
              "    <tr>\n",
              "      <th>17</th>\n",
              "      <td>Mulheres entre 20 e 65 anos</td>\n",
              "      <td>6</td>\n",
              "      <td>41653.5</td>\n",
              "      <td>0.007</td>\n",
              "      <td>1.05</td>\n",
              "      <td>1.42</td>\n",
              "    </tr>\n",
              "    <tr>\n",
              "      <th>36</th>\n",
              "      <td>Mulheres acima de 65 anos</td>\n",
              "      <td>3</td>\n",
              "      <td>53582.5</td>\n",
              "      <td>0.010</td>\n",
              "      <td>1.44</td>\n",
              "      <td>1.80</td>\n",
              "    </tr>\n",
              "    <tr>\n",
              "      <th>48</th>\n",
              "      <td>Homens acima de 65 anos</td>\n",
              "      <td>4</td>\n",
              "      <td>55472.0</td>\n",
              "      <td>0.032</td>\n",
              "      <td>1.54</td>\n",
              "      <td>1.87</td>\n",
              "    </tr>\n",
              "  </tbody>\n",
              "</table>\n",
              "</div>"
            ],
            "text/plain": [
              "                          Group  Lag  ...  Mean event  Mean control\n",
              "4                  Todas idades    4  ...        6.46          7.09\n",
              "17  Mulheres entre 20 e 65 anos    6  ...        1.05          1.42\n",
              "36    Mulheres acima de 65 anos    3  ...        1.44          1.80\n",
              "48      Homens acima de 65 anos    4  ...        1.54          1.87\n",
              "\n",
              "[4 rows x 6 columns]"
            ]
          },
          "metadata": {},
          "execution_count": 23
        }
      ]
    },
    {
      "cell_type": "markdown",
      "metadata": {
        "id": "G6tDX_3YQ5KN"
      },
      "source": [
        "###**Extreme temperature difference between days**"
      ]
    },
    {
      "cell_type": "markdown",
      "metadata": {
        "id": "-tZtV8otQ5KN"
      },
      "source": [
        "####**Sex**"
      ]
    },
    {
      "cell_type": "code",
      "metadata": {
        "id": "YMxqYjbdQ5KO",
        "colab": {
          "base_uri": "https://localhost:8080/",
          "height": 80
        },
        "outputId": "85fb322b-b487-4c41-eb68-a9e25eed3cb5"
      },
      "source": [
        "get_mann_whitney_lag(df,'above_temp_dif','sex')"
      ],
      "execution_count": null,
      "outputs": [
        {
          "output_type": "execute_result",
          "data": {
            "text/html": [
              "<div>\n",
              "<style scoped>\n",
              "    .dataframe tbody tr th:only-of-type {\n",
              "        vertical-align: middle;\n",
              "    }\n",
              "\n",
              "    .dataframe tbody tr th {\n",
              "        vertical-align: top;\n",
              "    }\n",
              "\n",
              "    .dataframe thead th {\n",
              "        text-align: right;\n",
              "    }\n",
              "</style>\n",
              "<table border=\"1\" class=\"dataframe\">\n",
              "  <thead>\n",
              "    <tr style=\"text-align: right;\">\n",
              "      <th></th>\n",
              "      <th>Group</th>\n",
              "      <th>Lag</th>\n",
              "      <th>U Statistic</th>\n",
              "      <th>P</th>\n",
              "      <th>Mean event</th>\n",
              "      <th>Mean control</th>\n",
              "    </tr>\n",
              "  </thead>\n",
              "  <tbody>\n",
              "    <tr>\n",
              "      <th>18</th>\n",
              "      <td>Mulheres</td>\n",
              "      <td>7</td>\n",
              "      <td>23060.5</td>\n",
              "      <td>0.015</td>\n",
              "      <td>4.24</td>\n",
              "      <td>3.15</td>\n",
              "    </tr>\n",
              "  </tbody>\n",
              "</table>\n",
              "</div>"
            ],
            "text/plain": [
              "       Group  Lag  U Statistic      P  Mean event  Mean control\n",
              "18  Mulheres    7      23060.5  0.015        4.24          3.15"
            ]
          },
          "metadata": {},
          "execution_count": 24
        }
      ]
    },
    {
      "cell_type": "markdown",
      "metadata": {
        "id": "r810w1F4Q5KO"
      },
      "source": [
        "####**Age**"
      ]
    },
    {
      "cell_type": "code",
      "metadata": {
        "id": "5wzYzYRIQ5KO",
        "colab": {
          "base_uri": "https://localhost:8080/",
          "height": 80
        },
        "outputId": "9e4a9cc4-3969-4149-b253-64f51b3b7e38"
      },
      "source": [
        "get_mann_whitney_lag(df,'above_temp_dif','age')"
      ],
      "execution_count": null,
      "outputs": [
        {
          "output_type": "execute_result",
          "data": {
            "text/html": [
              "<div>\n",
              "<style scoped>\n",
              "    .dataframe tbody tr th:only-of-type {\n",
              "        vertical-align: middle;\n",
              "    }\n",
              "\n",
              "    .dataframe tbody tr th {\n",
              "        vertical-align: top;\n",
              "    }\n",
              "\n",
              "    .dataframe thead th {\n",
              "        text-align: right;\n",
              "    }\n",
              "</style>\n",
              "<table border=\"1\" class=\"dataframe\">\n",
              "  <thead>\n",
              "    <tr style=\"text-align: right;\">\n",
              "      <th></th>\n",
              "      <th>Group</th>\n",
              "      <th>Lag</th>\n",
              "      <th>U Statistic</th>\n",
              "      <th>P</th>\n",
              "      <th>Mean event</th>\n",
              "      <th>Mean control</th>\n",
              "    </tr>\n",
              "  </thead>\n",
              "  <tbody>\n",
              "    <tr>\n",
              "      <th>54</th>\n",
              "      <td>Acima de 75 anos</td>\n",
              "      <td>10</td>\n",
              "      <td>8948.5</td>\n",
              "      <td>0.024</td>\n",
              "      <td>1.0</td>\n",
              "      <td>1.62</td>\n",
              "    </tr>\n",
              "  </tbody>\n",
              "</table>\n",
              "</div>"
            ],
            "text/plain": [
              "               Group  Lag  U Statistic      P  Mean event  Mean control\n",
              "54  Acima de 75 anos   10       8948.5  0.024         1.0          1.62"
            ]
          },
          "metadata": {},
          "execution_count": 25
        }
      ]
    },
    {
      "cell_type": "markdown",
      "metadata": {
        "id": "aRnWbIAHQ5KP"
      },
      "source": [
        "####**Age and sex**"
      ]
    },
    {
      "cell_type": "code",
      "metadata": {
        "id": "lA6IcFG_Q5KP",
        "colab": {
          "base_uri": "https://localhost:8080/",
          "height": 142
        },
        "outputId": "e3f23bd9-1ae5-42e4-a91b-f1314242caa6"
      },
      "source": [
        "get_mann_whitney_lag(df,'above_temp_dif','age and sex')"
      ],
      "execution_count": null,
      "outputs": [
        {
          "output_type": "execute_result",
          "data": {
            "text/html": [
              "<div>\n",
              "<style scoped>\n",
              "    .dataframe tbody tr th:only-of-type {\n",
              "        vertical-align: middle;\n",
              "    }\n",
              "\n",
              "    .dataframe tbody tr th {\n",
              "        vertical-align: top;\n",
              "    }\n",
              "\n",
              "    .dataframe thead th {\n",
              "        text-align: right;\n",
              "    }\n",
              "</style>\n",
              "<table border=\"1\" class=\"dataframe\">\n",
              "  <thead>\n",
              "    <tr style=\"text-align: right;\">\n",
              "      <th></th>\n",
              "      <th>Group</th>\n",
              "      <th>Lag</th>\n",
              "      <th>U Statistic</th>\n",
              "      <th>P</th>\n",
              "      <th>Mean event</th>\n",
              "      <th>Mean control</th>\n",
              "    </tr>\n",
              "  </thead>\n",
              "  <tbody>\n",
              "    <tr>\n",
              "      <th>18</th>\n",
              "      <td>Mulheres entre 20 e 65 anos</td>\n",
              "      <td>7</td>\n",
              "      <td>15256.0</td>\n",
              "      <td>0.031</td>\n",
              "      <td>2.11</td>\n",
              "      <td>1.39</td>\n",
              "    </tr>\n",
              "    <tr>\n",
              "      <th>36</th>\n",
              "      <td>Mulheres acima de 65 anos</td>\n",
              "      <td>3</td>\n",
              "      <td>10931.5</td>\n",
              "      <td>0.044</td>\n",
              "      <td>1.20</td>\n",
              "      <td>1.79</td>\n",
              "    </tr>\n",
              "    <tr>\n",
              "      <th>49</th>\n",
              "      <td>Homens acima de 65 anos</td>\n",
              "      <td>5</td>\n",
              "      <td>9777.5</td>\n",
              "      <td>0.043</td>\n",
              "      <td>1.17</td>\n",
              "      <td>1.87</td>\n",
              "    </tr>\n",
              "  </tbody>\n",
              "</table>\n",
              "</div>"
            ],
            "text/plain": [
              "                          Group  Lag  ...  Mean event  Mean control\n",
              "18  Mulheres entre 20 e 65 anos    7  ...        2.11          1.39\n",
              "36    Mulheres acima de 65 anos    3  ...        1.20          1.79\n",
              "49      Homens acima de 65 anos    5  ...        1.17          1.87\n",
              "\n",
              "[3 rows x 6 columns]"
            ]
          },
          "metadata": {},
          "execution_count": 26
        }
      ]
    },
    {
      "cell_type": "markdown",
      "metadata": {
        "id": "VQeB8FKlOB5N"
      },
      "source": [
        "##**Pressure**"
      ]
    },
    {
      "cell_type": "markdown",
      "metadata": {
        "id": "q5FVaA68OB5O"
      },
      "source": [
        "###**Low pressure waves**"
      ]
    },
    {
      "cell_type": "markdown",
      "metadata": {
        "id": "Xk6z1yoxOB5O"
      },
      "source": [
        "####**Sex**"
      ]
    },
    {
      "cell_type": "code",
      "metadata": {
        "id": "GPSlg04sOB5P",
        "colab": {
          "base_uri": "https://localhost:8080/",
          "height": 173
        },
        "outputId": "5ef77690-f867-40c7-e3a9-d9fdbaee42e9"
      },
      "source": [
        "get_mann_whitney_lag(df,'LPW','sex')"
      ],
      "execution_count": null,
      "outputs": [
        {
          "output_type": "execute_result",
          "data": {
            "text/html": [
              "<div>\n",
              "<style scoped>\n",
              "    .dataframe tbody tr th:only-of-type {\n",
              "        vertical-align: middle;\n",
              "    }\n",
              "\n",
              "    .dataframe tbody tr th {\n",
              "        vertical-align: top;\n",
              "    }\n",
              "\n",
              "    .dataframe thead th {\n",
              "        text-align: right;\n",
              "    }\n",
              "</style>\n",
              "<table border=\"1\" class=\"dataframe\">\n",
              "  <thead>\n",
              "    <tr style=\"text-align: right;\">\n",
              "      <th></th>\n",
              "      <th>Group</th>\n",
              "      <th>Lag</th>\n",
              "      <th>U Statistic</th>\n",
              "      <th>P</th>\n",
              "      <th>Mean event</th>\n",
              "      <th>Mean control</th>\n",
              "    </tr>\n",
              "  </thead>\n",
              "  <tbody>\n",
              "    <tr>\n",
              "      <th>9</th>\n",
              "      <td>Todos</td>\n",
              "      <td>9</td>\n",
              "      <td>30172.0</td>\n",
              "      <td>0.034</td>\n",
              "      <td>6.10</td>\n",
              "      <td>7.08</td>\n",
              "    </tr>\n",
              "    <tr>\n",
              "      <th>14</th>\n",
              "      <td>Mulheres</td>\n",
              "      <td>3</td>\n",
              "      <td>41224.0</td>\n",
              "      <td>0.047</td>\n",
              "      <td>3.57</td>\n",
              "      <td>3.14</td>\n",
              "    </tr>\n",
              "    <tr>\n",
              "      <th>22</th>\n",
              "      <td>Homens</td>\n",
              "      <td>0</td>\n",
              "      <td>40509.0</td>\n",
              "      <td>0.031</td>\n",
              "      <td>4.72</td>\n",
              "      <td>4.02</td>\n",
              "    </tr>\n",
              "    <tr>\n",
              "      <th>31</th>\n",
              "      <td>Homens</td>\n",
              "      <td>9</td>\n",
              "      <td>26129.5</td>\n",
              "      <td>0.016</td>\n",
              "      <td>3.15</td>\n",
              "      <td>3.93</td>\n",
              "    </tr>\n",
              "  </tbody>\n",
              "</table>\n",
              "</div>"
            ],
            "text/plain": [
              "       Group  Lag  U Statistic      P  Mean event  Mean control\n",
              "9      Todos    9      30172.0  0.034        6.10          7.08\n",
              "14  Mulheres    3      41224.0  0.047        3.57          3.14\n",
              "22    Homens    0      40509.0  0.031        4.72          4.02\n",
              "31    Homens    9      26129.5  0.016        3.15          3.93"
            ]
          },
          "metadata": {},
          "execution_count": 27
        }
      ]
    },
    {
      "cell_type": "markdown",
      "metadata": {
        "id": "1hXRbAKFOB5Q"
      },
      "source": [
        "####**Age**"
      ]
    },
    {
      "cell_type": "code",
      "metadata": {
        "id": "Ih9L7uGkOB5Q",
        "colab": {
          "base_uri": "https://localhost:8080/",
          "height": 235
        },
        "outputId": "936ba4f9-ba90-48ca-8a63-3a30c2aef92d"
      },
      "source": [
        "get_mann_whitney_lag(df,'LPW','age')"
      ],
      "execution_count": null,
      "outputs": [
        {
          "output_type": "execute_result",
          "data": {
            "text/html": [
              "<div>\n",
              "<style scoped>\n",
              "    .dataframe tbody tr th:only-of-type {\n",
              "        vertical-align: middle;\n",
              "    }\n",
              "\n",
              "    .dataframe tbody tr th {\n",
              "        vertical-align: top;\n",
              "    }\n",
              "\n",
              "    .dataframe thead th {\n",
              "        text-align: right;\n",
              "    }\n",
              "</style>\n",
              "<table border=\"1\" class=\"dataframe\">\n",
              "  <thead>\n",
              "    <tr style=\"text-align: right;\">\n",
              "      <th></th>\n",
              "      <th>Group</th>\n",
              "      <th>Lag</th>\n",
              "      <th>U Statistic</th>\n",
              "      <th>P</th>\n",
              "      <th>Mean event</th>\n",
              "      <th>Mean control</th>\n",
              "    </tr>\n",
              "  </thead>\n",
              "  <tbody>\n",
              "    <tr>\n",
              "      <th>9</th>\n",
              "      <td>Todas idades</td>\n",
              "      <td>9</td>\n",
              "      <td>30172.0</td>\n",
              "      <td>0.034</td>\n",
              "      <td>6.10</td>\n",
              "      <td>7.08</td>\n",
              "    </tr>\n",
              "    <tr>\n",
              "      <th>31</th>\n",
              "      <td>Entre 40 e 65 anos</td>\n",
              "      <td>9</td>\n",
              "      <td>25221.5</td>\n",
              "      <td>0.003</td>\n",
              "      <td>2.24</td>\n",
              "      <td>3.09</td>\n",
              "    </tr>\n",
              "    <tr>\n",
              "      <th>33</th>\n",
              "      <td>Acima de 65 anos</td>\n",
              "      <td>0</td>\n",
              "      <td>40534.0</td>\n",
              "      <td>0.045</td>\n",
              "      <td>4.38</td>\n",
              "      <td>3.73</td>\n",
              "    </tr>\n",
              "    <tr>\n",
              "      <th>44</th>\n",
              "      <td>Acima de 75 anos</td>\n",
              "      <td>0</td>\n",
              "      <td>30925.5</td>\n",
              "      <td>0.016</td>\n",
              "      <td>2.39</td>\n",
              "      <td>2.01</td>\n",
              "    </tr>\n",
              "    <tr>\n",
              "      <th>46</th>\n",
              "      <td>Acima de 75 anos</td>\n",
              "      <td>2</td>\n",
              "      <td>31002.0</td>\n",
              "      <td>0.017</td>\n",
              "      <td>2.08</td>\n",
              "      <td>1.59</td>\n",
              "    </tr>\n",
              "    <tr>\n",
              "      <th>47</th>\n",
              "      <td>Acima de 75 anos</td>\n",
              "      <td>3</td>\n",
              "      <td>30970.0</td>\n",
              "      <td>0.018</td>\n",
              "      <td>2.08</td>\n",
              "      <td>1.59</td>\n",
              "    </tr>\n",
              "  </tbody>\n",
              "</table>\n",
              "</div>"
            ],
            "text/plain": [
              "                 Group  Lag  U Statistic      P  Mean event  Mean control\n",
              "9         Todas idades    9      30172.0  0.034        6.10          7.08\n",
              "31  Entre 40 e 65 anos    9      25221.5  0.003        2.24          3.09\n",
              "33    Acima de 65 anos    0      40534.0  0.045        4.38          3.73\n",
              "44    Acima de 75 anos    0      30925.5  0.016        2.39          2.01\n",
              "46    Acima de 75 anos    2      31002.0  0.017        2.08          1.59\n",
              "47    Acima de 75 anos    3      30970.0  0.018        2.08          1.59"
            ]
          },
          "metadata": {},
          "execution_count": 28
        }
      ]
    },
    {
      "cell_type": "markdown",
      "metadata": {
        "id": "527hVya4OB5R"
      },
      "source": [
        "####**Age and sex**"
      ]
    },
    {
      "cell_type": "code",
      "metadata": {
        "id": "G9gx7N2mOB5S",
        "colab": {
          "base_uri": "https://localhost:8080/",
          "height": 235
        },
        "outputId": "f19e97e6-e3e6-4d8f-ca78-4523d6885bd3"
      },
      "source": [
        "get_mann_whitney_lag(df,'LPW','age and sex')"
      ],
      "execution_count": null,
      "outputs": [
        {
          "output_type": "execute_result",
          "data": {
            "text/html": [
              "<div>\n",
              "<style scoped>\n",
              "    .dataframe tbody tr th:only-of-type {\n",
              "        vertical-align: middle;\n",
              "    }\n",
              "\n",
              "    .dataframe tbody tr th {\n",
              "        vertical-align: top;\n",
              "    }\n",
              "\n",
              "    .dataframe thead th {\n",
              "        text-align: right;\n",
              "    }\n",
              "</style>\n",
              "<table border=\"1\" class=\"dataframe\">\n",
              "  <thead>\n",
              "    <tr style=\"text-align: right;\">\n",
              "      <th></th>\n",
              "      <th>Group</th>\n",
              "      <th>Lag</th>\n",
              "      <th>U Statistic</th>\n",
              "      <th>P</th>\n",
              "      <th>Mean event</th>\n",
              "      <th>Mean control</th>\n",
              "    </tr>\n",
              "  </thead>\n",
              "  <tbody>\n",
              "    <tr>\n",
              "      <th>9</th>\n",
              "      <td>Todas idades</td>\n",
              "      <td>9</td>\n",
              "      <td>30172.0</td>\n",
              "      <td>0.034</td>\n",
              "      <td>6.10</td>\n",
              "      <td>7.08</td>\n",
              "    </tr>\n",
              "    <tr>\n",
              "      <th>11</th>\n",
              "      <td>Mulheres entre 20 e 65 anos</td>\n",
              "      <td>0</td>\n",
              "      <td>15205.0</td>\n",
              "      <td>0.010</td>\n",
              "      <td>1.42</td>\n",
              "      <td>1.88</td>\n",
              "    </tr>\n",
              "    <tr>\n",
              "      <th>18</th>\n",
              "      <td>Mulheres entre 20 e 65 anos</td>\n",
              "      <td>7</td>\n",
              "      <td>16094.5</td>\n",
              "      <td>0.042</td>\n",
              "      <td>0.94</td>\n",
              "      <td>1.41</td>\n",
              "    </tr>\n",
              "    <tr>\n",
              "      <th>31</th>\n",
              "      <td>Homens entre 20 e 65 anos</td>\n",
              "      <td>9</td>\n",
              "      <td>22324.5</td>\n",
              "      <td>0.017</td>\n",
              "      <td>1.53</td>\n",
              "      <td>2.09</td>\n",
              "    </tr>\n",
              "    <tr>\n",
              "      <th>33</th>\n",
              "      <td>Mulheres acima de 65 anos</td>\n",
              "      <td>0</td>\n",
              "      <td>31297.5</td>\n",
              "      <td>0.014</td>\n",
              "      <td>2.69</td>\n",
              "      <td>2.14</td>\n",
              "    </tr>\n",
              "    <tr>\n",
              "      <th>51</th>\n",
              "      <td>Homens acima de 65 anos</td>\n",
              "      <td>7</td>\n",
              "      <td>21436.5</td>\n",
              "      <td>0.046</td>\n",
              "      <td>1.42</td>\n",
              "      <td>1.88</td>\n",
              "    </tr>\n",
              "  </tbody>\n",
              "</table>\n",
              "</div>"
            ],
            "text/plain": [
              "                          Group  Lag  ...  Mean event  Mean control\n",
              "9                  Todas idades    9  ...        6.10          7.08\n",
              "11  Mulheres entre 20 e 65 anos    0  ...        1.42          1.88\n",
              "18  Mulheres entre 20 e 65 anos    7  ...        0.94          1.41\n",
              "31    Homens entre 20 e 65 anos    9  ...        1.53          2.09\n",
              "33    Mulheres acima de 65 anos    0  ...        2.69          2.14\n",
              "51      Homens acima de 65 anos    7  ...        1.42          1.88\n",
              "\n",
              "[6 rows x 6 columns]"
            ]
          },
          "metadata": {},
          "execution_count": 29
        }
      ]
    },
    {
      "cell_type": "markdown",
      "metadata": {
        "id": "wEqEOkPM3F66"
      },
      "source": [
        "###**High pressure waves**"
      ]
    },
    {
      "cell_type": "markdown",
      "metadata": {
        "id": "UUR3u77L3F7O"
      },
      "source": [
        "####**Sex**"
      ]
    },
    {
      "cell_type": "code",
      "metadata": {
        "colab": {
          "base_uri": "https://localhost:8080/",
          "height": 49
        },
        "id": "edbwEL1h3F7P",
        "outputId": "6409443b-cc4b-41a2-a378-455fb02dc85e"
      },
      "source": [
        "get_mann_whitney_lag(df,'HPW','sex')"
      ],
      "execution_count": null,
      "outputs": [
        {
          "output_type": "execute_result",
          "data": {
            "text/html": [
              "<div>\n",
              "<style scoped>\n",
              "    .dataframe tbody tr th:only-of-type {\n",
              "        vertical-align: middle;\n",
              "    }\n",
              "\n",
              "    .dataframe tbody tr th {\n",
              "        vertical-align: top;\n",
              "    }\n",
              "\n",
              "    .dataframe thead th {\n",
              "        text-align: right;\n",
              "    }\n",
              "</style>\n",
              "<table border=\"1\" class=\"dataframe\">\n",
              "  <thead>\n",
              "    <tr style=\"text-align: right;\">\n",
              "      <th></th>\n",
              "      <th>Group</th>\n",
              "      <th>Lag</th>\n",
              "      <th>U Statistic</th>\n",
              "      <th>P</th>\n",
              "      <th>Mean event</th>\n",
              "      <th>Mean control</th>\n",
              "    </tr>\n",
              "  </thead>\n",
              "  <tbody>\n",
              "  </tbody>\n",
              "</table>\n",
              "</div>"
            ],
            "text/plain": [
              "Empty DataFrame\n",
              "Columns: [Group, Lag, U Statistic, P, Mean event, Mean control]\n",
              "Index: []"
            ]
          },
          "metadata": {},
          "execution_count": 30
        }
      ]
    },
    {
      "cell_type": "markdown",
      "metadata": {
        "id": "uAuPq2uB3F7Q"
      },
      "source": [
        "####**Age**"
      ]
    },
    {
      "cell_type": "code",
      "metadata": {
        "colab": {
          "base_uri": "https://localhost:8080/",
          "height": 49
        },
        "id": "_Ykz5EPP3F7Q",
        "outputId": "132bac94-c489-4187-f5ea-4125e3ed1680"
      },
      "source": [
        "get_mann_whitney_lag(df,'HPW','age')"
      ],
      "execution_count": null,
      "outputs": [
        {
          "output_type": "execute_result",
          "data": {
            "text/html": [
              "<div>\n",
              "<style scoped>\n",
              "    .dataframe tbody tr th:only-of-type {\n",
              "        vertical-align: middle;\n",
              "    }\n",
              "\n",
              "    .dataframe tbody tr th {\n",
              "        vertical-align: top;\n",
              "    }\n",
              "\n",
              "    .dataframe thead th {\n",
              "        text-align: right;\n",
              "    }\n",
              "</style>\n",
              "<table border=\"1\" class=\"dataframe\">\n",
              "  <thead>\n",
              "    <tr style=\"text-align: right;\">\n",
              "      <th></th>\n",
              "      <th>Group</th>\n",
              "      <th>Lag</th>\n",
              "      <th>U Statistic</th>\n",
              "      <th>P</th>\n",
              "      <th>Mean event</th>\n",
              "      <th>Mean control</th>\n",
              "    </tr>\n",
              "  </thead>\n",
              "  <tbody>\n",
              "  </tbody>\n",
              "</table>\n",
              "</div>"
            ],
            "text/plain": [
              "Empty DataFrame\n",
              "Columns: [Group, Lag, U Statistic, P, Mean event, Mean control]\n",
              "Index: []"
            ]
          },
          "metadata": {},
          "execution_count": 31
        }
      ]
    },
    {
      "cell_type": "markdown",
      "metadata": {
        "id": "3zrR9U3j3F7Q"
      },
      "source": [
        "####**Age and sex**"
      ]
    },
    {
      "cell_type": "code",
      "metadata": {
        "colab": {
          "base_uri": "https://localhost:8080/",
          "height": 49
        },
        "id": "99a0EhST3F7R",
        "outputId": "1ac1c90c-8b64-42f4-af45-4f725fd88257"
      },
      "source": [
        "get_mann_whitney_lag(df,'HPW','age and sex')"
      ],
      "execution_count": null,
      "outputs": [
        {
          "output_type": "execute_result",
          "data": {
            "text/html": [
              "<div>\n",
              "<style scoped>\n",
              "    .dataframe tbody tr th:only-of-type {\n",
              "        vertical-align: middle;\n",
              "    }\n",
              "\n",
              "    .dataframe tbody tr th {\n",
              "        vertical-align: top;\n",
              "    }\n",
              "\n",
              "    .dataframe thead th {\n",
              "        text-align: right;\n",
              "    }\n",
              "</style>\n",
              "<table border=\"1\" class=\"dataframe\">\n",
              "  <thead>\n",
              "    <tr style=\"text-align: right;\">\n",
              "      <th></th>\n",
              "      <th>Group</th>\n",
              "      <th>Lag</th>\n",
              "      <th>U Statistic</th>\n",
              "      <th>P</th>\n",
              "      <th>Mean event</th>\n",
              "      <th>Mean control</th>\n",
              "    </tr>\n",
              "  </thead>\n",
              "  <tbody>\n",
              "  </tbody>\n",
              "</table>\n",
              "</div>"
            ],
            "text/plain": [
              "Empty DataFrame\n",
              "Columns: [Group, Lag, U Statistic, P, Mean event, Mean control]\n",
              "Index: []"
            ]
          },
          "metadata": {},
          "execution_count": 32
        }
      ]
    },
    {
      "cell_type": "markdown",
      "metadata": {
        "id": "cMH4SSe_Pyd4"
      },
      "source": [
        "###**Extreme pressure difference between days**"
      ]
    },
    {
      "cell_type": "markdown",
      "metadata": {
        "id": "Mi4-VnZ9PyeE"
      },
      "source": [
        "####**Sex**"
      ]
    },
    {
      "cell_type": "code",
      "metadata": {
        "id": "hWRDXQx1PyeF",
        "colab": {
          "base_uri": "https://localhost:8080/",
          "height": 49
        },
        "outputId": "f3e479bc-a57c-4fbe-d7a5-b41dae111ea2"
      },
      "source": [
        "get_mann_whitney_lag(df,'above_pressure_dif', 'sex')"
      ],
      "execution_count": null,
      "outputs": [
        {
          "output_type": "execute_result",
          "data": {
            "text/html": [
              "<div>\n",
              "<style scoped>\n",
              "    .dataframe tbody tr th:only-of-type {\n",
              "        vertical-align: middle;\n",
              "    }\n",
              "\n",
              "    .dataframe tbody tr th {\n",
              "        vertical-align: top;\n",
              "    }\n",
              "\n",
              "    .dataframe thead th {\n",
              "        text-align: right;\n",
              "    }\n",
              "</style>\n",
              "<table border=\"1\" class=\"dataframe\">\n",
              "  <thead>\n",
              "    <tr style=\"text-align: right;\">\n",
              "      <th></th>\n",
              "      <th>Group</th>\n",
              "      <th>Lag</th>\n",
              "      <th>U Statistic</th>\n",
              "      <th>P</th>\n",
              "      <th>Mean event</th>\n",
              "      <th>Mean control</th>\n",
              "    </tr>\n",
              "  </thead>\n",
              "  <tbody>\n",
              "  </tbody>\n",
              "</table>\n",
              "</div>"
            ],
            "text/plain": [
              "Empty DataFrame\n",
              "Columns: [Group, Lag, U Statistic, P, Mean event, Mean control]\n",
              "Index: []"
            ]
          },
          "metadata": {},
          "execution_count": 33
        }
      ]
    },
    {
      "cell_type": "markdown",
      "metadata": {
        "id": "OonPr487PyeG"
      },
      "source": [
        "####**Age**"
      ]
    },
    {
      "cell_type": "code",
      "metadata": {
        "id": "4iQmLHzgPyeG",
        "colab": {
          "base_uri": "https://localhost:8080/",
          "height": 111
        },
        "outputId": "3a82e2bd-c7d1-4996-a502-b24b189fea38"
      },
      "source": [
        "get_mann_whitney_lag(df,'above_pressure_dif','age')"
      ],
      "execution_count": null,
      "outputs": [
        {
          "output_type": "execute_result",
          "data": {
            "text/html": [
              "<div>\n",
              "<style scoped>\n",
              "    .dataframe tbody tr th:only-of-type {\n",
              "        vertical-align: middle;\n",
              "    }\n",
              "\n",
              "    .dataframe tbody tr th {\n",
              "        vertical-align: top;\n",
              "    }\n",
              "\n",
              "    .dataframe thead th {\n",
              "        text-align: right;\n",
              "    }\n",
              "</style>\n",
              "<table border=\"1\" class=\"dataframe\">\n",
              "  <thead>\n",
              "    <tr style=\"text-align: right;\">\n",
              "      <th></th>\n",
              "      <th>Group</th>\n",
              "      <th>Lag</th>\n",
              "      <th>U Statistic</th>\n",
              "      <th>P</th>\n",
              "      <th>Mean event</th>\n",
              "      <th>Mean control</th>\n",
              "    </tr>\n",
              "  </thead>\n",
              "  <tbody>\n",
              "    <tr>\n",
              "      <th>30</th>\n",
              "      <td>Entre 40 e 65 anos</td>\n",
              "      <td>8</td>\n",
              "      <td>118434.5</td>\n",
              "      <td>0.046</td>\n",
              "      <td>2.85</td>\n",
              "      <td>3.13</td>\n",
              "    </tr>\n",
              "    <tr>\n",
              "      <th>54</th>\n",
              "      <td>Acima de 75 anos</td>\n",
              "      <td>10</td>\n",
              "      <td>82209.5</td>\n",
              "      <td>0.032</td>\n",
              "      <td>1.42</td>\n",
              "      <td>1.63</td>\n",
              "    </tr>\n",
              "  </tbody>\n",
              "</table>\n",
              "</div>"
            ],
            "text/plain": [
              "                 Group  Lag  U Statistic      P  Mean event  Mean control\n",
              "30  Entre 40 e 65 anos    8     118434.5  0.046        2.85          3.13\n",
              "54    Acima de 75 anos   10      82209.5  0.032        1.42          1.63"
            ]
          },
          "metadata": {},
          "execution_count": 34
        }
      ]
    },
    {
      "cell_type": "markdown",
      "metadata": {
        "id": "KDMZz5JpPyeG"
      },
      "source": [
        "####**Age and sex**"
      ]
    },
    {
      "cell_type": "code",
      "metadata": {
        "id": "hMOGyZ8DPyeH",
        "colab": {
          "base_uri": "https://localhost:8080/",
          "height": 80
        },
        "outputId": "bc01514f-fd17-444a-b9b5-669ba24bfc50"
      },
      "source": [
        "get_mann_whitney_lag(df,'above_pressure_dif', 'age and sex')"
      ],
      "execution_count": null,
      "outputs": [
        {
          "output_type": "execute_result",
          "data": {
            "text/html": [
              "<div>\n",
              "<style scoped>\n",
              "    .dataframe tbody tr th:only-of-type {\n",
              "        vertical-align: middle;\n",
              "    }\n",
              "\n",
              "    .dataframe tbody tr th {\n",
              "        vertical-align: top;\n",
              "    }\n",
              "\n",
              "    .dataframe thead th {\n",
              "        text-align: right;\n",
              "    }\n",
              "</style>\n",
              "<table border=\"1\" class=\"dataframe\">\n",
              "  <thead>\n",
              "    <tr style=\"text-align: right;\">\n",
              "      <th></th>\n",
              "      <th>Group</th>\n",
              "      <th>Lag</th>\n",
              "      <th>U Statistic</th>\n",
              "      <th>P</th>\n",
              "      <th>Mean event</th>\n",
              "      <th>Mean control</th>\n",
              "    </tr>\n",
              "  </thead>\n",
              "  <tbody>\n",
              "    <tr>\n",
              "      <th>13</th>\n",
              "      <td>Mulheres entre 20 e 65 anos</td>\n",
              "      <td>2</td>\n",
              "      <td>71022.0</td>\n",
              "      <td>0.005</td>\n",
              "      <td>1.13</td>\n",
              "      <td>1.38</td>\n",
              "    </tr>\n",
              "  </tbody>\n",
              "</table>\n",
              "</div>"
            ],
            "text/plain": [
              "                          Group  Lag  ...  Mean event  Mean control\n",
              "13  Mulheres entre 20 e 65 anos    2  ...        1.13          1.38\n",
              "\n",
              "[1 rows x 6 columns]"
            ]
          },
          "metadata": {},
          "execution_count": 35
        }
      ]
    },
    {
      "cell_type": "markdown",
      "metadata": {
        "id": "73Q4b6UiLLFH"
      },
      "source": [
        "##**Humidity**"
      ]
    },
    {
      "cell_type": "markdown",
      "metadata": {
        "id": "xffUzma_LdbC"
      },
      "source": [
        "###**Low humidity waves**"
      ]
    },
    {
      "cell_type": "markdown",
      "metadata": {
        "id": "qb4fMwIoLxJS"
      },
      "source": [
        "####**Sex**"
      ]
    },
    {
      "cell_type": "code",
      "metadata": {
        "colab": {
          "base_uri": "https://localhost:8080/",
          "height": 545
        },
        "id": "1Hwh22rBKOo2",
        "outputId": "0547e66b-cb70-4e04-a3d5-d50ee1045921"
      },
      "source": [
        "get_mann_whitney_lag(df,'LHW', 'sex')"
      ],
      "execution_count": null,
      "outputs": [
        {
          "output_type": "execute_result",
          "data": {
            "text/html": [
              "<div>\n",
              "<style scoped>\n",
              "    .dataframe tbody tr th:only-of-type {\n",
              "        vertical-align: middle;\n",
              "    }\n",
              "\n",
              "    .dataframe tbody tr th {\n",
              "        vertical-align: top;\n",
              "    }\n",
              "\n",
              "    .dataframe thead th {\n",
              "        text-align: right;\n",
              "    }\n",
              "</style>\n",
              "<table border=\"1\" class=\"dataframe\">\n",
              "  <thead>\n",
              "    <tr style=\"text-align: right;\">\n",
              "      <th></th>\n",
              "      <th>Group</th>\n",
              "      <th>Lag</th>\n",
              "      <th>U Statistic</th>\n",
              "      <th>P</th>\n",
              "      <th>Mean event</th>\n",
              "      <th>Mean control</th>\n",
              "    </tr>\n",
              "  </thead>\n",
              "  <tbody>\n",
              "    <tr>\n",
              "      <th>0</th>\n",
              "      <td>Todos</td>\n",
              "      <td>0</td>\n",
              "      <td>100510.5</td>\n",
              "      <td>0.021</td>\n",
              "      <td>6.49</td>\n",
              "      <td>7.10</td>\n",
              "    </tr>\n",
              "    <tr>\n",
              "      <th>1</th>\n",
              "      <td>Todos</td>\n",
              "      <td>1</td>\n",
              "      <td>98269.0</td>\n",
              "      <td>0.007</td>\n",
              "      <td>6.45</td>\n",
              "      <td>7.10</td>\n",
              "    </tr>\n",
              "    <tr>\n",
              "      <th>3</th>\n",
              "      <td>Todos</td>\n",
              "      <td>3</td>\n",
              "      <td>100204.5</td>\n",
              "      <td>0.020</td>\n",
              "      <td>6.46</td>\n",
              "      <td>7.10</td>\n",
              "    </tr>\n",
              "    <tr>\n",
              "      <th>4</th>\n",
              "      <td>Todos</td>\n",
              "      <td>4</td>\n",
              "      <td>99186.0</td>\n",
              "      <td>0.012</td>\n",
              "      <td>6.46</td>\n",
              "      <td>7.10</td>\n",
              "    </tr>\n",
              "    <tr>\n",
              "      <th>5</th>\n",
              "      <td>Todos</td>\n",
              "      <td>5</td>\n",
              "      <td>101395.0</td>\n",
              "      <td>0.035</td>\n",
              "      <td>6.57</td>\n",
              "      <td>7.09</td>\n",
              "    </tr>\n",
              "    <tr>\n",
              "      <th>6</th>\n",
              "      <td>Todos</td>\n",
              "      <td>6</td>\n",
              "      <td>102188.0</td>\n",
              "      <td>0.049</td>\n",
              "      <td>6.60</td>\n",
              "      <td>7.10</td>\n",
              "    </tr>\n",
              "    <tr>\n",
              "      <th>7</th>\n",
              "      <td>Todos</td>\n",
              "      <td>7</td>\n",
              "      <td>101191.0</td>\n",
              "      <td>0.034</td>\n",
              "      <td>6.47</td>\n",
              "      <td>7.11</td>\n",
              "    </tr>\n",
              "    <tr>\n",
              "      <th>22</th>\n",
              "      <td>Homens</td>\n",
              "      <td>0</td>\n",
              "      <td>94873.0</td>\n",
              "      <td>0.047</td>\n",
              "      <td>3.67</td>\n",
              "      <td>4.06</td>\n",
              "    </tr>\n",
              "    <tr>\n",
              "      <th>23</th>\n",
              "      <td>Homens</td>\n",
              "      <td>1</td>\n",
              "      <td>92298.5</td>\n",
              "      <td>0.015</td>\n",
              "      <td>3.50</td>\n",
              "      <td>3.95</td>\n",
              "    </tr>\n",
              "    <tr>\n",
              "      <th>24</th>\n",
              "      <td>Homens</td>\n",
              "      <td>2</td>\n",
              "      <td>94622.0</td>\n",
              "      <td>0.045</td>\n",
              "      <td>3.53</td>\n",
              "      <td>3.92</td>\n",
              "    </tr>\n",
              "    <tr>\n",
              "      <th>25</th>\n",
              "      <td>Homens</td>\n",
              "      <td>3</td>\n",
              "      <td>90426.0</td>\n",
              "      <td>0.006</td>\n",
              "      <td>3.46</td>\n",
              "      <td>3.97</td>\n",
              "    </tr>\n",
              "    <tr>\n",
              "      <th>26</th>\n",
              "      <td>Homens</td>\n",
              "      <td>4</td>\n",
              "      <td>87421.5</td>\n",
              "      <td>0.001</td>\n",
              "      <td>3.33</td>\n",
              "      <td>3.95</td>\n",
              "    </tr>\n",
              "    <tr>\n",
              "      <th>27</th>\n",
              "      <td>Homens</td>\n",
              "      <td>5</td>\n",
              "      <td>85531.0</td>\n",
              "      <td>0.000</td>\n",
              "      <td>3.25</td>\n",
              "      <td>3.95</td>\n",
              "    </tr>\n",
              "    <tr>\n",
              "      <th>28</th>\n",
              "      <td>Homens</td>\n",
              "      <td>6</td>\n",
              "      <td>91987.5</td>\n",
              "      <td>0.015</td>\n",
              "      <td>3.53</td>\n",
              "      <td>3.97</td>\n",
              "    </tr>\n",
              "    <tr>\n",
              "      <th>31</th>\n",
              "      <td>Homens</td>\n",
              "      <td>9</td>\n",
              "      <td>94528.0</td>\n",
              "      <td>0.050</td>\n",
              "      <td>3.55</td>\n",
              "      <td>3.95</td>\n",
              "    </tr>\n",
              "    <tr>\n",
              "      <th>32</th>\n",
              "      <td>Homens</td>\n",
              "      <td>10</td>\n",
              "      <td>91511.0</td>\n",
              "      <td>0.012</td>\n",
              "      <td>3.43</td>\n",
              "      <td>3.95</td>\n",
              "    </tr>\n",
              "  </tbody>\n",
              "</table>\n",
              "</div>"
            ],
            "text/plain": [
              "     Group  Lag  U Statistic      P  Mean event  Mean control\n",
              "0    Todos    0     100510.5  0.021        6.49          7.10\n",
              "1    Todos    1      98269.0  0.007        6.45          7.10\n",
              "3    Todos    3     100204.5  0.020        6.46          7.10\n",
              "4    Todos    4      99186.0  0.012        6.46          7.10\n",
              "5    Todos    5     101395.0  0.035        6.57          7.09\n",
              "6    Todos    6     102188.0  0.049        6.60          7.10\n",
              "7    Todos    7     101191.0  0.034        6.47          7.11\n",
              "22  Homens    0      94873.0  0.047        3.67          4.06\n",
              "23  Homens    1      92298.5  0.015        3.50          3.95\n",
              "24  Homens    2      94622.0  0.045        3.53          3.92\n",
              "25  Homens    3      90426.0  0.006        3.46          3.97\n",
              "26  Homens    4      87421.5  0.001        3.33          3.95\n",
              "27  Homens    5      85531.0  0.000        3.25          3.95\n",
              "28  Homens    6      91987.5  0.015        3.53          3.97\n",
              "31  Homens    9      94528.0  0.050        3.55          3.95\n",
              "32  Homens   10      91511.0  0.012        3.43          3.95"
            ]
          },
          "metadata": {},
          "execution_count": 36
        }
      ]
    },
    {
      "cell_type": "markdown",
      "metadata": {
        "id": "7_FHNPGsMCLA"
      },
      "source": [
        "####**Age**"
      ]
    },
    {
      "cell_type": "code",
      "metadata": {
        "id": "3CUBxAxLMDjV",
        "colab": {
          "base_uri": "https://localhost:8080/",
          "height": 390
        },
        "outputId": "fbf1fd82-464a-4e15-bbce-0f45884787cf"
      },
      "source": [
        "get_mann_whitney_lag(df,'LHW','age')"
      ],
      "execution_count": null,
      "outputs": [
        {
          "output_type": "execute_result",
          "data": {
            "text/html": [
              "<div>\n",
              "<style scoped>\n",
              "    .dataframe tbody tr th:only-of-type {\n",
              "        vertical-align: middle;\n",
              "    }\n",
              "\n",
              "    .dataframe tbody tr th {\n",
              "        vertical-align: top;\n",
              "    }\n",
              "\n",
              "    .dataframe thead th {\n",
              "        text-align: right;\n",
              "    }\n",
              "</style>\n",
              "<table border=\"1\" class=\"dataframe\">\n",
              "  <thead>\n",
              "    <tr style=\"text-align: right;\">\n",
              "      <th></th>\n",
              "      <th>Group</th>\n",
              "      <th>Lag</th>\n",
              "      <th>U Statistic</th>\n",
              "      <th>P</th>\n",
              "      <th>Mean event</th>\n",
              "      <th>Mean control</th>\n",
              "    </tr>\n",
              "  </thead>\n",
              "  <tbody>\n",
              "    <tr>\n",
              "      <th>0</th>\n",
              "      <td>Todas idades</td>\n",
              "      <td>0</td>\n",
              "      <td>100510.5</td>\n",
              "      <td>0.021</td>\n",
              "      <td>6.49</td>\n",
              "      <td>7.10</td>\n",
              "    </tr>\n",
              "    <tr>\n",
              "      <th>1</th>\n",
              "      <td>Todas idades</td>\n",
              "      <td>1</td>\n",
              "      <td>98269.0</td>\n",
              "      <td>0.007</td>\n",
              "      <td>6.45</td>\n",
              "      <td>7.10</td>\n",
              "    </tr>\n",
              "    <tr>\n",
              "      <th>3</th>\n",
              "      <td>Todas idades</td>\n",
              "      <td>3</td>\n",
              "      <td>100204.5</td>\n",
              "      <td>0.020</td>\n",
              "      <td>6.46</td>\n",
              "      <td>7.10</td>\n",
              "    </tr>\n",
              "    <tr>\n",
              "      <th>4</th>\n",
              "      <td>Todas idades</td>\n",
              "      <td>4</td>\n",
              "      <td>99186.0</td>\n",
              "      <td>0.012</td>\n",
              "      <td>6.46</td>\n",
              "      <td>7.10</td>\n",
              "    </tr>\n",
              "    <tr>\n",
              "      <th>5</th>\n",
              "      <td>Todas idades</td>\n",
              "      <td>5</td>\n",
              "      <td>101395.0</td>\n",
              "      <td>0.035</td>\n",
              "      <td>6.57</td>\n",
              "      <td>7.09</td>\n",
              "    </tr>\n",
              "    <tr>\n",
              "      <th>6</th>\n",
              "      <td>Todas idades</td>\n",
              "      <td>6</td>\n",
              "      <td>102188.0</td>\n",
              "      <td>0.049</td>\n",
              "      <td>6.60</td>\n",
              "      <td>7.10</td>\n",
              "    </tr>\n",
              "    <tr>\n",
              "      <th>7</th>\n",
              "      <td>Todas idades</td>\n",
              "      <td>7</td>\n",
              "      <td>101191.0</td>\n",
              "      <td>0.034</td>\n",
              "      <td>6.47</td>\n",
              "      <td>7.11</td>\n",
              "    </tr>\n",
              "    <tr>\n",
              "      <th>21</th>\n",
              "      <td>Entre 20 e 40 anos</td>\n",
              "      <td>10</td>\n",
              "      <td>7194.5</td>\n",
              "      <td>0.039</td>\n",
              "      <td>0.16</td>\n",
              "      <td>0.33</td>\n",
              "    </tr>\n",
              "    <tr>\n",
              "      <th>23</th>\n",
              "      <td>Entre 40 e 65 anos</td>\n",
              "      <td>1</td>\n",
              "      <td>84485.0</td>\n",
              "      <td>0.018</td>\n",
              "      <td>2.72</td>\n",
              "      <td>3.15</td>\n",
              "    </tr>\n",
              "    <tr>\n",
              "      <th>25</th>\n",
              "      <td>Entre 40 e 65 anos</td>\n",
              "      <td>3</td>\n",
              "      <td>82309.0</td>\n",
              "      <td>0.006</td>\n",
              "      <td>2.65</td>\n",
              "      <td>3.15</td>\n",
              "    </tr>\n",
              "    <tr>\n",
              "      <th>26</th>\n",
              "      <td>Entre 40 e 65 anos</td>\n",
              "      <td>4</td>\n",
              "      <td>84216.0</td>\n",
              "      <td>0.017</td>\n",
              "      <td>2.72</td>\n",
              "      <td>3.13</td>\n",
              "    </tr>\n",
              "  </tbody>\n",
              "</table>\n",
              "</div>"
            ],
            "text/plain": [
              "                 Group  Lag  U Statistic      P  Mean event  Mean control\n",
              "0         Todas idades    0     100510.5  0.021        6.49          7.10\n",
              "1         Todas idades    1      98269.0  0.007        6.45          7.10\n",
              "3         Todas idades    3     100204.5  0.020        6.46          7.10\n",
              "4         Todas idades    4      99186.0  0.012        6.46          7.10\n",
              "5         Todas idades    5     101395.0  0.035        6.57          7.09\n",
              "6         Todas idades    6     102188.0  0.049        6.60          7.10\n",
              "7         Todas idades    7     101191.0  0.034        6.47          7.11\n",
              "21  Entre 20 e 40 anos   10       7194.5  0.039        0.16          0.33\n",
              "23  Entre 40 e 65 anos    1      84485.0  0.018        2.72          3.15\n",
              "25  Entre 40 e 65 anos    3      82309.0  0.006        2.65          3.15\n",
              "26  Entre 40 e 65 anos    4      84216.0  0.017        2.72          3.13"
            ]
          },
          "metadata": {},
          "execution_count": 37
        }
      ]
    },
    {
      "cell_type": "markdown",
      "metadata": {
        "id": "yInx-4C0MGjJ"
      },
      "source": [
        "####**Age and sex**"
      ]
    },
    {
      "cell_type": "code",
      "metadata": {
        "id": "wzxb0Z5RMI56",
        "colab": {
          "base_uri": "https://localhost:8080/",
          "height": 514
        },
        "outputId": "027f2441-7be2-4363-af44-92266141ea4c"
      },
      "source": [
        "get_mann_whitney_lag(df,'LHW', 'age and sex')"
      ],
      "execution_count": null,
      "outputs": [
        {
          "output_type": "execute_result",
          "data": {
            "text/html": [
              "<div>\n",
              "<style scoped>\n",
              "    .dataframe tbody tr th:only-of-type {\n",
              "        vertical-align: middle;\n",
              "    }\n",
              "\n",
              "    .dataframe tbody tr th {\n",
              "        vertical-align: top;\n",
              "    }\n",
              "\n",
              "    .dataframe thead th {\n",
              "        text-align: right;\n",
              "    }\n",
              "</style>\n",
              "<table border=\"1\" class=\"dataframe\">\n",
              "  <thead>\n",
              "    <tr style=\"text-align: right;\">\n",
              "      <th></th>\n",
              "      <th>Group</th>\n",
              "      <th>Lag</th>\n",
              "      <th>U Statistic</th>\n",
              "      <th>P</th>\n",
              "      <th>Mean event</th>\n",
              "      <th>Mean control</th>\n",
              "    </tr>\n",
              "  </thead>\n",
              "  <tbody>\n",
              "    <tr>\n",
              "      <th>0</th>\n",
              "      <td>Todas idades</td>\n",
              "      <td>0</td>\n",
              "      <td>100510.5</td>\n",
              "      <td>0.021</td>\n",
              "      <td>6.49</td>\n",
              "      <td>7.10</td>\n",
              "    </tr>\n",
              "    <tr>\n",
              "      <th>1</th>\n",
              "      <td>Todas idades</td>\n",
              "      <td>1</td>\n",
              "      <td>98269.0</td>\n",
              "      <td>0.007</td>\n",
              "      <td>6.45</td>\n",
              "      <td>7.10</td>\n",
              "    </tr>\n",
              "    <tr>\n",
              "      <th>3</th>\n",
              "      <td>Todas idades</td>\n",
              "      <td>3</td>\n",
              "      <td>100204.5</td>\n",
              "      <td>0.020</td>\n",
              "      <td>6.46</td>\n",
              "      <td>7.10</td>\n",
              "    </tr>\n",
              "    <tr>\n",
              "      <th>4</th>\n",
              "      <td>Todas idades</td>\n",
              "      <td>4</td>\n",
              "      <td>99186.0</td>\n",
              "      <td>0.012</td>\n",
              "      <td>6.46</td>\n",
              "      <td>7.10</td>\n",
              "    </tr>\n",
              "    <tr>\n",
              "      <th>5</th>\n",
              "      <td>Todas idades</td>\n",
              "      <td>5</td>\n",
              "      <td>101395.0</td>\n",
              "      <td>0.035</td>\n",
              "      <td>6.57</td>\n",
              "      <td>7.09</td>\n",
              "    </tr>\n",
              "    <tr>\n",
              "      <th>6</th>\n",
              "      <td>Todas idades</td>\n",
              "      <td>6</td>\n",
              "      <td>102188.0</td>\n",
              "      <td>0.049</td>\n",
              "      <td>6.60</td>\n",
              "      <td>7.10</td>\n",
              "    </tr>\n",
              "    <tr>\n",
              "      <th>7</th>\n",
              "      <td>Todas idades</td>\n",
              "      <td>7</td>\n",
              "      <td>101191.0</td>\n",
              "      <td>0.034</td>\n",
              "      <td>6.47</td>\n",
              "      <td>7.11</td>\n",
              "    </tr>\n",
              "    <tr>\n",
              "      <th>12</th>\n",
              "      <td>Mulheres entre 20 e 65 anos</td>\n",
              "      <td>1</td>\n",
              "      <td>53484.0</td>\n",
              "      <td>0.035</td>\n",
              "      <td>1.14</td>\n",
              "      <td>1.43</td>\n",
              "    </tr>\n",
              "    <tr>\n",
              "      <th>48</th>\n",
              "      <td>Homens acima de 65 anos</td>\n",
              "      <td>4</td>\n",
              "      <td>65675.5</td>\n",
              "      <td>0.019</td>\n",
              "      <td>1.51</td>\n",
              "      <td>1.88</td>\n",
              "    </tr>\n",
              "    <tr>\n",
              "      <th>49</th>\n",
              "      <td>Homens acima de 65 anos</td>\n",
              "      <td>5</td>\n",
              "      <td>62019.5</td>\n",
              "      <td>0.001</td>\n",
              "      <td>1.42</td>\n",
              "      <td>1.90</td>\n",
              "    </tr>\n",
              "    <tr>\n",
              "      <th>50</th>\n",
              "      <td>Homens acima de 65 anos</td>\n",
              "      <td>6</td>\n",
              "      <td>61373.5</td>\n",
              "      <td>0.001</td>\n",
              "      <td>1.44</td>\n",
              "      <td>1.93</td>\n",
              "    </tr>\n",
              "    <tr>\n",
              "      <th>51</th>\n",
              "      <td>Homens acima de 65 anos</td>\n",
              "      <td>7</td>\n",
              "      <td>66768.0</td>\n",
              "      <td>0.040</td>\n",
              "      <td>1.56</td>\n",
              "      <td>1.89</td>\n",
              "    </tr>\n",
              "    <tr>\n",
              "      <th>52</th>\n",
              "      <td>Homens acima de 65 anos</td>\n",
              "      <td>8</td>\n",
              "      <td>65652.0</td>\n",
              "      <td>0.021</td>\n",
              "      <td>1.55</td>\n",
              "      <td>1.88</td>\n",
              "    </tr>\n",
              "    <tr>\n",
              "      <th>53</th>\n",
              "      <td>Homens acima de 65 anos</td>\n",
              "      <td>9</td>\n",
              "      <td>66112.0</td>\n",
              "      <td>0.028</td>\n",
              "      <td>1.59</td>\n",
              "      <td>1.85</td>\n",
              "    </tr>\n",
              "    <tr>\n",
              "      <th>54</th>\n",
              "      <td>Homens acima de 65 anos</td>\n",
              "      <td>10</td>\n",
              "      <td>65220.5</td>\n",
              "      <td>0.016</td>\n",
              "      <td>1.55</td>\n",
              "      <td>1.88</td>\n",
              "    </tr>\n",
              "  </tbody>\n",
              "</table>\n",
              "</div>"
            ],
            "text/plain": [
              "                          Group  Lag  ...  Mean event  Mean control\n",
              "0                  Todas idades    0  ...        6.49          7.10\n",
              "1                  Todas idades    1  ...        6.45          7.10\n",
              "3                  Todas idades    3  ...        6.46          7.10\n",
              "4                  Todas idades    4  ...        6.46          7.10\n",
              "5                  Todas idades    5  ...        6.57          7.09\n",
              "6                  Todas idades    6  ...        6.60          7.10\n",
              "7                  Todas idades    7  ...        6.47          7.11\n",
              "12  Mulheres entre 20 e 65 anos    1  ...        1.14          1.43\n",
              "48      Homens acima de 65 anos    4  ...        1.51          1.88\n",
              "49      Homens acima de 65 anos    5  ...        1.42          1.90\n",
              "50      Homens acima de 65 anos    6  ...        1.44          1.93\n",
              "51      Homens acima de 65 anos    7  ...        1.56          1.89\n",
              "52      Homens acima de 65 anos    8  ...        1.55          1.88\n",
              "53      Homens acima de 65 anos    9  ...        1.59          1.85\n",
              "54      Homens acima de 65 anos   10  ...        1.55          1.88\n",
              "\n",
              "[15 rows x 6 columns]"
            ]
          },
          "metadata": {},
          "execution_count": 38
        }
      ]
    },
    {
      "cell_type": "markdown",
      "metadata": {
        "id": "BVbI7yFC3owy"
      },
      "source": [
        "###**High humidity waves**"
      ]
    },
    {
      "cell_type": "markdown",
      "metadata": {
        "id": "M2CeL3Lp3owz"
      },
      "source": [
        "####**Sex**"
      ]
    },
    {
      "cell_type": "code",
      "metadata": {
        "colab": {
          "base_uri": "https://localhost:8080/",
          "height": 49
        },
        "id": "UEWeons93owz",
        "outputId": "541e905f-94b9-4ad4-a71c-c845ca4e15b8"
      },
      "source": [
        "get_mann_whitney_lag(df,'HHW', 'sex')"
      ],
      "execution_count": null,
      "outputs": [
        {
          "output_type": "execute_result",
          "data": {
            "text/html": [
              "<div>\n",
              "<style scoped>\n",
              "    .dataframe tbody tr th:only-of-type {\n",
              "        vertical-align: middle;\n",
              "    }\n",
              "\n",
              "    .dataframe tbody tr th {\n",
              "        vertical-align: top;\n",
              "    }\n",
              "\n",
              "    .dataframe thead th {\n",
              "        text-align: right;\n",
              "    }\n",
              "</style>\n",
              "<table border=\"1\" class=\"dataframe\">\n",
              "  <thead>\n",
              "    <tr style=\"text-align: right;\">\n",
              "      <th></th>\n",
              "      <th>Group</th>\n",
              "      <th>Lag</th>\n",
              "      <th>U Statistic</th>\n",
              "      <th>P</th>\n",
              "      <th>Mean event</th>\n",
              "      <th>Mean control</th>\n",
              "    </tr>\n",
              "  </thead>\n",
              "  <tbody>\n",
              "  </tbody>\n",
              "</table>\n",
              "</div>"
            ],
            "text/plain": [
              "Empty DataFrame\n",
              "Columns: [Group, Lag, U Statistic, P, Mean event, Mean control]\n",
              "Index: []"
            ]
          },
          "metadata": {},
          "execution_count": 39
        }
      ]
    },
    {
      "cell_type": "markdown",
      "metadata": {
        "id": "S0FDzC4j3ow0"
      },
      "source": [
        "####**Age**"
      ]
    },
    {
      "cell_type": "code",
      "metadata": {
        "colab": {
          "base_uri": "https://localhost:8080/",
          "height": 204
        },
        "id": "5ExmY4bF3ow0",
        "outputId": "ca69c9cb-70ad-40b5-8583-5863fb4e6ea7"
      },
      "source": [
        "get_mann_whitney_lag(df,'HHW','age')"
      ],
      "execution_count": null,
      "outputs": [
        {
          "output_type": "execute_result",
          "data": {
            "text/html": [
              "<div>\n",
              "<style scoped>\n",
              "    .dataframe tbody tr th:only-of-type {\n",
              "        vertical-align: middle;\n",
              "    }\n",
              "\n",
              "    .dataframe tbody tr th {\n",
              "        vertical-align: top;\n",
              "    }\n",
              "\n",
              "    .dataframe thead th {\n",
              "        text-align: right;\n",
              "    }\n",
              "</style>\n",
              "<table border=\"1\" class=\"dataframe\">\n",
              "  <thead>\n",
              "    <tr style=\"text-align: right;\">\n",
              "      <th></th>\n",
              "      <th>Group</th>\n",
              "      <th>Lag</th>\n",
              "      <th>U Statistic</th>\n",
              "      <th>P</th>\n",
              "      <th>Mean event</th>\n",
              "      <th>Mean control</th>\n",
              "    </tr>\n",
              "  </thead>\n",
              "  <tbody>\n",
              "    <tr>\n",
              "      <th>22</th>\n",
              "      <td>Entre 40 e 65 anos</td>\n",
              "      <td>0</td>\n",
              "      <td>2084.0</td>\n",
              "      <td>0.043</td>\n",
              "      <td>1.8</td>\n",
              "      <td>3.28</td>\n",
              "    </tr>\n",
              "    <tr>\n",
              "      <th>34</th>\n",
              "      <td>Acima de 65 anos</td>\n",
              "      <td>1</td>\n",
              "      <td>7175.0</td>\n",
              "      <td>0.012</td>\n",
              "      <td>5.8</td>\n",
              "      <td>3.63</td>\n",
              "    </tr>\n",
              "    <tr>\n",
              "      <th>40</th>\n",
              "      <td>Acima de 65 anos</td>\n",
              "      <td>7</td>\n",
              "      <td>7094.0</td>\n",
              "      <td>0.014</td>\n",
              "      <td>6.4</td>\n",
              "      <td>3.62</td>\n",
              "    </tr>\n",
              "    <tr>\n",
              "      <th>45</th>\n",
              "      <td>Acima de 75 anos</td>\n",
              "      <td>1</td>\n",
              "      <td>5874.0</td>\n",
              "      <td>0.011</td>\n",
              "      <td>3.2</td>\n",
              "      <td>1.61</td>\n",
              "    </tr>\n",
              "    <tr>\n",
              "      <th>46</th>\n",
              "      <td>Acima de 75 anos</td>\n",
              "      <td>2</td>\n",
              "      <td>5473.5</td>\n",
              "      <td>0.037</td>\n",
              "      <td>3.0</td>\n",
              "      <td>1.60</td>\n",
              "    </tr>\n",
              "  </tbody>\n",
              "</table>\n",
              "</div>"
            ],
            "text/plain": [
              "                 Group  Lag  U Statistic      P  Mean event  Mean control\n",
              "22  Entre 40 e 65 anos    0       2084.0  0.043         1.8          3.28\n",
              "34    Acima de 65 anos    1       7175.0  0.012         5.8          3.63\n",
              "40    Acima de 65 anos    7       7094.0  0.014         6.4          3.62\n",
              "45    Acima de 75 anos    1       5874.0  0.011         3.2          1.61\n",
              "46    Acima de 75 anos    2       5473.5  0.037         3.0          1.60"
            ]
          },
          "metadata": {},
          "execution_count": 40
        }
      ]
    },
    {
      "cell_type": "markdown",
      "metadata": {
        "id": "MkHY2ULX3ow1"
      },
      "source": [
        "####**Age and sex**"
      ]
    },
    {
      "cell_type": "code",
      "metadata": {
        "colab": {
          "base_uri": "https://localhost:8080/",
          "height": 142
        },
        "id": "2T7dkamj3ow1",
        "outputId": "92c513cb-cb1a-4d06-a9a7-b37550198ae1"
      },
      "source": [
        "get_mann_whitney_lag(df,'HHW', 'age and sex')"
      ],
      "execution_count": null,
      "outputs": [
        {
          "output_type": "execute_result",
          "data": {
            "text/html": [
              "<div>\n",
              "<style scoped>\n",
              "    .dataframe tbody tr th:only-of-type {\n",
              "        vertical-align: middle;\n",
              "    }\n",
              "\n",
              "    .dataframe tbody tr th {\n",
              "        vertical-align: top;\n",
              "    }\n",
              "\n",
              "    .dataframe thead th {\n",
              "        text-align: right;\n",
              "    }\n",
              "</style>\n",
              "<table border=\"1\" class=\"dataframe\">\n",
              "  <thead>\n",
              "    <tr style=\"text-align: right;\">\n",
              "      <th></th>\n",
              "      <th>Group</th>\n",
              "      <th>Lag</th>\n",
              "      <th>U Statistic</th>\n",
              "      <th>P</th>\n",
              "      <th>Mean event</th>\n",
              "      <th>Mean control</th>\n",
              "    </tr>\n",
              "  </thead>\n",
              "  <tbody>\n",
              "    <tr>\n",
              "      <th>33</th>\n",
              "      <td>Mulheres acima de 65 anos</td>\n",
              "      <td>0</td>\n",
              "      <td>4840.5</td>\n",
              "      <td>0.022</td>\n",
              "      <td>3.5</td>\n",
              "      <td>2.15</td>\n",
              "    </tr>\n",
              "    <tr>\n",
              "      <th>42</th>\n",
              "      <td>Mulheres acima de 65 anos</td>\n",
              "      <td>9</td>\n",
              "      <td>4946.5</td>\n",
              "      <td>0.017</td>\n",
              "      <td>4.0</td>\n",
              "      <td>1.78</td>\n",
              "    </tr>\n",
              "    <tr>\n",
              "      <th>51</th>\n",
              "      <td>Homens acima de 65 anos</td>\n",
              "      <td>7</td>\n",
              "      <td>5619.0</td>\n",
              "      <td>0.049</td>\n",
              "      <td>3.2</td>\n",
              "      <td>1.86</td>\n",
              "    </tr>\n",
              "  </tbody>\n",
              "</table>\n",
              "</div>"
            ],
            "text/plain": [
              "                        Group  Lag  ...  Mean event  Mean control\n",
              "33  Mulheres acima de 65 anos    0  ...         3.5          2.15\n",
              "42  Mulheres acima de 65 anos    9  ...         4.0          1.78\n",
              "51    Homens acima de 65 anos    7  ...         3.2          1.86\n",
              "\n",
              "[3 rows x 6 columns]"
            ]
          },
          "metadata": {},
          "execution_count": 41
        }
      ]
    },
    {
      "cell_type": "markdown",
      "metadata": {
        "id": "I6VCgRY7NBdL"
      },
      "source": [
        "###**Extreme humidity variation**"
      ]
    },
    {
      "cell_type": "markdown",
      "metadata": {
        "id": "hNWAKyuBNBdL"
      },
      "source": [
        "####**Sex**"
      ]
    },
    {
      "cell_type": "code",
      "metadata": {
        "id": "wRN_a_IJNBdM",
        "colab": {
          "base_uri": "https://localhost:8080/",
          "height": 173
        },
        "outputId": "4235839c-791c-478c-9463-d99b6750b24b"
      },
      "source": [
        "get_mann_whitney_lag(df,'above_humidity_range','sex')"
      ],
      "execution_count": null,
      "outputs": [
        {
          "output_type": "execute_result",
          "data": {
            "text/html": [
              "<div>\n",
              "<style scoped>\n",
              "    .dataframe tbody tr th:only-of-type {\n",
              "        vertical-align: middle;\n",
              "    }\n",
              "\n",
              "    .dataframe tbody tr th {\n",
              "        vertical-align: top;\n",
              "    }\n",
              "\n",
              "    .dataframe thead th {\n",
              "        text-align: right;\n",
              "    }\n",
              "</style>\n",
              "<table border=\"1\" class=\"dataframe\">\n",
              "  <thead>\n",
              "    <tr style=\"text-align: right;\">\n",
              "      <th></th>\n",
              "      <th>Group</th>\n",
              "      <th>Lag</th>\n",
              "      <th>U Statistic</th>\n",
              "      <th>P</th>\n",
              "      <th>Mean event</th>\n",
              "      <th>Mean control</th>\n",
              "    </tr>\n",
              "  </thead>\n",
              "  <tbody>\n",
              "    <tr>\n",
              "      <th>4</th>\n",
              "      <td>Todos</td>\n",
              "      <td>4</td>\n",
              "      <td>163555.5</td>\n",
              "      <td>0.046</td>\n",
              "      <td>6.71</td>\n",
              "      <td>7.10</td>\n",
              "    </tr>\n",
              "    <tr>\n",
              "      <th>20</th>\n",
              "      <td>Mulheres</td>\n",
              "      <td>9</td>\n",
              "      <td>137711.0</td>\n",
              "      <td>0.009</td>\n",
              "      <td>2.81</td>\n",
              "      <td>3.21</td>\n",
              "    </tr>\n",
              "    <tr>\n",
              "      <th>26</th>\n",
              "      <td>Homens</td>\n",
              "      <td>4</td>\n",
              "      <td>153203.5</td>\n",
              "      <td>0.033</td>\n",
              "      <td>3.60</td>\n",
              "      <td>3.94</td>\n",
              "    </tr>\n",
              "    <tr>\n",
              "      <th>28</th>\n",
              "      <td>Homens</td>\n",
              "      <td>6</td>\n",
              "      <td>151381.5</td>\n",
              "      <td>0.018</td>\n",
              "      <td>3.60</td>\n",
              "      <td>3.99</td>\n",
              "    </tr>\n",
              "  </tbody>\n",
              "</table>\n",
              "</div>"
            ],
            "text/plain": [
              "       Group  Lag  U Statistic      P  Mean event  Mean control\n",
              "4      Todos    4     163555.5  0.046        6.71          7.10\n",
              "20  Mulheres    9     137711.0  0.009        2.81          3.21\n",
              "26    Homens    4     153203.5  0.033        3.60          3.94\n",
              "28    Homens    6     151381.5  0.018        3.60          3.99"
            ]
          },
          "metadata": {},
          "execution_count": 43
        }
      ]
    },
    {
      "cell_type": "markdown",
      "metadata": {
        "id": "hwIktSzdNBdM"
      },
      "source": [
        "####**Age**"
      ]
    },
    {
      "cell_type": "code",
      "metadata": {
        "id": "5GGxtm_cNBdM",
        "colab": {
          "base_uri": "https://localhost:8080/",
          "height": 142
        },
        "outputId": "cdcdae70-609b-4d24-ab78-4359423394b4"
      },
      "source": [
        "get_mann_whitney_lag(df, 'above_humidity_range','age')"
      ],
      "execution_count": null,
      "outputs": [
        {
          "output_type": "execute_result",
          "data": {
            "text/html": [
              "<div>\n",
              "<style scoped>\n",
              "    .dataframe tbody tr th:only-of-type {\n",
              "        vertical-align: middle;\n",
              "    }\n",
              "\n",
              "    .dataframe tbody tr th {\n",
              "        vertical-align: top;\n",
              "    }\n",
              "\n",
              "    .dataframe thead th {\n",
              "        text-align: right;\n",
              "    }\n",
              "</style>\n",
              "<table border=\"1\" class=\"dataframe\">\n",
              "  <thead>\n",
              "    <tr style=\"text-align: right;\">\n",
              "      <th></th>\n",
              "      <th>Group</th>\n",
              "      <th>Lag</th>\n",
              "      <th>U Statistic</th>\n",
              "      <th>P</th>\n",
              "      <th>Mean event</th>\n",
              "      <th>Mean control</th>\n",
              "    </tr>\n",
              "  </thead>\n",
              "  <tbody>\n",
              "    <tr>\n",
              "      <th>4</th>\n",
              "      <td>Todas idades</td>\n",
              "      <td>4</td>\n",
              "      <td>163555.5</td>\n",
              "      <td>0.046</td>\n",
              "      <td>6.71</td>\n",
              "      <td>7.10</td>\n",
              "    </tr>\n",
              "    <tr>\n",
              "      <th>28</th>\n",
              "      <td>Entre 40 e 65 anos</td>\n",
              "      <td>6</td>\n",
              "      <td>141960.0</td>\n",
              "      <td>0.015</td>\n",
              "      <td>2.81</td>\n",
              "      <td>3.14</td>\n",
              "    </tr>\n",
              "    <tr>\n",
              "      <th>43</th>\n",
              "      <td>Acima de 65 anos</td>\n",
              "      <td>10</td>\n",
              "      <td>148250.5</td>\n",
              "      <td>0.018</td>\n",
              "      <td>3.33</td>\n",
              "      <td>3.66</td>\n",
              "    </tr>\n",
              "  </tbody>\n",
              "</table>\n",
              "</div>"
            ],
            "text/plain": [
              "                 Group  Lag  U Statistic      P  Mean event  Mean control\n",
              "4         Todas idades    4     163555.5  0.046        6.71          7.10\n",
              "28  Entre 40 e 65 anos    6     141960.0  0.015        2.81          3.14\n",
              "43    Acima de 65 anos   10     148250.5  0.018        3.33          3.66"
            ]
          },
          "metadata": {},
          "execution_count": 44
        }
      ]
    },
    {
      "cell_type": "markdown",
      "metadata": {
        "id": "gEu82R1CNBdN"
      },
      "source": [
        "####**Age and sex**"
      ]
    },
    {
      "cell_type": "code",
      "metadata": {
        "id": "JJ0bh2vvNBdN",
        "colab": {
          "base_uri": "https://localhost:8080/",
          "height": 204
        },
        "outputId": "5d4bd0fd-efb3-465f-a31e-e699b729ef0c"
      },
      "source": [
        "get_mann_whitney_lag(df,'above_humidity_range', 'age and sex')"
      ],
      "execution_count": null,
      "outputs": [
        {
          "output_type": "execute_result",
          "data": {
            "text/html": [
              "<div>\n",
              "<style scoped>\n",
              "    .dataframe tbody tr th:only-of-type {\n",
              "        vertical-align: middle;\n",
              "    }\n",
              "\n",
              "    .dataframe tbody tr th {\n",
              "        vertical-align: top;\n",
              "    }\n",
              "\n",
              "    .dataframe thead th {\n",
              "        text-align: right;\n",
              "    }\n",
              "</style>\n",
              "<table border=\"1\" class=\"dataframe\">\n",
              "  <thead>\n",
              "    <tr style=\"text-align: right;\">\n",
              "      <th></th>\n",
              "      <th>Group</th>\n",
              "      <th>Lag</th>\n",
              "      <th>U Statistic</th>\n",
              "      <th>P</th>\n",
              "      <th>Mean event</th>\n",
              "      <th>Mean control</th>\n",
              "    </tr>\n",
              "  </thead>\n",
              "  <tbody>\n",
              "    <tr>\n",
              "      <th>4</th>\n",
              "      <td>Todas idades</td>\n",
              "      <td>4</td>\n",
              "      <td>163555.5</td>\n",
              "      <td>0.046</td>\n",
              "      <td>6.71</td>\n",
              "      <td>7.10</td>\n",
              "    </tr>\n",
              "    <tr>\n",
              "      <th>20</th>\n",
              "      <td>Mulheres entre 20 e 65 anos</td>\n",
              "      <td>9</td>\n",
              "      <td>81186.0</td>\n",
              "      <td>0.005</td>\n",
              "      <td>1.15</td>\n",
              "      <td>1.43</td>\n",
              "    </tr>\n",
              "    <tr>\n",
              "      <th>26</th>\n",
              "      <td>Homens entre 20 e 65 anos</td>\n",
              "      <td>4</td>\n",
              "      <td>120123.0</td>\n",
              "      <td>0.028</td>\n",
              "      <td>1.84</td>\n",
              "      <td>2.08</td>\n",
              "    </tr>\n",
              "    <tr>\n",
              "      <th>27</th>\n",
              "      <td>Homens entre 20 e 65 anos</td>\n",
              "      <td>5</td>\n",
              "      <td>117475.5</td>\n",
              "      <td>0.008</td>\n",
              "      <td>1.81</td>\n",
              "      <td>2.10</td>\n",
              "    </tr>\n",
              "    <tr>\n",
              "      <th>54</th>\n",
              "      <td>Homens acima de 65 anos</td>\n",
              "      <td>10</td>\n",
              "      <td>110004.5</td>\n",
              "      <td>0.008</td>\n",
              "      <td>1.60</td>\n",
              "      <td>1.90</td>\n",
              "    </tr>\n",
              "  </tbody>\n",
              "</table>\n",
              "</div>"
            ],
            "text/plain": [
              "                          Group  Lag  ...  Mean event  Mean control\n",
              "4                  Todas idades    4  ...        6.71          7.10\n",
              "20  Mulheres entre 20 e 65 anos    9  ...        1.15          1.43\n",
              "26    Homens entre 20 e 65 anos    4  ...        1.84          2.08\n",
              "27    Homens entre 20 e 65 anos    5  ...        1.81          2.10\n",
              "54      Homens acima de 65 anos   10  ...        1.60          1.90\n",
              "\n",
              "[5 rows x 6 columns]"
            ]
          },
          "metadata": {},
          "execution_count": 45
        }
      ]
    },
    {
      "cell_type": "markdown",
      "metadata": {
        "id": "-2rerOBZNdZb"
      },
      "source": [
        "###**Extreme humidity difference between days**"
      ]
    },
    {
      "cell_type": "markdown",
      "metadata": {
        "id": "W322lkrqNdZc"
      },
      "source": [
        "####**Sex**"
      ]
    },
    {
      "cell_type": "code",
      "metadata": {
        "id": "pEdpH8CkNdZc",
        "colab": {
          "base_uri": "https://localhost:8080/",
          "height": 80
        },
        "outputId": "fe686560-42c5-4b67-9d1d-b9364283e691"
      },
      "source": [
        "get_mann_whitney_lag(df,'above_humidity_dif','sex')"
      ],
      "execution_count": null,
      "outputs": [
        {
          "output_type": "execute_result",
          "data": {
            "text/html": [
              "<div>\n",
              "<style scoped>\n",
              "    .dataframe tbody tr th:only-of-type {\n",
              "        vertical-align: middle;\n",
              "    }\n",
              "\n",
              "    .dataframe tbody tr th {\n",
              "        vertical-align: top;\n",
              "    }\n",
              "\n",
              "    .dataframe thead th {\n",
              "        text-align: right;\n",
              "    }\n",
              "</style>\n",
              "<table border=\"1\" class=\"dataframe\">\n",
              "  <thead>\n",
              "    <tr style=\"text-align: right;\">\n",
              "      <th></th>\n",
              "      <th>Group</th>\n",
              "      <th>Lag</th>\n",
              "      <th>U Statistic</th>\n",
              "      <th>P</th>\n",
              "      <th>Mean event</th>\n",
              "      <th>Mean control</th>\n",
              "    </tr>\n",
              "  </thead>\n",
              "  <tbody>\n",
              "    <tr>\n",
              "      <th>11</th>\n",
              "      <td>Mulheres</td>\n",
              "      <td>0</td>\n",
              "      <td>21550.0</td>\n",
              "      <td>0.032</td>\n",
              "      <td>4.1</td>\n",
              "      <td>3.34</td>\n",
              "    </tr>\n",
              "  </tbody>\n",
              "</table>\n",
              "</div>"
            ],
            "text/plain": [
              "       Group  Lag  U Statistic      P  Mean event  Mean control\n",
              "11  Mulheres    0      21550.0  0.032         4.1          3.34"
            ]
          },
          "metadata": {},
          "execution_count": 46
        }
      ]
    },
    {
      "cell_type": "markdown",
      "metadata": {
        "id": "mX2g2xdvNdZd"
      },
      "source": [
        "####**Age**"
      ]
    },
    {
      "cell_type": "code",
      "metadata": {
        "id": "aoQxbt_XNdZd",
        "colab": {
          "base_uri": "https://localhost:8080/",
          "height": 111
        },
        "outputId": "74bd939b-96d0-4832-cb8e-2c9bc6770f81"
      },
      "source": [
        "get_mann_whitney_lag(df,'above_humidity_dif','age')"
      ],
      "execution_count": null,
      "outputs": [
        {
          "output_type": "execute_result",
          "data": {
            "text/html": [
              "<div>\n",
              "<style scoped>\n",
              "    .dataframe tbody tr th:only-of-type {\n",
              "        vertical-align: middle;\n",
              "    }\n",
              "\n",
              "    .dataframe tbody tr th {\n",
              "        vertical-align: top;\n",
              "    }\n",
              "\n",
              "    .dataframe thead th {\n",
              "        text-align: right;\n",
              "    }\n",
              "</style>\n",
              "<table border=\"1\" class=\"dataframe\">\n",
              "  <thead>\n",
              "    <tr style=\"text-align: right;\">\n",
              "      <th></th>\n",
              "      <th>Group</th>\n",
              "      <th>Lag</th>\n",
              "      <th>U Statistic</th>\n",
              "      <th>P</th>\n",
              "      <th>Mean event</th>\n",
              "      <th>Mean control</th>\n",
              "    </tr>\n",
              "  </thead>\n",
              "  <tbody>\n",
              "    <tr>\n",
              "      <th>36</th>\n",
              "      <td>Acima de 65 anos</td>\n",
              "      <td>3</td>\n",
              "      <td>13301.5</td>\n",
              "      <td>0.033</td>\n",
              "      <td>2.62</td>\n",
              "      <td>3.63</td>\n",
              "    </tr>\n",
              "    <tr>\n",
              "      <th>47</th>\n",
              "      <td>Acima de 75 anos</td>\n",
              "      <td>3</td>\n",
              "      <td>9734.5</td>\n",
              "      <td>0.012</td>\n",
              "      <td>0.90</td>\n",
              "      <td>1.61</td>\n",
              "    </tr>\n",
              "  </tbody>\n",
              "</table>\n",
              "</div>"
            ],
            "text/plain": [
              "               Group  Lag  U Statistic      P  Mean event  Mean control\n",
              "36  Acima de 65 anos    3      13301.5  0.033        2.62          3.63\n",
              "47  Acima de 75 anos    3       9734.5  0.012        0.90          1.61"
            ]
          },
          "metadata": {},
          "execution_count": 47
        }
      ]
    },
    {
      "cell_type": "markdown",
      "metadata": {
        "id": "63ExFu2GNdZd"
      },
      "source": [
        "####**Age and sex**"
      ]
    },
    {
      "cell_type": "code",
      "metadata": {
        "id": "S0LFql5ZNdZd",
        "colab": {
          "base_uri": "https://localhost:8080/",
          "height": 142
        },
        "outputId": "bcd01121-97f6-4622-f94d-a5b936942a55"
      },
      "source": [
        "get_mann_whitney_lag(df,'above_humidity_dif', 'age and sex')"
      ],
      "execution_count": null,
      "outputs": [
        {
          "output_type": "execute_result",
          "data": {
            "text/html": [
              "<div>\n",
              "<style scoped>\n",
              "    .dataframe tbody tr th:only-of-type {\n",
              "        vertical-align: middle;\n",
              "    }\n",
              "\n",
              "    .dataframe tbody tr th {\n",
              "        vertical-align: top;\n",
              "    }\n",
              "\n",
              "    .dataframe thead th {\n",
              "        text-align: right;\n",
              "    }\n",
              "</style>\n",
              "<table border=\"1\" class=\"dataframe\">\n",
              "  <thead>\n",
              "    <tr style=\"text-align: right;\">\n",
              "      <th></th>\n",
              "      <th>Group</th>\n",
              "      <th>Lag</th>\n",
              "      <th>U Statistic</th>\n",
              "      <th>P</th>\n",
              "      <th>Mean event</th>\n",
              "      <th>Mean control</th>\n",
              "    </tr>\n",
              "  </thead>\n",
              "  <tbody>\n",
              "    <tr>\n",
              "      <th>14</th>\n",
              "      <td>Mulheres entre 20 e 65 anos</td>\n",
              "      <td>3</td>\n",
              "      <td>13032.0</td>\n",
              "      <td>0.032</td>\n",
              "      <td>1.93</td>\n",
              "      <td>1.37</td>\n",
              "    </tr>\n",
              "    <tr>\n",
              "      <th>18</th>\n",
              "      <td>Mulheres entre 20 e 65 anos</td>\n",
              "      <td>7</td>\n",
              "      <td>13350.0</td>\n",
              "      <td>0.017</td>\n",
              "      <td>2.13</td>\n",
              "      <td>1.39</td>\n",
              "    </tr>\n",
              "    <tr>\n",
              "      <th>33</th>\n",
              "      <td>Mulheres acima de 65 anos</td>\n",
              "      <td>0</td>\n",
              "      <td>17189.0</td>\n",
              "      <td>0.005</td>\n",
              "      <td>2.82</td>\n",
              "      <td>2.15</td>\n",
              "    </tr>\n",
              "  </tbody>\n",
              "</table>\n",
              "</div>"
            ],
            "text/plain": [
              "                          Group  Lag  ...  Mean event  Mean control\n",
              "14  Mulheres entre 20 e 65 anos    3  ...        1.93          1.37\n",
              "18  Mulheres entre 20 e 65 anos    7  ...        2.13          1.39\n",
              "33    Mulheres acima de 65 anos    0  ...        2.82          2.15\n",
              "\n",
              "[3 rows x 6 columns]"
            ]
          },
          "metadata": {},
          "execution_count": 48
        }
      ]
    },
    {
      "cell_type": "markdown",
      "metadata": {
        "id": "ADYLnOGc_hcS"
      },
      "source": [
        "##**References**\n",
        "\n",
        "MACFARLAND, T. W.; YATES, J. M. Mann–whitney u test. In:Introduction tononparametric statistics for the biological sciences using R. [S.l.]: Springer, 2016. p. 103–132."
      ]
    }
  ]
}