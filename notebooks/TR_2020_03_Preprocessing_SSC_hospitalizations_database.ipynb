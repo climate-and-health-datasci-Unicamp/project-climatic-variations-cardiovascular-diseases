{
  "nbformat": 4,
  "nbformat_minor": 0,
  "metadata": {
    "colab": {
      "name": "TR_2020/03 - Preprocessing SSC hospitalizations database.ipynb",
      "provenance": [],
      "collapsed_sections": []
    },
    "kernelspec": {
      "name": "python3",
      "display_name": "Python 3"
    }
  },
  "cells": [
    {
      "cell_type": "markdown",
      "metadata": {
        "id": "b7OJiuMQbM6b"
      },
      "source": [
        "# **TR-2020/03 - Technical report: Preprocessing of SSC hospitalizations database**\n",
        "\n",
        "|Technical Report ID  |2020/03|\n",
        "|--|--|\n",
        "| Title |Preprocessing of SSC Hospitalizations Database|\n",
        "| Authors | Júlia De Lázari, Paula Dornhofer|\n",
        "| Creation Date| 2020 - 09|\n",
        "\n",
        "\n",
        "## Database Description\n",
        "\n",
        "The hospitalizations database is from SSC (Health Secretary of Campinas - Secretaria de Saúde de Campinas). It contains data from 2013 to 2018 of all hospitalizations in which solicitant, executant or final health units are from Campinas.\n",
        "\n",
        "The original database has 55240 rows and 42 columns.\n",
        "\n",
        "This report presents an exploratory analysis of the database and its variables. Some problems and inconsistences were found and attempts to solve them were made, in order to increase the quality of the data.\n",
        "\n",
        "## RAW Database Diagnostic\n",
        "\n",
        "The exploratory analysis revelead that this database has inconsistences such as duplicated rows, rows with missing birthdates, rows from before 2013, rows from outside Campinas. This report details all the analysis made, as well as the data processing.\n",
        "\n",
        "## Results\n",
        "\n",
        "As a result, three subsets of the original database were generated:\n",
        "\n",
        "- **hospitalizações_completo.csv:** database with hospitalizations from all causes, excluding duplicated rows, rows with sex as 'I', rows without birthdate, rows with date of solicitation from before 2013, rows refering to the same patient on the same day (the first occurence was preserved) and rows with regionalization from outside Campinas. Only relevant columns were preserved.  Columns that can identify the patient were drop due to confidentiality reasons.\n",
        "\n",
        "- **hospitalizações_circulatório.csv:** subset of hospitalizações_completo.csv, with only hospitalizations with circulatory ICDs (I00-I99).\n",
        "\n",
        "- **hospitalizações_respiratório.csv:** subset of hospitalizações_completo.csv, with only hospitalizations with respiratory ICDs (J00-J99)."
      ]
    },
    {
      "cell_type": "markdown",
      "metadata": {
        "id": "I6rzCwgAvFeN"
      },
      "source": [
        "## Read data "
      ]
    },
    {
      "cell_type": "code",
      "metadata": {
        "id": "RK5jvW7VDRO4",
        "cellView": "both",
        "colab": {
          "base_uri": "https://localhost:8080/"
        },
        "outputId": "303808b9-4108-49db-cfa9-092c3a29e6da"
      },
      "source": [
        "#-------------------------------------------------------------------#\n",
        "#                       Import libraries                            #\n",
        "#-------------------------------------------------------------------#\n",
        "import pandas as pd\n",
        "import numpy as np\n",
        "import matplotlib.pyplot as plt\n",
        "from google.colab import drive\n",
        "from google.colab import files\n",
        "drive.mount('/content/drive')\n",
        "\n",
        "pd.options.mode.chained_assignment = None "
      ],
      "execution_count": null,
      "outputs": [
        {
          "output_type": "stream",
          "text": [
            "Drive already mounted at /content/drive; to attempt to forcibly remount, call drive.mount(\"/content/drive\", force_remount=True).\n"
          ],
          "name": "stdout"
        }
      ]
    },
    {
      "cell_type": "code",
      "metadata": {
        "id": "UEPtad41Y4-O",
        "colab": {
          "base_uri": "https://localhost:8080/"
        },
        "outputId": "e12442c2-4b7d-4555-f3c1-18434bab84ee"
      },
      "source": [
        "#-------------------------------------------------------------------#\n",
        "#              Load dataframe - Hospitalizações SSC                 #\n",
        "#-------------------------------------------------------------------#\n",
        "df_hosp = pd.read_excel('hospitalizacoes_RAW.xlsx')\n",
        "print(\"Length dataframe:\",len(df_hosp))\n",
        "df_hosp.columns"
      ],
      "execution_count": null,
      "outputs": [
        {
          "output_type": "stream",
          "text": [
            "Length dataframe: 55240\n"
          ],
          "name": "stdout"
        },
        {
          "output_type": "execute_result",
          "data": {
            "text/plain": [
              "Index(['Nº ficha', 'Tipo de Ficha', 'Tipo Solicitação',\n",
              "       'Classificação de Risco', 'Data/Hora Solicitação',\n",
              "       'Data/Hora Finalização', 'Tempo de Resolução (hora/min)', 'Judicial',\n",
              "       'Código Paciente', 'CNS', 'Nome do Paciente', 'Sexo', 'Idade',\n",
              "       'Data Nascimento', 'TARM/PAD', 'Regulador Inicial', 'Regulador Final',\n",
              "       'Transp.', 'Forma de Resolução', 'Médico Receptor', 'CID 1',\n",
              "       'Descrição CID 1', 'CID 2', 'Descrição CID 2',\n",
              "       'Tipo de Recurso Solicitado 1', 'Recurso Solicitado 1', 'RRAS',\n",
              "       'Complexo Solicitante', 'DRS Solicitante', 'CGR Solicitante',\n",
              "       'Município Solicitante', 'CNES Solicitante', 'Unidade Solicitante',\n",
              "       'RRAS2', 'Complexo Executante', 'DRS Executante', 'CGR Executante',\n",
              "       'Município Executante', 'CNES Executante', 'Unidade Executante',\n",
              "       'Tipo de Fechamento', 'Local Regulação'],\n",
              "      dtype='object')"
            ]
          },
          "metadata": {
            "tags": []
          },
          "execution_count": 33
        }
      ]
    },
    {
      "cell_type": "markdown",
      "metadata": {
        "id": "APUHx1t98XpF"
      },
      "source": [
        "###  Patient information"
      ]
    },
    {
      "cell_type": "markdown",
      "metadata": {
        "id": "H7m-uEKAKWFP"
      },
      "source": [
        "**Nº ficha** (record number)\n",
        "\n",
        "Each hospitalization has a record with a different number. Rows with the same number should be discarded to avoid duplicity.\n",
        "\n",
        "\n",
        "**Problem:**\n",
        "- There are 40 rows totally duplicated (duplicated in pairs)\n",
        "\n",
        "**Solution:**\n",
        "- Only the first occurence was kept\n",
        "\n"
      ]
    },
    {
      "cell_type": "code",
      "metadata": {
        "id": "-DCUo_8fmEE0",
        "cellView": "both",
        "colab": {
          "base_uri": "https://localhost:8080/"
        },
        "outputId": "ef70eab1-a41b-42d9-b8d7-f2031944282a"
      },
      "source": [
        "#check for null rows\n",
        "print(\"Rows without Nº de ficha:\",len(df_hosp[df_hosp['Nº ficha'].isnull()]))\n",
        "#check for duplicated rows\n",
        "print(\"Rows with Nº de ficha duplicated:\",len(df_hosp[df_hosp['Nº ficha'].duplicated(keep = False)]))\n",
        "print(\"Duplicated rows (all columns duplicated):\",len(df_hosp[df_hosp.duplicated(keep = False)]))\n",
        "\n",
        "#keep only the first occurence\n",
        "df_hosp = df_hosp.drop_duplicates(keep='first')"
      ],
      "execution_count": null,
      "outputs": [
        {
          "output_type": "stream",
          "text": [
            "Rows without Nº de ficha: 0\n",
            "Rows with Nº de ficha duplicated: 40\n",
            "Duplicated rows (all columns duplicated): 40\n"
          ],
          "name": "stdout"
        }
      ]
    },
    {
      "cell_type": "markdown",
      "metadata": {
        "id": "h7MkXczhOOfD"
      },
      "source": [
        "**Código Paciente**(patient code) and **Nome do Paciente**(patient name)\n",
        "\n",
        "All duplicated values refers to the same patient (same name and birthdate). \n",
        "\n",
        "But there are patients with differents codes (different code in different hospitalization). \n",
        "\n",
        "Not a trustworthy variable to identify patients.\n",
        "\n",
        "\n"
      ]
    },
    {
      "cell_type": "code",
      "metadata": {
        "id": "SWz1WAoYM4KR",
        "colab": {
          "base_uri": "https://localhost:8080/"
        },
        "outputId": "b9f988e2-da90-40c2-e958-c0abd16e1d5e"
      },
      "source": [
        "#check for null rows\n",
        "print(\"Rows without patient code:\",len(df_hosp[df_hosp['Código Paciente'].isnull()]))\n",
        "print(\"Rows without patient name:\",len(df_hosp[df_hosp['Nome do Paciente'].isnull()]))\n",
        "\n",
        "#check for duplicated rows\n",
        "print(\"Rows without patient code duplicated:\",len(df_hosp[df_hosp['Código Paciente'].duplicated(keep = False)]))\n",
        "print(\"Rows without patient name:\",len(df_hosp[df_hosp['Nome do Paciente'].duplicated(keep = False)]))\n",
        "print(\"Rows without patient code and patient name duplicated:\",len(df_hosp[df_hosp.duplicated(['Nome do Paciente','Código Paciente'],keep = False)]))\n",
        "\n",
        "#unique values\n",
        "print(\"Number of unique values for patient code:\",len(df_hosp['Código Paciente'].unique()))\n",
        "print(\"Number of unique values for patient name:\",len(df_hosp['Nome do Paciente'].unique()))"
      ],
      "execution_count": null,
      "outputs": [
        {
          "output_type": "stream",
          "text": [
            "Rows without patient code: 0\n",
            "Rows without patient name: 0\n",
            "Rows without patient code duplicated: 23804\n",
            "Rows without patient name: 28100\n",
            "Rows without patient code and patient name duplicated: 23779\n",
            "Number of unique values for patient code: 40316\n",
            "Number of unique values for patient name: 36920\n"
          ],
          "name": "stdout"
        }
      ]
    },
    {
      "cell_type": "markdown",
      "metadata": {
        "id": "JFvAxpy6PLWb"
      },
      "source": [
        "**CNS (Número do Cartão Nacional de Saúde)** (Number of National Security Card)\n",
        "\n",
        "**Problems:**\n",
        "- Rows with CNS as '-'\n",
        "- Rows with same CNS refering to different patients\n",
        "- Different CNS to the same patient\n",
        "\n",
        "Also, not a thrustworthy column to identify patients"
      ]
    },
    {
      "cell_type": "code",
      "metadata": {
        "id": "2Zpj8WRsPBJ1",
        "colab": {
          "base_uri": "https://localhost:8080/"
        },
        "outputId": "c50fcc72-600c-496a-b508-d141260270c6"
      },
      "source": [
        "#check for null rows\n",
        "print(\"Rows without CNS:\",len(df_hosp[df_hosp['CNS'] == '-']))\n",
        "\n",
        "#check for duplicated rows\n",
        "print(\"rows with CNS duplicated:\",len(df_hosp[df_hosp['CNS'].duplicated(keep = False)]))\n",
        "\n",
        "print(\"Rows with CNS, patient name and birthdate duplicated:\",len(df_hosp[df_hosp.duplicated(['CNS','Nome do Paciente','Data Nascimento'],keep = False)]))\n",
        "print(\"Rows with patient name and birthdate duplicated:\",len(df_hosp[df_hosp.duplicated(['Nome do Paciente','Data Nascimento'],keep = False)]))\n",
        "\n",
        "#unique values\n",
        "print(\"Number of unique values for CNS:\",len(df_hosp['CNS'].unique()))\n",
        "print(\"Number of unique values for patient name:\",len(df_hosp['Nome do Paciente'].unique()))"
      ],
      "execution_count": null,
      "outputs": [
        {
          "output_type": "stream",
          "text": [
            "Rows without CNS: 9883\n",
            "rows with CNS duplicated: 31897\n",
            "Rows with CNS, patient name and birthdate duplicated: 24063\n",
            "Rows with patient name and birthdate duplicated: 26210\n",
            "Number of unique values for CNS: 31275\n",
            "Number of unique values for patient name: 36920\n"
          ],
          "name": "stdout"
        }
      ]
    },
    {
      "cell_type": "markdown",
      "metadata": {
        "id": "3L9_g6vbQPli"
      },
      "source": [
        "**Idade**(Age) e **Data Nascimento**(Birthdate)\n",
        "\n",
        "Recalculate age as Data/Hora Solicitação (Date/Time solicitation) - Data Nascimento (Birthdate) and compare with the age columns\n",
        "\n",
        "**Problem:**\n",
        "- Age column present errors and inconsistences.\n",
        "\n",
        "**Solution:**\n",
        "- Drop rows without birthdate and recalculate age as Data/Hora Solicitação - Data Nascimento."
      ]
    },
    {
      "cell_type": "code",
      "metadata": {
        "id": "AflzlAjywu3c",
        "colab": {
          "base_uri": "https://localhost:8080/"
        },
        "outputId": "4bb5ad28-5373-4e9d-a462-373c1773d568"
      },
      "source": [
        "#columns in datetime format\n",
        "df_hosp.loc[:,'Data/Hora Solicitação'] = pd.to_datetime(df_hosp.loc[:,'Data/Hora Solicitação'],dayfirst=True)\n",
        "df_hosp.loc[:,'Data Nascimento'] = pd.to_datetime(df_hosp.loc[:,'Data Nascimento'],dayfirst=True,errors = 'coerce')\n",
        "\n",
        "#check for rows with null values\n",
        "print(\"Rows without age:\",len(df_hosp[df_hosp['Idade'].isnull()]))\n",
        "print(\"Rows without birthdate:\",len(df_hosp[df_hosp['Data Nascimento'].isnull()]))\n",
        "\n",
        "#check for absurd values in age column\n",
        "print(\"Rows with age above 120 years:\",len(df_hosp[df_hosp['Idade']>120]))\n",
        "\n",
        "#drop rows without birthdate and recalculate age\n",
        "df_hosp = df_hosp[~df_hosp['Data Nascimento'].isnull()]\n",
        "df_hosp['Idade'] = df_hosp['Data/Hora Solicitação'] - df_hosp['Data Nascimento']\n",
        "df_hosp['Idade'] = df_hosp['Idade'].dt.days\n",
        "df_hosp['Idade'] = df_hosp['Idade']//365.25 #convert days into years"
      ],
      "execution_count": null,
      "outputs": [
        {
          "output_type": "stream",
          "text": [
            "Rows without age: 819\n",
            "Rows without birthdate: 925\n",
            "Rows with age above 120 years: 7\n"
          ],
          "name": "stdout"
        }
      ]
    },
    {
      "cell_type": "markdown",
      "metadata": {
        "id": "lkiRSB2Nlkpb"
      },
      "source": [
        "**Sex** \n",
        "\n",
        "Rows with sex as 'I' were discarded."
      ]
    },
    {
      "cell_type": "code",
      "metadata": {
        "id": "47n4Pg-Zlj0Q",
        "colab": {
          "base_uri": "https://localhost:8080/"
        },
        "outputId": "cd73f499-8789-4450-c167-c5fcbdac1bc1"
      },
      "source": [
        "#drop rows with sex as 'I'\n",
        "print(\"Rows with sex=='I':\",len(df_hosp[df_hosp['Sexo']=='I']))\n",
        "df_hosp = df_hosp[df_hosp['Sexo']!='I']"
      ],
      "execution_count": null,
      "outputs": [
        {
          "output_type": "stream",
          "text": [
            "Rows with sex=='I': 23\n"
          ],
          "name": "stdout"
        }
      ]
    },
    {
      "cell_type": "markdown",
      "metadata": {
        "id": "MElHpajhCZCj"
      },
      "source": [
        "### Record information\n",
        "**Tipo de Ficha**, **Tipo Solicitação**, **Classificação de Risco**, **Data/Hora Solicitação**, **Data/Hora Finalização** , **Tempo de Resolução (hora/min)** , **Judicial**, **Tipo de Fechamento** , **Local Regulação**\n",
        "\n",
        "No null rows. These columns are not relevant for the intended analysis.\n"
      ]
    },
    {
      "cell_type": "code",
      "metadata": {
        "id": "ibZd-BKmDlWR",
        "colab": {
          "base_uri": "https://localhost:8080/"
        },
        "outputId": "714419a8-bb82-4c93-ea2b-b5312963a880"
      },
      "source": [
        "#Record information\n",
        "\n",
        "print(\"Number of null rows\")\n",
        "print(\"Tipo de ficha:\",len(df_hosp[df_hosp['Tipo de Ficha'].isnull()]))\n",
        "print(\"Tipo Solicitação:\",len(df_hosp[df_hosp['Tipo Solicitação'].isnull()]))\n",
        "print(\"Classificação de Risco:\",len(df_hosp[df_hosp['Classificação de Risco'].isnull()]))\n",
        "print(\"Data/Hora Solicitação:\",len(df_hosp[df_hosp['Data/Hora Solicitação'].isnull()]))\n",
        "print(\"Data/Hora Finalização:\",len(df_hosp[df_hosp['Data/Hora Finalização'].isnull()]))\n",
        "print(\"Tempo de Resolução (hora/min):\",len(df_hosp[df_hosp['Tempo de Resolução (hora/min)'].isnull()]))\n",
        "print(\"Judicial;\",len(df_hosp[df_hosp['Judicial'].isnull()]))\n",
        "print(\"Tipo de Fechamento:\",len(df_hosp[df_hosp['Tipo de Fechamento'].isnull()]))\n",
        "print(\"Local Regulação:\",len(df_hosp[df_hosp['Local Regulação'].isnull()]))\n"
      ],
      "execution_count": null,
      "outputs": [
        {
          "output_type": "stream",
          "text": [
            "Number of null rows\n",
            "Tipo de ficha: 0\n",
            "Tipo Solicitação: 0\n",
            "Classificação de Risco: 0\n",
            "Data/Hora Solicitação: 0\n",
            "Data/Hora Finalização: 0\n",
            "Tempo de Resolução (hora/min): 0\n",
            "Judicial; 0\n",
            "Tipo de Fechamento: 0\n",
            "Local Regulação: 0\n"
          ],
          "name": "stdout"
        }
      ]
    },
    {
      "cell_type": "markdown",
      "metadata": {
        "id": "l_tSyiMFEVQs"
      },
      "source": [
        "### Mediacl staff information\n",
        "\n",
        "**TARM/PAD**, **Regulador inicial**, **Médico receptor** do not have null rows.\n",
        "\n",
        "**Regulador final** and **Transp.** have null rows.\n",
        "\n",
        "These columns are not relevant for the intended analysis.\n",
        "\n"
      ]
    },
    {
      "cell_type": "code",
      "metadata": {
        "id": "xOcMcmp7EXVB",
        "colab": {
          "base_uri": "https://localhost:8080/"
        },
        "outputId": "3610c2c4-fa41-4213-e041-3e0c9b4a2e33"
      },
      "source": [
        "# Medical staff information\n",
        "\n",
        "print(\"Number of null rows\")\n",
        "print(\"TARM/PAD:\",len(df_hosp[df_hosp['TARM/PAD'].isnull()]))\n",
        "print(\"Regulador Inicial:\",len(df_hosp[df_hosp['Regulador Inicial'].isnull()]))\n",
        "print(\"Regulador Final:\",len(df_hosp[df_hosp['Regulador Final'].isnull()]))\n",
        "print(\"Transp.:\",len(df_hosp[df_hosp['Transp.'].isnull()]))\n",
        "print(\"Médico Receptor:\",len(df_hosp[df_hosp['Médico Receptor'].isnull()]))"
      ],
      "execution_count": null,
      "outputs": [
        {
          "output_type": "stream",
          "text": [
            "Number of null rows\n",
            "TARM/PAD: 0\n",
            "Regulador Inicial: 0\n",
            "Regulador Final: 14655\n",
            "Transp.: 0\n",
            "Médico Receptor: 28030\n"
          ],
          "name": "stdout"
        }
      ]
    },
    {
      "cell_type": "markdown",
      "metadata": {
        "id": "JSytFdTGEzfX"
      },
      "source": [
        "### Medical information\n",
        "\n",
        "**CID1:** primary ICD \n",
        "\n",
        "**CID2:** secondary ICD (not filled in all rows)\n",
        "\n",
        "**Tipo de Recurso Solicitado 1** and **Recurso solicitado 1** do not have null rows."
      ]
    },
    {
      "cell_type": "code",
      "metadata": {
        "id": "M74NZmtpFOno",
        "colab": {
          "base_uri": "https://localhost:8080/"
        },
        "outputId": "f983e1e8-958a-448f-84e5-859ef1ad6b35"
      },
      "source": [
        "# Medical information\n",
        "\n",
        "print(\"Number of null rows\")\n",
        "print(\"CID 1:\",len(df_hosp[df_hosp['CID 1'].isnull()]))\n",
        "print(\"Descrição CID 1:\",len(df_hosp[df_hosp['Descrição\\xa0CID\\xa01'].isnull()]))\n",
        "print(\"CID 2:\",len(df_hosp[df_hosp['CID 2'].isnull()]))\n",
        "print(\"Descrição CID 2:\",len(df_hosp[df_hosp['Descrição\\xa0CID\\xa02'].isnull()]))\n",
        "print(\"Tipo de Recurso Solicitado 1:\",len(df_hosp[df_hosp['Tipo de Recurso Solicitado 1'].isnull()]))\n",
        "print(\"Recurso Solicitado 1:\",len(df_hosp[df_hosp['Recurso Solicitado 1'].isnull()]))"
      ],
      "execution_count": null,
      "outputs": [
        {
          "output_type": "stream",
          "text": [
            "Number of null rows\n",
            "CID 1: 0\n",
            "Descrição CID 1: 1\n",
            "CID 2: 26511\n",
            "Descrição CID 2: 26535\n",
            "Tipo de Recurso Solicitado 1: 0\n",
            "Recurso Solicitado 1: 0\n"
          ],
          "name": "stdout"
        }
      ]
    },
    {
      "cell_type": "markdown",
      "metadata": {
        "id": "P-54jPEi8fie"
      },
      "source": [
        "### Location of health units\n",
        "\n",
        "This database has data from hospitalization in which solicitant, executant or final units are from Campinas.\n",
        "\n"
      ]
    },
    {
      "cell_type": "markdown",
      "metadata": {
        "id": "eLnniDUX2CUY"
      },
      "source": [
        "**RRAS**(type of regionalization)\n",
        "\n",
        "RRAS15 e RRAS16 refers to Campinas.\n",
        "\n",
        "**Problem:**\n",
        "- 83 row with RRAS from outside Campinas.\n",
        "\n",
        "**Solution:**\n",
        "- Discard these rows."
      ]
    },
    {
      "cell_type": "code",
      "metadata": {
        "id": "37uUv_f70C4f",
        "colab": {
          "base_uri": "https://localhost:8080/"
        },
        "outputId": "90dffe56-f45e-46b4-ec42-22c67cd1c663"
      },
      "source": [
        "#check for null rows\n",
        "print(\"Rows without RRAS:\",len(df_hosp[df_hosp['RRAS'].isnull()]))\n",
        "\n",
        "#convert to str\n",
        "df_hosp.loc[:,'RRAS'] = df_hosp.loc[:,'RRAS'].astype(str)\n",
        "\n",
        "#drop rows with RRAS not from Campinas\n",
        "print(\"Rows with RRAS from Campinas(RRAS15 ou RRAS16):\",len(df_hosp[df_hosp['RRAS'].str.contains('RRAS15|RRAS16')]))\n",
        "print(\"Rows with RRAS from outside Campinas:\",len(df_hosp[~df_hosp['RRAS'].str.contains('RRAS15|RRAS16')]))\n",
        "df_hosp = df_hosp[df_hosp.loc[:,'RRAS'].str.contains('RRAS15|RRAS16')]"
      ],
      "execution_count": null,
      "outputs": [
        {
          "output_type": "stream",
          "text": [
            "Rows without RRAS: 0\n",
            "Rows with RRAS from Campinas(RRAS15 ou RRAS16): 54189\n",
            "Rows with RRAS from outside Campinas: 83\n"
          ],
          "name": "stdout"
        }
      ]
    },
    {
      "cell_type": "markdown",
      "metadata": {
        "id": "YhJNbOWF2KQ4"
      },
      "source": [
        "**Complexo solicitante**(type of regionalization)\n",
        "\n",
        "CMRR5-Centro-Leste refers to Campinas.\n",
        "\n",
        "**Problem:**\n",
        "- 365 rows with complexo solicitante from outside Campinas.\n",
        "\n",
        "**Solution:**\n",
        "- Discard these rows."
      ]
    },
    {
      "cell_type": "code",
      "metadata": {
        "id": "oiLlChin2TH3",
        "colab": {
          "base_uri": "https://localhost:8080/"
        },
        "outputId": "f5efc989-e177-4510-fb0e-b66cecbda4d6"
      },
      "source": [
        "#check for null rows\n",
        "print(\"Rows without complexo solicitante:\",len(df_hosp[df_hosp['Complexo Solicitante'].isnull()]))\n",
        "\n",
        "#drop rows with requesting complex not from Campinas\n",
        "print(\"Rows with complexo solicitante from Campinas (CMRR 5 - CENTRO-LESTE):\",len(df_hosp[df_hosp['Complexo Solicitante']=='CMRR 5 - CENTRO-LESTE']))\n",
        "print(\"Rows with complexo solicitante from outside Campinas:\",len(df_hosp[df_hosp['Complexo Solicitante']!='CMRR 5 - CENTRO-LESTE']))\n",
        "df_hosp = df_hosp[df_hosp['Complexo Solicitante']=='CMRR 5 - CENTRO-LESTE']"
      ],
      "execution_count": null,
      "outputs": [
        {
          "output_type": "stream",
          "text": [
            "Rows without complexo solicitante: 0\n",
            "Rows with complexo solicitante from Campinas (CMRR 5 - CENTRO-LESTE): 53827\n",
            "Rows with complexo solicitante from outside Campinas: 362\n"
          ],
          "name": "stdout"
        }
      ]
    },
    {
      "cell_type": "markdown",
      "metadata": {
        "id": "U1EJU8i23Gkn"
      },
      "source": [
        "**DRS Solicitante**(type of regionalization)\n",
        "\n",
        "DRS VII refers to Campinas. No null rows or with DRS Solicitante different from DRS VII"
      ]
    },
    {
      "cell_type": "code",
      "metadata": {
        "id": "NKaHnhav3GOe",
        "colab": {
          "base_uri": "https://localhost:8080/"
        },
        "outputId": "3aa58dc8-c6be-433d-bd53-b5befc257036"
      },
      "source": [
        "print(\"Rows with null requesting complex:\",len(df_hosp[df_hosp['DRS Solicitante'].isnull()]))\n",
        "print(\"Rows with requesting complex different from Campinas (DRS VII - CAMPINAS):\",len(df_hosp[df_hosp['DRS Solicitante']!='DRS VII - CAMPINAS']))"
      ],
      "execution_count": null,
      "outputs": [
        {
          "output_type": "stream",
          "text": [
            "Rows with null requesting complex: 0\n",
            "Rows with requesting complex different from Campinas (DRS VII - CAMPINAS): 0\n"
          ],
          "name": "stdout"
        }
      ]
    },
    {
      "cell_type": "markdown",
      "metadata": {
        "id": "LBpasl5vIWtF"
      },
      "source": [
        "## Others\n",
        "\n",
        "Columns refering to the place of hospitalization. Not relevant for the intended analysis."
      ]
    },
    {
      "cell_type": "code",
      "metadata": {
        "id": "Shq03rDd82dv",
        "colab": {
          "base_uri": "https://localhost:8080/"
        },
        "outputId": "e393bf60-5213-4d55-de2a-bdd56a74d9e3"
      },
      "source": [
        "print(\"Number of null rows\")\n",
        "print(\"RRAS2:\",len(df_hosp[df_hosp['RRAS2'].isnull()]))\n",
        "print(\"Complexo Executante:\",len(df_hosp[df_hosp['Complexo Executante'].isnull()]))\n",
        "print(\"DRS Executante:\",len(df_hosp[df_hosp['DRS Executante'].isnull()]))\n",
        "print(\"CGR Executante:\",len(df_hosp[df_hosp['CGR Executante'].isnull()]))\n",
        "print(\"Município Executante:\",len(df_hosp[df_hosp['Município Executante'].isnull()]))\n",
        "print(\"CNES Executante:\",len(df_hosp[df_hosp['CNES Executante'].isnull()]))\n",
        "print(\"Unidade Executante:\",len(df_hosp[df_hosp['Unidade Executante'].isnull()]))"
      ],
      "execution_count": null,
      "outputs": [
        {
          "output_type": "stream",
          "text": [
            "Number of null rows\n",
            "RRAS2: 24439\n",
            "Complexo Executante: 24439\n",
            "DRS Executante: 24439\n",
            "CGR Executante: 24439\n",
            "Município Executante: 24439\n",
            "CNES Executante: 24439\n",
            "Unidade Executante: 24439\n"
          ],
          "name": "stdout"
        }
      ]
    },
    {
      "cell_type": "markdown",
      "metadata": {
        "id": "vg1jvpUfl0cN"
      },
      "source": [
        "### Date\n",
        "\n",
        "Split column **Data/Hora Solicitação** (Date/Hour Solicitation), one for date and one for hour.\n",
        "\n",
        "Drop a row with date from before 2013."
      ]
    },
    {
      "cell_type": "code",
      "metadata": {
        "id": "cmMama1InRjV",
        "colab": {
          "base_uri": "https://localhost:8080/"
        },
        "outputId": "0b35cd9c-cedc-4906-f6d7-fc4e98b4d2b0"
      },
      "source": [
        "#convert to datetime format\n",
        "df_hosp.loc[:,'Data/Hora Solicitação'] = df_hosp.loc[:,'Data/Hora Solicitação'].astype(str)\n",
        "df_hosp.loc[:,'Data'] = df_hosp.loc[:,'Data/Hora Solicitação'].str.split().str[0]\n",
        "df_hosp.loc[:,'Hora'] = df_hosp.loc[:,'Data/Hora Solicitação'].str.split().str[1]\n",
        "\n",
        "#drop rows from before 2013\n",
        "print(\"Data anterior a 2013:\",len(df_hosp[df_hosp['Data']<'2013-01-01']))\n",
        "df_hosp = df_hosp[df_hosp['Data']>'2013-01-01']"
      ],
      "execution_count": null,
      "outputs": [
        {
          "output_type": "stream",
          "text": [
            "Data anterior a 2013: 1\n"
          ],
          "name": "stdout"
        }
      ]
    },
    {
      "cell_type": "markdown",
      "metadata": {
        "id": "opOnnnilKEBU"
      },
      "source": [
        "Hospitalizations per year, 2013 has an unusual lower number."
      ]
    },
    {
      "cell_type": "code",
      "metadata": {
        "colab": {
          "base_uri": "https://localhost:8080/",
          "height": 481
        },
        "id": "XsfsCPUXKDjC",
        "outputId": "06b79494-284f-452c-941d-64bd2e49fa17"
      },
      "source": [
        "#-------------------------------------------------------------------#\n",
        "#                    Hospitalizations per year                      #\n",
        "#-------------------------------------------------------------------#\n",
        "\n",
        "#get absolute value of hospitalizations per year\n",
        "df_hosp['Data'] = pd.to_datetime(df_hosp['Data'])\n",
        "year = pd.DataFrame(df_hosp['Data'].dt.strftime('%Y').value_counts())\n",
        "year = year.reset_index()\n",
        "year = year.sort_values(by=['index'])\n",
        "year = year.rename(columns={'index':'Year','Data':'Count'})\n",
        "\n",
        "#plot\n",
        "plt.figure(figsize = (14,7))\n",
        "plt.bar(year['Year'],year['Count'])\n",
        "plt.xlabel('Year',fontsize = 15)\n",
        "plt.ylabel('Number of hospitalizations',fontsize = 15)\n",
        "plt.title('Hospitalizations per year',fontsize=18)\n",
        "plt.xticks(fontsize = 13, rotation = 20)\n",
        "plt.yticks(fontsize = 13)\n",
        "plt.show()"
      ],
      "execution_count": null,
      "outputs": [
        {
          "output_type": "display_data",
          "data": {
            "image/png": "[encoded data removed]",
            "text/plain": [
              "<Figure size 1008x504 with 1 Axes>"
            ]
          },
          "metadata": {
            "tags": [],
            "needs_background": "light"
          }
        }
      ]
    },
    {
      "cell_type": "markdown",
      "metadata": {
        "id": "fpJ7SBgZEcVE"
      },
      "source": [
        "### Número Paciente (identificador) - Patient number\n",
        "\n",
        "A new column (**Número Paciente**) was created to identify patients that appear more than once.\n",
        "\n",
        "This column was constructed by joining one string correponding to the name of the patient and one for the birthdate. Each unique pair of name and birthdate was considered as an unique patient (and has an unique value in this new column).\n",
        "\n"
      ]
    },
    {
      "cell_type": "code",
      "metadata": {
        "id": "Lth2tDGKq-ds"
      },
      "source": [
        "#create the identifier column based on name and birthdate\n",
        "\n",
        "#.cat.codes creates a column for each name and then for each birthdate\n",
        "str_name = df_hosp.loc[:,'Nome do Paciente'].astype('category').cat.codes.astype(str)\n",
        "str_birthdate = df_hosp.loc[:,'Data Nascimento'].astype('category').cat.codes.astype(str)\n",
        "\n",
        "# by joining these two string we obtain a unique str for each individual\n",
        "df_hosp['Número Paciente'] = str_name + str_birthdate"
      ],
      "execution_count": null,
      "outputs": []
    },
    {
      "cell_type": "markdown",
      "metadata": {
        "id": "LBwIREHiHGV8"
      },
      "source": [
        "### Hospitalizations at the same day\n",
        "\n",
        "**Problem:**\n",
        "- Patients with more than one record at the same day should not be considered more than once.\n",
        "\n",
        "**Solution:**\n",
        "- Only the first occurence was kept (632 rows discarded)."
      ]
    },
    {
      "cell_type": "code",
      "metadata": {
        "id": "MeduZHi5IEgG",
        "colab": {
          "base_uri": "https://localhost:8080/"
        },
        "outputId": "70689c17-6de3-4ad3-85d8-e48a694fd5e0"
      },
      "source": [
        "#drop rows refering to the same patient at the same day\n",
        "print(len(df_hosp[df_hosp.duplicated(['Data','Número Paciente'], keep = 'first')]), \"rows were dropped\")\n",
        "df_hosp = df_hosp.drop_duplicates(['Data','Número Paciente'], keep = 'first')"
      ],
      "execution_count": null,
      "outputs": [
        {
          "output_type": "stream",
          "text": [
            "632 rows were dropped\n"
          ],
          "name": "stdout"
        }
      ]
    },
    {
      "cell_type": "markdown",
      "metadata": {
        "id": "V2eM995UJuOO"
      },
      "source": [
        "## City and year\n",
        "\n",
        "Keep only data from Campinas (solicitant city as Campinas, meaning the patient arrived at a Campinas health unit) and from 2014 foward. This choice was made in order to keep a higher quality for the regional analysis intended.\n"
      ]
    },
    {
      "cell_type": "code",
      "metadata": {
        "id": "uutzl_VAJtl9"
      },
      "source": [
        "#city of solicitation as Campinas\n",
        "df_hosp = df_hosp[df_hosp['Município Solicitante']=='Campinas']\n",
        "\n",
        "#from 2001 foward\n",
        "df_hosp = df_hosp[df_hosp['Data']>='2014-01-01']"
      ],
      "execution_count": null,
      "outputs": []
    },
    {
      "cell_type": "markdown",
      "metadata": {
        "id": "tnhNzkuAT9Dy"
      },
      "source": [
        "## Drop columns and save\n",
        "\n",
        "Drop irrelevant coluns for the intended analysis."
      ]
    },
    {
      "cell_type": "code",
      "metadata": {
        "id": "fMou9zZ9RetN"
      },
      "source": [
        "#drop unneded columns\n",
        "df_hosp = df_hosp.drop(columns= {'Nº ficha','Tipo de Ficha', 'Tipo Solicitação','TARM/PAD',\n",
        "                                'Regulador Inicial','Judicial','Código Paciente', 'CNS', 'Data Nascimento',\n",
        "                                'Data/Hora Solicitação', 'Data/Hora Finalização','Tempo de Resolução (hora/min)',\n",
        "                                'Nome do Paciente', 'Regulador Final','Transp.','Médico Receptor',\n",
        "                                'RRAS','Complexo Solicitante', 'DRS Solicitante', 'CGR Solicitante',\n",
        "                                'Município Solicitante', 'CNES Solicitante', 'Unidade Solicitante',\n",
        "                                'RRAS2', 'Complexo Executante', 'DRS Executante', 'CGR Executante',\n",
        "                                'Município Executante', 'CNES Executante', 'Unidade Executante','Local Regulação',\n",
        "                                'Tipo de Recurso Solicitado 1','Recurso Solicitado 1','Tipo de Fechamento',\n",
        "                                'CID 2','Descrição\\xa0CID\\xa02','Forma de Resolução','Classificação de Risco'})\n",
        "#rename columns\n",
        "df_hosp = df_hosp.rename(columns = {'CID\\xa01':'CID', 'Descrição\\xa0CID\\xa01': 'Descrição CID'})"
      ],
      "execution_count": null,
      "outputs": []
    },
    {
      "cell_type": "markdown",
      "metadata": {
        "id": "p7ymwltpV5gz"
      },
      "source": [
        "## Save csv"
      ]
    },
    {
      "cell_type": "code",
      "metadata": {
        "id": "8RxPzRMeV94j"
      },
      "source": [
        "df_hosp = df_hosp[['Data','Hora','Número Paciente','Sexo','Idade','CID','Descrição CID']]\n",
        "df_hosp.to_csv('hospitalizações_completo.csv')"
      ],
      "execution_count": null,
      "outputs": []
    },
    {
      "cell_type": "markdown",
      "metadata": {
        "id": "VJtIiYFbWdeG"
      },
      "source": [
        "## Circulatory\n",
        "\n",
        "Subset with ICDs from I00 to I99."
      ]
    },
    {
      "cell_type": "code",
      "metadata": {
        "id": "qssjbHWhWk7o"
      },
      "source": [
        "df_circ = df_hosp[df_hosp['CID'].str.contains('I')]\n",
        "df_circ = df_circ[['Data','Hora','Número Paciente','Sexo','Idade','CID','Descrição CID']]\n",
        "df_circ.to_csv('hospitalizações_circulatório.csv')"
      ],
      "execution_count": null,
      "outputs": []
    },
    {
      "cell_type": "markdown",
      "metadata": {
        "id": "mXlBqwpLW-8g"
      },
      "source": [
        "## Respiratory\n",
        "\n",
        "Subset with ICDs from J00 to J99."
      ]
    },
    {
      "cell_type": "code",
      "metadata": {
        "id": "pWyIxVhEW-8j"
      },
      "source": [
        "df_resp = df_hosp[df_hosp['CID'].str.contains('J')]\n",
        "df_resp = df_resp[['Data','Hora','Número Paciente','Sexo','Idade','CID','Descrição CID']]\n",
        "df_circ.to_csv('hospitalizações_respiratório.csv')"
      ],
      "execution_count": null,
      "outputs": []
    }
  ]
}