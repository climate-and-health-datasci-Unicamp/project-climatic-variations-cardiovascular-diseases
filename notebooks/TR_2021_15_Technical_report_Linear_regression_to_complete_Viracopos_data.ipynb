{
  "nbformat": 4,
  "nbformat_minor": 0,
  "metadata": {
    "colab": {
      "name": "TR_2021/15 - Technical report: Linear regression to complete Viracopos data.ipynb",
      "provenance": [],
      "collapsed_sections": [],
      "authorship_tag": "ABX9TyOEDFoqypDedJfjWdvi10+8"
    },
    "kernelspec": {
      "name": "python3",
      "display_name": "Python 3"
    },
    "language_info": {
      "name": "python"
    }
  },
  "cells": [
    {
      "cell_type": "markdown",
      "metadata": {
        "id": "pcD2J9YU3U64"
      },
      "source": [
        "# **TR_2021/15 - Technical report: Linear regression to complete Viracopos data**\n",
        "\n",
        "|Technical Report ID  |2021/15|\n",
        "|--|--|\n",
        "| Title |Case crossover for cardiovascular deaths and extreme events|\n",
        "| Authors | Júlia De Lázari, Paula Dornhofer|\n",
        "| Creation Date| 2021-08|\n",
        "\n",
        "Humidity data from the 5 first months of 2017 is missing or inconsistent, so it was discarded. This data was dropped and a linear regression was performed to complete the missing data.\n",
        "\n",
        "Data from the weather station of CEPAGRI was used to perform this regression.\n",
        "\n",
        "Based on: https://github.com/climate-and-health-datasci-Unicamp/py-climate-health-toolbox/blob/master/examples/Comparison_IAC_VCP.ipynb\n",
        "\n",
        "**inputs:** climatic data from viracopos (viracopos.csv) and from cepagri (Cepagri_111_1997_2018.csv)\n",
        "\n",
        "**outputs:** a new dataframe for viracopos data with the results of the regression for the first 5 months from 2017 (viracopos_regression.csv)"
      ]
    },
    {
      "cell_type": "markdown",
      "metadata": {
        "id": "KLR2KBgEdF7a"
      },
      "source": [
        "##**Import libraries**"
      ]
    },
    {
      "cell_type": "code",
      "metadata": {
        "colab": {
          "base_uri": "https://localhost:8080/"
        },
        "id": "giP_03G5hB9d",
        "outputId": "cc51f3f7-085c-44ad-91fa-4cc0c5ce6826"
      },
      "source": [
        "! git clone https://github.com/climate-and-health-datasci-Unicamp/py-climate-health-toolbox"
      ],
      "execution_count": null,
      "outputs": [
        {
          "output_type": "stream",
          "name": "stdout",
          "text": [
            "fatal: destination path 'py-climate-health-toolbox' already exists and is not an empty directory.\n"
          ]
        }
      ]
    },
    {
      "cell_type": "code",
      "metadata": {
        "colab": {
          "base_uri": "https://localhost:8080/"
        },
        "id": "YlBJXPJVcZ1M",
        "outputId": "19a8a3a8-e197-41ad-e8be-f4b53337dfc7"
      },
      "source": [
        "#import python libraries\n",
        "import numpy as np\n",
        "import pandas as pd\n",
        "from datetime import datetime, timedelta\n",
        "import math\n",
        "import statistics as stat\n",
        "import scipy.stats as stats\n",
        "import datetime as dt\n",
        "import random\n",
        "\n",
        "#plots\n",
        "import matplotlib.pyplot as plt\n",
        "from matplotlib.pyplot import rcParams\n",
        "import seaborn as sns\n",
        "import matplotlib.ticker as mticker\n",
        "\n",
        "#array \n",
        "from array import array\n",
        "from itertools import repeat\n",
        "\n",
        "# regression\n",
        "from sklearn.linear_model import LinearRegression\n",
        "from sklearn import metrics\n",
        "from sklearn.impute import SimpleImputer\n",
        "\n",
        "# climatex\n",
        "import sys\n",
        "sys.path.append('/content/py-climate-health-toolbox/climahe')\n",
        "import climatex as tex\n",
        "\n",
        "#files\n",
        "from google.colab import drive\n",
        "from google.colab import files\n",
        "\n",
        "drive.mount('/content/drive')"
      ],
      "execution_count": null,
      "outputs": [
        {
          "output_type": "stream",
          "name": "stdout",
          "text": [
            "Drive already mounted at /content/drive; to attempt to forcibly remount, call drive.mount(\"/content/drive\", force_remount=True).\n"
          ]
        }
      ]
    },
    {
      "cell_type": "markdown",
      "metadata": {
        "id": "4gWOzv7fdIG8"
      },
      "source": [
        "##**Load data**"
      ]
    },
    {
      "cell_type": "code",
      "metadata": {
        "id": "XNVmgjgScrz1"
      },
      "source": [
        "#-------------------------------------------------------------------#\n",
        "#                          Load Viracopos data                      #\n",
        "#-------------------------------------------------------------------#\n",
        "\n",
        "#Load humidity dataframe\n",
        "df_VCP = pd.read_csv('viracopos.csv')\n",
        "df_VCP = df_VCP.drop(columns = {'Unnamed: 0'})\n",
        "df_VCP['DATE'] = pd.to_datetime(df_VCP['DATE']) #convert to datetime\n",
        "df_VCP['YEAR'] = df_VCP['DATE'].dt.strftime('%Y') #create column for year\n",
        "\n",
        "#drop inconsistent data\n",
        "df_VCP.loc[(df_VCP['DATE']>='2016-12-31') & (df_VCP['DATE']<='2017-06-01'), 'HMIN'] = np.nan\n",
        "df_VCP.loc[(df_VCP['DATE']>='2016-12-31') & (df_VCP['DATE']<='2017-06-01'), 'HMAX'] = np.nan"
      ],
      "execution_count": null,
      "outputs": []
    },
    {
      "cell_type": "code",
      "metadata": {
        "id": "dulsr0kGgoJK"
      },
      "source": [
        "#-------------------------------------------------------------------#\n",
        "#                          Load CEPAGRI data                        #\n",
        "#-------------------------------------------------------------------#\n",
        "\n",
        "df_aux = pd.read_csv('Cepagri_111_1997_2018.csv')\n",
        "df_aux = df_aux[['YEAR','DAY365','HRMINUTE','N_RHMEAN_10']] #keep only needed columns\n",
        "\n",
        "#create date column using the year and the julian day column\n",
        "df_aux['DATE'] = pd.to_datetime(df_aux['YEAR'] * 1000 + df_aux['DAY365'], format='%Y%j')\n",
        "df_aux = df_aux[['DATE','N_RHMEAN_10']]\n",
        "\n",
        "#drop columns with unacceptable values for humidity (out of the range 0-100%)\n",
        "df_aux = df_aux[(df_aux['N_RHMEAN_10']>0)&(df_aux['N_RHMEAN_10']<=100)]\n",
        "\n",
        "#create a second dataframe for minimum and maximum values per day\n",
        "df_CEPAGRI = pd.DataFrame()\n",
        "df_CEPAGRI['DATE']=df_aux['DATE']\n",
        "\n",
        "#get min and maximum per day\n",
        "df_CEPAGRI['HMAX'] = df_aux.groupby('DATE')['N_RHMEAN_10'].transform(max)\n",
        "df_CEPAGRI['HMIN'] = df_aux.groupby('DATE')['N_RHMEAN_10'].transform(min)\n",
        "\n",
        "#drop duplicates\n",
        "df_CEPAGRI = df_CEPAGRI.drop_duplicates('DATE')\n",
        "\n",
        "#complete missing dates\n",
        "df_CEPAGRI = tex.complete_df(df_CEPAGRI)\n",
        "\n",
        "#create column for year\n",
        "df_CEPAGRI['YEAR'] = df_CEPAGRI['DATE'].dt.strftime('%Y')\n",
        "df_CEPAGRI['MONTH'] = df_CEPAGRI['DATE'].dt.strftime('%m')"
      ],
      "execution_count": null,
      "outputs": []
    },
    {
      "cell_type": "markdown",
      "metadata": {
        "id": "qOEwfsDEdLed"
      },
      "source": [
        "##**Missing values**\n",
        "\n",
        "Analyse the percentage of null values of both dataframes. The period of interest is between 2001 and 2018, because of the health data."
      ]
    },
    {
      "cell_type": "code",
      "metadata": {
        "id": "rk2fixs2BtsB"
      },
      "source": [
        "#complete both dataframes using the climatex function\n",
        "    #this function completes the missing dates and fill the values from this dates with NaN\n",
        "\n",
        "#CEPAGRI\n",
        "df_CEPAGRI = tex.complete_df(df_CEPAGRI)\n",
        "\n",
        "#Viracopos\n",
        "df_VCP_aux = df_VCP[df_VCP['DATE']>='1997-01-01'] #keep only data after 1997 (start of CEPAGRI data)\n",
        "df_VCP_aux = tex.complete_df(df_VCP_aux)"
      ],
      "execution_count": null,
      "outputs": []
    },
    {
      "cell_type": "code",
      "metadata": {
        "colab": {
          "base_uri": "https://localhost:8080/"
        },
        "id": "B4y6uYYbdMvS",
        "outputId": "ca271a2c-3b79-4668-fc2a-e83cc71bdd09"
      },
      "source": [
        "print(\"Percentage of null values VCP (1983-2018) \\n\")\n",
        "\n",
        "print(\"TMIN:\", round((len(df_VCP[df_VCP['TMIN'].isnull()]))/len(df_VCP)*100,2),\"%\")\n",
        "print(\"TMAX:\", round((len(df_VCP[df_VCP['TMAX'].isnull()]))/len(df_VCP)*100,2),\"%\")\n",
        "print(\"AVGPRESSURE:\", round((len(df_VCP[df_VCP['AVGPRESSURE'].isnull()]))/len(df_VCP)*100,2),\"%\")\n",
        "print(\"HMIN:\", round((len(df_VCP[df_VCP['HMIN'].isnull()]))/len(df_VCP)*100,2),\"%\")\n",
        "print(\"HMAX:\", round((len(df_VCP[df_VCP['HMAX'].isnull()]))/len(df_VCP)*100,2),\"%\")"
      ],
      "execution_count": null,
      "outputs": [
        {
          "output_type": "stream",
          "name": "stdout",
          "text": [
            "Percentage of null values VCP (1983-2018) \n",
            "\n",
            "TMIN: 2.18 %\n",
            "TMAX: 2.18 %\n",
            "AVGPRESSURE: 10.66 %\n",
            "HMIN: 3.32 %\n",
            "HMAX: 3.32 %\n"
          ]
        }
      ]
    },
    {
      "cell_type": "code",
      "metadata": {
        "colab": {
          "base_uri": "https://localhost:8080/"
        },
        "id": "nl_Hlpg4hisv",
        "outputId": "6df99027-8031-4807-9403-84ffa05232b7"
      },
      "source": [
        "df_aux = df_VCP[df_VCP['DATE']>='2001-01-01']\n",
        "print(\"Percentage of null values VCP (2001-2018) \\n\")\n",
        "\n",
        "print(\"TMIN:\", round((len(df_aux[df_aux['TMIN'].isnull()]))/len(df_aux)*100,2),\"%\")\n",
        "print(\"TMAX:\", round((len(df_aux[df_aux['TMAX'].isnull()]))/len(df_aux)*100,2),\"%\")\n",
        "print(\"AVGPRESSURE:\", round((len(df_aux[df_aux['AVGPRESSURE'].isnull()]))/len(df_aux)*100,2),\"%\")\n",
        "print(\"HMIN:\", round((len(df_aux[df_aux['HMIN'].isnull()]))/len(df_aux)*100,2),\"%\")\n",
        "print(\"HMAX:\", round((len(df_aux[df_aux['HMAX'].isnull()]))/len(df_aux)*100,2),\"%\")"
      ],
      "execution_count": null,
      "outputs": [
        {
          "output_type": "stream",
          "name": "stdout",
          "text": [
            "Percentage of null values VCP (2001-2018) \n",
            "\n",
            "TMIN: 0.17 %\n",
            "TMAX: 0.17 %\n",
            "AVGPRESSURE: 0.0 %\n",
            "HMIN: 2.36 %\n",
            "HMAX: 2.36 %\n"
          ]
        }
      ]
    },
    {
      "cell_type": "code",
      "metadata": {
        "colab": {
          "base_uri": "https://localhost:8080/"
        },
        "id": "UyFnP_tFhMu_",
        "outputId": "f02ab4fa-6fa2-42c5-d591-526280c9efa9"
      },
      "source": [
        "print(\"Percentage of null values CEPAGRI (1997-2018) \\n\")\n",
        "\n",
        "print(\"HMIN:\", round((len(df_CEPAGRI[df_CEPAGRI['HMIN'].isnull()]))/len(df_CEPAGRI)*100,2),\"%\")\n",
        "print(\"HMAX:\", round((len(df_CEPAGRI[df_CEPAGRI['HMAX'].isnull()]))/len(df_CEPAGRI)*100,2),\"%\")"
      ],
      "execution_count": null,
      "outputs": [
        {
          "output_type": "stream",
          "name": "stdout",
          "text": [
            "Percentage of null values CEPAGRI (1997-2018) \n",
            "\n",
            "HMIN: 1.34 %\n",
            "HMAX: 1.34 %\n"
          ]
        }
      ]
    },
    {
      "cell_type": "code",
      "metadata": {
        "colab": {
          "base_uri": "https://localhost:8080/"
        },
        "id": "H29OQ48Th0ut",
        "outputId": "d86ce861-f42a-429c-aeb3-e150e1b9a1b7"
      },
      "source": [
        "df_aux = df_CEPAGRI[df_CEPAGRI['DATE']>='2001-01-01']\n",
        "print(\"Percentage of null values CEPAGRI (2001-2018) \\n\")\n",
        "\n",
        "print(\"HMIN:\", round((len(df_aux[df_aux['HMIN'].isnull()]))/len(df_aux)*100,2),\"%\")\n",
        "print(\"HMAX:\", round((len(df_aux[df_aux['HMAX'].isnull()]))/len(df_aux)*100,2),\"%\")"
      ],
      "execution_count": null,
      "outputs": [
        {
          "output_type": "stream",
          "name": "stdout",
          "text": [
            "Percentage of null values CEPAGRI (2001-2018) \n",
            "\n",
            "HMIN: 0.84 %\n",
            "HMAX: 0.84 %\n"
          ]
        }
      ]
    },
    {
      "cell_type": "markdown",
      "metadata": {
        "id": "UU9LJHkwjMVx"
      },
      "source": [
        "##**Plots**\n",
        "\n",
        "Compare the distribution of data from both dataframes"
      ]
    },
    {
      "cell_type": "code",
      "metadata": {
        "colab": {
          "base_uri": "https://localhost:8080/",
          "height": 295
        },
        "id": "Fx-iM313jNt4",
        "outputId": "55d0d121-25ac-4882-ad42-435bf2b0fa1b"
      },
      "source": [
        "plt.plot(df_CEPAGRI['HMAX'],df_VCP_aux['HMAX'],'c.')\n",
        "plt.xlabel('CEPAGRI: Maximum humidity (%)')\n",
        "plt.ylabel('VCP: Maximum humidity (%)')\n",
        "plt.title('CEPAGRI x VCP')\n",
        "plt.show()"
      ],
      "execution_count": null,
      "outputs": [
        {
          "output_type": "display_data",
          "data": {
            "image/png": "[encoded data removed]",
            "text/plain": [
              "<Figure size 432x288 with 1 Axes>"
            ]
          },
          "metadata": {
            "needs_background": "light"
          }
        }
      ]
    },
    {
      "cell_type": "code",
      "metadata": {
        "colab": {
          "base_uri": "https://localhost:8080/",
          "height": 312
        },
        "id": "Kjk1-BEZjZsK",
        "outputId": "9d996889-8496-4ab1-a910-9256e582249b"
      },
      "source": [
        "plt.plot(df_CEPAGRI['HMIN'],df_VCP_aux['HMIN'],'c.')\n",
        "plt.xlabel('CEPAGRI: Minimum humidity (%)')\n",
        "plt.ylabel('VCP: Minimum humidity (%)')\n",
        "plt.title('CEPAGRI x VCP')"
      ],
      "execution_count": null,
      "outputs": [
        {
          "output_type": "execute_result",
          "data": {
            "text/plain": [
              "Text(0.5, 1.0, 'CEPAGRI x VCP')"
            ]
          },
          "metadata": {},
          "execution_count": 11
        },
        {
          "output_type": "display_data",
          "data": {
            "image/png": "[encoded data removed]",
            "text/plain": [
              "<Figure size 432x288 with 1 Axes>"
            ]
          },
          "metadata": {
            "needs_background": "light"
          }
        }
      ]
    },
    {
      "cell_type": "markdown",
      "metadata": {
        "id": "UDBO4uMvgJfB"
      },
      "source": [
        "##**Regression**"
      ]
    },
    {
      "cell_type": "markdown",
      "metadata": {
        "id": "4HaWjVjVgLAb"
      },
      "source": [
        "###**Maximum humidity**"
      ]
    },
    {
      "cell_type": "code",
      "metadata": {
        "id": "5Hga7ixKgNBQ"
      },
      "source": [
        "#transforming columns into vector\n",
        "x_max = df_CEPAGRI['HMAX'].values.reshape(-1,1) \n",
        "y_max = df_VCP_aux['HMAX'].values.reshape(-1,1)"
      ],
      "execution_count": null,
      "outputs": []
    },
    {
      "cell_type": "code",
      "metadata": {
        "id": "w_8q4SZ_iGfK"
      },
      "source": [
        "#filling missing data\n",
        "imputer = SimpleImputer()\n",
        "x_max_train = imputer.fit_transform(x_max)\n",
        "y_max_train = imputer.fit_transform(y_max)"
      ],
      "execution_count": null,
      "outputs": []
    },
    {
      "cell_type": "code",
      "metadata": {
        "colab": {
          "base_uri": "https://localhost:8080/"
        },
        "id": "YNDB3nWCiHt0",
        "outputId": "810d9be8-39bb-4c9a-a915-f0e9a75a6541"
      },
      "source": [
        "#performing regression\n",
        "regressor_max = LinearRegression()  \n",
        "regressor_max.fit(x_max_train, y_max_train)"
      ],
      "execution_count": null,
      "outputs": [
        {
          "output_type": "execute_result",
          "data": {
            "text/plain": [
              "LinearRegression(copy_X=True, fit_intercept=True, n_jobs=None, normalize=False)"
            ]
          },
          "metadata": {},
          "execution_count": 14
        }
      ]
    },
    {
      "cell_type": "code",
      "metadata": {
        "colab": {
          "base_uri": "https://localhost:8080/"
        },
        "id": "f3mxjEQmjkyQ",
        "outputId": "57284473-fd42-422a-c48b-dc709afc0cc4"
      },
      "source": [
        "#obtaining intercept and slope - relationship between Tmax_IAC and Tmax_VCP\n",
        "print(\"Hmax_VCP = Hmax_IAC x\",regressor_max.coef_,\"+\",regressor_max.intercept_)"
      ],
      "execution_count": null,
      "outputs": [
        {
          "output_type": "stream",
          "name": "stdout",
          "text": [
            "Hmax_VCP = Hmax_IAC x [[0.59480888]] + [37.94192572]\n"
          ]
        }
      ]
    },
    {
      "cell_type": "markdown",
      "metadata": {
        "id": "xXi6Gr52kAxv"
      },
      "source": [
        "###**Minimum humidity**"
      ]
    },
    {
      "cell_type": "code",
      "metadata": {
        "id": "Ge8A64t5kAyP"
      },
      "source": [
        "#transforming columns into vector\n",
        "x_min = df_CEPAGRI['HMIN'].values.reshape(-1,1) \n",
        "y_min = df_VCP_aux['HMIN'].values.reshape(-1,1)"
      ],
      "execution_count": null,
      "outputs": []
    },
    {
      "cell_type": "code",
      "metadata": {
        "id": "iqBMSB3mkAyR"
      },
      "source": [
        "#filling missing data\n",
        "imputer = SimpleImputer()\n",
        "x_min_train = imputer.fit_transform(x_min)\n",
        "y_min_train = imputer.fit_transform(y_min)"
      ],
      "execution_count": null,
      "outputs": []
    },
    {
      "cell_type": "code",
      "metadata": {
        "colab": {
          "base_uri": "https://localhost:8080/"
        },
        "id": "2H3ac0RpkAyS",
        "outputId": "e8f157b2-f827-4f0d-deec-9a7bc91d85dd"
      },
      "source": [
        "#performing regression\n",
        "regressor_min = LinearRegression()  \n",
        "regressor_min.fit(x_min_train, y_min_train)"
      ],
      "execution_count": null,
      "outputs": [
        {
          "output_type": "execute_result",
          "data": {
            "text/plain": [
              "LinearRegression(copy_X=True, fit_intercept=True, n_jobs=None, normalize=False)"
            ]
          },
          "metadata": {},
          "execution_count": 18
        }
      ]
    },
    {
      "cell_type": "code",
      "metadata": {
        "colab": {
          "base_uri": "https://localhost:8080/"
        },
        "id": "BlAIDGYakAyT",
        "outputId": "84ea59a4-348a-4bc2-ea22-9a8127d3dbcc"
      },
      "source": [
        "#obtaining intercept and slope - relationship between Tmax_IAC and Tmax_VCP\n",
        "print(\"Hmax_VCP = Hmax_IAC x\",regressor_min.coef_,\"+\",regressor_min.intercept_)"
      ],
      "execution_count": null,
      "outputs": [
        {
          "output_type": "stream",
          "name": "stdout",
          "text": [
            "Hmax_VCP = Hmax_IAC x [[0.84690863]] + [5.85712938]\n"
          ]
        }
      ]
    },
    {
      "cell_type": "markdown",
      "metadata": {
        "id": "2uWSyvl_kTdM"
      },
      "source": [
        "##**Use regression to predict 2017 data**"
      ]
    },
    {
      "cell_type": "code",
      "metadata": {
        "id": "3arUwROXkVzB"
      },
      "source": [
        "#CEPAGRI data that will be used to predict Viracopos data\n",
        "CEPAGRI_base = df_CEPAGRI[(df_CEPAGRI['DATE']>='2016-12-31') & (df_CEPAGRI['DATE']<='2017-06-01')]"
      ],
      "execution_count": null,
      "outputs": []
    },
    {
      "cell_type": "markdown",
      "metadata": {
        "id": "JW8eJKxvkzOu"
      },
      "source": [
        "###**Maximum humidity**"
      ]
    },
    {
      "cell_type": "code",
      "metadata": {
        "id": "bw_4T0j0kvod"
      },
      "source": [
        "#defining predictor CEPAGRI \n",
        "Z_max = CEPAGRI_base['HMAX'].values.reshape(-1,1)\n",
        "\n",
        "#filling missing data\n",
        "Z_max_imputed = imputer.fit_transform(Z_max)\n",
        "\n",
        "#predicting Hmax_VCP using regression\n",
        "hmax_pred=regressor_max.predict(Z_max_imputed)"
      ],
      "execution_count": null,
      "outputs": []
    },
    {
      "cell_type": "code",
      "metadata": {
        "colab": {
          "base_uri": "https://localhost:8080/",
          "height": 295
        },
        "id": "gj2cW10klNtX",
        "outputId": "e6e55f55-75d3-45c1-e061-e9a2c408093c"
      },
      "source": [
        "#Plot of the regression\n",
        "\n",
        "plt.plot(df_CEPAGRI['HMAX'],df_VCP_aux['HMAX'],'c.')\n",
        "plt.plot(Z_max, hmax_pred, color='red', linewidth=2)\n",
        "plt.xlabel('CEPAGRI: Hmax (%)')\n",
        "plt.ylabel('VCP: Hmax (%)')\n",
        "plt.title('CEPAGRI x VCP: Maximum humidity')\n",
        "plt.show()"
      ],
      "execution_count": null,
      "outputs": [
        {
          "output_type": "display_data",
          "data": {
            "image/png": "[encoded data removed]",
            "text/plain": [
              "<Figure size 432x288 with 1 Axes>"
            ]
          },
          "metadata": {
            "needs_background": "light"
          }
        }
      ]
    },
    {
      "cell_type": "markdown",
      "metadata": {
        "id": "Komfl0xtljez"
      },
      "source": [
        "###**Minimum humidity**"
      ]
    },
    {
      "cell_type": "code",
      "metadata": {
        "id": "3jwyIUd3lje0"
      },
      "source": [
        "#defining predictor CEPAGRI \n",
        "Z_min = CEPAGRI_base['HMIN'].values.reshape(-1,1)\n",
        "\n",
        "#filling missing data\n",
        "Z_min_imputed = imputer.fit_transform(Z_min)\n",
        "\n",
        "#predicting Hmax_VCP using regression\n",
        "hmin_pred = regressor_min.predict(Z_min_imputed)"
      ],
      "execution_count": null,
      "outputs": []
    },
    {
      "cell_type": "code",
      "metadata": {
        "colab": {
          "base_uri": "https://localhost:8080/",
          "height": 295
        },
        "id": "LwhnzBLYlje2",
        "outputId": "5e63012f-b8e4-47c7-c2d0-0a893e7d55ac"
      },
      "source": [
        "#Plot of the regression\n",
        "\n",
        "plt.plot(df_CEPAGRI['HMIN'],df_VCP_aux['HMIN'],'c.')\n",
        "plt.plot(Z_min, hmin_pred, color='blue', linewidth=2)\n",
        "plt.xlabel('CEPAGRI: Hmin (%)')\n",
        "plt.ylabel('VCP: Hmin (%)')\n",
        "plt.title('CEPAGRI x VCP: Minimum humidity')\n",
        "plt.show()"
      ],
      "execution_count": null,
      "outputs": [
        {
          "output_type": "display_data",
          "data": {
            "image/png": "[encoded data removed]",
            "text/plain": [
              "<Figure size 432x288 with 1 Axes>"
            ]
          },
          "metadata": {
            "needs_background": "light"
          }
        }
      ]
    },
    {
      "cell_type": "markdown",
      "metadata": {
        "id": "nPgr2LoxmfWi"
      },
      "source": [
        "##**Reconstruct dataframe**\n",
        "\n",
        "Include the regression results on the original dataframe"
      ]
    },
    {
      "cell_type": "code",
      "metadata": {
        "id": "GJK0vr8zFf8w"
      },
      "source": [
        "# fix shape\n",
        "hmax_pred = np.reshape(hmax_pred,(153,))\n",
        "hmin_pred = np.reshape(hmin_pred,(153,))"
      ],
      "execution_count": null,
      "outputs": []
    },
    {
      "cell_type": "code",
      "metadata": {
        "id": "mzXg7RLGmhGq"
      },
      "source": [
        "#replace values in column\n",
        "df_VCP.HMAX.loc[(df_VCP['DATE']>='2016-12-31') & (df_VCP['DATE']<='2017-06-01')]= hmax_pred\n",
        "df_VCP.HMIN.loc[(df_VCP['DATE']>='2016-12-31') & (df_VCP['DATE']<='2017-06-01')]= hmin_pred"
      ],
      "execution_count": null,
      "outputs": []
    },
    {
      "cell_type": "code",
      "metadata": {
        "id": "MLevzd7pO6Ug"
      },
      "source": [
        "#keep only 2 decimal places\n",
        "df_VCP['HMAX'] = round(df_VCP['HMAX'])\n",
        "df_VCP['HMIN'] = round(df_VCP['HMIN'])"
      ],
      "execution_count": null,
      "outputs": []
    },
    {
      "cell_type": "markdown",
      "metadata": {
        "id": "6JzRgeYK5JuV"
      },
      "source": [
        "##**Save new dataframe**"
      ]
    },
    {
      "cell_type": "code",
      "metadata": {
        "id": "bKDaFG985LIK"
      },
      "source": [
        "df_VCP.to_csv('viracopos_regression.csv')"
      ],
      "execution_count": null,
      "outputs": []
    }
  ]
}