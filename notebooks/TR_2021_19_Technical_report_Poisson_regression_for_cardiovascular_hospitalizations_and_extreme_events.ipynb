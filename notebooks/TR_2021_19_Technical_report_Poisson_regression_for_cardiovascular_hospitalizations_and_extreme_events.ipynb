{
  "nbformat": 4,
  "nbformat_minor": 0,
  "metadata": {
    "colab": {
      "name": "TR_2021/19 - Technical report: Poisson regression for cardiovascular hospitalizations and extreme events.ipynb",
      "provenance": [],
      "mount_file_id": "12FmRf-HwNcus_dctanQsIb_eJWxszAty",
      "authorship_tag": "ABX9TyO2/QuvM03+9nti0Rm+jcKT"
    },
    "kernelspec": {
      "name": "python3",
      "display_name": "Python 3"
    },
    "language_info": {
      "name": "python"
    }
  },
  "cells": [
    {
      "cell_type": "markdown",
      "metadata": {
        "id": "KUgUIB0Hf3Mm"
      },
      "source": [
        "# **TR_2021/19 - Technical report: Poisson regression for cardiovascular hospitalizations and extreme events**\n",
        "\n",
        "\n",
        "|Technical Report ID  |2021/xx|\n",
        "|--|--|\n",
        "| Title |Poisson regression for cardiovascular hospitalizations and extreme events|\n",
        "| Authors | Júlia De Lázari, Paula Dornhofer|\n",
        "| Creation Date| 2021-09|\n",
        "\n",
        "\n",
        "## Databases descriptions\n",
        "\n",
        "**inputs:** \n",
        "\n",
        "- hospitalizações_circulatorio.csv: Dataframe of hospitalizations due to cardiovascular diseases from 2014 to 2018.\n",
        "\n",
        "- EV_VCP.csv: Dataframe with the extreme events computed. Viracopos data was used for this.\n",
        "\n",
        "## Analysis\n",
        "\n",
        "This report presents an analysis of the the _relative risk_ for the [extreme climate events](https://github.com/climate-and-health-datasci-Unicamp/project-climatic-variations-cardiovascular-diseases/blob/main/notebooks/TR_2020_05_Extreme_climatic_events_for_Campinas.ipynb) using a case crossover design."
      ]
    },
    {
      "cell_type": "markdown",
      "metadata": {
        "id": "D6P1812TgDwq"
      },
      "source": [
        "##**Poisson regression**\n",
        "\n",
        "Poisson regression was used to estimate the relative risk associated with each extreme event. The Poisson regression is used to model counts and was used to model the daily number of deaths and hospitalizations. As the mean and variance are not equal, we used a generalized Poisson regression [Consul]. In this model, the probability of observing k events is given by:\n",
        "\n",
        "$$P_y(y=k) = \\frac{e^{-(\\lambda + \\alpha*k)*(\\lambda + \\alpha*k)^{k-1}}}{k!}$$\n",
        "\n",
        "And the mean and variance:\n",
        "\n",
        "$$\\mbox{mean(y)} = \\frac{\\lambda}{(1-\\alpha)} \\hspace{50pt} \\mbox{variance(y)} = \\frac{\\lambda}{(1-\\alpha)^3}$$\n",
        "\n",
        "We included the other meteorological parameters, a categorical variable for the day of the week, the month, and the month and year. After an exploratory analysis of these variables and their p-value, we chose to keep the day of the week, STRATA (month and year), minimum temperature, average pressure for all the regression."
      ]
    },
    {
      "cell_type": "markdown",
      "metadata": {
        "id": "UejpmOhNoQTn"
      },
      "source": [
        "##**Import libraries**"
      ]
    },
    {
      "cell_type": "code",
      "metadata": {
        "colab": {
          "base_uri": "https://localhost:8080/"
        },
        "id": "0_pkZ9grns-T",
        "outputId": "dc6ae452-f0c3-4204-c093-1d3e08c467e2"
      },
      "source": [
        "#-------------------------------------------------------------------#\n",
        "#                       Import libraries                            #\n",
        "#-------------------------------------------------------------------#\n",
        "import pandas as pd\n",
        "import numpy as np\n",
        "import datetime\n",
        "import more_itertools as mit\n",
        "import datetime\n",
        "import statistics as stat\n",
        "import matplotlib.pyplot as plt\n",
        "from matplotlib.ticker import PercentFormatter\n",
        "import scipy\n",
        "import seaborn as sns\n",
        "sns.set()\n",
        "import pylab\n",
        "from datetime import timedelta\n",
        "from calendar import isleap\n",
        "from patsy import dmatrices\n",
        "import statsmodels as stat\n",
        "import statsmodels.api as sm\n",
        "import statsmodels.formula.api as smf\n",
        "\n",
        "from google.colab import drive\n",
        "from google.colab import files\n",
        "\n",
        "drive.mount('/content/drive')"
      ],
      "execution_count": 1,
      "outputs": [
        {
          "output_type": "stream",
          "name": "stderr",
          "text": [
            "/usr/local/lib/python3.7/dist-packages/statsmodels/tools/_testing.py:19: FutureWarning: pandas.util.testing is deprecated. Use the functions in the public API at pandas.testing instead.\n",
            "  import pandas.util.testing as tm\n"
          ]
        },
        {
          "output_type": "stream",
          "name": "stdout",
          "text": [
            "Mounted at /content/drive\n"
          ]
        }
      ]
    },
    {
      "cell_type": "markdown",
      "metadata": {
        "id": "jQikBalDEUfw"
      },
      "source": [
        "##**Load data**"
      ]
    },
    {
      "cell_type": "markdown",
      "metadata": {
        "id": "oz-avXtJQNiN"
      },
      "source": [
        "###**Climatic data**"
      ]
    },
    {
      "cell_type": "code",
      "metadata": {
        "id": "mYTIPHCEEWE3"
      },
      "source": [
        "#-------------------------------------------------------------------#\n",
        "#                          Load Viracopos data                      #\n",
        "#-------------------------------------------------------------------#\n",
        "\n",
        "#Load humidity dataframe\n",
        "df_vir = pd.read_csv('EV_VCP.csv')\n",
        "df_vir = df_vir.drop(columns = {'Unnamed: 0'})\n",
        "df_vir['DATE'] = pd.to_datetime(df_vir['DATE'])\n",
        "df_vir['YEAR'] = df_vir['DATE'].dt.strftime('%Y') #create column for year"
      ],
      "execution_count": 2,
      "outputs": []
    },
    {
      "cell_type": "code",
      "metadata": {
        "colab": {
          "base_uri": "https://localhost:8080/"
        },
        "id": "SXyJrym4CznZ",
        "outputId": "890ad101-050d-4a66-844c-46ca9c55907b"
      },
      "source": [
        "print(\"Percentage of null values VCP (1983-2018) \\n\")\n",
        "\n",
        "print(\"TMIN:\", round((len(df_vir[df_vir['TMIN'].isnull()]))/len(df_vir)*100,2),\"%\")\n",
        "print(\"TMAX:\", round((len(df_vir[df_vir['TMAX'].isnull()]))/len(df_vir)*100,2),\"%\")\n",
        "print(\"AVGPRESSURE:\", round((len(df_vir[df_vir['AVGPRESSURE'].isnull()]))/len(df_vir)*100,2),\"%\")\n",
        "print(\"HMIN:\", round((len(df_vir[df_vir['HMIN'].isnull()]))/len(df_vir)*100,2),\"%\")\n",
        "print(\"HMAX:\", round((len(df_vir[df_vir['HMAX'].isnull()]))/len(df_vir)*100,2),\"%\")\n",
        "\n",
        "print(\"\\n\")\n",
        "\n",
        "print(\"Number of null rows \\n\")\n",
        "\n",
        "print(\"TMIN:\", len(df_vir[df_vir['TMIN'].isnull()]))\n",
        "print(\"TMAX:\", len(df_vir[df_vir['TMAX'].isnull()]))\n",
        "print(\"AVGPRESSURE:\",len(df_vir[df_vir['AVGPRESSURE'].isnull()]))\n",
        "print(\"HMIN:\", len(df_vir[df_vir['HMIN'].isnull()]))\n",
        "print(\"HMAX:\", len(df_vir[df_vir['HMAX'].isnull()]))"
      ],
      "execution_count": 3,
      "outputs": [
        {
          "output_type": "stream",
          "name": "stdout",
          "text": [
            "Percentage of null values VCP (1983-2018) \n",
            "\n",
            "TMIN: 0.18 %\n",
            "TMAX: 0.18 %\n",
            "AVGPRESSURE: 0.02 %\n",
            "HMIN: 0.05 %\n",
            "HMAX: 0.05 %\n",
            "\n",
            "\n",
            "Number of null rows \n",
            "\n",
            "TMIN: 12\n",
            "TMAX: 12\n",
            "AVGPRESSURE: 1\n",
            "HMIN: 3\n",
            "HMAX: 3\n"
          ]
        }
      ]
    },
    {
      "cell_type": "code",
      "metadata": {
        "id": "aQhG2baSCzIB"
      },
      "source": [
        "#fill na \n",
        "df_vir['HMIN'].fillna(df_vir['HMIN'].mean(), inplace=True)\n",
        "df_vir['HMAX'].fillna(df_vir['HMAX'].mean(), inplace=True)\n",
        "df_vir['TMIN'].fillna(df_vir['TMIN'].mean(), inplace=True)\n",
        "df_vir['TMAX'].fillna(df_vir['TMAX'].mean(), inplace=True)\n",
        "df_vir['AVGPRESSURE'].fillna(df_vir['AVGPRESSURE'].mean(), inplace=True)"
      ],
      "execution_count": 4,
      "outputs": []
    },
    {
      "cell_type": "markdown",
      "metadata": {
        "id": "VK_CDc90QQMZ"
      },
      "source": [
        "###**Health data**"
      ]
    },
    {
      "cell_type": "code",
      "metadata": {
        "id": "zoN3kkhkKNvo"
      },
      "source": [
        "#-------------------------------------------------------------------#\n",
        "#                 Circulatory hospitalizations                      #\n",
        "#-------------------------------------------------------------------#\n",
        "\n",
        "df_hosp = pd.read_csv('hospitalizações_circulatório.csv')\n",
        "df_hosp = df_hosp.drop(columns = {'Unnamed: 0','Hora','Número Paciente','Descrição CID'}) #drop unneeded columns\n",
        "df_hosp = df_hosp.rename(columns = {'Data':'DATE','Idade': 'IDADE','Sexo': 'SEXO'}) #rename Data to DATE to merge dataframes\n",
        "df_hosp = df_hosp[(df_hosp.DATE !='2012-02-29')&(df_hosp.DATE !='2016-02-29')] #remove leap year dates (02-29)\n",
        "df_hosp = df_hosp.sort_values('DATE')"
      ],
      "execution_count": 5,
      "outputs": []
    },
    {
      "cell_type": "markdown",
      "metadata": {
        "id": "UcwH-sz1AzED"
      },
      "source": [
        "##**Merge dataframes**"
      ]
    },
    {
      "cell_type": "code",
      "metadata": {
        "id": "yKGM7LOCKaaa"
      },
      "source": [
        "#use an auxiliar dataframe to store the number of hospitalizations per day\n",
        "df_aux = pd.DataFrame() #create new dataframe\n",
        "df_aux['DATE'] = df_hosp['DATE']\n",
        "df_aux['HOSP'] = np.where(df_hosp['CID'].isnull(),0,df_hosp.groupby(['DATE']).DATE.transform('count'))\n",
        "df_aux = df_aux.drop_duplicates('DATE',keep='first')\n",
        "df_aux['DATE'] = pd.to_datetime(df_aux['DATE'])\n",
        "df_aux = df_aux.sort_values('DATE')\n",
        "\n",
        "df = pd.merge(df_aux, df_vir, on = 'DATE', how='outer')\n",
        "df = df.sort_values('DATE')\n",
        "df = df[df['DATE']>'2014-01-01']"
      ],
      "execution_count": 6,
      "outputs": []
    },
    {
      "cell_type": "code",
      "metadata": {
        "colab": {
          "base_uri": "https://localhost:8080/",
          "height": 518
        },
        "id": "KC9Iq2eTKaab",
        "outputId": "f92242f3-519f-4774-cffd-aa1f24d9b1c2"
      },
      "source": [
        "#Basic plot of number of hospitalizations\n",
        "plt.figure(figsize=(20,8))\n",
        "df.HOSP.plot()\n",
        "plt.title('Number of hospitalizations due to circulatory CIDs from 2001 to 2018')\n",
        "plt.ylabel('Number of hospitalizations')\n",
        "plt.xlabel('DATE')\n",
        "plt.show()"
      ],
      "execution_count": 7,
      "outputs": [
        {
          "output_type": "display_data",
          "data": {
            "image/png": "[encoded data removed]",
            "text/plain": [
              "<Figure size 1440x576 with 1 Axes>"
            ]
          },
          "metadata": {
            "needs_background": "light"
          }
        }
      ]
    },
    {
      "cell_type": "code",
      "metadata": {
        "colab": {
          "base_uri": "https://localhost:8080/"
        },
        "id": "Mxk_VSSQKaac",
        "outputId": "52102a04-1b13-4c60-dc7d-70a0ecc74fb5"
      },
      "source": [
        "# data is overdispersed: variance is greater than the mean\n",
        "print('variance = '+str(df['HOSP'].var()))\n",
        "print('mean = '+str(df['HOSP'].mean()))"
      ],
      "execution_count": 8,
      "outputs": [
        {
          "output_type": "stream",
          "name": "stdout",
          "text": [
            "variance = 9.99538378360038\n",
            "mean = 7.082553659878921\n"
          ]
        }
      ]
    },
    {
      "cell_type": "code",
      "metadata": {
        "id": "W_TANj0iKaac"
      },
      "source": [
        "# add derived regression variables: month, day of week and strata\n",
        "df = df.set_index('DATE')\n",
        "ds2 = df.index.to_series()\n",
        "df['MONTH'] = ds2.dt.month\n",
        "df['DAY_OF_WEEK'] = ds2.dt.dayofweek\n",
        "df['STRATA'] = ds2.dt.strftime('%Y-%m')\n",
        "df['STRATA'] = df['STRATA'].astype(\"category\").astype('category').cat.codes"
      ],
      "execution_count": 9,
      "outputs": []
    },
    {
      "cell_type": "markdown",
      "metadata": {
        "id": "8WorH3B3MHmm"
      },
      "source": [
        "#**Generalized Poisson Regression Hosp**"
      ]
    },
    {
      "cell_type": "markdown",
      "metadata": {
        "id": "7m3y5HufMHmn"
      },
      "source": [
        "##**Temperature**"
      ]
    },
    {
      "cell_type": "code",
      "metadata": {
        "colab": {
          "base_uri": "https://localhost:8080/",
          "height": 492
        },
        "id": "GPEv3aqOMHmo",
        "outputId": "1a633974-4c0c-44d3-fa40-6a2616eb5e5f"
      },
      "source": [
        "#set the regression expression in patsy notation\n",
        "\n",
        "expr = \"\"\"HOSP ~ DAY_OF_WEEK + STRATA + TMIN + AVGPRESSURE +above_temp_range\"\"\"\n",
        "#set X and y matrices \n",
        "\n",
        "y, X = dmatrices(expr, df, return_type='dataframe')\n",
        "\n",
        "#Build Famoye's Restricted Generalized Poison regression model, know as GP-2\n",
        "gen_poisson_gp2 = sm.GeneralizedPoisson(y, X, p=2)\n",
        "\n",
        "#Fit the model\n",
        "gen_poisson_gp2_results = gen_poisson_gp2.fit(maxiter=5000)\n",
        "\n",
        "#summary\n",
        "gen_poisson_gp2_results.summary()"
      ],
      "execution_count": null,
      "outputs": [
        {
          "output_type": "stream",
          "name": "stdout",
          "text": [
            "Warning: Desired error not necessarily achieved due to precision loss.\n",
            "         Current function value: 2.490662\n",
            "         Iterations: 37\n",
            "         Function evaluations: 87\n",
            "         Gradient evaluations: 75\n"
          ]
        },
        {
          "output_type": "stream",
          "name": "stderr",
          "text": [
            "/usr/local/lib/python3.7/dist-packages/statsmodels/base/model.py:512: ConvergenceWarning: Maximum Likelihood optimization failed to converge. Check mle_retvals\n",
            "  \"Check mle_retvals\", ConvergenceWarning)\n"
          ]
        },
        {
          "output_type": "execute_result",
          "data": {
            "text/html": [
              "<table class=\"simpletable\">\n",
              "<caption>GeneralizedPoisson Regression Results</caption>\n",
              "<tr>\n",
              "  <th>Dep. Variable:</th>          <td>HOSP</td>        <th>  No. Observations:  </th>  <td>  1817</td>  \n",
              "</tr>\n",
              "<tr>\n",
              "  <th>Model:</th>           <td>GeneralizedPoisson</td> <th>  Df Residuals:      </th>  <td>  1811</td>  \n",
              "</tr>\n",
              "<tr>\n",
              "  <th>Method:</th>                  <td>MLE</td>        <th>  Df Model:          </th>  <td>     5</td>  \n",
              "</tr>\n",
              "<tr>\n",
              "  <th>Date:</th>             <td>Thu, 28 Oct 2021</td>  <th>  Pseudo R-squ.:     </th>  <td>0.02047</td> \n",
              "</tr>\n",
              "<tr>\n",
              "  <th>Time:</th>                 <td>14:01:16</td>      <th>  Log-Likelihood:    </th> <td> -4525.5</td> \n",
              "</tr>\n",
              "<tr>\n",
              "  <th>converged:</th>              <td>False</td>       <th>  LL-Null:           </th> <td> -4620.1</td> \n",
              "</tr>\n",
              "<tr>\n",
              "  <th>Covariance Type:</th>      <td>nonrobust</td>     <th>  LLR p-value:       </th> <td>6.065e-39</td>\n",
              "</tr>\n",
              "</table>\n",
              "<table class=\"simpletable\">\n",
              "<tr>\n",
              "          <td></td>            <th>coef</th>     <th>std err</th>      <th>z</th>      <th>P>|z|</th>  <th>[0.025</th>    <th>0.975]</th>  \n",
              "</tr>\n",
              "<tr>\n",
              "  <th>Intercept</th>        <td>   -2.8824</td> <td>    3.820</td> <td>   -0.755</td> <td> 0.451</td> <td>  -10.370</td> <td>    4.605</td>\n",
              "</tr>\n",
              "<tr>\n",
              "  <th>DAY_OF_WEEK</th>      <td>   -0.0627</td> <td>    0.005</td> <td>  -12.470</td> <td> 0.000</td> <td>   -0.073</td> <td>   -0.053</td>\n",
              "</tr>\n",
              "<tr>\n",
              "  <th>STRATA</th>           <td>    0.0013</td> <td>    0.001</td> <td>    2.238</td> <td> 0.025</td> <td>    0.000</td> <td>    0.002</td>\n",
              "</tr>\n",
              "<tr>\n",
              "  <th>TMIN</th>             <td>   -0.0142</td> <td>    0.004</td> <td>   -3.381</td> <td> 0.001</td> <td>   -0.022</td> <td>   -0.006</td>\n",
              "</tr>\n",
              "<tr>\n",
              "  <th>AVGPRESSURE</th>      <td>    0.0056</td> <td>    0.004</td> <td>    1.387</td> <td> 0.165</td> <td>   -0.002</td> <td>    0.013</td>\n",
              "</tr>\n",
              "<tr>\n",
              "  <th>above_temp_range</th> <td>   -0.0481</td> <td>    0.043</td> <td>   -1.123</td> <td> 0.261</td> <td>   -0.132</td> <td>    0.036</td>\n",
              "</tr>\n",
              "<tr>\n",
              "  <th>alpha</th>            <td>    0.0181</td> <td>    0.003</td> <td>    6.715</td> <td> 0.000</td> <td>    0.013</td> <td>    0.023</td>\n",
              "</tr>\n",
              "</table>"
            ],
            "text/plain": [
              "<class 'statsmodels.iolib.summary.Summary'>\n",
              "\"\"\"\n",
              "                    GeneralizedPoisson Regression Results                     \n",
              "==============================================================================\n",
              "Dep. Variable:                   HOSP   No. Observations:                 1817\n",
              "Model:             GeneralizedPoisson   Df Residuals:                     1811\n",
              "Method:                           MLE   Df Model:                            5\n",
              "Date:                Thu, 28 Oct 2021   Pseudo R-squ.:                 0.02047\n",
              "Time:                        14:01:16   Log-Likelihood:                -4525.5\n",
              "converged:                      False   LL-Null:                       -4620.1\n",
              "Covariance Type:            nonrobust   LLR p-value:                 6.065e-39\n",
              "====================================================================================\n",
              "                       coef    std err          z      P>|z|      [0.025      0.975]\n",
              "------------------------------------------------------------------------------------\n",
              "Intercept           -2.8824      3.820     -0.755      0.451     -10.370       4.605\n",
              "DAY_OF_WEEK         -0.0627      0.005    -12.470      0.000      -0.073      -0.053\n",
              "STRATA               0.0013      0.001      2.238      0.025       0.000       0.002\n",
              "TMIN                -0.0142      0.004     -3.381      0.001      -0.022      -0.006\n",
              "AVGPRESSURE          0.0056      0.004      1.387      0.165      -0.002       0.013\n",
              "above_temp_range    -0.0481      0.043     -1.123      0.261      -0.132       0.036\n",
              "alpha                0.0181      0.003      6.715      0.000       0.013       0.023\n",
              "====================================================================================\n",
              "\"\"\""
            ]
          },
          "metadata": {},
          "execution_count": 47
        }
      ]
    },
    {
      "cell_type": "code",
      "metadata": {
        "colab": {
          "base_uri": "https://localhost:8080/",
          "height": 266
        },
        "id": "ILge_ZxUMHmp",
        "outputId": "5e03a9a0-ac9e-4db0-b3df-c3286117a8d0"
      },
      "source": [
        "coef = pd.DataFrame(columns ={'coef','lower ci','upper ci'})\n",
        "coef['coef'] = np.exp(gen_poisson_gp2_results.params)\n",
        "coef['lower ci'] = np.exp(gen_poisson_gp2_results.conf_int().iloc[:,0])\n",
        "coef['upper ci'] = np.exp(gen_poisson_gp2_results.conf_int().iloc[:,1])\n",
        "coef"
      ],
      "execution_count": null,
      "outputs": [
        {
          "output_type": "execute_result",
          "data": {
            "text/html": [
              "<div>\n",
              "<style scoped>\n",
              "    .dataframe tbody tr th:only-of-type {\n",
              "        vertical-align: middle;\n",
              "    }\n",
              "\n",
              "    .dataframe tbody tr th {\n",
              "        vertical-align: top;\n",
              "    }\n",
              "\n",
              "    .dataframe thead th {\n",
              "        text-align: right;\n",
              "    }\n",
              "</style>\n",
              "<table border=\"1\" class=\"dataframe\">\n",
              "  <thead>\n",
              "    <tr style=\"text-align: right;\">\n",
              "      <th></th>\n",
              "      <th>coef</th>\n",
              "      <th>upper ci</th>\n",
              "      <th>lower ci</th>\n",
              "    </tr>\n",
              "  </thead>\n",
              "  <tbody>\n",
              "    <tr>\n",
              "      <th>Intercept</th>\n",
              "      <td>0.056002</td>\n",
              "      <td>99.969044</td>\n",
              "      <td>0.000031</td>\n",
              "    </tr>\n",
              "    <tr>\n",
              "      <th>DAY_OF_WEEK</th>\n",
              "      <td>0.939258</td>\n",
              "      <td>0.948555</td>\n",
              "      <td>0.930053</td>\n",
              "    </tr>\n",
              "    <tr>\n",
              "      <th>STRATA</th>\n",
              "      <td>1.001327</td>\n",
              "      <td>1.002490</td>\n",
              "      <td>1.000165</td>\n",
              "    </tr>\n",
              "    <tr>\n",
              "      <th>TMIN</th>\n",
              "      <td>0.985918</td>\n",
              "      <td>0.994056</td>\n",
              "      <td>0.977847</td>\n",
              "    </tr>\n",
              "    <tr>\n",
              "      <th>AVGPRESSURE</th>\n",
              "      <td>1.005570</td>\n",
              "      <td>1.013494</td>\n",
              "      <td>0.997708</td>\n",
              "    </tr>\n",
              "    <tr>\n",
              "      <th>above_temp_range</th>\n",
              "      <td>0.952994</td>\n",
              "      <td>1.036531</td>\n",
              "      <td>0.876191</td>\n",
              "    </tr>\n",
              "    <tr>\n",
              "      <th>alpha</th>\n",
              "      <td>1.018246</td>\n",
              "      <td>1.023634</td>\n",
              "      <td>1.012886</td>\n",
              "    </tr>\n",
              "  </tbody>\n",
              "</table>\n",
              "</div>"
            ],
            "text/plain": [
              "                      coef   upper ci  lower ci\n",
              "Intercept         0.056002  99.969044  0.000031\n",
              "DAY_OF_WEEK       0.939258   0.948555  0.930053\n",
              "STRATA            1.001327   1.002490  1.000165\n",
              "TMIN              0.985918   0.994056  0.977847\n",
              "AVGPRESSURE       1.005570   1.013494  0.997708\n",
              "above_temp_range  0.952994   1.036531  0.876191\n",
              "alpha             1.018246   1.023634  1.012886"
            ]
          },
          "metadata": {},
          "execution_count": 48
        }
      ]
    },
    {
      "cell_type": "code",
      "metadata": {
        "colab": {
          "base_uri": "https://localhost:8080/",
          "height": 438
        },
        "id": "baLlNjhnMHmp",
        "outputId": "3b83f115-298e-4525-cb34-10a5d09ad18f"
      },
      "source": [
        "#set the regression expression in patsy notation\n",
        "\n",
        "expr = \"\"\"HOSP ~ DAY_OF_WEEK + STRATA + TMIN + AVGPRESSURE +above_temp_dif\"\"\"\n",
        "#set X and y matrices \n",
        "\n",
        "y, X = dmatrices(expr, df, return_type='dataframe')\n",
        "\n",
        "#Build Famoye's Restricted Generalized Poison regression model, know as GP-2\n",
        "gen_poisson_gp2 = sm.GeneralizedPoisson(y, X, p=2)\n",
        "\n",
        "#Fit the model\n",
        "gen_poisson_gp2_results = gen_poisson_gp2.fit(maxiter=5000)\n",
        "\n",
        "#summary\n",
        "gen_poisson_gp2_results.summary()"
      ],
      "execution_count": null,
      "outputs": [
        {
          "output_type": "stream",
          "name": "stdout",
          "text": [
            "Optimization terminated successfully.\n",
            "         Current function value: 2.490925\n",
            "         Iterations: 40\n",
            "         Function evaluations: 51\n",
            "         Gradient evaluations: 51\n"
          ]
        },
        {
          "output_type": "execute_result",
          "data": {
            "text/html": [
              "<table class=\"simpletable\">\n",
              "<caption>GeneralizedPoisson Regression Results</caption>\n",
              "<tr>\n",
              "  <th>Dep. Variable:</th>          <td>HOSP</td>        <th>  No. Observations:  </th>  <td>  1817</td>  \n",
              "</tr>\n",
              "<tr>\n",
              "  <th>Model:</th>           <td>GeneralizedPoisson</td> <th>  Df Residuals:      </th>  <td>  1811</td>  \n",
              "</tr>\n",
              "<tr>\n",
              "  <th>Method:</th>                  <td>MLE</td>        <th>  Df Model:          </th>  <td>     5</td>  \n",
              "</tr>\n",
              "<tr>\n",
              "  <th>Date:</th>             <td>Thu, 28 Oct 2021</td>  <th>  Pseudo R-squ.:     </th>  <td>0.02036</td> \n",
              "</tr>\n",
              "<tr>\n",
              "  <th>Time:</th>                 <td>14:01:16</td>      <th>  Log-Likelihood:    </th> <td> -4526.0</td> \n",
              "</tr>\n",
              "<tr>\n",
              "  <th>converged:</th>              <td>True</td>        <th>  LL-Null:           </th> <td> -4620.1</td> \n",
              "</tr>\n",
              "<tr>\n",
              "  <th>Covariance Type:</th>      <td>nonrobust</td>     <th>  LLR p-value:       </th> <td>9.701e-39</td>\n",
              "</tr>\n",
              "</table>\n",
              "<table class=\"simpletable\">\n",
              "<tr>\n",
              "         <td></td>           <th>coef</th>     <th>std err</th>      <th>z</th>      <th>P>|z|</th>  <th>[0.025</th>    <th>0.975]</th>  \n",
              "</tr>\n",
              "<tr>\n",
              "  <th>Intercept</th>      <td>   -3.7368</td> <td>    3.772</td> <td>   -0.991</td> <td> 0.322</td> <td>  -11.129</td> <td>    3.655</td>\n",
              "</tr>\n",
              "<tr>\n",
              "  <th>DAY_OF_WEEK</th>    <td>   -0.0625</td> <td>    0.005</td> <td>  -12.427</td> <td> 0.000</td> <td>   -0.072</td> <td>   -0.053</td>\n",
              "</tr>\n",
              "<tr>\n",
              "  <th>STRATA</th>         <td>    0.0014</td> <td>    0.001</td> <td>    2.335</td> <td> 0.020</td> <td>    0.000</td> <td>    0.003</td>\n",
              "</tr>\n",
              "<tr>\n",
              "  <th>TMIN</th>           <td>   -0.0131</td> <td>    0.004</td> <td>   -3.156</td> <td> 0.002</td> <td>   -0.021</td> <td>   -0.005</td>\n",
              "</tr>\n",
              "<tr>\n",
              "  <th>AVGPRESSURE</th>    <td>    0.0064</td> <td>    0.004</td> <td>    1.627</td> <td> 0.104</td> <td>   -0.001</td> <td>    0.014</td>\n",
              "</tr>\n",
              "<tr>\n",
              "  <th>above_temp_dif</th> <td>    0.0501</td> <td>    0.089</td> <td>    0.564</td> <td> 0.573</td> <td>   -0.124</td> <td>    0.224</td>\n",
              "</tr>\n",
              "<tr>\n",
              "  <th>alpha</th>          <td>    0.0181</td> <td>    0.003</td> <td>    6.722</td> <td> 0.000</td> <td>    0.013</td> <td>    0.023</td>\n",
              "</tr>\n",
              "</table>"
            ],
            "text/plain": [
              "<class 'statsmodels.iolib.summary.Summary'>\n",
              "\"\"\"\n",
              "                    GeneralizedPoisson Regression Results                     \n",
              "==============================================================================\n",
              "Dep. Variable:                   HOSP   No. Observations:                 1817\n",
              "Model:             GeneralizedPoisson   Df Residuals:                     1811\n",
              "Method:                           MLE   Df Model:                            5\n",
              "Date:                Thu, 28 Oct 2021   Pseudo R-squ.:                 0.02036\n",
              "Time:                        14:01:16   Log-Likelihood:                -4526.0\n",
              "converged:                       True   LL-Null:                       -4620.1\n",
              "Covariance Type:            nonrobust   LLR p-value:                 9.701e-39\n",
              "==================================================================================\n",
              "                     coef    std err          z      P>|z|      [0.025      0.975]\n",
              "----------------------------------------------------------------------------------\n",
              "Intercept         -3.7368      3.772     -0.991      0.322     -11.129       3.655\n",
              "DAY_OF_WEEK       -0.0625      0.005    -12.427      0.000      -0.072      -0.053\n",
              "STRATA             0.0014      0.001      2.335      0.020       0.000       0.003\n",
              "TMIN              -0.0131      0.004     -3.156      0.002      -0.021      -0.005\n",
              "AVGPRESSURE        0.0064      0.004      1.627      0.104      -0.001       0.014\n",
              "above_temp_dif     0.0501      0.089      0.564      0.573      -0.124       0.224\n",
              "alpha              0.0181      0.003      6.722      0.000       0.013       0.023\n",
              "==================================================================================\n",
              "\"\"\""
            ]
          },
          "metadata": {},
          "execution_count": 49
        }
      ]
    },
    {
      "cell_type": "code",
      "metadata": {
        "colab": {
          "base_uri": "https://localhost:8080/",
          "height": 266
        },
        "id": "TO1SHDU-MHmq",
        "outputId": "602869e9-c1ae-4662-fcfd-d8405b8ab06b"
      },
      "source": [
        "coef = pd.DataFrame(columns ={'coef','lower ci','upper ci'})\n",
        "coef['coef'] = np.exp(gen_poisson_gp2_results.params)\n",
        "coef['lower ci'] = np.exp(gen_poisson_gp2_results.conf_int().iloc[:,0])\n",
        "coef['upper ci'] = np.exp(gen_poisson_gp2_results.conf_int().iloc[:,1])\n",
        "coef"
      ],
      "execution_count": null,
      "outputs": [
        {
          "output_type": "execute_result",
          "data": {
            "text/html": [
              "<div>\n",
              "<style scoped>\n",
              "    .dataframe tbody tr th:only-of-type {\n",
              "        vertical-align: middle;\n",
              "    }\n",
              "\n",
              "    .dataframe tbody tr th {\n",
              "        vertical-align: top;\n",
              "    }\n",
              "\n",
              "    .dataframe thead th {\n",
              "        text-align: right;\n",
              "    }\n",
              "</style>\n",
              "<table border=\"1\" class=\"dataframe\">\n",
              "  <thead>\n",
              "    <tr style=\"text-align: right;\">\n",
              "      <th></th>\n",
              "      <th>coef</th>\n",
              "      <th>upper ci</th>\n",
              "      <th>lower ci</th>\n",
              "    </tr>\n",
              "  </thead>\n",
              "  <tbody>\n",
              "    <tr>\n",
              "      <th>Intercept</th>\n",
              "      <td>0.023831</td>\n",
              "      <td>38.679227</td>\n",
              "      <td>0.000015</td>\n",
              "    </tr>\n",
              "    <tr>\n",
              "      <th>DAY_OF_WEEK</th>\n",
              "      <td>0.939379</td>\n",
              "      <td>0.948690</td>\n",
              "      <td>0.930160</td>\n",
              "    </tr>\n",
              "    <tr>\n",
              "      <th>STRATA</th>\n",
              "      <td>1.001380</td>\n",
              "      <td>1.002540</td>\n",
              "      <td>1.000221</td>\n",
              "    </tr>\n",
              "    <tr>\n",
              "      <th>TMIN</th>\n",
              "      <td>0.987005</td>\n",
              "      <td>0.995055</td>\n",
              "      <td>0.979020</td>\n",
              "    </tr>\n",
              "    <tr>\n",
              "      <th>AVGPRESSURE</th>\n",
              "      <td>1.006457</td>\n",
              "      <td>1.014289</td>\n",
              "      <td>0.998686</td>\n",
              "    </tr>\n",
              "    <tr>\n",
              "      <th>above_temp_dif</th>\n",
              "      <td>1.051428</td>\n",
              "      <td>1.251572</td>\n",
              "      <td>0.883290</td>\n",
              "    </tr>\n",
              "    <tr>\n",
              "      <th>alpha</th>\n",
              "      <td>1.018273</td>\n",
              "      <td>1.023663</td>\n",
              "      <td>1.012911</td>\n",
              "    </tr>\n",
              "  </tbody>\n",
              "</table>\n",
              "</div>"
            ],
            "text/plain": [
              "                    coef   upper ci  lower ci\n",
              "Intercept       0.023831  38.679227  0.000015\n",
              "DAY_OF_WEEK     0.939379   0.948690  0.930160\n",
              "STRATA          1.001380   1.002540  1.000221\n",
              "TMIN            0.987005   0.995055  0.979020\n",
              "AVGPRESSURE     1.006457   1.014289  0.998686\n",
              "above_temp_dif  1.051428   1.251572  0.883290\n",
              "alpha           1.018273   1.023663  1.012911"
            ]
          },
          "metadata": {},
          "execution_count": 50
        }
      ]
    },
    {
      "cell_type": "markdown",
      "metadata": {
        "id": "GTk9feReMHmq"
      },
      "source": [
        "##**Pressure**"
      ]
    },
    {
      "cell_type": "code",
      "metadata": {
        "colab": {
          "base_uri": "https://localhost:8080/",
          "height": 438
        },
        "id": "DU48wOisMHmr",
        "outputId": "0489a6cf-e9d9-4661-d926-291b9d453b46"
      },
      "source": [
        "#set the regression expression in patsy notation\n",
        "\n",
        "expr = \"\"\"HOSP ~ DAY_OF_WEEK + STRATA + TMIN + AVGPRESSURE +LPW\"\"\"\n",
        "#set X and y matrices \n",
        "\n",
        "y, X = dmatrices(expr, df, return_type='dataframe')\n",
        "\n",
        "#Build Famoye's Restricted Generalized Poison regression model, know as GP-2\n",
        "gen_poisson_gp2 = sm.GeneralizedPoisson(y, X, p=2)\n",
        "\n",
        "#Fit the model\n",
        "gen_poisson_gp2_results = gen_poisson_gp2.fit(maxiter=5000)\n",
        "\n",
        "#summary\n",
        "gen_poisson_gp2_results.summary()"
      ],
      "execution_count": null,
      "outputs": [
        {
          "output_type": "stream",
          "name": "stdout",
          "text": [
            "Optimization terminated successfully.\n",
            "         Current function value: 2.489346\n",
            "         Iterations: 39\n",
            "         Function evaluations: 50\n",
            "         Gradient evaluations: 50\n"
          ]
        },
        {
          "output_type": "execute_result",
          "data": {
            "text/html": [
              "<table class=\"simpletable\">\n",
              "<caption>GeneralizedPoisson Regression Results</caption>\n",
              "<tr>\n",
              "  <th>Dep. Variable:</th>          <td>HOSP</td>        <th>  No. Observations:  </th>  <td>  1817</td>  \n",
              "</tr>\n",
              "<tr>\n",
              "  <th>Model:</th>           <td>GeneralizedPoisson</td> <th>  Df Residuals:      </th>  <td>  1811</td>  \n",
              "</tr>\n",
              "<tr>\n",
              "  <th>Method:</th>                  <td>MLE</td>        <th>  Df Model:          </th>  <td>     5</td>  \n",
              "</tr>\n",
              "<tr>\n",
              "  <th>Date:</th>             <td>Thu, 28 Oct 2021</td>  <th>  Pseudo R-squ.:     </th>  <td>0.02098</td> \n",
              "</tr>\n",
              "<tr>\n",
              "  <th>Time:</th>                 <td>14:01:16</td>      <th>  Log-Likelihood:    </th> <td> -4523.1</td> \n",
              "</tr>\n",
              "<tr>\n",
              "  <th>converged:</th>              <td>True</td>        <th>  LL-Null:           </th> <td> -4620.1</td> \n",
              "</tr>\n",
              "<tr>\n",
              "  <th>Covariance Type:</th>      <td>nonrobust</td>     <th>  LLR p-value:       </th> <td>5.761e-40</td>\n",
              "</tr>\n",
              "</table>\n",
              "<table class=\"simpletable\">\n",
              "<tr>\n",
              "       <td></td>          <th>coef</th>     <th>std err</th>      <th>z</th>      <th>P>|z|</th>  <th>[0.025</th>    <th>0.975]</th>  \n",
              "</tr>\n",
              "<tr>\n",
              "  <th>Intercept</th>   <td>   -6.5578</td> <td>    3.942</td> <td>   -1.664</td> <td> 0.096</td> <td>  -14.283</td> <td>    1.168</td>\n",
              "</tr>\n",
              "<tr>\n",
              "  <th>DAY_OF_WEEK</th> <td>   -0.0630</td> <td>    0.005</td> <td>  -12.542</td> <td> 0.000</td> <td>   -0.073</td> <td>   -0.053</td>\n",
              "</tr>\n",
              "<tr>\n",
              "  <th>STRATA</th>      <td>    0.0014</td> <td>    0.001</td> <td>    2.299</td> <td> 0.022</td> <td>    0.000</td> <td>    0.003</td>\n",
              "</tr>\n",
              "<tr>\n",
              "  <th>TMIN</th>        <td>   -0.0118</td> <td>    0.004</td> <td>   -2.846</td> <td> 0.004</td> <td>   -0.020</td> <td>   -0.004</td>\n",
              "</tr>\n",
              "<tr>\n",
              "  <th>AVGPRESSURE</th> <td>    0.0094</td> <td>    0.004</td> <td>    2.276</td> <td> 0.023</td> <td>    0.001</td> <td>    0.018</td>\n",
              "</tr>\n",
              "<tr>\n",
              "  <th>LPW</th>         <td>    0.1691</td> <td>    0.068</td> <td>    2.490</td> <td> 0.013</td> <td>    0.036</td> <td>    0.302</td>\n",
              "</tr>\n",
              "<tr>\n",
              "  <th>alpha</th>       <td>    0.0179</td> <td>    0.003</td> <td>    6.646</td> <td> 0.000</td> <td>    0.013</td> <td>    0.023</td>\n",
              "</tr>\n",
              "</table>"
            ],
            "text/plain": [
              "<class 'statsmodels.iolib.summary.Summary'>\n",
              "\"\"\"\n",
              "                    GeneralizedPoisson Regression Results                     \n",
              "==============================================================================\n",
              "Dep. Variable:                   HOSP   No. Observations:                 1817\n",
              "Model:             GeneralizedPoisson   Df Residuals:                     1811\n",
              "Method:                           MLE   Df Model:                            5\n",
              "Date:                Thu, 28 Oct 2021   Pseudo R-squ.:                 0.02098\n",
              "Time:                        14:01:16   Log-Likelihood:                -4523.1\n",
              "converged:                       True   LL-Null:                       -4620.1\n",
              "Covariance Type:            nonrobust   LLR p-value:                 5.761e-40\n",
              "===============================================================================\n",
              "                  coef    std err          z      P>|z|      [0.025      0.975]\n",
              "-------------------------------------------------------------------------------\n",
              "Intercept      -6.5578      3.942     -1.664      0.096     -14.283       1.168\n",
              "DAY_OF_WEEK    -0.0630      0.005    -12.542      0.000      -0.073      -0.053\n",
              "STRATA          0.0014      0.001      2.299      0.022       0.000       0.003\n",
              "TMIN           -0.0118      0.004     -2.846      0.004      -0.020      -0.004\n",
              "AVGPRESSURE     0.0094      0.004      2.276      0.023       0.001       0.018\n",
              "LPW             0.1691      0.068      2.490      0.013       0.036       0.302\n",
              "alpha           0.0179      0.003      6.646      0.000       0.013       0.023\n",
              "===============================================================================\n",
              "\"\"\""
            ]
          },
          "metadata": {},
          "execution_count": 51
        }
      ]
    },
    {
      "cell_type": "code",
      "metadata": {
        "colab": {
          "base_uri": "https://localhost:8080/",
          "height": 266
        },
        "id": "giuG1vxKMHmr",
        "outputId": "f1d1760c-922b-44cc-dd78-6c91a71c4469"
      },
      "source": [
        "#Table with the coeficients and confidence intervals\n",
        "coef = pd.DataFrame(columns ={'coef','lower ci','upper ci'})\n",
        "coef['coef'] = np.exp(gen_poisson_gp2_results.params)\n",
        "coef['lower ci'] = np.exp(gen_poisson_gp2_results.conf_int().iloc[:,0])\n",
        "coef['upper ci'] = np.exp(gen_poisson_gp2_results.conf_int().iloc[:,1])\n",
        "coef"
      ],
      "execution_count": null,
      "outputs": [
        {
          "output_type": "execute_result",
          "data": {
            "text/html": [
              "<div>\n",
              "<style scoped>\n",
              "    .dataframe tbody tr th:only-of-type {\n",
              "        vertical-align: middle;\n",
              "    }\n",
              "\n",
              "    .dataframe tbody tr th {\n",
              "        vertical-align: top;\n",
              "    }\n",
              "\n",
              "    .dataframe thead th {\n",
              "        text-align: right;\n",
              "    }\n",
              "</style>\n",
              "<table border=\"1\" class=\"dataframe\">\n",
              "  <thead>\n",
              "    <tr style=\"text-align: right;\">\n",
              "      <th></th>\n",
              "      <th>coef</th>\n",
              "      <th>upper ci</th>\n",
              "      <th>lower ci</th>\n",
              "    </tr>\n",
              "  </thead>\n",
              "  <tbody>\n",
              "    <tr>\n",
              "      <th>Intercept</th>\n",
              "      <td>0.001419</td>\n",
              "      <td>3.214392</td>\n",
              "      <td>6.264624e-07</td>\n",
              "    </tr>\n",
              "    <tr>\n",
              "      <th>DAY_OF_WEEK</th>\n",
              "      <td>0.938983</td>\n",
              "      <td>0.948267</td>\n",
              "      <td>9.297902e-01</td>\n",
              "    </tr>\n",
              "    <tr>\n",
              "      <th>STRATA</th>\n",
              "      <td>1.001357</td>\n",
              "      <td>1.002515</td>\n",
              "      <td>1.000200e+00</td>\n",
              "    </tr>\n",
              "    <tr>\n",
              "      <th>TMIN</th>\n",
              "      <td>0.988230</td>\n",
              "      <td>0.996322</td>\n",
              "      <td>9.802033e-01</td>\n",
              "    </tr>\n",
              "    <tr>\n",
              "      <th>AVGPRESSURE</th>\n",
              "      <td>1.009454</td>\n",
              "      <td>1.017668</td>\n",
              "      <td>1.001306e+00</td>\n",
              "    </tr>\n",
              "    <tr>\n",
              "      <th>LPW</th>\n",
              "      <td>1.184187</td>\n",
              "      <td>1.352748</td>\n",
              "      <td>1.036630e+00</td>\n",
              "    </tr>\n",
              "    <tr>\n",
              "      <th>alpha</th>\n",
              "      <td>1.018026</td>\n",
              "      <td>1.023404</td>\n",
              "      <td>1.012676e+00</td>\n",
              "    </tr>\n",
              "  </tbody>\n",
              "</table>\n",
              "</div>"
            ],
            "text/plain": [
              "                 coef  upper ci      lower ci\n",
              "Intercept    0.001419  3.214392  6.264624e-07\n",
              "DAY_OF_WEEK  0.938983  0.948267  9.297902e-01\n",
              "STRATA       1.001357  1.002515  1.000200e+00\n",
              "TMIN         0.988230  0.996322  9.802033e-01\n",
              "AVGPRESSURE  1.009454  1.017668  1.001306e+00\n",
              "LPW          1.184187  1.352748  1.036630e+00\n",
              "alpha        1.018026  1.023404  1.012676e+00"
            ]
          },
          "metadata": {},
          "execution_count": 52
        }
      ]
    },
    {
      "cell_type": "code",
      "metadata": {
        "colab": {
          "base_uri": "https://localhost:8080/",
          "height": 438
        },
        "id": "uHPbK8GYMHmr",
        "outputId": "9dc4241c-d53f-4bf9-bb4f-a0be3a655ba2"
      },
      "source": [
        "#set the regression expression in patsy notation\n",
        "\n",
        "expr = \"\"\"HOSP ~ DAY_OF_WEEK + STRATA + TMIN + AVGPRESSURE +HPW\"\"\"\n",
        "#set X and y matrices \n",
        "\n",
        "y, X = dmatrices(expr, df, return_type='dataframe')\n",
        "\n",
        "#Build Famoye's Restricted Generalized Poison regression model, know as GP-2\n",
        "gen_poisson_gp2 = sm.GeneralizedPoisson(y, X, p=2)\n",
        "\n",
        "#Fit the model\n",
        "gen_poisson_gp2_results = gen_poisson_gp2.fit(maxiter=5000)\n",
        "\n",
        "#summary\n",
        "gen_poisson_gp2_results.summary()"
      ],
      "execution_count": null,
      "outputs": [
        {
          "output_type": "stream",
          "name": "stdout",
          "text": [
            "Optimization terminated successfully.\n",
            "         Current function value: 2.490807\n",
            "         Iterations: 36\n",
            "         Function evaluations: 47\n",
            "         Gradient evaluations: 47\n"
          ]
        },
        {
          "output_type": "execute_result",
          "data": {
            "text/html": [
              "<table class=\"simpletable\">\n",
              "<caption>GeneralizedPoisson Regression Results</caption>\n",
              "<tr>\n",
              "  <th>Dep. Variable:</th>          <td>HOSP</td>        <th>  No. Observations:  </th>  <td>  1817</td>  \n",
              "</tr>\n",
              "<tr>\n",
              "  <th>Model:</th>           <td>GeneralizedPoisson</td> <th>  Df Residuals:      </th>  <td>  1811</td>  \n",
              "</tr>\n",
              "<tr>\n",
              "  <th>Method:</th>                  <td>MLE</td>        <th>  Df Model:          </th>  <td>     5</td>  \n",
              "</tr>\n",
              "<tr>\n",
              "  <th>Date:</th>             <td>Thu, 28 Oct 2021</td>  <th>  Pseudo R-squ.:     </th>  <td>0.02041</td> \n",
              "</tr>\n",
              "<tr>\n",
              "  <th>Time:</th>                 <td>14:01:17</td>      <th>  Log-Likelihood:    </th> <td> -4525.8</td> \n",
              "</tr>\n",
              "<tr>\n",
              "  <th>converged:</th>              <td>True</td>        <th>  LL-Null:           </th> <td> -4620.1</td> \n",
              "</tr>\n",
              "<tr>\n",
              "  <th>Covariance Type:</th>      <td>nonrobust</td>     <th>  LLR p-value:       </th> <td>7.852e-39</td>\n",
              "</tr>\n",
              "</table>\n",
              "<table class=\"simpletable\">\n",
              "<tr>\n",
              "       <td></td>          <th>coef</th>     <th>std err</th>      <th>z</th>      <th>P>|z|</th>  <th>[0.025</th>    <th>0.975]</th>  \n",
              "</tr>\n",
              "<tr>\n",
              "  <th>Intercept</th>   <td>   -5.1671</td> <td>    4.172</td> <td>   -1.238</td> <td> 0.216</td> <td>  -13.345</td> <td>    3.011</td>\n",
              "</tr>\n",
              "<tr>\n",
              "  <th>DAY_OF_WEEK</th> <td>   -0.0625</td> <td>    0.005</td> <td>  -12.436</td> <td> 0.000</td> <td>   -0.072</td> <td>   -0.053</td>\n",
              "</tr>\n",
              "<tr>\n",
              "  <th>STRATA</th>      <td>    0.0014</td> <td>    0.001</td> <td>    2.379</td> <td> 0.017</td> <td>    0.000</td> <td>    0.003</td>\n",
              "</tr>\n",
              "<tr>\n",
              "  <th>TMIN</th>        <td>   -0.0124</td> <td>    0.004</td> <td>   -2.929</td> <td> 0.003</td> <td>   -0.021</td> <td>   -0.004</td>\n",
              "</tr>\n",
              "<tr>\n",
              "  <th>AVGPRESSURE</th> <td>    0.0079</td> <td>    0.004</td> <td>    1.815</td> <td> 0.070</td> <td>   -0.001</td> <td>    0.017</td>\n",
              "</tr>\n",
              "<tr>\n",
              "  <th>HPW</th>         <td>   -0.0324</td> <td>    0.038</td> <td>   -0.862</td> <td> 0.389</td> <td>   -0.106</td> <td>    0.041</td>\n",
              "</tr>\n",
              "<tr>\n",
              "  <th>alpha</th>       <td>    0.0181</td> <td>    0.003</td> <td>    6.717</td> <td> 0.000</td> <td>    0.013</td> <td>    0.023</td>\n",
              "</tr>\n",
              "</table>"
            ],
            "text/plain": [
              "<class 'statsmodels.iolib.summary.Summary'>\n",
              "\"\"\"\n",
              "                    GeneralizedPoisson Regression Results                     \n",
              "==============================================================================\n",
              "Dep. Variable:                   HOSP   No. Observations:                 1817\n",
              "Model:             GeneralizedPoisson   Df Residuals:                     1811\n",
              "Method:                           MLE   Df Model:                            5\n",
              "Date:                Thu, 28 Oct 2021   Pseudo R-squ.:                 0.02041\n",
              "Time:                        14:01:17   Log-Likelihood:                -4525.8\n",
              "converged:                       True   LL-Null:                       -4620.1\n",
              "Covariance Type:            nonrobust   LLR p-value:                 7.852e-39\n",
              "===============================================================================\n",
              "                  coef    std err          z      P>|z|      [0.025      0.975]\n",
              "-------------------------------------------------------------------------------\n",
              "Intercept      -5.1671      4.172     -1.238      0.216     -13.345       3.011\n",
              "DAY_OF_WEEK    -0.0625      0.005    -12.436      0.000      -0.072      -0.053\n",
              "STRATA          0.0014      0.001      2.379      0.017       0.000       0.003\n",
              "TMIN           -0.0124      0.004     -2.929      0.003      -0.021      -0.004\n",
              "AVGPRESSURE     0.0079      0.004      1.815      0.070      -0.001       0.017\n",
              "HPW            -0.0324      0.038     -0.862      0.389      -0.106       0.041\n",
              "alpha           0.0181      0.003      6.717      0.000       0.013       0.023\n",
              "===============================================================================\n",
              "\"\"\""
            ]
          },
          "metadata": {},
          "execution_count": 53
        }
      ]
    },
    {
      "cell_type": "code",
      "metadata": {
        "colab": {
          "base_uri": "https://localhost:8080/",
          "height": 266
        },
        "id": "nSzMlMmmMHms",
        "outputId": "2c0390d5-12ab-4049-97c6-9cec6319220c"
      },
      "source": [
        "#Table with the coeficients and confidence intervals\n",
        "coef = pd.DataFrame(columns ={'coef','lower ci','upper ci'})\n",
        "coef['coef'] = np.exp(gen_poisson_gp2_results.params)\n",
        "coef['lower ci'] = np.exp(gen_poisson_gp2_results.conf_int().iloc[:,0])\n",
        "coef['upper ci'] = np.exp(gen_poisson_gp2_results.conf_int().iloc[:,1])\n",
        "coef"
      ],
      "execution_count": null,
      "outputs": [
        {
          "output_type": "execute_result",
          "data": {
            "text/html": [
              "<div>\n",
              "<style scoped>\n",
              "    .dataframe tbody tr th:only-of-type {\n",
              "        vertical-align: middle;\n",
              "    }\n",
              "\n",
              "    .dataframe tbody tr th {\n",
              "        vertical-align: top;\n",
              "    }\n",
              "\n",
              "    .dataframe thead th {\n",
              "        text-align: right;\n",
              "    }\n",
              "</style>\n",
              "<table border=\"1\" class=\"dataframe\">\n",
              "  <thead>\n",
              "    <tr style=\"text-align: right;\">\n",
              "      <th></th>\n",
              "      <th>coef</th>\n",
              "      <th>upper ci</th>\n",
              "      <th>lower ci</th>\n",
              "    </tr>\n",
              "  </thead>\n",
              "  <tbody>\n",
              "    <tr>\n",
              "      <th>Intercept</th>\n",
              "      <td>0.005701</td>\n",
              "      <td>20.298233</td>\n",
              "      <td>0.000002</td>\n",
              "    </tr>\n",
              "    <tr>\n",
              "      <th>DAY_OF_WEEK</th>\n",
              "      <td>0.939380</td>\n",
              "      <td>0.948684</td>\n",
              "      <td>0.930168</td>\n",
              "    </tr>\n",
              "    <tr>\n",
              "      <th>STRATA</th>\n",
              "      <td>1.001408</td>\n",
              "      <td>1.002570</td>\n",
              "      <td>1.000248</td>\n",
              "    </tr>\n",
              "    <tr>\n",
              "      <th>TMIN</th>\n",
              "      <td>0.987637</td>\n",
              "      <td>0.995893</td>\n",
              "      <td>0.979450</td>\n",
              "    </tr>\n",
              "    <tr>\n",
              "      <th>AVGPRESSURE</th>\n",
              "      <td>1.007979</td>\n",
              "      <td>1.016668</td>\n",
              "      <td>0.999364</td>\n",
              "    </tr>\n",
              "    <tr>\n",
              "      <th>HPW</th>\n",
              "      <td>0.968124</td>\n",
              "      <td>1.042110</td>\n",
              "      <td>0.899391</td>\n",
              "    </tr>\n",
              "    <tr>\n",
              "      <th>alpha</th>\n",
              "      <td>1.018254</td>\n",
              "      <td>1.023644</td>\n",
              "      <td>1.012893</td>\n",
              "    </tr>\n",
              "  </tbody>\n",
              "</table>\n",
              "</div>"
            ],
            "text/plain": [
              "                 coef   upper ci  lower ci\n",
              "Intercept    0.005701  20.298233  0.000002\n",
              "DAY_OF_WEEK  0.939380   0.948684  0.930168\n",
              "STRATA       1.001408   1.002570  1.000248\n",
              "TMIN         0.987637   0.995893  0.979450\n",
              "AVGPRESSURE  1.007979   1.016668  0.999364\n",
              "HPW          0.968124   1.042110  0.899391\n",
              "alpha        1.018254   1.023644  1.012893"
            ]
          },
          "metadata": {},
          "execution_count": 54
        }
      ]
    },
    {
      "cell_type": "code",
      "metadata": {
        "colab": {
          "base_uri": "https://localhost:8080/",
          "height": 438
        },
        "id": "ekU7eNZYMHms",
        "outputId": "52e0aa42-9c10-4dc0-96da-c0d63ac045da"
      },
      "source": [
        "#set the regression expression in patsy notation\n",
        "\n",
        "expr = \"\"\"HOSP ~ DAY_OF_WEEK + STRATA + TMIN + AVGPRESSURE +above_pressure_dif\"\"\"\n",
        "#set X and y matrices \n",
        "\n",
        "y, X = dmatrices(expr, df, return_type='dataframe')\n",
        "\n",
        "#Build Famoye's Restricted Generalized Poison regression model, know as GP-2\n",
        "gen_poisson_gp2 = sm.GeneralizedPoisson(y, X, p=2)\n",
        "\n",
        "#Fit the model\n",
        "gen_poisson_gp2_results = gen_poisson_gp2.fit(maxiter=5000)\n",
        "\n",
        "#summary\n",
        "gen_poisson_gp2_results.summary()"
      ],
      "execution_count": null,
      "outputs": [
        {
          "output_type": "stream",
          "name": "stdout",
          "text": [
            "Optimization terminated successfully.\n",
            "         Current function value: 2.490685\n",
            "         Iterations: 35\n",
            "         Function evaluations: 46\n",
            "         Gradient evaluations: 46\n"
          ]
        },
        {
          "output_type": "execute_result",
          "data": {
            "text/html": [
              "<table class=\"simpletable\">\n",
              "<caption>GeneralizedPoisson Regression Results</caption>\n",
              "<tr>\n",
              "  <th>Dep. Variable:</th>          <td>HOSP</td>        <th>  No. Observations:  </th>  <td>  1817</td>  \n",
              "</tr>\n",
              "<tr>\n",
              "  <th>Model:</th>           <td>GeneralizedPoisson</td> <th>  Df Residuals:      </th>  <td>  1811</td>  \n",
              "</tr>\n",
              "<tr>\n",
              "  <th>Method:</th>                  <td>MLE</td>        <th>  Df Model:          </th>  <td>     5</td>  \n",
              "</tr>\n",
              "<tr>\n",
              "  <th>Date:</th>             <td>Thu, 28 Oct 2021</td>  <th>  Pseudo R-squ.:     </th>  <td>0.02046</td> \n",
              "</tr>\n",
              "<tr>\n",
              "  <th>Time:</th>                 <td>14:01:17</td>      <th>  Log-Likelihood:    </th> <td> -4525.6</td> \n",
              "</tr>\n",
              "<tr>\n",
              "  <th>converged:</th>              <td>True</td>        <th>  LL-Null:           </th> <td> -4620.1</td> \n",
              "</tr>\n",
              "<tr>\n",
              "  <th>Covariance Type:</th>      <td>nonrobust</td>     <th>  LLR p-value:       </th> <td>6.320e-39</td>\n",
              "</tr>\n",
              "</table>\n",
              "<table class=\"simpletable\">\n",
              "<tr>\n",
              "           <td></td>             <th>coef</th>     <th>std err</th>      <th>z</th>      <th>P>|z|</th>  <th>[0.025</th>    <th>0.975]</th>  \n",
              "</tr>\n",
              "<tr>\n",
              "  <th>Intercept</th>          <td>   -3.9336</td> <td>    3.775</td> <td>   -1.042</td> <td> 0.297</td> <td>  -11.332</td> <td>    3.465</td>\n",
              "</tr>\n",
              "<tr>\n",
              "  <th>DAY_OF_WEEK</th>        <td>   -0.0627</td> <td>    0.005</td> <td>  -12.481</td> <td> 0.000</td> <td>   -0.073</td> <td>   -0.053</td>\n",
              "</tr>\n",
              "<tr>\n",
              "  <th>STRATA</th>             <td>    0.0014</td> <td>    0.001</td> <td>    2.346</td> <td> 0.019</td> <td>    0.000</td> <td>    0.003</td>\n",
              "</tr>\n",
              "<tr>\n",
              "  <th>TMIN</th>               <td>   -0.0128</td> <td>    0.004</td> <td>   -3.088</td> <td> 0.002</td> <td>   -0.021</td> <td>   -0.005</td>\n",
              "</tr>\n",
              "<tr>\n",
              "  <th>AVGPRESSURE</th>        <td>    0.0066</td> <td>    0.004</td> <td>    1.677</td> <td> 0.094</td> <td>   -0.001</td> <td>    0.014</td>\n",
              "</tr>\n",
              "<tr>\n",
              "  <th>above_pressure_dif</th> <td>    0.0367</td> <td>    0.034</td> <td>    1.092</td> <td> 0.275</td> <td>   -0.029</td> <td>    0.103</td>\n",
              "</tr>\n",
              "<tr>\n",
              "  <th>alpha</th>              <td>    0.0181</td> <td>    0.003</td> <td>    6.718</td> <td> 0.000</td> <td>    0.013</td> <td>    0.023</td>\n",
              "</tr>\n",
              "</table>"
            ],
            "text/plain": [
              "<class 'statsmodels.iolib.summary.Summary'>\n",
              "\"\"\"\n",
              "                    GeneralizedPoisson Regression Results                     \n",
              "==============================================================================\n",
              "Dep. Variable:                   HOSP   No. Observations:                 1817\n",
              "Model:             GeneralizedPoisson   Df Residuals:                     1811\n",
              "Method:                           MLE   Df Model:                            5\n",
              "Date:                Thu, 28 Oct 2021   Pseudo R-squ.:                 0.02046\n",
              "Time:                        14:01:17   Log-Likelihood:                -4525.6\n",
              "converged:                       True   LL-Null:                       -4620.1\n",
              "Covariance Type:            nonrobust   LLR p-value:                 6.320e-39\n",
              "======================================================================================\n",
              "                         coef    std err          z      P>|z|      [0.025      0.975]\n",
              "--------------------------------------------------------------------------------------\n",
              "Intercept             -3.9336      3.775     -1.042      0.297     -11.332       3.465\n",
              "DAY_OF_WEEK           -0.0627      0.005    -12.481      0.000      -0.073      -0.053\n",
              "STRATA                 0.0014      0.001      2.346      0.019       0.000       0.003\n",
              "TMIN                  -0.0128      0.004     -3.088      0.002      -0.021      -0.005\n",
              "AVGPRESSURE            0.0066      0.004      1.677      0.094      -0.001       0.014\n",
              "above_pressure_dif     0.0367      0.034      1.092      0.275      -0.029       0.103\n",
              "alpha                  0.0181      0.003      6.718      0.000       0.013       0.023\n",
              "======================================================================================\n",
              "\"\"\""
            ]
          },
          "metadata": {},
          "execution_count": 55
        }
      ]
    },
    {
      "cell_type": "code",
      "metadata": {
        "colab": {
          "base_uri": "https://localhost:8080/",
          "height": 266
        },
        "id": "hiE45mT_MHmt",
        "outputId": "8fd00e56-ac27-4950-8bad-1de771cf3b50"
      },
      "source": [
        "#Table with the coeficients and confidence intervals\n",
        "coef = pd.DataFrame(columns ={'coef','lower ci','upper ci'})\n",
        "coef['coef'] = np.exp(gen_poisson_gp2_results.params)\n",
        "coef['lower ci'] = np.exp(gen_poisson_gp2_results.conf_int().iloc[:,0])\n",
        "coef['upper ci'] = np.exp(gen_poisson_gp2_results.conf_int().iloc[:,1])\n",
        "coef"
      ],
      "execution_count": null,
      "outputs": [
        {
          "output_type": "execute_result",
          "data": {
            "text/html": [
              "<div>\n",
              "<style scoped>\n",
              "    .dataframe tbody tr th:only-of-type {\n",
              "        vertical-align: middle;\n",
              "    }\n",
              "\n",
              "    .dataframe tbody tr th {\n",
              "        vertical-align: top;\n",
              "    }\n",
              "\n",
              "    .dataframe thead th {\n",
              "        text-align: right;\n",
              "    }\n",
              "</style>\n",
              "<table border=\"1\" class=\"dataframe\">\n",
              "  <thead>\n",
              "    <tr style=\"text-align: right;\">\n",
              "      <th></th>\n",
              "      <th>coef</th>\n",
              "      <th>upper ci</th>\n",
              "      <th>lower ci</th>\n",
              "    </tr>\n",
              "  </thead>\n",
              "  <tbody>\n",
              "    <tr>\n",
              "      <th>Intercept</th>\n",
              "      <td>0.019573</td>\n",
              "      <td>31.982443</td>\n",
              "      <td>0.000012</td>\n",
              "    </tr>\n",
              "    <tr>\n",
              "      <th>DAY_OF_WEEK</th>\n",
              "      <td>0.939199</td>\n",
              "      <td>0.948497</td>\n",
              "      <td>0.929993</td>\n",
              "    </tr>\n",
              "    <tr>\n",
              "      <th>STRATA</th>\n",
              "      <td>1.001387</td>\n",
              "      <td>1.002547</td>\n",
              "      <td>1.000228</td>\n",
              "    </tr>\n",
              "    <tr>\n",
              "      <th>TMIN</th>\n",
              "      <td>0.987274</td>\n",
              "      <td>0.995333</td>\n",
              "      <td>0.979280</td>\n",
              "    </tr>\n",
              "    <tr>\n",
              "      <th>AVGPRESSURE</th>\n",
              "      <td>1.006660</td>\n",
              "      <td>1.014500</td>\n",
              "      <td>0.998880</td>\n",
              "    </tr>\n",
              "    <tr>\n",
              "      <th>above_pressure_dif</th>\n",
              "      <td>1.037367</td>\n",
              "      <td>1.107973</td>\n",
              "      <td>0.971260</td>\n",
              "    </tr>\n",
              "    <tr>\n",
              "      <th>alpha</th>\n",
              "      <td>1.018255</td>\n",
              "      <td>1.023644</td>\n",
              "      <td>1.012895</td>\n",
              "    </tr>\n",
              "  </tbody>\n",
              "</table>\n",
              "</div>"
            ],
            "text/plain": [
              "                        coef   upper ci  lower ci\n",
              "Intercept           0.019573  31.982443  0.000012\n",
              "DAY_OF_WEEK         0.939199   0.948497  0.929993\n",
              "STRATA              1.001387   1.002547  1.000228\n",
              "TMIN                0.987274   0.995333  0.979280\n",
              "AVGPRESSURE         1.006660   1.014500  0.998880\n",
              "above_pressure_dif  1.037367   1.107973  0.971260\n",
              "alpha               1.018255   1.023644  1.012895"
            ]
          },
          "metadata": {},
          "execution_count": 56
        }
      ]
    },
    {
      "cell_type": "markdown",
      "metadata": {
        "id": "HntLUXaxMHmt"
      },
      "source": [
        "##**Humidity**"
      ]
    },
    {
      "cell_type": "code",
      "metadata": {
        "colab": {
          "base_uri": "https://localhost:8080/",
          "height": 438
        },
        "id": "xpfnQndtMHmt",
        "outputId": "af2ee66e-3951-495f-ad1d-e8d5a2dc6669"
      },
      "source": [
        "#set the regression expression in patsy notation\n",
        "\n",
        "expr = \"\"\"HOSP ~ DAY_OF_WEEK + STRATA + TMIN + AVGPRESSURE +LHW\"\"\"\n",
        "#set X and y matrices \n",
        "\n",
        "y, X = dmatrices(expr, df, return_type='dataframe')\n",
        "\n",
        "#Build Famoye's Restricted Generalized Poison regression model, know as GP-2\n",
        "gen_poisson_gp2 = sm.GeneralizedPoisson(y, X, p=2)\n",
        "\n",
        "#Fit the model\n",
        "gen_poisson_gp2_results = gen_poisson_gp2.fit(maxiter=5000)\n",
        "\n",
        "#summary\n",
        "gen_poisson_gp2_results.summary()"
      ],
      "execution_count": null,
      "outputs": [
        {
          "output_type": "stream",
          "name": "stdout",
          "text": [
            "Optimization terminated successfully.\n",
            "         Current function value: 2.489750\n",
            "         Iterations: 37\n",
            "         Function evaluations: 48\n",
            "         Gradient evaluations: 48\n"
          ]
        },
        {
          "output_type": "execute_result",
          "data": {
            "text/html": [
              "<table class=\"simpletable\">\n",
              "<caption>GeneralizedPoisson Regression Results</caption>\n",
              "<tr>\n",
              "  <th>Dep. Variable:</th>          <td>HOSP</td>        <th>  No. Observations:  </th>  <td>  1817</td>  \n",
              "</tr>\n",
              "<tr>\n",
              "  <th>Model:</th>           <td>GeneralizedPoisson</td> <th>  Df Residuals:      </th>  <td>  1811</td>  \n",
              "</tr>\n",
              "<tr>\n",
              "  <th>Method:</th>                  <td>MLE</td>        <th>  Df Model:          </th>  <td>     5</td>  \n",
              "</tr>\n",
              "<tr>\n",
              "  <th>Date:</th>             <td>Thu, 28 Oct 2021</td>  <th>  Pseudo R-squ.:     </th>  <td>0.02082</td> \n",
              "</tr>\n",
              "<tr>\n",
              "  <th>Time:</th>                 <td>14:01:17</td>      <th>  Log-Likelihood:    </th> <td> -4523.9</td> \n",
              "</tr>\n",
              "<tr>\n",
              "  <th>converged:</th>              <td>True</td>        <th>  LL-Null:           </th> <td> -4620.1</td> \n",
              "</tr>\n",
              "<tr>\n",
              "  <th>Covariance Type:</th>      <td>nonrobust</td>     <th>  LLR p-value:       </th> <td>1.186e-39</td>\n",
              "</tr>\n",
              "</table>\n",
              "<table class=\"simpletable\">\n",
              "<tr>\n",
              "       <td></td>          <th>coef</th>     <th>std err</th>      <th>z</th>      <th>P>|z|</th>  <th>[0.025</th>    <th>0.975]</th>  \n",
              "</tr>\n",
              "<tr>\n",
              "  <th>Intercept</th>   <td>   -4.1126</td> <td>    3.767</td> <td>   -1.092</td> <td> 0.275</td> <td>  -11.495</td> <td>    3.270</td>\n",
              "</tr>\n",
              "<tr>\n",
              "  <th>DAY_OF_WEEK</th> <td>   -0.0626</td> <td>    0.005</td> <td>  -12.462</td> <td> 0.000</td> <td>   -0.072</td> <td>   -0.053</td>\n",
              "</tr>\n",
              "<tr>\n",
              "  <th>STRATA</th>      <td>    0.0014</td> <td>    0.001</td> <td>    2.288</td> <td> 0.022</td> <td>    0.000</td> <td>    0.003</td>\n",
              "</tr>\n",
              "<tr>\n",
              "  <th>TMIN</th>        <td>   -0.0128</td> <td>    0.004</td> <td>   -3.096</td> <td> 0.002</td> <td>   -0.021</td> <td>   -0.005</td>\n",
              "</tr>\n",
              "<tr>\n",
              "  <th>AVGPRESSURE</th> <td>    0.0068</td> <td>    0.004</td> <td>    1.731</td> <td> 0.083</td> <td>   -0.001</td> <td>    0.015</td>\n",
              "</tr>\n",
              "<tr>\n",
              "  <th>LHW</th>         <td>   -0.0836</td> <td>    0.039</td> <td>   -2.128</td> <td> 0.033</td> <td>   -0.161</td> <td>   -0.007</td>\n",
              "</tr>\n",
              "<tr>\n",
              "  <th>alpha</th>       <td>    0.0179</td> <td>    0.003</td> <td>    6.663</td> <td> 0.000</td> <td>    0.013</td> <td>    0.023</td>\n",
              "</tr>\n",
              "</table>"
            ],
            "text/plain": [
              "<class 'statsmodels.iolib.summary.Summary'>\n",
              "\"\"\"\n",
              "                    GeneralizedPoisson Regression Results                     \n",
              "==============================================================================\n",
              "Dep. Variable:                   HOSP   No. Observations:                 1817\n",
              "Model:             GeneralizedPoisson   Df Residuals:                     1811\n",
              "Method:                           MLE   Df Model:                            5\n",
              "Date:                Thu, 28 Oct 2021   Pseudo R-squ.:                 0.02082\n",
              "Time:                        14:01:17   Log-Likelihood:                -4523.9\n",
              "converged:                       True   LL-Null:                       -4620.1\n",
              "Covariance Type:            nonrobust   LLR p-value:                 1.186e-39\n",
              "===============================================================================\n",
              "                  coef    std err          z      P>|z|      [0.025      0.975]\n",
              "-------------------------------------------------------------------------------\n",
              "Intercept      -4.1126      3.767     -1.092      0.275     -11.495       3.270\n",
              "DAY_OF_WEEK    -0.0626      0.005    -12.462      0.000      -0.072      -0.053\n",
              "STRATA          0.0014      0.001      2.288      0.022       0.000       0.003\n",
              "TMIN           -0.0128      0.004     -3.096      0.002      -0.021      -0.005\n",
              "AVGPRESSURE     0.0068      0.004      1.731      0.083      -0.001       0.015\n",
              "LHW            -0.0836      0.039     -2.128      0.033      -0.161      -0.007\n",
              "alpha           0.0179      0.003      6.663      0.000       0.013       0.023\n",
              "===============================================================================\n",
              "\"\"\""
            ]
          },
          "metadata": {},
          "execution_count": 57
        }
      ]
    },
    {
      "cell_type": "code",
      "metadata": {
        "colab": {
          "base_uri": "https://localhost:8080/",
          "height": 266
        },
        "id": "bL_jen8PMHmu",
        "outputId": "022097bd-8e65-4375-b2a0-809b77f2ef1f"
      },
      "source": [
        "#Table with the coeficients and confidence intervals\n",
        "coef = pd.DataFrame(columns ={'coef','lower ci','upper ci'})\n",
        "coef['coef'] = np.exp(gen_poisson_gp2_results.params)\n",
        "coef['lower ci'] = np.exp(gen_poisson_gp2_results.conf_int().iloc[:,0])\n",
        "coef['upper ci'] = np.exp(gen_poisson_gp2_results.conf_int().iloc[:,1])\n",
        "coef"
      ],
      "execution_count": null,
      "outputs": [
        {
          "output_type": "execute_result",
          "data": {
            "text/html": [
              "<div>\n",
              "<style scoped>\n",
              "    .dataframe tbody tr th:only-of-type {\n",
              "        vertical-align: middle;\n",
              "    }\n",
              "\n",
              "    .dataframe tbody tr th {\n",
              "        vertical-align: top;\n",
              "    }\n",
              "\n",
              "    .dataframe thead th {\n",
              "        text-align: right;\n",
              "    }\n",
              "</style>\n",
              "<table border=\"1\" class=\"dataframe\">\n",
              "  <thead>\n",
              "    <tr style=\"text-align: right;\">\n",
              "      <th></th>\n",
              "      <th>coef</th>\n",
              "      <th>upper ci</th>\n",
              "      <th>lower ci</th>\n",
              "    </tr>\n",
              "  </thead>\n",
              "  <tbody>\n",
              "    <tr>\n",
              "      <th>Intercept</th>\n",
              "      <td>0.016365</td>\n",
              "      <td>26.310602</td>\n",
              "      <td>0.000010</td>\n",
              "    </tr>\n",
              "    <tr>\n",
              "      <th>DAY_OF_WEEK</th>\n",
              "      <td>0.939347</td>\n",
              "      <td>0.948636</td>\n",
              "      <td>0.930149</td>\n",
              "    </tr>\n",
              "    <tr>\n",
              "      <th>STRATA</th>\n",
              "      <td>1.001352</td>\n",
              "      <td>1.002511</td>\n",
              "      <td>1.000194</td>\n",
              "    </tr>\n",
              "    <tr>\n",
              "      <th>TMIN</th>\n",
              "      <td>0.987301</td>\n",
              "      <td>0.995322</td>\n",
              "      <td>0.979345</td>\n",
              "    </tr>\n",
              "    <tr>\n",
              "      <th>AVGPRESSURE</th>\n",
              "      <td>1.006862</td>\n",
              "      <td>1.014687</td>\n",
              "      <td>0.999096</td>\n",
              "    </tr>\n",
              "    <tr>\n",
              "      <th>LHW</th>\n",
              "      <td>0.919791</td>\n",
              "      <td>0.993409</td>\n",
              "      <td>0.851629</td>\n",
              "    </tr>\n",
              "    <tr>\n",
              "      <th>alpha</th>\n",
              "      <td>1.018081</td>\n",
              "      <td>1.023463</td>\n",
              "      <td>1.012729</td>\n",
              "    </tr>\n",
              "  </tbody>\n",
              "</table>\n",
              "</div>"
            ],
            "text/plain": [
              "                 coef   upper ci  lower ci\n",
              "Intercept    0.016365  26.310602  0.000010\n",
              "DAY_OF_WEEK  0.939347   0.948636  0.930149\n",
              "STRATA       1.001352   1.002511  1.000194\n",
              "TMIN         0.987301   0.995322  0.979345\n",
              "AVGPRESSURE  1.006862   1.014687  0.999096\n",
              "LHW          0.919791   0.993409  0.851629\n",
              "alpha        1.018081   1.023463  1.012729"
            ]
          },
          "metadata": {},
          "execution_count": 58
        }
      ]
    },
    {
      "cell_type": "code",
      "metadata": {
        "colab": {
          "base_uri": "https://localhost:8080/",
          "height": 438
        },
        "id": "mjMWU_D1MHmu",
        "outputId": "0d99ca84-aeda-42f3-d77e-3c8acec73c69"
      },
      "source": [
        "#set the regression expression in patsy notation\n",
        "\n",
        "expr = \"\"\"HOSP ~ DAY_OF_WEEK + STRATA + TMIN + AVGPRESSURE +HHW\"\"\"\n",
        "#set X and y matrices \n",
        "\n",
        "y, X = dmatrices(expr, df, return_type='dataframe')\n",
        "\n",
        "#Build Famoye's Restricted Generalized Poison regression model, know as GP-2\n",
        "gen_poisson_gp2 = sm.GeneralizedPoisson(y, X, p=2)\n",
        "\n",
        "#Fit the model\n",
        "gen_poisson_gp2_results = gen_poisson_gp2.fit(maxiter=5000)\n",
        "\n",
        "#summary\n",
        "gen_poisson_gp2_results.summary()"
      ],
      "execution_count": null,
      "outputs": [
        {
          "output_type": "stream",
          "name": "stdout",
          "text": [
            "Optimization terminated successfully.\n",
            "         Current function value: 2.490979\n",
            "         Iterations: 43\n",
            "         Function evaluations: 54\n",
            "         Gradient evaluations: 54\n"
          ]
        },
        {
          "output_type": "execute_result",
          "data": {
            "text/html": [
              "<table class=\"simpletable\">\n",
              "<caption>GeneralizedPoisson Regression Results</caption>\n",
              "<tr>\n",
              "  <th>Dep. Variable:</th>          <td>HOSP</td>        <th>  No. Observations:  </th>  <td>  1817</td>  \n",
              "</tr>\n",
              "<tr>\n",
              "  <th>Model:</th>           <td>GeneralizedPoisson</td> <th>  Df Residuals:      </th>  <td>  1811</td>  \n",
              "</tr>\n",
              "<tr>\n",
              "  <th>Method:</th>                  <td>MLE</td>        <th>  Df Model:          </th>  <td>     5</td>  \n",
              "</tr>\n",
              "<tr>\n",
              "  <th>Date:</th>             <td>Thu, 28 Oct 2021</td>  <th>  Pseudo R-squ.:     </th>  <td>0.02034</td> \n",
              "</tr>\n",
              "<tr>\n",
              "  <th>Time:</th>                 <td>14:01:17</td>      <th>  Log-Likelihood:    </th> <td> -4526.1</td> \n",
              "</tr>\n",
              "<tr>\n",
              "  <th>converged:</th>              <td>True</td>        <th>  LL-Null:           </th> <td> -4620.1</td> \n",
              "</tr>\n",
              "<tr>\n",
              "  <th>Covariance Type:</th>      <td>nonrobust</td>     <th>  LLR p-value:       </th> <td>1.068e-38</td>\n",
              "</tr>\n",
              "</table>\n",
              "<table class=\"simpletable\">\n",
              "<tr>\n",
              "       <td></td>          <th>coef</th>     <th>std err</th>      <th>z</th>      <th>P>|z|</th>  <th>[0.025</th>    <th>0.975]</th>  \n",
              "</tr>\n",
              "<tr>\n",
              "  <th>Intercept</th>   <td>   -3.6930</td> <td>    3.772</td> <td>   -0.979</td> <td> 0.328</td> <td>  -11.086</td> <td>    3.700</td>\n",
              "</tr>\n",
              "<tr>\n",
              "  <th>DAY_OF_WEEK</th> <td>   -0.0627</td> <td>    0.005</td> <td>  -12.472</td> <td> 0.000</td> <td>   -0.073</td> <td>   -0.053</td>\n",
              "</tr>\n",
              "<tr>\n",
              "  <th>STRATA</th>      <td>    0.0014</td> <td>    0.001</td> <td>    2.340</td> <td> 0.019</td> <td>    0.000</td> <td>    0.003</td>\n",
              "</tr>\n",
              "<tr>\n",
              "  <th>TMIN</th>        <td>   -0.0133</td> <td>    0.004</td> <td>   -3.213</td> <td> 0.001</td> <td>   -0.021</td> <td>   -0.005</td>\n",
              "</tr>\n",
              "<tr>\n",
              "  <th>AVGPRESSURE</th> <td>    0.0064</td> <td>    0.004</td> <td>    1.616</td> <td> 0.106</td> <td>   -0.001</td> <td>    0.014</td>\n",
              "</tr>\n",
              "<tr>\n",
              "  <th>HHW</th>         <td>    0.0654</td> <td>    0.188</td> <td>    0.349</td> <td> 0.727</td> <td>   -0.302</td> <td>    0.433</td>\n",
              "</tr>\n",
              "<tr>\n",
              "  <th>alpha</th>       <td>    0.0181</td> <td>    0.003</td> <td>    6.725</td> <td> 0.000</td> <td>    0.013</td> <td>    0.023</td>\n",
              "</tr>\n",
              "</table>"
            ],
            "text/plain": [
              "<class 'statsmodels.iolib.summary.Summary'>\n",
              "\"\"\"\n",
              "                    GeneralizedPoisson Regression Results                     \n",
              "==============================================================================\n",
              "Dep. Variable:                   HOSP   No. Observations:                 1817\n",
              "Model:             GeneralizedPoisson   Df Residuals:                     1811\n",
              "Method:                           MLE   Df Model:                            5\n",
              "Date:                Thu, 28 Oct 2021   Pseudo R-squ.:                 0.02034\n",
              "Time:                        14:01:17   Log-Likelihood:                -4526.1\n",
              "converged:                       True   LL-Null:                       -4620.1\n",
              "Covariance Type:            nonrobust   LLR p-value:                 1.068e-38\n",
              "===============================================================================\n",
              "                  coef    std err          z      P>|z|      [0.025      0.975]\n",
              "-------------------------------------------------------------------------------\n",
              "Intercept      -3.6930      3.772     -0.979      0.328     -11.086       3.700\n",
              "DAY_OF_WEEK    -0.0627      0.005    -12.472      0.000      -0.073      -0.053\n",
              "STRATA          0.0014      0.001      2.340      0.019       0.000       0.003\n",
              "TMIN           -0.0133      0.004     -3.213      0.001      -0.021      -0.005\n",
              "AVGPRESSURE     0.0064      0.004      1.616      0.106      -0.001       0.014\n",
              "HHW             0.0654      0.188      0.349      0.727      -0.302       0.433\n",
              "alpha           0.0181      0.003      6.725      0.000       0.013       0.023\n",
              "===============================================================================\n",
              "\"\"\""
            ]
          },
          "metadata": {},
          "execution_count": 59
        }
      ]
    },
    {
      "cell_type": "code",
      "metadata": {
        "colab": {
          "base_uri": "https://localhost:8080/",
          "height": 266
        },
        "id": "E2KOJhocMHmu",
        "outputId": "4668819e-c7ee-4778-e29a-8808f4692991"
      },
      "source": [
        "#Table with the coeficients and confidence intervals\n",
        "coef = pd.DataFrame(columns ={'coef','lower ci','upper ci'})\n",
        "coef['coef'] = np.exp(gen_poisson_gp2_results.params)\n",
        "coef['lower ci'] = np.exp(gen_poisson_gp2_results.conf_int().iloc[:,0])\n",
        "coef['upper ci'] = np.exp(gen_poisson_gp2_results.conf_int().iloc[:,1])\n",
        "coef"
      ],
      "execution_count": null,
      "outputs": [
        {
          "output_type": "execute_result",
          "data": {
            "text/html": [
              "<div>\n",
              "<style scoped>\n",
              "    .dataframe tbody tr th:only-of-type {\n",
              "        vertical-align: middle;\n",
              "    }\n",
              "\n",
              "    .dataframe tbody tr th {\n",
              "        vertical-align: top;\n",
              "    }\n",
              "\n",
              "    .dataframe thead th {\n",
              "        text-align: right;\n",
              "    }\n",
              "</style>\n",
              "<table border=\"1\" class=\"dataframe\">\n",
              "  <thead>\n",
              "    <tr style=\"text-align: right;\">\n",
              "      <th></th>\n",
              "      <th>coef</th>\n",
              "      <th>upper ci</th>\n",
              "      <th>lower ci</th>\n",
              "    </tr>\n",
              "  </thead>\n",
              "  <tbody>\n",
              "    <tr>\n",
              "      <th>Intercept</th>\n",
              "      <td>0.024896</td>\n",
              "      <td>40.446355</td>\n",
              "      <td>0.000015</td>\n",
              "    </tr>\n",
              "    <tr>\n",
              "      <th>DAY_OF_WEEK</th>\n",
              "      <td>0.939242</td>\n",
              "      <td>0.948540</td>\n",
              "      <td>0.930035</td>\n",
              "    </tr>\n",
              "    <tr>\n",
              "      <th>STRATA</th>\n",
              "      <td>1.001383</td>\n",
              "      <td>1.002544</td>\n",
              "      <td>1.000225</td>\n",
              "    </tr>\n",
              "    <tr>\n",
              "      <th>TMIN</th>\n",
              "      <td>0.986828</td>\n",
              "      <td>0.994841</td>\n",
              "      <td>0.978879</td>\n",
              "    </tr>\n",
              "    <tr>\n",
              "      <th>AVGPRESSURE</th>\n",
              "      <td>1.006414</td>\n",
              "      <td>1.014248</td>\n",
              "      <td>0.998642</td>\n",
              "    </tr>\n",
              "    <tr>\n",
              "      <th>HHW</th>\n",
              "      <td>1.067615</td>\n",
              "      <td>1.541817</td>\n",
              "      <td>0.739259</td>\n",
              "    </tr>\n",
              "    <tr>\n",
              "      <th>alpha</th>\n",
              "      <td>1.018283</td>\n",
              "      <td>1.023674</td>\n",
              "      <td>1.012920</td>\n",
              "    </tr>\n",
              "  </tbody>\n",
              "</table>\n",
              "</div>"
            ],
            "text/plain": [
              "                 coef   upper ci  lower ci\n",
              "Intercept    0.024896  40.446355  0.000015\n",
              "DAY_OF_WEEK  0.939242   0.948540  0.930035\n",
              "STRATA       1.001383   1.002544  1.000225\n",
              "TMIN         0.986828   0.994841  0.978879\n",
              "AVGPRESSURE  1.006414   1.014248  0.998642\n",
              "HHW          1.067615   1.541817  0.739259\n",
              "alpha        1.018283   1.023674  1.012920"
            ]
          },
          "metadata": {},
          "execution_count": 60
        }
      ]
    },
    {
      "cell_type": "code",
      "metadata": {
        "colab": {
          "base_uri": "https://localhost:8080/",
          "height": 438
        },
        "id": "4pZnGgvgMHmv",
        "outputId": "64dda0d1-1bde-4ebf-8295-760cc6a97894"
      },
      "source": [
        "#set the regression expression in patsy notation\n",
        "\n",
        "expr = \"\"\"HOSP ~ DAY_OF_WEEK + STRATA + TMIN + AVGPRESSURE + above_humidity_range\"\"\"\n",
        "#set X and y matrices \n",
        "\n",
        "y, X = dmatrices(expr, df, return_type='dataframe')\n",
        "\n",
        "#Build Famoye's Restricted Generalized Poison regression model, know as GP-2\n",
        "gen_poisson_gp2 = sm.GeneralizedPoisson(y, X, p=2)\n",
        "\n",
        "#Fit the model\n",
        "gen_poisson_gp2_results = gen_poisson_gp2.fit(maxiter=5000)\n",
        "\n",
        "#summary\n",
        "gen_poisson_gp2_results.summary()"
      ],
      "execution_count": null,
      "outputs": [
        {
          "output_type": "stream",
          "name": "stdout",
          "text": [
            "Optimization terminated successfully.\n",
            "         Current function value: 2.490994\n",
            "         Iterations: 35\n",
            "         Function evaluations: 46\n",
            "         Gradient evaluations: 46\n"
          ]
        },
        {
          "output_type": "execute_result",
          "data": {
            "text/html": [
              "<table class=\"simpletable\">\n",
              "<caption>GeneralizedPoisson Regression Results</caption>\n",
              "<tr>\n",
              "  <th>Dep. Variable:</th>          <td>HOSP</td>        <th>  No. Observations:  </th>  <td>  1817</td>  \n",
              "</tr>\n",
              "<tr>\n",
              "  <th>Model:</th>           <td>GeneralizedPoisson</td> <th>  Df Residuals:      </th>  <td>  1811</td>  \n",
              "</tr>\n",
              "<tr>\n",
              "  <th>Method:</th>                  <td>MLE</td>        <th>  Df Model:          </th>  <td>     5</td>  \n",
              "</tr>\n",
              "<tr>\n",
              "  <th>Date:</th>             <td>Thu, 28 Oct 2021</td>  <th>  Pseudo R-squ.:     </th>  <td>0.02034</td> \n",
              "</tr>\n",
              "<tr>\n",
              "  <th>Time:</th>                 <td>14:01:17</td>      <th>  Log-Likelihood:    </th> <td> -4526.1</td> \n",
              "</tr>\n",
              "<tr>\n",
              "  <th>converged:</th>              <td>True</td>        <th>  LL-Null:           </th> <td> -4620.1</td> \n",
              "</tr>\n",
              "<tr>\n",
              "  <th>Covariance Type:</th>      <td>nonrobust</td>     <th>  LLR p-value:       </th> <td>1.097e-38</td>\n",
              "</tr>\n",
              "</table>\n",
              "<table class=\"simpletable\">\n",
              "<tr>\n",
              "            <td></td>              <th>coef</th>     <th>std err</th>      <th>z</th>      <th>P>|z|</th>  <th>[0.025</th>    <th>0.975]</th>  \n",
              "</tr>\n",
              "<tr>\n",
              "  <th>Intercept</th>            <td>   -3.6895</td> <td>    3.776</td> <td>   -0.977</td> <td> 0.329</td> <td>  -11.090</td> <td>    3.711</td>\n",
              "</tr>\n",
              "<tr>\n",
              "  <th>DAY_OF_WEEK</th>          <td>   -0.0627</td> <td>    0.005</td> <td>  -12.464</td> <td> 0.000</td> <td>   -0.073</td> <td>   -0.053</td>\n",
              "</tr>\n",
              "<tr>\n",
              "  <th>STRATA</th>               <td>    0.0014</td> <td>    0.001</td> <td>    2.349</td> <td> 0.019</td> <td>    0.000</td> <td>    0.003</td>\n",
              "</tr>\n",
              "<tr>\n",
              "  <th>TMIN</th>                 <td>   -0.0133</td> <td>    0.004</td> <td>   -3.210</td> <td> 0.001</td> <td>   -0.021</td> <td>   -0.005</td>\n",
              "</tr>\n",
              "<tr>\n",
              "  <th>AVGPRESSURE</th>          <td>    0.0064</td> <td>    0.004</td> <td>    1.614</td> <td> 0.107</td> <td>   -0.001</td> <td>    0.014</td>\n",
              "</tr>\n",
              "<tr>\n",
              "  <th>above_humidity_range</th> <td>    0.0078</td> <td>    0.030</td> <td>    0.256</td> <td> 0.798</td> <td>   -0.052</td> <td>    0.067</td>\n",
              "</tr>\n",
              "<tr>\n",
              "  <th>alpha</th>                <td>    0.0181</td> <td>    0.003</td> <td>    6.725</td> <td> 0.000</td> <td>    0.013</td> <td>    0.023</td>\n",
              "</tr>\n",
              "</table>"
            ],
            "text/plain": [
              "<class 'statsmodels.iolib.summary.Summary'>\n",
              "\"\"\"\n",
              "                    GeneralizedPoisson Regression Results                     \n",
              "==============================================================================\n",
              "Dep. Variable:                   HOSP   No. Observations:                 1817\n",
              "Model:             GeneralizedPoisson   Df Residuals:                     1811\n",
              "Method:                           MLE   Df Model:                            5\n",
              "Date:                Thu, 28 Oct 2021   Pseudo R-squ.:                 0.02034\n",
              "Time:                        14:01:17   Log-Likelihood:                -4526.1\n",
              "converged:                       True   LL-Null:                       -4620.1\n",
              "Covariance Type:            nonrobust   LLR p-value:                 1.097e-38\n",
              "========================================================================================\n",
              "                           coef    std err          z      P>|z|      [0.025      0.975]\n",
              "----------------------------------------------------------------------------------------\n",
              "Intercept               -3.6895      3.776     -0.977      0.329     -11.090       3.711\n",
              "DAY_OF_WEEK             -0.0627      0.005    -12.464      0.000      -0.073      -0.053\n",
              "STRATA                   0.0014      0.001      2.349      0.019       0.000       0.003\n",
              "TMIN                    -0.0133      0.004     -3.210      0.001      -0.021      -0.005\n",
              "AVGPRESSURE              0.0064      0.004      1.614      0.107      -0.001       0.014\n",
              "above_humidity_range     0.0078      0.030      0.256      0.798      -0.052       0.067\n",
              "alpha                    0.0181      0.003      6.725      0.000       0.013       0.023\n",
              "========================================================================================\n",
              "\"\"\""
            ]
          },
          "metadata": {},
          "execution_count": 61
        }
      ]
    },
    {
      "cell_type": "code",
      "metadata": {
        "colab": {
          "base_uri": "https://localhost:8080/",
          "height": 266
        },
        "id": "GW29NUYrMHmv",
        "outputId": "08db9738-9a0a-445f-b7ec-c81fae908bcb"
      },
      "source": [
        "#Table with the coeficients and confidence intervals\n",
        "coef = pd.DataFrame(columns ={'coef','lower ci','upper ci'})\n",
        "coef['coef'] = np.exp(gen_poisson_gp2_results.params)\n",
        "coef['lower ci'] = np.exp(gen_poisson_gp2_results.conf_int().iloc[:,0])\n",
        "coef['upper ci'] = np.exp(gen_poisson_gp2_results.conf_int().iloc[:,1])\n",
        "coef"
      ],
      "execution_count": null,
      "outputs": [
        {
          "output_type": "execute_result",
          "data": {
            "text/html": [
              "<div>\n",
              "<style scoped>\n",
              "    .dataframe tbody tr th:only-of-type {\n",
              "        vertical-align: middle;\n",
              "    }\n",
              "\n",
              "    .dataframe tbody tr th {\n",
              "        vertical-align: top;\n",
              "    }\n",
              "\n",
              "    .dataframe thead th {\n",
              "        text-align: right;\n",
              "    }\n",
              "</style>\n",
              "<table border=\"1\" class=\"dataframe\">\n",
              "  <thead>\n",
              "    <tr style=\"text-align: right;\">\n",
              "      <th></th>\n",
              "      <th>coef</th>\n",
              "      <th>upper ci</th>\n",
              "      <th>lower ci</th>\n",
              "    </tr>\n",
              "  </thead>\n",
              "  <tbody>\n",
              "    <tr>\n",
              "      <th>Intercept</th>\n",
              "      <td>0.024985</td>\n",
              "      <td>40.901006</td>\n",
              "      <td>0.000015</td>\n",
              "    </tr>\n",
              "    <tr>\n",
              "      <th>DAY_OF_WEEK</th>\n",
              "      <td>0.939269</td>\n",
              "      <td>0.948569</td>\n",
              "      <td>0.930060</td>\n",
              "    </tr>\n",
              "    <tr>\n",
              "      <th>STRATA</th>\n",
              "      <td>1.001394</td>\n",
              "      <td>1.002559</td>\n",
              "      <td>1.000231</td>\n",
              "    </tr>\n",
              "    <tr>\n",
              "      <th>TMIN</th>\n",
              "      <td>0.986833</td>\n",
              "      <td>0.994853</td>\n",
              "      <td>0.978877</td>\n",
              "    </tr>\n",
              "    <tr>\n",
              "      <th>AVGPRESSURE</th>\n",
              "      <td>1.006409</td>\n",
              "      <td>1.014250</td>\n",
              "      <td>0.998629</td>\n",
              "    </tr>\n",
              "    <tr>\n",
              "      <th>above_humidity_range</th>\n",
              "      <td>1.007818</td>\n",
              "      <td>1.069613</td>\n",
              "      <td>0.949593</td>\n",
              "    </tr>\n",
              "    <tr>\n",
              "      <th>alpha</th>\n",
              "      <td>1.018282</td>\n",
              "      <td>1.023673</td>\n",
              "      <td>1.012919</td>\n",
              "    </tr>\n",
              "  </tbody>\n",
              "</table>\n",
              "</div>"
            ],
            "text/plain": [
              "                          coef   upper ci  lower ci\n",
              "Intercept             0.024985  40.901006  0.000015\n",
              "DAY_OF_WEEK           0.939269   0.948569  0.930060\n",
              "STRATA                1.001394   1.002559  1.000231\n",
              "TMIN                  0.986833   0.994853  0.978877\n",
              "AVGPRESSURE           1.006409   1.014250  0.998629\n",
              "above_humidity_range  1.007818   1.069613  0.949593\n",
              "alpha                 1.018282   1.023673  1.012919"
            ]
          },
          "metadata": {},
          "execution_count": 62
        }
      ]
    },
    {
      "cell_type": "code",
      "metadata": {
        "colab": {
          "base_uri": "https://localhost:8080/",
          "height": 438
        },
        "id": "Fow0tw9qMHmw",
        "outputId": "81ed1679-15a9-4374-a4ec-794d81796339"
      },
      "source": [
        "#set the regression expression in patsy notation\n",
        "\n",
        "expr = \"\"\"HOSP ~ DAY_OF_WEEK + STRATA + TMIN + AVGPRESSURE +above_humidity_dif\"\"\"\n",
        "#set X and y matrices \n",
        "\n",
        "y, X = dmatrices(expr, df, return_type='dataframe')\n",
        "\n",
        "#Build Famoye's Restricted Generalized Poison regression model, know as GP-2\n",
        "gen_poisson_gp2 = sm.GeneralizedPoisson(y, X, p=2)\n",
        "\n",
        "#Fit the model\n",
        "gen_poisson_gp2_results = gen_poisson_gp2.fit(maxiter=5000)\n",
        "\n",
        "#summary\n",
        "gen_poisson_gp2_results.summary()"
      ],
      "execution_count": null,
      "outputs": [
        {
          "output_type": "stream",
          "name": "stdout",
          "text": [
            "Optimization terminated successfully.\n",
            "         Current function value: 2.490910\n",
            "         Iterations: 40\n",
            "         Function evaluations: 51\n",
            "         Gradient evaluations: 51\n"
          ]
        },
        {
          "output_type": "execute_result",
          "data": {
            "text/html": [
              "<table class=\"simpletable\">\n",
              "<caption>GeneralizedPoisson Regression Results</caption>\n",
              "<tr>\n",
              "  <th>Dep. Variable:</th>          <td>HOSP</td>        <th>  No. Observations:  </th>  <td>  1817</td>  \n",
              "</tr>\n",
              "<tr>\n",
              "  <th>Model:</th>           <td>GeneralizedPoisson</td> <th>  Df Residuals:      </th>  <td>  1811</td>  \n",
              "</tr>\n",
              "<tr>\n",
              "  <th>Method:</th>                  <td>MLE</td>        <th>  Df Model:          </th>  <td>     5</td>  \n",
              "</tr>\n",
              "<tr>\n",
              "  <th>Date:</th>             <td>Thu, 28 Oct 2021</td>  <th>  Pseudo R-squ.:     </th>  <td>0.02037</td> \n",
              "</tr>\n",
              "<tr>\n",
              "  <th>Time:</th>                 <td>14:01:18</td>      <th>  Log-Likelihood:    </th> <td> -4526.0</td> \n",
              "</tr>\n",
              "<tr>\n",
              "  <th>converged:</th>              <td>True</td>        <th>  LL-Null:           </th> <td> -4620.1</td> \n",
              "</tr>\n",
              "<tr>\n",
              "  <th>Covariance Type:</th>      <td>nonrobust</td>     <th>  LLR p-value:       </th> <td>9.451e-39</td>\n",
              "</tr>\n",
              "</table>\n",
              "<table class=\"simpletable\">\n",
              "<tr>\n",
              "           <td></td>             <th>coef</th>     <th>std err</th>      <th>z</th>      <th>P>|z|</th>  <th>[0.025</th>    <th>0.975]</th>  \n",
              "</tr>\n",
              "<tr>\n",
              "  <th>Intercept</th>          <td>   -3.6127</td> <td>    3.766</td> <td>   -0.959</td> <td> 0.337</td> <td>  -10.993</td> <td>    3.768</td>\n",
              "</tr>\n",
              "<tr>\n",
              "  <th>DAY_OF_WEEK</th>        <td>   -0.0627</td> <td>    0.005</td> <td>  -12.481</td> <td> 0.000</td> <td>   -0.073</td> <td>   -0.053</td>\n",
              "</tr>\n",
              "<tr>\n",
              "  <th>STRATA</th>             <td>    0.0014</td> <td>    0.001</td> <td>    2.348</td> <td> 0.019</td> <td>    0.000</td> <td>    0.003</td>\n",
              "</tr>\n",
              "<tr>\n",
              "  <th>TMIN</th>               <td>   -0.0133</td> <td>    0.004</td> <td>   -3.230</td> <td> 0.001</td> <td>   -0.021</td> <td>   -0.005</td>\n",
              "</tr>\n",
              "<tr>\n",
              "  <th>AVGPRESSURE</th>        <td>    0.0063</td> <td>    0.004</td> <td>    1.598</td> <td> 0.110</td> <td>   -0.001</td> <td>    0.014</td>\n",
              "</tr>\n",
              "<tr>\n",
              "  <th>above_humidity_dif</th> <td>    0.0563</td> <td>    0.092</td> <td>    0.610</td> <td> 0.542</td> <td>   -0.125</td> <td>    0.237</td>\n",
              "</tr>\n",
              "<tr>\n",
              "  <th>alpha</th>              <td>    0.0181</td> <td>    0.003</td> <td>    6.724</td> <td> 0.000</td> <td>    0.013</td> <td>    0.023</td>\n",
              "</tr>\n",
              "</table>"
            ],
            "text/plain": [
              "<class 'statsmodels.iolib.summary.Summary'>\n",
              "\"\"\"\n",
              "                    GeneralizedPoisson Regression Results                     \n",
              "==============================================================================\n",
              "Dep. Variable:                   HOSP   No. Observations:                 1817\n",
              "Model:             GeneralizedPoisson   Df Residuals:                     1811\n",
              "Method:                           MLE   Df Model:                            5\n",
              "Date:                Thu, 28 Oct 2021   Pseudo R-squ.:                 0.02037\n",
              "Time:                        14:01:18   Log-Likelihood:                -4526.0\n",
              "converged:                       True   LL-Null:                       -4620.1\n",
              "Covariance Type:            nonrobust   LLR p-value:                 9.451e-39\n",
              "======================================================================================\n",
              "                         coef    std err          z      P>|z|      [0.025      0.975]\n",
              "--------------------------------------------------------------------------------------\n",
              "Intercept             -3.6127      3.766     -0.959      0.337     -10.993       3.768\n",
              "DAY_OF_WEEK           -0.0627      0.005    -12.481      0.000      -0.073      -0.053\n",
              "STRATA                 0.0014      0.001      2.348      0.019       0.000       0.003\n",
              "TMIN                  -0.0133      0.004     -3.230      0.001      -0.021      -0.005\n",
              "AVGPRESSURE            0.0063      0.004      1.598      0.110      -0.001       0.014\n",
              "above_humidity_dif     0.0563      0.092      0.610      0.542      -0.125       0.237\n",
              "alpha                  0.0181      0.003      6.724      0.000       0.013       0.023\n",
              "======================================================================================\n",
              "\"\"\""
            ]
          },
          "metadata": {},
          "execution_count": 63
        }
      ]
    },
    {
      "cell_type": "code",
      "metadata": {
        "colab": {
          "base_uri": "https://localhost:8080/",
          "height": 266
        },
        "id": "AbFPiVNwMHmw",
        "outputId": "8aa4e921-b6ac-48f0-e840-f54d31af34b4"
      },
      "source": [
        "#Table with the coeficients and confidence intervals\n",
        "coef = pd.DataFrame(columns ={'coef','lower ci','upper ci'})\n",
        "coef['coef'] = np.exp(gen_poisson_gp2_results.params)\n",
        "coef['lower ci'] = np.exp(gen_poisson_gp2_results.conf_int().iloc[:,0])\n",
        "coef['upper ci'] = np.exp(gen_poisson_gp2_results.conf_int().iloc[:,1])\n",
        "coef"
      ],
      "execution_count": null,
      "outputs": [
        {
          "output_type": "execute_result",
          "data": {
            "text/html": [
              "<div>\n",
              "<style scoped>\n",
              "    .dataframe tbody tr th:only-of-type {\n",
              "        vertical-align: middle;\n",
              "    }\n",
              "\n",
              "    .dataframe tbody tr th {\n",
              "        vertical-align: top;\n",
              "    }\n",
              "\n",
              "    .dataframe thead th {\n",
              "        text-align: right;\n",
              "    }\n",
              "</style>\n",
              "<table border=\"1\" class=\"dataframe\">\n",
              "  <thead>\n",
              "    <tr style=\"text-align: right;\">\n",
              "      <th></th>\n",
              "      <th>coef</th>\n",
              "      <th>upper ci</th>\n",
              "      <th>lower ci</th>\n",
              "    </tr>\n",
              "  </thead>\n",
              "  <tbody>\n",
              "    <tr>\n",
              "      <th>Intercept</th>\n",
              "      <td>0.026979</td>\n",
              "      <td>43.281509</td>\n",
              "      <td>0.000017</td>\n",
              "    </tr>\n",
              "    <tr>\n",
              "      <th>DAY_OF_WEEK</th>\n",
              "      <td>0.939185</td>\n",
              "      <td>0.948485</td>\n",
              "      <td>0.929977</td>\n",
              "    </tr>\n",
              "    <tr>\n",
              "      <th>STRATA</th>\n",
              "      <td>1.001388</td>\n",
              "      <td>1.002548</td>\n",
              "      <td>1.000229</td>\n",
              "    </tr>\n",
              "    <tr>\n",
              "      <th>TMIN</th>\n",
              "      <td>0.986771</td>\n",
              "      <td>0.994777</td>\n",
              "      <td>0.978830</td>\n",
              "    </tr>\n",
              "    <tr>\n",
              "      <th>AVGPRESSURE</th>\n",
              "      <td>1.006329</td>\n",
              "      <td>1.014148</td>\n",
              "      <td>0.998570</td>\n",
              "    </tr>\n",
              "    <tr>\n",
              "      <th>above_humidity_dif</th>\n",
              "      <td>1.057932</td>\n",
              "      <td>1.267685</td>\n",
              "      <td>0.882885</td>\n",
              "    </tr>\n",
              "    <tr>\n",
              "      <th>alpha</th>\n",
              "      <td>1.018278</td>\n",
              "      <td>1.023668</td>\n",
              "      <td>1.012916</td>\n",
              "    </tr>\n",
              "  </tbody>\n",
              "</table>\n",
              "</div>"
            ],
            "text/plain": [
              "                        coef   upper ci  lower ci\n",
              "Intercept           0.026979  43.281509  0.000017\n",
              "DAY_OF_WEEK         0.939185   0.948485  0.929977\n",
              "STRATA              1.001388   1.002548  1.000229\n",
              "TMIN                0.986771   0.994777  0.978830\n",
              "AVGPRESSURE         1.006329   1.014148  0.998570\n",
              "above_humidity_dif  1.057932   1.267685  0.882885\n",
              "alpha               1.018278   1.023668  1.012916"
            ]
          },
          "metadata": {},
          "execution_count": 64
        }
      ]
    },
    {
      "cell_type": "markdown",
      "metadata": {
        "id": "Q_LEzcQYgPni"
      },
      "source": [
        "#**References**\n",
        "\n",
        "P. C. Consul,Generalized Poisson distributions: properties and applications.  M. Dekker, 1989."
      ]
    }
  ]
}