{
  "nbformat": 4,
  "nbformat_minor": 0,
  "metadata": {
    "colab": {
      "name": "TR_2021/04 -Rate ratio for cardiovascular hospitalizations and extreme events.ipynb",
      "provenance": [],
      "collapsed_sections": [],
      "mount_file_id": "11X5JIRenmLGH9dMsG1WgEuIBmc1R2yta",
      "authorship_tag": "ABX9TyNdTVGqBLRctIKqR7eDHsnw"
    },
    "kernelspec": {
      "name": "python3",
      "display_name": "Python 3"
    }
  },
  "cells": [
    {
      "cell_type": "markdown",
      "metadata": {
        "id": "_7WxcqgBRQB-"
      },
      "source": [
        "# **TR_2021/04 - Technical report: Rate ratio for cardiovascular hospitalizations and extreme events**\n",
        "\n",
        "\n",
        "|Technical Report ID  |2021/04|\n",
        "|--|--|\n",
        "| Title |Rate ratio for cardiovascular hospitalizations and extreme events|\n",
        "| Authors | Júlia De Lázari, Paula Dornhofer|\n",
        "| Creation Date| 2021-03|\n",
        "\n",
        "\n",
        "## Databases descriptions\n",
        "\n",
        "**inputs:** \n",
        "\n",
        "- hospitalizações_circulatório.csv: Dataframe of hospitalizations due to cardiovascular ICDs from 2014 to 2018.\n",
        "\n",
        "- EV_temperature.csv, EV_pressure.csv, EV_humidity.csv: Dataframes with the extreme events computed. Viracopos data was used for this.\n",
        "\n",
        "## Analysis\n",
        "\n",
        "This report presents an analysis of the the _rate ratio_ for the [extreme climate events](https://github.com/climate-and-health-datasci-Unicamp/project-climatic-variations-cardiovascular-diseases/blob/main/notebooks/TR_03_2020_Extreme_climatic_events_for_Campinas.ipynb) and cardiovascular hospitalizations.\n",
        "\n",
        "The analysis was conducted for the total data and for some stratifications (sex, age, age and sex).\n",
        "\n",
        "\n",
        "\n"
      ]
    },
    {
      "cell_type": "markdown",
      "metadata": {
        "id": "O_KNUbbG9v_C"
      },
      "source": [
        "##**Rate ratio**\n",
        "\n",
        "Rate ratio is a relative difference measure used to compare the incidence rates of events occurring at any given point in time, frequently used in epidemiology [CDC].\n",
        "\n",
        "It is given by **RR = rate ratio = incidence rate 1/incidence rate 2**\n",
        "\n",
        "with **incidence rate = number of events/population size**\n",
        "\n",
        "The confidence interval is given by **log(RR) - [1.96 x SE(log(RR))] a log(RR) + [1.96 x SE(log(RR))]**. SE is the abreviation for standard error [SPH].\n",
        "\n",
        "In our case **RR = (number of hospitalizations at days under extreme climatic events/number of days with extreme climatic events)/(number of hospitalizations at control days/number of control days)**\n",
        "\n",
        "Its interpretation is similar to that of the _risk ratio_. A rate ratio of 1.0 indicates equal rates in the two groups. A rate ratio greater than 1.0 indicates increased risk for the group in the numerator. A rate ratio less than 1.0 indicates descreased risk for the group in the numerator."
      ]
    },
    {
      "cell_type": "markdown",
      "metadata": {
        "id": "_cZJPEYBMKfI"
      },
      "source": [
        "##**Import libraries**"
      ]
    },
    {
      "cell_type": "code",
      "metadata": {
        "colab": {
          "base_uri": "https://localhost:8080/"
        },
        "id": "Kl_o0DIMRQCE",
        "outputId": "ea95abb8-f2b7-4ac7-ed37-ede0432e14b7"
      },
      "source": [
        "#-------------------------------------------------------------------#\n",
        "#                       Import libraries                            #\n",
        "#-------------------------------------------------------------------#\n",
        "import pandas as pd\n",
        "import numpy as np\n",
        "import datetime\n",
        "import more_itertools as mit\n",
        "import datetime\n",
        "import statistics as stat\n",
        "import matplotlib.pyplot as plt\n",
        "from matplotlib.ticker import PercentFormatter\n",
        "import scipy\n",
        "import math\n",
        "import seaborn as sns\n",
        "import pylab\n",
        "from datetime import timedelta\n",
        "from calendar import isleap\n",
        "from google.colab import drive\n",
        "from google.colab import files\n",
        "\n",
        "drive.mount('/content/drive')\n",
        "\n",
        "pd.options.mode.chained_assignment = None"
      ],
      "execution_count": null,
      "outputs": [
        {
          "output_type": "stream",
          "text": [
            "Mounted at /content/drive\n"
          ],
          "name": "stdout"
        }
      ]
    },
    {
      "cell_type": "markdown",
      "metadata": {
        "id": "Bj7aFMkmRQCG"
      },
      "source": [
        "## **Load and merge dataframes**"
      ]
    },
    {
      "cell_type": "code",
      "metadata": {
        "colab": {
          "base_uri": "https://localhost:8080/",
          "height": 419
        },
        "id": "7vYzFqgKRQCG",
        "outputId": "ba242e13-89a7-49cc-af15-e9c836951d4e"
      },
      "source": [
        "#-------------------------------------------------------------------#\n",
        "#                      cardiovascular hospitalizations                 #\n",
        "#-------------------------------------------------------------------#\n",
        "\n",
        "df_hosp = pd.read_csv('hospitalizações_circulatório.csv')\n",
        "df_hosp = df_hosp.drop(columns = {'Unnamed: 0','Hora','Número Paciente','Descrição CID'}) #drop unneeded columns\n",
        "df_hosp = df_hosp.rename(columns = {'Data':'DATE','Idade': 'IDADE','Sexo': 'SEXO'}) #rename Data to DATE to merge dataframes\n",
        "df_hosp = df_hosp[(df_hosp.DATE !='2012-02-29')&(df_hosp.DATE !='2016-02-29')] #remove leap year dates (02-29)\n",
        "df_hosp = df_hosp.sort_values('DATE')"
      ],
      "execution_count": null,
      "outputs": [
        {
          "output_type": "execute_result",
          "data": {
            "text/html": [
              "<div>\n",
              "<style scoped>\n",
              "    .dataframe tbody tr th:only-of-type {\n",
              "        vertical-align: middle;\n",
              "    }\n",
              "\n",
              "    .dataframe tbody tr th {\n",
              "        vertical-align: top;\n",
              "    }\n",
              "\n",
              "    .dataframe thead th {\n",
              "        text-align: right;\n",
              "    }\n",
              "</style>\n",
              "<table border=\"1\" class=\"dataframe\">\n",
              "  <thead>\n",
              "    <tr style=\"text-align: right;\">\n",
              "      <th></th>\n",
              "      <th>DATE</th>\n",
              "      <th>SEXO</th>\n",
              "      <th>IDADE</th>\n",
              "      <th>CID</th>\n",
              "    </tr>\n",
              "  </thead>\n",
              "  <tbody>\n",
              "    <tr>\n",
              "      <th>709</th>\n",
              "      <td>2014-01-01</td>\n",
              "      <td>F</td>\n",
              "      <td>85</td>\n",
              "      <td>I110</td>\n",
              "    </tr>\n",
              "    <tr>\n",
              "      <th>1125</th>\n",
              "      <td>2014-01-01</td>\n",
              "      <td>M</td>\n",
              "      <td>80</td>\n",
              "      <td>I110</td>\n",
              "    </tr>\n",
              "    <tr>\n",
              "      <th>1134</th>\n",
              "      <td>2014-01-02</td>\n",
              "      <td>F</td>\n",
              "      <td>75</td>\n",
              "      <td>I498</td>\n",
              "    </tr>\n",
              "    <tr>\n",
              "      <th>1137</th>\n",
              "      <td>2014-01-02</td>\n",
              "      <td>M</td>\n",
              "      <td>73</td>\n",
              "      <td>I48</td>\n",
              "    </tr>\n",
              "    <tr>\n",
              "      <th>1130</th>\n",
              "      <td>2014-01-02</td>\n",
              "      <td>F</td>\n",
              "      <td>58</td>\n",
              "      <td>I509</td>\n",
              "    </tr>\n",
              "    <tr>\n",
              "      <th>...</th>\n",
              "      <td>...</td>\n",
              "      <td>...</td>\n",
              "      <td>...</td>\n",
              "      <td>...</td>\n",
              "    </tr>\n",
              "    <tr>\n",
              "      <th>147</th>\n",
              "      <td>2018-12-30</td>\n",
              "      <td>M</td>\n",
              "      <td>60</td>\n",
              "      <td>I64</td>\n",
              "    </tr>\n",
              "    <tr>\n",
              "      <th>4366</th>\n",
              "      <td>2018-12-30</td>\n",
              "      <td>F</td>\n",
              "      <td>47</td>\n",
              "      <td>I200</td>\n",
              "    </tr>\n",
              "    <tr>\n",
              "      <th>12901</th>\n",
              "      <td>2018-12-30</td>\n",
              "      <td>M</td>\n",
              "      <td>78</td>\n",
              "      <td>I517</td>\n",
              "    </tr>\n",
              "    <tr>\n",
              "      <th>12902</th>\n",
              "      <td>2018-12-30</td>\n",
              "      <td>M</td>\n",
              "      <td>32</td>\n",
              "      <td>I48</td>\n",
              "    </tr>\n",
              "    <tr>\n",
              "      <th>12141</th>\n",
              "      <td>2018-12-31</td>\n",
              "      <td>M</td>\n",
              "      <td>43</td>\n",
              "      <td>I200</td>\n",
              "    </tr>\n",
              "  </tbody>\n",
              "</table>\n",
              "<p>12896 rows × 4 columns</p>\n",
              "</div>"
            ],
            "text/plain": [
              "             DATE SEXO  IDADE   CID\n",
              "709    2014-01-01    F     85  I110\n",
              "1125   2014-01-01    M     80  I110\n",
              "1134   2014-01-02    F     75  I498\n",
              "1137   2014-01-02    M     73   I48\n",
              "1130   2014-01-02    F     58  I509\n",
              "...           ...  ...    ...   ...\n",
              "147    2018-12-30    M     60   I64\n",
              "4366   2018-12-30    F     47  I200\n",
              "12901  2018-12-30    M     78  I517\n",
              "12902  2018-12-30    M     32   I48\n",
              "12141  2018-12-31    M     43  I200\n",
              "\n",
              "[12896 rows x 4 columns]"
            ]
          },
          "metadata": {
            "tags": []
          },
          "execution_count": 4
        }
      ]
    },
    {
      "cell_type": "code",
      "metadata": {
        "id": "U50cC2w0RQCH"
      },
      "source": [
        "#-------------------------------------------------------------------#\n",
        "#                  Extreme climatic variations                      #\n",
        "#-------------------------------------------------------------------#\n",
        "df_temp =  pd.read_csv('EV_temperature.csv')\n",
        "df_temp = df_temp.drop(columns = {'Unnamed: 0','DAY365'})\n",
        "df_temp = df_temp[df_temp['DATE']>'2014-01-01']\n",
        "\n",
        "df_humidity =  pd.read_csv('EV_humidity.csv')\n",
        "df_humidity = df_humidity.drop(columns = {'Unnamed: 0','DAY365'})\n",
        "df_humidity = df_humidity[df_humidity['DATE']>'2014-01-01']\n",
        "\n",
        "df_pressure =  pd.read_csv('EV_pressure.csv')\n",
        "df_pressure = df_pressure.drop(columns = {'Unnamed: 0','DAY365'})\n",
        "df_pressure = df_pressure[df_pressure['DATE']>'2014-01-01']"
      ],
      "execution_count": null,
      "outputs": []
    },
    {
      "cell_type": "code",
      "metadata": {
        "id": "wykqMU8BRQCH"
      },
      "source": [
        "#-------------------------------------------------------------------#\n",
        "#              Merge health and climate dataframes                  #\n",
        "#-------------------------------------------------------------------#\n",
        "\n",
        "df_temp = pd.merge(df_temp,df_hosp, on='DATE', how='outer')\n",
        "\n",
        "df_humidity = pd.merge(df_humidity,df_hosp, on='DATE', how='outer')\n",
        "\n",
        "df_pressure = pd.merge(df_pressure,df_hosp, on='DATE', how='outer')"
      ],
      "execution_count": null,
      "outputs": []
    },
    {
      "cell_type": "markdown",
      "metadata": {
        "id": "MZtAQw07RQCI"
      },
      "source": [
        "## **Functions**\n",
        "\n",
        "Automatize some repeated operations along the notebook\n",
        "- stratify functions: different stratifications of the dataframe\n",
        "- rate_ratio: compute the rate ratio for the desired stratification"
      ]
    },
    {
      "cell_type": "markdown",
      "metadata": {
        "id": "VbeozYITLm1D"
      },
      "source": [
        "###**Stratify functions**"
      ]
    },
    {
      "cell_type": "code",
      "metadata": {
        "id": "fwVt-p6cHmth"
      },
      "source": [
        "# Stratify sex\n",
        "def stratify_sex(database):\n",
        "  women = database[database['SEXO']=='F']\n",
        "  men = database[database['SEXO']=='M']\n",
        "\n",
        "  dataframes = [database, women, men]\n",
        "  df_names = [\"All\", \"Women\", \"Men\"]\n",
        "\n",
        "  return dataframes, df_names"
      ],
      "execution_count": null,
      "outputs": []
    },
    {
      "cell_type": "code",
      "metadata": {
        "id": "YN_lpaJ_F8E9"
      },
      "source": [
        "#Stratify age\n",
        "def stratify_age(database):\n",
        "  #less_20 = database[(database['IDADE'] < 20)]  \n",
        "  between_20_40 = database[(database['IDADE'] >= 20) & (database['IDADE'] < 40)]\n",
        "  between_40_65 = database[(database['IDADE'] >= 40) & (database['IDADE'] < 65)]   \n",
        "  over_65 = database[(database['IDADE'] > 64)]   \n",
        "  over_75 = database[(database['IDADE'] > 75)]\n",
        "\n",
        "  dataframes  = [database, between_20_40, between_40_65, over_65, over_75] \n",
        "  df_names = [\"All\", \"Between 20 and 40 years old\",\"Between 40 and 65 years old\",\"Above 65 years old\",\"Above 75 years old\"]\n",
        "\n",
        "  return dataframes, df_names"
      ],
      "execution_count": null,
      "outputs": []
    },
    {
      "cell_type": "code",
      "metadata": {
        "id": "MmEHzGUVD5fd"
      },
      "source": [
        "# Stratify age sex\n",
        "def stratify_age_sex(database): \n",
        "    between_20_65_F = database[(database['IDADE'] >= 20) & (database['IDADE'] < 65)  & (database['SEXO']==\"F\")]\n",
        "    between_20_65_M = database[(database['IDADE'] >= 20) & (database['IDADE'] < 65) & (database['SEXO']==\"M\")]   \n",
        "    over_65_F = database[(database['IDADE'] > 64) & (database['SEXO']==\"F\")]   \n",
        "    over_65_M = database[(database['IDADE'] > 64) & (database['SEXO']==\"M\")]     \n",
        "\n",
        "    dataframes = [database, between_20_65_F, between_20_65_M,over_65_F,over_65_M]\n",
        "    df_names = [\"All\", \"Women between 20 and 65 years old\",\"Men between 20 and 65 years old\",\"Women above 65 years old\",\"Men above 65 years old\"]\n",
        "\n",
        "    return dataframes, df_names"
      ],
      "execution_count": null,
      "outputs": []
    },
    {
      "cell_type": "markdown",
      "metadata": {
        "id": "ijop1R5I4R5G"
      },
      "source": [
        "###**Rate ratio function**"
      ]
    },
    {
      "cell_type": "code",
      "metadata": {
        "id": "wZUKc_R84SN5"
      },
      "source": [
        "def rate_ratio(db, stratify,event):\n",
        "  database = db.copy()\n",
        "\n",
        "  #subsets depending on the stratification\n",
        "  if (stratify == 'age and sex'): \n",
        "    dataframes, df_names = stratify_age_sex(database)\n",
        "  elif (stratify == 'sex'): \n",
        "    dataframes, df_names = stratify_sex(database)\n",
        "  elif (stratify == 'age'): \n",
        "    dataframes, df_names = stratify_age(database)\n",
        "  \n",
        "  #aux variable \n",
        "  list_rr = []\n",
        "  list_up_ci = []\n",
        "  list_lr_ci = []\n",
        "\n",
        "  for df in dataframes:\n",
        "    #column for number of hospitalizations\n",
        "    df['N_hosp'] = np.where(df['CID'].isnull(),0,df.groupby(['DATE']).DATE.transform('count'))\n",
        "    df = df.drop_duplicates('DATE',keep='first')\n",
        "    df = df.sort_values('DATE')\n",
        "      \n",
        "    number_event = len(df[df[event] ==1]) # number of days with a extreme event\n",
        "    number_control = len(df[df[event] ==0]) # number of days without a extreme event\n",
        "\n",
        "    hosp_event = df.N_hosp[df[event] ==1].sum() # total number of hosp during a extreme event\n",
        "    hosp_control = df.N_hosp[df[event] == 0].sum() # total number of hosp during control days\n",
        "\n",
        "    # Rate ratio and confidence interval\n",
        "    RR = round((hosp_event/number_event)/(hosp_control/number_control), 2) # compute rate ratio\n",
        "    SE = math.sqrt(1/hosp_event + 1/hosp_control)\n",
        "\n",
        "    upper_CI = round(np.exp(math.log(RR)+1.96*SE),2) #upper value\n",
        "    lower_CI = round(np.exp(math.log(RR)-1.96*SE),2) #lower value\n",
        "\n",
        "    # Append values in the list\n",
        "    list_rr.append(RR)\n",
        "    list_up_ci.append(upper_CI)\n",
        "    list_lr_ci.append(lower_CI)\n",
        "\n",
        "  #Create table\n",
        "  table = pd.DataFrame()\n",
        "  table['Group'] = df_names\n",
        "  table['Rate ratio (RR)'] = list_rr\n",
        "  table['Upper CI'] = list_up_ci\n",
        "  table['Lower CI'] = list_lr_ci\n",
        "\n",
        "  return table"
      ],
      "execution_count": null,
      "outputs": []
    },
    {
      "cell_type": "markdown",
      "metadata": {
        "id": "_K61BRiyzgaf"
      },
      "source": [
        "##**Temperature**"
      ]
    },
    {
      "cell_type": "markdown",
      "metadata": {
        "id": "Id9OTAvHA-ta"
      },
      "source": [
        "###**Extreme thermal range**"
      ]
    },
    {
      "cell_type": "markdown",
      "metadata": {
        "id": "b6fIkdp_BTA9"
      },
      "source": [
        "####**Sex**"
      ]
    },
    {
      "cell_type": "code",
      "metadata": {
        "colab": {
          "base_uri": "https://localhost:8080/",
          "height": 142
        },
        "id": "ErkD46ZNziah",
        "outputId": "d7fc24ce-acef-4e5b-b194-98b22543798e"
      },
      "source": [
        "rate_ratio(df_temp, 'sex','above_pct_range')"
      ],
      "execution_count": null,
      "outputs": [
        {
          "output_type": "execute_result",
          "data": {
            "text/html": [
              "<div>\n",
              "<style scoped>\n",
              "    .dataframe tbody tr th:only-of-type {\n",
              "        vertical-align: middle;\n",
              "    }\n",
              "\n",
              "    .dataframe tbody tr th {\n",
              "        vertical-align: top;\n",
              "    }\n",
              "\n",
              "    .dataframe thead th {\n",
              "        text-align: right;\n",
              "    }\n",
              "</style>\n",
              "<table border=\"1\" class=\"dataframe\">\n",
              "  <thead>\n",
              "    <tr style=\"text-align: right;\">\n",
              "      <th></th>\n",
              "      <th>Group</th>\n",
              "      <th>Rate ratio (RR)</th>\n",
              "      <th>Upper CI</th>\n",
              "      <th>Lower CI</th>\n",
              "    </tr>\n",
              "  </thead>\n",
              "  <tbody>\n",
              "    <tr>\n",
              "      <th>0</th>\n",
              "      <td>All</td>\n",
              "      <td>0.96</td>\n",
              "      <td>1.03</td>\n",
              "      <td>0.89</td>\n",
              "    </tr>\n",
              "    <tr>\n",
              "      <th>1</th>\n",
              "      <td>Women</td>\n",
              "      <td>0.99</td>\n",
              "      <td>1.10</td>\n",
              "      <td>0.89</td>\n",
              "    </tr>\n",
              "    <tr>\n",
              "      <th>2</th>\n",
              "      <td>Men</td>\n",
              "      <td>0.96</td>\n",
              "      <td>1.06</td>\n",
              "      <td>0.87</td>\n",
              "    </tr>\n",
              "  </tbody>\n",
              "</table>\n",
              "</div>"
            ],
            "text/plain": [
              "   Group  Rate ratio (RR)  Upper CI  Lower CI\n",
              "0    All             0.96      1.03      0.89\n",
              "1  Women             0.99      1.10      0.89\n",
              "2    Men             0.96      1.06      0.87"
            ]
          },
          "metadata": {
            "tags": []
          },
          "execution_count": 18
        }
      ]
    },
    {
      "cell_type": "markdown",
      "metadata": {
        "id": "Y5AzUFoqBeFv"
      },
      "source": [
        "####**Age**"
      ]
    },
    {
      "cell_type": "code",
      "metadata": {
        "colab": {
          "base_uri": "https://localhost:8080/",
          "height": 204
        },
        "id": "fAbQQDjOBfcf",
        "outputId": "ec63a20d-97ae-4318-feff-35c131c5f486"
      },
      "source": [
        "rate_ratio(df_temp, 'age','above_pct_range')"
      ],
      "execution_count": null,
      "outputs": [
        {
          "output_type": "execute_result",
          "data": {
            "text/html": [
              "<div>\n",
              "<style scoped>\n",
              "    .dataframe tbody tr th:only-of-type {\n",
              "        vertical-align: middle;\n",
              "    }\n",
              "\n",
              "    .dataframe tbody tr th {\n",
              "        vertical-align: top;\n",
              "    }\n",
              "\n",
              "    .dataframe thead th {\n",
              "        text-align: right;\n",
              "    }\n",
              "</style>\n",
              "<table border=\"1\" class=\"dataframe\">\n",
              "  <thead>\n",
              "    <tr style=\"text-align: right;\">\n",
              "      <th></th>\n",
              "      <th>Group</th>\n",
              "      <th>Rate ratio (RR)</th>\n",
              "      <th>Upper CI</th>\n",
              "      <th>Lower CI</th>\n",
              "    </tr>\n",
              "  </thead>\n",
              "  <tbody>\n",
              "    <tr>\n",
              "      <th>0</th>\n",
              "      <td>Todas idades</td>\n",
              "      <td>0.96</td>\n",
              "      <td>1.03</td>\n",
              "      <td>0.89</td>\n",
              "    </tr>\n",
              "    <tr>\n",
              "      <th>1</th>\n",
              "      <td>Entre 20 e 40 anos</td>\n",
              "      <td>0.93</td>\n",
              "      <td>1.31</td>\n",
              "      <td>0.66</td>\n",
              "    </tr>\n",
              "    <tr>\n",
              "      <th>2</th>\n",
              "      <td>Entre 40 e 65 anos</td>\n",
              "      <td>1.04</td>\n",
              "      <td>1.16</td>\n",
              "      <td>0.93</td>\n",
              "    </tr>\n",
              "    <tr>\n",
              "      <th>3</th>\n",
              "      <td>Acima de 65 anos</td>\n",
              "      <td>0.92</td>\n",
              "      <td>1.02</td>\n",
              "      <td>0.83</td>\n",
              "    </tr>\n",
              "    <tr>\n",
              "      <th>4</th>\n",
              "      <td>Acima de 75 anos</td>\n",
              "      <td>1.01</td>\n",
              "      <td>1.17</td>\n",
              "      <td>0.87</td>\n",
              "    </tr>\n",
              "  </tbody>\n",
              "</table>\n",
              "</div>"
            ],
            "text/plain": [
              "                Group  Rate ratio (RR)  Upper CI  Lower CI\n",
              "0        Todas idades             0.96      1.03      0.89\n",
              "1  Entre 20 e 40 anos             0.93      1.31      0.66\n",
              "2  Entre 40 e 65 anos             1.04      1.16      0.93\n",
              "3    Acima de 65 anos             0.92      1.02      0.83\n",
              "4    Acima de 75 anos             1.01      1.17      0.87"
            ]
          },
          "metadata": {
            "tags": []
          },
          "execution_count": 19
        }
      ]
    },
    {
      "cell_type": "markdown",
      "metadata": {
        "id": "3SKd-xfzBhqs"
      },
      "source": [
        "####**Age and sex**"
      ]
    },
    {
      "cell_type": "code",
      "metadata": {
        "colab": {
          "base_uri": "https://localhost:8080/",
          "height": 204
        },
        "id": "-JkDz40hBjRj",
        "outputId": "def3d782-ce51-47db-8b81-d26a9f1b0485"
      },
      "source": [
        "rate_ratio(df_temp, 'age and sex','above_pct_range')"
      ],
      "execution_count": null,
      "outputs": [
        {
          "output_type": "execute_result",
          "data": {
            "text/html": [
              "<div>\n",
              "<style scoped>\n",
              "    .dataframe tbody tr th:only-of-type {\n",
              "        vertical-align: middle;\n",
              "    }\n",
              "\n",
              "    .dataframe tbody tr th {\n",
              "        vertical-align: top;\n",
              "    }\n",
              "\n",
              "    .dataframe thead th {\n",
              "        text-align: right;\n",
              "    }\n",
              "</style>\n",
              "<table border=\"1\" class=\"dataframe\">\n",
              "  <thead>\n",
              "    <tr style=\"text-align: right;\">\n",
              "      <th></th>\n",
              "      <th>Group</th>\n",
              "      <th>Rate ratio (RR)</th>\n",
              "      <th>Upper CI</th>\n",
              "      <th>Lower CI</th>\n",
              "    </tr>\n",
              "  </thead>\n",
              "  <tbody>\n",
              "    <tr>\n",
              "      <th>0</th>\n",
              "      <td>Todas idades</td>\n",
              "      <td>0.96</td>\n",
              "      <td>1.03</td>\n",
              "      <td>0.89</td>\n",
              "    </tr>\n",
              "    <tr>\n",
              "      <th>1</th>\n",
              "      <td>Mulheres entre 20 e 65 anos</td>\n",
              "      <td>1.05</td>\n",
              "      <td>1.23</td>\n",
              "      <td>0.89</td>\n",
              "    </tr>\n",
              "    <tr>\n",
              "      <th>2</th>\n",
              "      <td>Homens entre 20 e 65 anos</td>\n",
              "      <td>1.04</td>\n",
              "      <td>1.19</td>\n",
              "      <td>0.91</td>\n",
              "    </tr>\n",
              "    <tr>\n",
              "      <th>3</th>\n",
              "      <td>Mulheres acima de 65 anos</td>\n",
              "      <td>0.96</td>\n",
              "      <td>1.11</td>\n",
              "      <td>0.83</td>\n",
              "    </tr>\n",
              "    <tr>\n",
              "      <th>4</th>\n",
              "      <td>Homens acima de 65 anos</td>\n",
              "      <td>0.93</td>\n",
              "      <td>1.08</td>\n",
              "      <td>0.80</td>\n",
              "    </tr>\n",
              "  </tbody>\n",
              "</table>\n",
              "</div>"
            ],
            "text/plain": [
              "                         Group  Rate ratio (RR)  Upper CI  Lower CI\n",
              "0                 Todas idades             0.96      1.03      0.89\n",
              "1  Mulheres entre 20 e 65 anos             1.05      1.23      0.89\n",
              "2    Homens entre 20 e 65 anos             1.04      1.19      0.91\n",
              "3    Mulheres acima de 65 anos             0.96      1.11      0.83\n",
              "4      Homens acima de 65 anos             0.93      1.08      0.80"
            ]
          },
          "metadata": {
            "tags": []
          },
          "execution_count": 20
        }
      ]
    },
    {
      "cell_type": "markdown",
      "metadata": {
        "id": "Kse4BoEtBwg2"
      },
      "source": [
        "###**Extreme temperature difference between days**"
      ]
    },
    {
      "cell_type": "markdown",
      "metadata": {
        "id": "WAxCpydHBwg2"
      },
      "source": [
        "####**Sex**"
      ]
    },
    {
      "cell_type": "code",
      "metadata": {
        "colab": {
          "base_uri": "https://localhost:8080/",
          "height": 142
        },
        "id": "tvt-xM7uBwg3",
        "outputId": "9de1329e-df7b-44bf-a2d5-64bbbf88d51c"
      },
      "source": [
        "rate_ratio(df_temp, 'sex','above_pct_dif')"
      ],
      "execution_count": null,
      "outputs": [
        {
          "output_type": "execute_result",
          "data": {
            "text/html": [
              "<div>\n",
              "<style scoped>\n",
              "    .dataframe tbody tr th:only-of-type {\n",
              "        vertical-align: middle;\n",
              "    }\n",
              "\n",
              "    .dataframe tbody tr th {\n",
              "        vertical-align: top;\n",
              "    }\n",
              "\n",
              "    .dataframe thead th {\n",
              "        text-align: right;\n",
              "    }\n",
              "</style>\n",
              "<table border=\"1\" class=\"dataframe\">\n",
              "  <thead>\n",
              "    <tr style=\"text-align: right;\">\n",
              "      <th></th>\n",
              "      <th>Group</th>\n",
              "      <th>Rate ratio (RR)</th>\n",
              "      <th>Upper CI</th>\n",
              "      <th>Lower CI</th>\n",
              "    </tr>\n",
              "  </thead>\n",
              "  <tbody>\n",
              "    <tr>\n",
              "      <th>0</th>\n",
              "      <td>All</td>\n",
              "      <td>1.16</td>\n",
              "      <td>1.35</td>\n",
              "      <td>1.00</td>\n",
              "    </tr>\n",
              "    <tr>\n",
              "      <th>1</th>\n",
              "      <td>Women</td>\n",
              "      <td>1.19</td>\n",
              "      <td>1.48</td>\n",
              "      <td>0.96</td>\n",
              "    </tr>\n",
              "    <tr>\n",
              "      <th>2</th>\n",
              "      <td>Men</td>\n",
              "      <td>1.04</td>\n",
              "      <td>1.28</td>\n",
              "      <td>0.84</td>\n",
              "    </tr>\n",
              "  </tbody>\n",
              "</table>\n",
              "</div>"
            ],
            "text/plain": [
              "   Group  Rate ratio (RR)  Upper CI  Lower CI\n",
              "0    All             1.16      1.35      1.00\n",
              "1  Women             1.19      1.48      0.96\n",
              "2    Men             1.04      1.28      0.84"
            ]
          },
          "metadata": {
            "tags": []
          },
          "execution_count": 21
        }
      ]
    },
    {
      "cell_type": "markdown",
      "metadata": {
        "id": "C9LetOOuBwg3"
      },
      "source": [
        "####**Age**"
      ]
    },
    {
      "cell_type": "code",
      "metadata": {
        "colab": {
          "base_uri": "https://localhost:8080/",
          "height": 204
        },
        "id": "R75Teg3TBwg3",
        "outputId": "471d2f38-cf39-47fd-8ac9-b4821299fe18"
      },
      "source": [
        "rate_ratio(df_temp, 'age','above_pct_dif')"
      ],
      "execution_count": null,
      "outputs": [
        {
          "output_type": "execute_result",
          "data": {
            "text/html": [
              "<div>\n",
              "<style scoped>\n",
              "    .dataframe tbody tr th:only-of-type {\n",
              "        vertical-align: middle;\n",
              "    }\n",
              "\n",
              "    .dataframe tbody tr th {\n",
              "        vertical-align: top;\n",
              "    }\n",
              "\n",
              "    .dataframe thead th {\n",
              "        text-align: right;\n",
              "    }\n",
              "</style>\n",
              "<table border=\"1\" class=\"dataframe\">\n",
              "  <thead>\n",
              "    <tr style=\"text-align: right;\">\n",
              "      <th></th>\n",
              "      <th>Group</th>\n",
              "      <th>Rate ratio (RR)</th>\n",
              "      <th>Upper CI</th>\n",
              "      <th>Lower CI</th>\n",
              "    </tr>\n",
              "  </thead>\n",
              "  <tbody>\n",
              "    <tr>\n",
              "      <th>0</th>\n",
              "      <td>Todas idades</td>\n",
              "      <td>1.16</td>\n",
              "      <td>1.35</td>\n",
              "      <td>1.00</td>\n",
              "    </tr>\n",
              "    <tr>\n",
              "      <th>1</th>\n",
              "      <td>Entre 20 e 40 anos</td>\n",
              "      <td>0.93</td>\n",
              "      <td>1.80</td>\n",
              "      <td>0.48</td>\n",
              "    </tr>\n",
              "    <tr>\n",
              "      <th>2</th>\n",
              "      <td>Entre 40 e 65 anos</td>\n",
              "      <td>1.10</td>\n",
              "      <td>1.38</td>\n",
              "      <td>0.88</td>\n",
              "    </tr>\n",
              "    <tr>\n",
              "      <th>3</th>\n",
              "      <td>Acima de 65 anos</td>\n",
              "      <td>1.09</td>\n",
              "      <td>1.35</td>\n",
              "      <td>0.88</td>\n",
              "    </tr>\n",
              "    <tr>\n",
              "      <th>4</th>\n",
              "      <td>Acima de 75 anos</td>\n",
              "      <td>1.10</td>\n",
              "      <td>1.50</td>\n",
              "      <td>0.81</td>\n",
              "    </tr>\n",
              "  </tbody>\n",
              "</table>\n",
              "</div>"
            ],
            "text/plain": [
              "                Group  Rate ratio (RR)  Upper CI  Lower CI\n",
              "0        Todas idades             1.16      1.35      1.00\n",
              "1  Entre 20 e 40 anos             0.93      1.80      0.48\n",
              "2  Entre 40 e 65 anos             1.10      1.38      0.88\n",
              "3    Acima de 65 anos             1.09      1.35      0.88\n",
              "4    Acima de 75 anos             1.10      1.50      0.81"
            ]
          },
          "metadata": {
            "tags": []
          },
          "execution_count": 22
        }
      ]
    },
    {
      "cell_type": "markdown",
      "metadata": {
        "id": "5fJY5NneBwg4"
      },
      "source": [
        "####**Age and sex**"
      ]
    },
    {
      "cell_type": "code",
      "metadata": {
        "colab": {
          "base_uri": "https://localhost:8080/",
          "height": 204
        },
        "id": "7hWLM2ajBwg4",
        "outputId": "621387a4-ca30-45f2-8419-6d4382709138"
      },
      "source": [
        "rate_ratio(df_temp, 'age and sex','above_pct_dif')"
      ],
      "execution_count": null,
      "outputs": [
        {
          "output_type": "execute_result",
          "data": {
            "text/html": [
              "<div>\n",
              "<style scoped>\n",
              "    .dataframe tbody tr th:only-of-type {\n",
              "        vertical-align: middle;\n",
              "    }\n",
              "\n",
              "    .dataframe tbody tr th {\n",
              "        vertical-align: top;\n",
              "    }\n",
              "\n",
              "    .dataframe thead th {\n",
              "        text-align: right;\n",
              "    }\n",
              "</style>\n",
              "<table border=\"1\" class=\"dataframe\">\n",
              "  <thead>\n",
              "    <tr style=\"text-align: right;\">\n",
              "      <th></th>\n",
              "      <th>Group</th>\n",
              "      <th>Rate ratio (RR)</th>\n",
              "      <th>Upper CI</th>\n",
              "      <th>Lower CI</th>\n",
              "    </tr>\n",
              "  </thead>\n",
              "  <tbody>\n",
              "    <tr>\n",
              "      <th>0</th>\n",
              "      <td>Todas idades</td>\n",
              "      <td>1.16</td>\n",
              "      <td>1.35</td>\n",
              "      <td>1.00</td>\n",
              "    </tr>\n",
              "    <tr>\n",
              "      <th>1</th>\n",
              "      <td>Mulheres entre 20 e 65 anos</td>\n",
              "      <td>1.01</td>\n",
              "      <td>1.42</td>\n",
              "      <td>0.72</td>\n",
              "    </tr>\n",
              "    <tr>\n",
              "      <th>2</th>\n",
              "      <td>Homens entre 20 e 65 anos</td>\n",
              "      <td>1.06</td>\n",
              "      <td>1.40</td>\n",
              "      <td>0.80</td>\n",
              "    </tr>\n",
              "    <tr>\n",
              "      <th>3</th>\n",
              "      <td>Mulheres acima de 65 anos</td>\n",
              "      <td>1.14</td>\n",
              "      <td>1.51</td>\n",
              "      <td>0.86</td>\n",
              "    </tr>\n",
              "    <tr>\n",
              "      <th>4</th>\n",
              "      <td>Homens acima de 65 anos</td>\n",
              "      <td>0.92</td>\n",
              "      <td>1.27</td>\n",
              "      <td>0.67</td>\n",
              "    </tr>\n",
              "  </tbody>\n",
              "</table>\n",
              "</div>"
            ],
            "text/plain": [
              "                         Group  Rate ratio (RR)  Upper CI  Lower CI\n",
              "0                 Todas idades             1.16      1.35      1.00\n",
              "1  Mulheres entre 20 e 65 anos             1.01      1.42      0.72\n",
              "2    Homens entre 20 e 65 anos             1.06      1.40      0.80\n",
              "3    Mulheres acima de 65 anos             1.14      1.51      0.86\n",
              "4      Homens acima de 65 anos             0.92      1.27      0.67"
            ]
          },
          "metadata": {
            "tags": []
          },
          "execution_count": 23
        }
      ]
    },
    {
      "cell_type": "markdown",
      "metadata": {
        "id": "fcFuFl3YCLhz"
      },
      "source": [
        "##**Pressure**"
      ]
    },
    {
      "cell_type": "markdown",
      "metadata": {
        "id": "MVywHn4oCLiB"
      },
      "source": [
        "###**Low pressure waves**"
      ]
    },
    {
      "cell_type": "markdown",
      "metadata": {
        "id": "BGil698qCLiC"
      },
      "source": [
        "####**Sex**"
      ]
    },
    {
      "cell_type": "code",
      "metadata": {
        "colab": {
          "base_uri": "https://localhost:8080/",
          "height": 142
        },
        "id": "NV3y7QVSCLiC",
        "outputId": "aca2e25b-ee16-462a-908c-99aae61d7da0"
      },
      "source": [
        "rate_ratio(df_pressure, 'sex','LPW')"
      ],
      "execution_count": null,
      "outputs": [
        {
          "output_type": "execute_result",
          "data": {
            "text/html": [
              "<div>\n",
              "<style scoped>\n",
              "    .dataframe tbody tr th:only-of-type {\n",
              "        vertical-align: middle;\n",
              "    }\n",
              "\n",
              "    .dataframe tbody tr th {\n",
              "        vertical-align: top;\n",
              "    }\n",
              "\n",
              "    .dataframe thead th {\n",
              "        text-align: right;\n",
              "    }\n",
              "</style>\n",
              "<table border=\"1\" class=\"dataframe\">\n",
              "  <thead>\n",
              "    <tr style=\"text-align: right;\">\n",
              "      <th></th>\n",
              "      <th>Group</th>\n",
              "      <th>Rate ratio (RR)</th>\n",
              "      <th>Upper CI</th>\n",
              "      <th>Lower CI</th>\n",
              "    </tr>\n",
              "  </thead>\n",
              "  <tbody>\n",
              "    <tr>\n",
              "      <th>0</th>\n",
              "      <td>All</td>\n",
              "      <td>1.09</td>\n",
              "      <td>1.22</td>\n",
              "      <td>0.98</td>\n",
              "    </tr>\n",
              "    <tr>\n",
              "      <th>1</th>\n",
              "      <td>Women</td>\n",
              "      <td>0.99</td>\n",
              "      <td>1.17</td>\n",
              "      <td>0.84</td>\n",
              "    </tr>\n",
              "    <tr>\n",
              "      <th>2</th>\n",
              "      <td>Men</td>\n",
              "      <td>1.17</td>\n",
              "      <td>1.35</td>\n",
              "      <td>1.01</td>\n",
              "    </tr>\n",
              "  </tbody>\n",
              "</table>\n",
              "</div>"
            ],
            "text/plain": [
              "   Group  Rate ratio (RR)  Upper CI  Lower CI\n",
              "0    All             1.09      1.22      0.98\n",
              "1  Women             0.99      1.17      0.84\n",
              "2    Men             1.17      1.35      1.01"
            ]
          },
          "metadata": {
            "tags": []
          },
          "execution_count": 25
        }
      ]
    },
    {
      "cell_type": "markdown",
      "metadata": {
        "id": "RKuZ4_X1CLiF"
      },
      "source": [
        "####**Age**"
      ]
    },
    {
      "cell_type": "code",
      "metadata": {
        "colab": {
          "base_uri": "https://localhost:8080/",
          "height": 204
        },
        "id": "b25T5tuHCLiG",
        "outputId": "7d4c1000-4ce4-4f85-dda6-c2df2b9050d2"
      },
      "source": [
        "rate_ratio(df_pressure, 'age','LPW')"
      ],
      "execution_count": null,
      "outputs": [
        {
          "output_type": "execute_result",
          "data": {
            "text/html": [
              "<div>\n",
              "<style scoped>\n",
              "    .dataframe tbody tr th:only-of-type {\n",
              "        vertical-align: middle;\n",
              "    }\n",
              "\n",
              "    .dataframe tbody tr th {\n",
              "        vertical-align: top;\n",
              "    }\n",
              "\n",
              "    .dataframe thead th {\n",
              "        text-align: right;\n",
              "    }\n",
              "</style>\n",
              "<table border=\"1\" class=\"dataframe\">\n",
              "  <thead>\n",
              "    <tr style=\"text-align: right;\">\n",
              "      <th></th>\n",
              "      <th>Group</th>\n",
              "      <th>Rate ratio (RR)</th>\n",
              "      <th>Upper CI</th>\n",
              "      <th>Lower CI</th>\n",
              "    </tr>\n",
              "  </thead>\n",
              "  <tbody>\n",
              "    <tr>\n",
              "      <th>0</th>\n",
              "      <td>Todas idades</td>\n",
              "      <td>1.09</td>\n",
              "      <td>1.22</td>\n",
              "      <td>0.98</td>\n",
              "    </tr>\n",
              "    <tr>\n",
              "      <th>1</th>\n",
              "      <td>Entre 20 e 40 anos</td>\n",
              "      <td>1.00</td>\n",
              "      <td>1.62</td>\n",
              "      <td>0.62</td>\n",
              "    </tr>\n",
              "    <tr>\n",
              "      <th>2</th>\n",
              "      <td>Entre 40 e 65 anos</td>\n",
              "      <td>0.96</td>\n",
              "      <td>1.14</td>\n",
              "      <td>0.81</td>\n",
              "    </tr>\n",
              "    <tr>\n",
              "      <th>3</th>\n",
              "      <td>Acima de 65 anos</td>\n",
              "      <td>1.17</td>\n",
              "      <td>1.36</td>\n",
              "      <td>1.01</td>\n",
              "    </tr>\n",
              "    <tr>\n",
              "      <th>4</th>\n",
              "      <td>Acima de 75 anos</td>\n",
              "      <td>1.19</td>\n",
              "      <td>1.47</td>\n",
              "      <td>0.96</td>\n",
              "    </tr>\n",
              "  </tbody>\n",
              "</table>\n",
              "</div>"
            ],
            "text/plain": [
              "                Group  Rate ratio (RR)  Upper CI  Lower CI\n",
              "0        Todas idades             1.09      1.22      0.98\n",
              "1  Entre 20 e 40 anos             1.00      1.62      0.62\n",
              "2  Entre 40 e 65 anos             0.96      1.14      0.81\n",
              "3    Acima de 65 anos             1.17      1.36      1.01\n",
              "4    Acima de 75 anos             1.19      1.47      0.96"
            ]
          },
          "metadata": {
            "tags": []
          },
          "execution_count": 26
        }
      ]
    },
    {
      "cell_type": "markdown",
      "metadata": {
        "id": "bup2DJfFCLiH"
      },
      "source": [
        "####**Age and sex**"
      ]
    },
    {
      "cell_type": "code",
      "metadata": {
        "colab": {
          "base_uri": "https://localhost:8080/",
          "height": 204
        },
        "id": "HW6d5ZBLCLiI",
        "outputId": "f9c02dae-31ea-4648-a6e8-284394e5d854"
      },
      "source": [
        "rate_ratio(df_pressure, 'age and sex','LPW')"
      ],
      "execution_count": null,
      "outputs": [
        {
          "output_type": "execute_result",
          "data": {
            "text/html": [
              "<div>\n",
              "<style scoped>\n",
              "    .dataframe tbody tr th:only-of-type {\n",
              "        vertical-align: middle;\n",
              "    }\n",
              "\n",
              "    .dataframe tbody tr th {\n",
              "        vertical-align: top;\n",
              "    }\n",
              "\n",
              "    .dataframe thead th {\n",
              "        text-align: right;\n",
              "    }\n",
              "</style>\n",
              "<table border=\"1\" class=\"dataframe\">\n",
              "  <thead>\n",
              "    <tr style=\"text-align: right;\">\n",
              "      <th></th>\n",
              "      <th>Group</th>\n",
              "      <th>Rate ratio (RR)</th>\n",
              "      <th>Upper CI</th>\n",
              "      <th>Lower CI</th>\n",
              "    </tr>\n",
              "  </thead>\n",
              "  <tbody>\n",
              "    <tr>\n",
              "      <th>0</th>\n",
              "      <td>Todas idades</td>\n",
              "      <td>1.09</td>\n",
              "      <td>1.22</td>\n",
              "      <td>0.98</td>\n",
              "    </tr>\n",
              "    <tr>\n",
              "      <th>1</th>\n",
              "      <td>Mulheres entre 20 e 65 anos</td>\n",
              "      <td>0.76</td>\n",
              "      <td>1.02</td>\n",
              "      <td>0.56</td>\n",
              "    </tr>\n",
              "    <tr>\n",
              "      <th>2</th>\n",
              "      <td>Homens entre 20 e 65 anos</td>\n",
              "      <td>1.12</td>\n",
              "      <td>1.36</td>\n",
              "      <td>0.92</td>\n",
              "    </tr>\n",
              "    <tr>\n",
              "      <th>3</th>\n",
              "      <td>Mulheres acima de 65 anos</td>\n",
              "      <td>1.25</td>\n",
              "      <td>1.53</td>\n",
              "      <td>1.02</td>\n",
              "    </tr>\n",
              "    <tr>\n",
              "      <th>4</th>\n",
              "      <td>Homens acima de 65 anos</td>\n",
              "      <td>1.01</td>\n",
              "      <td>1.26</td>\n",
              "      <td>0.81</td>\n",
              "    </tr>\n",
              "  </tbody>\n",
              "</table>\n",
              "</div>"
            ],
            "text/plain": [
              "                         Group  Rate ratio (RR)  Upper CI  Lower CI\n",
              "0                 Todas idades             1.09      1.22      0.98\n",
              "1  Mulheres entre 20 e 65 anos             0.76      1.02      0.56\n",
              "2    Homens entre 20 e 65 anos             1.12      1.36      0.92\n",
              "3    Mulheres acima de 65 anos             1.25      1.53      1.02\n",
              "4      Homens acima de 65 anos             1.01      1.26      0.81"
            ]
          },
          "metadata": {
            "tags": []
          },
          "execution_count": 27
        }
      ]
    },
    {
      "cell_type": "markdown",
      "metadata": {
        "id": "GuKsXrf8Cd7i"
      },
      "source": [
        "###**High pressure waves**"
      ]
    },
    {
      "cell_type": "markdown",
      "metadata": {
        "id": "O8G0yiTlCd7p"
      },
      "source": [
        "####**Sex**"
      ]
    },
    {
      "cell_type": "code",
      "metadata": {
        "colab": {
          "base_uri": "https://localhost:8080/",
          "height": 142
        },
        "id": "CtKRSF8mCd7q",
        "outputId": "e6cd7706-4200-4141-8fe9-f6001ae63cee"
      },
      "source": [
        "rate_ratio(df_pressure, 'sex','HPW')"
      ],
      "execution_count": null,
      "outputs": [
        {
          "output_type": "execute_result",
          "data": {
            "text/html": [
              "<div>\n",
              "<style scoped>\n",
              "    .dataframe tbody tr th:only-of-type {\n",
              "        vertical-align: middle;\n",
              "    }\n",
              "\n",
              "    .dataframe tbody tr th {\n",
              "        vertical-align: top;\n",
              "    }\n",
              "\n",
              "    .dataframe thead th {\n",
              "        text-align: right;\n",
              "    }\n",
              "</style>\n",
              "<table border=\"1\" class=\"dataframe\">\n",
              "  <thead>\n",
              "    <tr style=\"text-align: right;\">\n",
              "      <th></th>\n",
              "      <th>Group</th>\n",
              "      <th>Rate ratio (RR)</th>\n",
              "      <th>Upper CI</th>\n",
              "      <th>Lower CI</th>\n",
              "    </tr>\n",
              "  </thead>\n",
              "  <tbody>\n",
              "    <tr>\n",
              "      <th>0</th>\n",
              "      <td>All</td>\n",
              "      <td>1.00</td>\n",
              "      <td>1.06</td>\n",
              "      <td>0.94</td>\n",
              "    </tr>\n",
              "    <tr>\n",
              "      <th>1</th>\n",
              "      <td>Women</td>\n",
              "      <td>1.04</td>\n",
              "      <td>1.13</td>\n",
              "      <td>0.95</td>\n",
              "    </tr>\n",
              "    <tr>\n",
              "      <th>2</th>\n",
              "      <td>Men</td>\n",
              "      <td>0.97</td>\n",
              "      <td>1.05</td>\n",
              "      <td>0.90</td>\n",
              "    </tr>\n",
              "  </tbody>\n",
              "</table>\n",
              "</div>"
            ],
            "text/plain": [
              "   Group  Rate ratio (RR)  Upper CI  Lower CI\n",
              "0    All             1.00      1.06      0.94\n",
              "1  Women             1.04      1.13      0.95\n",
              "2    Men             0.97      1.05      0.90"
            ]
          },
          "metadata": {
            "tags": []
          },
          "execution_count": 28
        }
      ]
    },
    {
      "cell_type": "markdown",
      "metadata": {
        "id": "IlcQYeReCd7t"
      },
      "source": [
        "####**Age**"
      ]
    },
    {
      "cell_type": "code",
      "metadata": {
        "colab": {
          "base_uri": "https://localhost:8080/",
          "height": 204
        },
        "id": "QNP4hjVkCd7t",
        "outputId": "4f637361-9df6-4395-e5ca-ab74f58fbf85"
      },
      "source": [
        "rate_ratio(df_pressure, 'age','HPW')"
      ],
      "execution_count": null,
      "outputs": [
        {
          "output_type": "execute_result",
          "data": {
            "text/html": [
              "<div>\n",
              "<style scoped>\n",
              "    .dataframe tbody tr th:only-of-type {\n",
              "        vertical-align: middle;\n",
              "    }\n",
              "\n",
              "    .dataframe tbody tr th {\n",
              "        vertical-align: top;\n",
              "    }\n",
              "\n",
              "    .dataframe thead th {\n",
              "        text-align: right;\n",
              "    }\n",
              "</style>\n",
              "<table border=\"1\" class=\"dataframe\">\n",
              "  <thead>\n",
              "    <tr style=\"text-align: right;\">\n",
              "      <th></th>\n",
              "      <th>Group</th>\n",
              "      <th>Rate ratio (RR)</th>\n",
              "      <th>Upper CI</th>\n",
              "      <th>Lower CI</th>\n",
              "    </tr>\n",
              "  </thead>\n",
              "  <tbody>\n",
              "    <tr>\n",
              "      <th>0</th>\n",
              "      <td>Todas idades</td>\n",
              "      <td>1.00</td>\n",
              "      <td>1.06</td>\n",
              "      <td>0.94</td>\n",
              "    </tr>\n",
              "    <tr>\n",
              "      <th>1</th>\n",
              "      <td>Entre 20 e 40 anos</td>\n",
              "      <td>0.94</td>\n",
              "      <td>1.24</td>\n",
              "      <td>0.71</td>\n",
              "    </tr>\n",
              "    <tr>\n",
              "      <th>2</th>\n",
              "      <td>Entre 40 e 65 anos</td>\n",
              "      <td>0.97</td>\n",
              "      <td>1.06</td>\n",
              "      <td>0.89</td>\n",
              "    </tr>\n",
              "    <tr>\n",
              "      <th>3</th>\n",
              "      <td>Acima de 65 anos</td>\n",
              "      <td>1.02</td>\n",
              "      <td>1.11</td>\n",
              "      <td>0.94</td>\n",
              "    </tr>\n",
              "    <tr>\n",
              "      <th>4</th>\n",
              "      <td>Acima de 75 anos</td>\n",
              "      <td>0.99</td>\n",
              "      <td>1.12</td>\n",
              "      <td>0.87</td>\n",
              "    </tr>\n",
              "  </tbody>\n",
              "</table>\n",
              "</div>"
            ],
            "text/plain": [
              "                Group  Rate ratio (RR)  Upper CI  Lower CI\n",
              "0        Todas idades             1.00      1.06      0.94\n",
              "1  Entre 20 e 40 anos             0.94      1.24      0.71\n",
              "2  Entre 40 e 65 anos             0.97      1.06      0.89\n",
              "3    Acima de 65 anos             1.02      1.11      0.94\n",
              "4    Acima de 75 anos             0.99      1.12      0.87"
            ]
          },
          "metadata": {
            "tags": []
          },
          "execution_count": 29
        }
      ]
    },
    {
      "cell_type": "markdown",
      "metadata": {
        "id": "OZrnOOtECd7u"
      },
      "source": [
        "####**Age and sex**"
      ]
    },
    {
      "cell_type": "code",
      "metadata": {
        "colab": {
          "base_uri": "https://localhost:8080/",
          "height": 204
        },
        "id": "XBFP7NMWCd7v",
        "outputId": "36481829-d276-4f00-8b55-c3ed2becd2b2"
      },
      "source": [
        "rate_ratio(df_pressure, 'age and sex','HPW')"
      ],
      "execution_count": null,
      "outputs": [
        {
          "output_type": "execute_result",
          "data": {
            "text/html": [
              "<div>\n",
              "<style scoped>\n",
              "    .dataframe tbody tr th:only-of-type {\n",
              "        vertical-align: middle;\n",
              "    }\n",
              "\n",
              "    .dataframe tbody tr th {\n",
              "        vertical-align: top;\n",
              "    }\n",
              "\n",
              "    .dataframe thead th {\n",
              "        text-align: right;\n",
              "    }\n",
              "</style>\n",
              "<table border=\"1\" class=\"dataframe\">\n",
              "  <thead>\n",
              "    <tr style=\"text-align: right;\">\n",
              "      <th></th>\n",
              "      <th>Group</th>\n",
              "      <th>Rate ratio (RR)</th>\n",
              "      <th>Upper CI</th>\n",
              "      <th>Lower CI</th>\n",
              "    </tr>\n",
              "  </thead>\n",
              "  <tbody>\n",
              "    <tr>\n",
              "      <th>0</th>\n",
              "      <td>Todas idades</td>\n",
              "      <td>1.00</td>\n",
              "      <td>1.06</td>\n",
              "      <td>0.94</td>\n",
              "    </tr>\n",
              "    <tr>\n",
              "      <th>1</th>\n",
              "      <td>Mulheres entre 20 e 65 anos</td>\n",
              "      <td>1.01</td>\n",
              "      <td>1.15</td>\n",
              "      <td>0.88</td>\n",
              "    </tr>\n",
              "    <tr>\n",
              "      <th>2</th>\n",
              "      <td>Homens entre 20 e 65 anos</td>\n",
              "      <td>0.92</td>\n",
              "      <td>1.03</td>\n",
              "      <td>0.82</td>\n",
              "    </tr>\n",
              "    <tr>\n",
              "      <th>3</th>\n",
              "      <td>Mulheres acima de 65 anos</td>\n",
              "      <td>0.99</td>\n",
              "      <td>1.11</td>\n",
              "      <td>0.88</td>\n",
              "    </tr>\n",
              "    <tr>\n",
              "      <th>4</th>\n",
              "      <td>Homens acima de 65 anos</td>\n",
              "      <td>1.02</td>\n",
              "      <td>1.14</td>\n",
              "      <td>0.91</td>\n",
              "    </tr>\n",
              "  </tbody>\n",
              "</table>\n",
              "</div>"
            ],
            "text/plain": [
              "                         Group  Rate ratio (RR)  Upper CI  Lower CI\n",
              "0                 Todas idades             1.00      1.06      0.94\n",
              "1  Mulheres entre 20 e 65 anos             1.01      1.15      0.88\n",
              "2    Homens entre 20 e 65 anos             0.92      1.03      0.82\n",
              "3    Mulheres acima de 65 anos             0.99      1.11      0.88\n",
              "4      Homens acima de 65 anos             1.02      1.14      0.91"
            ]
          },
          "metadata": {
            "tags": []
          },
          "execution_count": 30
        }
      ]
    },
    {
      "cell_type": "markdown",
      "metadata": {
        "id": "_wdEtq6sCnTQ"
      },
      "source": [
        "###**Extreme difference of pressure between days**"
      ]
    },
    {
      "cell_type": "markdown",
      "metadata": {
        "id": "eTXY76gZCnTQ"
      },
      "source": [
        "####**Sex**"
      ]
    },
    {
      "cell_type": "code",
      "metadata": {
        "colab": {
          "base_uri": "https://localhost:8080/",
          "height": 142
        },
        "id": "R9S7G1T9CnTQ",
        "outputId": "57b0ea68-3776-4c5c-8d2c-1c4ef81ac194"
      },
      "source": [
        "rate_ratio(df_pressure, 'sex','above_pct_dif')"
      ],
      "execution_count": null,
      "outputs": [
        {
          "output_type": "execute_result",
          "data": {
            "text/html": [
              "<div>\n",
              "<style scoped>\n",
              "    .dataframe tbody tr th:only-of-type {\n",
              "        vertical-align: middle;\n",
              "    }\n",
              "\n",
              "    .dataframe tbody tr th {\n",
              "        vertical-align: top;\n",
              "    }\n",
              "\n",
              "    .dataframe thead th {\n",
              "        text-align: right;\n",
              "    }\n",
              "</style>\n",
              "<table border=\"1\" class=\"dataframe\">\n",
              "  <thead>\n",
              "    <tr style=\"text-align: right;\">\n",
              "      <th></th>\n",
              "      <th>Group</th>\n",
              "      <th>Rate ratio (RR)</th>\n",
              "      <th>Upper CI</th>\n",
              "      <th>Lower CI</th>\n",
              "    </tr>\n",
              "  </thead>\n",
              "  <tbody>\n",
              "    <tr>\n",
              "      <th>0</th>\n",
              "      <td>All</td>\n",
              "      <td>1.05</td>\n",
              "      <td>1.11</td>\n",
              "      <td>0.99</td>\n",
              "    </tr>\n",
              "    <tr>\n",
              "      <th>1</th>\n",
              "      <td>Women</td>\n",
              "      <td>0.98</td>\n",
              "      <td>1.07</td>\n",
              "      <td>0.90</td>\n",
              "    </tr>\n",
              "    <tr>\n",
              "      <th>2</th>\n",
              "      <td>Men</td>\n",
              "      <td>1.08</td>\n",
              "      <td>1.17</td>\n",
              "      <td>1.00</td>\n",
              "    </tr>\n",
              "  </tbody>\n",
              "</table>\n",
              "</div>"
            ],
            "text/plain": [
              "   Group  Rate ratio (RR)  Upper CI  Lower CI\n",
              "0    All             1.05      1.11      0.99\n",
              "1  Women             0.98      1.07      0.90\n",
              "2    Men             1.08      1.17      1.00"
            ]
          },
          "metadata": {
            "tags": []
          },
          "execution_count": 31
        }
      ]
    },
    {
      "cell_type": "markdown",
      "metadata": {
        "id": "GsyJadP5CnTS"
      },
      "source": [
        "####**Age**"
      ]
    },
    {
      "cell_type": "code",
      "metadata": {
        "colab": {
          "base_uri": "https://localhost:8080/",
          "height": 204
        },
        "id": "ZFSwDuZeCnTT",
        "outputId": "e5851e31-51ff-4a39-a975-f3e75c348b6c"
      },
      "source": [
        "rate_ratio(df_pressure, 'age','above_pct_dif')"
      ],
      "execution_count": null,
      "outputs": [
        {
          "output_type": "execute_result",
          "data": {
            "text/html": [
              "<div>\n",
              "<style scoped>\n",
              "    .dataframe tbody tr th:only-of-type {\n",
              "        vertical-align: middle;\n",
              "    }\n",
              "\n",
              "    .dataframe tbody tr th {\n",
              "        vertical-align: top;\n",
              "    }\n",
              "\n",
              "    .dataframe thead th {\n",
              "        text-align: right;\n",
              "    }\n",
              "</style>\n",
              "<table border=\"1\" class=\"dataframe\">\n",
              "  <thead>\n",
              "    <tr style=\"text-align: right;\">\n",
              "      <th></th>\n",
              "      <th>Group</th>\n",
              "      <th>Rate ratio (RR)</th>\n",
              "      <th>Upper CI</th>\n",
              "      <th>Lower CI</th>\n",
              "    </tr>\n",
              "  </thead>\n",
              "  <tbody>\n",
              "    <tr>\n",
              "      <th>0</th>\n",
              "      <td>Todas idades</td>\n",
              "      <td>1.05</td>\n",
              "      <td>1.11</td>\n",
              "      <td>0.99</td>\n",
              "    </tr>\n",
              "    <tr>\n",
              "      <th>1</th>\n",
              "      <td>Entre 20 e 40 anos</td>\n",
              "      <td>1.02</td>\n",
              "      <td>1.32</td>\n",
              "      <td>0.79</td>\n",
              "    </tr>\n",
              "    <tr>\n",
              "      <th>2</th>\n",
              "      <td>Entre 40 e 65 anos</td>\n",
              "      <td>1.02</td>\n",
              "      <td>1.11</td>\n",
              "      <td>0.93</td>\n",
              "    </tr>\n",
              "    <tr>\n",
              "      <th>3</th>\n",
              "      <td>Acima de 65 anos</td>\n",
              "      <td>1.02</td>\n",
              "      <td>1.11</td>\n",
              "      <td>0.94</td>\n",
              "    </tr>\n",
              "    <tr>\n",
              "      <th>4</th>\n",
              "      <td>Acima de 75 anos</td>\n",
              "      <td>1.03</td>\n",
              "      <td>1.16</td>\n",
              "      <td>0.91</td>\n",
              "    </tr>\n",
              "  </tbody>\n",
              "</table>\n",
              "</div>"
            ],
            "text/plain": [
              "                Group  Rate ratio (RR)  Upper CI  Lower CI\n",
              "0        Todas idades             1.05      1.11      0.99\n",
              "1  Entre 20 e 40 anos             1.02      1.32      0.79\n",
              "2  Entre 40 e 65 anos             1.02      1.11      0.93\n",
              "3    Acima de 65 anos             1.02      1.11      0.94\n",
              "4    Acima de 75 anos             1.03      1.16      0.91"
            ]
          },
          "metadata": {
            "tags": []
          },
          "execution_count": 32
        }
      ]
    },
    {
      "cell_type": "markdown",
      "metadata": {
        "id": "oMkzNY3KCnTT"
      },
      "source": [
        "####**Age and sex**"
      ]
    },
    {
      "cell_type": "code",
      "metadata": {
        "colab": {
          "base_uri": "https://localhost:8080/",
          "height": 204
        },
        "id": "TmaJ_RauCnTT",
        "outputId": "dabd40ea-2d73-4cf6-c0a7-71a6bd9f039c"
      },
      "source": [
        "rate_ratio(df_pressure, 'age and sex','above_pct_dif')"
      ],
      "execution_count": null,
      "outputs": [
        {
          "output_type": "execute_result",
          "data": {
            "text/html": [
              "<div>\n",
              "<style scoped>\n",
              "    .dataframe tbody tr th:only-of-type {\n",
              "        vertical-align: middle;\n",
              "    }\n",
              "\n",
              "    .dataframe tbody tr th {\n",
              "        vertical-align: top;\n",
              "    }\n",
              "\n",
              "    .dataframe thead th {\n",
              "        text-align: right;\n",
              "    }\n",
              "</style>\n",
              "<table border=\"1\" class=\"dataframe\">\n",
              "  <thead>\n",
              "    <tr style=\"text-align: right;\">\n",
              "      <th></th>\n",
              "      <th>Group</th>\n",
              "      <th>Rate ratio (RR)</th>\n",
              "      <th>Upper CI</th>\n",
              "      <th>Lower CI</th>\n",
              "    </tr>\n",
              "  </thead>\n",
              "  <tbody>\n",
              "    <tr>\n",
              "      <th>0</th>\n",
              "      <td>Todas idades</td>\n",
              "      <td>1.05</td>\n",
              "      <td>1.11</td>\n",
              "      <td>0.99</td>\n",
              "    </tr>\n",
              "    <tr>\n",
              "      <th>1</th>\n",
              "      <td>Mulheres entre 20 e 65 anos</td>\n",
              "      <td>0.95</td>\n",
              "      <td>1.08</td>\n",
              "      <td>0.83</td>\n",
              "    </tr>\n",
              "    <tr>\n",
              "      <th>2</th>\n",
              "      <td>Homens entre 20 e 65 anos</td>\n",
              "      <td>1.06</td>\n",
              "      <td>1.18</td>\n",
              "      <td>0.95</td>\n",
              "    </tr>\n",
              "    <tr>\n",
              "      <th>3</th>\n",
              "      <td>Mulheres acima de 65 anos</td>\n",
              "      <td>1.00</td>\n",
              "      <td>1.13</td>\n",
              "      <td>0.89</td>\n",
              "    </tr>\n",
              "    <tr>\n",
              "      <th>4</th>\n",
              "      <td>Homens acima de 65 anos</td>\n",
              "      <td>1.04</td>\n",
              "      <td>1.16</td>\n",
              "      <td>0.93</td>\n",
              "    </tr>\n",
              "  </tbody>\n",
              "</table>\n",
              "</div>"
            ],
            "text/plain": [
              "                         Group  Rate ratio (RR)  Upper CI  Lower CI\n",
              "0                 Todas idades             1.05      1.11      0.99\n",
              "1  Mulheres entre 20 e 65 anos             0.95      1.08      0.83\n",
              "2    Homens entre 20 e 65 anos             1.06      1.18      0.95\n",
              "3    Mulheres acima de 65 anos             1.00      1.13      0.89\n",
              "4      Homens acima de 65 anos             1.04      1.16      0.93"
            ]
          },
          "metadata": {
            "tags": []
          },
          "execution_count": 34
        }
      ]
    },
    {
      "cell_type": "markdown",
      "metadata": {
        "id": "cFlgShdDC3PW"
      },
      "source": [
        "##**Humidity**"
      ]
    },
    {
      "cell_type": "markdown",
      "metadata": {
        "id": "UNRTlDbLC5ol"
      },
      "source": [
        "###**Low humidity waves**"
      ]
    },
    {
      "cell_type": "markdown",
      "metadata": {
        "id": "A3h5g9DhC5ol"
      },
      "source": [
        "####**Sex**"
      ]
    },
    {
      "cell_type": "code",
      "metadata": {
        "colab": {
          "base_uri": "https://localhost:8080/",
          "height": 142
        },
        "id": "3rZJ5uNxC5om",
        "outputId": "a204b72b-cba4-484d-f7fe-e45efbd7d8fe"
      },
      "source": [
        "rate_ratio(df_humidity, 'sex','LHW')"
      ],
      "execution_count": null,
      "outputs": [
        {
          "output_type": "execute_result",
          "data": {
            "text/html": [
              "<div>\n",
              "<style scoped>\n",
              "    .dataframe tbody tr th:only-of-type {\n",
              "        vertical-align: middle;\n",
              "    }\n",
              "\n",
              "    .dataframe tbody tr th {\n",
              "        vertical-align: top;\n",
              "    }\n",
              "\n",
              "    .dataframe thead th {\n",
              "        text-align: right;\n",
              "    }\n",
              "</style>\n",
              "<table border=\"1\" class=\"dataframe\">\n",
              "  <thead>\n",
              "    <tr style=\"text-align: right;\">\n",
              "      <th></th>\n",
              "      <th>Group</th>\n",
              "      <th>Rate ratio (RR)</th>\n",
              "      <th>Upper CI</th>\n",
              "      <th>Lower CI</th>\n",
              "    </tr>\n",
              "  </thead>\n",
              "  <tbody>\n",
              "    <tr>\n",
              "      <th>0</th>\n",
              "      <td>All</td>\n",
              "      <td>0.9</td>\n",
              "      <td>0.97</td>\n",
              "      <td>0.84</td>\n",
              "    </tr>\n",
              "    <tr>\n",
              "      <th>1</th>\n",
              "      <td>Women</td>\n",
              "      <td>0.9</td>\n",
              "      <td>1.00</td>\n",
              "      <td>0.81</td>\n",
              "    </tr>\n",
              "    <tr>\n",
              "      <th>2</th>\n",
              "      <td>Men</td>\n",
              "      <td>0.9</td>\n",
              "      <td>0.99</td>\n",
              "      <td>0.82</td>\n",
              "    </tr>\n",
              "  </tbody>\n",
              "</table>\n",
              "</div>"
            ],
            "text/plain": [
              "   Group  Rate ratio (RR)  Upper CI  Lower CI\n",
              "0    All              0.9      0.97      0.84\n",
              "1  Women              0.9      1.00      0.81\n",
              "2    Men              0.9      0.99      0.82"
            ]
          },
          "metadata": {
            "tags": []
          },
          "execution_count": 35
        }
      ]
    },
    {
      "cell_type": "markdown",
      "metadata": {
        "id": "VnXy32ZbC5om"
      },
      "source": [
        "####**Age**"
      ]
    },
    {
      "cell_type": "code",
      "metadata": {
        "colab": {
          "base_uri": "https://localhost:8080/",
          "height": 204
        },
        "id": "RvtJ3e8OC5on",
        "outputId": "1f5ba940-9df2-4320-866e-135db0ce290c"
      },
      "source": [
        "rate_ratio(df_humidity, 'age','LHW')"
      ],
      "execution_count": null,
      "outputs": [
        {
          "output_type": "execute_result",
          "data": {
            "text/html": [
              "<div>\n",
              "<style scoped>\n",
              "    .dataframe tbody tr th:only-of-type {\n",
              "        vertical-align: middle;\n",
              "    }\n",
              "\n",
              "    .dataframe tbody tr th {\n",
              "        vertical-align: top;\n",
              "    }\n",
              "\n",
              "    .dataframe thead th {\n",
              "        text-align: right;\n",
              "    }\n",
              "</style>\n",
              "<table border=\"1\" class=\"dataframe\">\n",
              "  <thead>\n",
              "    <tr style=\"text-align: right;\">\n",
              "      <th></th>\n",
              "      <th>Group</th>\n",
              "      <th>Rate ratio (RR)</th>\n",
              "      <th>Upper CI</th>\n",
              "      <th>Lower CI</th>\n",
              "    </tr>\n",
              "  </thead>\n",
              "  <tbody>\n",
              "    <tr>\n",
              "      <th>0</th>\n",
              "      <td>Todas idades</td>\n",
              "      <td>0.90</td>\n",
              "      <td>0.97</td>\n",
              "      <td>0.84</td>\n",
              "    </tr>\n",
              "    <tr>\n",
              "      <th>1</th>\n",
              "      <td>Entre 20 e 40 anos</td>\n",
              "      <td>0.97</td>\n",
              "      <td>1.34</td>\n",
              "      <td>0.70</td>\n",
              "    </tr>\n",
              "    <tr>\n",
              "      <th>2</th>\n",
              "      <td>Entre 40 e 65 anos</td>\n",
              "      <td>0.93</td>\n",
              "      <td>1.04</td>\n",
              "      <td>0.83</td>\n",
              "    </tr>\n",
              "    <tr>\n",
              "      <th>3</th>\n",
              "      <td>Acima de 65 anos</td>\n",
              "      <td>0.91</td>\n",
              "      <td>1.00</td>\n",
              "      <td>0.82</td>\n",
              "    </tr>\n",
              "    <tr>\n",
              "      <th>4</th>\n",
              "      <td>Acima de 75 anos</td>\n",
              "      <td>1.02</td>\n",
              "      <td>1.18</td>\n",
              "      <td>0.88</td>\n",
              "    </tr>\n",
              "  </tbody>\n",
              "</table>\n",
              "</div>"
            ],
            "text/plain": [
              "                Group  Rate ratio (RR)  Upper CI  Lower CI\n",
              "0        Todas idades             0.90      0.97      0.84\n",
              "1  Entre 20 e 40 anos             0.97      1.34      0.70\n",
              "2  Entre 40 e 65 anos             0.93      1.04      0.83\n",
              "3    Acima de 65 anos             0.91      1.00      0.82\n",
              "4    Acima de 75 anos             1.02      1.18      0.88"
            ]
          },
          "metadata": {
            "tags": []
          },
          "execution_count": 36
        }
      ]
    },
    {
      "cell_type": "markdown",
      "metadata": {
        "id": "mSzu0TNhC5on"
      },
      "source": [
        "####**Age and sex**"
      ]
    },
    {
      "cell_type": "code",
      "metadata": {
        "colab": {
          "base_uri": "https://localhost:8080/",
          "height": 204
        },
        "id": "dfpk353bC5on",
        "outputId": "d1e4ce9f-ab89-41b2-ce25-f0f28e5cdd1a"
      },
      "source": [
        "rate_ratio(df_humidity, 'age and sex','LHW')"
      ],
      "execution_count": null,
      "outputs": [
        {
          "output_type": "execute_result",
          "data": {
            "text/html": [
              "<div>\n",
              "<style scoped>\n",
              "    .dataframe tbody tr th:only-of-type {\n",
              "        vertical-align: middle;\n",
              "    }\n",
              "\n",
              "    .dataframe tbody tr th {\n",
              "        vertical-align: top;\n",
              "    }\n",
              "\n",
              "    .dataframe thead th {\n",
              "        text-align: right;\n",
              "    }\n",
              "</style>\n",
              "<table border=\"1\" class=\"dataframe\">\n",
              "  <thead>\n",
              "    <tr style=\"text-align: right;\">\n",
              "      <th></th>\n",
              "      <th>Group</th>\n",
              "      <th>Rate ratio (RR)</th>\n",
              "      <th>Upper CI</th>\n",
              "      <th>Lower CI</th>\n",
              "    </tr>\n",
              "  </thead>\n",
              "  <tbody>\n",
              "    <tr>\n",
              "      <th>0</th>\n",
              "      <td>Todas idades</td>\n",
              "      <td>0.90</td>\n",
              "      <td>0.97</td>\n",
              "      <td>0.84</td>\n",
              "    </tr>\n",
              "    <tr>\n",
              "      <th>1</th>\n",
              "      <td>Mulheres entre 20 e 65 anos</td>\n",
              "      <td>0.90</td>\n",
              "      <td>1.06</td>\n",
              "      <td>0.77</td>\n",
              "    </tr>\n",
              "    <tr>\n",
              "      <th>2</th>\n",
              "      <td>Homens entre 20 e 65 anos</td>\n",
              "      <td>0.95</td>\n",
              "      <td>1.08</td>\n",
              "      <td>0.83</td>\n",
              "    </tr>\n",
              "    <tr>\n",
              "      <th>3</th>\n",
              "      <td>Mulheres acima de 65 anos</td>\n",
              "      <td>0.93</td>\n",
              "      <td>1.07</td>\n",
              "      <td>0.81</td>\n",
              "    </tr>\n",
              "    <tr>\n",
              "      <th>4</th>\n",
              "      <td>Homens acima de 65 anos</td>\n",
              "      <td>0.91</td>\n",
              "      <td>1.05</td>\n",
              "      <td>0.79</td>\n",
              "    </tr>\n",
              "  </tbody>\n",
              "</table>\n",
              "</div>"
            ],
            "text/plain": [
              "                         Group  Rate ratio (RR)  Upper CI  Lower CI\n",
              "0                 Todas idades             0.90      0.97      0.84\n",
              "1  Mulheres entre 20 e 65 anos             0.90      1.06      0.77\n",
              "2    Homens entre 20 e 65 anos             0.95      1.08      0.83\n",
              "3    Mulheres acima de 65 anos             0.93      1.07      0.81\n",
              "4      Homens acima de 65 anos             0.91      1.05      0.79"
            ]
          },
          "metadata": {
            "tags": []
          },
          "execution_count": 37
        }
      ]
    },
    {
      "cell_type": "markdown",
      "metadata": {
        "id": "fRGUUXTGDF9Z"
      },
      "source": [
        "###**High humidity waves**"
      ]
    },
    {
      "cell_type": "markdown",
      "metadata": {
        "id": "yYxyGcBwDF9a"
      },
      "source": [
        "####**Sex**"
      ]
    },
    {
      "cell_type": "code",
      "metadata": {
        "colab": {
          "base_uri": "https://localhost:8080/",
          "height": 142
        },
        "id": "oMrCU4H7DF9b",
        "outputId": "320e34a1-f34d-4373-bb72-7a1f012b144d"
      },
      "source": [
        "rate_ratio(df_humidity, 'sex','HHW')"
      ],
      "execution_count": null,
      "outputs": [
        {
          "output_type": "execute_result",
          "data": {
            "text/html": [
              "<div>\n",
              "<style scoped>\n",
              "    .dataframe tbody tr th:only-of-type {\n",
              "        vertical-align: middle;\n",
              "    }\n",
              "\n",
              "    .dataframe tbody tr th {\n",
              "        vertical-align: top;\n",
              "    }\n",
              "\n",
              "    .dataframe thead th {\n",
              "        text-align: right;\n",
              "    }\n",
              "</style>\n",
              "<table border=\"1\" class=\"dataframe\">\n",
              "  <thead>\n",
              "    <tr style=\"text-align: right;\">\n",
              "      <th></th>\n",
              "      <th>Group</th>\n",
              "      <th>Rate ratio (RR)</th>\n",
              "      <th>Upper CI</th>\n",
              "      <th>Lower CI</th>\n",
              "    </tr>\n",
              "  </thead>\n",
              "  <tbody>\n",
              "    <tr>\n",
              "      <th>0</th>\n",
              "      <td>All</td>\n",
              "      <td>1.05</td>\n",
              "      <td>1.45</td>\n",
              "      <td>0.76</td>\n",
              "    </tr>\n",
              "    <tr>\n",
              "      <th>1</th>\n",
              "      <td>Women</td>\n",
              "      <td>1.01</td>\n",
              "      <td>1.63</td>\n",
              "      <td>0.63</td>\n",
              "    </tr>\n",
              "    <tr>\n",
              "      <th>2</th>\n",
              "      <td>Men</td>\n",
              "      <td>0.99</td>\n",
              "      <td>1.54</td>\n",
              "      <td>0.64</td>\n",
              "    </tr>\n",
              "  </tbody>\n",
              "</table>\n",
              "</div>"
            ],
            "text/plain": [
              "   Group  Rate ratio (RR)  Upper CI  Lower CI\n",
              "0    All             1.05      1.45      0.76\n",
              "1  Women             1.01      1.63      0.63\n",
              "2    Men             0.99      1.54      0.64"
            ]
          },
          "metadata": {
            "tags": []
          },
          "execution_count": 38
        }
      ]
    },
    {
      "cell_type": "markdown",
      "metadata": {
        "id": "HVnwFbWpDF9c"
      },
      "source": [
        "####**Age**"
      ]
    },
    {
      "cell_type": "code",
      "metadata": {
        "colab": {
          "base_uri": "https://localhost:8080/",
          "height": 204
        },
        "id": "TMwTYfJSDF9d",
        "outputId": "c362dc7f-bba3-4e00-b0a5-9dc27f9d883a"
      },
      "source": [
        "rate_ratio(df_humidity, 'age','HHW')"
      ],
      "execution_count": null,
      "outputs": [
        {
          "output_type": "execute_result",
          "data": {
            "text/html": [
              "<div>\n",
              "<style scoped>\n",
              "    .dataframe tbody tr th:only-of-type {\n",
              "        vertical-align: middle;\n",
              "    }\n",
              "\n",
              "    .dataframe tbody tr th {\n",
              "        vertical-align: top;\n",
              "    }\n",
              "\n",
              "    .dataframe thead th {\n",
              "        text-align: right;\n",
              "    }\n",
              "</style>\n",
              "<table border=\"1\" class=\"dataframe\">\n",
              "  <thead>\n",
              "    <tr style=\"text-align: right;\">\n",
              "      <th></th>\n",
              "      <th>Group</th>\n",
              "      <th>Rate ratio (RR)</th>\n",
              "      <th>Upper CI</th>\n",
              "      <th>Lower CI</th>\n",
              "    </tr>\n",
              "  </thead>\n",
              "  <tbody>\n",
              "    <tr>\n",
              "      <th>0</th>\n",
              "      <td>Todas idades</td>\n",
              "      <td>1.05</td>\n",
              "      <td>1.45</td>\n",
              "      <td>0.76</td>\n",
              "    </tr>\n",
              "    <tr>\n",
              "      <th>1</th>\n",
              "      <td>Entre 20 e 40 anos</td>\n",
              "      <td>0.82</td>\n",
              "      <td>5.83</td>\n",
              "      <td>0.12</td>\n",
              "    </tr>\n",
              "    <tr>\n",
              "      <th>2</th>\n",
              "      <td>Entre 40 e 65 anos</td>\n",
              "      <td>0.55</td>\n",
              "      <td>1.06</td>\n",
              "      <td>0.29</td>\n",
              "    </tr>\n",
              "    <tr>\n",
              "      <th>3</th>\n",
              "      <td>Acima de 65 anos</td>\n",
              "      <td>1.39</td>\n",
              "      <td>2.04</td>\n",
              "      <td>0.95</td>\n",
              "    </tr>\n",
              "    <tr>\n",
              "      <th>4</th>\n",
              "      <td>Acima de 75 anos</td>\n",
              "      <td>1.29</td>\n",
              "      <td>2.22</td>\n",
              "      <td>0.75</td>\n",
              "    </tr>\n",
              "  </tbody>\n",
              "</table>\n",
              "</div>"
            ],
            "text/plain": [
              "                Group  Rate ratio (RR)  Upper CI  Lower CI\n",
              "0        Todas idades             1.05      1.45      0.76\n",
              "1  Entre 20 e 40 anos             0.82      5.83      0.12\n",
              "2  Entre 40 e 65 anos             0.55      1.06      0.29\n",
              "3    Acima de 65 anos             1.39      2.04      0.95\n",
              "4    Acima de 75 anos             1.29      2.22      0.75"
            ]
          },
          "metadata": {
            "tags": []
          },
          "execution_count": 39
        }
      ]
    },
    {
      "cell_type": "markdown",
      "metadata": {
        "id": "FcbsXZTIDF9e"
      },
      "source": [
        "####**Age and sex**"
      ]
    },
    {
      "cell_type": "code",
      "metadata": {
        "colab": {
          "base_uri": "https://localhost:8080/",
          "height": 204
        },
        "id": "42n7H6LkDF9e",
        "outputId": "b57976a7-1f5a-4995-8970-750c7267941f"
      },
      "source": [
        "rate_ratio(df_humidity, 'age and sex','HHW')"
      ],
      "execution_count": null,
      "outputs": [
        {
          "output_type": "execute_result",
          "data": {
            "text/html": [
              "<div>\n",
              "<style scoped>\n",
              "    .dataframe tbody tr th:only-of-type {\n",
              "        vertical-align: middle;\n",
              "    }\n",
              "\n",
              "    .dataframe tbody tr th {\n",
              "        vertical-align: top;\n",
              "    }\n",
              "\n",
              "    .dataframe thead th {\n",
              "        text-align: right;\n",
              "    }\n",
              "</style>\n",
              "<table border=\"1\" class=\"dataframe\">\n",
              "  <thead>\n",
              "    <tr style=\"text-align: right;\">\n",
              "      <th></th>\n",
              "      <th>Group</th>\n",
              "      <th>Rate ratio (RR)</th>\n",
              "      <th>Upper CI</th>\n",
              "      <th>Lower CI</th>\n",
              "    </tr>\n",
              "  </thead>\n",
              "  <tbody>\n",
              "    <tr>\n",
              "      <th>0</th>\n",
              "      <td>Todas idades</td>\n",
              "      <td>1.05</td>\n",
              "      <td>1.45</td>\n",
              "      <td>0.76</td>\n",
              "    </tr>\n",
              "    <tr>\n",
              "      <th>1</th>\n",
              "      <td>Mulheres entre 20 e 65 anos</td>\n",
              "      <td>0.53</td>\n",
              "      <td>1.64</td>\n",
              "      <td>0.17</td>\n",
              "    </tr>\n",
              "    <tr>\n",
              "      <th>2</th>\n",
              "      <td>Homens entre 20 e 65 anos</td>\n",
              "      <td>0.58</td>\n",
              "      <td>1.22</td>\n",
              "      <td>0.28</td>\n",
              "    </tr>\n",
              "    <tr>\n",
              "      <th>3</th>\n",
              "      <td>Mulheres acima de 65 anos</td>\n",
              "      <td>1.63</td>\n",
              "      <td>2.76</td>\n",
              "      <td>0.96</td>\n",
              "    </tr>\n",
              "    <tr>\n",
              "      <th>4</th>\n",
              "      <td>Homens acima de 65 anos</td>\n",
              "      <td>1.08</td>\n",
              "      <td>1.90</td>\n",
              "      <td>0.61</td>\n",
              "    </tr>\n",
              "  </tbody>\n",
              "</table>\n",
              "</div>"
            ],
            "text/plain": [
              "                         Group  Rate ratio (RR)  Upper CI  Lower CI\n",
              "0                 Todas idades             1.05      1.45      0.76\n",
              "1  Mulheres entre 20 e 65 anos             0.53      1.64      0.17\n",
              "2    Homens entre 20 e 65 anos             0.58      1.22      0.28\n",
              "3    Mulheres acima de 65 anos             1.63      2.76      0.96\n",
              "4      Homens acima de 65 anos             1.08      1.90      0.61"
            ]
          },
          "metadata": {
            "tags": []
          },
          "execution_count": 40
        }
      ]
    },
    {
      "cell_type": "markdown",
      "metadata": {
        "id": "ligRmofhDNAy"
      },
      "source": [
        "###**Extreme humidity variation**"
      ]
    },
    {
      "cell_type": "markdown",
      "metadata": {
        "id": "m-bUo4ABDNAz"
      },
      "source": [
        "####**Sex**"
      ]
    },
    {
      "cell_type": "code",
      "metadata": {
        "colab": {
          "base_uri": "https://localhost:8080/",
          "height": 142
        },
        "id": "D5VHnrd9DNA0",
        "outputId": "eff8bc76-c6af-41c6-c5ee-93fab204ceec"
      },
      "source": [
        "rate_ratio(df_humidity, 'sex','above_pct_range')"
      ],
      "execution_count": null,
      "outputs": [
        {
          "output_type": "execute_result",
          "data": {
            "text/html": [
              "<div>\n",
              "<style scoped>\n",
              "    .dataframe tbody tr th:only-of-type {\n",
              "        vertical-align: middle;\n",
              "    }\n",
              "\n",
              "    .dataframe tbody tr th {\n",
              "        vertical-align: top;\n",
              "    }\n",
              "\n",
              "    .dataframe thead th {\n",
              "        text-align: right;\n",
              "    }\n",
              "</style>\n",
              "<table border=\"1\" class=\"dataframe\">\n",
              "  <thead>\n",
              "    <tr style=\"text-align: right;\">\n",
              "      <th></th>\n",
              "      <th>Group</th>\n",
              "      <th>Rate ratio (RR)</th>\n",
              "      <th>Upper CI</th>\n",
              "      <th>Lower CI</th>\n",
              "    </tr>\n",
              "  </thead>\n",
              "  <tbody>\n",
              "    <tr>\n",
              "      <th>0</th>\n",
              "      <td>All</td>\n",
              "      <td>1.01</td>\n",
              "      <td>1.07</td>\n",
              "      <td>0.96</td>\n",
              "    </tr>\n",
              "    <tr>\n",
              "      <th>1</th>\n",
              "      <td>Women</td>\n",
              "      <td>1.02</td>\n",
              "      <td>1.11</td>\n",
              "      <td>0.94</td>\n",
              "    </tr>\n",
              "    <tr>\n",
              "      <th>2</th>\n",
              "      <td>Men</td>\n",
              "      <td>1.00</td>\n",
              "      <td>1.08</td>\n",
              "      <td>0.93</td>\n",
              "    </tr>\n",
              "  </tbody>\n",
              "</table>\n",
              "</div>"
            ],
            "text/plain": [
              "   Group  Rate ratio (RR)  Upper CI  Lower CI\n",
              "0    All             1.01      1.07      0.96\n",
              "1  Women             1.02      1.11      0.94\n",
              "2    Men             1.00      1.08      0.93"
            ]
          },
          "metadata": {
            "tags": []
          },
          "execution_count": 41
        }
      ]
    },
    {
      "cell_type": "markdown",
      "metadata": {
        "id": "cRoLFp-aDNA1"
      },
      "source": [
        "####**Age**"
      ]
    },
    {
      "cell_type": "code",
      "metadata": {
        "colab": {
          "base_uri": "https://localhost:8080/",
          "height": 204
        },
        "id": "flH_FkewDNA1",
        "outputId": "73f53f4b-9069-401b-e3b2-823cb7e133bb"
      },
      "source": [
        "rate_ratio(df_humidity, 'age','above_pct_range')"
      ],
      "execution_count": null,
      "outputs": [
        {
          "output_type": "execute_result",
          "data": {
            "text/html": [
              "<div>\n",
              "<style scoped>\n",
              "    .dataframe tbody tr th:only-of-type {\n",
              "        vertical-align: middle;\n",
              "    }\n",
              "\n",
              "    .dataframe tbody tr th {\n",
              "        vertical-align: top;\n",
              "    }\n",
              "\n",
              "    .dataframe thead th {\n",
              "        text-align: right;\n",
              "    }\n",
              "</style>\n",
              "<table border=\"1\" class=\"dataframe\">\n",
              "  <thead>\n",
              "    <tr style=\"text-align: right;\">\n",
              "      <th></th>\n",
              "      <th>Group</th>\n",
              "      <th>Rate ratio (RR)</th>\n",
              "      <th>Upper CI</th>\n",
              "      <th>Lower CI</th>\n",
              "    </tr>\n",
              "  </thead>\n",
              "  <tbody>\n",
              "    <tr>\n",
              "      <th>0</th>\n",
              "      <td>Todas idades</td>\n",
              "      <td>1.01</td>\n",
              "      <td>1.07</td>\n",
              "      <td>0.96</td>\n",
              "    </tr>\n",
              "    <tr>\n",
              "      <th>1</th>\n",
              "      <td>Entre 20 e 40 anos</td>\n",
              "      <td>1.00</td>\n",
              "      <td>1.29</td>\n",
              "      <td>0.78</td>\n",
              "    </tr>\n",
              "    <tr>\n",
              "      <th>2</th>\n",
              "      <td>Entre 40 e 65 anos</td>\n",
              "      <td>1.04</td>\n",
              "      <td>1.13</td>\n",
              "      <td>0.96</td>\n",
              "    </tr>\n",
              "    <tr>\n",
              "      <th>3</th>\n",
              "      <td>Acima de 65 anos</td>\n",
              "      <td>1.00</td>\n",
              "      <td>1.08</td>\n",
              "      <td>0.93</td>\n",
              "    </tr>\n",
              "    <tr>\n",
              "      <th>4</th>\n",
              "      <td>Acima de 75 anos</td>\n",
              "      <td>1.08</td>\n",
              "      <td>1.21</td>\n",
              "      <td>0.97</td>\n",
              "    </tr>\n",
              "  </tbody>\n",
              "</table>\n",
              "</div>"
            ],
            "text/plain": [
              "                Group  Rate ratio (RR)  Upper CI  Lower CI\n",
              "0        Todas idades             1.01      1.07      0.96\n",
              "1  Entre 20 e 40 anos             1.00      1.29      0.78\n",
              "2  Entre 40 e 65 anos             1.04      1.13      0.96\n",
              "3    Acima de 65 anos             1.00      1.08      0.93\n",
              "4    Acima de 75 anos             1.08      1.21      0.97"
            ]
          },
          "metadata": {
            "tags": []
          },
          "execution_count": 42
        }
      ]
    },
    {
      "cell_type": "markdown",
      "metadata": {
        "id": "k7AcoWlgDNA2"
      },
      "source": [
        "####**Age and sex**"
      ]
    },
    {
      "cell_type": "code",
      "metadata": {
        "colab": {
          "base_uri": "https://localhost:8080/",
          "height": 204
        },
        "id": "7w0dR_6uDNA3",
        "outputId": "8ca127f7-a87f-4121-e14f-c131b5528038"
      },
      "source": [
        "rate_ratio(df_humidity, 'age and sex','above_pct_range')"
      ],
      "execution_count": null,
      "outputs": [
        {
          "output_type": "execute_result",
          "data": {
            "text/html": [
              "<div>\n",
              "<style scoped>\n",
              "    .dataframe tbody tr th:only-of-type {\n",
              "        vertical-align: middle;\n",
              "    }\n",
              "\n",
              "    .dataframe tbody tr th {\n",
              "        vertical-align: top;\n",
              "    }\n",
              "\n",
              "    .dataframe thead th {\n",
              "        text-align: right;\n",
              "    }\n",
              "</style>\n",
              "<table border=\"1\" class=\"dataframe\">\n",
              "  <thead>\n",
              "    <tr style=\"text-align: right;\">\n",
              "      <th></th>\n",
              "      <th>Group</th>\n",
              "      <th>Rate ratio (RR)</th>\n",
              "      <th>Upper CI</th>\n",
              "      <th>Lower CI</th>\n",
              "    </tr>\n",
              "  </thead>\n",
              "  <tbody>\n",
              "    <tr>\n",
              "      <th>0</th>\n",
              "      <td>Todas idades</td>\n",
              "      <td>1.01</td>\n",
              "      <td>1.07</td>\n",
              "      <td>0.96</td>\n",
              "    </tr>\n",
              "    <tr>\n",
              "      <th>1</th>\n",
              "      <td>Mulheres entre 20 e 65 anos</td>\n",
              "      <td>1.05</td>\n",
              "      <td>1.19</td>\n",
              "      <td>0.93</td>\n",
              "    </tr>\n",
              "    <tr>\n",
              "      <th>2</th>\n",
              "      <td>Homens entre 20 e 65 anos</td>\n",
              "      <td>1.00</td>\n",
              "      <td>1.10</td>\n",
              "      <td>0.91</td>\n",
              "    </tr>\n",
              "    <tr>\n",
              "      <th>3</th>\n",
              "      <td>Mulheres acima de 65 anos</td>\n",
              "      <td>1.02</td>\n",
              "      <td>1.14</td>\n",
              "      <td>0.92</td>\n",
              "    </tr>\n",
              "    <tr>\n",
              "      <th>4</th>\n",
              "      <td>Homens acima de 65 anos</td>\n",
              "      <td>0.96</td>\n",
              "      <td>1.07</td>\n",
              "      <td>0.86</td>\n",
              "    </tr>\n",
              "  </tbody>\n",
              "</table>\n",
              "</div>"
            ],
            "text/plain": [
              "                         Group  Rate ratio (RR)  Upper CI  Lower CI\n",
              "0                 Todas idades             1.01      1.07      0.96\n",
              "1  Mulheres entre 20 e 65 anos             1.05      1.19      0.93\n",
              "2    Homens entre 20 e 65 anos             1.00      1.10      0.91\n",
              "3    Mulheres acima de 65 anos             1.02      1.14      0.92\n",
              "4      Homens acima de 65 anos             0.96      1.07      0.86"
            ]
          },
          "metadata": {
            "tags": []
          },
          "execution_count": 43
        }
      ]
    },
    {
      "cell_type": "markdown",
      "metadata": {
        "id": "uTICs04kDZKk"
      },
      "source": [
        "###**Extreme humidity difference between days**"
      ]
    },
    {
      "cell_type": "markdown",
      "metadata": {
        "id": "lTR-jbAuDZKk"
      },
      "source": [
        "####**Sex**"
      ]
    },
    {
      "cell_type": "code",
      "metadata": {
        "colab": {
          "base_uri": "https://localhost:8080/",
          "height": 142
        },
        "id": "1BKNZSkcDZKl",
        "outputId": "894f8ac8-002b-4f34-ea67-6425ce9fa773"
      },
      "source": [
        "rate_ratio(df_humidity, 'sex','above_pct_dif')"
      ],
      "execution_count": null,
      "outputs": [
        {
          "output_type": "execute_result",
          "data": {
            "text/html": [
              "<div>\n",
              "<style scoped>\n",
              "    .dataframe tbody tr th:only-of-type {\n",
              "        vertical-align: middle;\n",
              "    }\n",
              "\n",
              "    .dataframe tbody tr th {\n",
              "        vertical-align: top;\n",
              "    }\n",
              "\n",
              "    .dataframe thead th {\n",
              "        text-align: right;\n",
              "    }\n",
              "</style>\n",
              "<table border=\"1\" class=\"dataframe\">\n",
              "  <thead>\n",
              "    <tr style=\"text-align: right;\">\n",
              "      <th></th>\n",
              "      <th>Group</th>\n",
              "      <th>Rate ratio (RR)</th>\n",
              "      <th>Upper CI</th>\n",
              "      <th>Lower CI</th>\n",
              "    </tr>\n",
              "  </thead>\n",
              "  <tbody>\n",
              "    <tr>\n",
              "      <th>0</th>\n",
              "      <td>All</td>\n",
              "      <td>0.96</td>\n",
              "      <td>1.13</td>\n",
              "      <td>0.81</td>\n",
              "    </tr>\n",
              "    <tr>\n",
              "      <th>1</th>\n",
              "      <td>Women</td>\n",
              "      <td>1.21</td>\n",
              "      <td>1.52</td>\n",
              "      <td>0.97</td>\n",
              "    </tr>\n",
              "    <tr>\n",
              "      <th>2</th>\n",
              "      <td>Men</td>\n",
              "      <td>0.96</td>\n",
              "      <td>1.22</td>\n",
              "      <td>0.75</td>\n",
              "    </tr>\n",
              "  </tbody>\n",
              "</table>\n",
              "</div>"
            ],
            "text/plain": [
              "   Group  Rate ratio (RR)  Upper CI  Lower CI\n",
              "0    All             0.96      1.13      0.81\n",
              "1  Women             1.21      1.52      0.97\n",
              "2    Men             0.96      1.22      0.75"
            ]
          },
          "metadata": {
            "tags": []
          },
          "execution_count": 44
        }
      ]
    },
    {
      "cell_type": "markdown",
      "metadata": {
        "id": "q3liwQWjDZKm"
      },
      "source": [
        "####**Age**"
      ]
    },
    {
      "cell_type": "code",
      "metadata": {
        "colab": {
          "base_uri": "https://localhost:8080/",
          "height": 204
        },
        "id": "mZv6TiKRDZKm",
        "outputId": "79e39ed2-33a4-463c-e0c6-d3a25034a225"
      },
      "source": [
        "rate_ratio(df_humidity, 'age','above_pct_dif')"
      ],
      "execution_count": null,
      "outputs": [
        {
          "output_type": "execute_result",
          "data": {
            "text/html": [
              "<div>\n",
              "<style scoped>\n",
              "    .dataframe tbody tr th:only-of-type {\n",
              "        vertical-align: middle;\n",
              "    }\n",
              "\n",
              "    .dataframe tbody tr th {\n",
              "        vertical-align: top;\n",
              "    }\n",
              "\n",
              "    .dataframe thead th {\n",
              "        text-align: right;\n",
              "    }\n",
              "</style>\n",
              "<table border=\"1\" class=\"dataframe\">\n",
              "  <thead>\n",
              "    <tr style=\"text-align: right;\">\n",
              "      <th></th>\n",
              "      <th>Group</th>\n",
              "      <th>Rate ratio (RR)</th>\n",
              "      <th>Upper CI</th>\n",
              "      <th>Lower CI</th>\n",
              "    </tr>\n",
              "  </thead>\n",
              "  <tbody>\n",
              "    <tr>\n",
              "      <th>0</th>\n",
              "      <td>Todas idades</td>\n",
              "      <td>0.96</td>\n",
              "      <td>1.13</td>\n",
              "      <td>0.81</td>\n",
              "    </tr>\n",
              "    <tr>\n",
              "      <th>1</th>\n",
              "      <td>Entre 20 e 40 anos</td>\n",
              "      <td>1.18</td>\n",
              "      <td>2.20</td>\n",
              "      <td>0.63</td>\n",
              "    </tr>\n",
              "    <tr>\n",
              "      <th>2</th>\n",
              "      <td>Entre 40 e 65 anos</td>\n",
              "      <td>1.11</td>\n",
              "      <td>1.43</td>\n",
              "      <td>0.86</td>\n",
              "    </tr>\n",
              "    <tr>\n",
              "      <th>3</th>\n",
              "      <td>Acima de 65 anos</td>\n",
              "      <td>0.95</td>\n",
              "      <td>1.20</td>\n",
              "      <td>0.75</td>\n",
              "    </tr>\n",
              "    <tr>\n",
              "      <th>4</th>\n",
              "      <td>Acima de 75 anos</td>\n",
              "      <td>0.99</td>\n",
              "      <td>1.36</td>\n",
              "      <td>0.72</td>\n",
              "    </tr>\n",
              "  </tbody>\n",
              "</table>\n",
              "</div>"
            ],
            "text/plain": [
              "                Group  Rate ratio (RR)  Upper CI  Lower CI\n",
              "0        Todas idades             0.96      1.13      0.81\n",
              "1  Entre 20 e 40 anos             1.18      2.20      0.63\n",
              "2  Entre 40 e 65 anos             1.11      1.43      0.86\n",
              "3    Acima de 65 anos             0.95      1.20      0.75\n",
              "4    Acima de 75 anos             0.99      1.36      0.72"
            ]
          },
          "metadata": {
            "tags": []
          },
          "execution_count": 45
        }
      ]
    },
    {
      "cell_type": "markdown",
      "metadata": {
        "id": "FOq2rqwrDZKm"
      },
      "source": [
        "####**Age and sex**"
      ]
    },
    {
      "cell_type": "code",
      "metadata": {
        "colab": {
          "base_uri": "https://localhost:8080/",
          "height": 204
        },
        "id": "igYlS6BeDZKn",
        "outputId": "82b4a5a2-4913-47a5-d372-66e06ca3a69b"
      },
      "source": [
        "rate_ratio(df_humidity, 'age and sex','above_pct_dif')"
      ],
      "execution_count": null,
      "outputs": [
        {
          "output_type": "execute_result",
          "data": {
            "text/html": [
              "<div>\n",
              "<style scoped>\n",
              "    .dataframe tbody tr th:only-of-type {\n",
              "        vertical-align: middle;\n",
              "    }\n",
              "\n",
              "    .dataframe tbody tr th {\n",
              "        vertical-align: top;\n",
              "    }\n",
              "\n",
              "    .dataframe thead th {\n",
              "        text-align: right;\n",
              "    }\n",
              "</style>\n",
              "<table border=\"1\" class=\"dataframe\">\n",
              "  <thead>\n",
              "    <tr style=\"text-align: right;\">\n",
              "      <th></th>\n",
              "      <th>Group</th>\n",
              "      <th>Rate ratio (RR)</th>\n",
              "      <th>Upper CI</th>\n",
              "      <th>Lower CI</th>\n",
              "    </tr>\n",
              "  </thead>\n",
              "  <tbody>\n",
              "    <tr>\n",
              "      <th>0</th>\n",
              "      <td>Todas idades</td>\n",
              "      <td>0.96</td>\n",
              "      <td>1.13</td>\n",
              "      <td>0.81</td>\n",
              "    </tr>\n",
              "    <tr>\n",
              "      <th>1</th>\n",
              "      <td>Mulheres entre 20 e 65 anos</td>\n",
              "      <td>1.26</td>\n",
              "      <td>1.78</td>\n",
              "      <td>0.89</td>\n",
              "    </tr>\n",
              "    <tr>\n",
              "      <th>2</th>\n",
              "      <td>Homens entre 20 e 65 anos</td>\n",
              "      <td>1.16</td>\n",
              "      <td>1.59</td>\n",
              "      <td>0.85</td>\n",
              "    </tr>\n",
              "    <tr>\n",
              "      <th>3</th>\n",
              "      <td>Mulheres acima de 65 anos</td>\n",
              "      <td>1.28</td>\n",
              "      <td>1.72</td>\n",
              "      <td>0.95</td>\n",
              "    </tr>\n",
              "    <tr>\n",
              "      <th>4</th>\n",
              "      <td>Homens acima de 65 anos</td>\n",
              "      <td>0.87</td>\n",
              "      <td>1.27</td>\n",
              "      <td>0.60</td>\n",
              "    </tr>\n",
              "  </tbody>\n",
              "</table>\n",
              "</div>"
            ],
            "text/plain": [
              "                         Group  Rate ratio (RR)  Upper CI  Lower CI\n",
              "0                 Todas idades             0.96      1.13      0.81\n",
              "1  Mulheres entre 20 e 65 anos             1.26      1.78      0.89\n",
              "2    Homens entre 20 e 65 anos             1.16      1.59      0.85\n",
              "3    Mulheres acima de 65 anos             1.28      1.72      0.95\n",
              "4      Homens acima de 65 anos             0.87      1.27      0.60"
            ]
          },
          "metadata": {
            "tags": []
          },
          "execution_count": 46
        }
      ]
    },
    {
      "cell_type": "markdown",
      "metadata": {
        "id": "VfAfCy7N-w-y"
      },
      "source": [
        "## **References**\n",
        "\n",
        "CENTERS FOR DISEASE CONTROL AND PREVENTION (CDC).Principles ofEpidemiology in Public Health Practice, Third Edition An Introduction to AppliedEpidemiology and Biostatistics. Available at: <https://www.cdc.gov/csels/dsepd/ss1978/lesson3/section5.html>\n",
        "\n",
        "\n",
        "BOSTON UNIVERSITY SCHOOL OF PUBLIC HEALTH (SPH).Rate Ratios. Available at: <https://sphweb.bumc.bu.edu/otlt/MPH-Modules/PH717-QuantCore/PH717_ComparingFrequencies/PH717_ComparingFrequencies9.html>.\n",
        "\n",
        "\n"
      ]
    }
  ]
}