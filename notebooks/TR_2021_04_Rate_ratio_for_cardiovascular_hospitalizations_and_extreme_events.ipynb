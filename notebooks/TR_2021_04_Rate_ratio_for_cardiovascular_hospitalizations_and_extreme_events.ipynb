{
  "nbformat": 4,
  "nbformat_minor": 0,
  "metadata": {
    "colab": {
      "name": "TR_2021/04 -Rate ratio for cardiovascular hospitalizations and extreme events.ipynb",
      "provenance": [],
      "collapsed_sections": [
        "_cZJPEYBMKfI",
        "MZtAQw07RQCI",
        "Y5AzUFoqBeFv",
        "C9LetOOuBwg3",
        "BGil698qCLiC",
        "RKuZ4_X1CLiF",
        "O8G0yiTlCd7p",
        "IlcQYeReCd7t",
        "eTXY76gZCnTQ",
        "GsyJadP5CnTS",
        "VnXy32ZbC5om",
        "HVnwFbWpDF9c",
        "m-bUo4ABDNAz",
        "cRoLFp-aDNA1",
        "lTR-jbAuDZKk",
        "q3liwQWjDZKm"
      ],
      "mount_file_id": "1AscHECHfahJ2SbfpP3mecX-nPsSNt9Jp",
      "authorship_tag": "ABX9TyNuyxCkUL7/dhI2+IEPtKqz"
    },
    "kernelspec": {
      "name": "python3",
      "display_name": "Python 3"
    }
  },
  "cells": [
    {
      "cell_type": "markdown",
      "metadata": {
        "id": "_7WxcqgBRQB-"
      },
      "source": [
        "# **TR_2021/04 - Technical report: Rate ratio for cardiovascular hospitalizations and extreme events**\n",
        "\n",
        "\n",
        "|Technical Report ID  |2021/04|\n",
        "|--|--|\n",
        "| Title |Rate ratio for cardiovascular hospitalizations and extreme events|\n",
        "| Authors | Júlia De Lázari, Paula Dornhofer|\n",
        "| Creation Date| 2021-03|\n",
        "\n",
        "\n",
        "## Databases descriptions\n",
        "\n",
        "**inputs:** \n",
        "\n",
        "- hospitalizações_circulatório.csv: Dataframe of hospitalizations due to cardiovascular ICDs from 2014 to 2018.\n",
        "\n",
        "- EV_VCP.csv: Dataframe with the extreme events computed. Viracopos data was used for this.\n",
        "\n",
        "## Analysis\n",
        "\n",
        "This report presents an analysis of the the _rate ratio_ for the [extreme climate events](https://github.com/climate-and-health-datasci-Unicamp/project-climatic-variations-cardiovascular-diseases/blob/main/notebooks/TR_2020_05_Extreme_climatic_events_for_Campinas.ipynb) and cardiovascular hospitalizations.\n",
        "\n",
        "The analysis was conducted for the total data and for some stratifications (sex, age, age and sex).\n",
        "\n",
        "\n",
        "\n"
      ]
    },
    {
      "cell_type": "markdown",
      "metadata": {
        "id": "O_KNUbbG9v_C"
      },
      "source": [
        "##**Rate ratio**\n",
        "\n",
        "Rate ratio is a relative difference measure used to compare the incidence rates of events occurring at any given point in time, frequently used in epidemiology [CDC].\n",
        "\n",
        "It is given by **RR = rate ratio = incidence rate 1/incidence rate 2**\n",
        "\n",
        "with **incidence rate = number of events/population size**\n",
        "\n",
        "The confidence interval is given by **log(RR) - [1.96 x SE(log(RR))] a log(RR) + [1.96 x SE(log(RR))]**. SE is the abreviation for standard error [SPH].\n",
        "\n",
        "In our case **RR = (number of hospitalizations at days under extreme climatic events/number of days with extreme climatic events)/(number of hospitalizations at control days/number of control days)**\n",
        "\n",
        "Its interpretation is similar to that of the _risk ratio_. A rate ratio of 1.0 indicates equal rates in the two groups. A rate ratio greater than 1.0 indicates increased risk for the group in the numerator. A rate ratio less than 1.0 indicates descreased risk for the group in the numerator."
      ]
    },
    {
      "cell_type": "markdown",
      "metadata": {
        "id": "_cZJPEYBMKfI"
      },
      "source": [
        "##**Import libraries**"
      ]
    },
    {
      "cell_type": "code",
      "metadata": {
        "colab": {
          "base_uri": "https://localhost:8080/"
        },
        "id": "Kl_o0DIMRQCE",
        "outputId": "79ae39c4-0b10-41b8-b6d3-7342f57175b4"
      },
      "source": [
        "#-------------------------------------------------------------------#\n",
        "#                       Import libraries                            #\n",
        "#-------------------------------------------------------------------#\n",
        "import pandas as pd\n",
        "import numpy as np\n",
        "import datetime\n",
        "import more_itertools as mit\n",
        "import datetime\n",
        "import statistics as stat\n",
        "import matplotlib.pyplot as plt\n",
        "from matplotlib.ticker import PercentFormatter\n",
        "import scipy\n",
        "import math\n",
        "import seaborn as sns\n",
        "import pylab\n",
        "from datetime import timedelta\n",
        "from calendar import isleap\n",
        "from google.colab import drive\n",
        "from google.colab import files\n",
        "\n",
        "drive.mount('/content/drive')\n",
        "\n",
        "pd.options.mode.chained_assignment = None"
      ],
      "execution_count": null,
      "outputs": [
        {
          "output_type": "stream",
          "name": "stdout",
          "text": [
            "Drive already mounted at /content/drive; to attempt to forcibly remount, call drive.mount(\"/content/drive\", force_remount=True).\n"
          ]
        }
      ]
    },
    {
      "cell_type": "markdown",
      "metadata": {
        "id": "Bj7aFMkmRQCG"
      },
      "source": [
        "## **Load and merge dataframes**"
      ]
    },
    {
      "cell_type": "code",
      "metadata": {
        "id": "7vYzFqgKRQCG"
      },
      "source": [
        "#-------------------------------------------------------------------#\n",
        "#                      cardiovascular hospitalizations                 #\n",
        "#-------------------------------------------------------------------#\n",
        "\n",
        "df_hosp = pd.read_csv('hospitalizações_circulatório.csv')\n",
        "df_hosp = df_hosp.drop(columns = {'Unnamed: 0','Hora','Número Paciente','Descrição CID'}) #drop unneeded columns\n",
        "df_hosp = df_hosp.rename(columns = {'Data':'DATE','Idade': 'IDADE','Sexo': 'SEXO'}) #rename Data to DATE to merge dataframes\n",
        "df_hosp = df_hosp[(df_hosp.DATE !='2012-02-29')&(df_hosp.DATE !='2016-02-29')] #remove leap year dates (02-29)\n",
        "df_hosp = df_hosp.sort_values('DATE')"
      ],
      "execution_count": null,
      "outputs": []
    },
    {
      "cell_type": "code",
      "metadata": {
        "id": "U50cC2w0RQCH"
      },
      "source": [
        "#-------------------------------------------------------------------#\n",
        "#                  Extreme climatic variations                      #\n",
        "#-------------------------------------------------------------------#\n",
        "df_vir =  pd.read_csv('EV_VCP.csv')\n",
        "df_vir = df_vir.drop(columns = {'Unnamed: 0'})\n",
        "df_vir = df_vir[df_vir['DATE']>='2014-01-01']"
      ],
      "execution_count": null,
      "outputs": []
    },
    {
      "cell_type": "code",
      "metadata": {
        "id": "wykqMU8BRQCH"
      },
      "source": [
        "#-------------------------------------------------------------------#\n",
        "#              Merge health and climate dataframes                  #\n",
        "#-------------------------------------------------------------------#\n",
        "df = pd.merge(df_vir,df_hosp, on='DATE', how='outer')"
      ],
      "execution_count": null,
      "outputs": []
    },
    {
      "cell_type": "markdown",
      "metadata": {
        "id": "MZtAQw07RQCI"
      },
      "source": [
        "## **Functions**\n",
        "\n",
        "Automatize some repeated operations along the notebook\n",
        "- stratify functions: different stratifications of the dataframe\n",
        "- rate_ratio: compute the rate ratio for the desired stratification"
      ]
    },
    {
      "cell_type": "markdown",
      "metadata": {
        "id": "VbeozYITLm1D"
      },
      "source": [
        "###**Stratify functions**"
      ]
    },
    {
      "cell_type": "code",
      "metadata": {
        "id": "fwVt-p6cHmth"
      },
      "source": [
        "# Stratify sex\n",
        "def stratify_sex(database):\n",
        "  women = database[database['SEXO']=='F']\n",
        "  men = database[database['SEXO']=='M']\n",
        "\n",
        "  dataframes = [database, women, men]\n",
        "  df_names = [\"All\", \"Women\", \"Men\"]\n",
        "\n",
        "  return dataframes, df_names"
      ],
      "execution_count": null,
      "outputs": []
    },
    {
      "cell_type": "code",
      "metadata": {
        "id": "YN_lpaJ_F8E9"
      },
      "source": [
        "#Stratify age\n",
        "def stratify_age(database):\n",
        "  #less_20 = database[(database['IDADE'] < 20)]  \n",
        "  between_20_40 = database[(database['IDADE'] >= 20) & (database['IDADE'] < 40)]\n",
        "  between_40_65 = database[(database['IDADE'] >= 40) & (database['IDADE'] < 65)]   \n",
        "  over_65 = database[(database['IDADE'] > 64)]   \n",
        "  over_75 = database[(database['IDADE'] > 75)]\n",
        "\n",
        "  dataframes  = [database, between_20_40, between_40_65, over_65, over_75] \n",
        "  df_names = [\"All\", \"Between 20 and 40 years old\",\"Between 40 and 65 years old\",\"Above 65 years old\",\"Above 75 years old\"]\n",
        "\n",
        "  return dataframes, df_names"
      ],
      "execution_count": null,
      "outputs": []
    },
    {
      "cell_type": "code",
      "metadata": {
        "id": "MmEHzGUVD5fd"
      },
      "source": [
        "# Stratify age sex\n",
        "def stratify_age_sex(database): \n",
        "    between_20_65_F = database[(database['IDADE'] >= 20) & (database['IDADE'] < 65)  & (database['SEXO']==\"F\")]\n",
        "    between_20_65_M = database[(database['IDADE'] >= 20) & (database['IDADE'] < 65) & (database['SEXO']==\"M\")]   \n",
        "    over_65_F = database[(database['IDADE'] > 64) & (database['SEXO']==\"F\")]   \n",
        "    over_65_M = database[(database['IDADE'] > 64) & (database['SEXO']==\"M\")]     \n",
        "\n",
        "    dataframes = [database, between_20_65_F, between_20_65_M,over_65_F,over_65_M]\n",
        "    df_names = [\"All\", \"Women between 20 and 65 years old\",\"Men between 20 and 65 years old\",\"Women above 65 years old\",\"Men above 65 years old\"]\n",
        "\n",
        "    return dataframes, df_names"
      ],
      "execution_count": null,
      "outputs": []
    },
    {
      "cell_type": "markdown",
      "metadata": {
        "id": "ijop1R5I4R5G"
      },
      "source": [
        "###**Rate ratio function**"
      ]
    },
    {
      "cell_type": "code",
      "metadata": {
        "id": "wZUKc_R84SN5"
      },
      "source": [
        "def rate_ratio(db, stratify,event):\n",
        "  database = db.copy()\n",
        "\n",
        "  #subsets depending on the stratification\n",
        "  if (stratify == 'age and sex'): \n",
        "    dataframes, df_names = stratify_age_sex(database)\n",
        "  elif (stratify == 'sex'): \n",
        "    dataframes, df_names = stratify_sex(database)\n",
        "  elif (stratify == 'age'): \n",
        "    dataframes, df_names = stratify_age(database)\n",
        "  \n",
        "  #aux variable \n",
        "  list_rr = []\n",
        "  list_up_ci = []\n",
        "  list_lr_ci = []\n",
        "\n",
        "  for df in dataframes:\n",
        "    #column for number of hospitalizations\n",
        "    df['N_hosp'] = np.where(df['CID'].isnull(),0,df.groupby(['DATE']).DATE.transform('count'))\n",
        "    df = df.drop_duplicates('DATE',keep='first')\n",
        "    df = df.sort_values('DATE')\n",
        "      \n",
        "    number_event = len(df[df[event] ==1]) # number of days with a extreme event\n",
        "    number_control = len(df[df[event] ==0]) # number of days without a extreme event\n",
        "\n",
        "    hosp_event = df.N_hosp[df[event] ==1].sum() # total number of hosp during a extreme event\n",
        "    hosp_control = df.N_hosp[df[event] == 0].sum() # total number of hosp during control days\n",
        "\n",
        "    # Rate ratio and confidence interval\n",
        "    RR = round((hosp_event/number_event)/(hosp_control/number_control), 2) # compute rate ratio\n",
        "    SE = math.sqrt(1/hosp_event + 1/hosp_control)\n",
        "\n",
        "    upper_CI = round(np.exp(math.log(RR)+1.96*SE),2) #upper value\n",
        "    lower_CI = round(np.exp(math.log(RR)-1.96*SE),2) #lower value\n",
        "\n",
        "    # Append values in the list\n",
        "    list_rr.append(RR)\n",
        "    list_up_ci.append(upper_CI)\n",
        "    list_lr_ci.append(lower_CI)\n",
        "\n",
        "  #Create table\n",
        "  table = pd.DataFrame()\n",
        "  table['Group'] = df_names\n",
        "  table['Rate ratio (RR)'] = list_rr\n",
        "  table['Upper CI'] = list_up_ci\n",
        "  table['Lower CI'] = list_lr_ci\n",
        "\n",
        "  return table"
      ],
      "execution_count": null,
      "outputs": []
    },
    {
      "cell_type": "markdown",
      "metadata": {
        "id": "_K61BRiyzgaf"
      },
      "source": [
        "##**Temperature**"
      ]
    },
    {
      "cell_type": "markdown",
      "metadata": {
        "id": "Id9OTAvHA-ta"
      },
      "source": [
        "###**Extreme thermal range**"
      ]
    },
    {
      "cell_type": "markdown",
      "metadata": {
        "id": "b6fIkdp_BTA9"
      },
      "source": [
        "####**Sex**"
      ]
    },
    {
      "cell_type": "code",
      "metadata": {
        "colab": {
          "base_uri": "https://localhost:8080/",
          "height": 142
        },
        "id": "ErkD46ZNziah",
        "outputId": "4583c250-0eff-43f5-8417-b68ff6fd39c9"
      },
      "source": [
        "rate_ratio(df, 'sex','above_temp_range')"
      ],
      "execution_count": null,
      "outputs": [
        {
          "output_type": "execute_result",
          "data": {
            "text/html": [
              "<div>\n",
              "<style scoped>\n",
              "    .dataframe tbody tr th:only-of-type {\n",
              "        vertical-align: middle;\n",
              "    }\n",
              "\n",
              "    .dataframe tbody tr th {\n",
              "        vertical-align: top;\n",
              "    }\n",
              "\n",
              "    .dataframe thead th {\n",
              "        text-align: right;\n",
              "    }\n",
              "</style>\n",
              "<table border=\"1\" class=\"dataframe\">\n",
              "  <thead>\n",
              "    <tr style=\"text-align: right;\">\n",
              "      <th></th>\n",
              "      <th>Group</th>\n",
              "      <th>Rate ratio (RR)</th>\n",
              "      <th>Upper CI</th>\n",
              "      <th>Lower CI</th>\n",
              "    </tr>\n",
              "  </thead>\n",
              "  <tbody>\n",
              "    <tr>\n",
              "      <th>0</th>\n",
              "      <td>All</td>\n",
              "      <td>0.96</td>\n",
              "      <td>1.03</td>\n",
              "      <td>0.89</td>\n",
              "    </tr>\n",
              "    <tr>\n",
              "      <th>1</th>\n",
              "      <td>Women</td>\n",
              "      <td>0.99</td>\n",
              "      <td>1.10</td>\n",
              "      <td>0.89</td>\n",
              "    </tr>\n",
              "    <tr>\n",
              "      <th>2</th>\n",
              "      <td>Men</td>\n",
              "      <td>0.96</td>\n",
              "      <td>1.06</td>\n",
              "      <td>0.87</td>\n",
              "    </tr>\n",
              "  </tbody>\n",
              "</table>\n",
              "</div>"
            ],
            "text/plain": [
              "   Group  Rate ratio (RR)  Upper CI  Lower CI\n",
              "0    All             0.96      1.03      0.89\n",
              "1  Women             0.99      1.10      0.89\n",
              "2    Men             0.96      1.06      0.87"
            ]
          },
          "metadata": {},
          "execution_count": 109
        }
      ]
    },
    {
      "cell_type": "markdown",
      "metadata": {
        "id": "Y5AzUFoqBeFv"
      },
      "source": [
        "####**Age**"
      ]
    },
    {
      "cell_type": "code",
      "metadata": {
        "colab": {
          "base_uri": "https://localhost:8080/"
        },
        "id": "fAbQQDjOBfcf",
        "outputId": "ae8c06fd-3cfc-422e-b3e5-019136094a5a"
      },
      "source": [
        "rate_ratio(df, 'age','above_temp_range')"
      ],
      "execution_count": null,
      "outputs": [
        {
          "output_type": "execute_result",
          "data": {
            "text/html": [
              "<div>\n",
              "<style scoped>\n",
              "    .dataframe tbody tr th:only-of-type {\n",
              "        vertical-align: middle;\n",
              "    }\n",
              "\n",
              "    .dataframe tbody tr th {\n",
              "        vertical-align: top;\n",
              "    }\n",
              "\n",
              "    .dataframe thead th {\n",
              "        text-align: right;\n",
              "    }\n",
              "</style>\n",
              "<table border=\"1\" class=\"dataframe\">\n",
              "  <thead>\n",
              "    <tr style=\"text-align: right;\">\n",
              "      <th></th>\n",
              "      <th>Group</th>\n",
              "      <th>Rate ratio (RR)</th>\n",
              "      <th>Upper CI</th>\n",
              "      <th>Lower CI</th>\n",
              "    </tr>\n",
              "  </thead>\n",
              "  <tbody>\n",
              "    <tr>\n",
              "      <th>0</th>\n",
              "      <td>All</td>\n",
              "      <td>0.96</td>\n",
              "      <td>1.03</td>\n",
              "      <td>0.89</td>\n",
              "    </tr>\n",
              "    <tr>\n",
              "      <th>1</th>\n",
              "      <td>Between 20 and 40 years old</td>\n",
              "      <td>0.93</td>\n",
              "      <td>1.31</td>\n",
              "      <td>0.66</td>\n",
              "    </tr>\n",
              "    <tr>\n",
              "      <th>2</th>\n",
              "      <td>Between 40 and 65 years old</td>\n",
              "      <td>1.04</td>\n",
              "      <td>1.16</td>\n",
              "      <td>0.93</td>\n",
              "    </tr>\n",
              "    <tr>\n",
              "      <th>3</th>\n",
              "      <td>Above 65 years old</td>\n",
              "      <td>0.92</td>\n",
              "      <td>1.02</td>\n",
              "      <td>0.83</td>\n",
              "    </tr>\n",
              "    <tr>\n",
              "      <th>4</th>\n",
              "      <td>Above 75 years old</td>\n",
              "      <td>1.01</td>\n",
              "      <td>1.17</td>\n",
              "      <td>0.87</td>\n",
              "    </tr>\n",
              "  </tbody>\n",
              "</table>\n",
              "</div>"
            ],
            "text/plain": [
              "                         Group  Rate ratio (RR)  Upper CI  Lower CI\n",
              "0                          All             0.96      1.03      0.89\n",
              "1  Between 20 and 40 years old             0.93      1.31      0.66\n",
              "2  Between 40 and 65 years old             1.04      1.16      0.93\n",
              "3           Above 65 years old             0.92      1.02      0.83\n",
              "4           Above 75 years old             1.01      1.17      0.87"
            ]
          },
          "metadata": {},
          "execution_count": 110
        }
      ]
    },
    {
      "cell_type": "markdown",
      "metadata": {
        "id": "3SKd-xfzBhqs"
      },
      "source": [
        "####**Age and sex**"
      ]
    },
    {
      "cell_type": "code",
      "metadata": {
        "colab": {
          "base_uri": "https://localhost:8080/",
          "height": 204
        },
        "id": "-JkDz40hBjRj",
        "outputId": "78353466-0dee-4deb-a5c6-25caf296e706"
      },
      "source": [
        "rate_ratio(df, 'age and sex','above_temp_range')"
      ],
      "execution_count": null,
      "outputs": [
        {
          "output_type": "execute_result",
          "data": {
            "text/html": [
              "<div>\n",
              "<style scoped>\n",
              "    .dataframe tbody tr th:only-of-type {\n",
              "        vertical-align: middle;\n",
              "    }\n",
              "\n",
              "    .dataframe tbody tr th {\n",
              "        vertical-align: top;\n",
              "    }\n",
              "\n",
              "    .dataframe thead th {\n",
              "        text-align: right;\n",
              "    }\n",
              "</style>\n",
              "<table border=\"1\" class=\"dataframe\">\n",
              "  <thead>\n",
              "    <tr style=\"text-align: right;\">\n",
              "      <th></th>\n",
              "      <th>Group</th>\n",
              "      <th>Rate ratio (RR)</th>\n",
              "      <th>Upper CI</th>\n",
              "      <th>Lower CI</th>\n",
              "    </tr>\n",
              "  </thead>\n",
              "  <tbody>\n",
              "    <tr>\n",
              "      <th>0</th>\n",
              "      <td>All</td>\n",
              "      <td>0.96</td>\n",
              "      <td>1.03</td>\n",
              "      <td>0.89</td>\n",
              "    </tr>\n",
              "    <tr>\n",
              "      <th>1</th>\n",
              "      <td>Women between 20 and 65 years old</td>\n",
              "      <td>1.05</td>\n",
              "      <td>1.23</td>\n",
              "      <td>0.89</td>\n",
              "    </tr>\n",
              "    <tr>\n",
              "      <th>2</th>\n",
              "      <td>Men between 20 and 65 years old</td>\n",
              "      <td>1.04</td>\n",
              "      <td>1.19</td>\n",
              "      <td>0.91</td>\n",
              "    </tr>\n",
              "    <tr>\n",
              "      <th>3</th>\n",
              "      <td>Women above 65 years old</td>\n",
              "      <td>0.96</td>\n",
              "      <td>1.11</td>\n",
              "      <td>0.83</td>\n",
              "    </tr>\n",
              "    <tr>\n",
              "      <th>4</th>\n",
              "      <td>Men above 65 years old</td>\n",
              "      <td>0.94</td>\n",
              "      <td>1.09</td>\n",
              "      <td>0.81</td>\n",
              "    </tr>\n",
              "  </tbody>\n",
              "</table>\n",
              "</div>"
            ],
            "text/plain": [
              "                               Group  Rate ratio (RR)  Upper CI  Lower CI\n",
              "0                                All             0.96      1.03      0.89\n",
              "1  Women between 20 and 65 years old             1.05      1.23      0.89\n",
              "2    Men between 20 and 65 years old             1.04      1.19      0.91\n",
              "3           Women above 65 years old             0.96      1.11      0.83\n",
              "4             Men above 65 years old             0.94      1.09      0.81"
            ]
          },
          "metadata": {},
          "execution_count": 111
        }
      ]
    },
    {
      "cell_type": "markdown",
      "metadata": {
        "id": "Kse4BoEtBwg2"
      },
      "source": [
        "###**Extreme temperature difference between days**"
      ]
    },
    {
      "cell_type": "markdown",
      "metadata": {
        "id": "WAxCpydHBwg2"
      },
      "source": [
        "####**Sex**"
      ]
    },
    {
      "cell_type": "code",
      "metadata": {
        "colab": {
          "base_uri": "https://localhost:8080/",
          "height": 142
        },
        "id": "tvt-xM7uBwg3",
        "outputId": "46075aa7-144e-4efa-93b2-045749028aea"
      },
      "source": [
        "rate_ratio(df, 'sex','above_temp_dif')"
      ],
      "execution_count": null,
      "outputs": [
        {
          "output_type": "execute_result",
          "data": {
            "text/html": [
              "<div>\n",
              "<style scoped>\n",
              "    .dataframe tbody tr th:only-of-type {\n",
              "        vertical-align: middle;\n",
              "    }\n",
              "\n",
              "    .dataframe tbody tr th {\n",
              "        vertical-align: top;\n",
              "    }\n",
              "\n",
              "    .dataframe thead th {\n",
              "        text-align: right;\n",
              "    }\n",
              "</style>\n",
              "<table border=\"1\" class=\"dataframe\">\n",
              "  <thead>\n",
              "    <tr style=\"text-align: right;\">\n",
              "      <th></th>\n",
              "      <th>Group</th>\n",
              "      <th>Rate ratio (RR)</th>\n",
              "      <th>Upper CI</th>\n",
              "      <th>Lower CI</th>\n",
              "    </tr>\n",
              "  </thead>\n",
              "  <tbody>\n",
              "    <tr>\n",
              "      <th>0</th>\n",
              "      <td>All</td>\n",
              "      <td>1.16</td>\n",
              "      <td>1.35</td>\n",
              "      <td>1.00</td>\n",
              "    </tr>\n",
              "    <tr>\n",
              "      <th>1</th>\n",
              "      <td>Women</td>\n",
              "      <td>1.20</td>\n",
              "      <td>1.49</td>\n",
              "      <td>0.97</td>\n",
              "    </tr>\n",
              "    <tr>\n",
              "      <th>2</th>\n",
              "      <td>Men</td>\n",
              "      <td>1.04</td>\n",
              "      <td>1.28</td>\n",
              "      <td>0.84</td>\n",
              "    </tr>\n",
              "  </tbody>\n",
              "</table>\n",
              "</div>"
            ],
            "text/plain": [
              "   Group  Rate ratio (RR)  Upper CI  Lower CI\n",
              "0    All             1.16      1.35      1.00\n",
              "1  Women             1.20      1.49      0.97\n",
              "2    Men             1.04      1.28      0.84"
            ]
          },
          "metadata": {},
          "execution_count": 112
        }
      ]
    },
    {
      "cell_type": "markdown",
      "metadata": {
        "id": "C9LetOOuBwg3"
      },
      "source": [
        "####**Age**"
      ]
    },
    {
      "cell_type": "code",
      "metadata": {
        "colab": {
          "base_uri": "https://localhost:8080/"
        },
        "id": "R75Teg3TBwg3",
        "outputId": "9d6dd110-8649-40de-9d21-67fd46a9280e"
      },
      "source": [
        "rate_ratio(df, 'age','above_temp_dif')"
      ],
      "execution_count": null,
      "outputs": [
        {
          "output_type": "execute_result",
          "data": {
            "text/html": [
              "<div>\n",
              "<style scoped>\n",
              "    .dataframe tbody tr th:only-of-type {\n",
              "        vertical-align: middle;\n",
              "    }\n",
              "\n",
              "    .dataframe tbody tr th {\n",
              "        vertical-align: top;\n",
              "    }\n",
              "\n",
              "    .dataframe thead th {\n",
              "        text-align: right;\n",
              "    }\n",
              "</style>\n",
              "<table border=\"1\" class=\"dataframe\">\n",
              "  <thead>\n",
              "    <tr style=\"text-align: right;\">\n",
              "      <th></th>\n",
              "      <th>Group</th>\n",
              "      <th>Rate ratio (RR)</th>\n",
              "      <th>Upper CI</th>\n",
              "      <th>Lower CI</th>\n",
              "    </tr>\n",
              "  </thead>\n",
              "  <tbody>\n",
              "    <tr>\n",
              "      <th>0</th>\n",
              "      <td>All</td>\n",
              "      <td>1.16</td>\n",
              "      <td>1.35</td>\n",
              "      <td>1.00</td>\n",
              "    </tr>\n",
              "    <tr>\n",
              "      <th>1</th>\n",
              "      <td>Between 20 and 40 years old</td>\n",
              "      <td>0.93</td>\n",
              "      <td>1.80</td>\n",
              "      <td>0.48</td>\n",
              "    </tr>\n",
              "    <tr>\n",
              "      <th>2</th>\n",
              "      <td>Between 40 and 65 years old</td>\n",
              "      <td>1.11</td>\n",
              "      <td>1.39</td>\n",
              "      <td>0.89</td>\n",
              "    </tr>\n",
              "    <tr>\n",
              "      <th>3</th>\n",
              "      <td>Above 65 years old</td>\n",
              "      <td>1.09</td>\n",
              "      <td>1.35</td>\n",
              "      <td>0.88</td>\n",
              "    </tr>\n",
              "    <tr>\n",
              "      <th>4</th>\n",
              "      <td>Above 75 years old</td>\n",
              "      <td>1.10</td>\n",
              "      <td>1.50</td>\n",
              "      <td>0.81</td>\n",
              "    </tr>\n",
              "  </tbody>\n",
              "</table>\n",
              "</div>"
            ],
            "text/plain": [
              "                         Group  Rate ratio (RR)  Upper CI  Lower CI\n",
              "0                          All             1.16      1.35      1.00\n",
              "1  Between 20 and 40 years old             0.93      1.80      0.48\n",
              "2  Between 40 and 65 years old             1.11      1.39      0.89\n",
              "3           Above 65 years old             1.09      1.35      0.88\n",
              "4           Above 75 years old             1.10      1.50      0.81"
            ]
          },
          "metadata": {},
          "execution_count": 113
        }
      ]
    },
    {
      "cell_type": "markdown",
      "metadata": {
        "id": "5fJY5NneBwg4"
      },
      "source": [
        "####**Age and sex**"
      ]
    },
    {
      "cell_type": "code",
      "metadata": {
        "colab": {
          "base_uri": "https://localhost:8080/",
          "height": 204
        },
        "id": "7hWLM2ajBwg4",
        "outputId": "3bd2b41e-2ec6-4038-cdcc-b135e48ff8f7"
      },
      "source": [
        "rate_ratio(df, 'age and sex','above_temp_dif')"
      ],
      "execution_count": null,
      "outputs": [
        {
          "output_type": "execute_result",
          "data": {
            "text/html": [
              "<div>\n",
              "<style scoped>\n",
              "    .dataframe tbody tr th:only-of-type {\n",
              "        vertical-align: middle;\n",
              "    }\n",
              "\n",
              "    .dataframe tbody tr th {\n",
              "        vertical-align: top;\n",
              "    }\n",
              "\n",
              "    .dataframe thead th {\n",
              "        text-align: right;\n",
              "    }\n",
              "</style>\n",
              "<table border=\"1\" class=\"dataframe\">\n",
              "  <thead>\n",
              "    <tr style=\"text-align: right;\">\n",
              "      <th></th>\n",
              "      <th>Group</th>\n",
              "      <th>Rate ratio (RR)</th>\n",
              "      <th>Upper CI</th>\n",
              "      <th>Lower CI</th>\n",
              "    </tr>\n",
              "  </thead>\n",
              "  <tbody>\n",
              "    <tr>\n",
              "      <th>0</th>\n",
              "      <td>All</td>\n",
              "      <td>1.16</td>\n",
              "      <td>1.35</td>\n",
              "      <td>1.00</td>\n",
              "    </tr>\n",
              "    <tr>\n",
              "      <th>1</th>\n",
              "      <td>Women between 20 and 65 years old</td>\n",
              "      <td>1.01</td>\n",
              "      <td>1.42</td>\n",
              "      <td>0.72</td>\n",
              "    </tr>\n",
              "    <tr>\n",
              "      <th>2</th>\n",
              "      <td>Men between 20 and 65 years old</td>\n",
              "      <td>1.06</td>\n",
              "      <td>1.40</td>\n",
              "      <td>0.80</td>\n",
              "    </tr>\n",
              "    <tr>\n",
              "      <th>3</th>\n",
              "      <td>Women above 65 years old</td>\n",
              "      <td>1.14</td>\n",
              "      <td>1.51</td>\n",
              "      <td>0.86</td>\n",
              "    </tr>\n",
              "    <tr>\n",
              "      <th>4</th>\n",
              "      <td>Men above 65 years old</td>\n",
              "      <td>0.92</td>\n",
              "      <td>1.27</td>\n",
              "      <td>0.67</td>\n",
              "    </tr>\n",
              "  </tbody>\n",
              "</table>\n",
              "</div>"
            ],
            "text/plain": [
              "                               Group  Rate ratio (RR)  Upper CI  Lower CI\n",
              "0                                All             1.16      1.35      1.00\n",
              "1  Women between 20 and 65 years old             1.01      1.42      0.72\n",
              "2    Men between 20 and 65 years old             1.06      1.40      0.80\n",
              "3           Women above 65 years old             1.14      1.51      0.86\n",
              "4             Men above 65 years old             0.92      1.27      0.67"
            ]
          },
          "metadata": {},
          "execution_count": 114
        }
      ]
    },
    {
      "cell_type": "markdown",
      "metadata": {
        "id": "fcFuFl3YCLhz"
      },
      "source": [
        "##**Pressure**"
      ]
    },
    {
      "cell_type": "markdown",
      "metadata": {
        "id": "MVywHn4oCLiB"
      },
      "source": [
        "###**Low pressure waves**"
      ]
    },
    {
      "cell_type": "markdown",
      "metadata": {
        "id": "BGil698qCLiC"
      },
      "source": [
        "####**Sex**"
      ]
    },
    {
      "cell_type": "code",
      "metadata": {
        "colab": {
          "base_uri": "https://localhost:8080/"
        },
        "id": "NV3y7QVSCLiC",
        "outputId": "8e4a016c-8aee-4863-f395-cba37efc2644"
      },
      "source": [
        "rate_ratio(df, 'sex','LPW')"
      ],
      "execution_count": null,
      "outputs": [
        {
          "output_type": "execute_result",
          "data": {
            "text/html": [
              "<div>\n",
              "<style scoped>\n",
              "    .dataframe tbody tr th:only-of-type {\n",
              "        vertical-align: middle;\n",
              "    }\n",
              "\n",
              "    .dataframe tbody tr th {\n",
              "        vertical-align: top;\n",
              "    }\n",
              "\n",
              "    .dataframe thead th {\n",
              "        text-align: right;\n",
              "    }\n",
              "</style>\n",
              "<table border=\"1\" class=\"dataframe\">\n",
              "  <thead>\n",
              "    <tr style=\"text-align: right;\">\n",
              "      <th></th>\n",
              "      <th>Group</th>\n",
              "      <th>Rate ratio (RR)</th>\n",
              "      <th>Upper CI</th>\n",
              "      <th>Lower CI</th>\n",
              "    </tr>\n",
              "  </thead>\n",
              "  <tbody>\n",
              "    <tr>\n",
              "      <th>0</th>\n",
              "      <td>All</td>\n",
              "      <td>1.09</td>\n",
              "      <td>1.22</td>\n",
              "      <td>0.98</td>\n",
              "    </tr>\n",
              "    <tr>\n",
              "      <th>1</th>\n",
              "      <td>Women</td>\n",
              "      <td>0.99</td>\n",
              "      <td>1.17</td>\n",
              "      <td>0.84</td>\n",
              "    </tr>\n",
              "    <tr>\n",
              "      <th>2</th>\n",
              "      <td>Men</td>\n",
              "      <td>1.18</td>\n",
              "      <td>1.37</td>\n",
              "      <td>1.02</td>\n",
              "    </tr>\n",
              "  </tbody>\n",
              "</table>\n",
              "</div>"
            ],
            "text/plain": [
              "   Group  Rate ratio (RR)  Upper CI  Lower CI\n",
              "0    All             1.09      1.22      0.98\n",
              "1  Women             0.99      1.17      0.84\n",
              "2    Men             1.18      1.37      1.02"
            ]
          },
          "metadata": {},
          "execution_count": 115
        }
      ]
    },
    {
      "cell_type": "markdown",
      "metadata": {
        "id": "RKuZ4_X1CLiF"
      },
      "source": [
        "####**Age**"
      ]
    },
    {
      "cell_type": "code",
      "metadata": {
        "colab": {
          "base_uri": "https://localhost:8080/"
        },
        "id": "b25T5tuHCLiG",
        "outputId": "dc082abc-13e8-49a9-ccb3-9fd7ea92921c"
      },
      "source": [
        "rate_ratio(df, 'age','LPW')"
      ],
      "execution_count": null,
      "outputs": [
        {
          "output_type": "execute_result",
          "data": {
            "text/html": [
              "<div>\n",
              "<style scoped>\n",
              "    .dataframe tbody tr th:only-of-type {\n",
              "        vertical-align: middle;\n",
              "    }\n",
              "\n",
              "    .dataframe tbody tr th {\n",
              "        vertical-align: top;\n",
              "    }\n",
              "\n",
              "    .dataframe thead th {\n",
              "        text-align: right;\n",
              "    }\n",
              "</style>\n",
              "<table border=\"1\" class=\"dataframe\">\n",
              "  <thead>\n",
              "    <tr style=\"text-align: right;\">\n",
              "      <th></th>\n",
              "      <th>Group</th>\n",
              "      <th>Rate ratio (RR)</th>\n",
              "      <th>Upper CI</th>\n",
              "      <th>Lower CI</th>\n",
              "    </tr>\n",
              "  </thead>\n",
              "  <tbody>\n",
              "    <tr>\n",
              "      <th>0</th>\n",
              "      <td>All</td>\n",
              "      <td>1.09</td>\n",
              "      <td>1.22</td>\n",
              "      <td>0.98</td>\n",
              "    </tr>\n",
              "    <tr>\n",
              "      <th>1</th>\n",
              "      <td>Between 20 and 40 years old</td>\n",
              "      <td>1.00</td>\n",
              "      <td>1.62</td>\n",
              "      <td>0.62</td>\n",
              "    </tr>\n",
              "    <tr>\n",
              "      <th>2</th>\n",
              "      <td>Between 40 and 65 years old</td>\n",
              "      <td>0.96</td>\n",
              "      <td>1.14</td>\n",
              "      <td>0.81</td>\n",
              "    </tr>\n",
              "    <tr>\n",
              "      <th>3</th>\n",
              "      <td>Above 65 years old</td>\n",
              "      <td>1.17</td>\n",
              "      <td>1.36</td>\n",
              "      <td>1.01</td>\n",
              "    </tr>\n",
              "    <tr>\n",
              "      <th>4</th>\n",
              "      <td>Above 75 years old</td>\n",
              "      <td>1.19</td>\n",
              "      <td>1.47</td>\n",
              "      <td>0.96</td>\n",
              "    </tr>\n",
              "  </tbody>\n",
              "</table>\n",
              "</div>"
            ],
            "text/plain": [
              "                         Group  Rate ratio (RR)  Upper CI  Lower CI\n",
              "0                          All             1.09      1.22      0.98\n",
              "1  Between 20 and 40 years old             1.00      1.62      0.62\n",
              "2  Between 40 and 65 years old             0.96      1.14      0.81\n",
              "3           Above 65 years old             1.17      1.36      1.01\n",
              "4           Above 75 years old             1.19      1.47      0.96"
            ]
          },
          "metadata": {},
          "execution_count": 116
        }
      ]
    },
    {
      "cell_type": "markdown",
      "metadata": {
        "id": "bup2DJfFCLiH"
      },
      "source": [
        "####**Age and sex**"
      ]
    },
    {
      "cell_type": "code",
      "metadata": {
        "colab": {
          "base_uri": "https://localhost:8080/",
          "height": 204
        },
        "id": "HW6d5ZBLCLiI",
        "outputId": "88407f44-6910-4f17-b065-1c399f9c9ecd"
      },
      "source": [
        "rate_ratio(df, 'age and sex','LPW')"
      ],
      "execution_count": null,
      "outputs": [
        {
          "output_type": "execute_result",
          "data": {
            "text/html": [
              "<div>\n",
              "<style scoped>\n",
              "    .dataframe tbody tr th:only-of-type {\n",
              "        vertical-align: middle;\n",
              "    }\n",
              "\n",
              "    .dataframe tbody tr th {\n",
              "        vertical-align: top;\n",
              "    }\n",
              "\n",
              "    .dataframe thead th {\n",
              "        text-align: right;\n",
              "    }\n",
              "</style>\n",
              "<table border=\"1\" class=\"dataframe\">\n",
              "  <thead>\n",
              "    <tr style=\"text-align: right;\">\n",
              "      <th></th>\n",
              "      <th>Group</th>\n",
              "      <th>Rate ratio (RR)</th>\n",
              "      <th>Upper CI</th>\n",
              "      <th>Lower CI</th>\n",
              "    </tr>\n",
              "  </thead>\n",
              "  <tbody>\n",
              "    <tr>\n",
              "      <th>0</th>\n",
              "      <td>All</td>\n",
              "      <td>1.09</td>\n",
              "      <td>1.22</td>\n",
              "      <td>0.98</td>\n",
              "    </tr>\n",
              "    <tr>\n",
              "      <th>1</th>\n",
              "      <td>Women between 20 and 65 years old</td>\n",
              "      <td>0.76</td>\n",
              "      <td>1.02</td>\n",
              "      <td>0.56</td>\n",
              "    </tr>\n",
              "    <tr>\n",
              "      <th>2</th>\n",
              "      <td>Men between 20 and 65 years old</td>\n",
              "      <td>1.12</td>\n",
              "      <td>1.36</td>\n",
              "      <td>0.92</td>\n",
              "    </tr>\n",
              "    <tr>\n",
              "      <th>3</th>\n",
              "      <td>Women above 65 years old</td>\n",
              "      <td>1.25</td>\n",
              "      <td>1.53</td>\n",
              "      <td>1.02</td>\n",
              "    </tr>\n",
              "    <tr>\n",
              "      <th>4</th>\n",
              "      <td>Men above 65 years old</td>\n",
              "      <td>1.01</td>\n",
              "      <td>1.26</td>\n",
              "      <td>0.81</td>\n",
              "    </tr>\n",
              "  </tbody>\n",
              "</table>\n",
              "</div>"
            ],
            "text/plain": [
              "                               Group  Rate ratio (RR)  Upper CI  Lower CI\n",
              "0                                All             1.09      1.22      0.98\n",
              "1  Women between 20 and 65 years old             0.76      1.02      0.56\n",
              "2    Men between 20 and 65 years old             1.12      1.36      0.92\n",
              "3           Women above 65 years old             1.25      1.53      1.02\n",
              "4             Men above 65 years old             1.01      1.26      0.81"
            ]
          },
          "metadata": {},
          "execution_count": 117
        }
      ]
    },
    {
      "cell_type": "markdown",
      "metadata": {
        "id": "GuKsXrf8Cd7i"
      },
      "source": [
        "###**High pressure waves**"
      ]
    },
    {
      "cell_type": "markdown",
      "metadata": {
        "id": "O8G0yiTlCd7p"
      },
      "source": [
        "####**Sex**"
      ]
    },
    {
      "cell_type": "code",
      "metadata": {
        "colab": {
          "base_uri": "https://localhost:8080/"
        },
        "id": "CtKRSF8mCd7q",
        "outputId": "2dcc2b4d-e662-424a-9ac1-82d35bddfd2a"
      },
      "source": [
        "rate_ratio(df, 'sex','HPW')"
      ],
      "execution_count": null,
      "outputs": [
        {
          "output_type": "execute_result",
          "data": {
            "text/html": [
              "<div>\n",
              "<style scoped>\n",
              "    .dataframe tbody tr th:only-of-type {\n",
              "        vertical-align: middle;\n",
              "    }\n",
              "\n",
              "    .dataframe tbody tr th {\n",
              "        vertical-align: top;\n",
              "    }\n",
              "\n",
              "    .dataframe thead th {\n",
              "        text-align: right;\n",
              "    }\n",
              "</style>\n",
              "<table border=\"1\" class=\"dataframe\">\n",
              "  <thead>\n",
              "    <tr style=\"text-align: right;\">\n",
              "      <th></th>\n",
              "      <th>Group</th>\n",
              "      <th>Rate ratio (RR)</th>\n",
              "      <th>Upper CI</th>\n",
              "      <th>Lower CI</th>\n",
              "    </tr>\n",
              "  </thead>\n",
              "  <tbody>\n",
              "    <tr>\n",
              "      <th>0</th>\n",
              "      <td>All</td>\n",
              "      <td>1.00</td>\n",
              "      <td>1.06</td>\n",
              "      <td>0.94</td>\n",
              "    </tr>\n",
              "    <tr>\n",
              "      <th>1</th>\n",
              "      <td>Women</td>\n",
              "      <td>1.04</td>\n",
              "      <td>1.13</td>\n",
              "      <td>0.95</td>\n",
              "    </tr>\n",
              "    <tr>\n",
              "      <th>2</th>\n",
              "      <td>Men</td>\n",
              "      <td>0.98</td>\n",
              "      <td>1.06</td>\n",
              "      <td>0.91</td>\n",
              "    </tr>\n",
              "  </tbody>\n",
              "</table>\n",
              "</div>"
            ],
            "text/plain": [
              "   Group  Rate ratio (RR)  Upper CI  Lower CI\n",
              "0    All             1.00      1.06      0.94\n",
              "1  Women             1.04      1.13      0.95\n",
              "2    Men             0.98      1.06      0.91"
            ]
          },
          "metadata": {},
          "execution_count": 118
        }
      ]
    },
    {
      "cell_type": "markdown",
      "metadata": {
        "id": "IlcQYeReCd7t"
      },
      "source": [
        "####**Age**"
      ]
    },
    {
      "cell_type": "code",
      "metadata": {
        "colab": {
          "base_uri": "https://localhost:8080/"
        },
        "id": "QNP4hjVkCd7t",
        "outputId": "4cf48b09-b629-4d7b-d160-b1355bc3bf02"
      },
      "source": [
        "rate_ratio(df, 'age','HPW')"
      ],
      "execution_count": null,
      "outputs": [
        {
          "output_type": "execute_result",
          "data": {
            "text/html": [
              "<div>\n",
              "<style scoped>\n",
              "    .dataframe tbody tr th:only-of-type {\n",
              "        vertical-align: middle;\n",
              "    }\n",
              "\n",
              "    .dataframe tbody tr th {\n",
              "        vertical-align: top;\n",
              "    }\n",
              "\n",
              "    .dataframe thead th {\n",
              "        text-align: right;\n",
              "    }\n",
              "</style>\n",
              "<table border=\"1\" class=\"dataframe\">\n",
              "  <thead>\n",
              "    <tr style=\"text-align: right;\">\n",
              "      <th></th>\n",
              "      <th>Group</th>\n",
              "      <th>Rate ratio (RR)</th>\n",
              "      <th>Upper CI</th>\n",
              "      <th>Lower CI</th>\n",
              "    </tr>\n",
              "  </thead>\n",
              "  <tbody>\n",
              "    <tr>\n",
              "      <th>0</th>\n",
              "      <td>All</td>\n",
              "      <td>1.00</td>\n",
              "      <td>1.06</td>\n",
              "      <td>0.94</td>\n",
              "    </tr>\n",
              "    <tr>\n",
              "      <th>1</th>\n",
              "      <td>Between 20 and 40 years old</td>\n",
              "      <td>0.94</td>\n",
              "      <td>1.24</td>\n",
              "      <td>0.71</td>\n",
              "    </tr>\n",
              "    <tr>\n",
              "      <th>2</th>\n",
              "      <td>Between 40 and 65 years old</td>\n",
              "      <td>0.97</td>\n",
              "      <td>1.06</td>\n",
              "      <td>0.89</td>\n",
              "    </tr>\n",
              "    <tr>\n",
              "      <th>3</th>\n",
              "      <td>Above 65 years old</td>\n",
              "      <td>1.02</td>\n",
              "      <td>1.11</td>\n",
              "      <td>0.94</td>\n",
              "    </tr>\n",
              "    <tr>\n",
              "      <th>4</th>\n",
              "      <td>Above 75 years old</td>\n",
              "      <td>0.99</td>\n",
              "      <td>1.12</td>\n",
              "      <td>0.87</td>\n",
              "    </tr>\n",
              "  </tbody>\n",
              "</table>\n",
              "</div>"
            ],
            "text/plain": [
              "                         Group  Rate ratio (RR)  Upper CI  Lower CI\n",
              "0                          All             1.00      1.06      0.94\n",
              "1  Between 20 and 40 years old             0.94      1.24      0.71\n",
              "2  Between 40 and 65 years old             0.97      1.06      0.89\n",
              "3           Above 65 years old             1.02      1.11      0.94\n",
              "4           Above 75 years old             0.99      1.12      0.87"
            ]
          },
          "metadata": {},
          "execution_count": 119
        }
      ]
    },
    {
      "cell_type": "markdown",
      "metadata": {
        "id": "OZrnOOtECd7u"
      },
      "source": [
        "####**Age and sex**"
      ]
    },
    {
      "cell_type": "code",
      "metadata": {
        "colab": {
          "base_uri": "https://localhost:8080/",
          "height": 204
        },
        "id": "XBFP7NMWCd7v",
        "outputId": "5e602cd5-56f7-4bf6-922b-0b5f0e5caddf"
      },
      "source": [
        "rate_ratio(df, 'age and sex','HPW')"
      ],
      "execution_count": null,
      "outputs": [
        {
          "output_type": "execute_result",
          "data": {
            "text/html": [
              "<div>\n",
              "<style scoped>\n",
              "    .dataframe tbody tr th:only-of-type {\n",
              "        vertical-align: middle;\n",
              "    }\n",
              "\n",
              "    .dataframe tbody tr th {\n",
              "        vertical-align: top;\n",
              "    }\n",
              "\n",
              "    .dataframe thead th {\n",
              "        text-align: right;\n",
              "    }\n",
              "</style>\n",
              "<table border=\"1\" class=\"dataframe\">\n",
              "  <thead>\n",
              "    <tr style=\"text-align: right;\">\n",
              "      <th></th>\n",
              "      <th>Group</th>\n",
              "      <th>Rate ratio (RR)</th>\n",
              "      <th>Upper CI</th>\n",
              "      <th>Lower CI</th>\n",
              "    </tr>\n",
              "  </thead>\n",
              "  <tbody>\n",
              "    <tr>\n",
              "      <th>0</th>\n",
              "      <td>All</td>\n",
              "      <td>1.00</td>\n",
              "      <td>1.06</td>\n",
              "      <td>0.94</td>\n",
              "    </tr>\n",
              "    <tr>\n",
              "      <th>1</th>\n",
              "      <td>Women between 20 and 65 years old</td>\n",
              "      <td>1.01</td>\n",
              "      <td>1.15</td>\n",
              "      <td>0.88</td>\n",
              "    </tr>\n",
              "    <tr>\n",
              "      <th>2</th>\n",
              "      <td>Men between 20 and 65 years old</td>\n",
              "      <td>0.92</td>\n",
              "      <td>1.03</td>\n",
              "      <td>0.82</td>\n",
              "    </tr>\n",
              "    <tr>\n",
              "      <th>3</th>\n",
              "      <td>Women above 65 years old</td>\n",
              "      <td>0.99</td>\n",
              "      <td>1.11</td>\n",
              "      <td>0.88</td>\n",
              "    </tr>\n",
              "    <tr>\n",
              "      <th>4</th>\n",
              "      <td>Men above 65 years old</td>\n",
              "      <td>1.02</td>\n",
              "      <td>1.14</td>\n",
              "      <td>0.91</td>\n",
              "    </tr>\n",
              "  </tbody>\n",
              "</table>\n",
              "</div>"
            ],
            "text/plain": [
              "                               Group  Rate ratio (RR)  Upper CI  Lower CI\n",
              "0                                All             1.00      1.06      0.94\n",
              "1  Women between 20 and 65 years old             1.01      1.15      0.88\n",
              "2    Men between 20 and 65 years old             0.92      1.03      0.82\n",
              "3           Women above 65 years old             0.99      1.11      0.88\n",
              "4             Men above 65 years old             1.02      1.14      0.91"
            ]
          },
          "metadata": {},
          "execution_count": 120
        }
      ]
    },
    {
      "cell_type": "markdown",
      "metadata": {
        "id": "_wdEtq6sCnTQ"
      },
      "source": [
        "###**Extreme difference of pressure between days**"
      ]
    },
    {
      "cell_type": "markdown",
      "metadata": {
        "id": "eTXY76gZCnTQ"
      },
      "source": [
        "####**Sex**"
      ]
    },
    {
      "cell_type": "code",
      "metadata": {
        "colab": {
          "base_uri": "https://localhost:8080/"
        },
        "id": "R9S7G1T9CnTQ",
        "outputId": "9f01d9c1-c32b-499a-a2e7-9c11a703072e"
      },
      "source": [
        "rate_ratio(df, 'sex','above_pressure_dif')"
      ],
      "execution_count": null,
      "outputs": [
        {
          "output_type": "execute_result",
          "data": {
            "text/html": [
              "<div>\n",
              "<style scoped>\n",
              "    .dataframe tbody tr th:only-of-type {\n",
              "        vertical-align: middle;\n",
              "    }\n",
              "\n",
              "    .dataframe tbody tr th {\n",
              "        vertical-align: top;\n",
              "    }\n",
              "\n",
              "    .dataframe thead th {\n",
              "        text-align: right;\n",
              "    }\n",
              "</style>\n",
              "<table border=\"1\" class=\"dataframe\">\n",
              "  <thead>\n",
              "    <tr style=\"text-align: right;\">\n",
              "      <th></th>\n",
              "      <th>Group</th>\n",
              "      <th>Rate ratio (RR)</th>\n",
              "      <th>Upper CI</th>\n",
              "      <th>Lower CI</th>\n",
              "    </tr>\n",
              "  </thead>\n",
              "  <tbody>\n",
              "    <tr>\n",
              "      <th>0</th>\n",
              "      <td>All</td>\n",
              "      <td>1.05</td>\n",
              "      <td>1.11</td>\n",
              "      <td>0.99</td>\n",
              "    </tr>\n",
              "    <tr>\n",
              "      <th>1</th>\n",
              "      <td>Women</td>\n",
              "      <td>0.98</td>\n",
              "      <td>1.07</td>\n",
              "      <td>0.90</td>\n",
              "    </tr>\n",
              "    <tr>\n",
              "      <th>2</th>\n",
              "      <td>Men</td>\n",
              "      <td>1.08</td>\n",
              "      <td>1.17</td>\n",
              "      <td>1.00</td>\n",
              "    </tr>\n",
              "  </tbody>\n",
              "</table>\n",
              "</div>"
            ],
            "text/plain": [
              "   Group  Rate ratio (RR)  Upper CI  Lower CI\n",
              "0    All             1.05      1.11      0.99\n",
              "1  Women             0.98      1.07      0.90\n",
              "2    Men             1.08      1.17      1.00"
            ]
          },
          "metadata": {},
          "execution_count": 121
        }
      ]
    },
    {
      "cell_type": "markdown",
      "metadata": {
        "id": "GsyJadP5CnTS"
      },
      "source": [
        "####**Age**"
      ]
    },
    {
      "cell_type": "code",
      "metadata": {
        "colab": {
          "base_uri": "https://localhost:8080/"
        },
        "id": "ZFSwDuZeCnTT",
        "outputId": "65b5c4dc-788d-4b2e-8b42-2a3b91913be6"
      },
      "source": [
        "rate_ratio(df, 'age','above_pressure_dif')"
      ],
      "execution_count": null,
      "outputs": [
        {
          "output_type": "execute_result",
          "data": {
            "text/html": [
              "<div>\n",
              "<style scoped>\n",
              "    .dataframe tbody tr th:only-of-type {\n",
              "        vertical-align: middle;\n",
              "    }\n",
              "\n",
              "    .dataframe tbody tr th {\n",
              "        vertical-align: top;\n",
              "    }\n",
              "\n",
              "    .dataframe thead th {\n",
              "        text-align: right;\n",
              "    }\n",
              "</style>\n",
              "<table border=\"1\" class=\"dataframe\">\n",
              "  <thead>\n",
              "    <tr style=\"text-align: right;\">\n",
              "      <th></th>\n",
              "      <th>Group</th>\n",
              "      <th>Rate ratio (RR)</th>\n",
              "      <th>Upper CI</th>\n",
              "      <th>Lower CI</th>\n",
              "    </tr>\n",
              "  </thead>\n",
              "  <tbody>\n",
              "    <tr>\n",
              "      <th>0</th>\n",
              "      <td>All</td>\n",
              "      <td>1.05</td>\n",
              "      <td>1.11</td>\n",
              "      <td>0.99</td>\n",
              "    </tr>\n",
              "    <tr>\n",
              "      <th>1</th>\n",
              "      <td>Between 20 and 40 years old</td>\n",
              "      <td>1.02</td>\n",
              "      <td>1.32</td>\n",
              "      <td>0.79</td>\n",
              "    </tr>\n",
              "    <tr>\n",
              "      <th>2</th>\n",
              "      <td>Between 40 and 65 years old</td>\n",
              "      <td>1.02</td>\n",
              "      <td>1.11</td>\n",
              "      <td>0.93</td>\n",
              "    </tr>\n",
              "    <tr>\n",
              "      <th>3</th>\n",
              "      <td>Above 65 years old</td>\n",
              "      <td>1.02</td>\n",
              "      <td>1.11</td>\n",
              "      <td>0.94</td>\n",
              "    </tr>\n",
              "    <tr>\n",
              "      <th>4</th>\n",
              "      <td>Above 75 years old</td>\n",
              "      <td>1.03</td>\n",
              "      <td>1.16</td>\n",
              "      <td>0.91</td>\n",
              "    </tr>\n",
              "  </tbody>\n",
              "</table>\n",
              "</div>"
            ],
            "text/plain": [
              "                         Group  Rate ratio (RR)  Upper CI  Lower CI\n",
              "0                          All             1.05      1.11      0.99\n",
              "1  Between 20 and 40 years old             1.02      1.32      0.79\n",
              "2  Between 40 and 65 years old             1.02      1.11      0.93\n",
              "3           Above 65 years old             1.02      1.11      0.94\n",
              "4           Above 75 years old             1.03      1.16      0.91"
            ]
          },
          "metadata": {},
          "execution_count": 122
        }
      ]
    },
    {
      "cell_type": "markdown",
      "metadata": {
        "id": "oMkzNY3KCnTT"
      },
      "source": [
        "####**Age and sex**"
      ]
    },
    {
      "cell_type": "code",
      "metadata": {
        "colab": {
          "base_uri": "https://localhost:8080/",
          "height": 204
        },
        "id": "TmaJ_RauCnTT",
        "outputId": "22c2a6bf-0be6-4670-f140-e760058afbb0"
      },
      "source": [
        "rate_ratio(df, 'age and sex','above_pressure_dif')"
      ],
      "execution_count": null,
      "outputs": [
        {
          "output_type": "execute_result",
          "data": {
            "text/html": [
              "<div>\n",
              "<style scoped>\n",
              "    .dataframe tbody tr th:only-of-type {\n",
              "        vertical-align: middle;\n",
              "    }\n",
              "\n",
              "    .dataframe tbody tr th {\n",
              "        vertical-align: top;\n",
              "    }\n",
              "\n",
              "    .dataframe thead th {\n",
              "        text-align: right;\n",
              "    }\n",
              "</style>\n",
              "<table border=\"1\" class=\"dataframe\">\n",
              "  <thead>\n",
              "    <tr style=\"text-align: right;\">\n",
              "      <th></th>\n",
              "      <th>Group</th>\n",
              "      <th>Rate ratio (RR)</th>\n",
              "      <th>Upper CI</th>\n",
              "      <th>Lower CI</th>\n",
              "    </tr>\n",
              "  </thead>\n",
              "  <tbody>\n",
              "    <tr>\n",
              "      <th>0</th>\n",
              "      <td>All</td>\n",
              "      <td>1.05</td>\n",
              "      <td>1.11</td>\n",
              "      <td>0.99</td>\n",
              "    </tr>\n",
              "    <tr>\n",
              "      <th>1</th>\n",
              "      <td>Women between 20 and 65 years old</td>\n",
              "      <td>0.95</td>\n",
              "      <td>1.08</td>\n",
              "      <td>0.83</td>\n",
              "    </tr>\n",
              "    <tr>\n",
              "      <th>2</th>\n",
              "      <td>Men between 20 and 65 years old</td>\n",
              "      <td>1.06</td>\n",
              "      <td>1.18</td>\n",
              "      <td>0.95</td>\n",
              "    </tr>\n",
              "    <tr>\n",
              "      <th>3</th>\n",
              "      <td>Women above 65 years old</td>\n",
              "      <td>0.99</td>\n",
              "      <td>1.11</td>\n",
              "      <td>0.88</td>\n",
              "    </tr>\n",
              "    <tr>\n",
              "      <th>4</th>\n",
              "      <td>Men above 65 years old</td>\n",
              "      <td>1.04</td>\n",
              "      <td>1.16</td>\n",
              "      <td>0.93</td>\n",
              "    </tr>\n",
              "  </tbody>\n",
              "</table>\n",
              "</div>"
            ],
            "text/plain": [
              "                               Group  Rate ratio (RR)  Upper CI  Lower CI\n",
              "0                                All             1.05      1.11      0.99\n",
              "1  Women between 20 and 65 years old             0.95      1.08      0.83\n",
              "2    Men between 20 and 65 years old             1.06      1.18      0.95\n",
              "3           Women above 65 years old             0.99      1.11      0.88\n",
              "4             Men above 65 years old             1.04      1.16      0.93"
            ]
          },
          "metadata": {},
          "execution_count": 123
        }
      ]
    },
    {
      "cell_type": "markdown",
      "metadata": {
        "id": "cFlgShdDC3PW"
      },
      "source": [
        "##**Humidity**"
      ]
    },
    {
      "cell_type": "markdown",
      "metadata": {
        "id": "UNRTlDbLC5ol"
      },
      "source": [
        "###**Low humidity waves**"
      ]
    },
    {
      "cell_type": "markdown",
      "metadata": {
        "id": "A3h5g9DhC5ol"
      },
      "source": [
        "####**Sex**"
      ]
    },
    {
      "cell_type": "code",
      "metadata": {
        "colab": {
          "base_uri": "https://localhost:8080/",
          "height": 142
        },
        "id": "3rZJ5uNxC5om",
        "outputId": "ed2a0af5-f366-435b-ef42-8d6e5cad3ba0"
      },
      "source": [
        "rate_ratio(df, 'sex','LHW')"
      ],
      "execution_count": null,
      "outputs": [
        {
          "output_type": "execute_result",
          "data": {
            "text/html": [
              "<div>\n",
              "<style scoped>\n",
              "    .dataframe tbody tr th:only-of-type {\n",
              "        vertical-align: middle;\n",
              "    }\n",
              "\n",
              "    .dataframe tbody tr th {\n",
              "        vertical-align: top;\n",
              "    }\n",
              "\n",
              "    .dataframe thead th {\n",
              "        text-align: right;\n",
              "    }\n",
              "</style>\n",
              "<table border=\"1\" class=\"dataframe\">\n",
              "  <thead>\n",
              "    <tr style=\"text-align: right;\">\n",
              "      <th></th>\n",
              "      <th>Group</th>\n",
              "      <th>Rate ratio (RR)</th>\n",
              "      <th>Upper CI</th>\n",
              "      <th>Lower CI</th>\n",
              "    </tr>\n",
              "  </thead>\n",
              "  <tbody>\n",
              "    <tr>\n",
              "      <th>0</th>\n",
              "      <td>All</td>\n",
              "      <td>0.91</td>\n",
              "      <td>0.97</td>\n",
              "      <td>0.85</td>\n",
              "    </tr>\n",
              "    <tr>\n",
              "      <th>1</th>\n",
              "      <td>Women</td>\n",
              "      <td>0.92</td>\n",
              "      <td>1.02</td>\n",
              "      <td>0.83</td>\n",
              "    </tr>\n",
              "    <tr>\n",
              "      <th>2</th>\n",
              "      <td>Men</td>\n",
              "      <td>0.90</td>\n",
              "      <td>0.99</td>\n",
              "      <td>0.82</td>\n",
              "    </tr>\n",
              "  </tbody>\n",
              "</table>\n",
              "</div>"
            ],
            "text/plain": [
              "   Group  Rate ratio (RR)  Upper CI  Lower CI\n",
              "0    All             0.91      0.97      0.85\n",
              "1  Women             0.92      1.02      0.83\n",
              "2    Men             0.90      0.99      0.82"
            ]
          },
          "metadata": {},
          "execution_count": 124
        }
      ]
    },
    {
      "cell_type": "markdown",
      "metadata": {
        "id": "VnXy32ZbC5om"
      },
      "source": [
        "####**Age**"
      ]
    },
    {
      "cell_type": "code",
      "metadata": {
        "colab": {
          "base_uri": "https://localhost:8080/"
        },
        "id": "RvtJ3e8OC5on",
        "outputId": "311299e4-4bfb-4152-d1cc-fd9edf3ff017"
      },
      "source": [
        "rate_ratio(df, 'age','LHW')"
      ],
      "execution_count": null,
      "outputs": [
        {
          "output_type": "execute_result",
          "data": {
            "text/html": [
              "<div>\n",
              "<style scoped>\n",
              "    .dataframe tbody tr th:only-of-type {\n",
              "        vertical-align: middle;\n",
              "    }\n",
              "\n",
              "    .dataframe tbody tr th {\n",
              "        vertical-align: top;\n",
              "    }\n",
              "\n",
              "    .dataframe thead th {\n",
              "        text-align: right;\n",
              "    }\n",
              "</style>\n",
              "<table border=\"1\" class=\"dataframe\">\n",
              "  <thead>\n",
              "    <tr style=\"text-align: right;\">\n",
              "      <th></th>\n",
              "      <th>Group</th>\n",
              "      <th>Rate ratio (RR)</th>\n",
              "      <th>Upper CI</th>\n",
              "      <th>Lower CI</th>\n",
              "    </tr>\n",
              "  </thead>\n",
              "  <tbody>\n",
              "    <tr>\n",
              "      <th>0</th>\n",
              "      <td>All</td>\n",
              "      <td>0.91</td>\n",
              "      <td>0.97</td>\n",
              "      <td>0.85</td>\n",
              "    </tr>\n",
              "    <tr>\n",
              "      <th>1</th>\n",
              "      <td>Between 20 and 40 years old</td>\n",
              "      <td>0.95</td>\n",
              "      <td>1.30</td>\n",
              "      <td>0.70</td>\n",
              "    </tr>\n",
              "    <tr>\n",
              "      <th>2</th>\n",
              "      <td>Between 40 and 65 years old</td>\n",
              "      <td>0.94</td>\n",
              "      <td>1.04</td>\n",
              "      <td>0.85</td>\n",
              "    </tr>\n",
              "    <tr>\n",
              "      <th>3</th>\n",
              "      <td>Above 65 years old</td>\n",
              "      <td>0.92</td>\n",
              "      <td>1.01</td>\n",
              "      <td>0.84</td>\n",
              "    </tr>\n",
              "    <tr>\n",
              "      <th>4</th>\n",
              "      <td>Above 75 years old</td>\n",
              "      <td>1.04</td>\n",
              "      <td>1.19</td>\n",
              "      <td>0.91</td>\n",
              "    </tr>\n",
              "  </tbody>\n",
              "</table>\n",
              "</div>"
            ],
            "text/plain": [
              "                         Group  Rate ratio (RR)  Upper CI  Lower CI\n",
              "0                          All             0.91      0.97      0.85\n",
              "1  Between 20 and 40 years old             0.95      1.30      0.70\n",
              "2  Between 40 and 65 years old             0.94      1.04      0.85\n",
              "3           Above 65 years old             0.92      1.01      0.84\n",
              "4           Above 75 years old             1.04      1.19      0.91"
            ]
          },
          "metadata": {},
          "execution_count": 125
        }
      ]
    },
    {
      "cell_type": "markdown",
      "metadata": {
        "id": "mSzu0TNhC5on"
      },
      "source": [
        "####**Age and sex**"
      ]
    },
    {
      "cell_type": "code",
      "metadata": {
        "colab": {
          "base_uri": "https://localhost:8080/",
          "height": 204
        },
        "id": "dfpk353bC5on",
        "outputId": "d790ae1d-54e2-4f28-a7bf-47e70d8eb3fd"
      },
      "source": [
        "rate_ratio(df, 'age and sex','LHW')"
      ],
      "execution_count": null,
      "outputs": [
        {
          "output_type": "execute_result",
          "data": {
            "text/html": [
              "<div>\n",
              "<style scoped>\n",
              "    .dataframe tbody tr th:only-of-type {\n",
              "        vertical-align: middle;\n",
              "    }\n",
              "\n",
              "    .dataframe tbody tr th {\n",
              "        vertical-align: top;\n",
              "    }\n",
              "\n",
              "    .dataframe thead th {\n",
              "        text-align: right;\n",
              "    }\n",
              "</style>\n",
              "<table border=\"1\" class=\"dataframe\">\n",
              "  <thead>\n",
              "    <tr style=\"text-align: right;\">\n",
              "      <th></th>\n",
              "      <th>Group</th>\n",
              "      <th>Rate ratio (RR)</th>\n",
              "      <th>Upper CI</th>\n",
              "      <th>Lower CI</th>\n",
              "    </tr>\n",
              "  </thead>\n",
              "  <tbody>\n",
              "    <tr>\n",
              "      <th>0</th>\n",
              "      <td>All</td>\n",
              "      <td>0.91</td>\n",
              "      <td>0.97</td>\n",
              "      <td>0.85</td>\n",
              "    </tr>\n",
              "    <tr>\n",
              "      <th>1</th>\n",
              "      <td>Women between 20 and 65 years old</td>\n",
              "      <td>0.92</td>\n",
              "      <td>1.08</td>\n",
              "      <td>0.79</td>\n",
              "    </tr>\n",
              "    <tr>\n",
              "      <th>2</th>\n",
              "      <td>Men between 20 and 65 years old</td>\n",
              "      <td>0.95</td>\n",
              "      <td>1.08</td>\n",
              "      <td>0.84</td>\n",
              "    </tr>\n",
              "    <tr>\n",
              "      <th>3</th>\n",
              "      <td>Women above 65 years old</td>\n",
              "      <td>0.94</td>\n",
              "      <td>1.07</td>\n",
              "      <td>0.82</td>\n",
              "    </tr>\n",
              "    <tr>\n",
              "      <th>4</th>\n",
              "      <td>Men above 65 years old</td>\n",
              "      <td>0.91</td>\n",
              "      <td>1.04</td>\n",
              "      <td>0.79</td>\n",
              "    </tr>\n",
              "  </tbody>\n",
              "</table>\n",
              "</div>"
            ],
            "text/plain": [
              "                               Group  Rate ratio (RR)  Upper CI  Lower CI\n",
              "0                                All             0.91      0.97      0.85\n",
              "1  Women between 20 and 65 years old             0.92      1.08      0.79\n",
              "2    Men between 20 and 65 years old             0.95      1.08      0.84\n",
              "3           Women above 65 years old             0.94      1.07      0.82\n",
              "4             Men above 65 years old             0.91      1.04      0.79"
            ]
          },
          "metadata": {},
          "execution_count": 126
        }
      ]
    },
    {
      "cell_type": "markdown",
      "metadata": {
        "id": "fRGUUXTGDF9Z"
      },
      "source": [
        "###**High humidity waves**"
      ]
    },
    {
      "cell_type": "markdown",
      "metadata": {
        "id": "yYxyGcBwDF9a"
      },
      "source": [
        "####**Sex**"
      ]
    },
    {
      "cell_type": "code",
      "metadata": {
        "colab": {
          "base_uri": "https://localhost:8080/",
          "height": 142
        },
        "id": "oMrCU4H7DF9b",
        "outputId": "d6d27c5e-7322-4be9-fcbd-936752b3d166"
      },
      "source": [
        "rate_ratio(df, 'sex','HHW')"
      ],
      "execution_count": null,
      "outputs": [
        {
          "output_type": "execute_result",
          "data": {
            "text/html": [
              "<div>\n",
              "<style scoped>\n",
              "    .dataframe tbody tr th:only-of-type {\n",
              "        vertical-align: middle;\n",
              "    }\n",
              "\n",
              "    .dataframe tbody tr th {\n",
              "        vertical-align: top;\n",
              "    }\n",
              "\n",
              "    .dataframe thead th {\n",
              "        text-align: right;\n",
              "    }\n",
              "</style>\n",
              "<table border=\"1\" class=\"dataframe\">\n",
              "  <thead>\n",
              "    <tr style=\"text-align: right;\">\n",
              "      <th></th>\n",
              "      <th>Group</th>\n",
              "      <th>Rate ratio (RR)</th>\n",
              "      <th>Upper CI</th>\n",
              "      <th>Lower CI</th>\n",
              "    </tr>\n",
              "  </thead>\n",
              "  <tbody>\n",
              "    <tr>\n",
              "      <th>0</th>\n",
              "      <td>All</td>\n",
              "      <td>1.05</td>\n",
              "      <td>1.45</td>\n",
              "      <td>0.76</td>\n",
              "    </tr>\n",
              "    <tr>\n",
              "      <th>1</th>\n",
              "      <td>Women</td>\n",
              "      <td>1.01</td>\n",
              "      <td>1.63</td>\n",
              "      <td>0.63</td>\n",
              "    </tr>\n",
              "    <tr>\n",
              "      <th>2</th>\n",
              "      <td>Men</td>\n",
              "      <td>0.99</td>\n",
              "      <td>1.54</td>\n",
              "      <td>0.64</td>\n",
              "    </tr>\n",
              "  </tbody>\n",
              "</table>\n",
              "</div>"
            ],
            "text/plain": [
              "   Group  Rate ratio (RR)  Upper CI  Lower CI\n",
              "0    All             1.05      1.45      0.76\n",
              "1  Women             1.01      1.63      0.63\n",
              "2    Men             0.99      1.54      0.64"
            ]
          },
          "metadata": {},
          "execution_count": 127
        }
      ]
    },
    {
      "cell_type": "markdown",
      "metadata": {
        "id": "HVnwFbWpDF9c"
      },
      "source": [
        "####**Age**"
      ]
    },
    {
      "cell_type": "code",
      "metadata": {
        "colab": {
          "base_uri": "https://localhost:8080/"
        },
        "id": "TMwTYfJSDF9d",
        "outputId": "75dc8aef-63f4-40d9-cd79-fa66be1fae37"
      },
      "source": [
        "rate_ratio(df, 'age','HHW')"
      ],
      "execution_count": null,
      "outputs": [
        {
          "output_type": "execute_result",
          "data": {
            "text/html": [
              "<div>\n",
              "<style scoped>\n",
              "    .dataframe tbody tr th:only-of-type {\n",
              "        vertical-align: middle;\n",
              "    }\n",
              "\n",
              "    .dataframe tbody tr th {\n",
              "        vertical-align: top;\n",
              "    }\n",
              "\n",
              "    .dataframe thead th {\n",
              "        text-align: right;\n",
              "    }\n",
              "</style>\n",
              "<table border=\"1\" class=\"dataframe\">\n",
              "  <thead>\n",
              "    <tr style=\"text-align: right;\">\n",
              "      <th></th>\n",
              "      <th>Group</th>\n",
              "      <th>Rate ratio (RR)</th>\n",
              "      <th>Upper CI</th>\n",
              "      <th>Lower CI</th>\n",
              "    </tr>\n",
              "  </thead>\n",
              "  <tbody>\n",
              "    <tr>\n",
              "      <th>0</th>\n",
              "      <td>All</td>\n",
              "      <td>1.05</td>\n",
              "      <td>1.45</td>\n",
              "      <td>0.76</td>\n",
              "    </tr>\n",
              "    <tr>\n",
              "      <th>1</th>\n",
              "      <td>Between 20 and 40 years old</td>\n",
              "      <td>0.82</td>\n",
              "      <td>5.83</td>\n",
              "      <td>0.12</td>\n",
              "    </tr>\n",
              "    <tr>\n",
              "      <th>2</th>\n",
              "      <td>Between 40 and 65 years old</td>\n",
              "      <td>0.55</td>\n",
              "      <td>1.06</td>\n",
              "      <td>0.29</td>\n",
              "    </tr>\n",
              "    <tr>\n",
              "      <th>3</th>\n",
              "      <td>Above 65 years old</td>\n",
              "      <td>1.39</td>\n",
              "      <td>2.04</td>\n",
              "      <td>0.95</td>\n",
              "    </tr>\n",
              "    <tr>\n",
              "      <th>4</th>\n",
              "      <td>Above 75 years old</td>\n",
              "      <td>1.29</td>\n",
              "      <td>2.22</td>\n",
              "      <td>0.75</td>\n",
              "    </tr>\n",
              "  </tbody>\n",
              "</table>\n",
              "</div>"
            ],
            "text/plain": [
              "                         Group  Rate ratio (RR)  Upper CI  Lower CI\n",
              "0                          All             1.05      1.45      0.76\n",
              "1  Between 20 and 40 years old             0.82      5.83      0.12\n",
              "2  Between 40 and 65 years old             0.55      1.06      0.29\n",
              "3           Above 65 years old             1.39      2.04      0.95\n",
              "4           Above 75 years old             1.29      2.22      0.75"
            ]
          },
          "metadata": {},
          "execution_count": 128
        }
      ]
    },
    {
      "cell_type": "markdown",
      "metadata": {
        "id": "FcbsXZTIDF9e"
      },
      "source": [
        "####**Age and sex**"
      ]
    },
    {
      "cell_type": "code",
      "metadata": {
        "colab": {
          "base_uri": "https://localhost:8080/",
          "height": 204
        },
        "id": "42n7H6LkDF9e",
        "outputId": "12f78423-8f2d-40bb-bbb4-5df77bb9d428"
      },
      "source": [
        "rate_ratio(df, 'age and sex','HHW')"
      ],
      "execution_count": null,
      "outputs": [
        {
          "output_type": "execute_result",
          "data": {
            "text/html": [
              "<div>\n",
              "<style scoped>\n",
              "    .dataframe tbody tr th:only-of-type {\n",
              "        vertical-align: middle;\n",
              "    }\n",
              "\n",
              "    .dataframe tbody tr th {\n",
              "        vertical-align: top;\n",
              "    }\n",
              "\n",
              "    .dataframe thead th {\n",
              "        text-align: right;\n",
              "    }\n",
              "</style>\n",
              "<table border=\"1\" class=\"dataframe\">\n",
              "  <thead>\n",
              "    <tr style=\"text-align: right;\">\n",
              "      <th></th>\n",
              "      <th>Group</th>\n",
              "      <th>Rate ratio (RR)</th>\n",
              "      <th>Upper CI</th>\n",
              "      <th>Lower CI</th>\n",
              "    </tr>\n",
              "  </thead>\n",
              "  <tbody>\n",
              "    <tr>\n",
              "      <th>0</th>\n",
              "      <td>All</td>\n",
              "      <td>1.05</td>\n",
              "      <td>1.45</td>\n",
              "      <td>0.76</td>\n",
              "    </tr>\n",
              "    <tr>\n",
              "      <th>1</th>\n",
              "      <td>Women between 20 and 65 years old</td>\n",
              "      <td>0.53</td>\n",
              "      <td>1.64</td>\n",
              "      <td>0.17</td>\n",
              "    </tr>\n",
              "    <tr>\n",
              "      <th>2</th>\n",
              "      <td>Men between 20 and 65 years old</td>\n",
              "      <td>0.58</td>\n",
              "      <td>1.22</td>\n",
              "      <td>0.28</td>\n",
              "    </tr>\n",
              "    <tr>\n",
              "      <th>3</th>\n",
              "      <td>Women above 65 years old</td>\n",
              "      <td>1.63</td>\n",
              "      <td>2.76</td>\n",
              "      <td>0.96</td>\n",
              "    </tr>\n",
              "    <tr>\n",
              "      <th>4</th>\n",
              "      <td>Men above 65 years old</td>\n",
              "      <td>1.08</td>\n",
              "      <td>1.90</td>\n",
              "      <td>0.61</td>\n",
              "    </tr>\n",
              "  </tbody>\n",
              "</table>\n",
              "</div>"
            ],
            "text/plain": [
              "                               Group  Rate ratio (RR)  Upper CI  Lower CI\n",
              "0                                All             1.05      1.45      0.76\n",
              "1  Women between 20 and 65 years old             0.53      1.64      0.17\n",
              "2    Men between 20 and 65 years old             0.58      1.22      0.28\n",
              "3           Women above 65 years old             1.63      2.76      0.96\n",
              "4             Men above 65 years old             1.08      1.90      0.61"
            ]
          },
          "metadata": {},
          "execution_count": 129
        }
      ]
    },
    {
      "cell_type": "markdown",
      "metadata": {
        "id": "ligRmofhDNAy"
      },
      "source": [
        "###**Extreme humidity variation**"
      ]
    },
    {
      "cell_type": "markdown",
      "metadata": {
        "id": "m-bUo4ABDNAz"
      },
      "source": [
        "####**Sex**"
      ]
    },
    {
      "cell_type": "code",
      "metadata": {
        "colab": {
          "base_uri": "https://localhost:8080/"
        },
        "id": "D5VHnrd9DNA0",
        "outputId": "1681e219-beee-4b37-8a8d-95ac89daffef"
      },
      "source": [
        "rate_ratio(df, 'sex','above_humidity_range')"
      ],
      "execution_count": null,
      "outputs": [
        {
          "output_type": "execute_result",
          "data": {
            "text/html": [
              "<div>\n",
              "<style scoped>\n",
              "    .dataframe tbody tr th:only-of-type {\n",
              "        vertical-align: middle;\n",
              "    }\n",
              "\n",
              "    .dataframe tbody tr th {\n",
              "        vertical-align: top;\n",
              "    }\n",
              "\n",
              "    .dataframe thead th {\n",
              "        text-align: right;\n",
              "    }\n",
              "</style>\n",
              "<table border=\"1\" class=\"dataframe\">\n",
              "  <thead>\n",
              "    <tr style=\"text-align: right;\">\n",
              "      <th></th>\n",
              "      <th>Group</th>\n",
              "      <th>Rate ratio (RR)</th>\n",
              "      <th>Upper CI</th>\n",
              "      <th>Lower CI</th>\n",
              "    </tr>\n",
              "  </thead>\n",
              "  <tbody>\n",
              "    <tr>\n",
              "      <th>0</th>\n",
              "      <td>All</td>\n",
              "      <td>1.01</td>\n",
              "      <td>1.06</td>\n",
              "      <td>0.96</td>\n",
              "    </tr>\n",
              "    <tr>\n",
              "      <th>1</th>\n",
              "      <td>Women</td>\n",
              "      <td>1.04</td>\n",
              "      <td>1.12</td>\n",
              "      <td>0.96</td>\n",
              "    </tr>\n",
              "    <tr>\n",
              "      <th>2</th>\n",
              "      <td>Men</td>\n",
              "      <td>1.00</td>\n",
              "      <td>1.07</td>\n",
              "      <td>0.93</td>\n",
              "    </tr>\n",
              "  </tbody>\n",
              "</table>\n",
              "</div>"
            ],
            "text/plain": [
              "   Group  Rate ratio (RR)  Upper CI  Lower CI\n",
              "0    All             1.01      1.06      0.96\n",
              "1  Women             1.04      1.12      0.96\n",
              "2    Men             1.00      1.07      0.93"
            ]
          },
          "metadata": {},
          "execution_count": 130
        }
      ]
    },
    {
      "cell_type": "markdown",
      "metadata": {
        "id": "cRoLFp-aDNA1"
      },
      "source": [
        "####**Age**"
      ]
    },
    {
      "cell_type": "code",
      "metadata": {
        "colab": {
          "base_uri": "https://localhost:8080/"
        },
        "id": "flH_FkewDNA1",
        "outputId": "c5c6522a-8c48-4553-fc7a-f71e2382c3fc"
      },
      "source": [
        "rate_ratio(df, 'age','above_humidity_range')"
      ],
      "execution_count": null,
      "outputs": [
        {
          "output_type": "execute_result",
          "data": {
            "text/html": [
              "<div>\n",
              "<style scoped>\n",
              "    .dataframe tbody tr th:only-of-type {\n",
              "        vertical-align: middle;\n",
              "    }\n",
              "\n",
              "    .dataframe tbody tr th {\n",
              "        vertical-align: top;\n",
              "    }\n",
              "\n",
              "    .dataframe thead th {\n",
              "        text-align: right;\n",
              "    }\n",
              "</style>\n",
              "<table border=\"1\" class=\"dataframe\">\n",
              "  <thead>\n",
              "    <tr style=\"text-align: right;\">\n",
              "      <th></th>\n",
              "      <th>Group</th>\n",
              "      <th>Rate ratio (RR)</th>\n",
              "      <th>Upper CI</th>\n",
              "      <th>Lower CI</th>\n",
              "    </tr>\n",
              "  </thead>\n",
              "  <tbody>\n",
              "    <tr>\n",
              "      <th>0</th>\n",
              "      <td>All</td>\n",
              "      <td>1.01</td>\n",
              "      <td>1.06</td>\n",
              "      <td>0.96</td>\n",
              "    </tr>\n",
              "    <tr>\n",
              "      <th>1</th>\n",
              "      <td>Between 20 and 40 years old</td>\n",
              "      <td>0.99</td>\n",
              "      <td>1.27</td>\n",
              "      <td>0.77</td>\n",
              "    </tr>\n",
              "    <tr>\n",
              "      <th>2</th>\n",
              "      <td>Between 40 and 65 years old</td>\n",
              "      <td>1.04</td>\n",
              "      <td>1.12</td>\n",
              "      <td>0.96</td>\n",
              "    </tr>\n",
              "    <tr>\n",
              "      <th>3</th>\n",
              "      <td>Above 65 years old</td>\n",
              "      <td>1.00</td>\n",
              "      <td>1.08</td>\n",
              "      <td>0.93</td>\n",
              "    </tr>\n",
              "    <tr>\n",
              "      <th>4</th>\n",
              "      <td>Above 75 years old</td>\n",
              "      <td>1.09</td>\n",
              "      <td>1.21</td>\n",
              "      <td>0.98</td>\n",
              "    </tr>\n",
              "  </tbody>\n",
              "</table>\n",
              "</div>"
            ],
            "text/plain": [
              "                         Group  Rate ratio (RR)  Upper CI  Lower CI\n",
              "0                          All             1.01      1.06      0.96\n",
              "1  Between 20 and 40 years old             0.99      1.27      0.77\n",
              "2  Between 40 and 65 years old             1.04      1.12      0.96\n",
              "3           Above 65 years old             1.00      1.08      0.93\n",
              "4           Above 75 years old             1.09      1.21      0.98"
            ]
          },
          "metadata": {},
          "execution_count": 131
        }
      ]
    },
    {
      "cell_type": "markdown",
      "metadata": {
        "id": "k7AcoWlgDNA2"
      },
      "source": [
        "####**Age and sex**"
      ]
    },
    {
      "cell_type": "code",
      "metadata": {
        "colab": {
          "base_uri": "https://localhost:8080/",
          "height": 204
        },
        "id": "7w0dR_6uDNA3",
        "outputId": "abef9ce9-71a4-44c4-a43a-9a0c640315dc"
      },
      "source": [
        "rate_ratio(df, 'age and sex','above_humidity_range')"
      ],
      "execution_count": null,
      "outputs": [
        {
          "output_type": "execute_result",
          "data": {
            "text/html": [
              "<div>\n",
              "<style scoped>\n",
              "    .dataframe tbody tr th:only-of-type {\n",
              "        vertical-align: middle;\n",
              "    }\n",
              "\n",
              "    .dataframe tbody tr th {\n",
              "        vertical-align: top;\n",
              "    }\n",
              "\n",
              "    .dataframe thead th {\n",
              "        text-align: right;\n",
              "    }\n",
              "</style>\n",
              "<table border=\"1\" class=\"dataframe\">\n",
              "  <thead>\n",
              "    <tr style=\"text-align: right;\">\n",
              "      <th></th>\n",
              "      <th>Group</th>\n",
              "      <th>Rate ratio (RR)</th>\n",
              "      <th>Upper CI</th>\n",
              "      <th>Lower CI</th>\n",
              "    </tr>\n",
              "  </thead>\n",
              "  <tbody>\n",
              "    <tr>\n",
              "      <th>0</th>\n",
              "      <td>All</td>\n",
              "      <td>1.01</td>\n",
              "      <td>1.06</td>\n",
              "      <td>0.96</td>\n",
              "    </tr>\n",
              "    <tr>\n",
              "      <th>1</th>\n",
              "      <td>Women between 20 and 65 years old</td>\n",
              "      <td>1.07</td>\n",
              "      <td>1.20</td>\n",
              "      <td>0.95</td>\n",
              "    </tr>\n",
              "    <tr>\n",
              "      <th>2</th>\n",
              "      <td>Men between 20 and 65 years old</td>\n",
              "      <td>0.99</td>\n",
              "      <td>1.09</td>\n",
              "      <td>0.90</td>\n",
              "    </tr>\n",
              "    <tr>\n",
              "      <th>3</th>\n",
              "      <td>Women above 65 years old</td>\n",
              "      <td>1.01</td>\n",
              "      <td>1.12</td>\n",
              "      <td>0.91</td>\n",
              "    </tr>\n",
              "    <tr>\n",
              "      <th>4</th>\n",
              "      <td>Men above 65 years old</td>\n",
              "      <td>0.96</td>\n",
              "      <td>1.06</td>\n",
              "      <td>0.87</td>\n",
              "    </tr>\n",
              "  </tbody>\n",
              "</table>\n",
              "</div>"
            ],
            "text/plain": [
              "                               Group  Rate ratio (RR)  Upper CI  Lower CI\n",
              "0                                All             1.01      1.06      0.96\n",
              "1  Women between 20 and 65 years old             1.07      1.20      0.95\n",
              "2    Men between 20 and 65 years old             0.99      1.09      0.90\n",
              "3           Women above 65 years old             1.01      1.12      0.91\n",
              "4             Men above 65 years old             0.96      1.06      0.87"
            ]
          },
          "metadata": {},
          "execution_count": 132
        }
      ]
    },
    {
      "cell_type": "markdown",
      "metadata": {
        "id": "uTICs04kDZKk"
      },
      "source": [
        "###**Extreme humidity difference between days**"
      ]
    },
    {
      "cell_type": "markdown",
      "metadata": {
        "id": "lTR-jbAuDZKk"
      },
      "source": [
        "####**Sex**"
      ]
    },
    {
      "cell_type": "code",
      "metadata": {
        "colab": {
          "base_uri": "https://localhost:8080/"
        },
        "id": "1BKNZSkcDZKl",
        "outputId": "af26beed-f33c-4748-cbc7-9f800a3ffd45"
      },
      "source": [
        "rate_ratio(df, 'sex','above_humidity_dif')"
      ],
      "execution_count": null,
      "outputs": [
        {
          "output_type": "execute_result",
          "data": {
            "text/html": [
              "<div>\n",
              "<style scoped>\n",
              "    .dataframe tbody tr th:only-of-type {\n",
              "        vertical-align: middle;\n",
              "    }\n",
              "\n",
              "    .dataframe tbody tr th {\n",
              "        vertical-align: top;\n",
              "    }\n",
              "\n",
              "    .dataframe thead th {\n",
              "        text-align: right;\n",
              "    }\n",
              "</style>\n",
              "<table border=\"1\" class=\"dataframe\">\n",
              "  <thead>\n",
              "    <tr style=\"text-align: right;\">\n",
              "      <th></th>\n",
              "      <th>Group</th>\n",
              "      <th>Rate ratio (RR)</th>\n",
              "      <th>Upper CI</th>\n",
              "      <th>Lower CI</th>\n",
              "    </tr>\n",
              "  </thead>\n",
              "  <tbody>\n",
              "    <tr>\n",
              "      <th>0</th>\n",
              "      <td>All</td>\n",
              "      <td>0.99</td>\n",
              "      <td>1.16</td>\n",
              "      <td>0.84</td>\n",
              "    </tr>\n",
              "    <tr>\n",
              "      <th>1</th>\n",
              "      <td>Women</td>\n",
              "      <td>1.23</td>\n",
              "      <td>1.53</td>\n",
              "      <td>0.99</td>\n",
              "    </tr>\n",
              "    <tr>\n",
              "      <th>2</th>\n",
              "      <td>Men</td>\n",
              "      <td>0.98</td>\n",
              "      <td>1.24</td>\n",
              "      <td>0.78</td>\n",
              "    </tr>\n",
              "  </tbody>\n",
              "</table>\n",
              "</div>"
            ],
            "text/plain": [
              "   Group  Rate ratio (RR)  Upper CI  Lower CI\n",
              "0    All             0.99      1.16      0.84\n",
              "1  Women             1.23      1.53      0.99\n",
              "2    Men             0.98      1.24      0.78"
            ]
          },
          "metadata": {},
          "execution_count": 133
        }
      ]
    },
    {
      "cell_type": "markdown",
      "metadata": {
        "id": "q3liwQWjDZKm"
      },
      "source": [
        "####**Age**"
      ]
    },
    {
      "cell_type": "code",
      "metadata": {
        "colab": {
          "base_uri": "https://localhost:8080/"
        },
        "id": "mZv6TiKRDZKm",
        "outputId": "c70afda7-8fdd-40d4-c7bb-03c6513eb18d"
      },
      "source": [
        "rate_ratio(df, 'age','above_humidity_dif')"
      ],
      "execution_count": null,
      "outputs": [
        {
          "output_type": "execute_result",
          "data": {
            "text/html": [
              "<div>\n",
              "<style scoped>\n",
              "    .dataframe tbody tr th:only-of-type {\n",
              "        vertical-align: middle;\n",
              "    }\n",
              "\n",
              "    .dataframe tbody tr th {\n",
              "        vertical-align: top;\n",
              "    }\n",
              "\n",
              "    .dataframe thead th {\n",
              "        text-align: right;\n",
              "    }\n",
              "</style>\n",
              "<table border=\"1\" class=\"dataframe\">\n",
              "  <thead>\n",
              "    <tr style=\"text-align: right;\">\n",
              "      <th></th>\n",
              "      <th>Group</th>\n",
              "      <th>Rate ratio (RR)</th>\n",
              "      <th>Upper CI</th>\n",
              "      <th>Lower CI</th>\n",
              "    </tr>\n",
              "  </thead>\n",
              "  <tbody>\n",
              "    <tr>\n",
              "      <th>0</th>\n",
              "      <td>All</td>\n",
              "      <td>0.99</td>\n",
              "      <td>1.16</td>\n",
              "      <td>0.84</td>\n",
              "    </tr>\n",
              "    <tr>\n",
              "      <th>1</th>\n",
              "      <td>Between 20 and 40 years old</td>\n",
              "      <td>1.18</td>\n",
              "      <td>2.20</td>\n",
              "      <td>0.63</td>\n",
              "    </tr>\n",
              "    <tr>\n",
              "      <th>2</th>\n",
              "      <td>Between 40 and 65 years old</td>\n",
              "      <td>1.14</td>\n",
              "      <td>1.45</td>\n",
              "      <td>0.90</td>\n",
              "    </tr>\n",
              "    <tr>\n",
              "      <th>3</th>\n",
              "      <td>Above 65 years old</td>\n",
              "      <td>0.97</td>\n",
              "      <td>1.22</td>\n",
              "      <td>0.77</td>\n",
              "    </tr>\n",
              "    <tr>\n",
              "      <th>4</th>\n",
              "      <td>Above 75 years old</td>\n",
              "      <td>1.02</td>\n",
              "      <td>1.39</td>\n",
              "      <td>0.75</td>\n",
              "    </tr>\n",
              "  </tbody>\n",
              "</table>\n",
              "</div>"
            ],
            "text/plain": [
              "                         Group  Rate ratio (RR)  Upper CI  Lower CI\n",
              "0                          All             0.99      1.16      0.84\n",
              "1  Between 20 and 40 years old             1.18      2.20      0.63\n",
              "2  Between 40 and 65 years old             1.14      1.45      0.90\n",
              "3           Above 65 years old             0.97      1.22      0.77\n",
              "4           Above 75 years old             1.02      1.39      0.75"
            ]
          },
          "metadata": {},
          "execution_count": 134
        }
      ]
    },
    {
      "cell_type": "markdown",
      "metadata": {
        "id": "FOq2rqwrDZKm"
      },
      "source": [
        "####**Age and sex**"
      ]
    },
    {
      "cell_type": "code",
      "metadata": {
        "colab": {
          "base_uri": "https://localhost:8080/",
          "height": 204
        },
        "id": "igYlS6BeDZKn",
        "outputId": "ff5693df-931b-45ba-9a22-85a245d0e466"
      },
      "source": [
        "rate_ratio(df, 'age and sex','above_humidity_dif')"
      ],
      "execution_count": null,
      "outputs": [
        {
          "output_type": "execute_result",
          "data": {
            "text/html": [
              "<div>\n",
              "<style scoped>\n",
              "    .dataframe tbody tr th:only-of-type {\n",
              "        vertical-align: middle;\n",
              "    }\n",
              "\n",
              "    .dataframe tbody tr th {\n",
              "        vertical-align: top;\n",
              "    }\n",
              "\n",
              "    .dataframe thead th {\n",
              "        text-align: right;\n",
              "    }\n",
              "</style>\n",
              "<table border=\"1\" class=\"dataframe\">\n",
              "  <thead>\n",
              "    <tr style=\"text-align: right;\">\n",
              "      <th></th>\n",
              "      <th>Group</th>\n",
              "      <th>Rate ratio (RR)</th>\n",
              "      <th>Upper CI</th>\n",
              "      <th>Lower CI</th>\n",
              "    </tr>\n",
              "  </thead>\n",
              "  <tbody>\n",
              "    <tr>\n",
              "      <th>0</th>\n",
              "      <td>All</td>\n",
              "      <td>0.99</td>\n",
              "      <td>1.16</td>\n",
              "      <td>0.84</td>\n",
              "    </tr>\n",
              "    <tr>\n",
              "      <th>1</th>\n",
              "      <td>Women between 20 and 65 years old</td>\n",
              "      <td>1.22</td>\n",
              "      <td>1.71</td>\n",
              "      <td>0.87</td>\n",
              "    </tr>\n",
              "    <tr>\n",
              "      <th>2</th>\n",
              "      <td>Men between 20 and 65 years old</td>\n",
              "      <td>1.19</td>\n",
              "      <td>1.61</td>\n",
              "      <td>0.88</td>\n",
              "    </tr>\n",
              "    <tr>\n",
              "      <th>3</th>\n",
              "      <td>Women above 65 years old</td>\n",
              "      <td>1.32</td>\n",
              "      <td>1.76</td>\n",
              "      <td>0.99</td>\n",
              "    </tr>\n",
              "    <tr>\n",
              "      <th>4</th>\n",
              "      <td>Men above 65 years old</td>\n",
              "      <td>0.84</td>\n",
              "      <td>1.22</td>\n",
              "      <td>0.58</td>\n",
              "    </tr>\n",
              "  </tbody>\n",
              "</table>\n",
              "</div>"
            ],
            "text/plain": [
              "                               Group  Rate ratio (RR)  Upper CI  Lower CI\n",
              "0                                All             0.99      1.16      0.84\n",
              "1  Women between 20 and 65 years old             1.22      1.71      0.87\n",
              "2    Men between 20 and 65 years old             1.19      1.61      0.88\n",
              "3           Women above 65 years old             1.32      1.76      0.99\n",
              "4             Men above 65 years old             0.84      1.22      0.58"
            ]
          },
          "metadata": {},
          "execution_count": 135
        }
      ]
    },
    {
      "cell_type": "markdown",
      "metadata": {
        "id": "VfAfCy7N-w-y"
      },
      "source": [
        "## **References**\n",
        "\n",
        "CENTERS FOR DISEASE CONTROL AND PREVENTION (CDC).Principles ofEpidemiology in Public Health Practice, Third Edition An Introduction to AppliedEpidemiology and Biostatistics. Available at: <https://www.cdc.gov/csels/dsepd/ss1978/lesson3/section5.html>\n",
        "\n",
        "\n",
        "BOSTON UNIVERSITY SCHOOL OF PUBLIC HEALTH (SPH).Rate Ratios. Available at: <https://sphweb.bumc.bu.edu/otlt/MPH-Modules/PH717-QuantCore/PH717_ComparingFrequencies/PH717_ComparingFrequencies9.html>.\n",
        "\n",
        "\n"
      ]
    }
  ]
}