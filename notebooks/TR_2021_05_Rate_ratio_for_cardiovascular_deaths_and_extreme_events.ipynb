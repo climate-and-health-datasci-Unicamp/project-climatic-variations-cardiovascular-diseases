{
  "nbformat": 4,
  "nbformat_minor": 0,
  "metadata": {
    "colab": {
      "name": "TR_2021/05 -Rate ratio for cardiovascular deaths and extreme events.ipynb",
      "provenance": [],
      "collapsed_sections": [
        "_cZJPEYBMKfI",
        "owaOVG-i4Wsu",
        "Q5DbTHks495q",
        "iXVg9Zz85Jt0",
        "16SL9XjX5Rc4"
      ],
      "mount_file_id": "11X5JIRenmLGH9dMsG1WgEuIBmc1R2yta",
      "authorship_tag": "ABX9TyMT9DUalJ9ylyE84TlrAcvJ"
    },
    "kernelspec": {
      "name": "python3",
      "display_name": "Python 3"
    }
  },
  "cells": [
    {
      "cell_type": "markdown",
      "metadata": {
        "id": "_7WxcqgBRQB-"
      },
      "source": [
        "# **TR_2021/05 - Technical report: Rate ratio for cardiovascular deaths and extreme events**\n",
        "\n",
        "\n",
        "|Technical Report ID  |2021/05|\n",
        "|--|--|\n",
        "| Title |Rate ratio for cardiovascular deaths and extreme events|\n",
        "| Authors | Júlia De Lázari, Paula Dornhofer|\n",
        "| Creation Date| 2021-03|\n",
        "\n",
        "\n",
        "## Databases descriptions\n",
        "\n",
        "**inputs:** \n",
        "\n",
        "- obitos_circulatorio.csv: Dataframe of deaths due to cardiovascular diseases from 2001 to 2019 (only data up to 2018 was used, to match the climate data).\n",
        "\n",
        "- EV_temperature.csv, EV_pressure.csv, EV_humidity.csv: Dataframes with the extreme events computed. Viracopos data was used for this.\n",
        "\n",
        "## Analysis\n",
        "\n",
        "This report presents an analysis of the the _rate ratio_ for the [extreme climate events](https://github.com/climate-and-health-datasci-Unicamp/project-climatic-variations-cardiovascular-diseases/blob/main/notebooks/TR_2020_05_Extreme_climatic_events_for_Campinas.ipynb).\n",
        "\n",
        "The analysis was conducted for the total data and for some stratifications (sex, age, age and sex).\n",
        "\n",
        "\n",
        "\n"
      ]
    },
    {
      "cell_type": "markdown",
      "metadata": {
        "id": "O_KNUbbG9v_C"
      },
      "source": [
        "##**Rate ratio**\n",
        "\n",
        "Rate ratio is a relative difference measure used to compare the incidence rates of events occurring at any given point in time, frequently used in epidemiology[CDC].\n",
        "\n",
        "It is given by **RR = rate ratio = incidence rate 1/incidence rate 2**\n",
        "\n",
        "with **incidence rate = number of events/population size**\n",
        "\n",
        "The confidence interval is given by **log(RR) - [1.96 x SE(log(RR))] a log(RR) + [1.96 x SE(log(RR))]**. SE is the abreviation for standard error [SPH].\n",
        "\n",
        "In our case **RR = (number of deaths at days under extreme climatic events/number of days with extreme climatic events)/(number of deaths at control days/number of control days)**\n",
        "\n",
        "Its interpretation is similar to that of the _risk ratio_. A rate ratio of 1.0 indicates equal rates in the two groups. A rate ratio greater than 1.0 indicates increased risk for the group in the numerator. A rate ratio less than 1.0 indicates descreased risk for the group in the numerator."
      ]
    },
    {
      "cell_type": "markdown",
      "metadata": {
        "id": "_cZJPEYBMKfI"
      },
      "source": [
        "##**Import libraries**"
      ]
    },
    {
      "cell_type": "code",
      "metadata": {
        "colab": {
          "base_uri": "https://localhost:8080/"
        },
        "id": "Kl_o0DIMRQCE",
        "outputId": "2d9bc852-4e4e-4816-ebf6-d029dfa61dde"
      },
      "source": [
        "#-------------------------------------------------------------------#\n",
        "#                       Import libraries                            #\n",
        "#-------------------------------------------------------------------#\n",
        "import pandas as pd\n",
        "import numpy as np\n",
        "import datetime\n",
        "import more_itertools as mit\n",
        "import datetime\n",
        "import statistics as stat\n",
        "import matplotlib.pyplot as plt\n",
        "from matplotlib.ticker import PercentFormatter\n",
        "import scipy\n",
        "import math\n",
        "import seaborn as sns\n",
        "import pylab\n",
        "from datetime import timedelta\n",
        "from calendar import isleap\n",
        "from google.colab import drive\n",
        "from google.colab import files\n",
        "\n",
        "drive.mount('/content/drive')\n",
        "\n",
        "pd.options.mode.chained_assignment = None"
      ],
      "execution_count": null,
      "outputs": [
        {
          "output_type": "stream",
          "text": [
            "Mounted at /content/drive\n"
          ],
          "name": "stdout"
        }
      ]
    },
    {
      "cell_type": "markdown",
      "metadata": {
        "id": "Bj7aFMkmRQCG"
      },
      "source": [
        "## **Load and merge dataframes**"
      ]
    },
    {
      "cell_type": "code",
      "metadata": {
        "id": "7vYzFqgKRQCG"
      },
      "source": [
        "#-------------------------------------------------------------------#\n",
        "#                      cardiovascular deaths                           #\n",
        "#-------------------------------------------------------------------#\n",
        "\n",
        "df_obitos = pd.read_csv('obitos_circulatorio.csv')\n",
        "df_obitos = df_obitos.drop(columns = {'Unnamed: 0','CODMUNRES','CODMUNOCOR','COMPLRES','Descrição CID',\n",
        "                                      'CAUSABAS','LINHAA','LINHAB','LINHAC','LINHAD'}) #drop unneded columns\n",
        "df_obitos = df_obitos.rename(columns = {'DTOBITO':'DATE'})\n",
        "df_obitos = df_obitos[df_obitos['DATE']<='2018-12-31'] #period for cliamte data\n",
        "df_obitos = df_obitos[(df_obitos.DATE !='2000-02-29')&(df_obitos.DATE !='2004-02-29')&(df_obitos.DATE !='2008-02-29')&(df_obitos.DATE !='2012-02-29')&(df_obitos.DATE !='2016-02-29')] #remove leap year dates (02-29)"
      ],
      "execution_count": null,
      "outputs": []
    },
    {
      "cell_type": "code",
      "metadata": {
        "id": "U50cC2w0RQCH"
      },
      "source": [
        "#-------------------------------------------------------------------#\n",
        "#                  Extreme climatic variations                      #\n",
        "#-------------------------------------------------------------------#\n",
        "df_temp =  pd.read_csv('EV_temperature.csv')\n",
        "df_temp = df_temp.drop(columns = {'Unnamed: 0','DAY365'})\n",
        "df_temp = df_temp[df_temp['DATE']>'2001-01-01']\n",
        "\n",
        "df_humidity =  pd.read_csv('EV_humidity.csv')\n",
        "df_humidity = df_humidity.drop(columns = {'Unnamed: 0','DAY365'})\n",
        "df_humidity = df_humidity[df_humidity['DATE']>'2001-01-01']\n",
        "\n",
        "df_pressure =  pd.read_csv('EV_pressure.csv')\n",
        "df_pressure = df_pressure.drop(columns = {'Unnamed: 0','DAY365'})\n",
        "df_pressure = df_pressure[df_pressure['DATE']>'2001-01-01']"
      ],
      "execution_count": null,
      "outputs": []
    },
    {
      "cell_type": "code",
      "metadata": {
        "id": "wykqMU8BRQCH"
      },
      "source": [
        "#-------------------------------------------------------------------#\n",
        "#              Merge health and climate dataframes                  #\n",
        "#-------------------------------------------------------------------#\n",
        "\n",
        "df_temp = pd.merge(df_temp,df_obitos, on='DATE', how='outer')\n",
        "\n",
        "df_humidity = pd.merge(df_humidity,df_obitos, on='DATE', how='outer')\n",
        "\n",
        "df_pressure = pd.merge(df_pressure,df_obitos, on='DATE', how='outer')"
      ],
      "execution_count": null,
      "outputs": []
    },
    {
      "cell_type": "markdown",
      "metadata": {
        "id": "MZtAQw07RQCI"
      },
      "source": [
        "## **Functions**\n",
        "\n",
        "Automatize some repeated operations along the notebook\n",
        "- stratify functions: different stratifications of the dataframe\n",
        "- rate_ratio: compute the rate ratio for the desired stratification"
      ]
    },
    {
      "cell_type": "markdown",
      "metadata": {
        "id": "VbeozYITLm1D"
      },
      "source": [
        "###**Stratify functions**"
      ]
    },
    {
      "cell_type": "code",
      "metadata": {
        "id": "fwVt-p6cHmth"
      },
      "source": [
        "# Stratify sex\n",
        "def stratify_sex(database):\n",
        "  women = database[database['SEXO']=='F']\n",
        "  men = database[database['SEXO']=='M']\n",
        "\n",
        "  dataframes = [database, women, men]\n",
        "  df_names = [\"All\", \"Women\", \"Men\"]\n",
        "\n",
        "  return dataframes, df_names"
      ],
      "execution_count": null,
      "outputs": []
    },
    {
      "cell_type": "code",
      "metadata": {
        "id": "YN_lpaJ_F8E9"
      },
      "source": [
        "#Stratify age\n",
        "def stratify_age(database):\n",
        "  #less_20 = database[(database['IDADE'] < 20)]  \n",
        "  between_20_40 = database[(database['IDADE'] >= 20) & (database['IDADE'] < 40)]\n",
        "  between_40_65 = database[(database['IDADE'] >= 40) & (database['IDADE'] < 65)]   \n",
        "  over_65 = database[(database['IDADE'] > 64)]   \n",
        "  over_75 = database[(database['IDADE'] > 75)]\n",
        "\n",
        "  dataframes  = [database, between_20_40, between_40_65, over_65, over_75] \n",
        "  df_names = [\"All\", \"Between 20 and 40 years old\",\"Between 40 and 65 years old\",\"Above 65 years old\",\"Above 75 years old\"]\n",
        "\n",
        "  return dataframes, df_names"
      ],
      "execution_count": null,
      "outputs": []
    },
    {
      "cell_type": "code",
      "metadata": {
        "id": "MmEHzGUVD5fd"
      },
      "source": [
        "# Stratify age sex\n",
        "def stratify_age_sex(database): \n",
        "    between_20_65_F = database[(database['IDADE'] >= 20) & (database['IDADE'] < 65)  & (database['SEXO']==\"F\")]\n",
        "    between_20_65_M = database[(database['IDADE'] >= 20) & (database['IDADE'] < 65) & (database['SEXO']==\"M\")]   \n",
        "    over_65_F = database[(database['IDADE'] > 64) & (database['SEXO']==\"F\")]   \n",
        "    over_65_M = database[(database['IDADE'] > 64) & (database['SEXO']==\"M\")]     \n",
        "\n",
        "    dataframes = [database, between_20_65_F, between_20_65_M,over_65_F,over_65_M]\n",
        "    df_names = [\"All\", \"Women between 20 and 65 years old\",\"Men between 20 and 65 years old\",\"Women above 65 years old\",\"Men above 65 years old\"]\n",
        "\n",
        "    return dataframes, df_names"
      ],
      "execution_count": null,
      "outputs": []
    },
    {
      "cell_type": "code",
      "metadata": {
        "id": "oC5rsz6l4k0c"
      },
      "source": [
        "# Stratify race\n",
        "# 1:white, 2:black, 3:yellow, 4:brown, 5:indian\n",
        "\n",
        "def stratify_race(database):\n",
        "  white = database[database['RACACOR']==1.0]\n",
        "  black = database[database['RACACOR']==2.0]\n",
        "  yellow =  database[database['RACACOR']==3.0]\n",
        "  brown =  database[database['RACACOR']==4.0]\n",
        "  indian = database[database['RACACOR']==3.0]\n",
        "\n",
        "  dataframes = [database, white, black, yellow, brown, indian]\n",
        "  df_names = [\"All\", \"White\",\"Black\",\"Yellow\",\"Brown\",\"Indian\"]\n",
        "\n",
        "  return dataframes, df_names"
      ],
      "execution_count": null,
      "outputs": []
    },
    {
      "cell_type": "markdown",
      "metadata": {
        "id": "ijop1R5I4R5G"
      },
      "source": [
        "###**Rate ratio function**"
      ]
    },
    {
      "cell_type": "code",
      "metadata": {
        "id": "wZUKc_R84SN5"
      },
      "source": [
        "def rate_ratio(db, stratify,event):\n",
        "  database = db.copy()\n",
        "\n",
        "  #subsets depending on the stratification\n",
        "  if (stratify == 'age and sex'): \n",
        "    dataframes, df_names = stratify_age_sex(database)\n",
        "  elif (stratify == 'sex'): \n",
        "    dataframes, df_names = stratify_sex(database)\n",
        "  elif (stratify == 'age'): \n",
        "    dataframes, df_names = stratify_age(database)\n",
        "  elif (stratify == 'race'): \n",
        "    dataframes, df_names = stratify_race(database)\n",
        "  \n",
        "  #aux variable \n",
        "  list_rr = []\n",
        "  list_up_ci = []\n",
        "  list_lr_ci = []\n",
        "\n",
        "  for df in dataframes:\n",
        "    #column for number of hospitalizations\n",
        "    df['N_hosp'] = np.where(df['CID'].isnull(),0,df.groupby(['DATE']).DATE.transform('count'))\n",
        "    df = df.drop_duplicates('DATE',keep='first')\n",
        "    df = df.sort_values('DATE')\n",
        "      \n",
        "    number_event = len(df[df[event] ==1]) # number of days with a extreme event\n",
        "    number_control = len(df[df[event] ==0]) # number of days without a extreme event\n",
        "\n",
        "    hosp_event = df.N_hosp[df[event] ==1].sum() # total number of hosp during a extreme event\n",
        "    hosp_control = df.N_hosp[df[event] == 0].sum() # total number of hosp during control days\n",
        "\n",
        "    # Rate ratio and confidence interval\n",
        "    RR = round((hosp_event/number_event)/(hosp_control/number_control), 2) # compute rate ratio\n",
        "    SE = math.sqrt(1/hosp_event + 1/hosp_control)\n",
        "\n",
        "    upper_CI = round(np.exp(math.log(RR)+1.96*SE),2) #upper value\n",
        "    lower_CI = round(np.exp(math.log(RR)-1.96*SE),2) #lower value\n",
        "\n",
        "    # Append values in the list\n",
        "    list_rr.append(RR)\n",
        "    list_up_ci.append(upper_CI)\n",
        "    list_lr_ci.append(lower_CI)\n",
        "\n",
        "  #Create table\n",
        "  table = pd.DataFrame()\n",
        "  table['Group'] = df_names\n",
        "  table['Rate ratio (RR)'] = list_rr\n",
        "  table['Upper CI'] = list_up_ci\n",
        "  table['Lower CI'] = list_lr_ci\n",
        "\n",
        "  return table"
      ],
      "execution_count": null,
      "outputs": []
    },
    {
      "cell_type": "markdown",
      "metadata": {
        "id": "_K61BRiyzgaf"
      },
      "source": [
        "##**Temperature**"
      ]
    },
    {
      "cell_type": "markdown",
      "metadata": {
        "id": "Id9OTAvHA-ta"
      },
      "source": [
        "###**Extreme thermal range**"
      ]
    },
    {
      "cell_type": "markdown",
      "metadata": {
        "id": "b6fIkdp_BTA9"
      },
      "source": [
        "####**Sex**"
      ]
    },
    {
      "cell_type": "code",
      "metadata": {
        "colab": {
          "base_uri": "https://localhost:8080/",
          "height": 142
        },
        "id": "ErkD46ZNziah",
        "outputId": "493b509f-58f8-43ea-e521-d0ff647d604e"
      },
      "source": [
        "rate_ratio(df_temp, 'sex','above_pct_range')"
      ],
      "execution_count": null,
      "outputs": [
        {
          "output_type": "execute_result",
          "data": {
            "text/html": [
              "<div>\n",
              "<style scoped>\n",
              "    .dataframe tbody tr th:only-of-type {\n",
              "        vertical-align: middle;\n",
              "    }\n",
              "\n",
              "    .dataframe tbody tr th {\n",
              "        vertical-align: top;\n",
              "    }\n",
              "\n",
              "    .dataframe thead th {\n",
              "        text-align: right;\n",
              "    }\n",
              "</style>\n",
              "<table border=\"1\" class=\"dataframe\">\n",
              "  <thead>\n",
              "    <tr style=\"text-align: right;\">\n",
              "      <th></th>\n",
              "      <th>Group</th>\n",
              "      <th>Rate ratio (RR)</th>\n",
              "      <th>Upper CI</th>\n",
              "      <th>Lower CI</th>\n",
              "    </tr>\n",
              "  </thead>\n",
              "  <tbody>\n",
              "    <tr>\n",
              "      <th>0</th>\n",
              "      <td>All</td>\n",
              "      <td>1.01</td>\n",
              "      <td>1.04</td>\n",
              "      <td>0.98</td>\n",
              "    </tr>\n",
              "    <tr>\n",
              "      <th>1</th>\n",
              "      <td>Women</td>\n",
              "      <td>0.99</td>\n",
              "      <td>1.03</td>\n",
              "      <td>0.95</td>\n",
              "    </tr>\n",
              "    <tr>\n",
              "      <th>2</th>\n",
              "      <td>Men</td>\n",
              "      <td>1.03</td>\n",
              "      <td>1.07</td>\n",
              "      <td>0.99</td>\n",
              "    </tr>\n",
              "  </tbody>\n",
              "</table>\n",
              "</div>"
            ],
            "text/plain": [
              "   Group  Rate ratio (RR)  Upper CI  Lower CI\n",
              "0    All             1.01      1.04      0.98\n",
              "1  Women             0.99      1.03      0.95\n",
              "2    Men             1.03      1.07      0.99"
            ]
          },
          "metadata": {
            "tags": []
          },
          "execution_count": 11
        }
      ]
    },
    {
      "cell_type": "markdown",
      "metadata": {
        "id": "Y5AzUFoqBeFv"
      },
      "source": [
        "####**Age**"
      ]
    },
    {
      "cell_type": "code",
      "metadata": {
        "colab": {
          "base_uri": "https://localhost:8080/",
          "height": 204
        },
        "id": "fAbQQDjOBfcf",
        "outputId": "06d195a9-4fb4-4c35-85cd-49f6e015d457"
      },
      "source": [
        "rate_ratio(df_temp, 'age','above_pct_range')"
      ],
      "execution_count": null,
      "outputs": [
        {
          "output_type": "execute_result",
          "data": {
            "text/html": [
              "<div>\n",
              "<style scoped>\n",
              "    .dataframe tbody tr th:only-of-type {\n",
              "        vertical-align: middle;\n",
              "    }\n",
              "\n",
              "    .dataframe tbody tr th {\n",
              "        vertical-align: top;\n",
              "    }\n",
              "\n",
              "    .dataframe thead th {\n",
              "        text-align: right;\n",
              "    }\n",
              "</style>\n",
              "<table border=\"1\" class=\"dataframe\">\n",
              "  <thead>\n",
              "    <tr style=\"text-align: right;\">\n",
              "      <th></th>\n",
              "      <th>Group</th>\n",
              "      <th>Rate ratio (RR)</th>\n",
              "      <th>Upper CI</th>\n",
              "      <th>Lower CI</th>\n",
              "    </tr>\n",
              "  </thead>\n",
              "  <tbody>\n",
              "    <tr>\n",
              "      <th>0</th>\n",
              "      <td>All</td>\n",
              "      <td>1.01</td>\n",
              "      <td>1.04</td>\n",
              "      <td>0.98</td>\n",
              "    </tr>\n",
              "    <tr>\n",
              "      <th>1</th>\n",
              "      <td>Between 20 and 40 years old</td>\n",
              "      <td>1.01</td>\n",
              "      <td>1.16</td>\n",
              "      <td>0.88</td>\n",
              "    </tr>\n",
              "    <tr>\n",
              "      <th>2</th>\n",
              "      <td>Between 40 and 65 years old</td>\n",
              "      <td>0.97</td>\n",
              "      <td>1.02</td>\n",
              "      <td>0.92</td>\n",
              "    </tr>\n",
              "    <tr>\n",
              "      <th>3</th>\n",
              "      <td>Above 65 years old</td>\n",
              "      <td>1.01</td>\n",
              "      <td>1.04</td>\n",
              "      <td>0.98</td>\n",
              "    </tr>\n",
              "    <tr>\n",
              "      <th>4</th>\n",
              "      <td>Above 75 years old</td>\n",
              "      <td>1.01</td>\n",
              "      <td>1.05</td>\n",
              "      <td>0.97</td>\n",
              "    </tr>\n",
              "  </tbody>\n",
              "</table>\n",
              "</div>"
            ],
            "text/plain": [
              "                         Group  Rate ratio (RR)  Upper CI  Lower CI\n",
              "0                          All             1.01      1.04      0.98\n",
              "1  Between 20 and 40 years old             1.01      1.16      0.88\n",
              "2  Between 40 and 65 years old             0.97      1.02      0.92\n",
              "3           Above 65 years old             1.01      1.04      0.98\n",
              "4           Above 75 years old             1.01      1.05      0.97"
            ]
          },
          "metadata": {
            "tags": []
          },
          "execution_count": 12
        }
      ]
    },
    {
      "cell_type": "markdown",
      "metadata": {
        "id": "3SKd-xfzBhqs"
      },
      "source": [
        "####**Age and sex**"
      ]
    },
    {
      "cell_type": "code",
      "metadata": {
        "colab": {
          "base_uri": "https://localhost:8080/",
          "height": 204
        },
        "id": "-JkDz40hBjRj",
        "outputId": "eeaba5ce-119d-448e-98b5-f3d7e1cad05f"
      },
      "source": [
        "rate_ratio(df_temp, 'age and sex','above_pct_range')"
      ],
      "execution_count": null,
      "outputs": [
        {
          "output_type": "execute_result",
          "data": {
            "text/html": [
              "<div>\n",
              "<style scoped>\n",
              "    .dataframe tbody tr th:only-of-type {\n",
              "        vertical-align: middle;\n",
              "    }\n",
              "\n",
              "    .dataframe tbody tr th {\n",
              "        vertical-align: top;\n",
              "    }\n",
              "\n",
              "    .dataframe thead th {\n",
              "        text-align: right;\n",
              "    }\n",
              "</style>\n",
              "<table border=\"1\" class=\"dataframe\">\n",
              "  <thead>\n",
              "    <tr style=\"text-align: right;\">\n",
              "      <th></th>\n",
              "      <th>Group</th>\n",
              "      <th>Rate ratio (RR)</th>\n",
              "      <th>Upper CI</th>\n",
              "      <th>Lower CI</th>\n",
              "    </tr>\n",
              "  </thead>\n",
              "  <tbody>\n",
              "    <tr>\n",
              "      <th>0</th>\n",
              "      <td>All</td>\n",
              "      <td>1.01</td>\n",
              "      <td>1.04</td>\n",
              "      <td>0.98</td>\n",
              "    </tr>\n",
              "    <tr>\n",
              "      <th>1</th>\n",
              "      <td>Women between 20 and 65 years old</td>\n",
              "      <td>0.98</td>\n",
              "      <td>1.06</td>\n",
              "      <td>0.90</td>\n",
              "    </tr>\n",
              "    <tr>\n",
              "      <th>2</th>\n",
              "      <td>Men between 20 and 65 years old</td>\n",
              "      <td>0.97</td>\n",
              "      <td>1.03</td>\n",
              "      <td>0.91</td>\n",
              "    </tr>\n",
              "    <tr>\n",
              "      <th>3</th>\n",
              "      <td>Women above 65 years old</td>\n",
              "      <td>0.99</td>\n",
              "      <td>1.04</td>\n",
              "      <td>0.94</td>\n",
              "    </tr>\n",
              "    <tr>\n",
              "      <th>4</th>\n",
              "      <td>Men above 65 years old</td>\n",
              "      <td>1.03</td>\n",
              "      <td>1.08</td>\n",
              "      <td>0.98</td>\n",
              "    </tr>\n",
              "  </tbody>\n",
              "</table>\n",
              "</div>"
            ],
            "text/plain": [
              "                               Group  Rate ratio (RR)  Upper CI  Lower CI\n",
              "0                                All             1.01      1.04      0.98\n",
              "1  Women between 20 and 65 years old             0.98      1.06      0.90\n",
              "2    Men between 20 and 65 years old             0.97      1.03      0.91\n",
              "3           Women above 65 years old             0.99      1.04      0.94\n",
              "4             Men above 65 years old             1.03      1.08      0.98"
            ]
          },
          "metadata": {
            "tags": []
          },
          "execution_count": 13
        }
      ]
    },
    {
      "cell_type": "markdown",
      "metadata": {
        "id": "owaOVG-i4Wsu"
      },
      "source": [
        "####**Race**"
      ]
    },
    {
      "cell_type": "code",
      "metadata": {
        "id": "1h4qKFf_4Yvi",
        "colab": {
          "base_uri": "https://localhost:8080/",
          "height": 235
        },
        "outputId": "6f1f2939-5ff5-4ce4-c0ce-900c14bd7808"
      },
      "source": [
        "rate_ratio(df_temp, 'race','above_pct_range')"
      ],
      "execution_count": null,
      "outputs": [
        {
          "output_type": "execute_result",
          "data": {
            "text/html": [
              "<div>\n",
              "<style scoped>\n",
              "    .dataframe tbody tr th:only-of-type {\n",
              "        vertical-align: middle;\n",
              "    }\n",
              "\n",
              "    .dataframe tbody tr th {\n",
              "        vertical-align: top;\n",
              "    }\n",
              "\n",
              "    .dataframe thead th {\n",
              "        text-align: right;\n",
              "    }\n",
              "</style>\n",
              "<table border=\"1\" class=\"dataframe\">\n",
              "  <thead>\n",
              "    <tr style=\"text-align: right;\">\n",
              "      <th></th>\n",
              "      <th>Group</th>\n",
              "      <th>Rate ratio (RR)</th>\n",
              "      <th>Upper CI</th>\n",
              "      <th>Lower CI</th>\n",
              "    </tr>\n",
              "  </thead>\n",
              "  <tbody>\n",
              "    <tr>\n",
              "      <th>0</th>\n",
              "      <td>All</td>\n",
              "      <td>1.01</td>\n",
              "      <td>1.04</td>\n",
              "      <td>0.98</td>\n",
              "    </tr>\n",
              "    <tr>\n",
              "      <th>1</th>\n",
              "      <td>White</td>\n",
              "      <td>1.02</td>\n",
              "      <td>1.05</td>\n",
              "      <td>0.99</td>\n",
              "    </tr>\n",
              "    <tr>\n",
              "      <th>2</th>\n",
              "      <td>Black</td>\n",
              "      <td>0.95</td>\n",
              "      <td>1.06</td>\n",
              "      <td>0.85</td>\n",
              "    </tr>\n",
              "    <tr>\n",
              "      <th>3</th>\n",
              "      <td>Yellow</td>\n",
              "      <td>1.00</td>\n",
              "      <td>1.29</td>\n",
              "      <td>0.78</td>\n",
              "    </tr>\n",
              "    <tr>\n",
              "      <th>4</th>\n",
              "      <td>Brown</td>\n",
              "      <td>0.98</td>\n",
              "      <td>1.06</td>\n",
              "      <td>0.90</td>\n",
              "    </tr>\n",
              "    <tr>\n",
              "      <th>5</th>\n",
              "      <td>Indian</td>\n",
              "      <td>1.00</td>\n",
              "      <td>1.29</td>\n",
              "      <td>0.78</td>\n",
              "    </tr>\n",
              "  </tbody>\n",
              "</table>\n",
              "</div>"
            ],
            "text/plain": [
              "    Group  Rate ratio (RR)  Upper CI  Lower CI\n",
              "0     All             1.01      1.04      0.98\n",
              "1   White             1.02      1.05      0.99\n",
              "2   Black             0.95      1.06      0.85\n",
              "3  Yellow             1.00      1.29      0.78\n",
              "4   Brown             0.98      1.06      0.90\n",
              "5  Indian             1.00      1.29      0.78"
            ]
          },
          "metadata": {
            "tags": []
          },
          "execution_count": 14
        }
      ]
    },
    {
      "cell_type": "markdown",
      "metadata": {
        "id": "Kse4BoEtBwg2"
      },
      "source": [
        "###**Extreme temperature difference between days**"
      ]
    },
    {
      "cell_type": "markdown",
      "metadata": {
        "id": "WAxCpydHBwg2"
      },
      "source": [
        "####**Sex**"
      ]
    },
    {
      "cell_type": "code",
      "metadata": {
        "colab": {
          "base_uri": "https://localhost:8080/",
          "height": 142
        },
        "id": "tvt-xM7uBwg3",
        "outputId": "1c399383-edc9-4768-d98c-ad058e7d63e1"
      },
      "source": [
        "rate_ratio(df_temp, 'sex','above_pct_dif')"
      ],
      "execution_count": null,
      "outputs": [
        {
          "output_type": "execute_result",
          "data": {
            "text/html": [
              "<div>\n",
              "<style scoped>\n",
              "    .dataframe tbody tr th:only-of-type {\n",
              "        vertical-align: middle;\n",
              "    }\n",
              "\n",
              "    .dataframe tbody tr th {\n",
              "        vertical-align: top;\n",
              "    }\n",
              "\n",
              "    .dataframe thead th {\n",
              "        text-align: right;\n",
              "    }\n",
              "</style>\n",
              "<table border=\"1\" class=\"dataframe\">\n",
              "  <thead>\n",
              "    <tr style=\"text-align: right;\">\n",
              "      <th></th>\n",
              "      <th>Group</th>\n",
              "      <th>Rate ratio (RR)</th>\n",
              "      <th>Upper CI</th>\n",
              "      <th>Lower CI</th>\n",
              "    </tr>\n",
              "  </thead>\n",
              "  <tbody>\n",
              "    <tr>\n",
              "      <th>0</th>\n",
              "      <td>All</td>\n",
              "      <td>0.89</td>\n",
              "      <td>0.96</td>\n",
              "      <td>0.82</td>\n",
              "    </tr>\n",
              "    <tr>\n",
              "      <th>1</th>\n",
              "      <td>Women</td>\n",
              "      <td>0.91</td>\n",
              "      <td>1.02</td>\n",
              "      <td>0.81</td>\n",
              "    </tr>\n",
              "    <tr>\n",
              "      <th>2</th>\n",
              "      <td>Men</td>\n",
              "      <td>0.84</td>\n",
              "      <td>0.94</td>\n",
              "      <td>0.75</td>\n",
              "    </tr>\n",
              "  </tbody>\n",
              "</table>\n",
              "</div>"
            ],
            "text/plain": [
              "   Group  Rate ratio (RR)  Upper CI  Lower CI\n",
              "0    All             0.89      0.96      0.82\n",
              "1  Women             0.91      1.02      0.81\n",
              "2    Men             0.84      0.94      0.75"
            ]
          },
          "metadata": {
            "tags": []
          },
          "execution_count": 15
        }
      ]
    },
    {
      "cell_type": "markdown",
      "metadata": {
        "id": "C9LetOOuBwg3"
      },
      "source": [
        "####**Age**"
      ]
    },
    {
      "cell_type": "code",
      "metadata": {
        "colab": {
          "base_uri": "https://localhost:8080/",
          "height": 204
        },
        "id": "R75Teg3TBwg3",
        "outputId": "55bc5d62-8b96-41cc-ddc7-c4d9dc202bbc"
      },
      "source": [
        "rate_ratio(df_temp, 'age','above_pct_dif')"
      ],
      "execution_count": null,
      "outputs": [
        {
          "output_type": "execute_result",
          "data": {
            "text/html": [
              "<div>\n",
              "<style scoped>\n",
              "    .dataframe tbody tr th:only-of-type {\n",
              "        vertical-align: middle;\n",
              "    }\n",
              "\n",
              "    .dataframe tbody tr th {\n",
              "        vertical-align: top;\n",
              "    }\n",
              "\n",
              "    .dataframe thead th {\n",
              "        text-align: right;\n",
              "    }\n",
              "</style>\n",
              "<table border=\"1\" class=\"dataframe\">\n",
              "  <thead>\n",
              "    <tr style=\"text-align: right;\">\n",
              "      <th></th>\n",
              "      <th>Group</th>\n",
              "      <th>Rate ratio (RR)</th>\n",
              "      <th>Upper CI</th>\n",
              "      <th>Lower CI</th>\n",
              "    </tr>\n",
              "  </thead>\n",
              "  <tbody>\n",
              "    <tr>\n",
              "      <th>0</th>\n",
              "      <td>All</td>\n",
              "      <td>0.89</td>\n",
              "      <td>0.96</td>\n",
              "      <td>0.82</td>\n",
              "    </tr>\n",
              "    <tr>\n",
              "      <th>1</th>\n",
              "      <td>Between 20 and 40 years old</td>\n",
              "      <td>1.03</td>\n",
              "      <td>1.53</td>\n",
              "      <td>0.69</td>\n",
              "    </tr>\n",
              "    <tr>\n",
              "      <th>2</th>\n",
              "      <td>Between 40 and 65 years old</td>\n",
              "      <td>0.91</td>\n",
              "      <td>1.06</td>\n",
              "      <td>0.78</td>\n",
              "    </tr>\n",
              "    <tr>\n",
              "      <th>3</th>\n",
              "      <td>Above 65 years old</td>\n",
              "      <td>0.87</td>\n",
              "      <td>0.96</td>\n",
              "      <td>0.79</td>\n",
              "    </tr>\n",
              "    <tr>\n",
              "      <th>4</th>\n",
              "      <td>Above 75 years old</td>\n",
              "      <td>0.85</td>\n",
              "      <td>0.96</td>\n",
              "      <td>0.75</td>\n",
              "    </tr>\n",
              "  </tbody>\n",
              "</table>\n",
              "</div>"
            ],
            "text/plain": [
              "                         Group  Rate ratio (RR)  Upper CI  Lower CI\n",
              "0                          All             0.89      0.96      0.82\n",
              "1  Between 20 and 40 years old             1.03      1.53      0.69\n",
              "2  Between 40 and 65 years old             0.91      1.06      0.78\n",
              "3           Above 65 years old             0.87      0.96      0.79\n",
              "4           Above 75 years old             0.85      0.96      0.75"
            ]
          },
          "metadata": {
            "tags": []
          },
          "execution_count": 16
        }
      ]
    },
    {
      "cell_type": "markdown",
      "metadata": {
        "id": "5fJY5NneBwg4"
      },
      "source": [
        "####**Age and sex**"
      ]
    },
    {
      "cell_type": "code",
      "metadata": {
        "colab": {
          "base_uri": "https://localhost:8080/",
          "height": 204
        },
        "id": "7hWLM2ajBwg4",
        "outputId": "0155663d-eb16-4c45-b97c-a364a840afa4"
      },
      "source": [
        "rate_ratio(df_temp, 'age and sex','above_pct_dif')"
      ],
      "execution_count": null,
      "outputs": [
        {
          "output_type": "execute_result",
          "data": {
            "text/html": [
              "<div>\n",
              "<style scoped>\n",
              "    .dataframe tbody tr th:only-of-type {\n",
              "        vertical-align: middle;\n",
              "    }\n",
              "\n",
              "    .dataframe tbody tr th {\n",
              "        vertical-align: top;\n",
              "    }\n",
              "\n",
              "    .dataframe thead th {\n",
              "        text-align: right;\n",
              "    }\n",
              "</style>\n",
              "<table border=\"1\" class=\"dataframe\">\n",
              "  <thead>\n",
              "    <tr style=\"text-align: right;\">\n",
              "      <th></th>\n",
              "      <th>Group</th>\n",
              "      <th>Rate ratio (RR)</th>\n",
              "      <th>Upper CI</th>\n",
              "      <th>Lower CI</th>\n",
              "    </tr>\n",
              "  </thead>\n",
              "  <tbody>\n",
              "    <tr>\n",
              "      <th>0</th>\n",
              "      <td>All</td>\n",
              "      <td>0.89</td>\n",
              "      <td>0.96</td>\n",
              "      <td>0.82</td>\n",
              "    </tr>\n",
              "    <tr>\n",
              "      <th>1</th>\n",
              "      <td>Women between 20 and 65 years old</td>\n",
              "      <td>1.01</td>\n",
              "      <td>1.25</td>\n",
              "      <td>0.81</td>\n",
              "    </tr>\n",
              "    <tr>\n",
              "      <th>2</th>\n",
              "      <td>Men between 20 and 65 years old</td>\n",
              "      <td>0.89</td>\n",
              "      <td>1.07</td>\n",
              "      <td>0.74</td>\n",
              "    </tr>\n",
              "    <tr>\n",
              "      <th>3</th>\n",
              "      <td>Women above 65 years old</td>\n",
              "      <td>0.89</td>\n",
              "      <td>1.01</td>\n",
              "      <td>0.78</td>\n",
              "    </tr>\n",
              "    <tr>\n",
              "      <th>4</th>\n",
              "      <td>Men above 65 years old</td>\n",
              "      <td>0.85</td>\n",
              "      <td>0.98</td>\n",
              "      <td>0.74</td>\n",
              "    </tr>\n",
              "  </tbody>\n",
              "</table>\n",
              "</div>"
            ],
            "text/plain": [
              "                               Group  Rate ratio (RR)  Upper CI  Lower CI\n",
              "0                                All             0.89      0.96      0.82\n",
              "1  Women between 20 and 65 years old             1.01      1.25      0.81\n",
              "2    Men between 20 and 65 years old             0.89      1.07      0.74\n",
              "3           Women above 65 years old             0.89      1.01      0.78\n",
              "4             Men above 65 years old             0.85      0.98      0.74"
            ]
          },
          "metadata": {
            "tags": []
          },
          "execution_count": 17
        }
      ]
    },
    {
      "cell_type": "markdown",
      "metadata": {
        "id": "TiMEivcT47D5"
      },
      "source": [
        "####**Race**"
      ]
    },
    {
      "cell_type": "code",
      "metadata": {
        "id": "qBJJzSLD47D6",
        "colab": {
          "base_uri": "https://localhost:8080/",
          "height": 235
        },
        "outputId": "58e376dc-4ec9-44ad-c53c-28670a9fb4cd"
      },
      "source": [
        "rate_ratio(df_temp, 'race','above_pct_dif')"
      ],
      "execution_count": null,
      "outputs": [
        {
          "output_type": "execute_result",
          "data": {
            "text/html": [
              "<div>\n",
              "<style scoped>\n",
              "    .dataframe tbody tr th:only-of-type {\n",
              "        vertical-align: middle;\n",
              "    }\n",
              "\n",
              "    .dataframe tbody tr th {\n",
              "        vertical-align: top;\n",
              "    }\n",
              "\n",
              "    .dataframe thead th {\n",
              "        text-align: right;\n",
              "    }\n",
              "</style>\n",
              "<table border=\"1\" class=\"dataframe\">\n",
              "  <thead>\n",
              "    <tr style=\"text-align: right;\">\n",
              "      <th></th>\n",
              "      <th>Group</th>\n",
              "      <th>Rate ratio (RR)</th>\n",
              "      <th>Upper CI</th>\n",
              "      <th>Lower CI</th>\n",
              "    </tr>\n",
              "  </thead>\n",
              "  <tbody>\n",
              "    <tr>\n",
              "      <th>0</th>\n",
              "      <td>All</td>\n",
              "      <td>0.89</td>\n",
              "      <td>0.96</td>\n",
              "      <td>0.82</td>\n",
              "    </tr>\n",
              "    <tr>\n",
              "      <th>1</th>\n",
              "      <td>White</td>\n",
              "      <td>0.91</td>\n",
              "      <td>0.99</td>\n",
              "      <td>0.83</td>\n",
              "    </tr>\n",
              "    <tr>\n",
              "      <th>2</th>\n",
              "      <td>Black</td>\n",
              "      <td>0.87</td>\n",
              "      <td>1.23</td>\n",
              "      <td>0.61</td>\n",
              "    </tr>\n",
              "    <tr>\n",
              "      <th>3</th>\n",
              "      <td>Yellow</td>\n",
              "      <td>1.04</td>\n",
              "      <td>1.84</td>\n",
              "      <td>0.59</td>\n",
              "    </tr>\n",
              "    <tr>\n",
              "      <th>4</th>\n",
              "      <td>Brown</td>\n",
              "      <td>0.82</td>\n",
              "      <td>1.03</td>\n",
              "      <td>0.65</td>\n",
              "    </tr>\n",
              "    <tr>\n",
              "      <th>5</th>\n",
              "      <td>Indian</td>\n",
              "      <td>1.04</td>\n",
              "      <td>1.84</td>\n",
              "      <td>0.59</td>\n",
              "    </tr>\n",
              "  </tbody>\n",
              "</table>\n",
              "</div>"
            ],
            "text/plain": [
              "    Group  Rate ratio (RR)  Upper CI  Lower CI\n",
              "0     All             0.89      0.96      0.82\n",
              "1   White             0.91      0.99      0.83\n",
              "2   Black             0.87      1.23      0.61\n",
              "3  Yellow             1.04      1.84      0.59\n",
              "4   Brown             0.82      1.03      0.65\n",
              "5  Indian             1.04      1.84      0.59"
            ]
          },
          "metadata": {
            "tags": []
          },
          "execution_count": 18
        }
      ]
    },
    {
      "cell_type": "markdown",
      "metadata": {
        "id": "fcFuFl3YCLhz"
      },
      "source": [
        "##**Pressure**"
      ]
    },
    {
      "cell_type": "markdown",
      "metadata": {
        "id": "MVywHn4oCLiB"
      },
      "source": [
        "###**Low pressure waves**"
      ]
    },
    {
      "cell_type": "markdown",
      "metadata": {
        "id": "BGil698qCLiC"
      },
      "source": [
        "####**Sex**"
      ]
    },
    {
      "cell_type": "code",
      "metadata": {
        "colab": {
          "base_uri": "https://localhost:8080/",
          "height": 142
        },
        "id": "NV3y7QVSCLiC",
        "outputId": "87734830-efcd-4918-fdcc-a5648a1ddd6a"
      },
      "source": [
        "rate_ratio(df_pressure, 'sex','LPW')"
      ],
      "execution_count": null,
      "outputs": [
        {
          "output_type": "execute_result",
          "data": {
            "text/html": [
              "<div>\n",
              "<style scoped>\n",
              "    .dataframe tbody tr th:only-of-type {\n",
              "        vertical-align: middle;\n",
              "    }\n",
              "\n",
              "    .dataframe tbody tr th {\n",
              "        vertical-align: top;\n",
              "    }\n",
              "\n",
              "    .dataframe thead th {\n",
              "        text-align: right;\n",
              "    }\n",
              "</style>\n",
              "<table border=\"1\" class=\"dataframe\">\n",
              "  <thead>\n",
              "    <tr style=\"text-align: right;\">\n",
              "      <th></th>\n",
              "      <th>Group</th>\n",
              "      <th>Rate ratio (RR)</th>\n",
              "      <th>Upper CI</th>\n",
              "      <th>Lower CI</th>\n",
              "    </tr>\n",
              "  </thead>\n",
              "  <tbody>\n",
              "    <tr>\n",
              "      <th>0</th>\n",
              "      <td>All</td>\n",
              "      <td>0.97</td>\n",
              "      <td>1.01</td>\n",
              "      <td>0.93</td>\n",
              "    </tr>\n",
              "    <tr>\n",
              "      <th>1</th>\n",
              "      <td>Women</td>\n",
              "      <td>0.97</td>\n",
              "      <td>1.03</td>\n",
              "      <td>0.91</td>\n",
              "    </tr>\n",
              "    <tr>\n",
              "      <th>2</th>\n",
              "      <td>Men</td>\n",
              "      <td>1.00</td>\n",
              "      <td>1.06</td>\n",
              "      <td>0.94</td>\n",
              "    </tr>\n",
              "  </tbody>\n",
              "</table>\n",
              "</div>"
            ],
            "text/plain": [
              "   Group  Rate ratio (RR)  Upper CI  Lower CI\n",
              "0    All             0.97      1.01      0.93\n",
              "1  Women             0.97      1.03      0.91\n",
              "2    Men             1.00      1.06      0.94"
            ]
          },
          "metadata": {
            "tags": []
          },
          "execution_count": 19
        }
      ]
    },
    {
      "cell_type": "markdown",
      "metadata": {
        "id": "RKuZ4_X1CLiF"
      },
      "source": [
        "####**Age**"
      ]
    },
    {
      "cell_type": "code",
      "metadata": {
        "colab": {
          "base_uri": "https://localhost:8080/",
          "height": 204
        },
        "id": "b25T5tuHCLiG",
        "outputId": "3818df3e-f9dc-40cf-f6b8-7692ec446f3c"
      },
      "source": [
        "rate_ratio(df_pressure, 'age','LPW')"
      ],
      "execution_count": null,
      "outputs": [
        {
          "output_type": "execute_result",
          "data": {
            "text/html": [
              "<div>\n",
              "<style scoped>\n",
              "    .dataframe tbody tr th:only-of-type {\n",
              "        vertical-align: middle;\n",
              "    }\n",
              "\n",
              "    .dataframe tbody tr th {\n",
              "        vertical-align: top;\n",
              "    }\n",
              "\n",
              "    .dataframe thead th {\n",
              "        text-align: right;\n",
              "    }\n",
              "</style>\n",
              "<table border=\"1\" class=\"dataframe\">\n",
              "  <thead>\n",
              "    <tr style=\"text-align: right;\">\n",
              "      <th></th>\n",
              "      <th>Group</th>\n",
              "      <th>Rate ratio (RR)</th>\n",
              "      <th>Upper CI</th>\n",
              "      <th>Lower CI</th>\n",
              "    </tr>\n",
              "  </thead>\n",
              "  <tbody>\n",
              "    <tr>\n",
              "      <th>0</th>\n",
              "      <td>All</td>\n",
              "      <td>0.97</td>\n",
              "      <td>1.01</td>\n",
              "      <td>0.93</td>\n",
              "    </tr>\n",
              "    <tr>\n",
              "      <th>1</th>\n",
              "      <td>Between 20 and 40 years old</td>\n",
              "      <td>1.05</td>\n",
              "      <td>1.31</td>\n",
              "      <td>0.84</td>\n",
              "    </tr>\n",
              "    <tr>\n",
              "      <th>2</th>\n",
              "      <td>Between 40 and 65 years old</td>\n",
              "      <td>0.97</td>\n",
              "      <td>1.05</td>\n",
              "      <td>0.89</td>\n",
              "    </tr>\n",
              "    <tr>\n",
              "      <th>3</th>\n",
              "      <td>Above 65 years old</td>\n",
              "      <td>0.97</td>\n",
              "      <td>1.02</td>\n",
              "      <td>0.92</td>\n",
              "    </tr>\n",
              "    <tr>\n",
              "      <th>4</th>\n",
              "      <td>Above 75 years old</td>\n",
              "      <td>0.93</td>\n",
              "      <td>1.00</td>\n",
              "      <td>0.87</td>\n",
              "    </tr>\n",
              "  </tbody>\n",
              "</table>\n",
              "</div>"
            ],
            "text/plain": [
              "                         Group  Rate ratio (RR)  Upper CI  Lower CI\n",
              "0                          All             0.97      1.01      0.93\n",
              "1  Between 20 and 40 years old             1.05      1.31      0.84\n",
              "2  Between 40 and 65 years old             0.97      1.05      0.89\n",
              "3           Above 65 years old             0.97      1.02      0.92\n",
              "4           Above 75 years old             0.93      1.00      0.87"
            ]
          },
          "metadata": {
            "tags": []
          },
          "execution_count": 20
        }
      ]
    },
    {
      "cell_type": "markdown",
      "metadata": {
        "id": "bup2DJfFCLiH"
      },
      "source": [
        "####**Age and sex**"
      ]
    },
    {
      "cell_type": "code",
      "metadata": {
        "colab": {
          "base_uri": "https://localhost:8080/",
          "height": 204
        },
        "id": "HW6d5ZBLCLiI",
        "outputId": "a7b283f5-94b2-4ae1-ca2e-cdb103774b37"
      },
      "source": [
        "rate_ratio(df_pressure, 'age and sex','LPW')"
      ],
      "execution_count": null,
      "outputs": [
        {
          "output_type": "execute_result",
          "data": {
            "text/html": [
              "<div>\n",
              "<style scoped>\n",
              "    .dataframe tbody tr th:only-of-type {\n",
              "        vertical-align: middle;\n",
              "    }\n",
              "\n",
              "    .dataframe tbody tr th {\n",
              "        vertical-align: top;\n",
              "    }\n",
              "\n",
              "    .dataframe thead th {\n",
              "        text-align: right;\n",
              "    }\n",
              "</style>\n",
              "<table border=\"1\" class=\"dataframe\">\n",
              "  <thead>\n",
              "    <tr style=\"text-align: right;\">\n",
              "      <th></th>\n",
              "      <th>Group</th>\n",
              "      <th>Rate ratio (RR)</th>\n",
              "      <th>Upper CI</th>\n",
              "      <th>Lower CI</th>\n",
              "    </tr>\n",
              "  </thead>\n",
              "  <tbody>\n",
              "    <tr>\n",
              "      <th>0</th>\n",
              "      <td>All</td>\n",
              "      <td>0.97</td>\n",
              "      <td>1.01</td>\n",
              "      <td>0.93</td>\n",
              "    </tr>\n",
              "    <tr>\n",
              "      <th>1</th>\n",
              "      <td>Women between 20 and 65 years old</td>\n",
              "      <td>1.01</td>\n",
              "      <td>1.15</td>\n",
              "      <td>0.89</td>\n",
              "    </tr>\n",
              "    <tr>\n",
              "      <th>2</th>\n",
              "      <td>Men between 20 and 65 years old</td>\n",
              "      <td>0.99</td>\n",
              "      <td>1.09</td>\n",
              "      <td>0.90</td>\n",
              "    </tr>\n",
              "    <tr>\n",
              "      <th>3</th>\n",
              "      <td>Women above 65 years old</td>\n",
              "      <td>0.93</td>\n",
              "      <td>1.00</td>\n",
              "      <td>0.86</td>\n",
              "    </tr>\n",
              "    <tr>\n",
              "      <th>4</th>\n",
              "      <td>Men above 65 years old</td>\n",
              "      <td>1.00</td>\n",
              "      <td>1.08</td>\n",
              "      <td>0.93</td>\n",
              "    </tr>\n",
              "  </tbody>\n",
              "</table>\n",
              "</div>"
            ],
            "text/plain": [
              "                               Group  Rate ratio (RR)  Upper CI  Lower CI\n",
              "0                                All             0.97      1.01      0.93\n",
              "1  Women between 20 and 65 years old             1.01      1.15      0.89\n",
              "2    Men between 20 and 65 years old             0.99      1.09      0.90\n",
              "3           Women above 65 years old             0.93      1.00      0.86\n",
              "4             Men above 65 years old             1.00      1.08      0.93"
            ]
          },
          "metadata": {
            "tags": []
          },
          "execution_count": 21
        }
      ]
    },
    {
      "cell_type": "markdown",
      "metadata": {
        "id": "Q5DbTHks495q"
      },
      "source": [
        "####**Race**"
      ]
    },
    {
      "cell_type": "code",
      "metadata": {
        "id": "gT_NSuq2495s",
        "colab": {
          "base_uri": "https://localhost:8080/"
        },
        "outputId": "5c84e1af-86b4-4a7c-a6a6-402776b92651"
      },
      "source": [
        "rate_ratio(df_pressure, 'race','LPW')"
      ],
      "execution_count": null,
      "outputs": [
        {
          "output_type": "execute_result",
          "data": {
            "text/html": [
              "<div>\n",
              "<style scoped>\n",
              "    .dataframe tbody tr th:only-of-type {\n",
              "        vertical-align: middle;\n",
              "    }\n",
              "\n",
              "    .dataframe tbody tr th {\n",
              "        vertical-align: top;\n",
              "    }\n",
              "\n",
              "    .dataframe thead th {\n",
              "        text-align: right;\n",
              "    }\n",
              "</style>\n",
              "<table border=\"1\" class=\"dataframe\">\n",
              "  <thead>\n",
              "    <tr style=\"text-align: right;\">\n",
              "      <th></th>\n",
              "      <th>Group</th>\n",
              "      <th>Rate ratio (RR)</th>\n",
              "      <th>Upper CI</th>\n",
              "      <th>Lower CI</th>\n",
              "    </tr>\n",
              "  </thead>\n",
              "  <tbody>\n",
              "    <tr>\n",
              "      <th>0</th>\n",
              "      <td>All</td>\n",
              "      <td>0.97</td>\n",
              "      <td>1.01</td>\n",
              "      <td>0.93</td>\n",
              "    </tr>\n",
              "    <tr>\n",
              "      <th>1</th>\n",
              "      <td>White</td>\n",
              "      <td>0.97</td>\n",
              "      <td>1.02</td>\n",
              "      <td>0.92</td>\n",
              "    </tr>\n",
              "    <tr>\n",
              "      <th>2</th>\n",
              "      <td>Black</td>\n",
              "      <td>0.99</td>\n",
              "      <td>1.17</td>\n",
              "      <td>0.84</td>\n",
              "    </tr>\n",
              "    <tr>\n",
              "      <th>3</th>\n",
              "      <td>Yellow</td>\n",
              "      <td>0.95</td>\n",
              "      <td>1.42</td>\n",
              "      <td>0.64</td>\n",
              "    </tr>\n",
              "    <tr>\n",
              "      <th>4</th>\n",
              "      <td>Brown</td>\n",
              "      <td>1.03</td>\n",
              "      <td>1.16</td>\n",
              "      <td>0.91</td>\n",
              "    </tr>\n",
              "    <tr>\n",
              "      <th>5</th>\n",
              "      <td>Indian</td>\n",
              "      <td>0.95</td>\n",
              "      <td>1.42</td>\n",
              "      <td>0.64</td>\n",
              "    </tr>\n",
              "  </tbody>\n",
              "</table>\n",
              "</div>"
            ],
            "text/plain": [
              "    Group  Rate ratio (RR)  Upper CI  Lower CI\n",
              "0     All             0.97      1.01      0.93\n",
              "1   White             0.97      1.02      0.92\n",
              "2   Black             0.99      1.17      0.84\n",
              "3  Yellow             0.95      1.42      0.64\n",
              "4   Brown             1.03      1.16      0.91\n",
              "5  Indian             0.95      1.42      0.64"
            ]
          },
          "metadata": {
            "tags": []
          },
          "execution_count": 22
        }
      ]
    },
    {
      "cell_type": "markdown",
      "metadata": {
        "id": "GuKsXrf8Cd7i"
      },
      "source": [
        "###**High pressure waves**"
      ]
    },
    {
      "cell_type": "markdown",
      "metadata": {
        "id": "O8G0yiTlCd7p"
      },
      "source": [
        "####**Sex**"
      ]
    },
    {
      "cell_type": "code",
      "metadata": {
        "colab": {
          "base_uri": "https://localhost:8080/",
          "height": 142
        },
        "id": "CtKRSF8mCd7q",
        "outputId": "9940ee3a-b1c9-4577-8669-fd6b3bf2ec72"
      },
      "source": [
        "rate_ratio(df_pressure, 'sex','HPW')"
      ],
      "execution_count": null,
      "outputs": [
        {
          "output_type": "execute_result",
          "data": {
            "text/html": [
              "<div>\n",
              "<style scoped>\n",
              "    .dataframe tbody tr th:only-of-type {\n",
              "        vertical-align: middle;\n",
              "    }\n",
              "\n",
              "    .dataframe tbody tr th {\n",
              "        vertical-align: top;\n",
              "    }\n",
              "\n",
              "    .dataframe thead th {\n",
              "        text-align: right;\n",
              "    }\n",
              "</style>\n",
              "<table border=\"1\" class=\"dataframe\">\n",
              "  <thead>\n",
              "    <tr style=\"text-align: right;\">\n",
              "      <th></th>\n",
              "      <th>Group</th>\n",
              "      <th>Rate ratio (RR)</th>\n",
              "      <th>Upper CI</th>\n",
              "      <th>Lower CI</th>\n",
              "    </tr>\n",
              "  </thead>\n",
              "  <tbody>\n",
              "    <tr>\n",
              "      <th>0</th>\n",
              "      <td>All</td>\n",
              "      <td>1.01</td>\n",
              "      <td>1.05</td>\n",
              "      <td>0.98</td>\n",
              "    </tr>\n",
              "    <tr>\n",
              "      <th>1</th>\n",
              "      <td>Women</td>\n",
              "      <td>1.00</td>\n",
              "      <td>1.05</td>\n",
              "      <td>0.95</td>\n",
              "    </tr>\n",
              "    <tr>\n",
              "      <th>2</th>\n",
              "      <td>Men</td>\n",
              "      <td>1.02</td>\n",
              "      <td>1.07</td>\n",
              "      <td>0.97</td>\n",
              "    </tr>\n",
              "  </tbody>\n",
              "</table>\n",
              "</div>"
            ],
            "text/plain": [
              "   Group  Rate ratio (RR)  Upper CI  Lower CI\n",
              "0    All             1.01      1.05      0.98\n",
              "1  Women             1.00      1.05      0.95\n",
              "2    Men             1.02      1.07      0.97"
            ]
          },
          "metadata": {
            "tags": []
          },
          "execution_count": 23
        }
      ]
    },
    {
      "cell_type": "markdown",
      "metadata": {
        "id": "IlcQYeReCd7t"
      },
      "source": [
        "####**Age**"
      ]
    },
    {
      "cell_type": "code",
      "metadata": {
        "colab": {
          "base_uri": "https://localhost:8080/",
          "height": 204
        },
        "id": "QNP4hjVkCd7t",
        "outputId": "cf43628b-ea44-4124-e730-7d2d61583d25"
      },
      "source": [
        "rate_ratio(df_pressure, 'age','HPW')"
      ],
      "execution_count": null,
      "outputs": [
        {
          "output_type": "execute_result",
          "data": {
            "text/html": [
              "<div>\n",
              "<style scoped>\n",
              "    .dataframe tbody tr th:only-of-type {\n",
              "        vertical-align: middle;\n",
              "    }\n",
              "\n",
              "    .dataframe tbody tr th {\n",
              "        vertical-align: top;\n",
              "    }\n",
              "\n",
              "    .dataframe thead th {\n",
              "        text-align: right;\n",
              "    }\n",
              "</style>\n",
              "<table border=\"1\" class=\"dataframe\">\n",
              "  <thead>\n",
              "    <tr style=\"text-align: right;\">\n",
              "      <th></th>\n",
              "      <th>Group</th>\n",
              "      <th>Rate ratio (RR)</th>\n",
              "      <th>Upper CI</th>\n",
              "      <th>Lower CI</th>\n",
              "    </tr>\n",
              "  </thead>\n",
              "  <tbody>\n",
              "    <tr>\n",
              "      <th>0</th>\n",
              "      <td>All</td>\n",
              "      <td>1.01</td>\n",
              "      <td>1.05</td>\n",
              "      <td>0.98</td>\n",
              "    </tr>\n",
              "    <tr>\n",
              "      <th>1</th>\n",
              "      <td>Between 20 and 40 years old</td>\n",
              "      <td>0.96</td>\n",
              "      <td>1.18</td>\n",
              "      <td>0.78</td>\n",
              "    </tr>\n",
              "    <tr>\n",
              "      <th>2</th>\n",
              "      <td>Between 40 and 65 years old</td>\n",
              "      <td>1.03</td>\n",
              "      <td>1.10</td>\n",
              "      <td>0.97</td>\n",
              "    </tr>\n",
              "    <tr>\n",
              "      <th>3</th>\n",
              "      <td>Above 65 years old</td>\n",
              "      <td>1.00</td>\n",
              "      <td>1.04</td>\n",
              "      <td>0.96</td>\n",
              "    </tr>\n",
              "    <tr>\n",
              "      <th>4</th>\n",
              "      <td>Above 75 years old</td>\n",
              "      <td>1.00</td>\n",
              "      <td>1.05</td>\n",
              "      <td>0.95</td>\n",
              "    </tr>\n",
              "  </tbody>\n",
              "</table>\n",
              "</div>"
            ],
            "text/plain": [
              "                         Group  Rate ratio (RR)  Upper CI  Lower CI\n",
              "0                          All             1.01      1.05      0.98\n",
              "1  Between 20 and 40 years old             0.96      1.18      0.78\n",
              "2  Between 40 and 65 years old             1.03      1.10      0.97\n",
              "3           Above 65 years old             1.00      1.04      0.96\n",
              "4           Above 75 years old             1.00      1.05      0.95"
            ]
          },
          "metadata": {
            "tags": []
          },
          "execution_count": 24
        }
      ]
    },
    {
      "cell_type": "markdown",
      "metadata": {
        "id": "OZrnOOtECd7u"
      },
      "source": [
        "####**Age and sex**"
      ]
    },
    {
      "cell_type": "code",
      "metadata": {
        "colab": {
          "base_uri": "https://localhost:8080/",
          "height": 204
        },
        "id": "XBFP7NMWCd7v",
        "outputId": "a43541bd-c38a-4ed6-f5e2-196bf6c74b2c"
      },
      "source": [
        "rate_ratio(df_pressure, 'age and sex','HPW')"
      ],
      "execution_count": null,
      "outputs": [
        {
          "output_type": "execute_result",
          "data": {
            "text/html": [
              "<div>\n",
              "<style scoped>\n",
              "    .dataframe tbody tr th:only-of-type {\n",
              "        vertical-align: middle;\n",
              "    }\n",
              "\n",
              "    .dataframe tbody tr th {\n",
              "        vertical-align: top;\n",
              "    }\n",
              "\n",
              "    .dataframe thead th {\n",
              "        text-align: right;\n",
              "    }\n",
              "</style>\n",
              "<table border=\"1\" class=\"dataframe\">\n",
              "  <thead>\n",
              "    <tr style=\"text-align: right;\">\n",
              "      <th></th>\n",
              "      <th>Group</th>\n",
              "      <th>Rate ratio (RR)</th>\n",
              "      <th>Upper CI</th>\n",
              "      <th>Lower CI</th>\n",
              "    </tr>\n",
              "  </thead>\n",
              "  <tbody>\n",
              "    <tr>\n",
              "      <th>0</th>\n",
              "      <td>All</td>\n",
              "      <td>1.01</td>\n",
              "      <td>1.05</td>\n",
              "      <td>0.98</td>\n",
              "    </tr>\n",
              "    <tr>\n",
              "      <th>1</th>\n",
              "      <td>Women between 20 and 65 years old</td>\n",
              "      <td>0.97</td>\n",
              "      <td>1.08</td>\n",
              "      <td>0.87</td>\n",
              "    </tr>\n",
              "    <tr>\n",
              "      <th>2</th>\n",
              "      <td>Men between 20 and 65 years old</td>\n",
              "      <td>1.03</td>\n",
              "      <td>1.11</td>\n",
              "      <td>0.95</td>\n",
              "    </tr>\n",
              "    <tr>\n",
              "      <th>3</th>\n",
              "      <td>Women above 65 years old</td>\n",
              "      <td>0.98</td>\n",
              "      <td>1.04</td>\n",
              "      <td>0.92</td>\n",
              "    </tr>\n",
              "    <tr>\n",
              "      <th>4</th>\n",
              "      <td>Men above 65 years old</td>\n",
              "      <td>1.01</td>\n",
              "      <td>1.07</td>\n",
              "      <td>0.95</td>\n",
              "    </tr>\n",
              "  </tbody>\n",
              "</table>\n",
              "</div>"
            ],
            "text/plain": [
              "                               Group  Rate ratio (RR)  Upper CI  Lower CI\n",
              "0                                All             1.01      1.05      0.98\n",
              "1  Women between 20 and 65 years old             0.97      1.08      0.87\n",
              "2    Men between 20 and 65 years old             1.03      1.11      0.95\n",
              "3           Women above 65 years old             0.98      1.04      0.92\n",
              "4             Men above 65 years old             1.01      1.07      0.95"
            ]
          },
          "metadata": {
            "tags": []
          },
          "execution_count": 25
        }
      ]
    },
    {
      "cell_type": "markdown",
      "metadata": {
        "id": "XCqL-y4Z5DuF"
      },
      "source": [
        "####**Race**"
      ]
    },
    {
      "cell_type": "code",
      "metadata": {
        "id": "XKam_kkq5DuG",
        "colab": {
          "base_uri": "https://localhost:8080/",
          "height": 235
        },
        "outputId": "2466c9eb-3ae4-44a3-ef54-2052e21a5b49"
      },
      "source": [
        "rate_ratio(df_pressure, 'race','HPW')"
      ],
      "execution_count": null,
      "outputs": [
        {
          "output_type": "execute_result",
          "data": {
            "text/html": [
              "<div>\n",
              "<style scoped>\n",
              "    .dataframe tbody tr th:only-of-type {\n",
              "        vertical-align: middle;\n",
              "    }\n",
              "\n",
              "    .dataframe tbody tr th {\n",
              "        vertical-align: top;\n",
              "    }\n",
              "\n",
              "    .dataframe thead th {\n",
              "        text-align: right;\n",
              "    }\n",
              "</style>\n",
              "<table border=\"1\" class=\"dataframe\">\n",
              "  <thead>\n",
              "    <tr style=\"text-align: right;\">\n",
              "      <th></th>\n",
              "      <th>Group</th>\n",
              "      <th>Rate ratio (RR)</th>\n",
              "      <th>Upper CI</th>\n",
              "      <th>Lower CI</th>\n",
              "    </tr>\n",
              "  </thead>\n",
              "  <tbody>\n",
              "    <tr>\n",
              "      <th>0</th>\n",
              "      <td>All</td>\n",
              "      <td>1.01</td>\n",
              "      <td>1.05</td>\n",
              "      <td>0.98</td>\n",
              "    </tr>\n",
              "    <tr>\n",
              "      <th>1</th>\n",
              "      <td>White</td>\n",
              "      <td>1.00</td>\n",
              "      <td>1.04</td>\n",
              "      <td>0.96</td>\n",
              "    </tr>\n",
              "    <tr>\n",
              "      <th>2</th>\n",
              "      <td>Black</td>\n",
              "      <td>1.03</td>\n",
              "      <td>1.18</td>\n",
              "      <td>0.90</td>\n",
              "    </tr>\n",
              "    <tr>\n",
              "      <th>3</th>\n",
              "      <td>Yellow</td>\n",
              "      <td>0.99</td>\n",
              "      <td>1.43</td>\n",
              "      <td>0.69</td>\n",
              "    </tr>\n",
              "    <tr>\n",
              "      <th>4</th>\n",
              "      <td>Brown</td>\n",
              "      <td>1.02</td>\n",
              "      <td>1.12</td>\n",
              "      <td>0.93</td>\n",
              "    </tr>\n",
              "    <tr>\n",
              "      <th>5</th>\n",
              "      <td>Indian</td>\n",
              "      <td>0.99</td>\n",
              "      <td>1.43</td>\n",
              "      <td>0.69</td>\n",
              "    </tr>\n",
              "  </tbody>\n",
              "</table>\n",
              "</div>"
            ],
            "text/plain": [
              "    Group  Rate ratio (RR)  Upper CI  Lower CI\n",
              "0     All             1.01      1.05      0.98\n",
              "1   White             1.00      1.04      0.96\n",
              "2   Black             1.03      1.18      0.90\n",
              "3  Yellow             0.99      1.43      0.69\n",
              "4   Brown             1.02      1.12      0.93\n",
              "5  Indian             0.99      1.43      0.69"
            ]
          },
          "metadata": {
            "tags": []
          },
          "execution_count": 26
        }
      ]
    },
    {
      "cell_type": "markdown",
      "metadata": {
        "id": "_wdEtq6sCnTQ"
      },
      "source": [
        "###**Extreme difference of pressure between days**"
      ]
    },
    {
      "cell_type": "markdown",
      "metadata": {
        "id": "eTXY76gZCnTQ"
      },
      "source": [
        "####**Sex**"
      ]
    },
    {
      "cell_type": "code",
      "metadata": {
        "colab": {
          "base_uri": "https://localhost:8080/",
          "height": 142
        },
        "id": "R9S7G1T9CnTQ",
        "outputId": "ec9099ef-c34e-4698-b3d8-8892be404ed5"
      },
      "source": [
        "rate_ratio(df_pressure, 'sex','above_pct_dif')"
      ],
      "execution_count": null,
      "outputs": [
        {
          "output_type": "execute_result",
          "data": {
            "text/html": [
              "<div>\n",
              "<style scoped>\n",
              "    .dataframe tbody tr th:only-of-type {\n",
              "        vertical-align: middle;\n",
              "    }\n",
              "\n",
              "    .dataframe tbody tr th {\n",
              "        vertical-align: top;\n",
              "    }\n",
              "\n",
              "    .dataframe thead th {\n",
              "        text-align: right;\n",
              "    }\n",
              "</style>\n",
              "<table border=\"1\" class=\"dataframe\">\n",
              "  <thead>\n",
              "    <tr style=\"text-align: right;\">\n",
              "      <th></th>\n",
              "      <th>Group</th>\n",
              "      <th>Rate ratio (RR)</th>\n",
              "      <th>Upper CI</th>\n",
              "      <th>Lower CI</th>\n",
              "    </tr>\n",
              "  </thead>\n",
              "  <tbody>\n",
              "    <tr>\n",
              "      <th>0</th>\n",
              "      <td>All</td>\n",
              "      <td>1.00</td>\n",
              "      <td>1.03</td>\n",
              "      <td>0.97</td>\n",
              "    </tr>\n",
              "    <tr>\n",
              "      <th>1</th>\n",
              "      <td>Women</td>\n",
              "      <td>1.00</td>\n",
              "      <td>1.04</td>\n",
              "      <td>0.96</td>\n",
              "    </tr>\n",
              "    <tr>\n",
              "      <th>2</th>\n",
              "      <td>Men</td>\n",
              "      <td>0.99</td>\n",
              "      <td>1.03</td>\n",
              "      <td>0.95</td>\n",
              "    </tr>\n",
              "  </tbody>\n",
              "</table>\n",
              "</div>"
            ],
            "text/plain": [
              "   Group  Rate ratio (RR)  Upper CI  Lower CI\n",
              "0    All             1.00      1.03      0.97\n",
              "1  Women             1.00      1.04      0.96\n",
              "2    Men             0.99      1.03      0.95"
            ]
          },
          "metadata": {
            "tags": []
          },
          "execution_count": 27
        }
      ]
    },
    {
      "cell_type": "markdown",
      "metadata": {
        "id": "GsyJadP5CnTS"
      },
      "source": [
        "####**Age**"
      ]
    },
    {
      "cell_type": "code",
      "metadata": {
        "colab": {
          "base_uri": "https://localhost:8080/",
          "height": 204
        },
        "id": "ZFSwDuZeCnTT",
        "outputId": "00224de0-8738-4379-eec5-9febca9a3634"
      },
      "source": [
        "rate_ratio(df_pressure, 'age','above_pct_dif')"
      ],
      "execution_count": null,
      "outputs": [
        {
          "output_type": "execute_result",
          "data": {
            "text/html": [
              "<div>\n",
              "<style scoped>\n",
              "    .dataframe tbody tr th:only-of-type {\n",
              "        vertical-align: middle;\n",
              "    }\n",
              "\n",
              "    .dataframe tbody tr th {\n",
              "        vertical-align: top;\n",
              "    }\n",
              "\n",
              "    .dataframe thead th {\n",
              "        text-align: right;\n",
              "    }\n",
              "</style>\n",
              "<table border=\"1\" class=\"dataframe\">\n",
              "  <thead>\n",
              "    <tr style=\"text-align: right;\">\n",
              "      <th></th>\n",
              "      <th>Group</th>\n",
              "      <th>Rate ratio (RR)</th>\n",
              "      <th>Upper CI</th>\n",
              "      <th>Lower CI</th>\n",
              "    </tr>\n",
              "  </thead>\n",
              "  <tbody>\n",
              "    <tr>\n",
              "      <th>0</th>\n",
              "      <td>All</td>\n",
              "      <td>1.00</td>\n",
              "      <td>1.03</td>\n",
              "      <td>0.97</td>\n",
              "    </tr>\n",
              "    <tr>\n",
              "      <th>1</th>\n",
              "      <td>Between 20 and 40 years old</td>\n",
              "      <td>1.04</td>\n",
              "      <td>1.21</td>\n",
              "      <td>0.89</td>\n",
              "    </tr>\n",
              "    <tr>\n",
              "      <th>2</th>\n",
              "      <td>Between 40 and 65 years old</td>\n",
              "      <td>1.03</td>\n",
              "      <td>1.09</td>\n",
              "      <td>0.98</td>\n",
              "    </tr>\n",
              "    <tr>\n",
              "      <th>3</th>\n",
              "      <td>Above 65 years old</td>\n",
              "      <td>0.99</td>\n",
              "      <td>1.03</td>\n",
              "      <td>0.96</td>\n",
              "    </tr>\n",
              "    <tr>\n",
              "      <th>4</th>\n",
              "      <td>Above 75 years old</td>\n",
              "      <td>0.97</td>\n",
              "      <td>1.01</td>\n",
              "      <td>0.93</td>\n",
              "    </tr>\n",
              "  </tbody>\n",
              "</table>\n",
              "</div>"
            ],
            "text/plain": [
              "                         Group  Rate ratio (RR)  Upper CI  Lower CI\n",
              "0                          All             1.00      1.03      0.97\n",
              "1  Between 20 and 40 years old             1.04      1.21      0.89\n",
              "2  Between 40 and 65 years old             1.03      1.09      0.98\n",
              "3           Above 65 years old             0.99      1.03      0.96\n",
              "4           Above 75 years old             0.97      1.01      0.93"
            ]
          },
          "metadata": {
            "tags": []
          },
          "execution_count": 28
        }
      ]
    },
    {
      "cell_type": "markdown",
      "metadata": {
        "id": "oMkzNY3KCnTT"
      },
      "source": [
        "####**Age and sex**"
      ]
    },
    {
      "cell_type": "code",
      "metadata": {
        "colab": {
          "base_uri": "https://localhost:8080/",
          "height": 204
        },
        "id": "TmaJ_RauCnTT",
        "outputId": "1901eb42-dc5c-4400-bb74-a48d5fa8870e"
      },
      "source": [
        "rate_ratio(df_pressure, 'age and sex','above_pct_dif')"
      ],
      "execution_count": null,
      "outputs": [
        {
          "output_type": "execute_result",
          "data": {
            "text/html": [
              "<div>\n",
              "<style scoped>\n",
              "    .dataframe tbody tr th:only-of-type {\n",
              "        vertical-align: middle;\n",
              "    }\n",
              "\n",
              "    .dataframe tbody tr th {\n",
              "        vertical-align: top;\n",
              "    }\n",
              "\n",
              "    .dataframe thead th {\n",
              "        text-align: right;\n",
              "    }\n",
              "</style>\n",
              "<table border=\"1\" class=\"dataframe\">\n",
              "  <thead>\n",
              "    <tr style=\"text-align: right;\">\n",
              "      <th></th>\n",
              "      <th>Group</th>\n",
              "      <th>Rate ratio (RR)</th>\n",
              "      <th>Upper CI</th>\n",
              "      <th>Lower CI</th>\n",
              "    </tr>\n",
              "  </thead>\n",
              "  <tbody>\n",
              "    <tr>\n",
              "      <th>0</th>\n",
              "      <td>All</td>\n",
              "      <td>1.00</td>\n",
              "      <td>1.03</td>\n",
              "      <td>0.97</td>\n",
              "    </tr>\n",
              "    <tr>\n",
              "      <th>1</th>\n",
              "      <td>Women between 20 and 65 years old</td>\n",
              "      <td>1.03</td>\n",
              "      <td>1.12</td>\n",
              "      <td>0.95</td>\n",
              "    </tr>\n",
              "    <tr>\n",
              "      <th>2</th>\n",
              "      <td>Men between 20 and 65 years old</td>\n",
              "      <td>1.03</td>\n",
              "      <td>1.10</td>\n",
              "      <td>0.97</td>\n",
              "    </tr>\n",
              "    <tr>\n",
              "      <th>3</th>\n",
              "      <td>Women above 65 years old</td>\n",
              "      <td>0.99</td>\n",
              "      <td>1.04</td>\n",
              "      <td>0.94</td>\n",
              "    </tr>\n",
              "    <tr>\n",
              "      <th>4</th>\n",
              "      <td>Men above 65 years old</td>\n",
              "      <td>0.98</td>\n",
              "      <td>1.03</td>\n",
              "      <td>0.93</td>\n",
              "    </tr>\n",
              "  </tbody>\n",
              "</table>\n",
              "</div>"
            ],
            "text/plain": [
              "                               Group  Rate ratio (RR)  Upper CI  Lower CI\n",
              "0                                All             1.00      1.03      0.97\n",
              "1  Women between 20 and 65 years old             1.03      1.12      0.95\n",
              "2    Men between 20 and 65 years old             1.03      1.10      0.97\n",
              "3           Women above 65 years old             0.99      1.04      0.94\n",
              "4             Men above 65 years old             0.98      1.03      0.93"
            ]
          },
          "metadata": {
            "tags": []
          },
          "execution_count": 29
        }
      ]
    },
    {
      "cell_type": "markdown",
      "metadata": {
        "id": "-MP9Fybv5GC5"
      },
      "source": [
        "####**Race**"
      ]
    },
    {
      "cell_type": "code",
      "metadata": {
        "id": "Kh6dXa5k5GC6",
        "colab": {
          "base_uri": "https://localhost:8080/",
          "height": 235
        },
        "outputId": "050ad9c8-1d8b-4414-c787-8a5d18f31914"
      },
      "source": [
        "rate_ratio(df_pressure, 'race','above_pct_dif')"
      ],
      "execution_count": null,
      "outputs": [
        {
          "output_type": "execute_result",
          "data": {
            "text/html": [
              "<div>\n",
              "<style scoped>\n",
              "    .dataframe tbody tr th:only-of-type {\n",
              "        vertical-align: middle;\n",
              "    }\n",
              "\n",
              "    .dataframe tbody tr th {\n",
              "        vertical-align: top;\n",
              "    }\n",
              "\n",
              "    .dataframe thead th {\n",
              "        text-align: right;\n",
              "    }\n",
              "</style>\n",
              "<table border=\"1\" class=\"dataframe\">\n",
              "  <thead>\n",
              "    <tr style=\"text-align: right;\">\n",
              "      <th></th>\n",
              "      <th>Group</th>\n",
              "      <th>Rate ratio (RR)</th>\n",
              "      <th>Upper CI</th>\n",
              "      <th>Lower CI</th>\n",
              "    </tr>\n",
              "  </thead>\n",
              "  <tbody>\n",
              "    <tr>\n",
              "      <th>0</th>\n",
              "      <td>All</td>\n",
              "      <td>1.00</td>\n",
              "      <td>1.03</td>\n",
              "      <td>0.97</td>\n",
              "    </tr>\n",
              "    <tr>\n",
              "      <th>1</th>\n",
              "      <td>White</td>\n",
              "      <td>0.99</td>\n",
              "      <td>1.02</td>\n",
              "      <td>0.96</td>\n",
              "    </tr>\n",
              "    <tr>\n",
              "      <th>2</th>\n",
              "      <td>Black</td>\n",
              "      <td>1.00</td>\n",
              "      <td>1.12</td>\n",
              "      <td>0.90</td>\n",
              "    </tr>\n",
              "    <tr>\n",
              "      <th>3</th>\n",
              "      <td>Yellow</td>\n",
              "      <td>1.00</td>\n",
              "      <td>1.35</td>\n",
              "      <td>0.74</td>\n",
              "    </tr>\n",
              "    <tr>\n",
              "      <th>4</th>\n",
              "      <td>Brown</td>\n",
              "      <td>1.04</td>\n",
              "      <td>1.13</td>\n",
              "      <td>0.96</td>\n",
              "    </tr>\n",
              "    <tr>\n",
              "      <th>5</th>\n",
              "      <td>Indian</td>\n",
              "      <td>1.00</td>\n",
              "      <td>1.35</td>\n",
              "      <td>0.74</td>\n",
              "    </tr>\n",
              "  </tbody>\n",
              "</table>\n",
              "</div>"
            ],
            "text/plain": [
              "    Group  Rate ratio (RR)  Upper CI  Lower CI\n",
              "0     All             1.00      1.03      0.97\n",
              "1   White             0.99      1.02      0.96\n",
              "2   Black             1.00      1.12      0.90\n",
              "3  Yellow             1.00      1.35      0.74\n",
              "4   Brown             1.04      1.13      0.96\n",
              "5  Indian             1.00      1.35      0.74"
            ]
          },
          "metadata": {
            "tags": []
          },
          "execution_count": 30
        }
      ]
    },
    {
      "cell_type": "markdown",
      "metadata": {
        "id": "cFlgShdDC3PW"
      },
      "source": [
        "##**Humidity**"
      ]
    },
    {
      "cell_type": "markdown",
      "metadata": {
        "id": "UNRTlDbLC5ol"
      },
      "source": [
        "###**Low humidity waves**"
      ]
    },
    {
      "cell_type": "markdown",
      "metadata": {
        "id": "A3h5g9DhC5ol"
      },
      "source": [
        "####**Sex**"
      ]
    },
    {
      "cell_type": "code",
      "metadata": {
        "colab": {
          "base_uri": "https://localhost:8080/",
          "height": 142
        },
        "id": "3rZJ5uNxC5om",
        "outputId": "bcf39bd7-4520-4d94-cfb9-344ef01f4180"
      },
      "source": [
        "rate_ratio(df_humidity, 'sex','LHW')"
      ],
      "execution_count": null,
      "outputs": [
        {
          "output_type": "execute_result",
          "data": {
            "text/html": [
              "<div>\n",
              "<style scoped>\n",
              "    .dataframe tbody tr th:only-of-type {\n",
              "        vertical-align: middle;\n",
              "    }\n",
              "\n",
              "    .dataframe tbody tr th {\n",
              "        vertical-align: top;\n",
              "    }\n",
              "\n",
              "    .dataframe thead th {\n",
              "        text-align: right;\n",
              "    }\n",
              "</style>\n",
              "<table border=\"1\" class=\"dataframe\">\n",
              "  <thead>\n",
              "    <tr style=\"text-align: right;\">\n",
              "      <th></th>\n",
              "      <th>Group</th>\n",
              "      <th>Rate ratio (RR)</th>\n",
              "      <th>Upper CI</th>\n",
              "      <th>Lower CI</th>\n",
              "    </tr>\n",
              "  </thead>\n",
              "  <tbody>\n",
              "    <tr>\n",
              "      <th>0</th>\n",
              "      <td>All</td>\n",
              "      <td>1.09</td>\n",
              "      <td>1.15</td>\n",
              "      <td>1.03</td>\n",
              "    </tr>\n",
              "    <tr>\n",
              "      <th>1</th>\n",
              "      <td>Women</td>\n",
              "      <td>1.08</td>\n",
              "      <td>1.16</td>\n",
              "      <td>1.00</td>\n",
              "    </tr>\n",
              "    <tr>\n",
              "      <th>2</th>\n",
              "      <td>Men</td>\n",
              "      <td>1.08</td>\n",
              "      <td>1.16</td>\n",
              "      <td>1.01</td>\n",
              "    </tr>\n",
              "  </tbody>\n",
              "</table>\n",
              "</div>"
            ],
            "text/plain": [
              "   Group  Rate ratio (RR)  Upper CI  Lower CI\n",
              "0    All             1.09      1.15      1.03\n",
              "1  Women             1.08      1.16      1.00\n",
              "2    Men             1.08      1.16      1.01"
            ]
          },
          "metadata": {
            "tags": []
          },
          "execution_count": 31
        }
      ]
    },
    {
      "cell_type": "markdown",
      "metadata": {
        "id": "VnXy32ZbC5om"
      },
      "source": [
        "####**Age**"
      ]
    },
    {
      "cell_type": "code",
      "metadata": {
        "colab": {
          "base_uri": "https://localhost:8080/",
          "height": 204
        },
        "id": "RvtJ3e8OC5on",
        "outputId": "90b6c2ad-b2ab-4bef-cbe8-aaf00b7355e6"
      },
      "source": [
        "rate_ratio(df_humidity, 'age','LHW')"
      ],
      "execution_count": null,
      "outputs": [
        {
          "output_type": "execute_result",
          "data": {
            "text/html": [
              "<div>\n",
              "<style scoped>\n",
              "    .dataframe tbody tr th:only-of-type {\n",
              "        vertical-align: middle;\n",
              "    }\n",
              "\n",
              "    .dataframe tbody tr th {\n",
              "        vertical-align: top;\n",
              "    }\n",
              "\n",
              "    .dataframe thead th {\n",
              "        text-align: right;\n",
              "    }\n",
              "</style>\n",
              "<table border=\"1\" class=\"dataframe\">\n",
              "  <thead>\n",
              "    <tr style=\"text-align: right;\">\n",
              "      <th></th>\n",
              "      <th>Group</th>\n",
              "      <th>Rate ratio (RR)</th>\n",
              "      <th>Upper CI</th>\n",
              "      <th>Lower CI</th>\n",
              "    </tr>\n",
              "  </thead>\n",
              "  <tbody>\n",
              "    <tr>\n",
              "      <th>0</th>\n",
              "      <td>All</td>\n",
              "      <td>1.09</td>\n",
              "      <td>1.15</td>\n",
              "      <td>1.03</td>\n",
              "    </tr>\n",
              "    <tr>\n",
              "      <th>1</th>\n",
              "      <td>Between 20 and 40 years old</td>\n",
              "      <td>0.96</td>\n",
              "      <td>1.27</td>\n",
              "      <td>0.72</td>\n",
              "    </tr>\n",
              "    <tr>\n",
              "      <th>2</th>\n",
              "      <td>Between 40 and 65 years old</td>\n",
              "      <td>0.97</td>\n",
              "      <td>1.08</td>\n",
              "      <td>0.87</td>\n",
              "    </tr>\n",
              "    <tr>\n",
              "      <th>3</th>\n",
              "      <td>Above 65 years old</td>\n",
              "      <td>1.15</td>\n",
              "      <td>1.22</td>\n",
              "      <td>1.08</td>\n",
              "    </tr>\n",
              "    <tr>\n",
              "      <th>4</th>\n",
              "      <td>Above 75 years old</td>\n",
              "      <td>1.14</td>\n",
              "      <td>1.23</td>\n",
              "      <td>1.05</td>\n",
              "    </tr>\n",
              "  </tbody>\n",
              "</table>\n",
              "</div>"
            ],
            "text/plain": [
              "                         Group  Rate ratio (RR)  Upper CI  Lower CI\n",
              "0                          All             1.09      1.15      1.03\n",
              "1  Between 20 and 40 years old             0.96      1.27      0.72\n",
              "2  Between 40 and 65 years old             0.97      1.08      0.87\n",
              "3           Above 65 years old             1.15      1.22      1.08\n",
              "4           Above 75 years old             1.14      1.23      1.05"
            ]
          },
          "metadata": {
            "tags": []
          },
          "execution_count": 32
        }
      ]
    },
    {
      "cell_type": "markdown",
      "metadata": {
        "id": "mSzu0TNhC5on"
      },
      "source": [
        "####**Age and sex**"
      ]
    },
    {
      "cell_type": "code",
      "metadata": {
        "colab": {
          "base_uri": "https://localhost:8080/",
          "height": 204
        },
        "id": "dfpk353bC5on",
        "outputId": "be534354-877d-49c0-8b75-a656450695b7"
      },
      "source": [
        "rate_ratio(df_humidity, 'age and sex','LHW')"
      ],
      "execution_count": null,
      "outputs": [
        {
          "output_type": "execute_result",
          "data": {
            "text/html": [
              "<div>\n",
              "<style scoped>\n",
              "    .dataframe tbody tr th:only-of-type {\n",
              "        vertical-align: middle;\n",
              "    }\n",
              "\n",
              "    .dataframe tbody tr th {\n",
              "        vertical-align: top;\n",
              "    }\n",
              "\n",
              "    .dataframe thead th {\n",
              "        text-align: right;\n",
              "    }\n",
              "</style>\n",
              "<table border=\"1\" class=\"dataframe\">\n",
              "  <thead>\n",
              "    <tr style=\"text-align: right;\">\n",
              "      <th></th>\n",
              "      <th>Group</th>\n",
              "      <th>Rate ratio (RR)</th>\n",
              "      <th>Upper CI</th>\n",
              "      <th>Lower CI</th>\n",
              "    </tr>\n",
              "  </thead>\n",
              "  <tbody>\n",
              "    <tr>\n",
              "      <th>0</th>\n",
              "      <td>All</td>\n",
              "      <td>1.09</td>\n",
              "      <td>1.15</td>\n",
              "      <td>1.03</td>\n",
              "    </tr>\n",
              "    <tr>\n",
              "      <th>1</th>\n",
              "      <td>Women between 20 and 65 years old</td>\n",
              "      <td>0.96</td>\n",
              "      <td>1.13</td>\n",
              "      <td>0.82</td>\n",
              "    </tr>\n",
              "    <tr>\n",
              "      <th>2</th>\n",
              "      <td>Men between 20 and 65 years old</td>\n",
              "      <td>1.00</td>\n",
              "      <td>1.13</td>\n",
              "      <td>0.88</td>\n",
              "    </tr>\n",
              "    <tr>\n",
              "      <th>3</th>\n",
              "      <td>Women above 65 years old</td>\n",
              "      <td>1.09</td>\n",
              "      <td>1.19</td>\n",
              "      <td>1.00</td>\n",
              "    </tr>\n",
              "    <tr>\n",
              "      <th>4</th>\n",
              "      <td>Men above 65 years old</td>\n",
              "      <td>1.12</td>\n",
              "      <td>1.22</td>\n",
              "      <td>1.03</td>\n",
              "    </tr>\n",
              "  </tbody>\n",
              "</table>\n",
              "</div>"
            ],
            "text/plain": [
              "                               Group  Rate ratio (RR)  Upper CI  Lower CI\n",
              "0                                All             1.09      1.15      1.03\n",
              "1  Women between 20 and 65 years old             0.96      1.13      0.82\n",
              "2    Men between 20 and 65 years old             1.00      1.13      0.88\n",
              "3           Women above 65 years old             1.09      1.19      1.00\n",
              "4             Men above 65 years old             1.12      1.22      1.03"
            ]
          },
          "metadata": {
            "tags": []
          },
          "execution_count": 33
        }
      ]
    },
    {
      "cell_type": "markdown",
      "metadata": {
        "id": "iXVg9Zz85Jt0"
      },
      "source": [
        "####**Race**"
      ]
    },
    {
      "cell_type": "code",
      "metadata": {
        "id": "2ghZdmYP5Jt1",
        "colab": {
          "base_uri": "https://localhost:8080/"
        },
        "outputId": "b0e57048-4e9a-45f2-8f58-bf216da57965"
      },
      "source": [
        "rate_ratio(df_humidity, 'race','LHW')"
      ],
      "execution_count": null,
      "outputs": [
        {
          "output_type": "execute_result",
          "data": {
            "text/html": [
              "<div>\n",
              "<style scoped>\n",
              "    .dataframe tbody tr th:only-of-type {\n",
              "        vertical-align: middle;\n",
              "    }\n",
              "\n",
              "    .dataframe tbody tr th {\n",
              "        vertical-align: top;\n",
              "    }\n",
              "\n",
              "    .dataframe thead th {\n",
              "        text-align: right;\n",
              "    }\n",
              "</style>\n",
              "<table border=\"1\" class=\"dataframe\">\n",
              "  <thead>\n",
              "    <tr style=\"text-align: right;\">\n",
              "      <th></th>\n",
              "      <th>Group</th>\n",
              "      <th>Rate ratio (RR)</th>\n",
              "      <th>Upper CI</th>\n",
              "      <th>Lower CI</th>\n",
              "    </tr>\n",
              "  </thead>\n",
              "  <tbody>\n",
              "    <tr>\n",
              "      <th>0</th>\n",
              "      <td>All</td>\n",
              "      <td>1.09</td>\n",
              "      <td>1.15</td>\n",
              "      <td>1.03</td>\n",
              "    </tr>\n",
              "    <tr>\n",
              "      <th>1</th>\n",
              "      <td>White</td>\n",
              "      <td>1.04</td>\n",
              "      <td>1.10</td>\n",
              "      <td>0.98</td>\n",
              "    </tr>\n",
              "    <tr>\n",
              "      <th>2</th>\n",
              "      <td>Black</td>\n",
              "      <td>1.07</td>\n",
              "      <td>1.31</td>\n",
              "      <td>0.88</td>\n",
              "    </tr>\n",
              "    <tr>\n",
              "      <th>3</th>\n",
              "      <td>Yellow</td>\n",
              "      <td>0.95</td>\n",
              "      <td>1.56</td>\n",
              "      <td>0.58</td>\n",
              "    </tr>\n",
              "    <tr>\n",
              "      <th>4</th>\n",
              "      <td>Brown</td>\n",
              "      <td>1.22</td>\n",
              "      <td>1.39</td>\n",
              "      <td>1.07</td>\n",
              "    </tr>\n",
              "    <tr>\n",
              "      <th>5</th>\n",
              "      <td>Indian</td>\n",
              "      <td>0.95</td>\n",
              "      <td>1.56</td>\n",
              "      <td>0.58</td>\n",
              "    </tr>\n",
              "  </tbody>\n",
              "</table>\n",
              "</div>"
            ],
            "text/plain": [
              "    Group  Rate ratio (RR)  Upper CI  Lower CI\n",
              "0     All             1.09      1.15      1.03\n",
              "1   White             1.04      1.10      0.98\n",
              "2   Black             1.07      1.31      0.88\n",
              "3  Yellow             0.95      1.56      0.58\n",
              "4   Brown             1.22      1.39      1.07\n",
              "5  Indian             0.95      1.56      0.58"
            ]
          },
          "metadata": {
            "tags": []
          },
          "execution_count": 34
        }
      ]
    },
    {
      "cell_type": "markdown",
      "metadata": {
        "id": "fRGUUXTGDF9Z"
      },
      "source": [
        "###**High humidity waves**"
      ]
    },
    {
      "cell_type": "markdown",
      "metadata": {
        "id": "yYxyGcBwDF9a"
      },
      "source": [
        "####**Sex**"
      ]
    },
    {
      "cell_type": "code",
      "metadata": {
        "colab": {
          "base_uri": "https://localhost:8080/",
          "height": 142
        },
        "id": "oMrCU4H7DF9b",
        "outputId": "5aa85f1b-1254-4fc5-ceed-23c461335343"
      },
      "source": [
        "rate_ratio(df_humidity, 'sex','HHW')"
      ],
      "execution_count": null,
      "outputs": [
        {
          "output_type": "execute_result",
          "data": {
            "text/html": [
              "<div>\n",
              "<style scoped>\n",
              "    .dataframe tbody tr th:only-of-type {\n",
              "        vertical-align: middle;\n",
              "    }\n",
              "\n",
              "    .dataframe tbody tr th {\n",
              "        vertical-align: top;\n",
              "    }\n",
              "\n",
              "    .dataframe thead th {\n",
              "        text-align: right;\n",
              "    }\n",
              "</style>\n",
              "<table border=\"1\" class=\"dataframe\">\n",
              "  <thead>\n",
              "    <tr style=\"text-align: right;\">\n",
              "      <th></th>\n",
              "      <th>Group</th>\n",
              "      <th>Rate ratio (RR)</th>\n",
              "      <th>Upper CI</th>\n",
              "      <th>Lower CI</th>\n",
              "    </tr>\n",
              "  </thead>\n",
              "  <tbody>\n",
              "    <tr>\n",
              "      <th>0</th>\n",
              "      <td>All</td>\n",
              "      <td>0.99</td>\n",
              "      <td>1.05</td>\n",
              "      <td>0.94</td>\n",
              "    </tr>\n",
              "    <tr>\n",
              "      <th>1</th>\n",
              "      <td>Women</td>\n",
              "      <td>1.03</td>\n",
              "      <td>1.12</td>\n",
              "      <td>0.95</td>\n",
              "    </tr>\n",
              "    <tr>\n",
              "      <th>2</th>\n",
              "      <td>Men</td>\n",
              "      <td>0.96</td>\n",
              "      <td>1.04</td>\n",
              "      <td>0.89</td>\n",
              "    </tr>\n",
              "  </tbody>\n",
              "</table>\n",
              "</div>"
            ],
            "text/plain": [
              "   Group  Rate ratio (RR)  Upper CI  Lower CI\n",
              "0    All             0.99      1.05      0.94\n",
              "1  Women             1.03      1.12      0.95\n",
              "2    Men             0.96      1.04      0.89"
            ]
          },
          "metadata": {
            "tags": []
          },
          "execution_count": 35
        }
      ]
    },
    {
      "cell_type": "markdown",
      "metadata": {
        "id": "HVnwFbWpDF9c"
      },
      "source": [
        "####**Age**"
      ]
    },
    {
      "cell_type": "code",
      "metadata": {
        "colab": {
          "base_uri": "https://localhost:8080/",
          "height": 204
        },
        "id": "TMwTYfJSDF9d",
        "outputId": "022cdf3d-455c-47d5-e2ed-c6ab9e5751e1"
      },
      "source": [
        "rate_ratio(df_humidity, 'age','HHW')"
      ],
      "execution_count": null,
      "outputs": [
        {
          "output_type": "execute_result",
          "data": {
            "text/html": [
              "<div>\n",
              "<style scoped>\n",
              "    .dataframe tbody tr th:only-of-type {\n",
              "        vertical-align: middle;\n",
              "    }\n",
              "\n",
              "    .dataframe tbody tr th {\n",
              "        vertical-align: top;\n",
              "    }\n",
              "\n",
              "    .dataframe thead th {\n",
              "        text-align: right;\n",
              "    }\n",
              "</style>\n",
              "<table border=\"1\" class=\"dataframe\">\n",
              "  <thead>\n",
              "    <tr style=\"text-align: right;\">\n",
              "      <th></th>\n",
              "      <th>Group</th>\n",
              "      <th>Rate ratio (RR)</th>\n",
              "      <th>Upper CI</th>\n",
              "      <th>Lower CI</th>\n",
              "    </tr>\n",
              "  </thead>\n",
              "  <tbody>\n",
              "    <tr>\n",
              "      <th>0</th>\n",
              "      <td>All</td>\n",
              "      <td>0.99</td>\n",
              "      <td>1.05</td>\n",
              "      <td>0.94</td>\n",
              "    </tr>\n",
              "    <tr>\n",
              "      <th>1</th>\n",
              "      <td>Between 20 and 40 years old</td>\n",
              "      <td>0.88</td>\n",
              "      <td>1.19</td>\n",
              "      <td>0.65</td>\n",
              "    </tr>\n",
              "    <tr>\n",
              "      <th>2</th>\n",
              "      <td>Between 40 and 65 years old</td>\n",
              "      <td>1.00</td>\n",
              "      <td>1.11</td>\n",
              "      <td>0.90</td>\n",
              "    </tr>\n",
              "    <tr>\n",
              "      <th>3</th>\n",
              "      <td>Above 65 years old</td>\n",
              "      <td>1.01</td>\n",
              "      <td>1.08</td>\n",
              "      <td>0.94</td>\n",
              "    </tr>\n",
              "    <tr>\n",
              "      <th>4</th>\n",
              "      <td>Above 75 years old</td>\n",
              "      <td>0.98</td>\n",
              "      <td>1.07</td>\n",
              "      <td>0.90</td>\n",
              "    </tr>\n",
              "  </tbody>\n",
              "</table>\n",
              "</div>"
            ],
            "text/plain": [
              "                         Group  Rate ratio (RR)  Upper CI  Lower CI\n",
              "0                          All             0.99      1.05      0.94\n",
              "1  Between 20 and 40 years old             0.88      1.19      0.65\n",
              "2  Between 40 and 65 years old             1.00      1.11      0.90\n",
              "3           Above 65 years old             1.01      1.08      0.94\n",
              "4           Above 75 years old             0.98      1.07      0.90"
            ]
          },
          "metadata": {
            "tags": []
          },
          "execution_count": 36
        }
      ]
    },
    {
      "cell_type": "markdown",
      "metadata": {
        "id": "FcbsXZTIDF9e"
      },
      "source": [
        "####**Age and sex**"
      ]
    },
    {
      "cell_type": "code",
      "metadata": {
        "colab": {
          "base_uri": "https://localhost:8080/",
          "height": 204
        },
        "id": "42n7H6LkDF9e",
        "outputId": "efca8a3c-dcc1-43a7-9fdb-3b7f81812afd"
      },
      "source": [
        "rate_ratio(df_humidity, 'age and sex','HHW')"
      ],
      "execution_count": null,
      "outputs": [
        {
          "output_type": "execute_result",
          "data": {
            "text/html": [
              "<div>\n",
              "<style scoped>\n",
              "    .dataframe tbody tr th:only-of-type {\n",
              "        vertical-align: middle;\n",
              "    }\n",
              "\n",
              "    .dataframe tbody tr th {\n",
              "        vertical-align: top;\n",
              "    }\n",
              "\n",
              "    .dataframe thead th {\n",
              "        text-align: right;\n",
              "    }\n",
              "</style>\n",
              "<table border=\"1\" class=\"dataframe\">\n",
              "  <thead>\n",
              "    <tr style=\"text-align: right;\">\n",
              "      <th></th>\n",
              "      <th>Group</th>\n",
              "      <th>Rate ratio (RR)</th>\n",
              "      <th>Upper CI</th>\n",
              "      <th>Lower CI</th>\n",
              "    </tr>\n",
              "  </thead>\n",
              "  <tbody>\n",
              "    <tr>\n",
              "      <th>0</th>\n",
              "      <td>All</td>\n",
              "      <td>0.99</td>\n",
              "      <td>1.05</td>\n",
              "      <td>0.94</td>\n",
              "    </tr>\n",
              "    <tr>\n",
              "      <th>1</th>\n",
              "      <td>Women between 20 and 65 years old</td>\n",
              "      <td>0.93</td>\n",
              "      <td>1.10</td>\n",
              "      <td>0.79</td>\n",
              "    </tr>\n",
              "    <tr>\n",
              "      <th>2</th>\n",
              "      <td>Men between 20 and 65 years old</td>\n",
              "      <td>0.98</td>\n",
              "      <td>1.11</td>\n",
              "      <td>0.86</td>\n",
              "    </tr>\n",
              "    <tr>\n",
              "      <th>3</th>\n",
              "      <td>Women above 65 years old</td>\n",
              "      <td>1.05</td>\n",
              "      <td>1.15</td>\n",
              "      <td>0.96</td>\n",
              "    </tr>\n",
              "    <tr>\n",
              "      <th>4</th>\n",
              "      <td>Men above 65 years old</td>\n",
              "      <td>0.93</td>\n",
              "      <td>1.03</td>\n",
              "      <td>0.84</td>\n",
              "    </tr>\n",
              "  </tbody>\n",
              "</table>\n",
              "</div>"
            ],
            "text/plain": [
              "                               Group  Rate ratio (RR)  Upper CI  Lower CI\n",
              "0                                All             0.99      1.05      0.94\n",
              "1  Women between 20 and 65 years old             0.93      1.10      0.79\n",
              "2    Men between 20 and 65 years old             0.98      1.11      0.86\n",
              "3           Women above 65 years old             1.05      1.15      0.96\n",
              "4             Men above 65 years old             0.93      1.03      0.84"
            ]
          },
          "metadata": {
            "tags": []
          },
          "execution_count": 37
        }
      ]
    },
    {
      "cell_type": "markdown",
      "metadata": {
        "id": "SG0D1ySf5O1o"
      },
      "source": [
        "####**Race**"
      ]
    },
    {
      "cell_type": "code",
      "metadata": {
        "id": "RK6t4HC45O1p",
        "colab": {
          "base_uri": "https://localhost:8080/",
          "height": 235
        },
        "outputId": "83859cd9-df84-42a8-f014-4f1877dc747d"
      },
      "source": [
        "rate_ratio(df_humidity, 'race','HHW')"
      ],
      "execution_count": null,
      "outputs": [
        {
          "output_type": "execute_result",
          "data": {
            "text/html": [
              "<div>\n",
              "<style scoped>\n",
              "    .dataframe tbody tr th:only-of-type {\n",
              "        vertical-align: middle;\n",
              "    }\n",
              "\n",
              "    .dataframe tbody tr th {\n",
              "        vertical-align: top;\n",
              "    }\n",
              "\n",
              "    .dataframe thead th {\n",
              "        text-align: right;\n",
              "    }\n",
              "</style>\n",
              "<table border=\"1\" class=\"dataframe\">\n",
              "  <thead>\n",
              "    <tr style=\"text-align: right;\">\n",
              "      <th></th>\n",
              "      <th>Group</th>\n",
              "      <th>Rate ratio (RR)</th>\n",
              "      <th>Upper CI</th>\n",
              "      <th>Lower CI</th>\n",
              "    </tr>\n",
              "  </thead>\n",
              "  <tbody>\n",
              "    <tr>\n",
              "      <th>0</th>\n",
              "      <td>All</td>\n",
              "      <td>0.99</td>\n",
              "      <td>1.05</td>\n",
              "      <td>0.94</td>\n",
              "    </tr>\n",
              "    <tr>\n",
              "      <th>1</th>\n",
              "      <td>White</td>\n",
              "      <td>1.02</td>\n",
              "      <td>1.09</td>\n",
              "      <td>0.96</td>\n",
              "    </tr>\n",
              "    <tr>\n",
              "      <th>2</th>\n",
              "      <td>Black</td>\n",
              "      <td>0.94</td>\n",
              "      <td>1.18</td>\n",
              "      <td>0.75</td>\n",
              "    </tr>\n",
              "    <tr>\n",
              "      <th>3</th>\n",
              "      <td>Yellow</td>\n",
              "      <td>1.08</td>\n",
              "      <td>1.73</td>\n",
              "      <td>0.68</td>\n",
              "    </tr>\n",
              "    <tr>\n",
              "      <th>4</th>\n",
              "      <td>Brown</td>\n",
              "      <td>0.90</td>\n",
              "      <td>1.06</td>\n",
              "      <td>0.76</td>\n",
              "    </tr>\n",
              "    <tr>\n",
              "      <th>5</th>\n",
              "      <td>Indian</td>\n",
              "      <td>1.08</td>\n",
              "      <td>1.73</td>\n",
              "      <td>0.68</td>\n",
              "    </tr>\n",
              "  </tbody>\n",
              "</table>\n",
              "</div>"
            ],
            "text/plain": [
              "    Group  Rate ratio (RR)  Upper CI  Lower CI\n",
              "0     All             0.99      1.05      0.94\n",
              "1   White             1.02      1.09      0.96\n",
              "2   Black             0.94      1.18      0.75\n",
              "3  Yellow             1.08      1.73      0.68\n",
              "4   Brown             0.90      1.06      0.76\n",
              "5  Indian             1.08      1.73      0.68"
            ]
          },
          "metadata": {
            "tags": []
          },
          "execution_count": 38
        }
      ]
    },
    {
      "cell_type": "markdown",
      "metadata": {
        "id": "ligRmofhDNAy"
      },
      "source": [
        "###**Extreme humidity variation**"
      ]
    },
    {
      "cell_type": "markdown",
      "metadata": {
        "id": "m-bUo4ABDNAz"
      },
      "source": [
        "####**Sex**"
      ]
    },
    {
      "cell_type": "code",
      "metadata": {
        "colab": {
          "base_uri": "https://localhost:8080/",
          "height": 142
        },
        "id": "D5VHnrd9DNA0",
        "outputId": "f5c477a4-b7d5-4d6a-d1ba-571472eeba3f"
      },
      "source": [
        "rate_ratio(df_humidity, 'sex','above_pct_range')"
      ],
      "execution_count": null,
      "outputs": [
        {
          "output_type": "execute_result",
          "data": {
            "text/html": [
              "<div>\n",
              "<style scoped>\n",
              "    .dataframe tbody tr th:only-of-type {\n",
              "        vertical-align: middle;\n",
              "    }\n",
              "\n",
              "    .dataframe tbody tr th {\n",
              "        vertical-align: top;\n",
              "    }\n",
              "\n",
              "    .dataframe thead th {\n",
              "        text-align: right;\n",
              "    }\n",
              "</style>\n",
              "<table border=\"1\" class=\"dataframe\">\n",
              "  <thead>\n",
              "    <tr style=\"text-align: right;\">\n",
              "      <th></th>\n",
              "      <th>Group</th>\n",
              "      <th>Rate ratio (RR)</th>\n",
              "      <th>Upper CI</th>\n",
              "      <th>Lower CI</th>\n",
              "    </tr>\n",
              "  </thead>\n",
              "  <tbody>\n",
              "    <tr>\n",
              "      <th>0</th>\n",
              "      <td>All</td>\n",
              "      <td>1.02</td>\n",
              "      <td>1.04</td>\n",
              "      <td>1.00</td>\n",
              "    </tr>\n",
              "    <tr>\n",
              "      <th>1</th>\n",
              "      <td>Women</td>\n",
              "      <td>1.03</td>\n",
              "      <td>1.07</td>\n",
              "      <td>0.99</td>\n",
              "    </tr>\n",
              "    <tr>\n",
              "      <th>2</th>\n",
              "      <td>Men</td>\n",
              "      <td>1.02</td>\n",
              "      <td>1.05</td>\n",
              "      <td>0.99</td>\n",
              "    </tr>\n",
              "  </tbody>\n",
              "</table>\n",
              "</div>"
            ],
            "text/plain": [
              "   Group  Rate ratio (RR)  Upper CI  Lower CI\n",
              "0    All             1.02      1.04      1.00\n",
              "1  Women             1.03      1.07      0.99\n",
              "2    Men             1.02      1.05      0.99"
            ]
          },
          "metadata": {
            "tags": []
          },
          "execution_count": 39
        }
      ]
    },
    {
      "cell_type": "markdown",
      "metadata": {
        "id": "cRoLFp-aDNA1"
      },
      "source": [
        "####**Age**"
      ]
    },
    {
      "cell_type": "code",
      "metadata": {
        "colab": {
          "base_uri": "https://localhost:8080/",
          "height": 204
        },
        "id": "flH_FkewDNA1",
        "outputId": "5bef88fd-b924-4716-fa11-74640de27293"
      },
      "source": [
        "rate_ratio(df_humidity, 'age','above_pct_range')"
      ],
      "execution_count": null,
      "outputs": [
        {
          "output_type": "execute_result",
          "data": {
            "text/html": [
              "<div>\n",
              "<style scoped>\n",
              "    .dataframe tbody tr th:only-of-type {\n",
              "        vertical-align: middle;\n",
              "    }\n",
              "\n",
              "    .dataframe tbody tr th {\n",
              "        vertical-align: top;\n",
              "    }\n",
              "\n",
              "    .dataframe thead th {\n",
              "        text-align: right;\n",
              "    }\n",
              "</style>\n",
              "<table border=\"1\" class=\"dataframe\">\n",
              "  <thead>\n",
              "    <tr style=\"text-align: right;\">\n",
              "      <th></th>\n",
              "      <th>Group</th>\n",
              "      <th>Rate ratio (RR)</th>\n",
              "      <th>Upper CI</th>\n",
              "      <th>Lower CI</th>\n",
              "    </tr>\n",
              "  </thead>\n",
              "  <tbody>\n",
              "    <tr>\n",
              "      <th>0</th>\n",
              "      <td>All</td>\n",
              "      <td>1.02</td>\n",
              "      <td>1.04</td>\n",
              "      <td>1.00</td>\n",
              "    </tr>\n",
              "    <tr>\n",
              "      <th>1</th>\n",
              "      <td>Between 20 and 40 years old</td>\n",
              "      <td>1.01</td>\n",
              "      <td>1.14</td>\n",
              "      <td>0.89</td>\n",
              "    </tr>\n",
              "    <tr>\n",
              "      <th>2</th>\n",
              "      <td>Between 40 and 65 years old</td>\n",
              "      <td>1.00</td>\n",
              "      <td>1.05</td>\n",
              "      <td>0.95</td>\n",
              "    </tr>\n",
              "    <tr>\n",
              "      <th>3</th>\n",
              "      <td>Above 65 years old</td>\n",
              "      <td>1.02</td>\n",
              "      <td>1.05</td>\n",
              "      <td>0.99</td>\n",
              "    </tr>\n",
              "    <tr>\n",
              "      <th>4</th>\n",
              "      <td>Above 75 years old</td>\n",
              "      <td>1.02</td>\n",
              "      <td>1.06</td>\n",
              "      <td>0.98</td>\n",
              "    </tr>\n",
              "  </tbody>\n",
              "</table>\n",
              "</div>"
            ],
            "text/plain": [
              "                         Group  Rate ratio (RR)  Upper CI  Lower CI\n",
              "0                          All             1.02      1.04      1.00\n",
              "1  Between 20 and 40 years old             1.01      1.14      0.89\n",
              "2  Between 40 and 65 years old             1.00      1.05      0.95\n",
              "3           Above 65 years old             1.02      1.05      0.99\n",
              "4           Above 75 years old             1.02      1.06      0.98"
            ]
          },
          "metadata": {
            "tags": []
          },
          "execution_count": 40
        }
      ]
    },
    {
      "cell_type": "markdown",
      "metadata": {
        "id": "k7AcoWlgDNA2"
      },
      "source": [
        "####**Age and sex**"
      ]
    },
    {
      "cell_type": "code",
      "metadata": {
        "colab": {
          "base_uri": "https://localhost:8080/",
          "height": 204
        },
        "id": "7w0dR_6uDNA3",
        "outputId": "0700cdd4-892b-4346-e813-55b16a269354"
      },
      "source": [
        "rate_ratio(df_humidity, 'age and sex','above_pct_range')"
      ],
      "execution_count": null,
      "outputs": [
        {
          "output_type": "execute_result",
          "data": {
            "text/html": [
              "<div>\n",
              "<style scoped>\n",
              "    .dataframe tbody tr th:only-of-type {\n",
              "        vertical-align: middle;\n",
              "    }\n",
              "\n",
              "    .dataframe tbody tr th {\n",
              "        vertical-align: top;\n",
              "    }\n",
              "\n",
              "    .dataframe thead th {\n",
              "        text-align: right;\n",
              "    }\n",
              "</style>\n",
              "<table border=\"1\" class=\"dataframe\">\n",
              "  <thead>\n",
              "    <tr style=\"text-align: right;\">\n",
              "      <th></th>\n",
              "      <th>Group</th>\n",
              "      <th>Rate ratio (RR)</th>\n",
              "      <th>Upper CI</th>\n",
              "      <th>Lower CI</th>\n",
              "    </tr>\n",
              "  </thead>\n",
              "  <tbody>\n",
              "    <tr>\n",
              "      <th>0</th>\n",
              "      <td>All</td>\n",
              "      <td>1.02</td>\n",
              "      <td>1.04</td>\n",
              "      <td>1.00</td>\n",
              "    </tr>\n",
              "    <tr>\n",
              "      <th>1</th>\n",
              "      <td>Women between 20 and 65 years old</td>\n",
              "      <td>0.99</td>\n",
              "      <td>1.06</td>\n",
              "      <td>0.92</td>\n",
              "    </tr>\n",
              "    <tr>\n",
              "      <th>2</th>\n",
              "      <td>Men between 20 and 65 years old</td>\n",
              "      <td>0.99</td>\n",
              "      <td>1.05</td>\n",
              "      <td>0.94</td>\n",
              "    </tr>\n",
              "    <tr>\n",
              "      <th>3</th>\n",
              "      <td>Women above 65 years old</td>\n",
              "      <td>1.03</td>\n",
              "      <td>1.07</td>\n",
              "      <td>0.99</td>\n",
              "    </tr>\n",
              "    <tr>\n",
              "      <th>4</th>\n",
              "      <td>Men above 65 years old</td>\n",
              "      <td>1.01</td>\n",
              "      <td>1.05</td>\n",
              "      <td>0.97</td>\n",
              "    </tr>\n",
              "  </tbody>\n",
              "</table>\n",
              "</div>"
            ],
            "text/plain": [
              "                               Group  Rate ratio (RR)  Upper CI  Lower CI\n",
              "0                                All             1.02      1.04      1.00\n",
              "1  Women between 20 and 65 years old             0.99      1.06      0.92\n",
              "2    Men between 20 and 65 years old             0.99      1.05      0.94\n",
              "3           Women above 65 years old             1.03      1.07      0.99\n",
              "4             Men above 65 years old             1.01      1.05      0.97"
            ]
          },
          "metadata": {
            "tags": []
          },
          "execution_count": 41
        }
      ]
    },
    {
      "cell_type": "markdown",
      "metadata": {
        "id": "16SL9XjX5Rc4"
      },
      "source": [
        "####**Race**"
      ]
    },
    {
      "cell_type": "code",
      "metadata": {
        "id": "BXBuGKJd5Rc5",
        "colab": {
          "base_uri": "https://localhost:8080/"
        },
        "outputId": "31a7d859-0bb5-46f0-9469-e00817e311cf"
      },
      "source": [
        "rate_ratio(df_humidity, 'race','above_pct_range')"
      ],
      "execution_count": null,
      "outputs": [
        {
          "output_type": "execute_result",
          "data": {
            "text/html": [
              "<div>\n",
              "<style scoped>\n",
              "    .dataframe tbody tr th:only-of-type {\n",
              "        vertical-align: middle;\n",
              "    }\n",
              "\n",
              "    .dataframe tbody tr th {\n",
              "        vertical-align: top;\n",
              "    }\n",
              "\n",
              "    .dataframe thead th {\n",
              "        text-align: right;\n",
              "    }\n",
              "</style>\n",
              "<table border=\"1\" class=\"dataframe\">\n",
              "  <thead>\n",
              "    <tr style=\"text-align: right;\">\n",
              "      <th></th>\n",
              "      <th>Group</th>\n",
              "      <th>Rate ratio (RR)</th>\n",
              "      <th>Upper CI</th>\n",
              "      <th>Lower CI</th>\n",
              "    </tr>\n",
              "  </thead>\n",
              "  <tbody>\n",
              "    <tr>\n",
              "      <th>0</th>\n",
              "      <td>All</td>\n",
              "      <td>1.02</td>\n",
              "      <td>1.04</td>\n",
              "      <td>1.00</td>\n",
              "    </tr>\n",
              "    <tr>\n",
              "      <th>1</th>\n",
              "      <td>White</td>\n",
              "      <td>1.03</td>\n",
              "      <td>1.06</td>\n",
              "      <td>1.00</td>\n",
              "    </tr>\n",
              "    <tr>\n",
              "      <th>2</th>\n",
              "      <td>Black</td>\n",
              "      <td>1.02</td>\n",
              "      <td>1.12</td>\n",
              "      <td>0.93</td>\n",
              "    </tr>\n",
              "    <tr>\n",
              "      <th>3</th>\n",
              "      <td>Yellow</td>\n",
              "      <td>0.98</td>\n",
              "      <td>1.25</td>\n",
              "      <td>0.77</td>\n",
              "    </tr>\n",
              "    <tr>\n",
              "      <th>4</th>\n",
              "      <td>Brown</td>\n",
              "      <td>0.98</td>\n",
              "      <td>1.05</td>\n",
              "      <td>0.91</td>\n",
              "    </tr>\n",
              "    <tr>\n",
              "      <th>5</th>\n",
              "      <td>Indian</td>\n",
              "      <td>0.98</td>\n",
              "      <td>1.25</td>\n",
              "      <td>0.77</td>\n",
              "    </tr>\n",
              "  </tbody>\n",
              "</table>\n",
              "</div>"
            ],
            "text/plain": [
              "    Group  Rate ratio (RR)  Upper CI  Lower CI\n",
              "0     All             1.02      1.04      1.00\n",
              "1   White             1.03      1.06      1.00\n",
              "2   Black             1.02      1.12      0.93\n",
              "3  Yellow             0.98      1.25      0.77\n",
              "4   Brown             0.98      1.05      0.91\n",
              "5  Indian             0.98      1.25      0.77"
            ]
          },
          "metadata": {
            "tags": []
          },
          "execution_count": 42
        }
      ]
    },
    {
      "cell_type": "markdown",
      "metadata": {
        "id": "uTICs04kDZKk"
      },
      "source": [
        "###**Extreme humidity difference between days**"
      ]
    },
    {
      "cell_type": "markdown",
      "metadata": {
        "id": "lTR-jbAuDZKk"
      },
      "source": [
        "####**Sex**"
      ]
    },
    {
      "cell_type": "code",
      "metadata": {
        "colab": {
          "base_uri": "https://localhost:8080/",
          "height": 142
        },
        "id": "1BKNZSkcDZKl",
        "outputId": "bb3843df-1501-4b73-968a-fddddf76ce34"
      },
      "source": [
        "rate_ratio(df_humidity, 'sex','above_pct_dif')"
      ],
      "execution_count": null,
      "outputs": [
        {
          "output_type": "execute_result",
          "data": {
            "text/html": [
              "<div>\n",
              "<style scoped>\n",
              "    .dataframe tbody tr th:only-of-type {\n",
              "        vertical-align: middle;\n",
              "    }\n",
              "\n",
              "    .dataframe tbody tr th {\n",
              "        vertical-align: top;\n",
              "    }\n",
              "\n",
              "    .dataframe thead th {\n",
              "        text-align: right;\n",
              "    }\n",
              "</style>\n",
              "<table border=\"1\" class=\"dataframe\">\n",
              "  <thead>\n",
              "    <tr style=\"text-align: right;\">\n",
              "      <th></th>\n",
              "      <th>Group</th>\n",
              "      <th>Rate ratio (RR)</th>\n",
              "      <th>Upper CI</th>\n",
              "      <th>Lower CI</th>\n",
              "    </tr>\n",
              "  </thead>\n",
              "  <tbody>\n",
              "    <tr>\n",
              "      <th>0</th>\n",
              "      <td>All</td>\n",
              "      <td>0.98</td>\n",
              "      <td>1.06</td>\n",
              "      <td>0.91</td>\n",
              "    </tr>\n",
              "    <tr>\n",
              "      <th>1</th>\n",
              "      <td>Women</td>\n",
              "      <td>1.00</td>\n",
              "      <td>1.12</td>\n",
              "      <td>0.89</td>\n",
              "    </tr>\n",
              "    <tr>\n",
              "      <th>2</th>\n",
              "      <td>Men</td>\n",
              "      <td>0.93</td>\n",
              "      <td>1.04</td>\n",
              "      <td>0.83</td>\n",
              "    </tr>\n",
              "  </tbody>\n",
              "</table>\n",
              "</div>"
            ],
            "text/plain": [
              "   Group  Rate ratio (RR)  Upper CI  Lower CI\n",
              "0    All             0.98      1.06      0.91\n",
              "1  Women             1.00      1.12      0.89\n",
              "2    Men             0.93      1.04      0.83"
            ]
          },
          "metadata": {
            "tags": []
          },
          "execution_count": 43
        }
      ]
    },
    {
      "cell_type": "markdown",
      "metadata": {
        "id": "q3liwQWjDZKm"
      },
      "source": [
        "####**Age**"
      ]
    },
    {
      "cell_type": "code",
      "metadata": {
        "colab": {
          "base_uri": "https://localhost:8080/",
          "height": 204
        },
        "id": "mZv6TiKRDZKm",
        "outputId": "c039cc0d-c097-4a39-8b7c-5cf9b6480540"
      },
      "source": [
        "rate_ratio(df_humidity, 'age','above_pct_dif')"
      ],
      "execution_count": null,
      "outputs": [
        {
          "output_type": "execute_result",
          "data": {
            "text/html": [
              "<div>\n",
              "<style scoped>\n",
              "    .dataframe tbody tr th:only-of-type {\n",
              "        vertical-align: middle;\n",
              "    }\n",
              "\n",
              "    .dataframe tbody tr th {\n",
              "        vertical-align: top;\n",
              "    }\n",
              "\n",
              "    .dataframe thead th {\n",
              "        text-align: right;\n",
              "    }\n",
              "</style>\n",
              "<table border=\"1\" class=\"dataframe\">\n",
              "  <thead>\n",
              "    <tr style=\"text-align: right;\">\n",
              "      <th></th>\n",
              "      <th>Group</th>\n",
              "      <th>Rate ratio (RR)</th>\n",
              "      <th>Upper CI</th>\n",
              "      <th>Lower CI</th>\n",
              "    </tr>\n",
              "  </thead>\n",
              "  <tbody>\n",
              "    <tr>\n",
              "      <th>0</th>\n",
              "      <td>All</td>\n",
              "      <td>0.98</td>\n",
              "      <td>1.06</td>\n",
              "      <td>0.91</td>\n",
              "    </tr>\n",
              "    <tr>\n",
              "      <th>1</th>\n",
              "      <td>Between 20 and 40 years old</td>\n",
              "      <td>0.91</td>\n",
              "      <td>1.43</td>\n",
              "      <td>0.58</td>\n",
              "    </tr>\n",
              "    <tr>\n",
              "      <th>2</th>\n",
              "      <td>Between 40 and 65 years old</td>\n",
              "      <td>0.97</td>\n",
              "      <td>1.12</td>\n",
              "      <td>0.84</td>\n",
              "    </tr>\n",
              "    <tr>\n",
              "      <th>3</th>\n",
              "      <td>Above 65 years old</td>\n",
              "      <td>0.97</td>\n",
              "      <td>1.07</td>\n",
              "      <td>0.88</td>\n",
              "    </tr>\n",
              "    <tr>\n",
              "      <th>4</th>\n",
              "      <td>Above 75 years old</td>\n",
              "      <td>0.96</td>\n",
              "      <td>1.08</td>\n",
              "      <td>0.85</td>\n",
              "    </tr>\n",
              "  </tbody>\n",
              "</table>\n",
              "</div>"
            ],
            "text/plain": [
              "                         Group  Rate ratio (RR)  Upper CI  Lower CI\n",
              "0                          All             0.98      1.06      0.91\n",
              "1  Between 20 and 40 years old             0.91      1.43      0.58\n",
              "2  Between 40 and 65 years old             0.97      1.12      0.84\n",
              "3           Above 65 years old             0.97      1.07      0.88\n",
              "4           Above 75 years old             0.96      1.08      0.85"
            ]
          },
          "metadata": {
            "tags": []
          },
          "execution_count": 44
        }
      ]
    },
    {
      "cell_type": "markdown",
      "metadata": {
        "id": "FOq2rqwrDZKm"
      },
      "source": [
        "####**Age and sex**"
      ]
    },
    {
      "cell_type": "code",
      "metadata": {
        "colab": {
          "base_uri": "https://localhost:8080/",
          "height": 204
        },
        "id": "igYlS6BeDZKn",
        "outputId": "8a4165d0-3c91-4b25-b3e7-967a372da014"
      },
      "source": [
        "rate_ratio(df_humidity, 'age and sex','above_pct_dif')"
      ],
      "execution_count": null,
      "outputs": [
        {
          "output_type": "execute_result",
          "data": {
            "text/html": [
              "<div>\n",
              "<style scoped>\n",
              "    .dataframe tbody tr th:only-of-type {\n",
              "        vertical-align: middle;\n",
              "    }\n",
              "\n",
              "    .dataframe tbody tr th {\n",
              "        vertical-align: top;\n",
              "    }\n",
              "\n",
              "    .dataframe thead th {\n",
              "        text-align: right;\n",
              "    }\n",
              "</style>\n",
              "<table border=\"1\" class=\"dataframe\">\n",
              "  <thead>\n",
              "    <tr style=\"text-align: right;\">\n",
              "      <th></th>\n",
              "      <th>Group</th>\n",
              "      <th>Rate ratio (RR)</th>\n",
              "      <th>Upper CI</th>\n",
              "      <th>Lower CI</th>\n",
              "    </tr>\n",
              "  </thead>\n",
              "  <tbody>\n",
              "    <tr>\n",
              "      <th>0</th>\n",
              "      <td>All</td>\n",
              "      <td>0.98</td>\n",
              "      <td>1.06</td>\n",
              "      <td>0.91</td>\n",
              "    </tr>\n",
              "    <tr>\n",
              "      <th>1</th>\n",
              "      <td>Women between 20 and 65 years old</td>\n",
              "      <td>0.93</td>\n",
              "      <td>1.16</td>\n",
              "      <td>0.74</td>\n",
              "    </tr>\n",
              "    <tr>\n",
              "      <th>2</th>\n",
              "      <td>Men between 20 and 65 years old</td>\n",
              "      <td>1.00</td>\n",
              "      <td>1.19</td>\n",
              "      <td>0.84</td>\n",
              "    </tr>\n",
              "    <tr>\n",
              "      <th>3</th>\n",
              "      <td>Women above 65 years old</td>\n",
              "      <td>0.98</td>\n",
              "      <td>1.12</td>\n",
              "      <td>0.86</td>\n",
              "    </tr>\n",
              "    <tr>\n",
              "      <th>4</th>\n",
              "      <td>Men above 65 years old</td>\n",
              "      <td>0.98</td>\n",
              "      <td>1.13</td>\n",
              "      <td>0.85</td>\n",
              "    </tr>\n",
              "  </tbody>\n",
              "</table>\n",
              "</div>"
            ],
            "text/plain": [
              "                               Group  Rate ratio (RR)  Upper CI  Lower CI\n",
              "0                                All             0.98      1.06      0.91\n",
              "1  Women between 20 and 65 years old             0.93      1.16      0.74\n",
              "2    Men between 20 and 65 years old             1.00      1.19      0.84\n",
              "3           Women above 65 years old             0.98      1.12      0.86\n",
              "4             Men above 65 years old             0.98      1.13      0.85"
            ]
          },
          "metadata": {
            "tags": []
          },
          "execution_count": 45
        }
      ]
    },
    {
      "cell_type": "markdown",
      "metadata": {
        "id": "-rPbAdQx5VhT"
      },
      "source": [
        "####**Race**"
      ]
    },
    {
      "cell_type": "code",
      "metadata": {
        "id": "Vf4ytC2Y5VhT",
        "colab": {
          "base_uri": "https://localhost:8080/",
          "height": 235
        },
        "outputId": "896c095c-3eb7-4ff0-b8e8-91c0a0d737be"
      },
      "source": [
        "rate_ratio(df_humidity, 'race','above_pct_dif')"
      ],
      "execution_count": null,
      "outputs": [
        {
          "output_type": "execute_result",
          "data": {
            "text/html": [
              "<div>\n",
              "<style scoped>\n",
              "    .dataframe tbody tr th:only-of-type {\n",
              "        vertical-align: middle;\n",
              "    }\n",
              "\n",
              "    .dataframe tbody tr th {\n",
              "        vertical-align: top;\n",
              "    }\n",
              "\n",
              "    .dataframe thead th {\n",
              "        text-align: right;\n",
              "    }\n",
              "</style>\n",
              "<table border=\"1\" class=\"dataframe\">\n",
              "  <thead>\n",
              "    <tr style=\"text-align: right;\">\n",
              "      <th></th>\n",
              "      <th>Group</th>\n",
              "      <th>Rate ratio (RR)</th>\n",
              "      <th>Upper CI</th>\n",
              "      <th>Lower CI</th>\n",
              "    </tr>\n",
              "  </thead>\n",
              "  <tbody>\n",
              "    <tr>\n",
              "      <th>0</th>\n",
              "      <td>All</td>\n",
              "      <td>0.98</td>\n",
              "      <td>1.06</td>\n",
              "      <td>0.91</td>\n",
              "    </tr>\n",
              "    <tr>\n",
              "      <th>1</th>\n",
              "      <td>White</td>\n",
              "      <td>1.02</td>\n",
              "      <td>1.11</td>\n",
              "      <td>0.94</td>\n",
              "    </tr>\n",
              "    <tr>\n",
              "      <th>2</th>\n",
              "      <td>Black</td>\n",
              "      <td>0.97</td>\n",
              "      <td>1.37</td>\n",
              "      <td>0.68</td>\n",
              "    </tr>\n",
              "    <tr>\n",
              "      <th>3</th>\n",
              "      <td>Yellow</td>\n",
              "      <td>0.95</td>\n",
              "      <td>1.83</td>\n",
              "      <td>0.49</td>\n",
              "    </tr>\n",
              "    <tr>\n",
              "      <th>4</th>\n",
              "      <td>Brown</td>\n",
              "      <td>0.87</td>\n",
              "      <td>1.11</td>\n",
              "      <td>0.68</td>\n",
              "    </tr>\n",
              "    <tr>\n",
              "      <th>5</th>\n",
              "      <td>Indian</td>\n",
              "      <td>0.95</td>\n",
              "      <td>1.83</td>\n",
              "      <td>0.49</td>\n",
              "    </tr>\n",
              "  </tbody>\n",
              "</table>\n",
              "</div>"
            ],
            "text/plain": [
              "    Group  Rate ratio (RR)  Upper CI  Lower CI\n",
              "0     All             0.98      1.06      0.91\n",
              "1   White             1.02      1.11      0.94\n",
              "2   Black             0.97      1.37      0.68\n",
              "3  Yellow             0.95      1.83      0.49\n",
              "4   Brown             0.87      1.11      0.68\n",
              "5  Indian             0.95      1.83      0.49"
            ]
          },
          "metadata": {
            "tags": []
          },
          "execution_count": 46
        }
      ]
    },
    {
      "cell_type": "markdown",
      "metadata": {
        "id": "VfAfCy7N-w-y"
      },
      "source": [
        "## **References**\n",
        "\n",
        "CENTERS FOR DISEASE CONTROL AND PREVENTION (CDC).Principles ofEpidemiology in Public Health Practice, Third Edition An Introduction to AppliedEpidemiology and Biostatistics. Available at: <https://www.cdc.gov/csels/dsepd/ss1978/lesson3/section5.html>\n",
        "\n",
        "\n",
        "BOSTON UNIVERSITY SCHOOL OF PUBLIC HEALTH (SPH).Rate Ratios. Available at: <https://sphweb.bumc.bu.edu/otlt/MPH-Modules/PH717-QuantCore/PH717_ComparingFrequencies/PH717_ComparingFrequencies9.html>.\n",
        "\n",
        "\n"
      ]
    }
  ]
}
