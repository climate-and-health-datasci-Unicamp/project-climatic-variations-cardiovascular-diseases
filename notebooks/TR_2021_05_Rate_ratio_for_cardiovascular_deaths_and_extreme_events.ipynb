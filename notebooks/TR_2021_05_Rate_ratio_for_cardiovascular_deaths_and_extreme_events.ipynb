{
  "nbformat": 4,
  "nbformat_minor": 0,
  "metadata": {
    "colab": {
      "name": "TR_2021/05 -Rate ratio for cardiovascular deaths and extreme events.ipynb",
      "provenance": [],
      "collapsed_sections": [
        "_cZJPEYBMKfI",
        "owaOVG-i4Wsu",
        "Q5DbTHks495q",
        "iXVg9Zz85Jt0",
        "16SL9XjX5Rc4"
      ]
    },
    "kernelspec": {
      "name": "python3",
      "display_name": "Python 3"
    }
  },
  "cells": [
    {
      "cell_type": "markdown",
      "metadata": {
        "id": "_7WxcqgBRQB-"
      },
      "source": [
        "# **TR_2021/05 - Technical report: Rate ratio for cardiovascular deaths and extreme events**\n",
        "\n",
        "\n",
        "|Technical Report ID  |2021/05|\n",
        "|--|--|\n",
        "| Title |Rate ratio for cardiovascular deaths and extreme events|\n",
        "| Authors | Júlia De Lázari, Paula Dornhofer|\n",
        "| Creation Date| 2021-03|\n",
        "\n",
        "\n",
        "## Databases descriptions\n",
        "\n",
        "**inputs:** \n",
        "\n",
        "- obitos_circulatorio.csv: Dataframe of deaths due to cardiovascular diseases from 2001 to 2019 (only data up to 2018 was used, to match the climate data).\n",
        "\n",
        "- EV_VCP.csv: Dataframe with the extreme events computed. Viracopos data was used for this.\n",
        "\n",
        "## Analysis\n",
        "\n",
        "This report presents an analysis of the the _rate ratio_ for the [extreme climate events](https://github.com/climate-and-health-datasci-Unicamp/project-climatic-variations-cardiovascular-diseases/blob/main/notebooks/TR_2020_05_Extreme_climatic_events_for_Campinas.ipynb).\n",
        "\n",
        "The analysis was conducted for the total data and for some stratifications (sex, age, age and sex).\n",
        "\n",
        "\n",
        "\n"
      ]
    },
    {
      "cell_type": "markdown",
      "metadata": {
        "id": "O_KNUbbG9v_C"
      },
      "source": [
        "##**Rate ratio**\n",
        "\n",
        "Rate ratio is a relative difference measure used to compare the incidence rates of events occurring at any given point in time, frequently used in epidemiology[CDC].\n",
        "\n",
        "It is given by **RR = rate ratio = incidence rate 1/incidence rate 2**\n",
        "\n",
        "with **incidence rate = number of events/population size**\n",
        "\n",
        "The confidence interval is given by **log(RR) - [1.96 x SE(log(RR))] a log(RR) + [1.96 x SE(log(RR))]**. SE is the abreviation for standard error [SPH].\n",
        "\n",
        "In our case **RR = (number of deaths at days under extreme climatic events/number of days with extreme climatic events)/(number of deaths at control days/number of control days)**\n",
        "\n",
        "Its interpretation is similar to that of the _risk ratio_. A rate ratio of 1.0 indicates equal rates in the two groups. A rate ratio greater than 1.0 indicates increased risk for the group in the numerator. A rate ratio less than 1.0 indicates descreased risk for the group in the numerator."
      ]
    },
    {
      "cell_type": "markdown",
      "metadata": {
        "id": "_cZJPEYBMKfI"
      },
      "source": [
        "##**Import libraries**"
      ]
    },
    {
      "cell_type": "code",
      "metadata": {
        "colab": {
          "base_uri": "https://localhost:8080/"
        },
        "id": "Kl_o0DIMRQCE",
        "outputId": "2d7be02f-e232-4221-e8c4-ee00a33017c7"
      },
      "source": [
        "#-------------------------------------------------------------------#\n",
        "#                       Import libraries                            #\n",
        "#-------------------------------------------------------------------#\n",
        "import pandas as pd\n",
        "import numpy as np\n",
        "import datetime\n",
        "import more_itertools as mit\n",
        "import datetime\n",
        "import statistics as stat\n",
        "import matplotlib.pyplot as plt\n",
        "from matplotlib.ticker import PercentFormatter\n",
        "import scipy\n",
        "import math\n",
        "import seaborn as sns\n",
        "import pylab\n",
        "from datetime import timedelta\n",
        "from calendar import isleap\n",
        "from google.colab import drive\n",
        "from google.colab import files\n",
        "\n",
        "drive.mount('/content/drive')\n",
        "\n",
        "pd.options.mode.chained_assignment = None"
      ],
      "execution_count": null,
      "outputs": [
        {
          "output_type": "stream",
          "name": "stdout",
          "text": [
            "Drive already mounted at /content/drive; to attempt to forcibly remount, call drive.mount(\"/content/drive\", force_remount=True).\n"
          ]
        }
      ]
    },
    {
      "cell_type": "markdown",
      "metadata": {
        "id": "Bj7aFMkmRQCG"
      },
      "source": [
        "## **Load and merge dataframes**"
      ]
    },
    {
      "cell_type": "code",
      "metadata": {
        "id": "7vYzFqgKRQCG"
      },
      "source": [
        "#-------------------------------------------------------------------#\n",
        "#                      Cardiovascular deaths                        #\n",
        "#-------------------------------------------------------------------#\n",
        "\n",
        "df_obitos = pd.read_csv('obitos_circulatorio.csv')\n",
        "df_obitos = df_obitos.drop(columns = {'Unnamed: 0','CODMUNRES','CODMUNOCOR','COMPLRES','Descrição CID',\n",
        "                                      'CAUSABAS','LINHAA','LINHAB','LINHAC','LINHAD'}) #drop unneded columns\n",
        "df_obitos = df_obitos.rename(columns = {'DTOBITO':'DATE'})\n",
        "df_obitos = df_obitos[df_obitos['DATE']<='2018-12-31'] #period for cliamte data\n",
        "df_obitos = df_obitos[(df_obitos.DATE !='2000-02-29')&(df_obitos.DATE !='2004-02-29')&(df_obitos.DATE !='2008-02-29')&(df_obitos.DATE !='2012-02-29')&(df_obitos.DATE !='2016-02-29')] #remove leap year dates (02-29)"
      ],
      "execution_count": null,
      "outputs": []
    },
    {
      "cell_type": "code",
      "metadata": {
        "id": "U50cC2w0RQCH"
      },
      "source": [
        "#-------------------------------------------------------------------#\n",
        "#                  Extreme climatic variations                      #\n",
        "#-------------------------------------------------------------------#\n",
        "df_vir =  pd.read_csv('/content/drive/Shared drives/Clima&Saúde/Pesquisadores/DeLázari_Júlia/data/Climáticos_Viracopos/EV_VCP.csv')\n",
        "df_vir = df_vir.drop(columns = {'Unnamed: 0'})"
      ],
      "execution_count": null,
      "outputs": []
    },
    {
      "cell_type": "code",
      "metadata": {
        "id": "wykqMU8BRQCH"
      },
      "source": [
        "#-------------------------------------------------------------------#\n",
        "#              Merge health and climate dataframes                  #\n",
        "#-------------------------------------------------------------------#\n",
        "\n",
        "df = pd.merge(df_vir,df_obitos, on='DATE', how='outer')"
      ],
      "execution_count": null,
      "outputs": []
    },
    {
      "cell_type": "markdown",
      "metadata": {
        "id": "MZtAQw07RQCI"
      },
      "source": [
        "## **Functions**\n",
        "\n",
        "Automatize some repeated operations along the notebook\n",
        "- stratify functions: different stratifications of the dataframe\n",
        "- rate_ratio: compute the rate ratio for the desired stratification"
      ]
    },
    {
      "cell_type": "markdown",
      "metadata": {
        "id": "VbeozYITLm1D"
      },
      "source": [
        "###**Stratify functions**"
      ]
    },
    {
      "cell_type": "code",
      "metadata": {
        "id": "fwVt-p6cHmth"
      },
      "source": [
        "# Stratify sex\n",
        "def stratify_sex(database):\n",
        "  women = database[database['SEXO']=='F']\n",
        "  men = database[database['SEXO']=='M']\n",
        "\n",
        "  dataframes = [database, women, men]\n",
        "  df_names = [\"All\", \"Women\", \"Men\"]\n",
        "\n",
        "  return dataframes, df_names"
      ],
      "execution_count": null,
      "outputs": []
    },
    {
      "cell_type": "code",
      "metadata": {
        "id": "YN_lpaJ_F8E9"
      },
      "source": [
        "#Stratify age\n",
        "def stratify_age(database):\n",
        "  #less_20 = database[(database['IDADE'] < 20)]  \n",
        "  between_20_40 = database[(database['IDADE'] >= 20) & (database['IDADE'] < 40)]\n",
        "  between_40_65 = database[(database['IDADE'] >= 40) & (database['IDADE'] < 65)]   \n",
        "  over_65 = database[(database['IDADE'] > 64)]   \n",
        "  over_75 = database[(database['IDADE'] > 75)]\n",
        "\n",
        "  dataframes  = [database, between_20_40, between_40_65, over_65, over_75] \n",
        "  df_names = [\"All\", \"Between 20 and 40 years old\",\"Between 40 and 65 years old\",\"Above 65 years old\",\"Above 75 years old\"]\n",
        "\n",
        "  return dataframes, df_names"
      ],
      "execution_count": null,
      "outputs": []
    },
    {
      "cell_type": "code",
      "metadata": {
        "id": "MmEHzGUVD5fd"
      },
      "source": [
        "# Stratify age sex\n",
        "def stratify_age_sex(database): \n",
        "    between_20_65_F = database[(database['IDADE'] >= 20) & (database['IDADE'] < 65)  & (database['SEXO']==\"F\")]\n",
        "    between_20_65_M = database[(database['IDADE'] >= 20) & (database['IDADE'] < 65) & (database['SEXO']==\"M\")]   \n",
        "    over_65_F = database[(database['IDADE'] > 64) & (database['SEXO']==\"F\")]   \n",
        "    over_65_M = database[(database['IDADE'] > 64) & (database['SEXO']==\"M\")]     \n",
        "\n",
        "    dataframes = [database, between_20_65_F, between_20_65_M,over_65_F,over_65_M]\n",
        "    df_names = [\"All\", \"Women between 20 and 65 years old\",\"Men between 20 and 65 years old\",\"Women above 65 years old\",\"Men above 65 years old\"]\n",
        "\n",
        "    return dataframes, df_names"
      ],
      "execution_count": null,
      "outputs": []
    },
    {
      "cell_type": "code",
      "metadata": {
        "id": "oC5rsz6l4k0c"
      },
      "source": [
        "# Stratify race\n",
        "# 1:white, 2:black, 3:yellow, 4:brown, 5:indian\n",
        "\n",
        "def stratify_race(database):\n",
        "  white = database[database['RACACOR']==1.0]\n",
        "  black = database[database['RACACOR']==2.0]\n",
        "  yellow =  database[database['RACACOR']==3.0]\n",
        "  brown =  database[database['RACACOR']==4.0]\n",
        "  indian = database[database['RACACOR']==5.0]\n",
        "\n",
        "  dataframes = [database, white, black, yellow, brown, indian]\n",
        "  df_names = [\"All\", \"White\",\"Black\",\"Yellow\",\"Brown\",\"Indian\"]\n",
        "\n",
        "  return dataframes, df_names"
      ],
      "execution_count": null,
      "outputs": []
    },
    {
      "cell_type": "markdown",
      "metadata": {
        "id": "ijop1R5I4R5G"
      },
      "source": [
        "###**Rate ratio function**"
      ]
    },
    {
      "cell_type": "code",
      "metadata": {
        "id": "wZUKc_R84SN5"
      },
      "source": [
        "def rate_ratio(db, stratify,event):\n",
        "  database = db.copy()\n",
        "\n",
        "  #subsets depending on the stratification\n",
        "  if (stratify == 'age and sex'): \n",
        "    dataframes, df_names = stratify_age_sex(database)\n",
        "  elif (stratify == 'sex'): \n",
        "    dataframes, df_names = stratify_sex(database)\n",
        "  elif (stratify == 'age'): \n",
        "    dataframes, df_names = stratify_age(database)\n",
        "  elif (stratify == 'race'): \n",
        "    dataframes, df_names = stratify_race(database)\n",
        "  \n",
        "  #aux variable \n",
        "  list_rr = []\n",
        "  list_up_ci = []\n",
        "  list_lr_ci = []\n",
        "\n",
        "  for df in dataframes:\n",
        "    #column for number of deathsitalizations\n",
        "    df['N_deaths'] = np.where(df['CID'].isnull(),0,df.groupby(['DATE']).DATE.transform('count'))\n",
        "    df = df.drop_duplicates('DATE',keep='first')\n",
        "    df = df.sort_values('DATE')\n",
        "      \n",
        "    number_event = len(df[df[event] ==1]) # number of days with a extreme event\n",
        "    number_control = len(df[df[event] ==0]) # number of days without a extreme event\n",
        "\n",
        "    deaths_event = df.N_deaths[df[event] ==1].sum() # total number of deaths during a extreme event\n",
        "    deaths_control = df.N_deaths[df[event] == 0].sum() # total number of deaths during control days\n",
        "\n",
        "    # Rate ratio and confidence interval\n",
        "    RR = round((deaths_event/number_event)/(deaths_control/number_control), 2) # compute rate ratio\n",
        "    SE = math.sqrt(1/deaths_event + 1/deaths_control)\n",
        "\n",
        "    upper_CI = round(np.exp(math.log(RR)+1.96*SE),2) #upper value\n",
        "    lower_CI = round(np.exp(math.log(RR)-1.96*SE),2) #lower value\n",
        "\n",
        "    # Append values in the list\n",
        "    list_rr.append(RR)\n",
        "    list_up_ci.append(upper_CI)\n",
        "    list_lr_ci.append(lower_CI)\n",
        "\n",
        "  #Create table\n",
        "  table = pd.DataFrame()\n",
        "  table['Group'] = df_names\n",
        "  table['Rate ratio (RR)'] = list_rr\n",
        "  table['Upper CI'] = list_up_ci\n",
        "  table['Lower CI'] = list_lr_ci\n",
        "\n",
        "  return table"
      ],
      "execution_count": null,
      "outputs": []
    },
    {
      "cell_type": "markdown",
      "metadata": {
        "id": "_K61BRiyzgaf"
      },
      "source": [
        "##**Temperature**"
      ]
    },
    {
      "cell_type": "markdown",
      "metadata": {
        "id": "Id9OTAvHA-ta"
      },
      "source": [
        "###**Extreme thermal range**"
      ]
    },
    {
      "cell_type": "markdown",
      "metadata": {
        "id": "b6fIkdp_BTA9"
      },
      "source": [
        "####**Sex**"
      ]
    },
    {
      "cell_type": "code",
      "metadata": {
        "colab": {
          "base_uri": "https://localhost:8080/",
          "height": 142
        },
        "id": "ErkD46ZNziah",
        "outputId": "daa962ba-2b79-4409-ef95-67e2beda713b"
      },
      "source": [
        "rate_ratio(df, 'sex','above_temp_range')"
      ],
      "execution_count": null,
      "outputs": [
        {
          "output_type": "execute_result",
          "data": {
            "text/html": [
              "<div>\n",
              "<style scoped>\n",
              "    .dataframe tbody tr th:only-of-type {\n",
              "        vertical-align: middle;\n",
              "    }\n",
              "\n",
              "    .dataframe tbody tr th {\n",
              "        vertical-align: top;\n",
              "    }\n",
              "\n",
              "    .dataframe thead th {\n",
              "        text-align: right;\n",
              "    }\n",
              "</style>\n",
              "<table border=\"1\" class=\"dataframe\">\n",
              "  <thead>\n",
              "    <tr style=\"text-align: right;\">\n",
              "      <th></th>\n",
              "      <th>Group</th>\n",
              "      <th>Rate ratio (RR)</th>\n",
              "      <th>Upper CI</th>\n",
              "      <th>Lower CI</th>\n",
              "    </tr>\n",
              "  </thead>\n",
              "  <tbody>\n",
              "    <tr>\n",
              "      <th>0</th>\n",
              "      <td>All</td>\n",
              "      <td>1.01</td>\n",
              "      <td>1.04</td>\n",
              "      <td>0.98</td>\n",
              "    </tr>\n",
              "    <tr>\n",
              "      <th>1</th>\n",
              "      <td>Women</td>\n",
              "      <td>0.99</td>\n",
              "      <td>1.03</td>\n",
              "      <td>0.95</td>\n",
              "    </tr>\n",
              "    <tr>\n",
              "      <th>2</th>\n",
              "      <td>Men</td>\n",
              "      <td>1.03</td>\n",
              "      <td>1.07</td>\n",
              "      <td>0.99</td>\n",
              "    </tr>\n",
              "  </tbody>\n",
              "</table>\n",
              "</div>"
            ],
            "text/plain": [
              "   Group  Rate ratio (RR)  Upper CI  Lower CI\n",
              "0    All             1.01      1.04      0.98\n",
              "1  Women             0.99      1.03      0.95\n",
              "2    Men             1.03      1.07      0.99"
            ]
          },
          "metadata": {},
          "execution_count": 72
        }
      ]
    },
    {
      "cell_type": "markdown",
      "metadata": {
        "id": "Y5AzUFoqBeFv"
      },
      "source": [
        "####**Age**"
      ]
    },
    {
      "cell_type": "code",
      "metadata": {
        "colab": {
          "base_uri": "https://localhost:8080/",
          "height": 204
        },
        "id": "fAbQQDjOBfcf",
        "outputId": "55ec8940-d70d-4937-f97c-96536925cdb1"
      },
      "source": [
        "rate_ratio(df, 'age','above_temp_range')"
      ],
      "execution_count": null,
      "outputs": [
        {
          "output_type": "execute_result",
          "data": {
            "text/html": [
              "<div>\n",
              "<style scoped>\n",
              "    .dataframe tbody tr th:only-of-type {\n",
              "        vertical-align: middle;\n",
              "    }\n",
              "\n",
              "    .dataframe tbody tr th {\n",
              "        vertical-align: top;\n",
              "    }\n",
              "\n",
              "    .dataframe thead th {\n",
              "        text-align: right;\n",
              "    }\n",
              "</style>\n",
              "<table border=\"1\" class=\"dataframe\">\n",
              "  <thead>\n",
              "    <tr style=\"text-align: right;\">\n",
              "      <th></th>\n",
              "      <th>Group</th>\n",
              "      <th>Rate ratio (RR)</th>\n",
              "      <th>Upper CI</th>\n",
              "      <th>Lower CI</th>\n",
              "    </tr>\n",
              "  </thead>\n",
              "  <tbody>\n",
              "    <tr>\n",
              "      <th>0</th>\n",
              "      <td>All</td>\n",
              "      <td>1.01</td>\n",
              "      <td>1.04</td>\n",
              "      <td>0.98</td>\n",
              "    </tr>\n",
              "    <tr>\n",
              "      <th>1</th>\n",
              "      <td>Between 20 and 40 years old</td>\n",
              "      <td>1.01</td>\n",
              "      <td>1.16</td>\n",
              "      <td>0.88</td>\n",
              "    </tr>\n",
              "    <tr>\n",
              "      <th>2</th>\n",
              "      <td>Between 40 and 65 years old</td>\n",
              "      <td>0.97</td>\n",
              "      <td>1.02</td>\n",
              "      <td>0.92</td>\n",
              "    </tr>\n",
              "    <tr>\n",
              "      <th>3</th>\n",
              "      <td>Above 65 years old</td>\n",
              "      <td>1.01</td>\n",
              "      <td>1.04</td>\n",
              "      <td>0.98</td>\n",
              "    </tr>\n",
              "    <tr>\n",
              "      <th>4</th>\n",
              "      <td>Above 75 years old</td>\n",
              "      <td>1.01</td>\n",
              "      <td>1.05</td>\n",
              "      <td>0.97</td>\n",
              "    </tr>\n",
              "  </tbody>\n",
              "</table>\n",
              "</div>"
            ],
            "text/plain": [
              "                         Group  Rate ratio (RR)  Upper CI  Lower CI\n",
              "0                          All             1.01      1.04      0.98\n",
              "1  Between 20 and 40 years old             1.01      1.16      0.88\n",
              "2  Between 40 and 65 years old             0.97      1.02      0.92\n",
              "3           Above 65 years old             1.01      1.04      0.98\n",
              "4           Above 75 years old             1.01      1.05      0.97"
            ]
          },
          "metadata": {},
          "execution_count": 73
        }
      ]
    },
    {
      "cell_type": "markdown",
      "metadata": {
        "id": "3SKd-xfzBhqs"
      },
      "source": [
        "####**Age and sex**"
      ]
    },
    {
      "cell_type": "code",
      "metadata": {
        "colab": {
          "base_uri": "https://localhost:8080/",
          "height": 204
        },
        "id": "-JkDz40hBjRj",
        "outputId": "d2fe3288-27a9-43c0-dc41-b2d71ec33ad5"
      },
      "source": [
        "rate_ratio(df, 'age and sex','above_temp_range')"
      ],
      "execution_count": null,
      "outputs": [
        {
          "output_type": "execute_result",
          "data": {
            "text/html": [
              "<div>\n",
              "<style scoped>\n",
              "    .dataframe tbody tr th:only-of-type {\n",
              "        vertical-align: middle;\n",
              "    }\n",
              "\n",
              "    .dataframe tbody tr th {\n",
              "        vertical-align: top;\n",
              "    }\n",
              "\n",
              "    .dataframe thead th {\n",
              "        text-align: right;\n",
              "    }\n",
              "</style>\n",
              "<table border=\"1\" class=\"dataframe\">\n",
              "  <thead>\n",
              "    <tr style=\"text-align: right;\">\n",
              "      <th></th>\n",
              "      <th>Group</th>\n",
              "      <th>Rate ratio (RR)</th>\n",
              "      <th>Upper CI</th>\n",
              "      <th>Lower CI</th>\n",
              "    </tr>\n",
              "  </thead>\n",
              "  <tbody>\n",
              "    <tr>\n",
              "      <th>0</th>\n",
              "      <td>All</td>\n",
              "      <td>1.01</td>\n",
              "      <td>1.04</td>\n",
              "      <td>0.98</td>\n",
              "    </tr>\n",
              "    <tr>\n",
              "      <th>1</th>\n",
              "      <td>Women between 20 and 65 years old</td>\n",
              "      <td>0.98</td>\n",
              "      <td>1.06</td>\n",
              "      <td>0.90</td>\n",
              "    </tr>\n",
              "    <tr>\n",
              "      <th>2</th>\n",
              "      <td>Men between 20 and 65 years old</td>\n",
              "      <td>0.97</td>\n",
              "      <td>1.03</td>\n",
              "      <td>0.91</td>\n",
              "    </tr>\n",
              "    <tr>\n",
              "      <th>3</th>\n",
              "      <td>Women above 65 years old</td>\n",
              "      <td>0.99</td>\n",
              "      <td>1.04</td>\n",
              "      <td>0.94</td>\n",
              "    </tr>\n",
              "    <tr>\n",
              "      <th>4</th>\n",
              "      <td>Men above 65 years old</td>\n",
              "      <td>1.03</td>\n",
              "      <td>1.08</td>\n",
              "      <td>0.98</td>\n",
              "    </tr>\n",
              "  </tbody>\n",
              "</table>\n",
              "</div>"
            ],
            "text/plain": [
              "                               Group  Rate ratio (RR)  Upper CI  Lower CI\n",
              "0                                All             1.01      1.04      0.98\n",
              "1  Women between 20 and 65 years old             0.98      1.06      0.90\n",
              "2    Men between 20 and 65 years old             0.97      1.03      0.91\n",
              "3           Women above 65 years old             0.99      1.04      0.94\n",
              "4             Men above 65 years old             1.03      1.08      0.98"
            ]
          },
          "metadata": {},
          "execution_count": 74
        }
      ]
    },
    {
      "cell_type": "markdown",
      "metadata": {
        "id": "owaOVG-i4Wsu"
      },
      "source": [
        "####**Race**"
      ]
    },
    {
      "cell_type": "code",
      "metadata": {
        "id": "1h4qKFf_4Yvi",
        "colab": {
          "base_uri": "https://localhost:8080/",
          "height": 269
        },
        "outputId": "dc158dbc-4062-40ea-cf3e-613faefbf6e1"
      },
      "source": [
        "rate_ratio(df, 'race','above_temp_range')"
      ],
      "execution_count": null,
      "outputs": [
        {
          "output_type": "stream",
          "name": "stderr",
          "text": [
            "/usr/local/lib/python3.7/dist-packages/ipykernel_launcher.py:32: RuntimeWarning: invalid value encountered in long_scalars\n",
            "/usr/local/lib/python3.7/dist-packages/ipykernel_launcher.py:33: RuntimeWarning: divide by zero encountered in long_scalars\n"
          ]
        },
        {
          "output_type": "execute_result",
          "data": {
            "text/html": [
              "<div>\n",
              "<style scoped>\n",
              "    .dataframe tbody tr th:only-of-type {\n",
              "        vertical-align: middle;\n",
              "    }\n",
              "\n",
              "    .dataframe tbody tr th {\n",
              "        vertical-align: top;\n",
              "    }\n",
              "\n",
              "    .dataframe thead th {\n",
              "        text-align: right;\n",
              "    }\n",
              "</style>\n",
              "<table border=\"1\" class=\"dataframe\">\n",
              "  <thead>\n",
              "    <tr style=\"text-align: right;\">\n",
              "      <th></th>\n",
              "      <th>Group</th>\n",
              "      <th>Rate ratio (RR)</th>\n",
              "      <th>Upper CI</th>\n",
              "      <th>Lower CI</th>\n",
              "    </tr>\n",
              "  </thead>\n",
              "  <tbody>\n",
              "    <tr>\n",
              "      <th>0</th>\n",
              "      <td>All</td>\n",
              "      <td>1.01</td>\n",
              "      <td>1.04</td>\n",
              "      <td>0.98</td>\n",
              "    </tr>\n",
              "    <tr>\n",
              "      <th>1</th>\n",
              "      <td>White</td>\n",
              "      <td>1.02</td>\n",
              "      <td>1.05</td>\n",
              "      <td>0.99</td>\n",
              "    </tr>\n",
              "    <tr>\n",
              "      <th>2</th>\n",
              "      <td>Black</td>\n",
              "      <td>0.95</td>\n",
              "      <td>1.06</td>\n",
              "      <td>0.85</td>\n",
              "    </tr>\n",
              "    <tr>\n",
              "      <th>3</th>\n",
              "      <td>Yellow</td>\n",
              "      <td>1.00</td>\n",
              "      <td>1.29</td>\n",
              "      <td>0.78</td>\n",
              "    </tr>\n",
              "    <tr>\n",
              "      <th>4</th>\n",
              "      <td>Brown</td>\n",
              "      <td>0.98</td>\n",
              "      <td>1.06</td>\n",
              "      <td>0.90</td>\n",
              "    </tr>\n",
              "    <tr>\n",
              "      <th>5</th>\n",
              "      <td>Indian</td>\n",
              "      <td>NaN</td>\n",
              "      <td>NaN</td>\n",
              "      <td>NaN</td>\n",
              "    </tr>\n",
              "  </tbody>\n",
              "</table>\n",
              "</div>"
            ],
            "text/plain": [
              "    Group  Rate ratio (RR)  Upper CI  Lower CI\n",
              "0     All             1.01      1.04      0.98\n",
              "1   White             1.02      1.05      0.99\n",
              "2   Black             0.95      1.06      0.85\n",
              "3  Yellow             1.00      1.29      0.78\n",
              "4   Brown             0.98      1.06      0.90\n",
              "5  Indian              NaN       NaN       NaN"
            ]
          },
          "metadata": {},
          "execution_count": 75
        }
      ]
    },
    {
      "cell_type": "markdown",
      "metadata": {
        "id": "Kse4BoEtBwg2"
      },
      "source": [
        "###**Extreme temperature difference between days**"
      ]
    },
    {
      "cell_type": "markdown",
      "metadata": {
        "id": "WAxCpydHBwg2"
      },
      "source": [
        "####**Sex**"
      ]
    },
    {
      "cell_type": "code",
      "metadata": {
        "colab": {
          "base_uri": "https://localhost:8080/",
          "height": 142
        },
        "id": "tvt-xM7uBwg3",
        "outputId": "169e214e-74e3-438e-b6da-388111162116"
      },
      "source": [
        "rate_ratio(df, 'sex','above_temp_dif')"
      ],
      "execution_count": null,
      "outputs": [
        {
          "output_type": "execute_result",
          "data": {
            "text/html": [
              "<div>\n",
              "<style scoped>\n",
              "    .dataframe tbody tr th:only-of-type {\n",
              "        vertical-align: middle;\n",
              "    }\n",
              "\n",
              "    .dataframe tbody tr th {\n",
              "        vertical-align: top;\n",
              "    }\n",
              "\n",
              "    .dataframe thead th {\n",
              "        text-align: right;\n",
              "    }\n",
              "</style>\n",
              "<table border=\"1\" class=\"dataframe\">\n",
              "  <thead>\n",
              "    <tr style=\"text-align: right;\">\n",
              "      <th></th>\n",
              "      <th>Group</th>\n",
              "      <th>Rate ratio (RR)</th>\n",
              "      <th>Upper CI</th>\n",
              "      <th>Lower CI</th>\n",
              "    </tr>\n",
              "  </thead>\n",
              "  <tbody>\n",
              "    <tr>\n",
              "      <th>0</th>\n",
              "      <td>All</td>\n",
              "      <td>0.89</td>\n",
              "      <td>0.96</td>\n",
              "      <td>0.82</td>\n",
              "    </tr>\n",
              "    <tr>\n",
              "      <th>1</th>\n",
              "      <td>Women</td>\n",
              "      <td>0.91</td>\n",
              "      <td>1.02</td>\n",
              "      <td>0.81</td>\n",
              "    </tr>\n",
              "    <tr>\n",
              "      <th>2</th>\n",
              "      <td>Men</td>\n",
              "      <td>0.84</td>\n",
              "      <td>0.94</td>\n",
              "      <td>0.75</td>\n",
              "    </tr>\n",
              "  </tbody>\n",
              "</table>\n",
              "</div>"
            ],
            "text/plain": [
              "   Group  Rate ratio (RR)  Upper CI  Lower CI\n",
              "0    All             0.89      0.96      0.82\n",
              "1  Women             0.91      1.02      0.81\n",
              "2    Men             0.84      0.94      0.75"
            ]
          },
          "metadata": {},
          "execution_count": 76
        }
      ]
    },
    {
      "cell_type": "markdown",
      "metadata": {
        "id": "C9LetOOuBwg3"
      },
      "source": [
        "####**Age**"
      ]
    },
    {
      "cell_type": "code",
      "metadata": {
        "colab": {
          "base_uri": "https://localhost:8080/",
          "height": 204
        },
        "id": "R75Teg3TBwg3",
        "outputId": "5da33d72-298c-499b-9319-3c169c5f34f4"
      },
      "source": [
        "rate_ratio(df, 'age','above_temp_dif')"
      ],
      "execution_count": null,
      "outputs": [
        {
          "output_type": "execute_result",
          "data": {
            "text/html": [
              "<div>\n",
              "<style scoped>\n",
              "    .dataframe tbody tr th:only-of-type {\n",
              "        vertical-align: middle;\n",
              "    }\n",
              "\n",
              "    .dataframe tbody tr th {\n",
              "        vertical-align: top;\n",
              "    }\n",
              "\n",
              "    .dataframe thead th {\n",
              "        text-align: right;\n",
              "    }\n",
              "</style>\n",
              "<table border=\"1\" class=\"dataframe\">\n",
              "  <thead>\n",
              "    <tr style=\"text-align: right;\">\n",
              "      <th></th>\n",
              "      <th>Group</th>\n",
              "      <th>Rate ratio (RR)</th>\n",
              "      <th>Upper CI</th>\n",
              "      <th>Lower CI</th>\n",
              "    </tr>\n",
              "  </thead>\n",
              "  <tbody>\n",
              "    <tr>\n",
              "      <th>0</th>\n",
              "      <td>All</td>\n",
              "      <td>0.89</td>\n",
              "      <td>0.96</td>\n",
              "      <td>0.82</td>\n",
              "    </tr>\n",
              "    <tr>\n",
              "      <th>1</th>\n",
              "      <td>Between 20 and 40 years old</td>\n",
              "      <td>1.03</td>\n",
              "      <td>1.53</td>\n",
              "      <td>0.69</td>\n",
              "    </tr>\n",
              "    <tr>\n",
              "      <th>2</th>\n",
              "      <td>Between 40 and 65 years old</td>\n",
              "      <td>0.91</td>\n",
              "      <td>1.06</td>\n",
              "      <td>0.78</td>\n",
              "    </tr>\n",
              "    <tr>\n",
              "      <th>3</th>\n",
              "      <td>Above 65 years old</td>\n",
              "      <td>0.87</td>\n",
              "      <td>0.96</td>\n",
              "      <td>0.79</td>\n",
              "    </tr>\n",
              "    <tr>\n",
              "      <th>4</th>\n",
              "      <td>Above 75 years old</td>\n",
              "      <td>0.85</td>\n",
              "      <td>0.96</td>\n",
              "      <td>0.75</td>\n",
              "    </tr>\n",
              "  </tbody>\n",
              "</table>\n",
              "</div>"
            ],
            "text/plain": [
              "                         Group  Rate ratio (RR)  Upper CI  Lower CI\n",
              "0                          All             0.89      0.96      0.82\n",
              "1  Between 20 and 40 years old             1.03      1.53      0.69\n",
              "2  Between 40 and 65 years old             0.91      1.06      0.78\n",
              "3           Above 65 years old             0.87      0.96      0.79\n",
              "4           Above 75 years old             0.85      0.96      0.75"
            ]
          },
          "metadata": {},
          "execution_count": 77
        }
      ]
    },
    {
      "cell_type": "markdown",
      "metadata": {
        "id": "5fJY5NneBwg4"
      },
      "source": [
        "####**Age and sex**"
      ]
    },
    {
      "cell_type": "code",
      "metadata": {
        "colab": {
          "base_uri": "https://localhost:8080/",
          "height": 204
        },
        "id": "7hWLM2ajBwg4",
        "outputId": "61dd9ce2-9311-4d2a-a83c-fecf3412dbe5"
      },
      "source": [
        "rate_ratio(df, 'age and sex','above_temp_dif')"
      ],
      "execution_count": null,
      "outputs": [
        {
          "output_type": "execute_result",
          "data": {
            "text/html": [
              "<div>\n",
              "<style scoped>\n",
              "    .dataframe tbody tr th:only-of-type {\n",
              "        vertical-align: middle;\n",
              "    }\n",
              "\n",
              "    .dataframe tbody tr th {\n",
              "        vertical-align: top;\n",
              "    }\n",
              "\n",
              "    .dataframe thead th {\n",
              "        text-align: right;\n",
              "    }\n",
              "</style>\n",
              "<table border=\"1\" class=\"dataframe\">\n",
              "  <thead>\n",
              "    <tr style=\"text-align: right;\">\n",
              "      <th></th>\n",
              "      <th>Group</th>\n",
              "      <th>Rate ratio (RR)</th>\n",
              "      <th>Upper CI</th>\n",
              "      <th>Lower CI</th>\n",
              "    </tr>\n",
              "  </thead>\n",
              "  <tbody>\n",
              "    <tr>\n",
              "      <th>0</th>\n",
              "      <td>All</td>\n",
              "      <td>0.89</td>\n",
              "      <td>0.96</td>\n",
              "      <td>0.82</td>\n",
              "    </tr>\n",
              "    <tr>\n",
              "      <th>1</th>\n",
              "      <td>Women between 20 and 65 years old</td>\n",
              "      <td>1.01</td>\n",
              "      <td>1.25</td>\n",
              "      <td>0.81</td>\n",
              "    </tr>\n",
              "    <tr>\n",
              "      <th>2</th>\n",
              "      <td>Men between 20 and 65 years old</td>\n",
              "      <td>0.89</td>\n",
              "      <td>1.07</td>\n",
              "      <td>0.74</td>\n",
              "    </tr>\n",
              "    <tr>\n",
              "      <th>3</th>\n",
              "      <td>Women above 65 years old</td>\n",
              "      <td>0.89</td>\n",
              "      <td>1.01</td>\n",
              "      <td>0.78</td>\n",
              "    </tr>\n",
              "    <tr>\n",
              "      <th>4</th>\n",
              "      <td>Men above 65 years old</td>\n",
              "      <td>0.85</td>\n",
              "      <td>0.98</td>\n",
              "      <td>0.74</td>\n",
              "    </tr>\n",
              "  </tbody>\n",
              "</table>\n",
              "</div>"
            ],
            "text/plain": [
              "                               Group  Rate ratio (RR)  Upper CI  Lower CI\n",
              "0                                All             0.89      0.96      0.82\n",
              "1  Women between 20 and 65 years old             1.01      1.25      0.81\n",
              "2    Men between 20 and 65 years old             0.89      1.07      0.74\n",
              "3           Women above 65 years old             0.89      1.01      0.78\n",
              "4             Men above 65 years old             0.85      0.98      0.74"
            ]
          },
          "metadata": {},
          "execution_count": 78
        }
      ]
    },
    {
      "cell_type": "markdown",
      "metadata": {
        "id": "TiMEivcT47D5"
      },
      "source": [
        "####**Race**"
      ]
    },
    {
      "cell_type": "code",
      "metadata": {
        "id": "qBJJzSLD47D6",
        "colab": {
          "base_uri": "https://localhost:8080/",
          "height": 269
        },
        "outputId": "133ab65b-a970-435c-95ec-d23a827aad01"
      },
      "source": [
        "rate_ratio(df, 'race','above_temp_dif')"
      ],
      "execution_count": null,
      "outputs": [
        {
          "output_type": "stream",
          "name": "stderr",
          "text": [
            "/usr/local/lib/python3.7/dist-packages/ipykernel_launcher.py:32: RuntimeWarning: invalid value encountered in long_scalars\n",
            "/usr/local/lib/python3.7/dist-packages/ipykernel_launcher.py:33: RuntimeWarning: divide by zero encountered in long_scalars\n"
          ]
        },
        {
          "output_type": "execute_result",
          "data": {
            "text/html": [
              "<div>\n",
              "<style scoped>\n",
              "    .dataframe tbody tr th:only-of-type {\n",
              "        vertical-align: middle;\n",
              "    }\n",
              "\n",
              "    .dataframe tbody tr th {\n",
              "        vertical-align: top;\n",
              "    }\n",
              "\n",
              "    .dataframe thead th {\n",
              "        text-align: right;\n",
              "    }\n",
              "</style>\n",
              "<table border=\"1\" class=\"dataframe\">\n",
              "  <thead>\n",
              "    <tr style=\"text-align: right;\">\n",
              "      <th></th>\n",
              "      <th>Group</th>\n",
              "      <th>Rate ratio (RR)</th>\n",
              "      <th>Upper CI</th>\n",
              "      <th>Lower CI</th>\n",
              "    </tr>\n",
              "  </thead>\n",
              "  <tbody>\n",
              "    <tr>\n",
              "      <th>0</th>\n",
              "      <td>All</td>\n",
              "      <td>0.89</td>\n",
              "      <td>0.96</td>\n",
              "      <td>0.82</td>\n",
              "    </tr>\n",
              "    <tr>\n",
              "      <th>1</th>\n",
              "      <td>White</td>\n",
              "      <td>0.91</td>\n",
              "      <td>0.99</td>\n",
              "      <td>0.83</td>\n",
              "    </tr>\n",
              "    <tr>\n",
              "      <th>2</th>\n",
              "      <td>Black</td>\n",
              "      <td>0.87</td>\n",
              "      <td>1.23</td>\n",
              "      <td>0.61</td>\n",
              "    </tr>\n",
              "    <tr>\n",
              "      <th>3</th>\n",
              "      <td>Yellow</td>\n",
              "      <td>1.04</td>\n",
              "      <td>1.84</td>\n",
              "      <td>0.59</td>\n",
              "    </tr>\n",
              "    <tr>\n",
              "      <th>4</th>\n",
              "      <td>Brown</td>\n",
              "      <td>0.82</td>\n",
              "      <td>1.03</td>\n",
              "      <td>0.65</td>\n",
              "    </tr>\n",
              "    <tr>\n",
              "      <th>5</th>\n",
              "      <td>Indian</td>\n",
              "      <td>NaN</td>\n",
              "      <td>NaN</td>\n",
              "      <td>NaN</td>\n",
              "    </tr>\n",
              "  </tbody>\n",
              "</table>\n",
              "</div>"
            ],
            "text/plain": [
              "    Group  Rate ratio (RR)  Upper CI  Lower CI\n",
              "0     All             0.89      0.96      0.82\n",
              "1   White             0.91      0.99      0.83\n",
              "2   Black             0.87      1.23      0.61\n",
              "3  Yellow             1.04      1.84      0.59\n",
              "4   Brown             0.82      1.03      0.65\n",
              "5  Indian              NaN       NaN       NaN"
            ]
          },
          "metadata": {},
          "execution_count": 79
        }
      ]
    },
    {
      "cell_type": "markdown",
      "metadata": {
        "id": "fcFuFl3YCLhz"
      },
      "source": [
        "##**Pressure**"
      ]
    },
    {
      "cell_type": "markdown",
      "metadata": {
        "id": "MVywHn4oCLiB"
      },
      "source": [
        "###**Low pressure waves**"
      ]
    },
    {
      "cell_type": "markdown",
      "metadata": {
        "id": "BGil698qCLiC"
      },
      "source": [
        "####**Sex**"
      ]
    },
    {
      "cell_type": "code",
      "metadata": {
        "colab": {
          "base_uri": "https://localhost:8080/",
          "height": 142
        },
        "id": "NV3y7QVSCLiC",
        "outputId": "b3a28e68-2ca0-474a-a24f-a36eaf4a68bf"
      },
      "source": [
        "rate_ratio(df, 'sex','LPW')"
      ],
      "execution_count": null,
      "outputs": [
        {
          "output_type": "execute_result",
          "data": {
            "text/html": [
              "<div>\n",
              "<style scoped>\n",
              "    .dataframe tbody tr th:only-of-type {\n",
              "        vertical-align: middle;\n",
              "    }\n",
              "\n",
              "    .dataframe tbody tr th {\n",
              "        vertical-align: top;\n",
              "    }\n",
              "\n",
              "    .dataframe thead th {\n",
              "        text-align: right;\n",
              "    }\n",
              "</style>\n",
              "<table border=\"1\" class=\"dataframe\">\n",
              "  <thead>\n",
              "    <tr style=\"text-align: right;\">\n",
              "      <th></th>\n",
              "      <th>Group</th>\n",
              "      <th>Rate ratio (RR)</th>\n",
              "      <th>Upper CI</th>\n",
              "      <th>Lower CI</th>\n",
              "    </tr>\n",
              "  </thead>\n",
              "  <tbody>\n",
              "    <tr>\n",
              "      <th>0</th>\n",
              "      <td>All</td>\n",
              "      <td>0.97</td>\n",
              "      <td>1.01</td>\n",
              "      <td>0.93</td>\n",
              "    </tr>\n",
              "    <tr>\n",
              "      <th>1</th>\n",
              "      <td>Women</td>\n",
              "      <td>0.97</td>\n",
              "      <td>1.03</td>\n",
              "      <td>0.91</td>\n",
              "    </tr>\n",
              "    <tr>\n",
              "      <th>2</th>\n",
              "      <td>Men</td>\n",
              "      <td>1.00</td>\n",
              "      <td>1.06</td>\n",
              "      <td>0.94</td>\n",
              "    </tr>\n",
              "  </tbody>\n",
              "</table>\n",
              "</div>"
            ],
            "text/plain": [
              "   Group  Rate ratio (RR)  Upper CI  Lower CI\n",
              "0    All             0.97      1.01      0.93\n",
              "1  Women             0.97      1.03      0.91\n",
              "2    Men             1.00      1.06      0.94"
            ]
          },
          "metadata": {},
          "execution_count": 80
        }
      ]
    },
    {
      "cell_type": "markdown",
      "metadata": {
        "id": "RKuZ4_X1CLiF"
      },
      "source": [
        "####**Age**"
      ]
    },
    {
      "cell_type": "code",
      "metadata": {
        "colab": {
          "base_uri": "https://localhost:8080/",
          "height": 204
        },
        "id": "b25T5tuHCLiG",
        "outputId": "1b80fe67-53a4-46c7-c7ad-d3fdae157d5b"
      },
      "source": [
        "rate_ratio(df, 'age','LPW')"
      ],
      "execution_count": null,
      "outputs": [
        {
          "output_type": "execute_result",
          "data": {
            "text/html": [
              "<div>\n",
              "<style scoped>\n",
              "    .dataframe tbody tr th:only-of-type {\n",
              "        vertical-align: middle;\n",
              "    }\n",
              "\n",
              "    .dataframe tbody tr th {\n",
              "        vertical-align: top;\n",
              "    }\n",
              "\n",
              "    .dataframe thead th {\n",
              "        text-align: right;\n",
              "    }\n",
              "</style>\n",
              "<table border=\"1\" class=\"dataframe\">\n",
              "  <thead>\n",
              "    <tr style=\"text-align: right;\">\n",
              "      <th></th>\n",
              "      <th>Group</th>\n",
              "      <th>Rate ratio (RR)</th>\n",
              "      <th>Upper CI</th>\n",
              "      <th>Lower CI</th>\n",
              "    </tr>\n",
              "  </thead>\n",
              "  <tbody>\n",
              "    <tr>\n",
              "      <th>0</th>\n",
              "      <td>All</td>\n",
              "      <td>0.97</td>\n",
              "      <td>1.01</td>\n",
              "      <td>0.93</td>\n",
              "    </tr>\n",
              "    <tr>\n",
              "      <th>1</th>\n",
              "      <td>Between 20 and 40 years old</td>\n",
              "      <td>1.05</td>\n",
              "      <td>1.31</td>\n",
              "      <td>0.84</td>\n",
              "    </tr>\n",
              "    <tr>\n",
              "      <th>2</th>\n",
              "      <td>Between 40 and 65 years old</td>\n",
              "      <td>0.97</td>\n",
              "      <td>1.05</td>\n",
              "      <td>0.89</td>\n",
              "    </tr>\n",
              "    <tr>\n",
              "      <th>3</th>\n",
              "      <td>Above 65 years old</td>\n",
              "      <td>0.97</td>\n",
              "      <td>1.02</td>\n",
              "      <td>0.92</td>\n",
              "    </tr>\n",
              "    <tr>\n",
              "      <th>4</th>\n",
              "      <td>Above 75 years old</td>\n",
              "      <td>0.93</td>\n",
              "      <td>1.00</td>\n",
              "      <td>0.87</td>\n",
              "    </tr>\n",
              "  </tbody>\n",
              "</table>\n",
              "</div>"
            ],
            "text/plain": [
              "                         Group  Rate ratio (RR)  Upper CI  Lower CI\n",
              "0                          All             0.97      1.01      0.93\n",
              "1  Between 20 and 40 years old             1.05      1.31      0.84\n",
              "2  Between 40 and 65 years old             0.97      1.05      0.89\n",
              "3           Above 65 years old             0.97      1.02      0.92\n",
              "4           Above 75 years old             0.93      1.00      0.87"
            ]
          },
          "metadata": {},
          "execution_count": 81
        }
      ]
    },
    {
      "cell_type": "markdown",
      "metadata": {
        "id": "bup2DJfFCLiH"
      },
      "source": [
        "####**Age and sex**"
      ]
    },
    {
      "cell_type": "code",
      "metadata": {
        "colab": {
          "base_uri": "https://localhost:8080/",
          "height": 204
        },
        "id": "HW6d5ZBLCLiI",
        "outputId": "6007b824-27bd-4902-da2e-edc0749070f3"
      },
      "source": [
        "rate_ratio(df, 'age and sex','LPW')"
      ],
      "execution_count": null,
      "outputs": [
        {
          "output_type": "execute_result",
          "data": {
            "text/html": [
              "<div>\n",
              "<style scoped>\n",
              "    .dataframe tbody tr th:only-of-type {\n",
              "        vertical-align: middle;\n",
              "    }\n",
              "\n",
              "    .dataframe tbody tr th {\n",
              "        vertical-align: top;\n",
              "    }\n",
              "\n",
              "    .dataframe thead th {\n",
              "        text-align: right;\n",
              "    }\n",
              "</style>\n",
              "<table border=\"1\" class=\"dataframe\">\n",
              "  <thead>\n",
              "    <tr style=\"text-align: right;\">\n",
              "      <th></th>\n",
              "      <th>Group</th>\n",
              "      <th>Rate ratio (RR)</th>\n",
              "      <th>Upper CI</th>\n",
              "      <th>Lower CI</th>\n",
              "    </tr>\n",
              "  </thead>\n",
              "  <tbody>\n",
              "    <tr>\n",
              "      <th>0</th>\n",
              "      <td>All</td>\n",
              "      <td>0.97</td>\n",
              "      <td>1.01</td>\n",
              "      <td>0.93</td>\n",
              "    </tr>\n",
              "    <tr>\n",
              "      <th>1</th>\n",
              "      <td>Women between 20 and 65 years old</td>\n",
              "      <td>1.01</td>\n",
              "      <td>1.15</td>\n",
              "      <td>0.89</td>\n",
              "    </tr>\n",
              "    <tr>\n",
              "      <th>2</th>\n",
              "      <td>Men between 20 and 65 years old</td>\n",
              "      <td>0.99</td>\n",
              "      <td>1.09</td>\n",
              "      <td>0.90</td>\n",
              "    </tr>\n",
              "    <tr>\n",
              "      <th>3</th>\n",
              "      <td>Women above 65 years old</td>\n",
              "      <td>0.93</td>\n",
              "      <td>1.00</td>\n",
              "      <td>0.86</td>\n",
              "    </tr>\n",
              "    <tr>\n",
              "      <th>4</th>\n",
              "      <td>Men above 65 years old</td>\n",
              "      <td>1.00</td>\n",
              "      <td>1.08</td>\n",
              "      <td>0.93</td>\n",
              "    </tr>\n",
              "  </tbody>\n",
              "</table>\n",
              "</div>"
            ],
            "text/plain": [
              "                               Group  Rate ratio (RR)  Upper CI  Lower CI\n",
              "0                                All             0.97      1.01      0.93\n",
              "1  Women between 20 and 65 years old             1.01      1.15      0.89\n",
              "2    Men between 20 and 65 years old             0.99      1.09      0.90\n",
              "3           Women above 65 years old             0.93      1.00      0.86\n",
              "4             Men above 65 years old             1.00      1.08      0.93"
            ]
          },
          "metadata": {},
          "execution_count": 82
        }
      ]
    },
    {
      "cell_type": "markdown",
      "metadata": {
        "id": "Q5DbTHks495q"
      },
      "source": [
        "####**Race**"
      ]
    },
    {
      "cell_type": "code",
      "metadata": {
        "id": "gT_NSuq2495s",
        "colab": {
          "base_uri": "https://localhost:8080/",
          "height": 269
        },
        "outputId": "de32de84-a6c7-43e6-e75f-f594549aafef"
      },
      "source": [
        "rate_ratio(df, 'race','LPW')"
      ],
      "execution_count": null,
      "outputs": [
        {
          "output_type": "stream",
          "name": "stderr",
          "text": [
            "/usr/local/lib/python3.7/dist-packages/ipykernel_launcher.py:32: RuntimeWarning: invalid value encountered in long_scalars\n",
            "/usr/local/lib/python3.7/dist-packages/ipykernel_launcher.py:33: RuntimeWarning: divide by zero encountered in long_scalars\n"
          ]
        },
        {
          "output_type": "execute_result",
          "data": {
            "text/html": [
              "<div>\n",
              "<style scoped>\n",
              "    .dataframe tbody tr th:only-of-type {\n",
              "        vertical-align: middle;\n",
              "    }\n",
              "\n",
              "    .dataframe tbody tr th {\n",
              "        vertical-align: top;\n",
              "    }\n",
              "\n",
              "    .dataframe thead th {\n",
              "        text-align: right;\n",
              "    }\n",
              "</style>\n",
              "<table border=\"1\" class=\"dataframe\">\n",
              "  <thead>\n",
              "    <tr style=\"text-align: right;\">\n",
              "      <th></th>\n",
              "      <th>Group</th>\n",
              "      <th>Rate ratio (RR)</th>\n",
              "      <th>Upper CI</th>\n",
              "      <th>Lower CI</th>\n",
              "    </tr>\n",
              "  </thead>\n",
              "  <tbody>\n",
              "    <tr>\n",
              "      <th>0</th>\n",
              "      <td>All</td>\n",
              "      <td>0.97</td>\n",
              "      <td>1.01</td>\n",
              "      <td>0.93</td>\n",
              "    </tr>\n",
              "    <tr>\n",
              "      <th>1</th>\n",
              "      <td>White</td>\n",
              "      <td>0.97</td>\n",
              "      <td>1.02</td>\n",
              "      <td>0.92</td>\n",
              "    </tr>\n",
              "    <tr>\n",
              "      <th>2</th>\n",
              "      <td>Black</td>\n",
              "      <td>0.99</td>\n",
              "      <td>1.17</td>\n",
              "      <td>0.84</td>\n",
              "    </tr>\n",
              "    <tr>\n",
              "      <th>3</th>\n",
              "      <td>Yellow</td>\n",
              "      <td>0.95</td>\n",
              "      <td>1.42</td>\n",
              "      <td>0.64</td>\n",
              "    </tr>\n",
              "    <tr>\n",
              "      <th>4</th>\n",
              "      <td>Brown</td>\n",
              "      <td>1.03</td>\n",
              "      <td>1.16</td>\n",
              "      <td>0.91</td>\n",
              "    </tr>\n",
              "    <tr>\n",
              "      <th>5</th>\n",
              "      <td>Indian</td>\n",
              "      <td>NaN</td>\n",
              "      <td>NaN</td>\n",
              "      <td>NaN</td>\n",
              "    </tr>\n",
              "  </tbody>\n",
              "</table>\n",
              "</div>"
            ],
            "text/plain": [
              "    Group  Rate ratio (RR)  Upper CI  Lower CI\n",
              "0     All             0.97      1.01      0.93\n",
              "1   White             0.97      1.02      0.92\n",
              "2   Black             0.99      1.17      0.84\n",
              "3  Yellow             0.95      1.42      0.64\n",
              "4   Brown             1.03      1.16      0.91\n",
              "5  Indian              NaN       NaN       NaN"
            ]
          },
          "metadata": {},
          "execution_count": 83
        }
      ]
    },
    {
      "cell_type": "markdown",
      "metadata": {
        "id": "GuKsXrf8Cd7i"
      },
      "source": [
        "###**High pressure waves**"
      ]
    },
    {
      "cell_type": "markdown",
      "metadata": {
        "id": "O8G0yiTlCd7p"
      },
      "source": [
        "####**Sex**"
      ]
    },
    {
      "cell_type": "code",
      "metadata": {
        "colab": {
          "base_uri": "https://localhost:8080/",
          "height": 142
        },
        "id": "CtKRSF8mCd7q",
        "outputId": "c448cc37-21f5-478e-e04c-bf12eb4b2227"
      },
      "source": [
        "rate_ratio(df, 'sex','HPW')"
      ],
      "execution_count": null,
      "outputs": [
        {
          "output_type": "execute_result",
          "data": {
            "text/html": [
              "<div>\n",
              "<style scoped>\n",
              "    .dataframe tbody tr th:only-of-type {\n",
              "        vertical-align: middle;\n",
              "    }\n",
              "\n",
              "    .dataframe tbody tr th {\n",
              "        vertical-align: top;\n",
              "    }\n",
              "\n",
              "    .dataframe thead th {\n",
              "        text-align: right;\n",
              "    }\n",
              "</style>\n",
              "<table border=\"1\" class=\"dataframe\">\n",
              "  <thead>\n",
              "    <tr style=\"text-align: right;\">\n",
              "      <th></th>\n",
              "      <th>Group</th>\n",
              "      <th>Rate ratio (RR)</th>\n",
              "      <th>Upper CI</th>\n",
              "      <th>Lower CI</th>\n",
              "    </tr>\n",
              "  </thead>\n",
              "  <tbody>\n",
              "    <tr>\n",
              "      <th>0</th>\n",
              "      <td>All</td>\n",
              "      <td>1.01</td>\n",
              "      <td>1.05</td>\n",
              "      <td>0.98</td>\n",
              "    </tr>\n",
              "    <tr>\n",
              "      <th>1</th>\n",
              "      <td>Women</td>\n",
              "      <td>1.00</td>\n",
              "      <td>1.05</td>\n",
              "      <td>0.95</td>\n",
              "    </tr>\n",
              "    <tr>\n",
              "      <th>2</th>\n",
              "      <td>Men</td>\n",
              "      <td>1.02</td>\n",
              "      <td>1.07</td>\n",
              "      <td>0.97</td>\n",
              "    </tr>\n",
              "  </tbody>\n",
              "</table>\n",
              "</div>"
            ],
            "text/plain": [
              "   Group  Rate ratio (RR)  Upper CI  Lower CI\n",
              "0    All             1.01      1.05      0.98\n",
              "1  Women             1.00      1.05      0.95\n",
              "2    Men             1.02      1.07      0.97"
            ]
          },
          "metadata": {},
          "execution_count": 84
        }
      ]
    },
    {
      "cell_type": "markdown",
      "metadata": {
        "id": "IlcQYeReCd7t"
      },
      "source": [
        "####**Age**"
      ]
    },
    {
      "cell_type": "code",
      "metadata": {
        "colab": {
          "base_uri": "https://localhost:8080/",
          "height": 204
        },
        "id": "QNP4hjVkCd7t",
        "outputId": "57a24ea2-bbae-4e4b-bcb9-9a2cf9f67fe5"
      },
      "source": [
        "rate_ratio(df, 'age','HPW')"
      ],
      "execution_count": null,
      "outputs": [
        {
          "output_type": "execute_result",
          "data": {
            "text/html": [
              "<div>\n",
              "<style scoped>\n",
              "    .dataframe tbody tr th:only-of-type {\n",
              "        vertical-align: middle;\n",
              "    }\n",
              "\n",
              "    .dataframe tbody tr th {\n",
              "        vertical-align: top;\n",
              "    }\n",
              "\n",
              "    .dataframe thead th {\n",
              "        text-align: right;\n",
              "    }\n",
              "</style>\n",
              "<table border=\"1\" class=\"dataframe\">\n",
              "  <thead>\n",
              "    <tr style=\"text-align: right;\">\n",
              "      <th></th>\n",
              "      <th>Group</th>\n",
              "      <th>Rate ratio (RR)</th>\n",
              "      <th>Upper CI</th>\n",
              "      <th>Lower CI</th>\n",
              "    </tr>\n",
              "  </thead>\n",
              "  <tbody>\n",
              "    <tr>\n",
              "      <th>0</th>\n",
              "      <td>All</td>\n",
              "      <td>1.01</td>\n",
              "      <td>1.05</td>\n",
              "      <td>0.98</td>\n",
              "    </tr>\n",
              "    <tr>\n",
              "      <th>1</th>\n",
              "      <td>Between 20 and 40 years old</td>\n",
              "      <td>0.96</td>\n",
              "      <td>1.18</td>\n",
              "      <td>0.78</td>\n",
              "    </tr>\n",
              "    <tr>\n",
              "      <th>2</th>\n",
              "      <td>Between 40 and 65 years old</td>\n",
              "      <td>1.03</td>\n",
              "      <td>1.10</td>\n",
              "      <td>0.97</td>\n",
              "    </tr>\n",
              "    <tr>\n",
              "      <th>3</th>\n",
              "      <td>Above 65 years old</td>\n",
              "      <td>0.99</td>\n",
              "      <td>1.03</td>\n",
              "      <td>0.95</td>\n",
              "    </tr>\n",
              "    <tr>\n",
              "      <th>4</th>\n",
              "      <td>Above 75 years old</td>\n",
              "      <td>1.00</td>\n",
              "      <td>1.05</td>\n",
              "      <td>0.95</td>\n",
              "    </tr>\n",
              "  </tbody>\n",
              "</table>\n",
              "</div>"
            ],
            "text/plain": [
              "                         Group  Rate ratio (RR)  Upper CI  Lower CI\n",
              "0                          All             1.01      1.05      0.98\n",
              "1  Between 20 and 40 years old             0.96      1.18      0.78\n",
              "2  Between 40 and 65 years old             1.03      1.10      0.97\n",
              "3           Above 65 years old             0.99      1.03      0.95\n",
              "4           Above 75 years old             1.00      1.05      0.95"
            ]
          },
          "metadata": {},
          "execution_count": 85
        }
      ]
    },
    {
      "cell_type": "markdown",
      "metadata": {
        "id": "OZrnOOtECd7u"
      },
      "source": [
        "####**Age and sex**"
      ]
    },
    {
      "cell_type": "code",
      "metadata": {
        "colab": {
          "base_uri": "https://localhost:8080/",
          "height": 204
        },
        "id": "XBFP7NMWCd7v",
        "outputId": "c7a46029-de11-40e9-f55b-cbc08b15d71e"
      },
      "source": [
        "rate_ratio(df, 'age and sex','HPW')"
      ],
      "execution_count": null,
      "outputs": [
        {
          "output_type": "execute_result",
          "data": {
            "text/html": [
              "<div>\n",
              "<style scoped>\n",
              "    .dataframe tbody tr th:only-of-type {\n",
              "        vertical-align: middle;\n",
              "    }\n",
              "\n",
              "    .dataframe tbody tr th {\n",
              "        vertical-align: top;\n",
              "    }\n",
              "\n",
              "    .dataframe thead th {\n",
              "        text-align: right;\n",
              "    }\n",
              "</style>\n",
              "<table border=\"1\" class=\"dataframe\">\n",
              "  <thead>\n",
              "    <tr style=\"text-align: right;\">\n",
              "      <th></th>\n",
              "      <th>Group</th>\n",
              "      <th>Rate ratio (RR)</th>\n",
              "      <th>Upper CI</th>\n",
              "      <th>Lower CI</th>\n",
              "    </tr>\n",
              "  </thead>\n",
              "  <tbody>\n",
              "    <tr>\n",
              "      <th>0</th>\n",
              "      <td>All</td>\n",
              "      <td>1.01</td>\n",
              "      <td>1.05</td>\n",
              "      <td>0.98</td>\n",
              "    </tr>\n",
              "    <tr>\n",
              "      <th>1</th>\n",
              "      <td>Women between 20 and 65 years old</td>\n",
              "      <td>0.97</td>\n",
              "      <td>1.08</td>\n",
              "      <td>0.87</td>\n",
              "    </tr>\n",
              "    <tr>\n",
              "      <th>2</th>\n",
              "      <td>Men between 20 and 65 years old</td>\n",
              "      <td>1.03</td>\n",
              "      <td>1.11</td>\n",
              "      <td>0.95</td>\n",
              "    </tr>\n",
              "    <tr>\n",
              "      <th>3</th>\n",
              "      <td>Women above 65 years old</td>\n",
              "      <td>0.98</td>\n",
              "      <td>1.04</td>\n",
              "      <td>0.92</td>\n",
              "    </tr>\n",
              "    <tr>\n",
              "      <th>4</th>\n",
              "      <td>Men above 65 years old</td>\n",
              "      <td>1.01</td>\n",
              "      <td>1.07</td>\n",
              "      <td>0.95</td>\n",
              "    </tr>\n",
              "  </tbody>\n",
              "</table>\n",
              "</div>"
            ],
            "text/plain": [
              "                               Group  Rate ratio (RR)  Upper CI  Lower CI\n",
              "0                                All             1.01      1.05      0.98\n",
              "1  Women between 20 and 65 years old             0.97      1.08      0.87\n",
              "2    Men between 20 and 65 years old             1.03      1.11      0.95\n",
              "3           Women above 65 years old             0.98      1.04      0.92\n",
              "4             Men above 65 years old             1.01      1.07      0.95"
            ]
          },
          "metadata": {},
          "execution_count": 86
        }
      ]
    },
    {
      "cell_type": "markdown",
      "metadata": {
        "id": "XCqL-y4Z5DuF"
      },
      "source": [
        "####**Race**"
      ]
    },
    {
      "cell_type": "code",
      "metadata": {
        "id": "XKam_kkq5DuG",
        "colab": {
          "base_uri": "https://localhost:8080/",
          "height": 235
        },
        "outputId": "5ecdb11d-fe8a-413e-b28a-4368bdcacb31"
      },
      "source": [
        "rate_ratio(df, 'race','HPW')"
      ],
      "execution_count": null,
      "outputs": [
        {
          "output_type": "execute_result",
          "data": {
            "text/html": [
              "<div>\n",
              "<style scoped>\n",
              "    .dataframe tbody tr th:only-of-type {\n",
              "        vertical-align: middle;\n",
              "    }\n",
              "\n",
              "    .dataframe tbody tr th {\n",
              "        vertical-align: top;\n",
              "    }\n",
              "\n",
              "    .dataframe thead th {\n",
              "        text-align: right;\n",
              "    }\n",
              "</style>\n",
              "<table border=\"1\" class=\"dataframe\">\n",
              "  <thead>\n",
              "    <tr style=\"text-align: right;\">\n",
              "      <th></th>\n",
              "      <th>Group</th>\n",
              "      <th>Rate ratio (RR)</th>\n",
              "      <th>Upper CI</th>\n",
              "      <th>Lower CI</th>\n",
              "    </tr>\n",
              "  </thead>\n",
              "  <tbody>\n",
              "    <tr>\n",
              "      <th>0</th>\n",
              "      <td>All</td>\n",
              "      <td>1.01</td>\n",
              "      <td>1.05</td>\n",
              "      <td>0.98</td>\n",
              "    </tr>\n",
              "    <tr>\n",
              "      <th>1</th>\n",
              "      <td>White</td>\n",
              "      <td>1.00</td>\n",
              "      <td>1.04</td>\n",
              "      <td>0.96</td>\n",
              "    </tr>\n",
              "    <tr>\n",
              "      <th>2</th>\n",
              "      <td>Black</td>\n",
              "      <td>1.03</td>\n",
              "      <td>1.18</td>\n",
              "      <td>0.90</td>\n",
              "    </tr>\n",
              "    <tr>\n",
              "      <th>3</th>\n",
              "      <td>Yellow</td>\n",
              "      <td>0.99</td>\n",
              "      <td>1.43</td>\n",
              "      <td>0.69</td>\n",
              "    </tr>\n",
              "    <tr>\n",
              "      <th>4</th>\n",
              "      <td>Brown</td>\n",
              "      <td>1.02</td>\n",
              "      <td>1.12</td>\n",
              "      <td>0.93</td>\n",
              "    </tr>\n",
              "    <tr>\n",
              "      <th>5</th>\n",
              "      <td>Indian</td>\n",
              "      <td>1.00</td>\n",
              "      <td>11.03</td>\n",
              "      <td>0.09</td>\n",
              "    </tr>\n",
              "  </tbody>\n",
              "</table>\n",
              "</div>"
            ],
            "text/plain": [
              "    Group  Rate ratio (RR)  Upper CI  Lower CI\n",
              "0     All             1.01      1.05      0.98\n",
              "1   White             1.00      1.04      0.96\n",
              "2   Black             1.03      1.18      0.90\n",
              "3  Yellow             0.99      1.43      0.69\n",
              "4   Brown             1.02      1.12      0.93\n",
              "5  Indian             1.00     11.03      0.09"
            ]
          },
          "metadata": {},
          "execution_count": 87
        }
      ]
    },
    {
      "cell_type": "markdown",
      "metadata": {
        "id": "_wdEtq6sCnTQ"
      },
      "source": [
        "###**Extreme difference of pressure between days**"
      ]
    },
    {
      "cell_type": "markdown",
      "metadata": {
        "id": "eTXY76gZCnTQ"
      },
      "source": [
        "####**Sex**"
      ]
    },
    {
      "cell_type": "code",
      "metadata": {
        "colab": {
          "base_uri": "https://localhost:8080/",
          "height": 142
        },
        "id": "R9S7G1T9CnTQ",
        "outputId": "b21fb1e1-e1e7-48d0-ec76-e8ed71262588"
      },
      "source": [
        "rate_ratio(df, 'sex','above_pressure_dif')"
      ],
      "execution_count": null,
      "outputs": [
        {
          "output_type": "execute_result",
          "data": {
            "text/html": [
              "<div>\n",
              "<style scoped>\n",
              "    .dataframe tbody tr th:only-of-type {\n",
              "        vertical-align: middle;\n",
              "    }\n",
              "\n",
              "    .dataframe tbody tr th {\n",
              "        vertical-align: top;\n",
              "    }\n",
              "\n",
              "    .dataframe thead th {\n",
              "        text-align: right;\n",
              "    }\n",
              "</style>\n",
              "<table border=\"1\" class=\"dataframe\">\n",
              "  <thead>\n",
              "    <tr style=\"text-align: right;\">\n",
              "      <th></th>\n",
              "      <th>Group</th>\n",
              "      <th>Rate ratio (RR)</th>\n",
              "      <th>Upper CI</th>\n",
              "      <th>Lower CI</th>\n",
              "    </tr>\n",
              "  </thead>\n",
              "  <tbody>\n",
              "    <tr>\n",
              "      <th>0</th>\n",
              "      <td>All</td>\n",
              "      <td>1.00</td>\n",
              "      <td>1.03</td>\n",
              "      <td>0.97</td>\n",
              "    </tr>\n",
              "    <tr>\n",
              "      <th>1</th>\n",
              "      <td>Women</td>\n",
              "      <td>1.00</td>\n",
              "      <td>1.04</td>\n",
              "      <td>0.96</td>\n",
              "    </tr>\n",
              "    <tr>\n",
              "      <th>2</th>\n",
              "      <td>Men</td>\n",
              "      <td>0.99</td>\n",
              "      <td>1.03</td>\n",
              "      <td>0.95</td>\n",
              "    </tr>\n",
              "  </tbody>\n",
              "</table>\n",
              "</div>"
            ],
            "text/plain": [
              "   Group  Rate ratio (RR)  Upper CI  Lower CI\n",
              "0    All             1.00      1.03      0.97\n",
              "1  Women             1.00      1.04      0.96\n",
              "2    Men             0.99      1.03      0.95"
            ]
          },
          "metadata": {},
          "execution_count": 88
        }
      ]
    },
    {
      "cell_type": "markdown",
      "metadata": {
        "id": "GsyJadP5CnTS"
      },
      "source": [
        "####**Age**"
      ]
    },
    {
      "cell_type": "code",
      "metadata": {
        "colab": {
          "base_uri": "https://localhost:8080/",
          "height": 204
        },
        "id": "ZFSwDuZeCnTT",
        "outputId": "fcf39632-910e-4996-b514-5fb171dcf12d"
      },
      "source": [
        "rate_ratio(df, 'age','above_pressure_dif')"
      ],
      "execution_count": null,
      "outputs": [
        {
          "output_type": "execute_result",
          "data": {
            "text/html": [
              "<div>\n",
              "<style scoped>\n",
              "    .dataframe tbody tr th:only-of-type {\n",
              "        vertical-align: middle;\n",
              "    }\n",
              "\n",
              "    .dataframe tbody tr th {\n",
              "        vertical-align: top;\n",
              "    }\n",
              "\n",
              "    .dataframe thead th {\n",
              "        text-align: right;\n",
              "    }\n",
              "</style>\n",
              "<table border=\"1\" class=\"dataframe\">\n",
              "  <thead>\n",
              "    <tr style=\"text-align: right;\">\n",
              "      <th></th>\n",
              "      <th>Group</th>\n",
              "      <th>Rate ratio (RR)</th>\n",
              "      <th>Upper CI</th>\n",
              "      <th>Lower CI</th>\n",
              "    </tr>\n",
              "  </thead>\n",
              "  <tbody>\n",
              "    <tr>\n",
              "      <th>0</th>\n",
              "      <td>All</td>\n",
              "      <td>1.00</td>\n",
              "      <td>1.03</td>\n",
              "      <td>0.97</td>\n",
              "    </tr>\n",
              "    <tr>\n",
              "      <th>1</th>\n",
              "      <td>Between 20 and 40 years old</td>\n",
              "      <td>1.04</td>\n",
              "      <td>1.21</td>\n",
              "      <td>0.89</td>\n",
              "    </tr>\n",
              "    <tr>\n",
              "      <th>2</th>\n",
              "      <td>Between 40 and 65 years old</td>\n",
              "      <td>1.03</td>\n",
              "      <td>1.09</td>\n",
              "      <td>0.98</td>\n",
              "    </tr>\n",
              "    <tr>\n",
              "      <th>3</th>\n",
              "      <td>Above 65 years old</td>\n",
              "      <td>0.99</td>\n",
              "      <td>1.03</td>\n",
              "      <td>0.96</td>\n",
              "    </tr>\n",
              "    <tr>\n",
              "      <th>4</th>\n",
              "      <td>Above 75 years old</td>\n",
              "      <td>0.97</td>\n",
              "      <td>1.01</td>\n",
              "      <td>0.93</td>\n",
              "    </tr>\n",
              "  </tbody>\n",
              "</table>\n",
              "</div>"
            ],
            "text/plain": [
              "                         Group  Rate ratio (RR)  Upper CI  Lower CI\n",
              "0                          All             1.00      1.03      0.97\n",
              "1  Between 20 and 40 years old             1.04      1.21      0.89\n",
              "2  Between 40 and 65 years old             1.03      1.09      0.98\n",
              "3           Above 65 years old             0.99      1.03      0.96\n",
              "4           Above 75 years old             0.97      1.01      0.93"
            ]
          },
          "metadata": {},
          "execution_count": 89
        }
      ]
    },
    {
      "cell_type": "markdown",
      "metadata": {
        "id": "oMkzNY3KCnTT"
      },
      "source": [
        "####**Age and sex**"
      ]
    },
    {
      "cell_type": "code",
      "metadata": {
        "colab": {
          "base_uri": "https://localhost:8080/",
          "height": 204
        },
        "id": "TmaJ_RauCnTT",
        "outputId": "8b686a76-6979-4197-9a0b-52dc915e4d51"
      },
      "source": [
        "rate_ratio(df, 'age and sex','above_pressure_dif')"
      ],
      "execution_count": null,
      "outputs": [
        {
          "output_type": "execute_result",
          "data": {
            "text/html": [
              "<div>\n",
              "<style scoped>\n",
              "    .dataframe tbody tr th:only-of-type {\n",
              "        vertical-align: middle;\n",
              "    }\n",
              "\n",
              "    .dataframe tbody tr th {\n",
              "        vertical-align: top;\n",
              "    }\n",
              "\n",
              "    .dataframe thead th {\n",
              "        text-align: right;\n",
              "    }\n",
              "</style>\n",
              "<table border=\"1\" class=\"dataframe\">\n",
              "  <thead>\n",
              "    <tr style=\"text-align: right;\">\n",
              "      <th></th>\n",
              "      <th>Group</th>\n",
              "      <th>Rate ratio (RR)</th>\n",
              "      <th>Upper CI</th>\n",
              "      <th>Lower CI</th>\n",
              "    </tr>\n",
              "  </thead>\n",
              "  <tbody>\n",
              "    <tr>\n",
              "      <th>0</th>\n",
              "      <td>All</td>\n",
              "      <td>1.00</td>\n",
              "      <td>1.03</td>\n",
              "      <td>0.97</td>\n",
              "    </tr>\n",
              "    <tr>\n",
              "      <th>1</th>\n",
              "      <td>Women between 20 and 65 years old</td>\n",
              "      <td>1.03</td>\n",
              "      <td>1.12</td>\n",
              "      <td>0.95</td>\n",
              "    </tr>\n",
              "    <tr>\n",
              "      <th>2</th>\n",
              "      <td>Men between 20 and 65 years old</td>\n",
              "      <td>1.03</td>\n",
              "      <td>1.10</td>\n",
              "      <td>0.97</td>\n",
              "    </tr>\n",
              "    <tr>\n",
              "      <th>3</th>\n",
              "      <td>Women above 65 years old</td>\n",
              "      <td>0.99</td>\n",
              "      <td>1.04</td>\n",
              "      <td>0.94</td>\n",
              "    </tr>\n",
              "    <tr>\n",
              "      <th>4</th>\n",
              "      <td>Men above 65 years old</td>\n",
              "      <td>0.98</td>\n",
              "      <td>1.03</td>\n",
              "      <td>0.93</td>\n",
              "    </tr>\n",
              "  </tbody>\n",
              "</table>\n",
              "</div>"
            ],
            "text/plain": [
              "                               Group  Rate ratio (RR)  Upper CI  Lower CI\n",
              "0                                All             1.00      1.03      0.97\n",
              "1  Women between 20 and 65 years old             1.03      1.12      0.95\n",
              "2    Men between 20 and 65 years old             1.03      1.10      0.97\n",
              "3           Women above 65 years old             0.99      1.04      0.94\n",
              "4             Men above 65 years old             0.98      1.03      0.93"
            ]
          },
          "metadata": {},
          "execution_count": 90
        }
      ]
    },
    {
      "cell_type": "markdown",
      "metadata": {
        "id": "-MP9Fybv5GC5"
      },
      "source": [
        "####**Race**"
      ]
    },
    {
      "cell_type": "code",
      "metadata": {
        "id": "Kh6dXa5k5GC6",
        "colab": {
          "base_uri": "https://localhost:8080/",
          "height": 269
        },
        "outputId": "ce4cae17-c20d-43f1-eb6a-0b4596f6450a"
      },
      "source": [
        "rate_ratio(df, 'race','above_pressure_dif')"
      ],
      "execution_count": null,
      "outputs": [
        {
          "output_type": "stream",
          "name": "stderr",
          "text": [
            "/usr/local/lib/python3.7/dist-packages/ipykernel_launcher.py:32: RuntimeWarning: invalid value encountered in long_scalars\n",
            "/usr/local/lib/python3.7/dist-packages/ipykernel_launcher.py:33: RuntimeWarning: divide by zero encountered in long_scalars\n"
          ]
        },
        {
          "output_type": "execute_result",
          "data": {
            "text/html": [
              "<div>\n",
              "<style scoped>\n",
              "    .dataframe tbody tr th:only-of-type {\n",
              "        vertical-align: middle;\n",
              "    }\n",
              "\n",
              "    .dataframe tbody tr th {\n",
              "        vertical-align: top;\n",
              "    }\n",
              "\n",
              "    .dataframe thead th {\n",
              "        text-align: right;\n",
              "    }\n",
              "</style>\n",
              "<table border=\"1\" class=\"dataframe\">\n",
              "  <thead>\n",
              "    <tr style=\"text-align: right;\">\n",
              "      <th></th>\n",
              "      <th>Group</th>\n",
              "      <th>Rate ratio (RR)</th>\n",
              "      <th>Upper CI</th>\n",
              "      <th>Lower CI</th>\n",
              "    </tr>\n",
              "  </thead>\n",
              "  <tbody>\n",
              "    <tr>\n",
              "      <th>0</th>\n",
              "      <td>All</td>\n",
              "      <td>1.00</td>\n",
              "      <td>1.03</td>\n",
              "      <td>0.97</td>\n",
              "    </tr>\n",
              "    <tr>\n",
              "      <th>1</th>\n",
              "      <td>White</td>\n",
              "      <td>0.99</td>\n",
              "      <td>1.02</td>\n",
              "      <td>0.96</td>\n",
              "    </tr>\n",
              "    <tr>\n",
              "      <th>2</th>\n",
              "      <td>Black</td>\n",
              "      <td>1.00</td>\n",
              "      <td>1.12</td>\n",
              "      <td>0.90</td>\n",
              "    </tr>\n",
              "    <tr>\n",
              "      <th>3</th>\n",
              "      <td>Yellow</td>\n",
              "      <td>1.00</td>\n",
              "      <td>1.35</td>\n",
              "      <td>0.74</td>\n",
              "    </tr>\n",
              "    <tr>\n",
              "      <th>4</th>\n",
              "      <td>Brown</td>\n",
              "      <td>1.04</td>\n",
              "      <td>1.13</td>\n",
              "      <td>0.96</td>\n",
              "    </tr>\n",
              "    <tr>\n",
              "      <th>5</th>\n",
              "      <td>Indian</td>\n",
              "      <td>NaN</td>\n",
              "      <td>NaN</td>\n",
              "      <td>NaN</td>\n",
              "    </tr>\n",
              "  </tbody>\n",
              "</table>\n",
              "</div>"
            ],
            "text/plain": [
              "    Group  Rate ratio (RR)  Upper CI  Lower CI\n",
              "0     All             1.00      1.03      0.97\n",
              "1   White             0.99      1.02      0.96\n",
              "2   Black             1.00      1.12      0.90\n",
              "3  Yellow             1.00      1.35      0.74\n",
              "4   Brown             1.04      1.13      0.96\n",
              "5  Indian              NaN       NaN       NaN"
            ]
          },
          "metadata": {},
          "execution_count": 91
        }
      ]
    },
    {
      "cell_type": "markdown",
      "metadata": {
        "id": "cFlgShdDC3PW"
      },
      "source": [
        "##**Humidity**"
      ]
    },
    {
      "cell_type": "markdown",
      "metadata": {
        "id": "UNRTlDbLC5ol"
      },
      "source": [
        "###**Low humidity waves**"
      ]
    },
    {
      "cell_type": "markdown",
      "metadata": {
        "id": "A3h5g9DhC5ol"
      },
      "source": [
        "####**Sex**"
      ]
    },
    {
      "cell_type": "code",
      "metadata": {
        "colab": {
          "base_uri": "https://localhost:8080/",
          "height": 142
        },
        "id": "3rZJ5uNxC5om",
        "outputId": "a85435e2-b3e1-41e8-f470-4573326692f2"
      },
      "source": [
        "rate_ratio(df, 'sex','LHW')"
      ],
      "execution_count": null,
      "outputs": [
        {
          "output_type": "execute_result",
          "data": {
            "text/html": [
              "<div>\n",
              "<style scoped>\n",
              "    .dataframe tbody tr th:only-of-type {\n",
              "        vertical-align: middle;\n",
              "    }\n",
              "\n",
              "    .dataframe tbody tr th {\n",
              "        vertical-align: top;\n",
              "    }\n",
              "\n",
              "    .dataframe thead th {\n",
              "        text-align: right;\n",
              "    }\n",
              "</style>\n",
              "<table border=\"1\" class=\"dataframe\">\n",
              "  <thead>\n",
              "    <tr style=\"text-align: right;\">\n",
              "      <th></th>\n",
              "      <th>Group</th>\n",
              "      <th>Rate ratio (RR)</th>\n",
              "      <th>Upper CI</th>\n",
              "      <th>Lower CI</th>\n",
              "    </tr>\n",
              "  </thead>\n",
              "  <tbody>\n",
              "    <tr>\n",
              "      <th>0</th>\n",
              "      <td>All</td>\n",
              "      <td>1.09</td>\n",
              "      <td>1.15</td>\n",
              "      <td>1.04</td>\n",
              "    </tr>\n",
              "    <tr>\n",
              "      <th>1</th>\n",
              "      <td>Women</td>\n",
              "      <td>1.07</td>\n",
              "      <td>1.15</td>\n",
              "      <td>0.99</td>\n",
              "    </tr>\n",
              "    <tr>\n",
              "      <th>2</th>\n",
              "      <td>Men</td>\n",
              "      <td>1.09</td>\n",
              "      <td>1.17</td>\n",
              "      <td>1.02</td>\n",
              "    </tr>\n",
              "  </tbody>\n",
              "</table>\n",
              "</div>"
            ],
            "text/plain": [
              "   Group  Rate ratio (RR)  Upper CI  Lower CI\n",
              "0    All             1.09      1.15      1.04\n",
              "1  Women             1.07      1.15      0.99\n",
              "2    Men             1.09      1.17      1.02"
            ]
          },
          "metadata": {},
          "execution_count": 92
        }
      ]
    },
    {
      "cell_type": "markdown",
      "metadata": {
        "id": "VnXy32ZbC5om"
      },
      "source": [
        "####**Age**"
      ]
    },
    {
      "cell_type": "code",
      "metadata": {
        "colab": {
          "base_uri": "https://localhost:8080/",
          "height": 204
        },
        "id": "RvtJ3e8OC5on",
        "outputId": "2c8019e0-5cc3-4f7d-9d7e-cb530d489796"
      },
      "source": [
        "rate_ratio(df, 'age','LHW')"
      ],
      "execution_count": null,
      "outputs": [
        {
          "output_type": "execute_result",
          "data": {
            "text/html": [
              "<div>\n",
              "<style scoped>\n",
              "    .dataframe tbody tr th:only-of-type {\n",
              "        vertical-align: middle;\n",
              "    }\n",
              "\n",
              "    .dataframe tbody tr th {\n",
              "        vertical-align: top;\n",
              "    }\n",
              "\n",
              "    .dataframe thead th {\n",
              "        text-align: right;\n",
              "    }\n",
              "</style>\n",
              "<table border=\"1\" class=\"dataframe\">\n",
              "  <thead>\n",
              "    <tr style=\"text-align: right;\">\n",
              "      <th></th>\n",
              "      <th>Group</th>\n",
              "      <th>Rate ratio (RR)</th>\n",
              "      <th>Upper CI</th>\n",
              "      <th>Lower CI</th>\n",
              "    </tr>\n",
              "  </thead>\n",
              "  <tbody>\n",
              "    <tr>\n",
              "      <th>0</th>\n",
              "      <td>All</td>\n",
              "      <td>1.09</td>\n",
              "      <td>1.15</td>\n",
              "      <td>1.04</td>\n",
              "    </tr>\n",
              "    <tr>\n",
              "      <th>1</th>\n",
              "      <td>Between 20 and 40 years old</td>\n",
              "      <td>0.97</td>\n",
              "      <td>1.27</td>\n",
              "      <td>0.74</td>\n",
              "    </tr>\n",
              "    <tr>\n",
              "      <th>2</th>\n",
              "      <td>Between 40 and 65 years old</td>\n",
              "      <td>0.98</td>\n",
              "      <td>1.09</td>\n",
              "      <td>0.88</td>\n",
              "    </tr>\n",
              "    <tr>\n",
              "      <th>3</th>\n",
              "      <td>Above 65 years old</td>\n",
              "      <td>1.14</td>\n",
              "      <td>1.21</td>\n",
              "      <td>1.07</td>\n",
              "    </tr>\n",
              "    <tr>\n",
              "      <th>4</th>\n",
              "      <td>Above 75 years old</td>\n",
              "      <td>1.13</td>\n",
              "      <td>1.22</td>\n",
              "      <td>1.05</td>\n",
              "    </tr>\n",
              "  </tbody>\n",
              "</table>\n",
              "</div>"
            ],
            "text/plain": [
              "                         Group  Rate ratio (RR)  Upper CI  Lower CI\n",
              "0                          All             1.09      1.15      1.04\n",
              "1  Between 20 and 40 years old             0.97      1.27      0.74\n",
              "2  Between 40 and 65 years old             0.98      1.09      0.88\n",
              "3           Above 65 years old             1.14      1.21      1.07\n",
              "4           Above 75 years old             1.13      1.22      1.05"
            ]
          },
          "metadata": {},
          "execution_count": 93
        }
      ]
    },
    {
      "cell_type": "markdown",
      "metadata": {
        "id": "mSzu0TNhC5on"
      },
      "source": [
        "####**Age and sex**"
      ]
    },
    {
      "cell_type": "code",
      "metadata": {
        "colab": {
          "base_uri": "https://localhost:8080/",
          "height": 204
        },
        "id": "dfpk353bC5on",
        "outputId": "21975660-9935-46f5-ee6b-017dcdba5244"
      },
      "source": [
        "rate_ratio(df, 'age and sex','LHW')"
      ],
      "execution_count": null,
      "outputs": [
        {
          "output_type": "execute_result",
          "data": {
            "text/html": [
              "<div>\n",
              "<style scoped>\n",
              "    .dataframe tbody tr th:only-of-type {\n",
              "        vertical-align: middle;\n",
              "    }\n",
              "\n",
              "    .dataframe tbody tr th {\n",
              "        vertical-align: top;\n",
              "    }\n",
              "\n",
              "    .dataframe thead th {\n",
              "        text-align: right;\n",
              "    }\n",
              "</style>\n",
              "<table border=\"1\" class=\"dataframe\">\n",
              "  <thead>\n",
              "    <tr style=\"text-align: right;\">\n",
              "      <th></th>\n",
              "      <th>Group</th>\n",
              "      <th>Rate ratio (RR)</th>\n",
              "      <th>Upper CI</th>\n",
              "      <th>Lower CI</th>\n",
              "    </tr>\n",
              "  </thead>\n",
              "  <tbody>\n",
              "    <tr>\n",
              "      <th>0</th>\n",
              "      <td>All</td>\n",
              "      <td>1.09</td>\n",
              "      <td>1.15</td>\n",
              "      <td>1.04</td>\n",
              "    </tr>\n",
              "    <tr>\n",
              "      <th>1</th>\n",
              "      <td>Women between 20 and 65 years old</td>\n",
              "      <td>0.97</td>\n",
              "      <td>1.14</td>\n",
              "      <td>0.83</td>\n",
              "    </tr>\n",
              "    <tr>\n",
              "      <th>2</th>\n",
              "      <td>Men between 20 and 65 years old</td>\n",
              "      <td>1.02</td>\n",
              "      <td>1.15</td>\n",
              "      <td>0.90</td>\n",
              "    </tr>\n",
              "    <tr>\n",
              "      <th>3</th>\n",
              "      <td>Women above 65 years old</td>\n",
              "      <td>1.08</td>\n",
              "      <td>1.17</td>\n",
              "      <td>0.99</td>\n",
              "    </tr>\n",
              "    <tr>\n",
              "      <th>4</th>\n",
              "      <td>Men above 65 years old</td>\n",
              "      <td>1.13</td>\n",
              "      <td>1.23</td>\n",
              "      <td>1.04</td>\n",
              "    </tr>\n",
              "  </tbody>\n",
              "</table>\n",
              "</div>"
            ],
            "text/plain": [
              "                               Group  Rate ratio (RR)  Upper CI  Lower CI\n",
              "0                                All             1.09      1.15      1.04\n",
              "1  Women between 20 and 65 years old             0.97      1.14      0.83\n",
              "2    Men between 20 and 65 years old             1.02      1.15      0.90\n",
              "3           Women above 65 years old             1.08      1.17      0.99\n",
              "4             Men above 65 years old             1.13      1.23      1.04"
            ]
          },
          "metadata": {},
          "execution_count": 94
        }
      ]
    },
    {
      "cell_type": "markdown",
      "metadata": {
        "id": "iXVg9Zz85Jt0"
      },
      "source": [
        "####**Race**"
      ]
    },
    {
      "cell_type": "code",
      "metadata": {
        "id": "2ghZdmYP5Jt1",
        "colab": {
          "base_uri": "https://localhost:8080/",
          "height": 235
        },
        "outputId": "96550206-d8bd-4532-8196-79af8e71d9d5"
      },
      "source": [
        "rate_ratio(df, 'race','LHW')"
      ],
      "execution_count": null,
      "outputs": [
        {
          "output_type": "execute_result",
          "data": {
            "text/html": [
              "<div>\n",
              "<style scoped>\n",
              "    .dataframe tbody tr th:only-of-type {\n",
              "        vertical-align: middle;\n",
              "    }\n",
              "\n",
              "    .dataframe tbody tr th {\n",
              "        vertical-align: top;\n",
              "    }\n",
              "\n",
              "    .dataframe thead th {\n",
              "        text-align: right;\n",
              "    }\n",
              "</style>\n",
              "<table border=\"1\" class=\"dataframe\">\n",
              "  <thead>\n",
              "    <tr style=\"text-align: right;\">\n",
              "      <th></th>\n",
              "      <th>Group</th>\n",
              "      <th>Rate ratio (RR)</th>\n",
              "      <th>Upper CI</th>\n",
              "      <th>Lower CI</th>\n",
              "    </tr>\n",
              "  </thead>\n",
              "  <tbody>\n",
              "    <tr>\n",
              "      <th>0</th>\n",
              "      <td>All</td>\n",
              "      <td>1.09</td>\n",
              "      <td>1.15</td>\n",
              "      <td>1.04</td>\n",
              "    </tr>\n",
              "    <tr>\n",
              "      <th>1</th>\n",
              "      <td>White</td>\n",
              "      <td>1.04</td>\n",
              "      <td>1.10</td>\n",
              "      <td>0.98</td>\n",
              "    </tr>\n",
              "    <tr>\n",
              "      <th>2</th>\n",
              "      <td>Black</td>\n",
              "      <td>1.06</td>\n",
              "      <td>1.29</td>\n",
              "      <td>0.87</td>\n",
              "    </tr>\n",
              "    <tr>\n",
              "      <th>3</th>\n",
              "      <td>Yellow</td>\n",
              "      <td>0.95</td>\n",
              "      <td>1.56</td>\n",
              "      <td>0.58</td>\n",
              "    </tr>\n",
              "    <tr>\n",
              "      <th>4</th>\n",
              "      <td>Brown</td>\n",
              "      <td>1.23</td>\n",
              "      <td>1.40</td>\n",
              "      <td>1.08</td>\n",
              "    </tr>\n",
              "    <tr>\n",
              "      <th>5</th>\n",
              "      <td>Indian</td>\n",
              "      <td>1.00</td>\n",
              "      <td>11.03</td>\n",
              "      <td>0.09</td>\n",
              "    </tr>\n",
              "  </tbody>\n",
              "</table>\n",
              "</div>"
            ],
            "text/plain": [
              "    Group  Rate ratio (RR)  Upper CI  Lower CI\n",
              "0     All             1.09      1.15      1.04\n",
              "1   White             1.04      1.10      0.98\n",
              "2   Black             1.06      1.29      0.87\n",
              "3  Yellow             0.95      1.56      0.58\n",
              "4   Brown             1.23      1.40      1.08\n",
              "5  Indian             1.00     11.03      0.09"
            ]
          },
          "metadata": {},
          "execution_count": 95
        }
      ]
    },
    {
      "cell_type": "markdown",
      "metadata": {
        "id": "fRGUUXTGDF9Z"
      },
      "source": [
        "###**High humidity waves**"
      ]
    },
    {
      "cell_type": "markdown",
      "metadata": {
        "id": "yYxyGcBwDF9a"
      },
      "source": [
        "####**Sex**"
      ]
    },
    {
      "cell_type": "code",
      "metadata": {
        "colab": {
          "base_uri": "https://localhost:8080/",
          "height": 142
        },
        "id": "oMrCU4H7DF9b",
        "outputId": "f2cae575-5e0e-417f-ba28-85cb6b497e6c"
      },
      "source": [
        "rate_ratio(df, 'sex','HHW')"
      ],
      "execution_count": null,
      "outputs": [
        {
          "output_type": "execute_result",
          "data": {
            "text/html": [
              "<div>\n",
              "<style scoped>\n",
              "    .dataframe tbody tr th:only-of-type {\n",
              "        vertical-align: middle;\n",
              "    }\n",
              "\n",
              "    .dataframe tbody tr th {\n",
              "        vertical-align: top;\n",
              "    }\n",
              "\n",
              "    .dataframe thead th {\n",
              "        text-align: right;\n",
              "    }\n",
              "</style>\n",
              "<table border=\"1\" class=\"dataframe\">\n",
              "  <thead>\n",
              "    <tr style=\"text-align: right;\">\n",
              "      <th></th>\n",
              "      <th>Group</th>\n",
              "      <th>Rate ratio (RR)</th>\n",
              "      <th>Upper CI</th>\n",
              "      <th>Lower CI</th>\n",
              "    </tr>\n",
              "  </thead>\n",
              "  <tbody>\n",
              "    <tr>\n",
              "      <th>0</th>\n",
              "      <td>All</td>\n",
              "      <td>0.99</td>\n",
              "      <td>1.05</td>\n",
              "      <td>0.94</td>\n",
              "    </tr>\n",
              "    <tr>\n",
              "      <th>1</th>\n",
              "      <td>Women</td>\n",
              "      <td>1.03</td>\n",
              "      <td>1.12</td>\n",
              "      <td>0.95</td>\n",
              "    </tr>\n",
              "    <tr>\n",
              "      <th>2</th>\n",
              "      <td>Men</td>\n",
              "      <td>0.96</td>\n",
              "      <td>1.04</td>\n",
              "      <td>0.89</td>\n",
              "    </tr>\n",
              "  </tbody>\n",
              "</table>\n",
              "</div>"
            ],
            "text/plain": [
              "   Group  Rate ratio (RR)  Upper CI  Lower CI\n",
              "0    All             0.99      1.05      0.94\n",
              "1  Women             1.03      1.12      0.95\n",
              "2    Men             0.96      1.04      0.89"
            ]
          },
          "metadata": {},
          "execution_count": 96
        }
      ]
    },
    {
      "cell_type": "markdown",
      "metadata": {
        "id": "HVnwFbWpDF9c"
      },
      "source": [
        "####**Age**"
      ]
    },
    {
      "cell_type": "code",
      "metadata": {
        "colab": {
          "base_uri": "https://localhost:8080/",
          "height": 204
        },
        "id": "TMwTYfJSDF9d",
        "outputId": "d372a19d-42ee-45cd-fa9c-498328c0375f"
      },
      "source": [
        "rate_ratio(df, 'age','HHW')"
      ],
      "execution_count": null,
      "outputs": [
        {
          "output_type": "execute_result",
          "data": {
            "text/html": [
              "<div>\n",
              "<style scoped>\n",
              "    .dataframe tbody tr th:only-of-type {\n",
              "        vertical-align: middle;\n",
              "    }\n",
              "\n",
              "    .dataframe tbody tr th {\n",
              "        vertical-align: top;\n",
              "    }\n",
              "\n",
              "    .dataframe thead th {\n",
              "        text-align: right;\n",
              "    }\n",
              "</style>\n",
              "<table border=\"1\" class=\"dataframe\">\n",
              "  <thead>\n",
              "    <tr style=\"text-align: right;\">\n",
              "      <th></th>\n",
              "      <th>Group</th>\n",
              "      <th>Rate ratio (RR)</th>\n",
              "      <th>Upper CI</th>\n",
              "      <th>Lower CI</th>\n",
              "    </tr>\n",
              "  </thead>\n",
              "  <tbody>\n",
              "    <tr>\n",
              "      <th>0</th>\n",
              "      <td>All</td>\n",
              "      <td>0.99</td>\n",
              "      <td>1.05</td>\n",
              "      <td>0.94</td>\n",
              "    </tr>\n",
              "    <tr>\n",
              "      <th>1</th>\n",
              "      <td>Between 20 and 40 years old</td>\n",
              "      <td>0.88</td>\n",
              "      <td>1.19</td>\n",
              "      <td>0.65</td>\n",
              "    </tr>\n",
              "    <tr>\n",
              "      <th>2</th>\n",
              "      <td>Between 40 and 65 years old</td>\n",
              "      <td>1.00</td>\n",
              "      <td>1.11</td>\n",
              "      <td>0.90</td>\n",
              "    </tr>\n",
              "    <tr>\n",
              "      <th>3</th>\n",
              "      <td>Above 65 years old</td>\n",
              "      <td>1.01</td>\n",
              "      <td>1.08</td>\n",
              "      <td>0.94</td>\n",
              "    </tr>\n",
              "    <tr>\n",
              "      <th>4</th>\n",
              "      <td>Above 75 years old</td>\n",
              "      <td>0.98</td>\n",
              "      <td>1.07</td>\n",
              "      <td>0.90</td>\n",
              "    </tr>\n",
              "  </tbody>\n",
              "</table>\n",
              "</div>"
            ],
            "text/plain": [
              "                         Group  Rate ratio (RR)  Upper CI  Lower CI\n",
              "0                          All             0.99      1.05      0.94\n",
              "1  Between 20 and 40 years old             0.88      1.19      0.65\n",
              "2  Between 40 and 65 years old             1.00      1.11      0.90\n",
              "3           Above 65 years old             1.01      1.08      0.94\n",
              "4           Above 75 years old             0.98      1.07      0.90"
            ]
          },
          "metadata": {},
          "execution_count": 97
        }
      ]
    },
    {
      "cell_type": "markdown",
      "metadata": {
        "id": "FcbsXZTIDF9e"
      },
      "source": [
        "####**Age and sex**"
      ]
    },
    {
      "cell_type": "code",
      "metadata": {
        "colab": {
          "base_uri": "https://localhost:8080/",
          "height": 204
        },
        "id": "42n7H6LkDF9e",
        "outputId": "38c55586-2d91-4c32-bf74-040ee5181319"
      },
      "source": [
        "rate_ratio(df, 'age and sex','HHW')"
      ],
      "execution_count": null,
      "outputs": [
        {
          "output_type": "execute_result",
          "data": {
            "text/html": [
              "<div>\n",
              "<style scoped>\n",
              "    .dataframe tbody tr th:only-of-type {\n",
              "        vertical-align: middle;\n",
              "    }\n",
              "\n",
              "    .dataframe tbody tr th {\n",
              "        vertical-align: top;\n",
              "    }\n",
              "\n",
              "    .dataframe thead th {\n",
              "        text-align: right;\n",
              "    }\n",
              "</style>\n",
              "<table border=\"1\" class=\"dataframe\">\n",
              "  <thead>\n",
              "    <tr style=\"text-align: right;\">\n",
              "      <th></th>\n",
              "      <th>Group</th>\n",
              "      <th>Rate ratio (RR)</th>\n",
              "      <th>Upper CI</th>\n",
              "      <th>Lower CI</th>\n",
              "    </tr>\n",
              "  </thead>\n",
              "  <tbody>\n",
              "    <tr>\n",
              "      <th>0</th>\n",
              "      <td>All</td>\n",
              "      <td>0.99</td>\n",
              "      <td>1.05</td>\n",
              "      <td>0.94</td>\n",
              "    </tr>\n",
              "    <tr>\n",
              "      <th>1</th>\n",
              "      <td>Women between 20 and 65 years old</td>\n",
              "      <td>0.93</td>\n",
              "      <td>1.10</td>\n",
              "      <td>0.79</td>\n",
              "    </tr>\n",
              "    <tr>\n",
              "      <th>2</th>\n",
              "      <td>Men between 20 and 65 years old</td>\n",
              "      <td>0.98</td>\n",
              "      <td>1.11</td>\n",
              "      <td>0.86</td>\n",
              "    </tr>\n",
              "    <tr>\n",
              "      <th>3</th>\n",
              "      <td>Women above 65 years old</td>\n",
              "      <td>1.05</td>\n",
              "      <td>1.15</td>\n",
              "      <td>0.96</td>\n",
              "    </tr>\n",
              "    <tr>\n",
              "      <th>4</th>\n",
              "      <td>Men above 65 years old</td>\n",
              "      <td>0.92</td>\n",
              "      <td>1.02</td>\n",
              "      <td>0.83</td>\n",
              "    </tr>\n",
              "  </tbody>\n",
              "</table>\n",
              "</div>"
            ],
            "text/plain": [
              "                               Group  Rate ratio (RR)  Upper CI  Lower CI\n",
              "0                                All             0.99      1.05      0.94\n",
              "1  Women between 20 and 65 years old             0.93      1.10      0.79\n",
              "2    Men between 20 and 65 years old             0.98      1.11      0.86\n",
              "3           Women above 65 years old             1.05      1.15      0.96\n",
              "4             Men above 65 years old             0.92      1.02      0.83"
            ]
          },
          "metadata": {},
          "execution_count": 98
        }
      ]
    },
    {
      "cell_type": "markdown",
      "metadata": {
        "id": "SG0D1ySf5O1o"
      },
      "source": [
        "####**Race**"
      ]
    },
    {
      "cell_type": "code",
      "metadata": {
        "id": "RK6t4HC45O1p",
        "colab": {
          "base_uri": "https://localhost:8080/",
          "height": 269
        },
        "outputId": "163a268f-d3d0-4293-8e4c-ec619d69a458"
      },
      "source": [
        "rate_ratio(df, 'race','HHW')"
      ],
      "execution_count": null,
      "outputs": [
        {
          "output_type": "stream",
          "name": "stderr",
          "text": [
            "/usr/local/lib/python3.7/dist-packages/ipykernel_launcher.py:32: RuntimeWarning: invalid value encountered in long_scalars\n",
            "/usr/local/lib/python3.7/dist-packages/ipykernel_launcher.py:33: RuntimeWarning: divide by zero encountered in long_scalars\n"
          ]
        },
        {
          "output_type": "execute_result",
          "data": {
            "text/html": [
              "<div>\n",
              "<style scoped>\n",
              "    .dataframe tbody tr th:only-of-type {\n",
              "        vertical-align: middle;\n",
              "    }\n",
              "\n",
              "    .dataframe tbody tr th {\n",
              "        vertical-align: top;\n",
              "    }\n",
              "\n",
              "    .dataframe thead th {\n",
              "        text-align: right;\n",
              "    }\n",
              "</style>\n",
              "<table border=\"1\" class=\"dataframe\">\n",
              "  <thead>\n",
              "    <tr style=\"text-align: right;\">\n",
              "      <th></th>\n",
              "      <th>Group</th>\n",
              "      <th>Rate ratio (RR)</th>\n",
              "      <th>Upper CI</th>\n",
              "      <th>Lower CI</th>\n",
              "    </tr>\n",
              "  </thead>\n",
              "  <tbody>\n",
              "    <tr>\n",
              "      <th>0</th>\n",
              "      <td>All</td>\n",
              "      <td>0.99</td>\n",
              "      <td>1.05</td>\n",
              "      <td>0.94</td>\n",
              "    </tr>\n",
              "    <tr>\n",
              "      <th>1</th>\n",
              "      <td>White</td>\n",
              "      <td>1.02</td>\n",
              "      <td>1.09</td>\n",
              "      <td>0.96</td>\n",
              "    </tr>\n",
              "    <tr>\n",
              "      <th>2</th>\n",
              "      <td>Black</td>\n",
              "      <td>0.94</td>\n",
              "      <td>1.18</td>\n",
              "      <td>0.75</td>\n",
              "    </tr>\n",
              "    <tr>\n",
              "      <th>3</th>\n",
              "      <td>Yellow</td>\n",
              "      <td>1.08</td>\n",
              "      <td>1.73</td>\n",
              "      <td>0.68</td>\n",
              "    </tr>\n",
              "    <tr>\n",
              "      <th>4</th>\n",
              "      <td>Brown</td>\n",
              "      <td>0.90</td>\n",
              "      <td>1.06</td>\n",
              "      <td>0.76</td>\n",
              "    </tr>\n",
              "    <tr>\n",
              "      <th>5</th>\n",
              "      <td>Indian</td>\n",
              "      <td>NaN</td>\n",
              "      <td>NaN</td>\n",
              "      <td>NaN</td>\n",
              "    </tr>\n",
              "  </tbody>\n",
              "</table>\n",
              "</div>"
            ],
            "text/plain": [
              "    Group  Rate ratio (RR)  Upper CI  Lower CI\n",
              "0     All             0.99      1.05      0.94\n",
              "1   White             1.02      1.09      0.96\n",
              "2   Black             0.94      1.18      0.75\n",
              "3  Yellow             1.08      1.73      0.68\n",
              "4   Brown             0.90      1.06      0.76\n",
              "5  Indian              NaN       NaN       NaN"
            ]
          },
          "metadata": {},
          "execution_count": 99
        }
      ]
    },
    {
      "cell_type": "markdown",
      "metadata": {
        "id": "ligRmofhDNAy"
      },
      "source": [
        "###**Extreme humidity variation**"
      ]
    },
    {
      "cell_type": "markdown",
      "metadata": {
        "id": "m-bUo4ABDNAz"
      },
      "source": [
        "####**Sex**"
      ]
    },
    {
      "cell_type": "code",
      "metadata": {
        "colab": {
          "base_uri": "https://localhost:8080/",
          "height": 142
        },
        "id": "D5VHnrd9DNA0",
        "outputId": "8e892b25-81a8-4827-86de-749ec9306037"
      },
      "source": [
        "rate_ratio(df, 'sex','above_humidity_range')"
      ],
      "execution_count": null,
      "outputs": [
        {
          "output_type": "execute_result",
          "data": {
            "text/html": [
              "<div>\n",
              "<style scoped>\n",
              "    .dataframe tbody tr th:only-of-type {\n",
              "        vertical-align: middle;\n",
              "    }\n",
              "\n",
              "    .dataframe tbody tr th {\n",
              "        vertical-align: top;\n",
              "    }\n",
              "\n",
              "    .dataframe thead th {\n",
              "        text-align: right;\n",
              "    }\n",
              "</style>\n",
              "<table border=\"1\" class=\"dataframe\">\n",
              "  <thead>\n",
              "    <tr style=\"text-align: right;\">\n",
              "      <th></th>\n",
              "      <th>Group</th>\n",
              "      <th>Rate ratio (RR)</th>\n",
              "      <th>Upper CI</th>\n",
              "      <th>Lower CI</th>\n",
              "    </tr>\n",
              "  </thead>\n",
              "  <tbody>\n",
              "    <tr>\n",
              "      <th>0</th>\n",
              "      <td>All</td>\n",
              "      <td>1.02</td>\n",
              "      <td>1.04</td>\n",
              "      <td>1.00</td>\n",
              "    </tr>\n",
              "    <tr>\n",
              "      <th>1</th>\n",
              "      <td>Women</td>\n",
              "      <td>1.03</td>\n",
              "      <td>1.07</td>\n",
              "      <td>0.99</td>\n",
              "    </tr>\n",
              "    <tr>\n",
              "      <th>2</th>\n",
              "      <td>Men</td>\n",
              "      <td>1.02</td>\n",
              "      <td>1.05</td>\n",
              "      <td>0.99</td>\n",
              "    </tr>\n",
              "  </tbody>\n",
              "</table>\n",
              "</div>"
            ],
            "text/plain": [
              "   Group  Rate ratio (RR)  Upper CI  Lower CI\n",
              "0    All             1.02      1.04      1.00\n",
              "1  Women             1.03      1.07      0.99\n",
              "2    Men             1.02      1.05      0.99"
            ]
          },
          "metadata": {},
          "execution_count": 100
        }
      ]
    },
    {
      "cell_type": "markdown",
      "metadata": {
        "id": "cRoLFp-aDNA1"
      },
      "source": [
        "####**Age**"
      ]
    },
    {
      "cell_type": "code",
      "metadata": {
        "colab": {
          "base_uri": "https://localhost:8080/",
          "height": 204
        },
        "id": "flH_FkewDNA1",
        "outputId": "0ed0a708-d690-4b0e-ee16-79319aec32a2"
      },
      "source": [
        "rate_ratio(df, 'age','above_humidity_range')"
      ],
      "execution_count": null,
      "outputs": [
        {
          "output_type": "execute_result",
          "data": {
            "text/html": [
              "<div>\n",
              "<style scoped>\n",
              "    .dataframe tbody tr th:only-of-type {\n",
              "        vertical-align: middle;\n",
              "    }\n",
              "\n",
              "    .dataframe tbody tr th {\n",
              "        vertical-align: top;\n",
              "    }\n",
              "\n",
              "    .dataframe thead th {\n",
              "        text-align: right;\n",
              "    }\n",
              "</style>\n",
              "<table border=\"1\" class=\"dataframe\">\n",
              "  <thead>\n",
              "    <tr style=\"text-align: right;\">\n",
              "      <th></th>\n",
              "      <th>Group</th>\n",
              "      <th>Rate ratio (RR)</th>\n",
              "      <th>Upper CI</th>\n",
              "      <th>Lower CI</th>\n",
              "    </tr>\n",
              "  </thead>\n",
              "  <tbody>\n",
              "    <tr>\n",
              "      <th>0</th>\n",
              "      <td>All</td>\n",
              "      <td>1.02</td>\n",
              "      <td>1.04</td>\n",
              "      <td>1.00</td>\n",
              "    </tr>\n",
              "    <tr>\n",
              "      <th>1</th>\n",
              "      <td>Between 20 and 40 years old</td>\n",
              "      <td>1.00</td>\n",
              "      <td>1.13</td>\n",
              "      <td>0.88</td>\n",
              "    </tr>\n",
              "    <tr>\n",
              "      <th>2</th>\n",
              "      <td>Between 40 and 65 years old</td>\n",
              "      <td>1.00</td>\n",
              "      <td>1.05</td>\n",
              "      <td>0.96</td>\n",
              "    </tr>\n",
              "    <tr>\n",
              "      <th>3</th>\n",
              "      <td>Above 65 years old</td>\n",
              "      <td>1.02</td>\n",
              "      <td>1.05</td>\n",
              "      <td>0.99</td>\n",
              "    </tr>\n",
              "    <tr>\n",
              "      <th>4</th>\n",
              "      <td>Above 75 years old</td>\n",
              "      <td>1.03</td>\n",
              "      <td>1.07</td>\n",
              "      <td>0.99</td>\n",
              "    </tr>\n",
              "  </tbody>\n",
              "</table>\n",
              "</div>"
            ],
            "text/plain": [
              "                         Group  Rate ratio (RR)  Upper CI  Lower CI\n",
              "0                          All             1.02      1.04      1.00\n",
              "1  Between 20 and 40 years old             1.00      1.13      0.88\n",
              "2  Between 40 and 65 years old             1.00      1.05      0.96\n",
              "3           Above 65 years old             1.02      1.05      0.99\n",
              "4           Above 75 years old             1.03      1.07      0.99"
            ]
          },
          "metadata": {},
          "execution_count": 101
        }
      ]
    },
    {
      "cell_type": "markdown",
      "metadata": {
        "id": "k7AcoWlgDNA2"
      },
      "source": [
        "####**Age and sex**"
      ]
    },
    {
      "cell_type": "code",
      "metadata": {
        "colab": {
          "base_uri": "https://localhost:8080/",
          "height": 204
        },
        "id": "7w0dR_6uDNA3",
        "outputId": "8524106b-4ea5-4ec0-d625-088138424e46"
      },
      "source": [
        "rate_ratio(df, 'age and sex','above_humidity_range')"
      ],
      "execution_count": null,
      "outputs": [
        {
          "output_type": "execute_result",
          "data": {
            "text/html": [
              "<div>\n",
              "<style scoped>\n",
              "    .dataframe tbody tr th:only-of-type {\n",
              "        vertical-align: middle;\n",
              "    }\n",
              "\n",
              "    .dataframe tbody tr th {\n",
              "        vertical-align: top;\n",
              "    }\n",
              "\n",
              "    .dataframe thead th {\n",
              "        text-align: right;\n",
              "    }\n",
              "</style>\n",
              "<table border=\"1\" class=\"dataframe\">\n",
              "  <thead>\n",
              "    <tr style=\"text-align: right;\">\n",
              "      <th></th>\n",
              "      <th>Group</th>\n",
              "      <th>Rate ratio (RR)</th>\n",
              "      <th>Upper CI</th>\n",
              "      <th>Lower CI</th>\n",
              "    </tr>\n",
              "  </thead>\n",
              "  <tbody>\n",
              "    <tr>\n",
              "      <th>0</th>\n",
              "      <td>All</td>\n",
              "      <td>1.02</td>\n",
              "      <td>1.04</td>\n",
              "      <td>1.00</td>\n",
              "    </tr>\n",
              "    <tr>\n",
              "      <th>1</th>\n",
              "      <td>Women between 20 and 65 years old</td>\n",
              "      <td>0.99</td>\n",
              "      <td>1.06</td>\n",
              "      <td>0.92</td>\n",
              "    </tr>\n",
              "    <tr>\n",
              "      <th>2</th>\n",
              "      <td>Men between 20 and 65 years old</td>\n",
              "      <td>0.99</td>\n",
              "      <td>1.04</td>\n",
              "      <td>0.94</td>\n",
              "    </tr>\n",
              "    <tr>\n",
              "      <th>3</th>\n",
              "      <td>Women above 65 years old</td>\n",
              "      <td>1.03</td>\n",
              "      <td>1.07</td>\n",
              "      <td>0.99</td>\n",
              "    </tr>\n",
              "    <tr>\n",
              "      <th>4</th>\n",
              "      <td>Men above 65 years old</td>\n",
              "      <td>1.01</td>\n",
              "      <td>1.05</td>\n",
              "      <td>0.97</td>\n",
              "    </tr>\n",
              "  </tbody>\n",
              "</table>\n",
              "</div>"
            ],
            "text/plain": [
              "                               Group  Rate ratio (RR)  Upper CI  Lower CI\n",
              "0                                All             1.02      1.04      1.00\n",
              "1  Women between 20 and 65 years old             0.99      1.06      0.92\n",
              "2    Men between 20 and 65 years old             0.99      1.04      0.94\n",
              "3           Women above 65 years old             1.03      1.07      0.99\n",
              "4             Men above 65 years old             1.01      1.05      0.97"
            ]
          },
          "metadata": {},
          "execution_count": 102
        }
      ]
    },
    {
      "cell_type": "markdown",
      "metadata": {
        "id": "16SL9XjX5Rc4"
      },
      "source": [
        "####**Race**"
      ]
    },
    {
      "cell_type": "code",
      "metadata": {
        "id": "BXBuGKJd5Rc5",
        "colab": {
          "base_uri": "https://localhost:8080/",
          "height": 235
        },
        "outputId": "6b480547-86d6-4cc3-cc32-d9b4f6a5b7e2"
      },
      "source": [
        "rate_ratio(df, 'race','above_humidity_range')"
      ],
      "execution_count": null,
      "outputs": [
        {
          "output_type": "execute_result",
          "data": {
            "text/html": [
              "<div>\n",
              "<style scoped>\n",
              "    .dataframe tbody tr th:only-of-type {\n",
              "        vertical-align: middle;\n",
              "    }\n",
              "\n",
              "    .dataframe tbody tr th {\n",
              "        vertical-align: top;\n",
              "    }\n",
              "\n",
              "    .dataframe thead th {\n",
              "        text-align: right;\n",
              "    }\n",
              "</style>\n",
              "<table border=\"1\" class=\"dataframe\">\n",
              "  <thead>\n",
              "    <tr style=\"text-align: right;\">\n",
              "      <th></th>\n",
              "      <th>Group</th>\n",
              "      <th>Rate ratio (RR)</th>\n",
              "      <th>Upper CI</th>\n",
              "      <th>Lower CI</th>\n",
              "    </tr>\n",
              "  </thead>\n",
              "  <tbody>\n",
              "    <tr>\n",
              "      <th>0</th>\n",
              "      <td>All</td>\n",
              "      <td>1.02</td>\n",
              "      <td>1.04</td>\n",
              "      <td>1.00</td>\n",
              "    </tr>\n",
              "    <tr>\n",
              "      <th>1</th>\n",
              "      <td>White</td>\n",
              "      <td>1.03</td>\n",
              "      <td>1.06</td>\n",
              "      <td>1.00</td>\n",
              "    </tr>\n",
              "    <tr>\n",
              "      <th>2</th>\n",
              "      <td>Black</td>\n",
              "      <td>1.02</td>\n",
              "      <td>1.12</td>\n",
              "      <td>0.93</td>\n",
              "    </tr>\n",
              "    <tr>\n",
              "      <th>3</th>\n",
              "      <td>Yellow</td>\n",
              "      <td>0.98</td>\n",
              "      <td>1.25</td>\n",
              "      <td>0.77</td>\n",
              "    </tr>\n",
              "    <tr>\n",
              "      <th>4</th>\n",
              "      <td>Brown</td>\n",
              "      <td>0.98</td>\n",
              "      <td>1.05</td>\n",
              "      <td>0.91</td>\n",
              "    </tr>\n",
              "    <tr>\n",
              "      <th>5</th>\n",
              "      <td>Indian</td>\n",
              "      <td>1.00</td>\n",
              "      <td>11.03</td>\n",
              "      <td>0.09</td>\n",
              "    </tr>\n",
              "  </tbody>\n",
              "</table>\n",
              "</div>"
            ],
            "text/plain": [
              "    Group  Rate ratio (RR)  Upper CI  Lower CI\n",
              "0     All             1.02      1.04      1.00\n",
              "1   White             1.03      1.06      1.00\n",
              "2   Black             1.02      1.12      0.93\n",
              "3  Yellow             0.98      1.25      0.77\n",
              "4   Brown             0.98      1.05      0.91\n",
              "5  Indian             1.00     11.03      0.09"
            ]
          },
          "metadata": {},
          "execution_count": 103
        }
      ]
    },
    {
      "cell_type": "markdown",
      "metadata": {
        "id": "uTICs04kDZKk"
      },
      "source": [
        "###**Extreme humidity difference between days**"
      ]
    },
    {
      "cell_type": "markdown",
      "metadata": {
        "id": "lTR-jbAuDZKk"
      },
      "source": [
        "####**Sex**"
      ]
    },
    {
      "cell_type": "code",
      "metadata": {
        "colab": {
          "base_uri": "https://localhost:8080/",
          "height": 142
        },
        "id": "1BKNZSkcDZKl",
        "outputId": "7f7bbedc-65ea-42f7-fd82-82f1b786309e"
      },
      "source": [
        "rate_ratio(df, 'sex','above_humidity_dif')"
      ],
      "execution_count": null,
      "outputs": [
        {
          "output_type": "execute_result",
          "data": {
            "text/html": [
              "<div>\n",
              "<style scoped>\n",
              "    .dataframe tbody tr th:only-of-type {\n",
              "        vertical-align: middle;\n",
              "    }\n",
              "\n",
              "    .dataframe tbody tr th {\n",
              "        vertical-align: top;\n",
              "    }\n",
              "\n",
              "    .dataframe thead th {\n",
              "        text-align: right;\n",
              "    }\n",
              "</style>\n",
              "<table border=\"1\" class=\"dataframe\">\n",
              "  <thead>\n",
              "    <tr style=\"text-align: right;\">\n",
              "      <th></th>\n",
              "      <th>Group</th>\n",
              "      <th>Rate ratio (RR)</th>\n",
              "      <th>Upper CI</th>\n",
              "      <th>Lower CI</th>\n",
              "    </tr>\n",
              "  </thead>\n",
              "  <tbody>\n",
              "    <tr>\n",
              "      <th>0</th>\n",
              "      <td>All</td>\n",
              "      <td>0.99</td>\n",
              "      <td>1.07</td>\n",
              "      <td>0.92</td>\n",
              "    </tr>\n",
              "    <tr>\n",
              "      <th>1</th>\n",
              "      <td>Women</td>\n",
              "      <td>1.00</td>\n",
              "      <td>1.12</td>\n",
              "      <td>0.90</td>\n",
              "    </tr>\n",
              "    <tr>\n",
              "      <th>2</th>\n",
              "      <td>Men</td>\n",
              "      <td>0.94</td>\n",
              "      <td>1.05</td>\n",
              "      <td>0.84</td>\n",
              "    </tr>\n",
              "  </tbody>\n",
              "</table>\n",
              "</div>"
            ],
            "text/plain": [
              "   Group  Rate ratio (RR)  Upper CI  Lower CI\n",
              "0    All             0.99      1.07      0.92\n",
              "1  Women             1.00      1.12      0.90\n",
              "2    Men             0.94      1.05      0.84"
            ]
          },
          "metadata": {},
          "execution_count": 104
        }
      ]
    },
    {
      "cell_type": "markdown",
      "metadata": {
        "id": "q3liwQWjDZKm"
      },
      "source": [
        "####**Age**"
      ]
    },
    {
      "cell_type": "code",
      "metadata": {
        "colab": {
          "base_uri": "https://localhost:8080/",
          "height": 204
        },
        "id": "mZv6TiKRDZKm",
        "outputId": "15ad0d10-7140-4c21-95ce-df81de5d74d1"
      },
      "source": [
        "rate_ratio(df, 'age','above_humidity_dif')"
      ],
      "execution_count": null,
      "outputs": [
        {
          "output_type": "execute_result",
          "data": {
            "text/html": [
              "<div>\n",
              "<style scoped>\n",
              "    .dataframe tbody tr th:only-of-type {\n",
              "        vertical-align: middle;\n",
              "    }\n",
              "\n",
              "    .dataframe tbody tr th {\n",
              "        vertical-align: top;\n",
              "    }\n",
              "\n",
              "    .dataframe thead th {\n",
              "        text-align: right;\n",
              "    }\n",
              "</style>\n",
              "<table border=\"1\" class=\"dataframe\">\n",
              "  <thead>\n",
              "    <tr style=\"text-align: right;\">\n",
              "      <th></th>\n",
              "      <th>Group</th>\n",
              "      <th>Rate ratio (RR)</th>\n",
              "      <th>Upper CI</th>\n",
              "      <th>Lower CI</th>\n",
              "    </tr>\n",
              "  </thead>\n",
              "  <tbody>\n",
              "    <tr>\n",
              "      <th>0</th>\n",
              "      <td>All</td>\n",
              "      <td>0.99</td>\n",
              "      <td>1.07</td>\n",
              "      <td>0.92</td>\n",
              "    </tr>\n",
              "    <tr>\n",
              "      <th>1</th>\n",
              "      <td>Between 20 and 40 years old</td>\n",
              "      <td>0.91</td>\n",
              "      <td>1.43</td>\n",
              "      <td>0.58</td>\n",
              "    </tr>\n",
              "    <tr>\n",
              "      <th>2</th>\n",
              "      <td>Between 40 and 65 years old</td>\n",
              "      <td>0.98</td>\n",
              "      <td>1.13</td>\n",
              "      <td>0.85</td>\n",
              "    </tr>\n",
              "    <tr>\n",
              "      <th>3</th>\n",
              "      <td>Above 65 years old</td>\n",
              "      <td>0.98</td>\n",
              "      <td>1.08</td>\n",
              "      <td>0.89</td>\n",
              "    </tr>\n",
              "    <tr>\n",
              "      <th>4</th>\n",
              "      <td>Above 75 years old</td>\n",
              "      <td>0.96</td>\n",
              "      <td>1.08</td>\n",
              "      <td>0.85</td>\n",
              "    </tr>\n",
              "  </tbody>\n",
              "</table>\n",
              "</div>"
            ],
            "text/plain": [
              "                         Group  Rate ratio (RR)  Upper CI  Lower CI\n",
              "0                          All             0.99      1.07      0.92\n",
              "1  Between 20 and 40 years old             0.91      1.43      0.58\n",
              "2  Between 40 and 65 years old             0.98      1.13      0.85\n",
              "3           Above 65 years old             0.98      1.08      0.89\n",
              "4           Above 75 years old             0.96      1.08      0.85"
            ]
          },
          "metadata": {},
          "execution_count": 105
        }
      ]
    },
    {
      "cell_type": "markdown",
      "metadata": {
        "id": "FOq2rqwrDZKm"
      },
      "source": [
        "####**Age and sex**"
      ]
    },
    {
      "cell_type": "code",
      "metadata": {
        "colab": {
          "base_uri": "https://localhost:8080/",
          "height": 204
        },
        "id": "igYlS6BeDZKn",
        "outputId": "522a16ea-db92-4df8-93bf-6545a618fb20"
      },
      "source": [
        "rate_ratio(df, 'age and sex','above_humidity_dif')"
      ],
      "execution_count": null,
      "outputs": [
        {
          "output_type": "execute_result",
          "data": {
            "text/html": [
              "<div>\n",
              "<style scoped>\n",
              "    .dataframe tbody tr th:only-of-type {\n",
              "        vertical-align: middle;\n",
              "    }\n",
              "\n",
              "    .dataframe tbody tr th {\n",
              "        vertical-align: top;\n",
              "    }\n",
              "\n",
              "    .dataframe thead th {\n",
              "        text-align: right;\n",
              "    }\n",
              "</style>\n",
              "<table border=\"1\" class=\"dataframe\">\n",
              "  <thead>\n",
              "    <tr style=\"text-align: right;\">\n",
              "      <th></th>\n",
              "      <th>Group</th>\n",
              "      <th>Rate ratio (RR)</th>\n",
              "      <th>Upper CI</th>\n",
              "      <th>Lower CI</th>\n",
              "    </tr>\n",
              "  </thead>\n",
              "  <tbody>\n",
              "    <tr>\n",
              "      <th>0</th>\n",
              "      <td>All</td>\n",
              "      <td>0.99</td>\n",
              "      <td>1.07</td>\n",
              "      <td>0.92</td>\n",
              "    </tr>\n",
              "    <tr>\n",
              "      <th>1</th>\n",
              "      <td>Women between 20 and 65 years old</td>\n",
              "      <td>0.93</td>\n",
              "      <td>1.16</td>\n",
              "      <td>0.74</td>\n",
              "    </tr>\n",
              "    <tr>\n",
              "      <th>2</th>\n",
              "      <td>Men between 20 and 65 years old</td>\n",
              "      <td>1.00</td>\n",
              "      <td>1.19</td>\n",
              "      <td>0.84</td>\n",
              "    </tr>\n",
              "    <tr>\n",
              "      <th>3</th>\n",
              "      <td>Women above 65 years old</td>\n",
              "      <td>0.98</td>\n",
              "      <td>1.11</td>\n",
              "      <td>0.86</td>\n",
              "    </tr>\n",
              "    <tr>\n",
              "      <th>4</th>\n",
              "      <td>Men above 65 years old</td>\n",
              "      <td>0.98</td>\n",
              "      <td>1.13</td>\n",
              "      <td>0.85</td>\n",
              "    </tr>\n",
              "  </tbody>\n",
              "</table>\n",
              "</div>"
            ],
            "text/plain": [
              "                               Group  Rate ratio (RR)  Upper CI  Lower CI\n",
              "0                                All             0.99      1.07      0.92\n",
              "1  Women between 20 and 65 years old             0.93      1.16      0.74\n",
              "2    Men between 20 and 65 years old             1.00      1.19      0.84\n",
              "3           Women above 65 years old             0.98      1.11      0.86\n",
              "4             Men above 65 years old             0.98      1.13      0.85"
            ]
          },
          "metadata": {},
          "execution_count": 106
        }
      ]
    },
    {
      "cell_type": "markdown",
      "metadata": {
        "id": "-rPbAdQx5VhT"
      },
      "source": [
        "####**Race**"
      ]
    },
    {
      "cell_type": "code",
      "metadata": {
        "id": "Vf4ytC2Y5VhT",
        "colab": {
          "base_uri": "https://localhost:8080/",
          "height": 269
        },
        "outputId": "97dc931b-6a49-4109-893d-4f090b41ee1a"
      },
      "source": [
        "rate_ratio(df, 'race','above_humidity_dif')"
      ],
      "execution_count": null,
      "outputs": [
        {
          "output_type": "stream",
          "name": "stderr",
          "text": [
            "/usr/local/lib/python3.7/dist-packages/ipykernel_launcher.py:32: RuntimeWarning: invalid value encountered in long_scalars\n",
            "/usr/local/lib/python3.7/dist-packages/ipykernel_launcher.py:33: RuntimeWarning: divide by zero encountered in long_scalars\n"
          ]
        },
        {
          "output_type": "execute_result",
          "data": {
            "text/html": [
              "<div>\n",
              "<style scoped>\n",
              "    .dataframe tbody tr th:only-of-type {\n",
              "        vertical-align: middle;\n",
              "    }\n",
              "\n",
              "    .dataframe tbody tr th {\n",
              "        vertical-align: top;\n",
              "    }\n",
              "\n",
              "    .dataframe thead th {\n",
              "        text-align: right;\n",
              "    }\n",
              "</style>\n",
              "<table border=\"1\" class=\"dataframe\">\n",
              "  <thead>\n",
              "    <tr style=\"text-align: right;\">\n",
              "      <th></th>\n",
              "      <th>Group</th>\n",
              "      <th>Rate ratio (RR)</th>\n",
              "      <th>Upper CI</th>\n",
              "      <th>Lower CI</th>\n",
              "    </tr>\n",
              "  </thead>\n",
              "  <tbody>\n",
              "    <tr>\n",
              "      <th>0</th>\n",
              "      <td>All</td>\n",
              "      <td>0.99</td>\n",
              "      <td>1.07</td>\n",
              "      <td>0.92</td>\n",
              "    </tr>\n",
              "    <tr>\n",
              "      <th>1</th>\n",
              "      <td>White</td>\n",
              "      <td>1.03</td>\n",
              "      <td>1.12</td>\n",
              "      <td>0.95</td>\n",
              "    </tr>\n",
              "    <tr>\n",
              "      <th>2</th>\n",
              "      <td>Black</td>\n",
              "      <td>0.99</td>\n",
              "      <td>1.38</td>\n",
              "      <td>0.71</td>\n",
              "    </tr>\n",
              "    <tr>\n",
              "      <th>3</th>\n",
              "      <td>Yellow</td>\n",
              "      <td>0.95</td>\n",
              "      <td>1.83</td>\n",
              "      <td>0.49</td>\n",
              "    </tr>\n",
              "    <tr>\n",
              "      <th>4</th>\n",
              "      <td>Brown</td>\n",
              "      <td>0.86</td>\n",
              "      <td>1.10</td>\n",
              "      <td>0.67</td>\n",
              "    </tr>\n",
              "    <tr>\n",
              "      <th>5</th>\n",
              "      <td>Indian</td>\n",
              "      <td>NaN</td>\n",
              "      <td>NaN</td>\n",
              "      <td>NaN</td>\n",
              "    </tr>\n",
              "  </tbody>\n",
              "</table>\n",
              "</div>"
            ],
            "text/plain": [
              "    Group  Rate ratio (RR)  Upper CI  Lower CI\n",
              "0     All             0.99      1.07      0.92\n",
              "1   White             1.03      1.12      0.95\n",
              "2   Black             0.99      1.38      0.71\n",
              "3  Yellow             0.95      1.83      0.49\n",
              "4   Brown             0.86      1.10      0.67\n",
              "5  Indian              NaN       NaN       NaN"
            ]
          },
          "metadata": {},
          "execution_count": 107
        }
      ]
    },
    {
      "cell_type": "markdown",
      "metadata": {
        "id": "VfAfCy7N-w-y"
      },
      "source": [
        "## **References**\n",
        "\n",
        "CENTERS FOR DISEASE CONTROL AND PREVENTION (CDC).Principles ofEpidemiology in Public Health Practice, Third Edition An Introduction to AppliedEpidemiology and Biostatistics. Available at: <https://www.cdc.gov/csels/dsepd/ss1978/lesson3/section5.html>\n",
        "\n",
        "\n",
        "BOSTON UNIVERSITY SCHOOL OF PUBLIC HEALTH (SPH).Rate Ratios. Available at: <https://sphweb.bumc.bu.edu/otlt/MPH-Modules/PH717-QuantCore/PH717_ComparingFrequencies/PH717_ComparingFrequencies9.html>.\n",
        "\n",
        "\n"
      ]
    }
  ]
}